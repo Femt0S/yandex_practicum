{
 "cells": [
  {
   "cell_type": "markdown",
   "metadata": {},
   "source": [
    "# Определение стоимости автомобилей"
   ]
  },
  {
   "cell_type": "markdown",
   "metadata": {},
   "source": [
    "Сервис по продаже автомобилей с пробегом «Не бит, не крашен» разрабатывает приложение для привлечения новых клиентов. В нём можно быстро узнать рыночную стоимость своего автомобиля. В вашем распоряжении исторические данные: технические характеристики, комплектации и цены автомобилей. Вам нужно построить модель для определения стоимости. \n",
    "\n",
    "Заказчику важны:\n",
    "\n",
    "- качество предсказания;\n",
    "- скорость предсказания;\n",
    "- время обучения."
   ]
  },
  {
   "cell_type": "markdown",
   "metadata": {},
   "source": [
    "## Подготовка данных"
   ]
  },
  {
   "cell_type": "markdown",
   "metadata": {},
   "source": [
    "Загрузим необходимые библиотеки:"
   ]
  },
  {
   "cell_type": "code",
   "execution_count": 1,
   "metadata": {},
   "outputs": [],
   "source": [
    "import pandas as pd\n",
    "import numpy as np\n",
    "import matplotlib.pyplot as plt\n",
    "import seaborn as sns\n",
    "from datetime import datetime\n",
    "\n",
    "from sklearn.linear_model import LinearRegression\n",
    "from sklearn.ensemble import RandomForestRegressor\n",
    "import lightgbm as lgb\n",
    "from sklearn.dummy import DummyRegressor\n",
    "from catboost import CatBoostRegressor\n",
    "\n",
    "from sklearn.model_selection import train_test_split, GridSearchCV\n",
    "from sklearn.preprocessing import StandardScaler, OrdinalEncoder\n",
    "\n",
    "from sklearn.metrics import mean_squared_error, make_scorer"
   ]
  },
  {
   "cell_type": "markdown",
   "metadata": {},
   "source": [
    "Зададим параметры вывода в оформительских целях:"
   ]
  },
  {
   "cell_type": "code",
   "execution_count": 2,
   "metadata": {},
   "outputs": [],
   "source": [
    "pd.set_option('display.float_format', '{:,.2f}'.format)\n",
    "sns.set(rc={'figure.figsize':(17,4)})"
   ]
  },
  {
   "cell_type": "markdown",
   "metadata": {},
   "source": [
    "Прочитаем данные из файла `*.csv`"
   ]
  },
  {
   "cell_type": "code",
   "execution_count": 3,
   "metadata": {},
   "outputs": [],
   "source": [
    "data = pd.read_csv('.\\\\datasets\\\\autos.csv',  sep=',')"
   ]
  },
  {
   "cell_type": "markdown",
   "metadata": {},
   "source": [
    "### Обзор данных\n",
    "Краткий обзор загруженных данных:"
   ]
  },
  {
   "cell_type": "code",
   "execution_count": 4,
   "metadata": {},
   "outputs": [
    {
     "data": {
      "text/html": [
       "<div>\n",
       "<style scoped>\n",
       "    .dataframe tbody tr th:only-of-type {\n",
       "        vertical-align: middle;\n",
       "    }\n",
       "\n",
       "    .dataframe tbody tr th {\n",
       "        vertical-align: top;\n",
       "    }\n",
       "\n",
       "    .dataframe thead th {\n",
       "        text-align: right;\n",
       "    }\n",
       "</style>\n",
       "<table border=\"1\" class=\"dataframe\">\n",
       "  <thead>\n",
       "    <tr style=\"text-align: right;\">\n",
       "      <th></th>\n",
       "      <th>DateCrawled</th>\n",
       "      <th>Price</th>\n",
       "      <th>VehicleType</th>\n",
       "      <th>RegistrationYear</th>\n",
       "      <th>Gearbox</th>\n",
       "      <th>Power</th>\n",
       "      <th>Model</th>\n",
       "      <th>Kilometer</th>\n",
       "      <th>RegistrationMonth</th>\n",
       "      <th>FuelType</th>\n",
       "      <th>Brand</th>\n",
       "      <th>NotRepaired</th>\n",
       "      <th>DateCreated</th>\n",
       "      <th>NumberOfPictures</th>\n",
       "      <th>PostalCode</th>\n",
       "      <th>LastSeen</th>\n",
       "    </tr>\n",
       "  </thead>\n",
       "  <tbody>\n",
       "    <tr>\n",
       "      <th>0</th>\n",
       "      <td>2016-03-24 11:52:17</td>\n",
       "      <td>480</td>\n",
       "      <td>NaN</td>\n",
       "      <td>1993</td>\n",
       "      <td>manual</td>\n",
       "      <td>0</td>\n",
       "      <td>golf</td>\n",
       "      <td>150000</td>\n",
       "      <td>0</td>\n",
       "      <td>petrol</td>\n",
       "      <td>volkswagen</td>\n",
       "      <td>NaN</td>\n",
       "      <td>2016-03-24 00:00:00</td>\n",
       "      <td>0</td>\n",
       "      <td>70435</td>\n",
       "      <td>2016-04-07 03:16:57</td>\n",
       "    </tr>\n",
       "    <tr>\n",
       "      <th>1</th>\n",
       "      <td>2016-03-24 10:58:45</td>\n",
       "      <td>18300</td>\n",
       "      <td>coupe</td>\n",
       "      <td>2011</td>\n",
       "      <td>manual</td>\n",
       "      <td>190</td>\n",
       "      <td>NaN</td>\n",
       "      <td>125000</td>\n",
       "      <td>5</td>\n",
       "      <td>gasoline</td>\n",
       "      <td>audi</td>\n",
       "      <td>yes</td>\n",
       "      <td>2016-03-24 00:00:00</td>\n",
       "      <td>0</td>\n",
       "      <td>66954</td>\n",
       "      <td>2016-04-07 01:46:50</td>\n",
       "    </tr>\n",
       "  </tbody>\n",
       "</table>\n",
       "</div>"
      ],
      "text/plain": [
       "           DateCrawled  Price VehicleType  RegistrationYear Gearbox  Power  \\\n",
       "0  2016-03-24 11:52:17    480         NaN              1993  manual      0   \n",
       "1  2016-03-24 10:58:45  18300       coupe              2011  manual    190   \n",
       "\n",
       "  Model  Kilometer  RegistrationMonth  FuelType       Brand NotRepaired  \\\n",
       "0  golf     150000                  0    petrol  volkswagen         NaN   \n",
       "1   NaN     125000                  5  gasoline        audi         yes   \n",
       "\n",
       "           DateCreated  NumberOfPictures  PostalCode             LastSeen  \n",
       "0  2016-03-24 00:00:00                 0       70435  2016-04-07 03:16:57  \n",
       "1  2016-03-24 00:00:00                 0       66954  2016-04-07 01:46:50  "
      ]
     },
     "execution_count": 4,
     "metadata": {},
     "output_type": "execute_result"
    }
   ],
   "source": [
    "data.head(2)"
   ]
  },
  {
   "cell_type": "code",
   "execution_count": 5,
   "metadata": {
    "scrolled": false
   },
   "outputs": [
    {
     "name": "stdout",
     "output_type": "stream",
     "text": [
      "<class 'pandas.core.frame.DataFrame'>\n",
      "RangeIndex: 354369 entries, 0 to 354368\n",
      "Data columns (total 16 columns):\n",
      " #   Column             Non-Null Count   Dtype \n",
      "---  ------             --------------   ----- \n",
      " 0   DateCrawled        354369 non-null  object\n",
      " 1   Price              354369 non-null  int64 \n",
      " 2   VehicleType        316879 non-null  object\n",
      " 3   RegistrationYear   354369 non-null  int64 \n",
      " 4   Gearbox            334536 non-null  object\n",
      " 5   Power              354369 non-null  int64 \n",
      " 6   Model              334664 non-null  object\n",
      " 7   Kilometer          354369 non-null  int64 \n",
      " 8   RegistrationMonth  354369 non-null  int64 \n",
      " 9   FuelType           321474 non-null  object\n",
      " 10  Brand              354369 non-null  object\n",
      " 11  NotRepaired        283215 non-null  object\n",
      " 12  DateCreated        354369 non-null  object\n",
      " 13  NumberOfPictures   354369 non-null  int64 \n",
      " 14  PostalCode         354369 non-null  int64 \n",
      " 15  LastSeen           354369 non-null  object\n",
      "dtypes: int64(7), object(9)\n",
      "memory usage: 43.3+ MB\n"
     ]
    }
   ],
   "source": [
    "data.info()"
   ]
  },
  {
   "cell_type": "code",
   "execution_count": 6,
   "metadata": {
    "scrolled": false
   },
   "outputs": [
    {
     "data": {
      "text/html": [
       "<div>\n",
       "<style scoped>\n",
       "    .dataframe tbody tr th:only-of-type {\n",
       "        vertical-align: middle;\n",
       "    }\n",
       "\n",
       "    .dataframe tbody tr th {\n",
       "        vertical-align: top;\n",
       "    }\n",
       "\n",
       "    .dataframe thead th {\n",
       "        text-align: right;\n",
       "    }\n",
       "</style>\n",
       "<table border=\"1\" class=\"dataframe\">\n",
       "  <thead>\n",
       "    <tr style=\"text-align: right;\">\n",
       "      <th></th>\n",
       "      <th>Price</th>\n",
       "      <th>RegistrationYear</th>\n",
       "      <th>Power</th>\n",
       "      <th>Kilometer</th>\n",
       "      <th>RegistrationMonth</th>\n",
       "      <th>NumberOfPictures</th>\n",
       "      <th>PostalCode</th>\n",
       "    </tr>\n",
       "  </thead>\n",
       "  <tbody>\n",
       "    <tr>\n",
       "      <th>count</th>\n",
       "      <td>354,369.00</td>\n",
       "      <td>354,369.00</td>\n",
       "      <td>354,369.00</td>\n",
       "      <td>354,369.00</td>\n",
       "      <td>354,369.00</td>\n",
       "      <td>354,369.00</td>\n",
       "      <td>354,369.00</td>\n",
       "    </tr>\n",
       "    <tr>\n",
       "      <th>mean</th>\n",
       "      <td>4,416.66</td>\n",
       "      <td>2,004.23</td>\n",
       "      <td>110.09</td>\n",
       "      <td>128,211.17</td>\n",
       "      <td>5.71</td>\n",
       "      <td>0.00</td>\n",
       "      <td>50,508.69</td>\n",
       "    </tr>\n",
       "    <tr>\n",
       "      <th>std</th>\n",
       "      <td>4,514.16</td>\n",
       "      <td>90.23</td>\n",
       "      <td>189.85</td>\n",
       "      <td>37,905.34</td>\n",
       "      <td>3.73</td>\n",
       "      <td>0.00</td>\n",
       "      <td>25,783.10</td>\n",
       "    </tr>\n",
       "    <tr>\n",
       "      <th>min</th>\n",
       "      <td>0.00</td>\n",
       "      <td>1,000.00</td>\n",
       "      <td>0.00</td>\n",
       "      <td>5,000.00</td>\n",
       "      <td>0.00</td>\n",
       "      <td>0.00</td>\n",
       "      <td>1,067.00</td>\n",
       "    </tr>\n",
       "    <tr>\n",
       "      <th>25%</th>\n",
       "      <td>1,050.00</td>\n",
       "      <td>1,999.00</td>\n",
       "      <td>69.00</td>\n",
       "      <td>125,000.00</td>\n",
       "      <td>3.00</td>\n",
       "      <td>0.00</td>\n",
       "      <td>30,165.00</td>\n",
       "    </tr>\n",
       "    <tr>\n",
       "      <th>50%</th>\n",
       "      <td>2,700.00</td>\n",
       "      <td>2,003.00</td>\n",
       "      <td>105.00</td>\n",
       "      <td>150,000.00</td>\n",
       "      <td>6.00</td>\n",
       "      <td>0.00</td>\n",
       "      <td>49,413.00</td>\n",
       "    </tr>\n",
       "    <tr>\n",
       "      <th>75%</th>\n",
       "      <td>6,400.00</td>\n",
       "      <td>2,008.00</td>\n",
       "      <td>143.00</td>\n",
       "      <td>150,000.00</td>\n",
       "      <td>9.00</td>\n",
       "      <td>0.00</td>\n",
       "      <td>71,083.00</td>\n",
       "    </tr>\n",
       "    <tr>\n",
       "      <th>max</th>\n",
       "      <td>20,000.00</td>\n",
       "      <td>9,999.00</td>\n",
       "      <td>20,000.00</td>\n",
       "      <td>150,000.00</td>\n",
       "      <td>12.00</td>\n",
       "      <td>0.00</td>\n",
       "      <td>99,998.00</td>\n",
       "    </tr>\n",
       "  </tbody>\n",
       "</table>\n",
       "</div>"
      ],
      "text/plain": [
       "           Price  RegistrationYear      Power  Kilometer  RegistrationMonth  \\\n",
       "count 354,369.00        354,369.00 354,369.00 354,369.00         354,369.00   \n",
       "mean    4,416.66          2,004.23     110.09 128,211.17               5.71   \n",
       "std     4,514.16             90.23     189.85  37,905.34               3.73   \n",
       "min         0.00          1,000.00       0.00   5,000.00               0.00   \n",
       "25%     1,050.00          1,999.00      69.00 125,000.00               3.00   \n",
       "50%     2,700.00          2,003.00     105.00 150,000.00               6.00   \n",
       "75%     6,400.00          2,008.00     143.00 150,000.00               9.00   \n",
       "max    20,000.00          9,999.00  20,000.00 150,000.00              12.00   \n",
       "\n",
       "       NumberOfPictures  PostalCode  \n",
       "count        354,369.00  354,369.00  \n",
       "mean               0.00   50,508.69  \n",
       "std                0.00   25,783.10  \n",
       "min                0.00    1,067.00  \n",
       "25%                0.00   30,165.00  \n",
       "50%                0.00   49,413.00  \n",
       "75%                0.00   71,083.00  \n",
       "max                0.00   99,998.00  "
      ]
     },
     "execution_count": 6,
     "metadata": {},
     "output_type": "execute_result"
    }
   ],
   "source": [
    "data.describe()"
   ]
  },
  {
   "cell_type": "markdown",
   "metadata": {},
   "source": [
    "Оценим количество пропусков по столбцам:"
   ]
  },
  {
   "cell_type": "code",
   "execution_count": 7,
   "metadata": {},
   "outputs": [
    {
     "data": {
      "text/html": [
       "<style type=\"text/css\">\n",
       "#T_dac89_row0_col0, #T_dac89_row1_col0, #T_dac89_row3_col0, #T_dac89_row5_col0, #T_dac89_row7_col0, #T_dac89_row8_col0, #T_dac89_row10_col0, #T_dac89_row12_col0, #T_dac89_row13_col0, #T_dac89_row14_col0, #T_dac89_row15_col0 {\n",
       "  background-color: #3b4cc0;\n",
       "  color: #f1f1f1;\n",
       "}\n",
       "#T_dac89_row2_col0 {\n",
       "  background-color: #e3d9d3;\n",
       "  color: #000000;\n",
       "}\n",
       "#T_dac89_row4_col0 {\n",
       "  background-color: #97b8ff;\n",
       "  color: #000000;\n",
       "}\n",
       "#T_dac89_row6_col0 {\n",
       "  background-color: #96b7ff;\n",
       "  color: #000000;\n",
       "}\n",
       "#T_dac89_row9_col0 {\n",
       "  background-color: #d3dbe7;\n",
       "  color: #000000;\n",
       "}\n",
       "#T_dac89_row11_col0 {\n",
       "  background-color: #b40426;\n",
       "  color: #f1f1f1;\n",
       "}\n",
       "</style>\n",
       "<table id=\"T_dac89_\">\n",
       "  <thead>\n",
       "    <tr>\n",
       "      <th class=\"blank level0\" >&nbsp;</th>\n",
       "      <th class=\"col_heading level0 col0\" >0</th>\n",
       "    </tr>\n",
       "  </thead>\n",
       "  <tbody>\n",
       "    <tr>\n",
       "      <th id=\"T_dac89_level0_row0\" class=\"row_heading level0 row0\" >DateCrawled</th>\n",
       "      <td id=\"T_dac89_row0_col0\" class=\"data row0 col0\" >0.000000</td>\n",
       "    </tr>\n",
       "    <tr>\n",
       "      <th id=\"T_dac89_level0_row1\" class=\"row_heading level0 row1\" >Price</th>\n",
       "      <td id=\"T_dac89_row1_col0\" class=\"data row1 col0\" >0.000000</td>\n",
       "    </tr>\n",
       "    <tr>\n",
       "      <th id=\"T_dac89_level0_row2\" class=\"row_heading level0 row2\" >VehicleType</th>\n",
       "      <td id=\"T_dac89_row2_col0\" class=\"data row2 col0\" >10.580000</td>\n",
       "    </tr>\n",
       "    <tr>\n",
       "      <th id=\"T_dac89_level0_row3\" class=\"row_heading level0 row3\" >RegistrationYear</th>\n",
       "      <td id=\"T_dac89_row3_col0\" class=\"data row3 col0\" >0.000000</td>\n",
       "    </tr>\n",
       "    <tr>\n",
       "      <th id=\"T_dac89_level0_row4\" class=\"row_heading level0 row4\" >Gearbox</th>\n",
       "      <td id=\"T_dac89_row4_col0\" class=\"data row4 col0\" >5.600000</td>\n",
       "    </tr>\n",
       "    <tr>\n",
       "      <th id=\"T_dac89_level0_row5\" class=\"row_heading level0 row5\" >Power</th>\n",
       "      <td id=\"T_dac89_row5_col0\" class=\"data row5 col0\" >0.000000</td>\n",
       "    </tr>\n",
       "    <tr>\n",
       "      <th id=\"T_dac89_level0_row6\" class=\"row_heading level0 row6\" >Model</th>\n",
       "      <td id=\"T_dac89_row6_col0\" class=\"data row6 col0\" >5.560000</td>\n",
       "    </tr>\n",
       "    <tr>\n",
       "      <th id=\"T_dac89_level0_row7\" class=\"row_heading level0 row7\" >Kilometer</th>\n",
       "      <td id=\"T_dac89_row7_col0\" class=\"data row7 col0\" >0.000000</td>\n",
       "    </tr>\n",
       "    <tr>\n",
       "      <th id=\"T_dac89_level0_row8\" class=\"row_heading level0 row8\" >RegistrationMonth</th>\n",
       "      <td id=\"T_dac89_row8_col0\" class=\"data row8 col0\" >0.000000</td>\n",
       "    </tr>\n",
       "    <tr>\n",
       "      <th id=\"T_dac89_level0_row9\" class=\"row_heading level0 row9\" >FuelType</th>\n",
       "      <td id=\"T_dac89_row9_col0\" class=\"data row9 col0\" >9.280000</td>\n",
       "    </tr>\n",
       "    <tr>\n",
       "      <th id=\"T_dac89_level0_row10\" class=\"row_heading level0 row10\" >Brand</th>\n",
       "      <td id=\"T_dac89_row10_col0\" class=\"data row10 col0\" >0.000000</td>\n",
       "    </tr>\n",
       "    <tr>\n",
       "      <th id=\"T_dac89_level0_row11\" class=\"row_heading level0 row11\" >NotRepaired</th>\n",
       "      <td id=\"T_dac89_row11_col0\" class=\"data row11 col0\" >20.080000</td>\n",
       "    </tr>\n",
       "    <tr>\n",
       "      <th id=\"T_dac89_level0_row12\" class=\"row_heading level0 row12\" >DateCreated</th>\n",
       "      <td id=\"T_dac89_row12_col0\" class=\"data row12 col0\" >0.000000</td>\n",
       "    </tr>\n",
       "    <tr>\n",
       "      <th id=\"T_dac89_level0_row13\" class=\"row_heading level0 row13\" >NumberOfPictures</th>\n",
       "      <td id=\"T_dac89_row13_col0\" class=\"data row13 col0\" >0.000000</td>\n",
       "    </tr>\n",
       "    <tr>\n",
       "      <th id=\"T_dac89_level0_row14\" class=\"row_heading level0 row14\" >PostalCode</th>\n",
       "      <td id=\"T_dac89_row14_col0\" class=\"data row14 col0\" >0.000000</td>\n",
       "    </tr>\n",
       "    <tr>\n",
       "      <th id=\"T_dac89_level0_row15\" class=\"row_heading level0 row15\" >LastSeen</th>\n",
       "      <td id=\"T_dac89_row15_col0\" class=\"data row15 col0\" >0.000000</td>\n",
       "    </tr>\n",
       "  </tbody>\n",
       "</table>\n"
      ],
      "text/plain": [
       "<pandas.io.formats.style.Styler at 0x2329fc0b9a0>"
      ]
     },
     "execution_count": 7,
     "metadata": {},
     "output_type": "execute_result"
    }
   ],
   "source": [
    "pd.DataFrame(round((data.isna().mean()*100),2)).style.background_gradient('coolwarm')"
   ]
  },
  {
   "cell_type": "markdown",
   "metadata": {},
   "source": [
    "Описание признаков в соответствии с исходными данными:\n",
    "\n",
    "- `DateCrawled` — дата скачивания анкеты из базы, строковый параметр, для моделирования не требуется, следовательно не требует и обработки;\n",
    "- `VehicleType` — тип автомобильного кузова, ~**37.5 тысяч** пропусков;\n",
    "- `RegistrationYear` — год регистрации автомобиля, пропуски отсутствуют, есть невозможны выбросы от 1000 года до 9999, подлежит исправлению;\n",
    "- `Gearbox` — тип коробки передач, ~**20 тысяч** пропусков;\n",
    "- `Power` — мощность (л. с.), пропуски отсутствуют;\n",
    "- `Model` — модель автомобиля, ~**20 тысяч** пропусков;\n",
    "- `Kilometer` — пробег (км), пропуски отсутствуют;\n",
    "- `RegistrationMonth` — месяц регистрации автомобиля, пропуски отсутствуют;\n",
    "- `FuelType` — тип топлива, ~**33 тысячи** пропусков;\n",
    "- `Brand` — марка автомобиля, пропуски отсутствуют;\n",
    "- `NotRepaired` — была машина в ремонте или нет, ~**71 тысяча** пропусков;\n",
    "- `DateCreated` — дата создания анкеты, строковый параметр, для моделирования не требуется, следовательно не требует и обработки;\n",
    "- `NumberOfPictures` — количество фотографий автомобиля, все значения равны 0, не требуется и подлежит удалению;\n",
    "- `PostalCode` — почтовый индекс владельца анкеты (пользователя), по сути - описывает географию объявлений, и может иметь смысл в формате кластеризации, но в рамках данной задачи при использовании напрямую может вызывать ненужные ошибки;\n",
    "- `LastSeen` — дата последней активности пользователя, для моделирования не требуется, следовательно не требует и обработки;\n",
    "\n",
    "Целевой признак\n",
    "- `Price` — цена (евро)"
   ]
  },
  {
   "cell_type": "markdown",
   "metadata": {},
   "source": [
    "### Обработка пропусков\n",
    "\n",
    "Для определения стратегии заполнения пропусков, рассмотрим сводную таблицу по брендам:"
   ]
  },
  {
   "cell_type": "code",
   "execution_count": 8,
   "metadata": {},
   "outputs": [
    {
     "data": {
      "text/html": [
       "<div>\n",
       "<style scoped>\n",
       "    .dataframe tbody tr th:only-of-type {\n",
       "        vertical-align: middle;\n",
       "    }\n",
       "\n",
       "    .dataframe tbody tr th {\n",
       "        vertical-align: top;\n",
       "    }\n",
       "\n",
       "    .dataframe thead tr th {\n",
       "        text-align: left;\n",
       "    }\n",
       "\n",
       "    .dataframe thead tr:last-of-type th {\n",
       "        text-align: right;\n",
       "    }\n",
       "</style>\n",
       "<table border=\"1\" class=\"dataframe\">\n",
       "  <thead>\n",
       "    <tr>\n",
       "      <th></th>\n",
       "      <th>median</th>\n",
       "      <th>count</th>\n",
       "    </tr>\n",
       "    <tr>\n",
       "      <th></th>\n",
       "      <th>Price</th>\n",
       "      <th>Price</th>\n",
       "    </tr>\n",
       "    <tr>\n",
       "      <th>Brand</th>\n",
       "      <th></th>\n",
       "      <th></th>\n",
       "    </tr>\n",
       "  </thead>\n",
       "  <tbody>\n",
       "    <tr>\n",
       "      <th>volkswagen</th>\n",
       "      <td>2,699.00</td>\n",
       "      <td>77013</td>\n",
       "    </tr>\n",
       "    <tr>\n",
       "      <th>opel</th>\n",
       "      <td>1,500.00</td>\n",
       "      <td>39931</td>\n",
       "    </tr>\n",
       "    <tr>\n",
       "      <th>bmw</th>\n",
       "      <td>4,799.00</td>\n",
       "      <td>36914</td>\n",
       "    </tr>\n",
       "  </tbody>\n",
       "</table>\n",
       "</div>"
      ],
      "text/plain": [
       "             median  count\n",
       "              Price  Price\n",
       "Brand                     \n",
       "volkswagen 2,699.00  77013\n",
       "opel       1,500.00  39931\n",
       "bmw        4,799.00  36914"
      ]
     },
     "execution_count": 8,
     "metadata": {},
     "output_type": "execute_result"
    }
   ],
   "source": [
    "data.pivot_table(\n",
    "    index=['Brand'],\n",
    "    values=['Price'],\n",
    "    aggfunc=['median', 'count']\n",
    ").sort_values(('count', 'Price'), ascending=False).head(3)"
   ]
  },
  {
   "cell_type": "markdown",
   "metadata": {},
   "source": [
    "Первое место уверенно занимает бренд ***Volkswagen***, расммотрим распределение по моделям:"
   ]
  },
  {
   "cell_type": "code",
   "execution_count": 9,
   "metadata": {},
   "outputs": [
    {
     "data": {
      "text/html": [
       "<div>\n",
       "<style scoped>\n",
       "    .dataframe tbody tr th:only-of-type {\n",
       "        vertical-align: middle;\n",
       "    }\n",
       "\n",
       "    .dataframe tbody tr th {\n",
       "        vertical-align: top;\n",
       "    }\n",
       "\n",
       "    .dataframe thead tr th {\n",
       "        text-align: left;\n",
       "    }\n",
       "\n",
       "    .dataframe thead tr:last-of-type th {\n",
       "        text-align: right;\n",
       "    }\n",
       "</style>\n",
       "<table border=\"1\" class=\"dataframe\">\n",
       "  <thead>\n",
       "    <tr>\n",
       "      <th></th>\n",
       "      <th></th>\n",
       "      <th>median</th>\n",
       "      <th>count</th>\n",
       "    </tr>\n",
       "    <tr>\n",
       "      <th></th>\n",
       "      <th></th>\n",
       "      <th>Price</th>\n",
       "      <th>Price</th>\n",
       "    </tr>\n",
       "    <tr>\n",
       "      <th>Brand</th>\n",
       "      <th>Model</th>\n",
       "      <th></th>\n",
       "      <th></th>\n",
       "    </tr>\n",
       "  </thead>\n",
       "  <tbody>\n",
       "    <tr>\n",
       "      <th rowspan=\"11\" valign=\"top\">volkswagen</th>\n",
       "      <th>golf</th>\n",
       "      <td>2,450.00</td>\n",
       "      <td>29232</td>\n",
       "    </tr>\n",
       "    <tr>\n",
       "      <th>polo</th>\n",
       "      <td>1,350.00</td>\n",
       "      <td>13066</td>\n",
       "    </tr>\n",
       "    <tr>\n",
       "      <th>passat</th>\n",
       "      <td>3,000.00</td>\n",
       "      <td>10146</td>\n",
       "    </tr>\n",
       "    <tr>\n",
       "      <th>transporter</th>\n",
       "      <td>5,300.00</td>\n",
       "      <td>4822</td>\n",
       "    </tr>\n",
       "    <tr>\n",
       "      <th>touran</th>\n",
       "      <td>5,900.00</td>\n",
       "      <td>3470</td>\n",
       "    </tr>\n",
       "    <tr>\n",
       "      <th>lupo</th>\n",
       "      <td>1,299.00</td>\n",
       "      <td>2594</td>\n",
       "    </tr>\n",
       "    <tr>\n",
       "      <th>caddy</th>\n",
       "      <td>5,100.00</td>\n",
       "      <td>1595</td>\n",
       "    </tr>\n",
       "    <tr>\n",
       "      <th>sharan</th>\n",
       "      <td>3,500.00</td>\n",
       "      <td>1483</td>\n",
       "    </tr>\n",
       "    <tr>\n",
       "      <th>bora</th>\n",
       "      <td>2,350.00</td>\n",
       "      <td>872</td>\n",
       "    </tr>\n",
       "    <tr>\n",
       "      <th>beetle</th>\n",
       "      <td>4,999.00</td>\n",
       "      <td>815</td>\n",
       "    </tr>\n",
       "    <tr>\n",
       "      <th>other</th>\n",
       "      <td>3,000.00</td>\n",
       "      <td>768</td>\n",
       "    </tr>\n",
       "  </tbody>\n",
       "</table>\n",
       "</div>"
      ],
      "text/plain": [
       "                         median  count\n",
       "                          Price  Price\n",
       "Brand      Model                      \n",
       "volkswagen golf        2,450.00  29232\n",
       "           polo        1,350.00  13066\n",
       "           passat      3,000.00  10146\n",
       "           transporter 5,300.00   4822\n",
       "           touran      5,900.00   3470\n",
       "           lupo        1,299.00   2594\n",
       "           caddy       5,100.00   1595\n",
       "           sharan      3,500.00   1483\n",
       "           bora        2,350.00    872\n",
       "           beetle      4,999.00    815\n",
       "           other       3,000.00    768"
      ]
     },
     "execution_count": 9,
     "metadata": {},
     "output_type": "execute_result"
    }
   ],
   "source": [
    "data.pivot_table(\n",
    "    index=['Brand', 'Model'],\n",
    "    values=['Price'],\n",
    "    aggfunc=['median', 'count']\n",
    ").loc[['volkswagen']].sort_values(('count', 'Price'), ascending=False).head(11)"
   ]
  },
  {
   "cell_type": "markdown",
   "metadata": {},
   "source": [
    "Наблюдается значение модели **other**, но оно встречается в почти 40 раз реже, чем наиболее популярная модель **golf**.\n",
    "\n",
    "Аналогичная зависимость наблюдается и по другим брендам."
   ]
  },
  {
   "cell_type": "code",
   "execution_count": 10,
   "metadata": {},
   "outputs": [
    {
     "data": {
      "text/plain": [
       "golf     29232\n",
       "other    24421\n",
       "3er      19761\n",
       "Name: Model, dtype: int64"
      ]
     },
     "execution_count": 10,
     "metadata": {},
     "output_type": "execute_result"
    }
   ],
   "source": [
    "data['Model'].value_counts().head(3)"
   ]
  },
  {
   "cell_type": "markdown",
   "metadata": {},
   "source": [
    "При этом, количество значений **other** в общем по данным составляет значительное количество (**24421**). Следовательно, заполнение пропусков этим значением приведёт к значительным искажениям. \n",
    "\n",
    "Принимаем метод заполнения модой с группировкой по бренду:\n",
    "\n",
    "    df['X'] = df.groupby('Y')['X'].transform(lambda x: x.fillna(x.mode()[0])\n",
    "\n",
    "Напрямую применение этого метода не срабатывает, так как в данных есть бренд с полностью отсутсвующим значением столбца `Model`:"
   ]
  },
  {
   "cell_type": "code",
   "execution_count": 11,
   "metadata": {},
   "outputs": [
    {
     "data": {
      "text/plain": [
       "{'sonstige_autos'}"
      ]
     },
     "execution_count": 11,
     "metadata": {},
     "output_type": "execute_result"
    }
   ],
   "source": [
    "set(data['Brand'].value_counts().to_dict()) \\\n",
    "- set(data.dropna(subset=['Model'])['Brand'].value_counts().to_dict())"
   ]
  },
  {
   "cell_type": "markdown",
   "metadata": {},
   "source": [
    "Заменим все значения столбца `Model` бренда ***sonstige_autos*** (нем. \"Другие автомобили\") на значение **other**, так как в данном случае оно подходит как нельзя лучше."
   ]
  },
  {
   "cell_type": "code",
   "execution_count": 12,
   "metadata": {
    "scrolled": true
   },
   "outputs": [],
   "source": [
    "data.loc[data['Brand'] == \"sonstige_autos\", 'Model'] = \"other\""
   ]
  },
  {
   "cell_type": "markdown",
   "metadata": {},
   "source": [
    "Воспользоуемся вышеупомянутым способом для заполнения таких параметров как модель, тип КПП и тип топлива:"
   ]
  },
  {
   "cell_type": "code",
   "execution_count": 13,
   "metadata": {},
   "outputs": [],
   "source": [
    "data[['Model', 'Gearbox', 'FuelType']] = (\n",
    "    data.groupby('Brand')[['Model',\n",
    "                           'Gearbox',\n",
    "                           'FuelType']].transform(lambda x: x.fillna(x.mode()[0]))\n",
    ")"
   ]
  },
  {
   "cell_type": "markdown",
   "metadata": {},
   "source": [
    "Аналогично заполним и значение типа кузова `VehicleType`, но опираясь уже на модель:"
   ]
  },
  {
   "cell_type": "code",
   "execution_count": 14,
   "metadata": {},
   "outputs": [],
   "source": [
    "data['VehicleType'] = (\n",
    "    data.groupby('Model')['VehicleType'].transform(lambda x: x.fillna(x.mode()[0]))\n",
    ")"
   ]
  },
  {
   "cell_type": "markdown",
   "metadata": {},
   "source": [
    "Значение `NotRepaired` поставим равным *no*, так как взаимосвязь между пребыванием в ремонте и остальными доступными данными не наблюдается.  "
   ]
  },
  {
   "cell_type": "code",
   "execution_count": 15,
   "metadata": {},
   "outputs": [],
   "source": [
    "data['NotRepaired'].fillna('no', inplace=True)"
   ]
  },
  {
   "cell_type": "markdown",
   "metadata": {},
   "source": [
    "И отбросим ненужные столбцы:"
   ]
  },
  {
   "cell_type": "code",
   "execution_count": 16,
   "metadata": {},
   "outputs": [],
   "source": [
    "data.drop(labels=['DateCrawled',\n",
    "                  'NumberOfPictures',\n",
    "                  'LastSeen',\n",
    "                  'DateCreated',\n",
    "                  'PostalCode',\n",
    "                  'RegistrationMonth'], axis=1, inplace=True)"
   ]
  },
  {
   "cell_type": "code",
   "execution_count": 17,
   "metadata": {},
   "outputs": [
    {
     "data": {
      "text/html": [
       "<div>\n",
       "<style scoped>\n",
       "    .dataframe tbody tr th:only-of-type {\n",
       "        vertical-align: middle;\n",
       "    }\n",
       "\n",
       "    .dataframe tbody tr th {\n",
       "        vertical-align: top;\n",
       "    }\n",
       "\n",
       "    .dataframe thead th {\n",
       "        text-align: right;\n",
       "    }\n",
       "</style>\n",
       "<table border=\"1\" class=\"dataframe\">\n",
       "  <thead>\n",
       "    <tr style=\"text-align: right;\">\n",
       "      <th></th>\n",
       "      <th>Price</th>\n",
       "      <th>VehicleType</th>\n",
       "      <th>RegistrationYear</th>\n",
       "      <th>Gearbox</th>\n",
       "      <th>Power</th>\n",
       "      <th>Model</th>\n",
       "      <th>Kilometer</th>\n",
       "      <th>FuelType</th>\n",
       "      <th>Brand</th>\n",
       "      <th>NotRepaired</th>\n",
       "    </tr>\n",
       "  </thead>\n",
       "  <tbody>\n",
       "    <tr>\n",
       "      <th>0</th>\n",
       "      <td>480</td>\n",
       "      <td>sedan</td>\n",
       "      <td>1993</td>\n",
       "      <td>manual</td>\n",
       "      <td>0</td>\n",
       "      <td>golf</td>\n",
       "      <td>150000</td>\n",
       "      <td>petrol</td>\n",
       "      <td>volkswagen</td>\n",
       "      <td>no</td>\n",
       "    </tr>\n",
       "    <tr>\n",
       "      <th>1</th>\n",
       "      <td>18300</td>\n",
       "      <td>coupe</td>\n",
       "      <td>2011</td>\n",
       "      <td>manual</td>\n",
       "      <td>190</td>\n",
       "      <td>a4</td>\n",
       "      <td>125000</td>\n",
       "      <td>gasoline</td>\n",
       "      <td>audi</td>\n",
       "      <td>yes</td>\n",
       "    </tr>\n",
       "    <tr>\n",
       "      <th>2</th>\n",
       "      <td>9800</td>\n",
       "      <td>suv</td>\n",
       "      <td>2004</td>\n",
       "      <td>auto</td>\n",
       "      <td>163</td>\n",
       "      <td>grand</td>\n",
       "      <td>125000</td>\n",
       "      <td>gasoline</td>\n",
       "      <td>jeep</td>\n",
       "      <td>no</td>\n",
       "    </tr>\n",
       "    <tr>\n",
       "      <th>3</th>\n",
       "      <td>1500</td>\n",
       "      <td>small</td>\n",
       "      <td>2001</td>\n",
       "      <td>manual</td>\n",
       "      <td>75</td>\n",
       "      <td>golf</td>\n",
       "      <td>150000</td>\n",
       "      <td>petrol</td>\n",
       "      <td>volkswagen</td>\n",
       "      <td>no</td>\n",
       "    </tr>\n",
       "    <tr>\n",
       "      <th>4</th>\n",
       "      <td>3600</td>\n",
       "      <td>small</td>\n",
       "      <td>2008</td>\n",
       "      <td>manual</td>\n",
       "      <td>69</td>\n",
       "      <td>fabia</td>\n",
       "      <td>90000</td>\n",
       "      <td>gasoline</td>\n",
       "      <td>skoda</td>\n",
       "      <td>no</td>\n",
       "    </tr>\n",
       "  </tbody>\n",
       "</table>\n",
       "</div>"
      ],
      "text/plain": [
       "   Price VehicleType  RegistrationYear Gearbox  Power  Model  Kilometer  \\\n",
       "0    480       sedan              1993  manual      0   golf     150000   \n",
       "1  18300       coupe              2011  manual    190     a4     125000   \n",
       "2   9800         suv              2004    auto    163  grand     125000   \n",
       "3   1500       small              2001  manual     75   golf     150000   \n",
       "4   3600       small              2008  manual     69  fabia      90000   \n",
       "\n",
       "   FuelType       Brand NotRepaired  \n",
       "0    petrol  volkswagen          no  \n",
       "1  gasoline        audi         yes  \n",
       "2  gasoline        jeep          no  \n",
       "3    petrol  volkswagen          no  \n",
       "4  gasoline       skoda          no  "
      ]
     },
     "execution_count": 17,
     "metadata": {},
     "output_type": "execute_result"
    }
   ],
   "source": [
    "data.head()"
   ]
  },
  {
   "cell_type": "markdown",
   "metadata": {},
   "source": [
    "### Борьба с выбросами\n"
   ]
  },
  {
   "cell_type": "markdown",
   "metadata": {},
   "source": [
    "Рассмотрим данные на предмет выбросов, воспользовавшись для этого `scatterplot`, на котором точно выбросы будут даже заметнее, чем на классической гистограмме."
   ]
  },
  {
   "cell_type": "code",
   "execution_count": 18,
   "metadata": {},
   "outputs": [
    {
     "data": {
      "image/png": "[encoded data removed]",
      "text/plain": [
       "<Figure size 1224x288 with 1 Axes>"
      ]
     },
     "metadata": {},
     "output_type": "display_data"
    },
    {
     "data": {
      "image/png": "[encoded data removed]",
      "text/plain": [
       "<Figure size 1224x288 with 1 Axes>"
      ]
     },
     "metadata": {},
     "output_type": "display_data"
    },
    {
     "data": {
      "image/png": "[encoded data removed]",
      "text/plain": [
       "<Figure size 1224x288 with 1 Axes>"
      ]
     },
     "metadata": {},
     "output_type": "display_data"
    }
   ],
   "source": [
    "for col in data.select_dtypes(exclude=['object']).columns.to_list()[1:]:\n",
    "    ax = data.plot(\n",
    "        kind='scatter',\n",
    "        x='Price',\n",
    "        y=f'{col}',\n",
    "        color=\"r\",\n",
    "        alpha=0.5,\n",
    "        title=f'Price to {col} scatter',\n",
    "        grid=True,\n",
    "        figsize=(17,4)\n",
    "    )"
   ]
  },
  {
   "cell_type": "markdown",
   "metadata": {},
   "source": [
    "Наглядно видны выбросы в столбцах `Power` и `RegistrationYear`. Границы выбросов определим из межквартильного расстояния из расчёта **3*IQR**:"
   ]
  },
  {
   "cell_type": "code",
   "execution_count": 19,
   "metadata": {},
   "outputs": [],
   "source": [
    "def iqr_max(column):\n",
    "    iqr = column.quantile(q=0.75) - column.quantile(q=0.25)\n",
    "    maxi = column.quantile(q=0.75)+3.0*iqr\n",
    "    if maxi <= column.max():\n",
    "        return maxi\n",
    "    else:\n",
    "        return column.max()        \n",
    "        \n",
    "def iqr_min(column):\n",
    "    iqr = column.quantile(q=0.75) - column.quantile(q=0.25)\n",
    "    mini = column.quantile(q=0.25)-3.0*iqr\n",
    "    if mini >= column.min():\n",
    "        return mini\n",
    "    else:\n",
    "        return column.min()"
   ]
  },
  {
   "cell_type": "markdown",
   "metadata": {},
   "source": [
    "Как пример:"
   ]
  },
  {
   "cell_type": "code",
   "execution_count": 20,
   "metadata": {},
   "outputs": [
    {
     "name": "stdout",
     "output_type": "stream",
     "text": [
      "Диапазон нормальных значений столбца Power составляет от 0 снизу до 365.0 сверху\n",
      "Диапазон нормальных значений столбца RegistrationYear составляет от 1972.0 снизу до 2035.0 сверху\n"
     ]
    }
   ],
   "source": [
    "print('Диапазон нормальных значений столбца {} составляет от {} снизу до {} сверху'\n",
    "      .format(data['Power'].name, iqr_min(data['Power']), iqr_max(data['Power'])))\n",
    "\n",
    "print('Диапазон нормальных значений столбца {} составляет от {} снизу до {} сверху'\n",
    "      .format(data['RegistrationYear'].name, iqr_min(data['RegistrationYear']), iqr_max(data['RegistrationYear'])))"
   ]
  },
  {
   "cell_type": "markdown",
   "metadata": {},
   "source": [
    "Обрежем данные по этим значениям, кроме значения столбца `RegistrationYear`, который заведомо не может быть больше текущего года."
   ]
  },
  {
   "cell_type": "code",
   "execution_count": 21,
   "metadata": {},
   "outputs": [],
   "source": [
    "good_data = data.loc[(data['Power'] >= iqr_min(data['Power'])) & \n",
    "                     (data['Power'] <= iqr_max(data['Power'])) &\n",
    "                     (data['RegistrationYear'] >= iqr_min(data['RegistrationYear'])) & \n",
    "                     (data['RegistrationYear'] <= datetime.now().year)]"
   ]
  },
  {
   "cell_type": "markdown",
   "metadata": {},
   "source": [
    "В результате чего, получаем обновлёный DataFrame уменьшенного размера, суммарные потери (процент отброшенных строк) составит:"
   ]
  },
  {
   "cell_type": "code",
   "execution_count": 22,
   "metadata": {},
   "outputs": [
    {
     "name": "stdout",
     "output_type": "stream",
     "text": [
      "0.83 %\n"
     ]
    }
   ],
   "source": [
    "print(round(((data.shape[0] - good_data.shape[0]) / data.shape[0])*100, 2), '%')"
   ]
  },
  {
   "cell_type": "markdown",
   "metadata": {},
   "source": [
    ", что более чем приемлемо. Построим scatterplot уже по обновлённым данным."
   ]
  },
  {
   "cell_type": "code",
   "execution_count": 48,
   "metadata": {},
   "outputs": [
    {
     "name": "stderr",
     "output_type": "stream",
     "text": [
      "C:\\Users\\femt0\\miniforge3\\lib\\site-packages\\IPython\\core\\pylabtools.py:134: UserWarning: Creating legend with loc=\"best\" can be slow with large amounts of data.\n",
      "  fig.canvas.print_figure(bytes_io, **kw)\n"
     ]
    },
    {
     "data": {
      "image/png": "[encoded data removed]",
      "text/plain": [
       "<Figure size 1224x288 with 1 Axes>"
      ]
     },
     "metadata": {},
     "output_type": "display_data"
    }
   ],
   "source": [
    "sns.scatterplot(\n",
    "    data=good_data,\n",
    "    x='Price',\n",
    "    y='RegistrationYear',\n",
    "    hue='Power',\n",
    "    legend='auto'\n",
    ")\n",
    "plt.title('Распределение цены от года регистрации и мощности')\n",
    "plt.show()"
   ]
  },
  {
   "cell_type": "markdown",
   "metadata": {},
   "source": [
    "Распределение без выбросов более наглядно показывает:\n",
    "\n",
    "- более мощные автомобили находятся ближе к правой части графика, т.е. высоким ценам;\n",
    "- чем машина старее (год регистрации старше), тем реже они встречаются среди дорогих.\n",
    "\n",
    "Выделим целевой признак для дальнешей работы:"
   ]
  },
  {
   "cell_type": "code",
   "execution_count": 24,
   "metadata": {},
   "outputs": [],
   "source": [
    "X = good_data.copy()\n",
    "y = X.pop('Price')"
   ]
  },
  {
   "cell_type": "markdown",
   "metadata": {},
   "source": [
    "И разделим на тестовую и валидационную выборки:"
   ]
  },
  {
   "cell_type": "code",
   "execution_count": 25,
   "metadata": {},
   "outputs": [],
   "source": [
    "X_train, X_valid, y_train, y_valid = train_test_split(X, y, test_size=0.25, random_state=13)"
   ]
  },
  {
   "cell_type": "markdown",
   "metadata": {},
   "source": [
    "### Масштабирование и кодирование признаков"
   ]
  },
  {
   "cell_type": "markdown",
   "metadata": {},
   "source": [
    "Во избежание путаницы, разделим данные на категориальные и численные значения, и обработаем их отдельно.\n",
    "\n",
    "1) Закодируем категориальные признаки методом `OrdinalEncoder()`, чтобы с ними могли работать все модели, а не только `CatBoost`:"
   ]
  },
  {
   "cell_type": "code",
   "execution_count": 26,
   "metadata": {},
   "outputs": [
    {
     "data": {
      "text/html": [
       "<div>\n",
       "<style scoped>\n",
       "    .dataframe tbody tr th:only-of-type {\n",
       "        vertical-align: middle;\n",
       "    }\n",
       "\n",
       "    .dataframe tbody tr th {\n",
       "        vertical-align: top;\n",
       "    }\n",
       "\n",
       "    .dataframe thead th {\n",
       "        text-align: right;\n",
       "    }\n",
       "</style>\n",
       "<table border=\"1\" class=\"dataframe\">\n",
       "  <thead>\n",
       "    <tr style=\"text-align: right;\">\n",
       "      <th></th>\n",
       "      <th>VehicleType</th>\n",
       "      <th>Gearbox</th>\n",
       "      <th>Model</th>\n",
       "      <th>FuelType</th>\n",
       "      <th>Brand</th>\n",
       "      <th>NotRepaired</th>\n",
       "    </tr>\n",
       "  </thead>\n",
       "  <tbody>\n",
       "    <tr>\n",
       "      <th>23873</th>\n",
       "      <td>4</td>\n",
       "      <td>1</td>\n",
       "      <td>116</td>\n",
       "      <td>2</td>\n",
       "      <td>38</td>\n",
       "      <td>0</td>\n",
       "    </tr>\n",
       "    <tr>\n",
       "      <th>314100</th>\n",
       "      <td>0</td>\n",
       "      <td>0</td>\n",
       "      <td>222</td>\n",
       "      <td>2</td>\n",
       "      <td>38</td>\n",
       "      <td>0</td>\n",
       "    </tr>\n",
       "    <tr>\n",
       "      <th>219210</th>\n",
       "      <td>5</td>\n",
       "      <td>1</td>\n",
       "      <td>83</td>\n",
       "      <td>6</td>\n",
       "      <td>24</td>\n",
       "      <td>0</td>\n",
       "    </tr>\n",
       "    <tr>\n",
       "      <th>193995</th>\n",
       "      <td>5</td>\n",
       "      <td>1</td>\n",
       "      <td>102</td>\n",
       "      <td>6</td>\n",
       "      <td>10</td>\n",
       "      <td>0</td>\n",
       "    </tr>\n",
       "    <tr>\n",
       "      <th>304980</th>\n",
       "      <td>7</td>\n",
       "      <td>1</td>\n",
       "      <td>101</td>\n",
       "      <td>6</td>\n",
       "      <td>31</td>\n",
       "      <td>0</td>\n",
       "    </tr>\n",
       "  </tbody>\n",
       "</table>\n",
       "</div>"
      ],
      "text/plain": [
       "        VehicleType  Gearbox  Model  FuelType  Brand  NotRepaired\n",
       "23873             4        1    116         2     38            0\n",
       "314100            0        0    222         2     38            0\n",
       "219210            5        1     83         6     24            0\n",
       "193995            5        1    102         6     10            0\n",
       "304980            7        1    101         6     31            0"
      ]
     },
     "execution_count": 26,
     "metadata": {},
     "output_type": "execute_result"
    }
   ],
   "source": [
    "X_train_cat = X_train.select_dtypes(include='object')\n",
    "X_valid_cat = X_valid.select_dtypes(include='object')\n",
    "\n",
    "encoder = OrdinalEncoder()\n",
    "encoder.fit(X_train_cat)\n",
    "\n",
    "X_train_ordinal = pd.DataFrame(\n",
    "    encoder.transform(X_train_cat).astype('int'),\n",
    "    columns=X_train_cat.columns,\n",
    "    index=X_train_cat.index)\n",
    "\n",
    "X_valid_ordinal = pd.DataFrame(\n",
    "    encoder.transform(X_valid_cat).astype('int'),\n",
    "    columns=X_valid_cat.columns,\n",
    "    index=X_valid_cat.index)\n",
    "\n",
    "X_train_ordinal.head()"
   ]
  },
  {
   "cell_type": "markdown",
   "metadata": {},
   "source": [
    "2) Обработаем численные значение при помощи `StandardScaler()`:"
   ]
  },
  {
   "cell_type": "code",
   "execution_count": 27,
   "metadata": {},
   "outputs": [
    {
     "data": {
      "text/html": [
       "<div>\n",
       "<style scoped>\n",
       "    .dataframe tbody tr th:only-of-type {\n",
       "        vertical-align: middle;\n",
       "    }\n",
       "\n",
       "    .dataframe tbody tr th {\n",
       "        vertical-align: top;\n",
       "    }\n",
       "\n",
       "    .dataframe thead th {\n",
       "        text-align: right;\n",
       "    }\n",
       "</style>\n",
       "<table border=\"1\" class=\"dataframe\">\n",
       "  <thead>\n",
       "    <tr style=\"text-align: right;\">\n",
       "      <th></th>\n",
       "      <th>RegistrationYear</th>\n",
       "      <th>Power</th>\n",
       "      <th>Kilometer</th>\n",
       "    </tr>\n",
       "  </thead>\n",
       "  <tbody>\n",
       "    <tr>\n",
       "      <th>23873</th>\n",
       "      <td>0.54</td>\n",
       "      <td>0.55</td>\n",
       "      <td>0.57</td>\n",
       "    </tr>\n",
       "    <tr>\n",
       "      <th>314100</th>\n",
       "      <td>-0.04</td>\n",
       "      <td>-0.02</td>\n",
       "      <td>0.57</td>\n",
       "    </tr>\n",
       "    <tr>\n",
       "      <th>219210</th>\n",
       "      <td>-1.80</td>\n",
       "      <td>-0.50</td>\n",
       "      <td>-0.09</td>\n",
       "    </tr>\n",
       "    <tr>\n",
       "      <th>193995</th>\n",
       "      <td>-0.92</td>\n",
       "      <td>-0.75</td>\n",
       "      <td>-0.09</td>\n",
       "    </tr>\n",
       "    <tr>\n",
       "      <th>304980</th>\n",
       "      <td>0.54</td>\n",
       "      <td>-0.42</td>\n",
       "      <td>0.57</td>\n",
       "    </tr>\n",
       "  </tbody>\n",
       "</table>\n",
       "</div>"
      ],
      "text/plain": [
       "        RegistrationYear  Power  Kilometer\n",
       "23873               0.54   0.55       0.57\n",
       "314100             -0.04  -0.02       0.57\n",
       "219210             -1.80  -0.50      -0.09\n",
       "193995             -0.92  -0.75      -0.09\n",
       "304980              0.54  -0.42       0.57"
      ]
     },
     "execution_count": 27,
     "metadata": {},
     "output_type": "execute_result"
    }
   ],
   "source": [
    "X_train_num = X_train.select_dtypes(exclude='object')\n",
    "X_valid_num = X_valid.select_dtypes(exclude='object')\n",
    "\n",
    "scaler = StandardScaler()\n",
    "scaler.fit(X_train_num)\n",
    "\n",
    "X_train_scaled = pd.DataFrame(\n",
    "    scaler.transform(X_train_num),\n",
    "    columns=X_train_num.columns,\n",
    "    index=X_train_num.index)\n",
    "\n",
    "X_valid_scaled = pd.DataFrame(\n",
    "    scaler.transform(X_valid_num),\n",
    "    columns=X_valid_num.columns,\n",
    "    index=X_valid_num.index)\n",
    "\n",
    "X_train_scaled.head()"
   ]
  },
  {
   "cell_type": "markdown",
   "metadata": {},
   "source": [
    "И сошьём полученное обратно:"
   ]
  },
  {
   "cell_type": "code",
   "execution_count": 28,
   "metadata": {
    "scrolled": true
   },
   "outputs": [
    {
     "data": {
      "text/html": [
       "<div>\n",
       "<style scoped>\n",
       "    .dataframe tbody tr th:only-of-type {\n",
       "        vertical-align: middle;\n",
       "    }\n",
       "\n",
       "    .dataframe tbody tr th {\n",
       "        vertical-align: top;\n",
       "    }\n",
       "\n",
       "    .dataframe thead th {\n",
       "        text-align: right;\n",
       "    }\n",
       "</style>\n",
       "<table border=\"1\" class=\"dataframe\">\n",
       "  <thead>\n",
       "    <tr style=\"text-align: right;\">\n",
       "      <th></th>\n",
       "      <th>VehicleType</th>\n",
       "      <th>Gearbox</th>\n",
       "      <th>Model</th>\n",
       "      <th>FuelType</th>\n",
       "      <th>Brand</th>\n",
       "      <th>NotRepaired</th>\n",
       "      <th>RegistrationYear</th>\n",
       "      <th>Power</th>\n",
       "      <th>Kilometer</th>\n",
       "    </tr>\n",
       "  </thead>\n",
       "  <tbody>\n",
       "    <tr>\n",
       "      <th>23873</th>\n",
       "      <td>4</td>\n",
       "      <td>1</td>\n",
       "      <td>116</td>\n",
       "      <td>2</td>\n",
       "      <td>38</td>\n",
       "      <td>0</td>\n",
       "      <td>0.54</td>\n",
       "      <td>0.55</td>\n",
       "      <td>0.57</td>\n",
       "    </tr>\n",
       "    <tr>\n",
       "      <th>314100</th>\n",
       "      <td>0</td>\n",
       "      <td>0</td>\n",
       "      <td>222</td>\n",
       "      <td>2</td>\n",
       "      <td>38</td>\n",
       "      <td>0</td>\n",
       "      <td>-0.04</td>\n",
       "      <td>-0.02</td>\n",
       "      <td>0.57</td>\n",
       "    </tr>\n",
       "    <tr>\n",
       "      <th>219210</th>\n",
       "      <td>5</td>\n",
       "      <td>1</td>\n",
       "      <td>83</td>\n",
       "      <td>6</td>\n",
       "      <td>24</td>\n",
       "      <td>0</td>\n",
       "      <td>-1.80</td>\n",
       "      <td>-0.50</td>\n",
       "      <td>-0.09</td>\n",
       "    </tr>\n",
       "    <tr>\n",
       "      <th>193995</th>\n",
       "      <td>5</td>\n",
       "      <td>1</td>\n",
       "      <td>102</td>\n",
       "      <td>6</td>\n",
       "      <td>10</td>\n",
       "      <td>0</td>\n",
       "      <td>-0.92</td>\n",
       "      <td>-0.75</td>\n",
       "      <td>-0.09</td>\n",
       "    </tr>\n",
       "    <tr>\n",
       "      <th>304980</th>\n",
       "      <td>7</td>\n",
       "      <td>1</td>\n",
       "      <td>101</td>\n",
       "      <td>6</td>\n",
       "      <td>31</td>\n",
       "      <td>0</td>\n",
       "      <td>0.54</td>\n",
       "      <td>-0.42</td>\n",
       "      <td>0.57</td>\n",
       "    </tr>\n",
       "  </tbody>\n",
       "</table>\n",
       "</div>"
      ],
      "text/plain": [
       "        VehicleType  Gearbox  Model  FuelType  Brand  NotRepaired  \\\n",
       "23873             4        1    116         2     38            0   \n",
       "314100            0        0    222         2     38            0   \n",
       "219210            5        1     83         6     24            0   \n",
       "193995            5        1    102         6     10            0   \n",
       "304980            7        1    101         6     31            0   \n",
       "\n",
       "        RegistrationYear  Power  Kilometer  \n",
       "23873               0.54   0.55       0.57  \n",
       "314100             -0.04  -0.02       0.57  \n",
       "219210             -1.80  -0.50      -0.09  \n",
       "193995             -0.92  -0.75      -0.09  \n",
       "304980              0.54  -0.42       0.57  "
      ]
     },
     "execution_count": 28,
     "metadata": {},
     "output_type": "execute_result"
    }
   ],
   "source": [
    "X_train = pd.concat([X_train_ordinal, X_train_scaled], axis=1)\n",
    "X_valid = pd.concat([X_valid_ordinal, X_valid_scaled], axis=1)\n",
    "X_train.head()"
   ]
  },
  {
   "cell_type": "markdown",
   "metadata": {},
   "source": [
    "### Вывод\n",
    "\n",
    "После всех преобразований данные готовы к моделированию, потери размера данных составили менее процента."
   ]
  },
  {
   "cell_type": "markdown",
   "metadata": {},
   "source": [
    "## Обучение моделей"
   ]
  },
  {
   "cell_type": "markdown",
   "metadata": {},
   "source": [
    "В связи с отсутсвием параметра `squared=False` в подгруженной версии `mean_squared_error()`, добавим простую фукнцию `rmse()`"
   ]
  },
  {
   "cell_type": "code",
   "execution_count": 29,
   "metadata": {},
   "outputs": [],
   "source": [
    "def rmse(model, X_valid, y_valid):\n",
    "    y_pred = model.predict(X_valid)\n",
    "    mse = mean_squared_error(y_valid, y_pred)\n",
    "    return mse**0.5"
   ]
  },
  {
   "cell_type": "markdown",
   "metadata": {},
   "source": [
    "Результаты работы всех моделей будут собраны в новый DataFrame()."
   ]
  },
  {
   "cell_type": "code",
   "execution_count": 30,
   "metadata": {},
   "outputs": [],
   "source": [
    "results = pd.DataFrame(columns=['RMSE', 'fit_time', 'predict_time'])"
   ]
  },
  {
   "cell_type": "markdown",
   "metadata": {},
   "source": [
    "### DummyRegressor()\n",
    "\n",
    "Первым делом создадим baseline модель `DummyRegressor()`. Измерение времени будет выполняться с использованием `datetime.now()` вместо `%%time` для возможности сохранения его в таблицу."
   ]
  },
  {
   "cell_type": "code",
   "execution_count": 31,
   "metadata": {},
   "outputs": [],
   "source": [
    "dummy_model = DummyRegressor()\n",
    "\n",
    "time_start = datetime.now()\n",
    "\n",
    "dummy_model.fit(X_train, y_train)\n",
    "\n",
    "time_mid = datetime.now()\n",
    "\n",
    "dummy_model.predict(X_valid)\n",
    "time_end = datetime.now()"
   ]
  },
  {
   "cell_type": "markdown",
   "metadata": {},
   "source": [
    "И добавим результат в таблицу:"
   ]
  },
  {
   "cell_type": "code",
   "execution_count": 32,
   "metadata": {},
   "outputs": [],
   "source": [
    "results.loc['DummyRegressor'] = [rmse(dummy_model, X_valid, y_valid),\n",
    "                                 (time_mid - time_start).total_seconds(),\n",
    "                                 (time_end - time_mid).total_seconds()]"
   ]
  },
  {
   "cell_type": "markdown",
   "metadata": {},
   "source": [
    "### LinearRegression()\n",
    "\n",
    "Проверим модель линейной регрессии"
   ]
  },
  {
   "cell_type": "code",
   "execution_count": 33,
   "metadata": {},
   "outputs": [],
   "source": [
    "linear_model = LinearRegression()\n",
    "\n",
    "time_start = datetime.now()\n",
    "\n",
    "linear_model.fit(X_train, y_train)\n",
    "\n",
    "time_mid = datetime.now()\n",
    "\n",
    "linear_model.predict(X_valid)\n",
    "\n",
    "time_end = datetime.now()"
   ]
  },
  {
   "cell_type": "markdown",
   "metadata": {},
   "source": [
    "Результат также добавим в таблицу"
   ]
  },
  {
   "cell_type": "code",
   "execution_count": 34,
   "metadata": {},
   "outputs": [],
   "source": [
    "results.loc['LinearRegression'] = [rmse(linear_model, X_valid, y_valid),\n",
    "                                   (time_mid - time_start).total_seconds(),\n",
    "                                   (time_end - time_mid).total_seconds()]"
   ]
  },
  {
   "cell_type": "markdown",
   "metadata": {},
   "source": [
    "### RandomForestRegressor()\n",
    "\n",
    "Для модели случайного леса в начале необходимо определить наилучшие гиперпараметры:\n",
    "\n",
    "(в рамках конкретной тетради данный код закомментирован, как слишком долго выполняющийся, наилучшие гиперпараметры были подобраны на другом устройстве)"
   ]
  },
  {
   "cell_type": "code",
   "execution_count": 35,
   "metadata": {},
   "outputs": [],
   "source": [
    "#rfr_clf = RandomForestRegressor()\n",
    "#rfr_parameters = {'n_estimators': range (100, 200, 10),\n",
    "#                  'max_depth': range (15,26, 1),\n",
    "#                  'random_state': [13],\n",
    "#                  'n_jobs': [-1]\n",
    "#                 }"
   ]
  },
  {
   "cell_type": "code",
   "execution_count": 36,
   "metadata": {},
   "outputs": [],
   "source": [
    "#%%time\n",
    "#grid_rfr = GridSearchCV(rfr_clf,\n",
    "#                        rfr_parameters,\n",
    "#                        scoring='neg_root_mean_squared_error',\n",
    "#                        cv=5)\n",
    "#grid_rfr.fit(X_train, y_train)\n",
    "#grid_rfr.best_params_"
   ]
  },
  {
   "cell_type": "markdown",
   "metadata": {},
   "source": [
    "Обучим модель с полученными гиперпараметрами:"
   ]
  },
  {
   "cell_type": "code",
   "execution_count": 37,
   "metadata": {},
   "outputs": [],
   "source": [
    "#rfr_model = RandomForestRegressor(**grid_rfr_rough.best_params_)\n",
    "rfr_model = RandomForestRegressor(max_depth=20, n_estimators=150, n_jobs=-1, random_state=13)\n",
    "\n",
    "time_start = datetime.now()\n",
    "\n",
    "rfr_model.fit(X_train, y_train)\n",
    "\n",
    "time_mid = datetime.now()\n",
    "\n",
    "rfr_model.predict(X_valid)\n",
    "\n",
    "time_end = datetime.now()"
   ]
  },
  {
   "cell_type": "code",
   "execution_count": 38,
   "metadata": {},
   "outputs": [],
   "source": [
    "results.loc['RandomForestRegressor'] = [rmse(rfr_model, X_valid, y_valid),\n",
    "                                        (time_mid - time_start).total_seconds(),\n",
    "                                        (time_end - time_mid).total_seconds()]"
   ]
  },
  {
   "cell_type": "markdown",
   "metadata": {},
   "source": [
    "### CatBoostRegressor()\n",
    "\n",
    "Воспользуемся одним из вариантов реализации градиентного спуска, для этого восстановим версию *X_train* и *X_valid* с незакодированными категориальными признаками:"
   ]
  },
  {
   "cell_type": "code",
   "execution_count": 46,
   "metadata": {},
   "outputs": [
    {
     "data": {
      "text/html": [
       "<div>\n",
       "<style scoped>\n",
       "    .dataframe tbody tr th:only-of-type {\n",
       "        vertical-align: middle;\n",
       "    }\n",
       "\n",
       "    .dataframe tbody tr th {\n",
       "        vertical-align: top;\n",
       "    }\n",
       "\n",
       "    .dataframe thead th {\n",
       "        text-align: right;\n",
       "    }\n",
       "</style>\n",
       "<table border=\"1\" class=\"dataframe\">\n",
       "  <thead>\n",
       "    <tr style=\"text-align: right;\">\n",
       "      <th></th>\n",
       "      <th>VehicleType</th>\n",
       "      <th>Gearbox</th>\n",
       "      <th>Model</th>\n",
       "      <th>FuelType</th>\n",
       "      <th>Brand</th>\n",
       "      <th>NotRepaired</th>\n",
       "      <th>RegistrationYear</th>\n",
       "      <th>Power</th>\n",
       "      <th>Kilometer</th>\n",
       "    </tr>\n",
       "  </thead>\n",
       "  <tbody>\n",
       "    <tr>\n",
       "      <th>23873</th>\n",
       "      <td>sedan</td>\n",
       "      <td>manual</td>\n",
       "      <td>golf</td>\n",
       "      <td>gasoline</td>\n",
       "      <td>volkswagen</td>\n",
       "      <td>no</td>\n",
       "      <td>0.54</td>\n",
       "      <td>0.55</td>\n",
       "      <td>0.57</td>\n",
       "    </tr>\n",
       "    <tr>\n",
       "      <th>314100</th>\n",
       "      <td>bus</td>\n",
       "      <td>auto</td>\n",
       "      <td>touran</td>\n",
       "      <td>gasoline</td>\n",
       "      <td>volkswagen</td>\n",
       "      <td>no</td>\n",
       "      <td>-0.04</td>\n",
       "      <td>-0.02</td>\n",
       "      <td>0.57</td>\n",
       "    </tr>\n",
       "  </tbody>\n",
       "</table>\n",
       "</div>"
      ],
      "text/plain": [
       "       VehicleType Gearbox   Model  FuelType       Brand NotRepaired  \\\n",
       "23873        sedan  manual    golf  gasoline  volkswagen          no   \n",
       "314100         bus    auto  touran  gasoline  volkswagen          no   \n",
       "\n",
       "        RegistrationYear  Power  Kilometer  \n",
       "23873               0.54   0.55       0.57  \n",
       "314100             -0.04  -0.02       0.57  "
      ]
     },
     "execution_count": 46,
     "metadata": {},
     "output_type": "execute_result"
    }
   ],
   "source": [
    "cat_feat = X_train_cat.columns.tolist()\n",
    "\n",
    "X_train_с = pd.concat([X_train_cat, X_train_scaled], axis=1)\n",
    "X_valid_с = pd.concat([X_valid_cat, X_valid_scaled], axis=1)\n",
    "\n",
    "X_train_с[cat_feat] = X_train_с[cat_feat].astype('category')\n",
    "X_valid_с[cat_feat] = X_valid_с[cat_feat].astype('category')\n",
    "\n",
    "X_train_с.head(2)"
   ]
  },
  {
   "cell_type": "code",
   "execution_count": 47,
   "metadata": {},
   "outputs": [
    {
     "name": "stdout",
     "output_type": "stream",
     "text": [
      "0:\tlearn: 2695.9310179\ttotal: 246ms\tremaining: 4m 6s\n",
      "50:\tlearn: 1805.6631172\ttotal: 5.27s\tremaining: 1m 38s\n",
      "100:\tlearn: 1739.9994365\ttotal: 9.93s\tremaining: 1m 28s\n",
      "150:\tlearn: 1701.2991622\ttotal: 15.1s\tremaining: 1m 25s\n",
      "200:\tlearn: 1672.8342859\ttotal: 20.3s\tremaining: 1m 20s\n",
      "250:\tlearn: 1648.4462084\ttotal: 25.2s\tremaining: 1m 15s\n",
      "300:\tlearn: 1628.9323545\ttotal: 30.3s\tremaining: 1m 10s\n",
      "350:\tlearn: 1614.3423487\ttotal: 35.3s\tremaining: 1m 5s\n",
      "400:\tlearn: 1600.5684161\ttotal: 40.4s\tremaining: 1m\n",
      "450:\tlearn: 1587.1033375\ttotal: 46.1s\tremaining: 56.1s\n",
      "500:\tlearn: 1575.9271884\ttotal: 51.5s\tremaining: 51.3s\n",
      "550:\tlearn: 1566.4284394\ttotal: 56.8s\tremaining: 46.3s\n",
      "600:\tlearn: 1557.4007263\ttotal: 1m 1s\tremaining: 41.1s\n",
      "650:\tlearn: 1548.1109274\ttotal: 1m 7s\tremaining: 35.9s\n",
      "700:\tlearn: 1538.2969018\ttotal: 1m 12s\tremaining: 30.8s\n",
      "750:\tlearn: 1531.2274232\ttotal: 1m 17s\tremaining: 25.7s\n",
      "800:\tlearn: 1523.5065158\ttotal: 1m 22s\tremaining: 20.5s\n",
      "850:\tlearn: 1515.5804729\ttotal: 1m 27s\tremaining: 15.3s\n",
      "900:\tlearn: 1508.8967530\ttotal: 1m 32s\tremaining: 10.2s\n",
      "950:\tlearn: 1502.0077108\ttotal: 1m 38s\tremaining: 5.05s\n",
      "999:\tlearn: 1495.7136733\ttotal: 1m 42s\tremaining: 0us\n"
     ]
    }
   ],
   "source": [
    "cat_model = CatBoostRegressor(learning_rate=1,\n",
    "                              depth=6,\n",
    "                              loss_function='RMSE',\n",
    "                              random_seed=13,\n",
    "                              verbose=50)\n",
    "\n",
    "time_start = datetime.now()\n",
    "\n",
    "cat_model.fit(X_train_с,\n",
    "              y_train,\n",
    "              cat_features=cat_feat)\n",
    "\n",
    "time_mid = datetime.now()\n",
    "\n",
    "cat_model.predict(X_valid_с)\n",
    "\n",
    "time_end = datetime.now()"
   ]
  },
  {
   "cell_type": "code",
   "execution_count": null,
   "metadata": {},
   "outputs": [],
   "source": [
    "results.loc['CatBoostRegressor_CAT'] = [rmse(cat_model, X_valid_с, y_valid),\n",
    "                                        (time_mid - time_start).total_seconds(),\n",
    "                                        (time_end - time_mid).total_seconds()]"
   ]
  },
  {
   "cell_type": "markdown",
   "metadata": {},
   "source": [
    "Сравним результат с данными с предварительно закодированным категориальными признаками:"
   ]
  },
  {
   "cell_type": "code",
   "execution_count": null,
   "metadata": {},
   "outputs": [],
   "source": [
    "cat_model = CatBoostRegressor(learning_rate=1,\n",
    "                              depth=6,\n",
    "                              loss_function='RMSE',\n",
    "                              random_seed=13,\n",
    "                              verbose=50)\n",
    "\n",
    "time_start = datetime.now()\n",
    "\n",
    "cat_model.fit(X_train,\n",
    "              y_train)\n",
    "\n",
    "time_mid = datetime.now()\n",
    "\n",
    "cat_model.predict(X_valid)\n",
    "\n",
    "time_end = datetime.now()"
   ]
  },
  {
   "cell_type": "code",
   "execution_count": null,
   "metadata": {},
   "outputs": [],
   "source": [
    "results.loc['CatBoostRegressor'] = [rmse(cat_model, X_valid, y_valid),\n",
    "                                        (time_mid - time_start).total_seconds(),\n",
    "                                        (time_end - time_mid).total_seconds()]"
   ]
  },
  {
   "cell_type": "markdown",
   "metadata": {},
   "source": [
    "### lightgbm()\n",
    "\n",
    "Воспользуемся другим вариантом градиентного спуска за авторством Microsoft, для чего сначала зададим параметры:"
   ]
  },
  {
   "cell_type": "code",
   "execution_count": null,
   "metadata": {
    "scrolled": true
   },
   "outputs": [],
   "source": [
    "lgb_model = lgb.LGBMRegressor(\n",
    "    boosting_type='gbdt',\n",
    "    max_depth=-1,\n",
    "    learning_rate=0.5,\n",
    "    n_estimators=100,\n",
    "    random_state=13,\n",
    "    n_jobs=-1\n",
    ")"
   ]
  },
  {
   "cell_type": "markdown",
   "metadata": {},
   "source": [
    "И обучим модель:"
   ]
  },
  {
   "cell_type": "code",
   "execution_count": null,
   "metadata": {},
   "outputs": [],
   "source": [
    "time_start = datetime.now()\n",
    "\n",
    "lgb_model.fit(X_train_с,\n",
    "              y_train)\n",
    "\n",
    "time_mid = datetime.now()\n",
    "\n",
    "lgb_model.predict(X_valid_с)\n",
    "\n",
    "time_end = datetime.now()"
   ]
  },
  {
   "cell_type": "markdown",
   "metadata": {},
   "source": [
    "Также, добавим результат в таблицу:"
   ]
  },
  {
   "cell_type": "code",
   "execution_count": null,
   "metadata": {},
   "outputs": [],
   "source": [
    "results.loc['LGBMRegressor_CAT'] = [rmse(lgb_model, X_valid_с, y_valid),\n",
    "                                    (time_mid - time_start).total_seconds(),\n",
    "                                    (time_end - time_mid).total_seconds()]"
   ]
  },
  {
   "cell_type": "markdown",
   "metadata": {},
   "source": [
    "Аналогично, сравним результат с данными с предварительно закодированным категориальными признаками:"
   ]
  },
  {
   "cell_type": "code",
   "execution_count": null,
   "metadata": {},
   "outputs": [],
   "source": [
    "time_start = datetime.now()\n",
    "\n",
    "lgb_model.fit(X_train,\n",
    "              y_train)\n",
    "\n",
    "time_mid = datetime.now()\n",
    "\n",
    "lgb_model.predict(X_valid)\n",
    "\n",
    "time_end = datetime.now()"
   ]
  },
  {
   "cell_type": "code",
   "execution_count": null,
   "metadata": {},
   "outputs": [],
   "source": [
    "results.loc['LGBMRegressor'] = [rmse(lgb_model, X_valid, y_valid),\n",
    "                                (time_mid - time_start).total_seconds(),\n",
    "                                (time_end - time_mid).total_seconds()]"
   ]
  },
  {
   "cell_type": "markdown",
   "metadata": {},
   "source": [
    "### Вывод\n",
    "\n",
    "Модели обучены, и подготовлены к анализу."
   ]
  },
  {
   "cell_type": "markdown",
   "metadata": {},
   "source": [
    "## Анализ моделей"
   ]
  },
  {
   "cell_type": "markdown",
   "metadata": {},
   "source": [
    "### Анализ результатов моделирования\n",
    "Просмотрим таблицу результатов моделей:"
   ]
  },
  {
   "cell_type": "code",
   "execution_count": null,
   "metadata": {},
   "outputs": [],
   "source": [
    "results"
   ]
  },
  {
   "cell_type": "markdown",
   "metadata": {},
   "source": [
    "Из неё можно вывести следующее:\n",
    "\n",
    "- Все модели проходят проверку на адекватность, так как результат отличается от baseline модели `DummyRegressor()`;\n",
    "- Модель линейно регрессии `LinearRegression()` показывает один из худших результатов, едва проходя проверку на адекватность, при этом являясь самой быстрой из всех моделей;\n",
    "- Наилучший результат покаызывает модель случайного леса `RandomForestRegressor()`, при этом показывая один из худших результатов по времени тренировки модели и худшее - по времени предсказания. Также в данной таблице не учтено огромное время на поиск оптимальных гиперпараметров;\n",
    "- `CatBoostRegressor()` даёт сопоставимы результат по метрике RMSE, в данном случае представлен в двух вариантах:\n",
    "  - При использовании встроенных механизмов обработки категориальных данных модели - время тренировки модели более чем в **6 раз** превышает таковое у `RandomForestRegressor()`, что показывает низкую эффективность этой встроенной обработки;\n",
    "  - При использовании предобработанных данных время тренировки модели большее всего на **50%**, чем `RandomForestRegressor()`, но меньше почти в **4 раза**, чем без предварительной обработки категориальных признаков;\n",
    "- `LGBMRegressor()` также показывает сопоставимый результат с `RandomForestRegressor()`, при этом являясь одной из самых быстрых моделей, как по времени тренировки, так и по времени предсказаний. Встроенный алгоритм обработки категориальных признаков показал себя эффективно, сэкономив дополнительные 3 секунды времени тренировки модели.\n",
    "\n",
    "Из вышесказанного можно резюмировать - **наилушая** для внедрения модели - это **`LGBMRegressor()`**, если пожертвовать временем тренировки - второе место занимает `CatBoostRegressor()` (в случае предварительно подготовленных данных)"
   ]
  },
  {
   "cell_type": "markdown",
   "metadata": {},
   "source": [
    "Также проверим важность отдельных признаков через вызов `.feature_importances_` различных моделей (для большей равномерности значений, некоторые из них умножим на 100, а некоторые - поделим на 30):"
   ]
  },
  {
   "cell_type": "code",
   "execution_count": null,
   "metadata": {},
   "outputs": [],
   "source": [
    "feature_importances = pd.DataFrame(index=X.columns.values,\n",
    "                                   data={\n",
    "                                       'randomforest': rfr_model.feature_importances_*100,\n",
    "                                       'catboost': cat_model.feature_importances_,\n",
    "                                       'lightgbm': lgb_model.feature_importances_/30})"
   ]
  },
  {
   "cell_type": "code",
   "execution_count": null,
   "metadata": {},
   "outputs": [],
   "source": [
    "feature_importances"
   ]
  },
  {
   "cell_type": "markdown",
   "metadata": {},
   "source": [
    "Рассмотрим данные значения в виде графика:"
   ]
  },
  {
   "cell_type": "code",
   "execution_count": null,
   "metadata": {},
   "outputs": [],
   "source": [
    "feature_importances.plot(kind='barh',\n",
    "                         figsize=(17,10),\n",
    "                         title='Feature importances',\n",
    "                         width=0.8)\n",
    "plt.show()"
   ]
  },
  {
   "cell_type": "markdown",
   "metadata": {},
   "source": [
    "Исходя из данного графика, наибольшую важность приобрёл признак **FuelType** и потом уже **Brand** и все остальные, а наименьший - пробег **Kilometer**"
   ]
  },
  {
   "cell_type": "markdown",
   "metadata": {},
   "source": [
    "### Вывод\n",
    "\n",
    "Оптимальная для внедрения модель - это **`LGBMRegressor()`**, с лучшими результатами и быстрейшем временем обучения и предсказания."
   ]
  }
 ],
 "metadata": {
  "ExecuteTimeLog": [
   {
    "duration": 1646,
    "start_time": "2021-08-25T12:16:17.710Z"
   },
   {
    "duration": 5,
    "start_time": "2021-08-25T12:16:19.970Z"
   },
   {
    "duration": 1233,
    "start_time": "2021-08-25T12:16:21.440Z"
   },
   {
    "duration": 27,
    "start_time": "2021-08-25T12:16:25.477Z"
   },
   {
    "duration": 157,
    "start_time": "2021-08-25T12:16:29.492Z"
   },
   {
    "duration": 1030,
    "start_time": "2021-08-25T12:18:11.071Z"
   },
   {
    "duration": 1539,
    "start_time": "2021-08-29T11:28:22.387Z"
   },
   {
    "duration": 5,
    "start_time": "2021-08-29T11:28:23.929Z"
   },
   {
    "duration": 1123,
    "start_time": "2021-08-29T11:28:24.522Z"
   },
   {
    "duration": 27,
    "start_time": "2021-08-29T11:28:25.931Z"
   },
   {
    "duration": 159,
    "start_time": "2021-08-29T11:28:27.218Z"
   },
   {
    "duration": 51,
    "start_time": "2021-08-29T11:30:17.148Z"
   },
   {
    "duration": 46,
    "start_time": "2021-08-29T11:30:32.701Z"
   },
   {
    "duration": 2366,
    "start_time": "2021-08-29T11:30:57.760Z"
   },
   {
    "duration": 54,
    "start_time": "2021-08-29T11:31:31.469Z"
   },
   {
    "duration": 240,
    "start_time": "2021-08-29T11:32:52.239Z"
   },
   {
    "duration": 57,
    "start_time": "2021-08-29T11:33:01.896Z"
   },
   {
    "duration": 32,
    "start_time": "2021-08-29T11:33:13.178Z"
   },
   {
    "duration": 615,
    "start_time": "2021-08-29T11:33:16.481Z"
   },
   {
    "duration": 711,
    "start_time": "2021-08-29T11:33:52.206Z"
   },
   {
    "duration": 808,
    "start_time": "2021-08-29T11:34:30.156Z"
   },
   {
    "duration": 1339,
    "start_time": "2021-08-29T11:38:25.426Z"
   },
   {
    "duration": 779,
    "start_time": "2021-08-29T11:38:39.692Z"
   },
   {
    "duration": 1235,
    "start_time": "2021-08-29T11:40:21.531Z"
   },
   {
    "duration": 1405,
    "start_time": "2021-08-29T11:41:01.025Z"
   },
   {
    "duration": 1484,
    "start_time": "2021-08-29T11:41:19.299Z"
   },
   {
    "duration": 1392,
    "start_time": "2021-08-29T11:41:26.187Z"
   },
   {
    "duration": 1137,
    "start_time": "2021-08-30T12:06:38.360Z"
   },
   {
    "duration": 5,
    "start_time": "2021-08-30T12:06:39.499Z"
   },
   {
    "duration": 768,
    "start_time": "2021-08-30T12:06:39.506Z"
   },
   {
    "duration": 23,
    "start_time": "2021-08-30T12:06:40.276Z"
   },
   {
    "duration": 446,
    "start_time": "2021-08-30T12:06:40.300Z"
   },
   {
    "duration": 473,
    "start_time": "2021-08-30T12:06:40.748Z"
   },
   {
    "duration": 924,
    "start_time": "2021-08-30T12:06:41.223Z"
   },
   {
    "duration": 130,
    "start_time": "2021-08-30T12:06:42.150Z"
   },
   {
    "duration": 542,
    "start_time": "2021-08-30T12:06:42.285Z"
   },
   {
    "duration": 32,
    "start_time": "2021-08-30T12:08:00.079Z"
   },
   {
    "duration": 34,
    "start_time": "2021-08-30T12:08:15.425Z"
   },
   {
    "duration": 31,
    "start_time": "2021-08-30T12:08:26.796Z"
   },
   {
    "duration": 358,
    "start_time": "2021-08-30T12:08:47.785Z"
   },
   {
    "duration": 14,
    "start_time": "2021-08-30T12:08:52.357Z"
   },
   {
    "duration": 149,
    "start_time": "2021-08-30T12:09:39.418Z"
   },
   {
    "duration": 235,
    "start_time": "2021-08-30T12:09:52.991Z"
   },
   {
    "duration": 244,
    "start_time": "2021-08-30T12:10:01.130Z"
   },
   {
    "duration": 7,
    "start_time": "2021-08-30T12:10:33.529Z"
   },
   {
    "duration": 1068,
    "start_time": "2021-08-30T12:10:37.709Z"
   },
   {
    "duration": 3,
    "start_time": "2021-08-30T12:10:38.779Z"
   },
   {
    "duration": 757,
    "start_time": "2021-08-30T12:10:38.784Z"
   },
   {
    "duration": 17,
    "start_time": "2021-08-30T12:10:39.543Z"
   },
   {
    "duration": 437,
    "start_time": "2021-08-30T12:10:39.561Z"
   },
   {
    "duration": 466,
    "start_time": "2021-08-30T12:10:40.000Z"
   },
   {
    "duration": 863,
    "start_time": "2021-08-30T12:10:40.468Z"
   },
   {
    "duration": 128,
    "start_time": "2021-08-30T12:10:41.333Z"
   },
   {
    "duration": 49,
    "start_time": "2021-08-30T12:10:41.463Z"
   },
   {
    "duration": 537,
    "start_time": "2021-08-30T12:10:41.514Z"
   },
   {
    "duration": 34,
    "start_time": "2021-08-30T12:11:41.540Z"
   },
   {
    "duration": 36,
    "start_time": "2021-08-30T12:12:04.978Z"
   },
   {
    "duration": 42,
    "start_time": "2021-08-30T12:12:20.676Z"
   },
   {
    "duration": 403,
    "start_time": "2021-08-30T12:13:24.313Z"
   },
   {
    "duration": 1236,
    "start_time": "2021-08-30T12:15:44.591Z"
   },
   {
    "duration": 5,
    "start_time": "2021-08-30T12:16:13.623Z"
   },
   {
    "duration": 5,
    "start_time": "2021-08-30T12:16:16.613Z"
   },
   {
    "duration": 1045,
    "start_time": "2021-08-30T12:16:28.090Z"
   },
   {
    "duration": 171,
    "start_time": "2021-08-30T12:16:44.587Z"
   },
   {
    "duration": 184,
    "start_time": "2021-08-30T12:16:47.188Z"
   },
   {
    "duration": 4,
    "start_time": "2021-08-30T12:16:50.865Z"
   },
   {
    "duration": 543,
    "start_time": "2021-08-30T12:17:38.506Z"
   },
   {
    "duration": 44,
    "start_time": "2021-08-30T12:17:45.536Z"
   },
   {
    "duration": 45,
    "start_time": "2021-08-30T12:17:55.867Z"
   },
   {
    "duration": 182,
    "start_time": "2021-08-30T12:18:45.860Z"
   },
   {
    "duration": 41,
    "start_time": "2021-08-30T12:18:48.549Z"
   },
   {
    "duration": 150,
    "start_time": "2021-08-30T12:19:34.136Z"
   },
   {
    "duration": 160,
    "start_time": "2021-08-30T12:19:38.946Z"
   },
   {
    "duration": 171,
    "start_time": "2021-08-30T12:20:00.025Z"
   },
   {
    "duration": 6,
    "start_time": "2021-08-30T12:20:42.432Z"
   },
   {
    "duration": 5,
    "start_time": "2021-08-30T12:20:45.660Z"
   },
   {
    "duration": 20,
    "start_time": "2021-08-30T12:20:47.988Z"
   },
   {
    "duration": 20,
    "start_time": "2021-08-30T12:20:50.387Z"
   },
   {
    "duration": 2335,
    "start_time": "2021-08-30T12:21:01.611Z"
   },
   {
    "duration": 2,
    "start_time": "2021-08-30T12:21:49.149Z"
   },
   {
    "duration": 3909,
    "start_time": "2021-08-30T12:21:55.739Z"
   },
   {
    "duration": 3414,
    "start_time": "2021-08-30T12:22:03.464Z"
   },
   {
    "duration": 43,
    "start_time": "2021-08-30T12:22:41.886Z"
   },
   {
    "duration": 45,
    "start_time": "2021-08-30T12:22:48.323Z"
   },
   {
    "duration": 29,
    "start_time": "2021-08-30T12:23:02.773Z"
   },
   {
    "duration": 40,
    "start_time": "2021-08-30T12:24:28.917Z"
   },
   {
    "duration": 206,
    "start_time": "2021-08-30T12:24:34.480Z"
   },
   {
    "duration": 1137,
    "start_time": "2021-08-30T12:24:42.440Z"
   },
   {
    "duration": 122,
    "start_time": "2021-08-30T12:25:02.243Z"
   },
   {
    "duration": 177,
    "start_time": "2021-08-30T12:25:05.144Z"
   },
   {
    "duration": 175,
    "start_time": "2021-08-30T12:25:06.939Z"
   },
   {
    "duration": 178,
    "start_time": "2021-08-30T12:25:16.736Z"
   },
   {
    "duration": 123,
    "start_time": "2021-08-30T12:25:19.820Z"
   },
   {
    "duration": 735,
    "start_time": "2021-08-30T12:25:31.039Z"
   },
   {
    "duration": 114,
    "start_time": "2021-08-30T12:25:36.293Z"
   },
   {
    "duration": 123,
    "start_time": "2021-08-30T12:25:41.453Z"
   },
   {
    "duration": 119,
    "start_time": "2021-08-30T12:25:43.024Z"
   },
   {
    "duration": 2,
    "start_time": "2021-08-30T12:26:59.884Z"
   },
   {
    "duration": 152,
    "start_time": "2021-08-30T12:27:01.817Z"
   },
   {
    "duration": 185,
    "start_time": "2021-08-30T12:27:05.200Z"
   },
   {
    "duration": 32,
    "start_time": "2021-08-30T12:27:24.252Z"
   },
   {
    "duration": 34,
    "start_time": "2021-08-30T12:27:25.272Z"
   },
   {
    "duration": 36,
    "start_time": "2021-08-30T12:27:26.687Z"
   },
   {
    "duration": 32,
    "start_time": "2021-08-30T12:29:15.204Z"
   },
   {
    "duration": 38,
    "start_time": "2021-08-30T12:29:28.122Z"
   },
   {
    "duration": 197,
    "start_time": "2021-08-30T12:29:31.676Z"
   },
   {
    "duration": 194,
    "start_time": "2021-08-30T12:29:40.339Z"
   },
   {
    "duration": 138,
    "start_time": "2021-08-30T12:30:25.280Z"
   },
   {
    "duration": 33,
    "start_time": "2021-08-30T12:31:07.817Z"
   },
   {
    "duration": 453,
    "start_time": "2021-09-01T19:09:56.780Z"
   },
   {
    "duration": 1702,
    "start_time": "2021-09-01T19:10:02.848Z"
   },
   {
    "duration": 1133,
    "start_time": "2021-09-01T19:10:06.760Z"
   },
   {
    "duration": 503,
    "start_time": "2021-09-01T19:10:17.613Z"
   },
   {
    "duration": 13,
    "start_time": "2021-09-01T19:10:30.239Z"
   },
   {
    "duration": 11,
    "start_time": "2021-09-01T19:10:37.592Z"
   },
   {
    "duration": 387,
    "start_time": "2021-09-01T19:10:48.638Z"
   },
   {
    "duration": 382,
    "start_time": "2021-09-01T19:11:12.926Z"
   },
   {
    "duration": 1595,
    "start_time": "2021-09-06T05:52:09.428Z"
   },
   {
    "duration": 5,
    "start_time": "2021-09-06T05:52:11.027Z"
   },
   {
    "duration": 1100,
    "start_time": "2021-09-06T05:52:11.038Z"
   },
   {
    "duration": 32,
    "start_time": "2021-09-06T05:52:12.140Z"
   },
   {
    "duration": 723,
    "start_time": "2021-09-06T05:52:12.174Z"
   },
   {
    "duration": 775,
    "start_time": "2021-09-06T05:52:12.900Z"
   },
   {
    "duration": 1413,
    "start_time": "2021-09-06T05:52:13.677Z"
   },
   {
    "duration": 176,
    "start_time": "2021-09-06T05:52:15.094Z"
   },
   {
    "duration": 47,
    "start_time": "2021-09-06T05:52:15.273Z"
   },
   {
    "duration": 73,
    "start_time": "2021-09-06T05:52:15.322Z"
   },
   {
    "duration": 48,
    "start_time": "2021-09-06T05:52:15.397Z"
   },
   {
    "duration": 66,
    "start_time": "2021-09-06T05:52:15.447Z"
   },
   {
    "duration": 864,
    "start_time": "2021-09-06T05:52:15.515Z"
   },
   {
    "duration": 51,
    "start_time": "2021-09-06T05:52:16.381Z"
   },
   {
    "duration": 343,
    "start_time": "2021-09-06T05:52:16.434Z"
   },
   {
    "duration": 280,
    "start_time": "2021-09-06T05:52:16.779Z"
   },
   {
    "duration": 7,
    "start_time": "2021-09-06T05:52:17.061Z"
   },
   {
    "duration": 237,
    "start_time": "2021-09-06T05:52:17.070Z"
   },
   {
    "duration": 950,
    "start_time": "2021-09-06T05:52:17.309Z"
   },
   {
    "duration": 424,
    "start_time": "2021-09-06T05:52:18.262Z"
   },
   {
    "duration": 3,
    "start_time": "2021-09-06T05:52:35.034Z"
   },
   {
    "duration": 1446,
    "start_time": "2021-09-06T05:53:04.013Z"
   },
   {
    "duration": 1234,
    "start_time": "2021-09-06T05:53:20.874Z"
   },
   {
    "duration": 817,
    "start_time": "2021-09-06T05:54:04.432Z"
   },
   {
    "duration": 5,
    "start_time": "2021-09-06T05:55:22.884Z"
   },
   {
    "duration": 4,
    "start_time": "2021-09-06T05:57:47.560Z"
   },
   {
    "duration": 271,
    "start_time": "2021-09-06T05:58:36.497Z"
   },
   {
    "duration": 4,
    "start_time": "2021-09-06T05:58:41.274Z"
   },
   {
    "duration": 18,
    "start_time": "2021-09-06T06:01:06.457Z"
   },
   {
    "duration": 155,
    "start_time": "2021-09-06T06:01:16.280Z"
   },
   {
    "duration": 173,
    "start_time": "2021-09-06T06:01:40.211Z"
   },
   {
    "duration": 115,
    "start_time": "2021-09-06T06:02:24.236Z"
   },
   {
    "duration": 106,
    "start_time": "2021-09-06T06:03:35.543Z"
   },
   {
    "duration": 4,
    "start_time": "2021-09-06T06:03:41.013Z"
   },
   {
    "duration": 1586,
    "start_time": "2021-09-06T06:04:58.234Z"
   },
   {
    "duration": 4,
    "start_time": "2021-09-06T06:04:59.823Z"
   },
   {
    "duration": 1119,
    "start_time": "2021-09-06T06:04:59.830Z"
   },
   {
    "duration": 32,
    "start_time": "2021-09-06T06:05:00.952Z"
   },
   {
    "duration": 184,
    "start_time": "2021-09-06T06:05:00.987Z"
   },
   {
    "duration": 754,
    "start_time": "2021-09-06T06:05:01.174Z"
   },
   {
    "duration": 141,
    "start_time": "2021-09-06T06:05:01.931Z"
   },
   {
    "duration": 935,
    "start_time": "2021-09-06T06:05:02.076Z"
   },
   {
    "duration": 3,
    "start_time": "2021-09-06T06:05:03.014Z"
   },
   {
    "duration": 1513,
    "start_time": "2021-09-06T06:05:03.019Z"
   },
   {
    "duration": 168,
    "start_time": "2021-09-06T06:05:04.534Z"
   },
   {
    "duration": 44,
    "start_time": "2021-09-06T06:05:04.705Z"
   },
   {
    "duration": 47,
    "start_time": "2021-09-06T06:05:04.767Z"
   },
   {
    "duration": 67,
    "start_time": "2021-09-06T06:05:04.816Z"
   },
   {
    "duration": 54,
    "start_time": "2021-09-06T06:05:04.885Z"
   },
   {
    "duration": 200,
    "start_time": "2021-09-06T06:05:04.941Z"
   },
   {
    "duration": 56,
    "start_time": "2021-09-06T06:05:05.144Z"
   },
   {
    "duration": 284,
    "start_time": "2021-09-06T06:05:05.202Z"
   },
   {
    "duration": 258,
    "start_time": "2021-09-06T06:05:05.488Z"
   },
   {
    "duration": 3,
    "start_time": "2021-09-06T06:05:05.748Z"
   },
   {
    "duration": 214,
    "start_time": "2021-09-06T06:05:05.753Z"
   },
   {
    "duration": 910,
    "start_time": "2021-09-06T06:05:05.969Z"
   },
   {
    "duration": 633,
    "start_time": "2021-09-06T06:05:06.884Z"
   },
   {
    "duration": 4,
    "start_time": "2021-09-06T06:05:07.520Z"
   },
   {
    "duration": 24,
    "start_time": "2021-09-06T06:05:07.526Z"
   },
   {
    "duration": 18,
    "start_time": "2021-09-06T06:05:07.553Z"
   },
   {
    "duration": 27,
    "start_time": "2021-09-06T06:05:07.574Z"
   },
   {
    "duration": 129,
    "start_time": "2021-09-06T06:05:31.931Z"
   },
   {
    "duration": 89,
    "start_time": "2021-09-06T06:05:35.914Z"
   },
   {
    "duration": 9,
    "start_time": "2021-09-06T06:05:40.923Z"
   },
   {
    "duration": 21,
    "start_time": "2021-09-06T06:07:09.214Z"
   },
   {
    "duration": 17,
    "start_time": "2021-09-06T06:07:11.159Z"
   },
   {
    "duration": 2751,
    "start_time": "2021-09-06T06:07:16.093Z"
   },
   {
    "duration": 6356,
    "start_time": "2021-09-06T06:07:30.131Z"
   },
   {
    "duration": 6287,
    "start_time": "2021-09-06T06:08:42.297Z"
   },
   {
    "duration": 6936,
    "start_time": "2021-09-06T06:09:57.306Z"
   },
   {
    "duration": 10974,
    "start_time": "2021-09-06T06:10:11.839Z"
   },
   {
    "duration": 50805,
    "start_time": "2021-09-06T06:10:30.180Z"
   },
   {
    "duration": 1170,
    "start_time": "2021-09-06T06:13:10.709Z"
   },
   {
    "duration": 585,
    "start_time": "2021-09-06T06:13:30.174Z"
   },
   {
    "duration": 1090,
    "start_time": "2021-09-06T18:26:24.205Z"
   },
   {
    "duration": 3,
    "start_time": "2021-09-06T18:26:25.297Z"
   },
   {
    "duration": 742,
    "start_time": "2021-09-06T18:26:25.303Z"
   },
   {
    "duration": 19,
    "start_time": "2021-09-06T18:26:26.046Z"
   },
   {
    "duration": 137,
    "start_time": "2021-09-06T18:26:26.067Z"
   },
   {
    "duration": 406,
    "start_time": "2021-09-06T18:26:26.207Z"
   },
   {
    "duration": 110,
    "start_time": "2021-09-06T18:26:26.616Z"
   },
   {
    "duration": 526,
    "start_time": "2021-09-06T18:26:26.730Z"
   },
   {
    "duration": 4128,
    "start_time": "2021-09-06T18:26:27.258Z"
   },
   {
    "duration": 3763,
    "start_time": "2021-09-06T18:26:31.388Z"
   },
   {
    "duration": 376,
    "start_time": "2021-09-06T18:26:35.153Z"
   },
   {
    "duration": 359,
    "start_time": "2021-09-06T18:26:35.531Z"
   },
   {
    "duration": 564,
    "start_time": "2021-09-06T18:26:35.892Z"
   },
   {
    "duration": 798,
    "start_time": "2021-09-06T18:26:36.458Z"
   },
   {
    "duration": 118,
    "start_time": "2021-09-06T18:26:37.257Z"
   },
   {
    "duration": 35,
    "start_time": "2021-09-06T18:26:37.377Z"
   },
   {
    "duration": 32,
    "start_time": "2021-09-06T18:26:37.413Z"
   },
   {
    "duration": 55,
    "start_time": "2021-09-06T18:26:37.447Z"
   },
   {
    "duration": 34,
    "start_time": "2021-09-06T18:26:37.504Z"
   },
   {
    "duration": 140,
    "start_time": "2021-09-06T18:26:37.539Z"
   },
   {
    "duration": 32,
    "start_time": "2021-09-06T18:26:37.684Z"
   },
   {
    "duration": 182,
    "start_time": "2021-09-06T18:26:37.717Z"
   },
   {
    "duration": 165,
    "start_time": "2021-09-06T18:26:37.902Z"
   },
   {
    "duration": 2,
    "start_time": "2021-09-06T18:26:38.068Z"
   },
   {
    "duration": 137,
    "start_time": "2021-09-06T18:26:38.072Z"
   },
   {
    "duration": 638,
    "start_time": "2021-09-06T18:26:38.211Z"
   },
   {
    "duration": 365,
    "start_time": "2021-09-06T18:26:38.850Z"
   },
   {
    "duration": 2,
    "start_time": "2021-09-06T18:26:39.217Z"
   },
   {
    "duration": 15,
    "start_time": "2021-09-06T18:26:39.221Z"
   },
   {
    "duration": 24,
    "start_time": "2021-09-06T18:26:39.237Z"
   },
   {
    "duration": 16,
    "start_time": "2021-09-06T18:26:39.263Z"
   },
   {
    "duration": 3954,
    "start_time": "2021-09-06T18:27:09.821Z"
   },
   {
    "duration": 18560,
    "start_time": "2021-09-06T18:27:22.716Z"
   },
   {
    "duration": 235,
    "start_time": "2021-09-06T18:29:07.896Z"
   },
   {
    "duration": 57,
    "start_time": "2021-09-06T18:29:35.042Z"
   },
   {
    "duration": 23815,
    "start_time": "2021-09-06T18:29:38.184Z"
   },
   {
    "duration": 7501,
    "start_time": "2021-09-06T18:35:46.327Z"
   },
   {
    "duration": 4,
    "start_time": "2021-09-06T18:39:23.683Z"
   },
   {
    "duration": 4,
    "start_time": "2021-09-06T18:39:25.679Z"
   },
   {
    "duration": 188,
    "start_time": "2021-09-06T18:39:34.086Z"
   },
   {
    "duration": 4,
    "start_time": "2021-09-06T18:39:37.113Z"
   },
   {
    "duration": 4,
    "start_time": "2021-09-06T18:39:43.228Z"
   },
   {
    "duration": 4,
    "start_time": "2021-09-06T18:39:46.527Z"
   },
   {
    "duration": 5,
    "start_time": "2021-09-06T18:40:51.619Z"
   },
   {
    "duration": 4,
    "start_time": "2021-09-06T18:41:29.158Z"
   },
   {
    "duration": 1068,
    "start_time": "2021-09-06T18:43:22.111Z"
   },
   {
    "duration": 2,
    "start_time": "2021-09-06T18:46:14.926Z"
   },
   {
    "duration": 205,
    "start_time": "2021-09-06T18:46:55.542Z"
   },
   {
    "duration": 3,
    "start_time": "2021-09-06T18:51:41.299Z"
   },
   {
    "duration": 20,
    "start_time": "2021-09-06T18:51:52.608Z"
   },
   {
    "duration": 21,
    "start_time": "2021-09-06T18:51:55.892Z"
   },
   {
    "duration": 997,
    "start_time": "2021-09-06T18:52:03.334Z"
   },
   {
    "duration": 3,
    "start_time": "2021-09-06T18:54:18.992Z"
   },
   {
    "duration": 5495,
    "start_time": "2021-09-06T18:55:40.060Z"
   },
   {
    "duration": 166,
    "start_time": "2021-09-06T18:55:58.609Z"
   },
   {
    "duration": 123,
    "start_time": "2021-09-06T18:56:04.563Z"
   },
   {
    "duration": 5393,
    "start_time": "2021-09-06T18:56:11.596Z"
   },
   {
    "duration": 737,
    "start_time": "2021-09-06T18:56:30.063Z"
   },
   {
    "duration": 5,
    "start_time": "2021-09-06T18:58:24.392Z"
   },
   {
    "duration": 64,
    "start_time": "2021-09-06T18:58:30.759Z"
   },
   {
    "duration": 33,
    "start_time": "2021-09-06T18:58:33.305Z"
   },
   {
    "duration": 8,
    "start_time": "2021-09-06T19:05:08.241Z"
   },
   {
    "duration": 159,
    "start_time": "2021-09-06T19:08:14.562Z"
   },
   {
    "duration": 198,
    "start_time": "2021-09-06T19:08:52.640Z"
   },
   {
    "duration": 73,
    "start_time": "2021-09-06T19:09:03.125Z"
   },
   {
    "duration": 32,
    "start_time": "2021-09-06T19:09:46.644Z"
   },
   {
    "duration": 5436,
    "start_time": "2021-09-06T19:09:58.845Z"
   },
   {
    "duration": 715,
    "start_time": "2021-09-06T19:10:31.214Z"
   },
   {
    "duration": 5,
    "start_time": "2021-09-06T19:10:49.678Z"
   },
   {
    "duration": 182,
    "start_time": "2021-09-06T19:10:57.515Z"
   },
   {
    "duration": 2,
    "start_time": "2021-09-06T19:11:35.175Z"
   },
   {
    "duration": 2,
    "start_time": "2021-09-06T19:11:39.031Z"
   },
   {
    "duration": 1057,
    "start_time": "2021-09-06T19:11:48.820Z"
   },
   {
    "duration": 5,
    "start_time": "2021-09-06T19:11:49.879Z"
   },
   {
    "duration": 732,
    "start_time": "2021-09-06T19:11:49.887Z"
   },
   {
    "duration": 16,
    "start_time": "2021-09-06T19:11:50.621Z"
   },
   {
    "duration": 127,
    "start_time": "2021-09-06T19:11:50.639Z"
   },
   {
    "duration": 92,
    "start_time": "2021-09-06T19:11:50.768Z"
   },
   {
    "duration": 40,
    "start_time": "2021-09-06T19:11:50.862Z"
   },
   {
    "duration": 415,
    "start_time": "2021-09-06T19:11:50.903Z"
   },
   {
    "duration": 104,
    "start_time": "2021-09-06T19:11:51.321Z"
   },
   {
    "duration": 1,
    "start_time": "2021-09-06T19:11:51.427Z"
   },
   {
    "duration": 16,
    "start_time": "2021-09-06T19:11:51.430Z"
   },
   {
    "duration": 23,
    "start_time": "2021-09-06T19:11:51.448Z"
   },
   {
    "duration": 36,
    "start_time": "2021-09-06T19:11:51.473Z"
   },
   {
    "duration": 45,
    "start_time": "2021-09-06T19:11:51.510Z"
   },
   {
    "duration": 530,
    "start_time": "2021-09-06T19:11:51.556Z"
   },
   {
    "duration": 23414,
    "start_time": "2021-09-06T19:11:52.088Z"
   },
   {
    "duration": 359,
    "start_time": "2021-09-06T19:12:15.504Z"
   },
   {
    "duration": 360,
    "start_time": "2021-09-06T19:12:15.866Z"
   },
   {
    "duration": 553,
    "start_time": "2021-09-06T19:12:16.228Z"
   },
   {
    "duration": 903,
    "start_time": "2021-09-06T19:12:16.784Z"
   },
   {
    "duration": 118,
    "start_time": "2021-09-06T19:12:17.689Z"
   },
   {
    "duration": 31,
    "start_time": "2021-09-06T19:12:17.810Z"
   },
   {
    "duration": 52,
    "start_time": "2021-09-06T19:12:17.843Z"
   },
   {
    "duration": 33,
    "start_time": "2021-09-06T19:12:17.898Z"
   },
   {
    "duration": 52,
    "start_time": "2021-09-06T19:12:17.933Z"
   },
   {
    "duration": 134,
    "start_time": "2021-09-06T19:12:17.987Z"
   },
   {
    "duration": 31,
    "start_time": "2021-09-06T19:12:18.124Z"
   },
   {
    "duration": 2,
    "start_time": "2021-09-06T19:12:18.157Z"
   },
   {
    "duration": 209,
    "start_time": "2021-09-06T19:12:18.161Z"
   },
   {
    "duration": 3,
    "start_time": "2021-09-06T19:12:18.372Z"
   },
   {
    "duration": 136,
    "start_time": "2021-09-06T19:12:18.385Z"
   },
   {
    "duration": 526,
    "start_time": "2021-09-06T19:12:18.522Z"
   },
   {
    "duration": 369,
    "start_time": "2021-09-06T19:12:19.049Z"
   },
   {
    "duration": 3,
    "start_time": "2021-09-06T19:12:19.420Z"
   },
   {
    "duration": 5,
    "start_time": "2021-09-06T19:12:19.425Z"
   },
   {
    "duration": 4,
    "start_time": "2021-09-06T19:12:19.431Z"
   },
   {
    "duration": 6,
    "start_time": "2021-09-06T19:12:19.437Z"
   },
   {
    "duration": 2,
    "start_time": "2021-09-06T19:14:52.398Z"
   },
   {
    "duration": 2,
    "start_time": "2021-09-06T19:14:59.646Z"
   },
   {
    "duration": 11931,
    "start_time": "2021-09-06T19:15:07.080Z"
   },
   {
    "duration": 617,
    "start_time": "2021-09-06T19:15:28.694Z"
   },
   {
    "duration": 11542,
    "start_time": "2021-09-06T19:15:43.686Z"
   },
   {
    "duration": 5143,
    "start_time": "2021-09-06T19:16:57.757Z"
   },
   {
    "duration": 77,
    "start_time": "2021-09-06T19:19:02.917Z"
   },
   {
    "duration": 64,
    "start_time": "2021-09-06T19:19:17.599Z"
   },
   {
    "duration": 98,
    "start_time": "2021-09-06T19:19:23.366Z"
   },
   {
    "duration": 85,
    "start_time": "2021-09-06T19:19:33.854Z"
   },
   {
    "duration": 31,
    "start_time": "2021-09-06T19:19:46.960Z"
   },
   {
    "duration": 84,
    "start_time": "2021-09-06T19:19:54.824Z"
   },
   {
    "duration": 34,
    "start_time": "2021-09-06T19:19:59.019Z"
   },
   {
    "duration": 85,
    "start_time": "2021-09-06T19:21:39.683Z"
   },
   {
    "duration": 267,
    "start_time": "2021-09-06T19:21:46.667Z"
   },
   {
    "duration": 86,
    "start_time": "2021-09-06T19:22:47.343Z"
   },
   {
    "duration": 88,
    "start_time": "2021-09-06T19:22:52.035Z"
   },
   {
    "duration": 87,
    "start_time": "2021-09-06T19:23:40.271Z"
   },
   {
    "duration": 32,
    "start_time": "2021-09-06T19:23:44.030Z"
   },
   {
    "duration": 17,
    "start_time": "2021-09-06T19:24:27.525Z"
   },
   {
    "duration": 34,
    "start_time": "2021-09-06T19:24:40.791Z"
   },
   {
    "duration": 20,
    "start_time": "2021-09-06T19:26:20.181Z"
   },
   {
    "duration": 23,
    "start_time": "2021-09-06T19:26:29.094Z"
   },
   {
    "duration": 21,
    "start_time": "2021-09-06T19:26:31.715Z"
   },
   {
    "duration": 128,
    "start_time": "2021-09-06T19:26:39.056Z"
   },
   {
    "duration": 112,
    "start_time": "2021-09-06T19:26:46.074Z"
   },
   {
    "duration": 676,
    "start_time": "2021-09-06T19:26:53.210Z"
   },
   {
    "duration": 22,
    "start_time": "2021-09-06T19:27:00.163Z"
   },
   {
    "duration": 22,
    "start_time": "2021-09-06T19:27:02.159Z"
   },
   {
    "duration": 37,
    "start_time": "2021-09-06T19:27:13.659Z"
   },
   {
    "duration": 96,
    "start_time": "2021-09-06T19:29:37.844Z"
   },
   {
    "duration": 86,
    "start_time": "2021-09-06T19:29:44.872Z"
   },
   {
    "duration": 155,
    "start_time": "2021-09-06T19:30:07.202Z"
   },
   {
    "duration": 114,
    "start_time": "2021-09-06T19:30:19.261Z"
   },
   {
    "duration": 113,
    "start_time": "2021-09-06T19:30:35.009Z"
   },
   {
    "duration": 114,
    "start_time": "2021-09-06T19:30:49.857Z"
   },
   {
    "duration": 112,
    "start_time": "2021-09-06T19:30:55.437Z"
   },
   {
    "duration": 115,
    "start_time": "2021-09-06T19:31:38.954Z"
   },
   {
    "duration": 115,
    "start_time": "2021-09-06T19:31:45.245Z"
   },
   {
    "duration": 332,
    "start_time": "2021-09-06T19:31:49.498Z"
   },
   {
    "duration": 118,
    "start_time": "2021-09-06T19:31:53.280Z"
   },
   {
    "duration": 117,
    "start_time": "2021-09-06T19:32:26.684Z"
   },
   {
    "duration": 40,
    "start_time": "2021-09-06T19:32:30.860Z"
   },
   {
    "duration": 5533,
    "start_time": "2021-09-06T19:32:45.014Z"
   },
   {
    "duration": 121,
    "start_time": "2021-09-06T19:32:59.171Z"
   },
   {
    "duration": 38,
    "start_time": "2021-09-06T19:33:09.660Z"
   },
   {
    "duration": 23,
    "start_time": "2021-09-06T19:34:05.263Z"
   },
   {
    "duration": 120,
    "start_time": "2021-09-06T19:34:12.572Z"
   },
   {
    "duration": 21,
    "start_time": "2021-09-06T19:34:20.570Z"
   },
   {
    "duration": 22,
    "start_time": "2021-09-06T19:34:28.410Z"
   },
   {
    "duration": 117,
    "start_time": "2021-09-06T19:34:35.641Z"
   },
   {
    "duration": 60,
    "start_time": "2021-09-06T19:36:09.490Z"
   },
   {
    "duration": 25,
    "start_time": "2021-09-06T19:36:12.636Z"
   },
   {
    "duration": 23,
    "start_time": "2021-09-06T19:36:21.024Z"
   },
   {
    "duration": 126,
    "start_time": "2021-09-06T19:36:25.218Z"
   },
   {
    "duration": 23,
    "start_time": "2021-09-06T19:36:33.213Z"
   },
   {
    "duration": 39,
    "start_time": "2021-09-06T19:36:40.947Z"
   },
   {
    "duration": 206,
    "start_time": "2021-09-06T19:37:43.975Z"
   },
   {
    "duration": 24,
    "start_time": "2021-09-06T19:37:55.924Z"
   },
   {
    "duration": 38,
    "start_time": "2021-09-06T19:37:58.544Z"
   },
   {
    "duration": 23,
    "start_time": "2021-09-06T19:39:04.658Z"
   },
   {
    "duration": 3765,
    "start_time": "2021-09-06T19:39:13.532Z"
   },
   {
    "duration": 25,
    "start_time": "2021-09-06T19:39:17.274Z"
   },
   {
    "duration": 39,
    "start_time": "2021-09-06T19:39:23.170Z"
   },
   {
    "duration": 3391,
    "start_time": "2021-09-06T19:39:30.296Z"
   },
   {
    "duration": 26,
    "start_time": "2021-09-06T19:40:07.520Z"
   },
   {
    "duration": 43,
    "start_time": "2021-09-06T19:40:19.612Z"
   },
   {
    "duration": 20,
    "start_time": "2021-09-06T19:41:02.145Z"
   },
   {
    "duration": 20,
    "start_time": "2021-09-06T19:41:12.534Z"
   },
   {
    "duration": 19,
    "start_time": "2021-09-06T19:41:19.991Z"
   },
   {
    "duration": 20,
    "start_time": "2021-09-06T19:41:22.495Z"
   },
   {
    "duration": 49,
    "start_time": "2021-09-06T19:41:25.117Z"
   },
   {
    "duration": 26,
    "start_time": "2021-09-06T19:41:37.176Z"
   },
   {
    "duration": 19,
    "start_time": "2021-09-06T19:41:39.963Z"
   },
   {
    "duration": 40,
    "start_time": "2021-09-06T19:41:44.515Z"
   },
   {
    "duration": 140,
    "start_time": "2021-09-06T19:41:49.234Z"
   },
   {
    "duration": 120,
    "start_time": "2021-09-06T19:41:53.641Z"
   },
   {
    "duration": 719,
    "start_time": "2021-09-06T19:41:59.721Z"
   },
   {
    "duration": 116,
    "start_time": "2021-09-06T19:42:08.124Z"
   },
   {
    "duration": 22,
    "start_time": "2021-09-06T19:42:12.894Z"
   },
   {
    "duration": 121,
    "start_time": "2021-09-06T19:42:15.975Z"
   },
   {
    "duration": 28,
    "start_time": "2021-09-06T19:42:25.936Z"
   },
   {
    "duration": 120,
    "start_time": "2021-09-06T19:42:28.557Z"
   },
   {
    "duration": 139,
    "start_time": "2021-09-06T19:42:33.362Z"
   },
   {
    "duration": 119,
    "start_time": "2021-09-06T19:42:37.470Z"
   },
   {
    "duration": 282,
    "start_time": "2021-09-06T19:43:11.622Z"
   },
   {
    "duration": 118,
    "start_time": "2021-09-06T19:43:14.695Z"
   },
   {
    "duration": 712,
    "start_time": "2021-09-06T19:44:22.330Z"
   },
   {
    "duration": 28,
    "start_time": "2021-09-06T19:44:28.644Z"
   },
   {
    "duration": 293,
    "start_time": "2021-09-06T19:44:31.261Z"
   },
   {
    "duration": 119,
    "start_time": "2021-09-06T19:45:01.126Z"
   },
   {
    "duration": 353,
    "start_time": "2021-09-06T19:46:23.467Z"
   },
   {
    "duration": 120,
    "start_time": "2021-09-06T19:46:27.294Z"
   },
   {
    "duration": 1113,
    "start_time": "2021-09-06T19:46:39.185Z"
   },
   {
    "duration": 4,
    "start_time": "2021-09-06T19:46:40.300Z"
   },
   {
    "duration": 735,
    "start_time": "2021-09-06T19:46:40.306Z"
   },
   {
    "duration": 18,
    "start_time": "2021-09-06T19:46:41.043Z"
   },
   {
    "duration": 130,
    "start_time": "2021-09-06T19:46:41.063Z"
   },
   {
    "duration": 102,
    "start_time": "2021-09-06T19:46:41.195Z"
   },
   {
    "duration": 3,
    "start_time": "2021-09-06T19:46:41.299Z"
   },
   {
    "duration": 402,
    "start_time": "2021-09-06T19:46:41.304Z"
   },
   {
    "duration": 163,
    "start_time": "2021-09-06T19:46:41.710Z"
   },
   {
    "duration": 30,
    "start_time": "2021-09-06T19:46:41.875Z"
   },
   {
    "duration": 3,
    "start_time": "2021-09-06T19:46:41.906Z"
   },
   {
    "duration": 394,
    "start_time": "2021-09-06T19:46:41.911Z"
   },
   {
    "duration": 2,
    "start_time": "2021-09-06T19:46:42.307Z"
   },
   {
    "duration": 24,
    "start_time": "2021-09-06T19:46:42.310Z"
   },
   {
    "duration": 34,
    "start_time": "2021-09-06T19:46:42.335Z"
   },
   {
    "duration": 558,
    "start_time": "2021-09-06T19:46:42.371Z"
   },
   {
    "duration": 23266,
    "start_time": "2021-09-06T19:46:42.930Z"
   },
   {
    "duration": 359,
    "start_time": "2021-09-06T19:47:06.197Z"
   },
   {
    "duration": 342,
    "start_time": "2021-09-06T19:47:06.558Z"
   },
   {
    "duration": 547,
    "start_time": "2021-09-06T19:47:06.902Z"
   },
   {
    "duration": 888,
    "start_time": "2021-09-06T19:47:07.451Z"
   },
   {
    "duration": 115,
    "start_time": "2021-09-06T19:47:08.341Z"
   },
   {
    "duration": 29,
    "start_time": "2021-09-06T19:47:08.457Z"
   },
   {
    "duration": 49,
    "start_time": "2021-09-06T19:47:08.488Z"
   },
   {
    "duration": 18,
    "start_time": "2021-09-06T19:47:08.538Z"
   },
   {
    "duration": 43,
    "start_time": "2021-09-06T19:47:08.558Z"
   },
   {
    "duration": 123,
    "start_time": "2021-09-06T19:47:08.604Z"
   },
   {
    "duration": 31,
    "start_time": "2021-09-06T19:47:08.729Z"
   },
   {
    "duration": 10,
    "start_time": "2021-09-06T19:47:08.762Z"
   },
   {
    "duration": 174,
    "start_time": "2021-09-06T19:47:08.773Z"
   },
   {
    "duration": 2,
    "start_time": "2021-09-06T19:47:08.948Z"
   },
   {
    "duration": 121,
    "start_time": "2021-09-06T19:47:08.952Z"
   },
   {
    "duration": 522,
    "start_time": "2021-09-06T19:47:09.074Z"
   },
   {
    "duration": 357,
    "start_time": "2021-09-06T19:47:09.598Z"
   },
   {
    "duration": 2,
    "start_time": "2021-09-06T19:47:09.957Z"
   },
   {
    "duration": 17,
    "start_time": "2021-09-06T19:47:09.961Z"
   },
   {
    "duration": 16,
    "start_time": "2021-09-06T19:47:09.979Z"
   },
   {
    "duration": 16,
    "start_time": "2021-09-06T19:47:09.997Z"
   },
   {
    "duration": 350,
    "start_time": "2021-09-06T19:48:41.335Z"
   },
   {
    "duration": 14,
    "start_time": "2021-09-06T19:49:01.937Z"
   },
   {
    "duration": 1605,
    "start_time": "2021-09-07T09:01:35.603Z"
   },
   {
    "duration": 4,
    "start_time": "2021-09-07T09:01:37.209Z"
   },
   {
    "duration": 756,
    "start_time": "2021-09-07T09:01:37.215Z"
   },
   {
    "duration": 21,
    "start_time": "2021-09-07T09:01:37.972Z"
   },
   {
    "duration": 124,
    "start_time": "2021-09-07T09:01:37.994Z"
   },
   {
    "duration": 101,
    "start_time": "2021-09-07T09:01:38.119Z"
   },
   {
    "duration": 2,
    "start_time": "2021-09-07T09:01:38.222Z"
   },
   {
    "duration": 577,
    "start_time": "2021-09-07T09:01:38.226Z"
   },
   {
    "duration": 143,
    "start_time": "2021-09-07T09:01:38.805Z"
   },
   {
    "duration": 28,
    "start_time": "2021-09-07T09:01:38.950Z"
   },
   {
    "duration": 2,
    "start_time": "2021-09-07T09:01:38.992Z"
   },
   {
    "duration": 380,
    "start_time": "2021-09-07T09:01:38.996Z"
   },
   {
    "duration": 17,
    "start_time": "2021-09-07T09:01:39.378Z"
   },
   {
    "duration": 6,
    "start_time": "2021-09-07T09:01:39.396Z"
   },
   {
    "duration": 25,
    "start_time": "2021-09-07T09:01:39.403Z"
   },
   {
    "duration": 35,
    "start_time": "2021-09-07T09:01:39.430Z"
   },
   {
    "duration": 504,
    "start_time": "2021-09-07T09:01:39.466Z"
   },
   {
    "duration": 23137,
    "start_time": "2021-09-07T09:01:39.972Z"
   },
   {
    "duration": 348,
    "start_time": "2021-09-07T09:02:03.110Z"
   },
   {
    "duration": 339,
    "start_time": "2021-09-07T09:02:03.460Z"
   },
   {
    "duration": 518,
    "start_time": "2021-09-07T09:02:03.801Z"
   },
   {
    "duration": 867,
    "start_time": "2021-09-07T09:02:04.320Z"
   },
   {
    "duration": 119,
    "start_time": "2021-09-07T09:02:05.193Z"
   },
   {
    "duration": 20,
    "start_time": "2021-09-07T09:02:05.314Z"
   },
   {
    "duration": 42,
    "start_time": "2021-09-07T09:02:05.335Z"
   },
   {
    "duration": 31,
    "start_time": "2021-09-07T09:02:05.379Z"
   },
   {
    "duration": 42,
    "start_time": "2021-09-07T09:02:05.412Z"
   },
   {
    "duration": 145,
    "start_time": "2021-09-07T09:02:05.456Z"
   },
   {
    "duration": 33,
    "start_time": "2021-09-07T09:02:05.603Z"
   },
   {
    "duration": 9,
    "start_time": "2021-09-07T09:02:05.638Z"
   },
   {
    "duration": 166,
    "start_time": "2021-09-07T09:02:05.648Z"
   },
   {
    "duration": 2,
    "start_time": "2021-09-07T09:02:05.816Z"
   },
   {
    "duration": 127,
    "start_time": "2021-09-07T09:02:05.820Z"
   },
   {
    "duration": 499,
    "start_time": "2021-09-07T09:02:05.949Z"
   },
   {
    "duration": 342,
    "start_time": "2021-09-07T09:02:06.449Z"
   },
   {
    "duration": 2,
    "start_time": "2021-09-07T09:02:06.793Z"
   },
   {
    "duration": 15,
    "start_time": "2021-09-07T09:02:06.797Z"
   },
   {
    "duration": 12,
    "start_time": "2021-09-07T09:02:06.813Z"
   },
   {
    "duration": 10,
    "start_time": "2021-09-07T09:02:06.826Z"
   },
   {
    "duration": 1209,
    "start_time": "2021-09-07T09:03:04.982Z"
   },
   {
    "duration": 372,
    "start_time": "2021-09-07T09:03:08.998Z"
   },
   {
    "duration": 3522,
    "start_time": "2021-09-07T09:03:30.160Z"
   },
   {
    "duration": 3328,
    "start_time": "2021-09-07T09:04:25.273Z"
   },
   {
    "duration": 87,
    "start_time": "2021-09-07T09:04:54.897Z"
   },
   {
    "duration": 601,
    "start_time": "2021-09-07T09:04:59.383Z"
   },
   {
    "duration": 595,
    "start_time": "2021-09-07T09:05:32.338Z"
   },
   {
    "duration": 619,
    "start_time": "2021-09-07T09:05:34.323Z"
   },
   {
    "duration": 3268,
    "start_time": "2021-09-07T09:05:37.807Z"
   },
   {
    "duration": 3437,
    "start_time": "2021-09-07T09:06:03.248Z"
   },
   {
    "duration": 4,
    "start_time": "2021-09-07T09:06:23.673Z"
   },
   {
    "duration": 3363,
    "start_time": "2021-09-07T09:06:29.415Z"
   },
   {
    "duration": 14170,
    "start_time": "2021-09-07T09:07:55.773Z"
   },
   {
    "duration": 14240,
    "start_time": "2021-09-07T09:09:03.886Z"
   },
   {
    "duration": 61,
    "start_time": "2021-09-07T09:11:10.674Z"
   },
   {
    "duration": 117,
    "start_time": "2021-09-07T09:11:38.643Z"
   },
   {
    "duration": 398,
    "start_time": "2021-09-07T09:11:56.277Z"
   },
   {
    "duration": 115,
    "start_time": "2021-09-07T09:12:22.933Z"
   },
   {
    "duration": 5,
    "start_time": "2021-09-07T09:13:56.000Z"
   },
   {
    "duration": 35,
    "start_time": "2021-09-07T09:14:22.049Z"
   },
   {
    "duration": 5,
    "start_time": "2021-09-07T09:14:38.083Z"
   },
   {
    "duration": 35,
    "start_time": "2021-09-07T09:14:39.941Z"
   },
   {
    "duration": 35,
    "start_time": "2021-09-07T09:16:23.293Z"
   },
   {
    "duration": 100,
    "start_time": "2021-09-07T09:19:23.698Z"
   },
   {
    "duration": 24,
    "start_time": "2021-09-07T09:19:27.336Z"
   },
   {
    "duration": 21234,
    "start_time": "2021-09-07T09:19:49.555Z"
   },
   {
    "duration": 4,
    "start_time": "2021-09-07T09:21:38.797Z"
   },
   {
    "duration": 37,
    "start_time": "2021-09-07T09:21:41.301Z"
   },
   {
    "duration": 37,
    "start_time": "2021-09-07T09:21:47.178Z"
   },
   {
    "duration": 36,
    "start_time": "2021-09-07T09:21:48.401Z"
   },
   {
    "duration": 36,
    "start_time": "2021-09-07T09:21:49.156Z"
   },
   {
    "duration": 37,
    "start_time": "2021-09-07T09:21:49.901Z"
   },
   {
    "duration": 4,
    "start_time": "2021-09-07T09:21:50.589Z"
   },
   {
    "duration": 98,
    "start_time": "2021-09-07T09:21:52.620Z"
   },
   {
    "duration": 21796,
    "start_time": "2021-09-07T09:21:53.972Z"
   },
   {
    "duration": 297,
    "start_time": "2021-09-07T09:22:24.426Z"
   },
   {
    "duration": 283,
    "start_time": "2021-09-07T09:22:28.836Z"
   },
   {
    "duration": 21152,
    "start_time": "2021-09-07T09:22:56.677Z"
   },
   {
    "duration": 21215,
    "start_time": "2021-09-07T09:24:46.610Z"
   },
   {
    "duration": 20995,
    "start_time": "2021-09-07T09:25:44.574Z"
   },
   {
    "duration": 115,
    "start_time": "2021-09-07T09:26:05.959Z"
   },
   {
    "duration": 165,
    "start_time": "2021-09-07T09:26:11.755Z"
   },
   {
    "duration": 36965,
    "start_time": "2021-09-07T09:26:26.115Z"
   },
   {
    "duration": 22300,
    "start_time": "2021-09-07T09:28:21.402Z"
   },
   {
    "duration": 127,
    "start_time": "2021-09-07T09:30:45.905Z"
   },
   {
    "duration": 1182,
    "start_time": "2021-09-07T09:31:22.959Z"
   },
   {
    "duration": 129,
    "start_time": "2021-09-07T09:31:31.682Z"
   },
   {
    "duration": 117,
    "start_time": "2021-09-07T09:31:49.782Z"
   },
   {
    "duration": 122,
    "start_time": "2021-09-07T09:33:07.023Z"
   },
   {
    "duration": 293,
    "start_time": "2021-09-07T09:33:57.299Z"
   },
   {
    "duration": 122,
    "start_time": "2021-09-07T09:33:59.092Z"
   },
   {
    "duration": 34,
    "start_time": "2021-09-07T09:34:47.913Z"
   },
   {
    "duration": 8,
    "start_time": "2021-09-07T09:35:05.808Z"
   },
   {
    "duration": 125,
    "start_time": "2021-09-07T09:35:08.159Z"
   },
   {
    "duration": 835,
    "start_time": "2021-09-07T09:35:37.182Z"
   },
   {
    "duration": 32,
    "start_time": "2021-09-07T09:35:41.083Z"
   },
   {
    "duration": 127,
    "start_time": "2021-09-07T09:35:42.123Z"
   },
   {
    "duration": 133,
    "start_time": "2021-09-07T09:35:44.620Z"
   },
   {
    "duration": 27,
    "start_time": "2021-09-07T09:35:45.999Z"
   },
   {
    "duration": 368,
    "start_time": "2021-09-07T09:35:47.641Z"
   },
   {
    "duration": 296,
    "start_time": "2021-09-07T09:35:48.988Z"
   },
   {
    "duration": 22,
    "start_time": "2021-09-07T09:35:50.276Z"
   },
   {
    "duration": 34,
    "start_time": "2021-09-07T09:35:57.707Z"
   },
   {
    "duration": 125,
    "start_time": "2021-09-07T09:35:58.881Z"
   },
   {
    "duration": 18,
    "start_time": "2021-09-07T09:36:04.649Z"
   },
   {
    "duration": 119,
    "start_time": "2021-09-07T09:36:07.411Z"
   },
   {
    "duration": 33,
    "start_time": "2021-09-07T09:36:08.966Z"
   },
   {
    "duration": 13,
    "start_time": "2021-09-07T09:36:15.209Z"
   },
   {
    "duration": 26,
    "start_time": "2021-09-07T09:38:47.243Z"
   },
   {
    "duration": 257,
    "start_time": "2021-09-07T09:38:50.655Z"
   },
   {
    "duration": 18,
    "start_time": "2021-09-07T09:39:02.031Z"
   },
   {
    "duration": 1217,
    "start_time": "2021-09-07T09:39:38.688Z"
   },
   {
    "duration": 3,
    "start_time": "2021-09-07T09:39:39.908Z"
   },
   {
    "duration": 782,
    "start_time": "2021-09-07T09:39:39.914Z"
   },
   {
    "duration": 18,
    "start_time": "2021-09-07T09:39:40.698Z"
   },
   {
    "duration": 236,
    "start_time": "2021-09-07T09:39:40.720Z"
   },
   {
    "duration": 137,
    "start_time": "2021-09-07T09:39:40.958Z"
   },
   {
    "duration": 32,
    "start_time": "2021-09-07T09:39:41.096Z"
   },
   {
    "duration": 609,
    "start_time": "2021-09-07T09:39:41.131Z"
   },
   {
    "duration": 153,
    "start_time": "2021-09-07T09:39:41.742Z"
   },
   {
    "duration": 29,
    "start_time": "2021-09-07T09:39:41.897Z"
   },
   {
    "duration": 2,
    "start_time": "2021-09-07T09:39:41.928Z"
   },
   {
    "duration": 425,
    "start_time": "2021-09-07T09:39:41.932Z"
   },
   {
    "duration": 316,
    "start_time": "2021-09-07T09:39:42.359Z"
   },
   {
    "duration": 22,
    "start_time": "2021-09-07T09:39:42.677Z"
   },
   {
    "duration": 32,
    "start_time": "2021-09-07T09:39:42.700Z"
   },
   {
    "duration": 12,
    "start_time": "2021-09-07T09:39:42.733Z"
   },
   {
    "duration": 1311,
    "start_time": "2021-09-07T09:40:31.795Z"
   },
   {
    "duration": 3,
    "start_time": "2021-09-07T09:40:33.109Z"
   },
   {
    "duration": 798,
    "start_time": "2021-09-07T09:40:33.114Z"
   },
   {
    "duration": 16,
    "start_time": "2021-09-07T09:40:33.914Z"
   },
   {
    "duration": 138,
    "start_time": "2021-09-07T09:40:33.932Z"
   },
   {
    "duration": 107,
    "start_time": "2021-09-07T09:40:34.072Z"
   },
   {
    "duration": 36,
    "start_time": "2021-09-07T09:40:34.181Z"
   },
   {
    "duration": 742,
    "start_time": "2021-09-07T09:40:34.220Z"
   },
   {
    "duration": 161,
    "start_time": "2021-09-07T09:40:34.964Z"
   },
   {
    "duration": 32,
    "start_time": "2021-09-07T09:40:35.128Z"
   },
   {
    "duration": 3,
    "start_time": "2021-09-07T09:40:35.162Z"
   },
   {
    "duration": 415,
    "start_time": "2021-09-07T09:40:35.167Z"
   },
   {
    "duration": 311,
    "start_time": "2021-09-07T09:40:35.584Z"
   },
   {
    "duration": 17,
    "start_time": "2021-09-07T09:40:35.897Z"
   },
   {
    "duration": 25,
    "start_time": "2021-09-07T09:40:35.916Z"
   },
   {
    "duration": 12,
    "start_time": "2021-09-07T09:40:35.942Z"
   },
   {
    "duration": 514,
    "start_time": "2021-09-07T09:41:51.676Z"
   },
   {
    "duration": 20165,
    "start_time": "2021-09-07T09:41:59.700Z"
   },
   {
    "duration": 442,
    "start_time": "2021-09-07T10:01:12.780Z"
   },
   {
    "duration": 4,
    "start_time": "2021-09-07T10:01:19.780Z"
   },
   {
    "duration": 6,
    "start_time": "2021-09-07T10:01:24.219Z"
   },
   {
    "duration": 6,
    "start_time": "2021-09-07T10:02:51.594Z"
   },
   {
    "duration": 8,
    "start_time": "2021-09-07T10:02:54.523Z"
   },
   {
    "duration": 1353,
    "start_time": "2021-09-07T10:03:19.367Z"
   },
   {
    "duration": 5,
    "start_time": "2021-09-07T10:03:20.722Z"
   },
   {
    "duration": 862,
    "start_time": "2021-09-07T10:03:20.730Z"
   },
   {
    "duration": 19,
    "start_time": "2021-09-07T10:03:21.594Z"
   },
   {
    "duration": 146,
    "start_time": "2021-09-07T10:03:21.615Z"
   },
   {
    "duration": 116,
    "start_time": "2021-09-07T10:03:21.763Z"
   },
   {
    "duration": 42,
    "start_time": "2021-09-07T10:03:21.882Z"
   },
   {
    "duration": 627,
    "start_time": "2021-09-07T10:03:21.927Z"
   },
   {
    "duration": 167,
    "start_time": "2021-09-07T10:03:22.557Z"
   },
   {
    "duration": 32,
    "start_time": "2021-09-07T10:03:22.726Z"
   },
   {
    "duration": 2,
    "start_time": "2021-09-07T10:03:22.760Z"
   },
   {
    "duration": 430,
    "start_time": "2021-09-07T10:03:22.764Z"
   },
   {
    "duration": 323,
    "start_time": "2021-09-07T10:03:23.196Z"
   },
   {
    "duration": 19,
    "start_time": "2021-09-07T10:03:23.521Z"
   },
   {
    "duration": 27,
    "start_time": "2021-09-07T10:03:23.542Z"
   },
   {
    "duration": 28,
    "start_time": "2021-09-07T10:03:23.571Z"
   },
   {
    "duration": 6,
    "start_time": "2021-09-07T10:03:23.600Z"
   },
   {
    "duration": 25,
    "start_time": "2021-09-07T10:03:23.607Z"
   },
   {
    "duration": 59,
    "start_time": "2021-09-07T10:03:23.634Z"
   },
   {
    "duration": 484,
    "start_time": "2021-09-07T10:03:23.694Z"
   },
   {
    "duration": 21920,
    "start_time": "2021-09-07T10:03:24.180Z"
   },
   {
    "duration": 6,
    "start_time": "2021-09-07T10:03:46.102Z"
   },
   {
    "duration": 52,
    "start_time": "2021-09-07T10:03:46.113Z"
   },
   {
    "duration": 54,
    "start_time": "2021-09-07T10:03:46.168Z"
   },
   {
    "duration": 105,
    "start_time": "2021-09-07T10:03:46.225Z"
   },
   {
    "duration": 22533,
    "start_time": "2021-09-07T10:03:46.332Z"
   },
   {
    "duration": 152,
    "start_time": "2021-09-07T10:04:08.867Z"
   },
   {
    "duration": 337,
    "start_time": "2021-09-07T10:04:09.021Z"
   },
   {
    "duration": 693,
    "start_time": "2021-09-07T10:04:09.360Z"
   },
   {
    "duration": 1025,
    "start_time": "2021-09-07T10:04:10.055Z"
   },
   {
    "duration": 137,
    "start_time": "2021-09-07T10:04:11.082Z"
   },
   {
    "duration": 37,
    "start_time": "2021-09-07T10:04:11.221Z"
   },
   {
    "duration": 57,
    "start_time": "2021-09-07T10:04:11.261Z"
   },
   {
    "duration": 25,
    "start_time": "2021-09-07T10:04:11.320Z"
   },
   {
    "duration": 54,
    "start_time": "2021-09-07T10:04:11.348Z"
   },
   {
    "duration": 221,
    "start_time": "2021-09-07T10:04:11.404Z"
   },
   {
    "duration": 37,
    "start_time": "2021-09-07T10:04:11.627Z"
   },
   {
    "duration": 3,
    "start_time": "2021-09-07T10:04:11.666Z"
   },
   {
    "duration": 207,
    "start_time": "2021-09-07T10:04:11.671Z"
   },
   {
    "duration": 3,
    "start_time": "2021-09-07T10:04:11.879Z"
   },
   {
    "duration": 144,
    "start_time": "2021-09-07T10:04:11.894Z"
   },
   {
    "duration": 523,
    "start_time": "2021-09-07T10:04:12.041Z"
   },
   {
    "duration": 339,
    "start_time": "2021-09-07T10:04:12.566Z"
   },
   {
    "duration": 3,
    "start_time": "2021-09-07T10:04:12.908Z"
   },
   {
    "duration": 18,
    "start_time": "2021-09-07T10:04:12.913Z"
   },
   {
    "duration": 20,
    "start_time": "2021-09-07T10:04:12.933Z"
   },
   {
    "duration": 17,
    "start_time": "2021-09-07T10:04:12.955Z"
   },
   {
    "duration": -27,
    "start_time": "2021-09-07T10:04:13.002Z"
   },
   {
    "duration": -29,
    "start_time": "2021-09-07T10:04:13.005Z"
   },
   {
    "duration": 7,
    "start_time": "2021-09-07T10:10:37.591Z"
   },
   {
    "duration": 6,
    "start_time": "2021-09-07T10:11:19.892Z"
   },
   {
    "duration": 4,
    "start_time": "2021-09-07T10:11:23.439Z"
   },
   {
    "duration": 7,
    "start_time": "2021-09-07T10:11:25.950Z"
   },
   {
    "duration": 6,
    "start_time": "2021-09-07T10:11:27.858Z"
   },
   {
    "duration": 4,
    "start_time": "2021-09-07T10:16:51.586Z"
   },
   {
    "duration": 7,
    "start_time": "2021-09-07T10:17:42.452Z"
   },
   {
    "duration": 7,
    "start_time": "2021-09-07T10:18:09.842Z"
   },
   {
    "duration": 351,
    "start_time": "2021-09-07T10:18:15.265Z"
   },
   {
    "duration": 6,
    "start_time": "2021-09-07T10:18:54.627Z"
   },
   {
    "duration": 7,
    "start_time": "2021-09-07T10:18:58.247Z"
   },
   {
    "duration": 8,
    "start_time": "2021-09-07T10:19:00.121Z"
   },
   {
    "duration": 6,
    "start_time": "2021-09-07T10:19:00.693Z"
   },
   {
    "duration": 6,
    "start_time": "2021-09-07T10:19:01.212Z"
   },
   {
    "duration": 7,
    "start_time": "2021-09-07T10:19:01.689Z"
   },
   {
    "duration": 37089,
    "start_time": "2021-09-07T10:19:49.243Z"
   },
   {
    "duration": 20988,
    "start_time": "2021-09-07T10:20:32.036Z"
   },
   {
    "duration": 21353,
    "start_time": "2021-09-07T10:21:00.968Z"
   },
   {
    "duration": 21737,
    "start_time": "2021-09-07T10:23:36.599Z"
   },
   {
    "duration": 21711,
    "start_time": "2021-09-07T10:24:10.143Z"
   },
   {
    "duration": 22348,
    "start_time": "2021-09-07T10:25:12.601Z"
   },
   {
    "duration": 35568,
    "start_time": "2021-09-07T10:25:42.119Z"
   },
   {
    "duration": 22397,
    "start_time": "2021-09-07T10:26:57.627Z"
   },
   {
    "duration": 22558,
    "start_time": "2021-09-07T10:28:26.368Z"
   },
   {
    "duration": 3,
    "start_time": "2021-09-07T10:30:19.116Z"
   },
   {
    "duration": 5,
    "start_time": "2021-09-07T10:30:28.382Z"
   },
   {
    "duration": 3,
    "start_time": "2021-09-07T10:30:31.655Z"
   },
   {
    "duration": 4,
    "start_time": "2021-09-07T10:30:39.327Z"
   },
   {
    "duration": 5,
    "start_time": "2021-09-07T10:30:56.653Z"
   },
   {
    "duration": 4,
    "start_time": "2021-09-07T10:31:23.235Z"
   },
   {
    "duration": 5,
    "start_time": "2021-09-07T10:31:24.522Z"
   },
   {
    "duration": 4,
    "start_time": "2021-09-07T10:31:27.974Z"
   },
   {
    "duration": 4,
    "start_time": "2021-09-07T10:31:30.497Z"
   },
   {
    "duration": 4,
    "start_time": "2021-09-07T10:31:52.662Z"
   },
   {
    "duration": 493,
    "start_time": "2021-09-07T10:33:30.784Z"
   },
   {
    "duration": 156,
    "start_time": "2021-09-07T10:33:37.873Z"
   },
   {
    "duration": 1148,
    "start_time": "2021-09-07T10:33:44.028Z"
   },
   {
    "duration": 20,
    "start_time": "2021-09-07T10:33:46.373Z"
   },
   {
    "duration": 217,
    "start_time": "2021-09-07T10:33:48.440Z"
   },
   {
    "duration": 129,
    "start_time": "2021-09-07T10:33:49.694Z"
   },
   {
    "duration": 240,
    "start_time": "2021-09-07T10:33:51.094Z"
   },
   {
    "duration": 224,
    "start_time": "2021-09-07T10:33:58.252Z"
   },
   {
    "duration": 201,
    "start_time": "2021-09-07T10:40:19.820Z"
   },
   {
    "duration": 218,
    "start_time": "2021-09-07T10:40:31.597Z"
   },
   {
    "duration": 128,
    "start_time": "2021-09-07T10:40:58.008Z"
   },
   {
    "duration": 128,
    "start_time": "2021-09-07T10:41:25.939Z"
   },
   {
    "duration": 128,
    "start_time": "2021-09-07T10:41:30.430Z"
   },
   {
    "duration": 6716,
    "start_time": "2021-09-07T10:42:05.140Z"
   },
   {
    "duration": 6234,
    "start_time": "2021-09-07T10:42:24.238Z"
   },
   {
    "duration": 122,
    "start_time": "2021-09-07T10:42:35.634Z"
   },
   {
    "duration": -45,
    "start_time": "2021-09-07T10:43:40.449Z"
   },
   {
    "duration": 9,
    "start_time": "2021-09-07T10:44:04.907Z"
   },
   {
    "duration": 6,
    "start_time": "2021-09-07T10:44:14.691Z"
   },
   {
    "duration": 8,
    "start_time": "2021-09-07T10:44:20.492Z"
   },
   {
    "duration": 123,
    "start_time": "2021-09-07T10:44:48.199Z"
   },
   {
    "duration": 11,
    "start_time": "2021-09-07T10:45:01.549Z"
   },
   {
    "duration": 10,
    "start_time": "2021-09-07T10:45:05.121Z"
   },
   {
    "duration": 9,
    "start_time": "2021-09-07T10:45:15.146Z"
   },
   {
    "duration": 15,
    "start_time": "2021-09-07T10:45:20.544Z"
   },
   {
    "duration": 68,
    "start_time": "2021-09-07T10:45:42.211Z"
   },
   {
    "duration": 362,
    "start_time": "2021-09-07T10:45:53.809Z"
   },
   {
    "duration": 69,
    "start_time": "2021-09-07T10:46:16.335Z"
   },
   {
    "duration": 65,
    "start_time": "2021-09-07T10:46:28.630Z"
   },
   {
    "duration": 69,
    "start_time": "2021-09-07T10:46:53.524Z"
   },
   {
    "duration": 69,
    "start_time": "2021-09-07T10:47:03.706Z"
   },
   {
    "duration": 132,
    "start_time": "2021-09-07T10:47:39.492Z"
   },
   {
    "duration": 79,
    "start_time": "2021-09-07T10:47:56.354Z"
   },
   {
    "duration": 127,
    "start_time": "2021-09-07T10:48:14.197Z"
   },
   {
    "duration": 67,
    "start_time": "2021-09-07T10:48:22.845Z"
   },
   {
    "duration": 132,
    "start_time": "2021-09-07T10:48:27.649Z"
   },
   {
    "duration": 158,
    "start_time": "2021-09-07T10:48:44.182Z"
   },
   {
    "duration": 129,
    "start_time": "2021-09-07T10:48:51.234Z"
   },
   {
    "duration": 134,
    "start_time": "2021-09-07T10:48:54.406Z"
   },
   {
    "duration": 68,
    "start_time": "2021-09-07T10:50:40.569Z"
   },
   {
    "duration": 68,
    "start_time": "2021-09-07T10:50:43.963Z"
   },
   {
    "duration": 138,
    "start_time": "2021-09-07T10:50:59.235Z"
   },
   {
    "duration": 35,
    "start_time": "2021-09-07T10:55:45.121Z"
   },
   {
    "duration": 34,
    "start_time": "2021-09-07T10:58:59.771Z"
   },
   {
    "duration": 30,
    "start_time": "2021-09-07T11:02:00.521Z"
   },
   {
    "duration": 13,
    "start_time": "2021-09-07T11:49:05.955Z"
   },
   {
    "duration": 356,
    "start_time": "2021-09-07T11:49:11.430Z"
   },
   {
    "duration": 278,
    "start_time": "2021-09-07T11:49:12.784Z"
   },
   {
    "duration": 18,
    "start_time": "2021-09-07T11:49:14.220Z"
   },
   {
    "duration": 20,
    "start_time": "2021-09-07T11:49:15.171Z"
   },
   {
    "duration": 11,
    "start_time": "2021-09-07T11:49:15.907Z"
   },
   {
    "duration": 4,
    "start_time": "2021-09-07T11:49:23.745Z"
   },
   {
    "duration": 1739,
    "start_time": "2021-09-07T11:50:26.999Z"
   },
   {
    "duration": 4,
    "start_time": "2021-09-07T11:50:28.741Z"
   },
   {
    "duration": 1088,
    "start_time": "2021-09-07T11:50:28.748Z"
   },
   {
    "duration": 25,
    "start_time": "2021-09-07T11:50:29.839Z"
   },
   {
    "duration": 228,
    "start_time": "2021-09-07T11:50:29.866Z"
   },
   {
    "duration": 138,
    "start_time": "2021-09-07T11:50:30.096Z"
   },
   {
    "duration": 742,
    "start_time": "2021-09-07T11:50:30.237Z"
   },
   {
    "duration": 120,
    "start_time": "2021-09-07T11:50:30.982Z"
   },
   {
    "duration": 221,
    "start_time": "2021-09-07T11:50:31.104Z"
   },
   {
    "duration": 67,
    "start_time": "2021-09-07T11:50:31.327Z"
   },
   {
    "duration": 223,
    "start_time": "2021-09-07T11:50:31.396Z"
   },
   {
    "duration": 48,
    "start_time": "2021-09-07T11:50:31.621Z"
   },
   {
    "duration": 631,
    "start_time": "2021-09-07T11:50:31.671Z"
   },
   {
    "duration": 470,
    "start_time": "2021-09-07T11:50:32.304Z"
   },
   {
    "duration": 26,
    "start_time": "2021-09-07T11:50:32.776Z"
   },
   {
    "duration": 39,
    "start_time": "2021-09-07T11:50:32.803Z"
   },
   {
    "duration": 11,
    "start_time": "2021-09-07T11:50:37.805Z"
   },
   {
    "duration": 21,
    "start_time": "2021-09-07T11:51:02.286Z"
   },
   {
    "duration": 549,
    "start_time": "2021-09-07T11:51:08.078Z"
   },
   {
    "duration": 21124,
    "start_time": "2021-09-07T11:51:19.153Z"
   },
   {
    "duration": 407,
    "start_time": "2021-09-07T12:18:15.251Z"
   },
   {
    "duration": 6568,
    "start_time": "2021-09-07T12:23:35.069Z"
   },
   {
    "duration": 5,
    "start_time": "2021-09-07T12:23:54.584Z"
   },
   {
    "duration": 4,
    "start_time": "2021-09-07T12:23:59.574Z"
   },
   {
    "duration": 4,
    "start_time": "2021-09-07T12:24:03.800Z"
   },
   {
    "duration": 14,
    "start_time": "2021-09-07T12:24:15.565Z"
   },
   {
    "duration": 263,
    "start_time": "2021-09-07T12:25:17.442Z"
   },
   {
    "duration": 11,
    "start_time": "2021-09-07T12:25:55.905Z"
   },
   {
    "duration": 12,
    "start_time": "2021-09-07T12:26:00.816Z"
   },
   {
    "duration": 16832,
    "start_time": "2021-09-07T12:26:10.568Z"
   },
   {
    "duration": 16903,
    "start_time": "2021-09-07T12:26:44.564Z"
   },
   {
    "duration": 16969,
    "start_time": "2021-09-07T12:27:04.975Z"
   },
   {
    "duration": 6,
    "start_time": "2021-09-07T12:30:29.382Z"
   },
   {
    "duration": 4,
    "start_time": "2021-09-07T12:30:36.523Z"
   },
   {
    "duration": 83,
    "start_time": "2021-09-07T12:31:55.934Z"
   },
   {
    "duration": 648,
    "start_time": "2021-09-07T12:32:18.345Z"
   },
   {
    "duration": 797,
    "start_time": "2021-09-07T12:32:36.758Z"
   },
   {
    "duration": 34,
    "start_time": "2021-09-07T12:34:03.606Z"
   },
   {
    "duration": 69,
    "start_time": "2021-09-07T12:35:02.764Z"
   },
   {
    "duration": 5,
    "start_time": "2021-09-07T12:36:04.792Z"
   },
   {
    "duration": 289,
    "start_time": "2021-09-07T12:36:11.237Z"
   },
   {
    "duration": 5,
    "start_time": "2021-09-07T12:36:16.158Z"
   },
   {
    "duration": 5,
    "start_time": "2021-09-07T12:36:20.689Z"
   },
   {
    "duration": 77,
    "start_time": "2021-09-07T12:36:36.012Z"
   },
   {
    "duration": 4,
    "start_time": "2021-09-07T12:36:55.915Z"
   },
   {
    "duration": 21694,
    "start_time": "2021-09-07T12:38:08.197Z"
   },
   {
    "duration": 36,
    "start_time": "2021-09-07T12:43:31.034Z"
   },
   {
    "duration": 12,
    "start_time": "2021-09-07T12:43:34.452Z"
   },
   {
    "duration": 43,
    "start_time": "2021-09-07T12:44:31.702Z"
   },
   {
    "duration": 466,
    "start_time": "2021-09-07T12:45:44.103Z"
   },
   {
    "duration": 1242,
    "start_time": "2021-09-07T12:46:50.615Z"
   },
   {
    "duration": 4,
    "start_time": "2021-09-07T12:46:51.859Z"
   },
   {
    "duration": 833,
    "start_time": "2021-09-07T12:46:51.864Z"
   },
   {
    "duration": 16,
    "start_time": "2021-09-07T12:46:52.699Z"
   },
   {
    "duration": 134,
    "start_time": "2021-09-07T12:46:52.717Z"
   },
   {
    "duration": 103,
    "start_time": "2021-09-07T12:46:52.853Z"
   },
   {
    "duration": 579,
    "start_time": "2021-09-07T12:46:52.958Z"
   },
   {
    "duration": 91,
    "start_time": "2021-09-07T12:46:53.540Z"
   },
   {
    "duration": 143,
    "start_time": "2021-09-07T12:46:53.633Z"
   },
   {
    "duration": 33,
    "start_time": "2021-09-07T12:46:53.778Z"
   },
   {
    "duration": 167,
    "start_time": "2021-09-07T12:46:53.813Z"
   },
   {
    "duration": 29,
    "start_time": "2021-09-07T12:46:53.983Z"
   },
   {
    "duration": 402,
    "start_time": "2021-09-07T12:46:54.014Z"
   },
   {
    "duration": 309,
    "start_time": "2021-09-07T12:46:54.417Z"
   },
   {
    "duration": 19,
    "start_time": "2021-09-07T12:46:54.728Z"
   },
   {
    "duration": 33,
    "start_time": "2021-09-07T12:46:54.749Z"
   },
   {
    "duration": 18,
    "start_time": "2021-09-07T12:46:54.783Z"
   },
   {
    "duration": 22006,
    "start_time": "2021-09-07T12:46:54.803Z"
   },
   {
    "duration": 5,
    "start_time": "2021-09-07T12:47:16.811Z"
   },
   {
    "duration": 93,
    "start_time": "2021-09-07T12:47:16.818Z"
   },
   {
    "duration": 96,
    "start_time": "2021-09-07T12:47:16.913Z"
   },
   {
    "duration": 4,
    "start_time": "2021-09-07T12:47:17.011Z"
   },
   {
    "duration": 32117,
    "start_time": "2021-09-07T12:47:17.018Z"
   },
   {
    "duration": 17,
    "start_time": "2021-09-07T12:47:49.137Z"
   },
   {
    "duration": 19,
    "start_time": "2021-09-07T12:48:04.611Z"
   },
   {
    "duration": 342,
    "start_time": "2021-09-07T12:48:30.903Z"
   },
   {
    "duration": 9,
    "start_time": "2021-09-07T12:48:36.050Z"
   },
   {
    "duration": 4,
    "start_time": "2021-09-07T12:49:59.057Z"
   },
   {
    "duration": 3,
    "start_time": "2021-09-07T12:50:23.825Z"
   },
   {
    "duration": 258,
    "start_time": "2021-09-07T12:54:17.646Z"
   },
   {
    "duration": 4,
    "start_time": "2021-09-07T12:54:23.088Z"
   },
   {
    "duration": 726,
    "start_time": "2021-09-07T12:54:26.673Z"
   },
   {
    "duration": 6,
    "start_time": "2021-09-07T12:55:56.830Z"
   },
   {
    "duration": 48,
    "start_time": "2021-09-07T12:58:03.036Z"
   },
   {
    "duration": 18,
    "start_time": "2021-09-07T12:58:11.991Z"
   },
   {
    "duration": 286,
    "start_time": "2021-09-07T12:58:47.416Z"
   },
   {
    "duration": 603,
    "start_time": "2021-09-07T13:00:31.991Z"
   },
   {
    "duration": 711,
    "start_time": "2021-09-07T13:01:30.642Z"
   },
   {
    "duration": 11,
    "start_time": "2021-09-07T13:01:42.775Z"
   },
   {
    "duration": 11,
    "start_time": "2021-09-07T13:02:58.400Z"
   },
   {
    "duration": 11,
    "start_time": "2021-09-07T13:06:23.987Z"
   },
   {
    "duration": 1583,
    "start_time": "2021-09-07T17:40:27.556Z"
   },
   {
    "duration": 5,
    "start_time": "2021-09-07T17:40:29.142Z"
   },
   {
    "duration": 1078,
    "start_time": "2021-09-07T17:40:29.151Z"
   },
   {
    "duration": 27,
    "start_time": "2021-09-07T17:40:30.232Z"
   },
   {
    "duration": 199,
    "start_time": "2021-09-07T17:40:30.262Z"
   },
   {
    "duration": 134,
    "start_time": "2021-09-07T17:40:30.463Z"
   },
   {
    "duration": 945,
    "start_time": "2021-09-07T17:40:30.600Z"
   },
   {
    "duration": 154,
    "start_time": "2021-09-07T17:40:31.552Z"
   },
   {
    "duration": 232,
    "start_time": "2021-09-07T17:40:31.711Z"
   },
   {
    "duration": 50,
    "start_time": "2021-09-07T17:40:31.946Z"
   },
   {
    "duration": 214,
    "start_time": "2021-09-07T17:40:31.999Z"
   },
   {
    "duration": 38,
    "start_time": "2021-09-07T17:40:32.215Z"
   },
   {
    "duration": 637,
    "start_time": "2021-09-07T17:40:32.255Z"
   },
   {
    "duration": 517,
    "start_time": "2021-09-07T17:40:32.897Z"
   },
   {
    "duration": 23,
    "start_time": "2021-09-07T17:40:33.417Z"
   },
   {
    "duration": 49,
    "start_time": "2021-09-07T17:40:33.442Z"
   },
   {
    "duration": 16,
    "start_time": "2021-09-07T17:40:33.495Z"
   },
   {
    "duration": 19308,
    "start_time": "2021-09-07T17:40:33.513Z"
   },
   {
    "duration": 7,
    "start_time": "2021-09-07T17:40:52.823Z"
   },
   {
    "duration": 93,
    "start_time": "2021-09-07T17:40:52.833Z"
   },
   {
    "duration": 106,
    "start_time": "2021-09-07T17:40:52.928Z"
   },
   {
    "duration": 6,
    "start_time": "2021-09-07T17:40:53.037Z"
   },
   {
    "duration": 29497,
    "start_time": "2021-09-07T17:40:53.048Z"
   },
   {
    "duration": 6,
    "start_time": "2021-09-07T17:43:33.470Z"
   },
   {
    "duration": 114,
    "start_time": "2021-09-07T17:44:04.298Z"
   },
   {
    "duration": 1776,
    "start_time": "2021-09-07T17:44:27.023Z"
   },
   {
    "duration": 19,
    "start_time": "2021-09-07T17:48:45.845Z"
   },
   {
    "duration": 1145,
    "start_time": "2021-09-07T17:53:28.076Z"
   },
   {
    "duration": 902,
    "start_time": "2021-09-07T17:53:33.787Z"
   },
   {
    "duration": 890,
    "start_time": "2021-09-07T17:53:40.870Z"
   },
   {
    "duration": 25,
    "start_time": "2021-09-07T17:55:13.195Z"
   },
   {
    "duration": 43,
    "start_time": "2021-09-07T17:55:17.163Z"
   },
   {
    "duration": 34,
    "start_time": "2021-09-07T17:55:21.689Z"
   },
   {
    "duration": 25,
    "start_time": "2021-09-07T17:55:26.611Z"
   },
   {
    "duration": 753,
    "start_time": "2021-09-07T17:57:11.257Z"
   },
   {
    "duration": 648,
    "start_time": "2021-09-07T17:57:30.318Z"
   },
   {
    "duration": 11,
    "start_time": "2021-09-07T17:58:39.668Z"
   },
   {
    "duration": 24,
    "start_time": "2021-09-07T17:58:44.056Z"
   },
   {
    "duration": 16,
    "start_time": "2021-09-07T17:58:55.387Z"
   },
   {
    "duration": 27,
    "start_time": "2021-09-07T17:58:59.809Z"
   },
   {
    "duration": 12,
    "start_time": "2021-09-07T17:59:32.499Z"
   },
   {
    "duration": 242,
    "start_time": "2021-09-07T18:04:05.084Z"
   },
   {
    "duration": 52,
    "start_time": "2021-09-07T18:04:07.779Z"
   },
   {
    "duration": 155,
    "start_time": "2021-09-07T18:04:10.932Z"
   },
   {
    "duration": 607,
    "start_time": "2021-09-07T18:06:38.788Z"
   },
   {
    "duration": 46,
    "start_time": "2021-09-07T18:08:00.260Z"
   },
   {
    "duration": 47,
    "start_time": "2021-09-07T18:08:06.958Z"
   },
   {
    "duration": 42,
    "start_time": "2021-09-07T18:08:39.097Z"
   },
   {
    "duration": 637,
    "start_time": "2021-09-07T18:09:12.106Z"
   },
   {
    "duration": 28,
    "start_time": "2021-09-07T18:09:20.370Z"
   },
   {
    "duration": 611,
    "start_time": "2021-09-07T18:09:45.943Z"
   },
   {
    "duration": 50,
    "start_time": "2021-09-07T18:10:42.526Z"
   },
   {
    "duration": 72,
    "start_time": "2021-09-07T18:10:59.329Z"
   },
   {
    "duration": 23,
    "start_time": "2021-09-07T18:14:41.976Z"
   },
   {
    "duration": 23,
    "start_time": "2021-09-07T18:14:45.939Z"
   },
   {
    "duration": 150,
    "start_time": "2021-09-07T18:14:53.849Z"
   },
   {
    "duration": 595,
    "start_time": "2021-09-07T18:14:58.043Z"
   },
   {
    "duration": 46,
    "start_time": "2021-09-07T18:15:01.799Z"
   },
   {
    "duration": 5,
    "start_time": "2021-09-07T18:15:08.776Z"
   },
   {
    "duration": 5,
    "start_time": "2021-09-07T18:15:16.192Z"
   },
   {
    "duration": 24,
    "start_time": "2021-09-07T18:15:21.648Z"
   },
   {
    "duration": 5,
    "start_time": "2021-09-07T18:15:24.429Z"
   },
   {
    "duration": 6,
    "start_time": "2021-09-07T18:15:26.500Z"
   },
   {
    "duration": 26,
    "start_time": "2021-09-07T18:15:33.244Z"
   },
   {
    "duration": 6,
    "start_time": "2021-09-07T18:15:41.956Z"
   },
   {
    "duration": 4,
    "start_time": "2021-09-07T18:16:47.216Z"
   },
   {
    "duration": 4,
    "start_time": "2021-09-07T18:16:48.863Z"
   },
   {
    "duration": 6,
    "start_time": "2021-09-07T18:18:56.472Z"
   },
   {
    "duration": 238,
    "start_time": "2021-09-07T18:21:09.921Z"
   },
   {
    "duration": 5,
    "start_time": "2021-09-07T18:21:33.432Z"
   },
   {
    "duration": 7,
    "start_time": "2021-09-07T18:21:39.428Z"
   },
   {
    "duration": 8,
    "start_time": "2021-09-07T18:24:53.462Z"
   },
   {
    "duration": 7,
    "start_time": "2021-09-07T18:25:28.711Z"
   },
   {
    "duration": 7,
    "start_time": "2021-09-07T18:26:46.361Z"
   },
   {
    "duration": 73,
    "start_time": "2021-09-07T18:29:15.832Z"
   },
   {
    "duration": 10,
    "start_time": "2021-09-07T18:29:19.780Z"
   },
   {
    "duration": 15,
    "start_time": "2021-09-07T18:29:25.726Z"
   },
   {
    "duration": 13,
    "start_time": "2021-09-07T18:29:50.951Z"
   },
   {
    "duration": 19,
    "start_time": "2021-09-07T18:33:16.164Z"
   },
   {
    "duration": 29848,
    "start_time": "2021-09-07T18:33:33.694Z"
   },
   {
    "duration": 4,
    "start_time": "2021-09-07T18:34:26.868Z"
   },
   {
    "duration": 5,
    "start_time": "2021-09-07T18:34:42.197Z"
   },
   {
    "duration": 5,
    "start_time": "2021-09-07T18:34:51.298Z"
   },
   {
    "duration": 5,
    "start_time": "2021-09-07T18:35:16.254Z"
   },
   {
    "duration": 4,
    "start_time": "2021-09-07T18:35:19.440Z"
   },
   {
    "duration": 17,
    "start_time": "2021-09-07T18:35:41.992Z"
   },
   {
    "duration": 17,
    "start_time": "2021-09-07T18:35:53.700Z"
   },
   {
    "duration": 6,
    "start_time": "2021-09-07T18:36:45.297Z"
   },
   {
    "duration": 14,
    "start_time": "2021-09-07T18:36:46.925Z"
   },
   {
    "duration": 7,
    "start_time": "2021-09-07T18:36:52.400Z"
   },
   {
    "duration": 8,
    "start_time": "2021-09-07T18:38:19.620Z"
   },
   {
    "duration": 8,
    "start_time": "2021-09-07T18:38:21.326Z"
   },
   {
    "duration": 660,
    "start_time": "2021-09-07T18:38:29.283Z"
   },
   {
    "duration": 221,
    "start_time": "2021-09-07T18:39:03.668Z"
   },
   {
    "duration": 13,
    "start_time": "2021-09-07T18:39:05.981Z"
   },
   {
    "duration": 75,
    "start_time": "2021-09-07T18:39:16.110Z"
   },
   {
    "duration": 14,
    "start_time": "2021-09-07T18:39:20.893Z"
   },
   {
    "duration": 4,
    "start_time": "2021-09-07T18:42:19.369Z"
   },
   {
    "duration": 26,
    "start_time": "2021-09-07T19:19:34.968Z"
   },
   {
    "duration": 177672,
    "start_time": "2021-09-07T19:22:35.056Z"
   },
   {
    "duration": 179439,
    "start_time": "2021-09-07T19:25:47.759Z"
   },
   {
    "duration": 59,
    "start_time": "2021-09-07T19:29:26.042Z"
   },
   {
    "duration": 11,
    "start_time": "2021-09-07T19:29:32.776Z"
   },
   {
    "duration": 7,
    "start_time": "2021-09-07T19:30:12.667Z"
   },
   {
    "duration": 89,
    "start_time": "2021-09-07T19:31:27.732Z"
   },
   {
    "duration": 11,
    "start_time": "2021-09-07T19:31:45.534Z"
   },
   {
    "duration": 295308,
    "start_time": "2021-09-07T19:38:26.792Z"
   },
   {
    "duration": 641,
    "start_time": "2021-09-07T19:46:47.961Z"
   },
   {
    "duration": 10,
    "start_time": "2021-09-07T19:46:51.814Z"
   },
   {
    "duration": 180461,
    "start_time": "2021-09-07T19:56:16.439Z"
   },
   {
    "duration": 41,
    "start_time": "2021-09-07T19:59:43.762Z"
   },
   {
    "duration": 9,
    "start_time": "2021-09-07T19:59:46.432Z"
   },
   {
    "duration": 138886,
    "start_time": "2021-09-07T19:59:54.609Z"
   },
   {
    "duration": 103,
    "start_time": "2021-09-07T20:02:24.695Z"
   },
   {
    "duration": 10,
    "start_time": "2021-09-07T20:02:28.548Z"
   },
   {
    "duration": 180629,
    "start_time": "2021-09-07T20:02:39.162Z"
   },
   {
    "duration": 1389,
    "start_time": "2021-09-07T20:07:35.116Z"
   },
   {
    "duration": 5,
    "start_time": "2021-09-07T20:07:36.508Z"
   },
   {
    "duration": 1027,
    "start_time": "2021-09-07T20:07:36.516Z"
   },
   {
    "duration": 23,
    "start_time": "2021-09-07T20:07:37.546Z"
   },
   {
    "duration": 158,
    "start_time": "2021-09-07T20:07:37.583Z"
   },
   {
    "duration": 121,
    "start_time": "2021-09-07T20:07:37.744Z"
   },
   {
    "duration": 743,
    "start_time": "2021-09-07T20:07:37.868Z"
   },
   {
    "duration": 119,
    "start_time": "2021-09-07T20:07:38.615Z"
   },
   {
    "duration": 194,
    "start_time": "2021-09-07T20:07:38.739Z"
   },
   {
    "duration": 52,
    "start_time": "2021-09-07T20:07:38.938Z"
   },
   {
    "duration": 206,
    "start_time": "2021-09-07T20:07:38.993Z"
   },
   {
    "duration": 40,
    "start_time": "2021-09-07T20:07:39.201Z"
   },
   {
    "duration": 554,
    "start_time": "2021-09-07T20:07:39.243Z"
   },
   {
    "duration": 449,
    "start_time": "2021-09-07T20:07:39.800Z"
   },
   {
    "duration": 32,
    "start_time": "2021-09-07T20:07:40.251Z"
   },
   {
    "duration": 33,
    "start_time": "2021-09-07T20:07:40.286Z"
   },
   {
    "duration": 17,
    "start_time": "2021-09-07T20:07:40.321Z"
   },
   {
    "duration": 19170,
    "start_time": "2021-09-07T20:07:40.340Z"
   },
   {
    "duration": 6,
    "start_time": "2021-09-07T20:07:59.512Z"
   },
   {
    "duration": 89,
    "start_time": "2021-09-07T20:07:59.520Z"
   },
   {
    "duration": 94,
    "start_time": "2021-09-07T20:07:59.611Z"
   },
   {
    "duration": 5,
    "start_time": "2021-09-07T20:07:59.708Z"
   },
   {
    "duration": 29576,
    "start_time": "2021-09-07T20:07:59.715Z"
   },
   {
    "duration": 20,
    "start_time": "2021-09-07T20:08:29.294Z"
   },
   {
    "duration": 183,
    "start_time": "2021-09-07T20:08:29.317Z"
   },
   {
    "duration": 642,
    "start_time": "2021-09-07T20:08:29.502Z"
   },
   {
    "duration": 58,
    "start_time": "2021-09-07T20:08:30.150Z"
   },
   {
    "duration": 37,
    "start_time": "2021-09-07T20:08:30.211Z"
   },
   {
    "duration": 4,
    "start_time": "2021-09-07T20:08:30.250Z"
   },
   {
    "duration": 32,
    "start_time": "2021-09-07T20:08:30.256Z"
   },
   {
    "duration": 10,
    "start_time": "2021-09-07T20:08:30.290Z"
   },
   {
    "duration": 11,
    "start_time": "2021-09-07T20:08:30.302Z"
   },
   {
    "duration": 272,
    "start_time": "2021-09-07T20:08:30.315Z"
   },
   {
    "duration": 99,
    "start_time": "2021-09-07T20:08:30.590Z"
   },
   {
    "duration": 191,
    "start_time": "2021-09-07T20:08:30.692Z"
   },
   {
    "duration": 8,
    "start_time": "2021-09-07T20:08:30.885Z"
   },
   {
    "duration": 132510,
    "start_time": "2021-09-07T20:08:30.895Z"
   },
   {
    "duration": 4416,
    "start_time": "2021-09-07T20:10:43.408Z"
   },
   {
    "duration": 179472,
    "start_time": "2021-09-07T20:10:52.026Z"
   },
   {
    "duration": 108,
    "start_time": "2021-09-07T20:15:16.504Z"
   },
   {
    "duration": 12,
    "start_time": "2021-09-07T20:15:20.062Z"
   },
   {
    "duration": 179355,
    "start_time": "2021-09-07T20:15:47.349Z"
   },
   {
    "duration": 126,
    "start_time": "2021-09-07T20:21:41.157Z"
   },
   {
    "duration": 8,
    "start_time": "2021-09-07T20:21:43.503Z"
   },
   {
    "duration": 178793,
    "start_time": "2021-09-07T20:22:03.700Z"
   },
   {
    "duration": 202,
    "start_time": "2021-09-07T20:25:02.495Z"
   },
   {
    "duration": 12,
    "start_time": "2021-09-07T20:25:02.700Z"
   },
   {
    "duration": 11,
    "start_time": "2021-09-07T20:25:50.657Z"
   },
   {
    "duration": 219,
    "start_time": "2021-09-07T20:26:02.267Z"
   },
   {
    "duration": 449,
    "start_time": "2021-09-08T04:27:02.718Z"
   },
   {
    "duration": 1582,
    "start_time": "2021-09-08T04:27:20.343Z"
   },
   {
    "duration": 6,
    "start_time": "2021-09-08T04:27:21.928Z"
   },
   {
    "duration": 1115,
    "start_time": "2021-09-08T04:27:21.937Z"
   },
   {
    "duration": 23,
    "start_time": "2021-09-08T04:27:23.056Z"
   },
   {
    "duration": 172,
    "start_time": "2021-09-08T04:27:23.082Z"
   },
   {
    "duration": 127,
    "start_time": "2021-09-08T04:27:23.257Z"
   },
   {
    "duration": 1368,
    "start_time": "2021-09-08T04:27:23.387Z"
   },
   {
    "duration": 122,
    "start_time": "2021-09-08T04:27:24.758Z"
   },
   {
    "duration": 203,
    "start_time": "2021-09-08T04:27:24.884Z"
   },
   {
    "duration": 47,
    "start_time": "2021-09-08T04:27:25.090Z"
   },
   {
    "duration": 233,
    "start_time": "2021-09-08T04:27:25.139Z"
   },
   {
    "duration": 41,
    "start_time": "2021-09-08T04:27:25.376Z"
   },
   {
    "duration": 772,
    "start_time": "2021-09-08T04:27:25.420Z"
   },
   {
    "duration": 492,
    "start_time": "2021-09-08T04:27:26.195Z"
   },
   {
    "duration": 27,
    "start_time": "2021-09-08T04:27:26.689Z"
   },
   {
    "duration": 50,
    "start_time": "2021-09-08T04:27:26.718Z"
   },
   {
    "duration": 17,
    "start_time": "2021-09-08T04:27:26.770Z"
   },
   {
    "duration": 20966,
    "start_time": "2021-09-08T04:27:26.790Z"
   },
   {
    "duration": 7,
    "start_time": "2021-09-08T04:27:47.758Z"
   },
   {
    "duration": 101,
    "start_time": "2021-09-08T04:27:47.767Z"
   },
   {
    "duration": 110,
    "start_time": "2021-09-08T04:27:47.870Z"
   },
   {
    "duration": 5,
    "start_time": "2021-09-08T04:27:47.983Z"
   },
   {
    "duration": 31448,
    "start_time": "2021-09-08T04:27:47.991Z"
   },
   {
    "duration": 25,
    "start_time": "2021-09-08T04:28:19.441Z"
   },
   {
    "duration": 193,
    "start_time": "2021-09-08T04:28:19.469Z"
   },
   {
    "duration": 691,
    "start_time": "2021-09-08T04:28:19.664Z"
   },
   {
    "duration": 53,
    "start_time": "2021-09-08T04:28:20.360Z"
   },
   {
    "duration": 58,
    "start_time": "2021-09-08T04:28:20.415Z"
   },
   {
    "duration": 3,
    "start_time": "2021-09-08T04:28:20.476Z"
   },
   {
    "duration": 11,
    "start_time": "2021-09-08T04:28:20.482Z"
   },
   {
    "duration": 11,
    "start_time": "2021-09-08T04:28:20.496Z"
   },
   {
    "duration": 7,
    "start_time": "2021-09-08T04:28:20.510Z"
   },
   {
    "duration": 242,
    "start_time": "2021-09-08T04:28:20.520Z"
   },
   {
    "duration": 99,
    "start_time": "2021-09-08T04:28:20.765Z"
   },
   {
    "duration": 4,
    "start_time": "2021-09-08T04:28:20.959Z"
   },
   {
    "duration": 4,
    "start_time": "2021-09-08T04:28:21.056Z"
   },
   {
    "duration": 142994,
    "start_time": "2021-09-08T04:28:21.062Z"
   },
   {
    "duration": 5215,
    "start_time": "2021-09-08T04:30:44.058Z"
   },
   {
    "duration": 184593,
    "start_time": "2021-09-08T04:30:49.276Z"
   },
   {
    "duration": 199,
    "start_time": "2021-09-08T04:33:53.871Z"
   },
   {
    "duration": 10,
    "start_time": "2021-09-08T04:33:54.072Z"
   },
   {
    "duration": 12,
    "start_time": "2021-09-08T04:33:54.085Z"
   },
   {
    "duration": 4,
    "start_time": "2021-09-08T04:35:35.852Z"
   },
   {
    "duration": 525,
    "start_time": "2021-09-08T04:37:00.082Z"
   },
   {
    "duration": 4,
    "start_time": "2021-09-08T04:37:02.772Z"
   },
   {
    "duration": 336,
    "start_time": "2021-09-08T04:37:03.801Z"
   },
   {
    "duration": 353,
    "start_time": "2021-09-08T04:37:56.812Z"
   },
   {
    "duration": 3,
    "start_time": "2021-09-08T04:39:01.434Z"
   },
   {
    "duration": 10010,
    "start_time": "2021-09-08T04:39:06.550Z"
   },
   {
    "duration": 355,
    "start_time": "2021-09-08T04:39:20.938Z"
   },
   {
    "duration": 834,
    "start_time": "2021-09-08T04:39:27.429Z"
   },
   {
    "duration": 4,
    "start_time": "2021-09-08T04:40:10.295Z"
   },
   {
    "duration": 6,
    "start_time": "2021-09-08T04:40:20.647Z"
   },
   {
    "duration": 4,
    "start_time": "2021-09-08T04:40:36.483Z"
   },
   {
    "duration": 5,
    "start_time": "2021-09-08T04:40:37.190Z"
   },
   {
    "duration": 10390,
    "start_time": "2021-09-08T04:40:37.874Z"
   },
   {
    "duration": 348,
    "start_time": "2021-09-08T04:41:47.963Z"
   },
   {
    "duration": 4,
    "start_time": "2021-09-08T04:44:28.813Z"
   },
   {
    "duration": 11053,
    "start_time": "2021-09-08T04:44:50.712Z"
   },
   {
    "duration": 924,
    "start_time": "2021-09-08T04:46:02.245Z"
   },
   {
    "duration": 9,
    "start_time": "2021-09-08T04:46:11.004Z"
   },
   {
    "duration": 11,
    "start_time": "2021-09-08T04:47:18.006Z"
   },
   {
    "duration": 272,
    "start_time": "2021-09-08T04:47:40.643Z"
   },
   {
    "duration": 12,
    "start_time": "2021-09-08T04:47:56.881Z"
   },
   {
    "duration": 12,
    "start_time": "2021-09-08T04:48:01.028Z"
   },
   {
    "duration": 11,
    "start_time": "2021-09-08T04:48:04.803Z"
   },
   {
    "duration": 9,
    "start_time": "2021-09-08T04:48:48.828Z"
   },
   {
    "duration": 7,
    "start_time": "2021-09-08T04:50:55.647Z"
   },
   {
    "duration": 117,
    "start_time": "2021-09-08T04:52:03.481Z"
   },
   {
    "duration": 7,
    "start_time": "2021-09-08T04:52:08.649Z"
   },
   {
    "duration": 7,
    "start_time": "2021-09-08T04:52:15.228Z"
   },
   {
    "duration": 6,
    "start_time": "2021-09-08T04:52:20.117Z"
   },
   {
    "duration": 8,
    "start_time": "2021-09-08T04:52:22.966Z"
   },
   {
    "duration": 7,
    "start_time": "2021-09-08T04:52:24.576Z"
   },
   {
    "duration": 7,
    "start_time": "2021-09-08T04:52:25.953Z"
   },
   {
    "duration": 241,
    "start_time": "2021-09-08T04:52:34.531Z"
   },
   {
    "duration": 240,
    "start_time": "2021-09-08T04:52:41.418Z"
   },
   {
    "duration": 7,
    "start_time": "2021-09-08T04:52:46.997Z"
   },
   {
    "duration": 7,
    "start_time": "2021-09-08T04:52:57.638Z"
   },
   {
    "duration": 7,
    "start_time": "2021-09-08T04:53:15.206Z"
   },
   {
    "duration": 5,
    "start_time": "2021-09-08T04:53:42.562Z"
   },
   {
    "duration": 7,
    "start_time": "2021-09-08T04:53:44.737Z"
   },
   {
    "duration": 11,
    "start_time": "2021-09-08T04:54:17.361Z"
   },
   {
    "duration": 5,
    "start_time": "2021-09-08T05:04:38.965Z"
   },
   {
    "duration": 12444,
    "start_time": "2021-09-08T05:04:40.124Z"
   },
   {
    "duration": 875,
    "start_time": "2021-09-08T05:05:05.400Z"
   },
   {
    "duration": 10,
    "start_time": "2021-09-08T05:05:07.279Z"
   },
   {
    "duration": 4,
    "start_time": "2021-09-08T05:05:20.261Z"
   },
   {
    "duration": 7800,
    "start_time": "2021-09-08T05:05:27.170Z"
   },
   {
    "duration": 609,
    "start_time": "2021-09-08T05:05:37.863Z"
   },
   {
    "duration": 9,
    "start_time": "2021-09-08T05:05:40.627Z"
   },
   {
    "duration": 4,
    "start_time": "2021-09-08T05:05:55.635Z"
   },
   {
    "duration": 7918,
    "start_time": "2021-09-08T05:05:56.345Z"
   },
   {
    "duration": 529,
    "start_time": "2021-09-08T05:06:05.945Z"
   },
   {
    "duration": 13,
    "start_time": "2021-09-08T05:06:07.684Z"
   },
   {
    "duration": 8158,
    "start_time": "2021-09-08T05:06:11.906Z"
   },
   {
    "duration": 589,
    "start_time": "2021-09-08T05:06:21.271Z"
   },
   {
    "duration": 10,
    "start_time": "2021-09-08T05:06:25.159Z"
   },
   {
    "duration": 9,
    "start_time": "2021-09-08T05:06:27.554Z"
   },
   {
    "duration": 4,
    "start_time": "2021-09-08T05:06:33.038Z"
   },
   {
    "duration": 8205,
    "start_time": "2021-09-08T05:06:35.657Z"
   },
   {
    "duration": 608,
    "start_time": "2021-09-08T05:06:51.754Z"
   },
   {
    "duration": 10,
    "start_time": "2021-09-08T05:06:53.545Z"
   },
   {
    "duration": 4,
    "start_time": "2021-09-08T05:07:28.794Z"
   },
   {
    "duration": 8663,
    "start_time": "2021-09-08T05:07:29.996Z"
   },
   {
    "duration": 8264,
    "start_time": "2021-09-08T05:07:42.505Z"
   },
   {
    "duration": 597,
    "start_time": "2021-09-08T05:07:55.868Z"
   },
   {
    "duration": 10,
    "start_time": "2021-09-08T05:07:59.130Z"
   },
   {
    "duration": 1907,
    "start_time": "2021-09-08T05:15:57.999Z"
   },
   {
    "duration": 257,
    "start_time": "2021-09-08T05:16:10.506Z"
   },
   {
    "duration": 928,
    "start_time": "2021-09-08T05:16:28.826Z"
   },
   {
    "duration": 244,
    "start_time": "2021-09-08T05:16:57.912Z"
   },
   {
    "duration": 243,
    "start_time": "2021-09-08T05:18:09.383Z"
   },
   {
    "duration": 10,
    "start_time": "2021-09-08T05:18:14.341Z"
   },
   {
    "duration": 585,
    "start_time": "2021-09-08T05:18:31.411Z"
   },
   {
    "duration": 622,
    "start_time": "2021-09-08T05:19:19.755Z"
   },
   {
    "duration": 248,
    "start_time": "2021-09-08T05:20:02.070Z"
   },
   {
    "duration": 10,
    "start_time": "2021-09-08T05:20:02.790Z"
   },
   {
    "duration": 244,
    "start_time": "2021-09-08T05:20:05.726Z"
   },
   {
    "duration": 10,
    "start_time": "2021-09-08T05:20:06.928Z"
   },
   {
    "duration": 586,
    "start_time": "2021-09-08T05:20:12.189Z"
   },
   {
    "duration": 591,
    "start_time": "2021-09-08T05:20:21.656Z"
   },
   {
    "duration": 648,
    "start_time": "2021-09-08T05:21:57.816Z"
   },
   {
    "duration": 664,
    "start_time": "2021-09-08T05:22:02.052Z"
   },
   {
    "duration": 638,
    "start_time": "2021-09-08T05:22:12.993Z"
   },
   {
    "duration": 778,
    "start_time": "2021-09-08T05:22:16.051Z"
   },
   {
    "duration": 862,
    "start_time": "2021-09-08T05:22:26.346Z"
   },
   {
    "duration": 747,
    "start_time": "2021-09-08T05:22:34.897Z"
   },
   {
    "duration": 752,
    "start_time": "2021-09-08T05:22:37.561Z"
   },
   {
    "duration": 6,
    "start_time": "2021-09-08T05:23:37.222Z"
   },
   {
    "duration": 6,
    "start_time": "2021-09-08T05:23:47.968Z"
   },
   {
    "duration": 6,
    "start_time": "2021-09-08T05:23:52.395Z"
   },
   {
    "duration": 254,
    "start_time": "2021-09-08T05:23:56.875Z"
   },
   {
    "duration": 11,
    "start_time": "2021-09-08T05:23:57.595Z"
   },
   {
    "duration": 6,
    "start_time": "2021-09-08T05:23:59.267Z"
   },
   {
    "duration": 246,
    "start_time": "2021-09-08T05:24:02.372Z"
   },
   {
    "duration": 10,
    "start_time": "2021-09-08T05:24:03.474Z"
   },
   {
    "duration": 6,
    "start_time": "2021-09-08T05:24:04.484Z"
   },
   {
    "duration": 6,
    "start_time": "2021-09-08T05:24:05.433Z"
   },
   {
    "duration": 7,
    "start_time": "2021-09-08T05:24:06.170Z"
   },
   {
    "duration": 249,
    "start_time": "2021-09-08T05:24:14.783Z"
   },
   {
    "duration": 10,
    "start_time": "2021-09-08T05:24:15.658Z"
   },
   {
    "duration": 7,
    "start_time": "2021-09-08T05:24:17.112Z"
   },
   {
    "duration": 6,
    "start_time": "2021-09-08T05:24:18.453Z"
   },
   {
    "duration": 6,
    "start_time": "2021-09-08T05:24:19.097Z"
   },
   {
    "duration": 243,
    "start_time": "2021-09-08T05:24:22.186Z"
   },
   {
    "duration": 9,
    "start_time": "2021-09-08T05:24:22.898Z"
   },
   {
    "duration": 6,
    "start_time": "2021-09-08T05:24:24.150Z"
   },
   {
    "duration": 6,
    "start_time": "2021-09-08T05:24:25.082Z"
   },
   {
    "duration": 6,
    "start_time": "2021-09-08T05:24:25.649Z"
   },
   {
    "duration": 771,
    "start_time": "2021-09-08T05:24:46.826Z"
   },
   {
    "duration": 253,
    "start_time": "2021-09-08T05:25:45.494Z"
   },
   {
    "duration": 437,
    "start_time": "2021-09-08T05:25:52.488Z"
   },
   {
    "duration": 422,
    "start_time": "2021-09-08T05:26:49.181Z"
   },
   {
    "duration": 136,
    "start_time": "2021-09-08T05:26:58.253Z"
   },
   {
    "duration": 416,
    "start_time": "2021-09-08T05:27:05.072Z"
   },
   {
    "duration": 159,
    "start_time": "2021-09-08T05:27:43.542Z"
   },
   {
    "duration": 569,
    "start_time": "2021-09-08T05:27:45.713Z"
   },
   {
    "duration": 386,
    "start_time": "2021-09-08T05:28:02.046Z"
   },
   {
    "duration": 407,
    "start_time": "2021-09-08T05:28:27.167Z"
   },
   {
    "duration": 431,
    "start_time": "2021-09-08T05:28:30.748Z"
   },
   {
    "duration": 14,
    "start_time": "2021-09-08T05:28:37.048Z"
   },
   {
    "duration": 131,
    "start_time": "2021-09-08T05:28:42.549Z"
   },
   {
    "duration": 588,
    "start_time": "2021-09-08T05:28:45.517Z"
   },
   {
    "duration": 621,
    "start_time": "2021-09-08T05:28:50.615Z"
   },
   {
    "duration": 728,
    "start_time": "2021-09-08T05:29:07.205Z"
   },
   {
    "duration": 352,
    "start_time": "2021-09-08T05:29:37.239Z"
   },
   {
    "duration": 366,
    "start_time": "2021-09-08T05:29:40.348Z"
   },
   {
    "duration": 728,
    "start_time": "2021-09-08T05:29:46.232Z"
   },
   {
    "duration": 13,
    "start_time": "2021-09-08T05:29:53.057Z"
   },
   {
    "duration": 145,
    "start_time": "2021-09-08T05:30:01.640Z"
   },
   {
    "duration": 794,
    "start_time": "2021-09-08T05:30:04.344Z"
   },
   {
    "duration": 1269,
    "start_time": "2021-09-08T05:30:14.789Z"
   },
   {
    "duration": 375,
    "start_time": "2021-09-08T05:30:21.732Z"
   },
   {
    "duration": 813,
    "start_time": "2021-09-08T05:32:47.624Z"
   },
   {
    "duration": 776,
    "start_time": "2021-09-08T05:32:51.679Z"
   },
   {
    "duration": 30,
    "start_time": "2021-09-08T05:34:32.239Z"
   },
   {
    "duration": 39,
    "start_time": "2021-09-08T05:34:37.922Z"
   },
   {
    "duration": 1555,
    "start_time": "2021-09-08T05:41:09.756Z"
   },
   {
    "duration": 6,
    "start_time": "2021-09-08T05:41:11.314Z"
   },
   {
    "duration": 1109,
    "start_time": "2021-09-08T05:41:11.324Z"
   },
   {
    "duration": 33,
    "start_time": "2021-09-08T05:41:12.437Z"
   },
   {
    "duration": 168,
    "start_time": "2021-09-08T05:41:12.473Z"
   },
   {
    "duration": 132,
    "start_time": "2021-09-08T05:41:12.644Z"
   },
   {
    "duration": 788,
    "start_time": "2021-09-08T05:41:12.778Z"
   },
   {
    "duration": 121,
    "start_time": "2021-09-08T05:41:13.571Z"
   },
   {
    "duration": 207,
    "start_time": "2021-09-08T05:41:13.695Z"
   },
   {
    "duration": 55,
    "start_time": "2021-09-08T05:41:13.905Z"
   },
   {
    "duration": 211,
    "start_time": "2021-09-08T05:41:13.962Z"
   },
   {
    "duration": 40,
    "start_time": "2021-09-08T05:41:14.175Z"
   },
   {
    "duration": 623,
    "start_time": "2021-09-08T05:41:14.217Z"
   },
   {
    "duration": 489,
    "start_time": "2021-09-08T05:41:14.842Z"
   },
   {
    "duration": 28,
    "start_time": "2021-09-08T05:41:15.334Z"
   },
   {
    "duration": 32,
    "start_time": "2021-09-08T05:41:15.365Z"
   },
   {
    "duration": 16,
    "start_time": "2021-09-08T05:41:15.400Z"
   },
   {
    "duration": 16549,
    "start_time": "2021-09-08T05:41:15.419Z"
   },
   {
    "duration": 6,
    "start_time": "2021-09-08T05:41:31.970Z"
   },
   {
    "duration": 141,
    "start_time": "2021-09-08T05:41:31.978Z"
   },
   {
    "duration": 117,
    "start_time": "2021-09-08T05:41:32.121Z"
   },
   {
    "duration": 7,
    "start_time": "2021-09-08T05:41:32.240Z"
   },
   {
    "duration": 32169,
    "start_time": "2021-09-08T05:41:32.263Z"
   },
   {
    "duration": 31,
    "start_time": "2021-09-08T05:42:04.435Z"
   },
   {
    "duration": 182,
    "start_time": "2021-09-08T05:42:04.469Z"
   },
   {
    "duration": 705,
    "start_time": "2021-09-08T05:42:04.656Z"
   },
   {
    "duration": 48,
    "start_time": "2021-09-08T05:42:05.364Z"
   },
   {
    "duration": 65,
    "start_time": "2021-09-08T05:42:05.414Z"
   },
   {
    "duration": 4,
    "start_time": "2021-09-08T05:42:05.481Z"
   },
   {
    "duration": 24,
    "start_time": "2021-09-08T05:42:05.488Z"
   },
   {
    "duration": 14,
    "start_time": "2021-09-08T05:42:05.515Z"
   },
   {
    "duration": 16,
    "start_time": "2021-09-08T05:42:05.532Z"
   },
   {
    "duration": 208,
    "start_time": "2021-09-08T05:42:05.556Z"
   },
   {
    "duration": 190,
    "start_time": "2021-09-08T05:42:05.767Z"
   },
   {
    "duration": 96,
    "start_time": "2021-09-08T05:42:05.960Z"
   },
   {
    "duration": 6,
    "start_time": "2021-09-08T05:42:06.059Z"
   },
   {
    "duration": 118260,
    "start_time": "2021-09-08T05:42:06.068Z"
   },
   {
    "duration": 4694,
    "start_time": "2021-09-08T05:44:04.330Z"
   },
   {
    "duration": 176136,
    "start_time": "2021-09-08T05:44:09.027Z"
   },
   {
    "duration": 198,
    "start_time": "2021-09-08T05:47:05.166Z"
   },
   {
    "duration": 5,
    "start_time": "2021-09-08T05:47:05.367Z"
   },
   {
    "duration": 8195,
    "start_time": "2021-09-08T05:47:05.375Z"
   },
   {
    "duration": 692,
    "start_time": "2021-09-08T05:47:13.573Z"
   },
   {
    "duration": 9,
    "start_time": "2021-09-08T05:47:14.267Z"
   },
   {
    "duration": 258,
    "start_time": "2021-09-08T05:47:14.278Z"
   },
   {
    "duration": 9,
    "start_time": "2021-09-08T05:47:14.538Z"
   },
   {
    "duration": 750,
    "start_time": "2021-09-08T05:47:14.555Z"
   },
   {
    "duration": 324,
    "start_time": "2021-09-08T07:17:40.723Z"
   },
   {
    "duration": 1607,
    "start_time": "2021-09-08T07:17:55.278Z"
   },
   {
    "duration": 6,
    "start_time": "2021-09-08T07:17:56.888Z"
   },
   {
    "duration": 1371,
    "start_time": "2021-09-08T07:17:56.897Z"
   },
   {
    "duration": 25,
    "start_time": "2021-09-08T07:17:58.271Z"
   },
   {
    "duration": 176,
    "start_time": "2021-09-08T07:17:58.299Z"
   },
   {
    "duration": 140,
    "start_time": "2021-09-08T07:17:58.477Z"
   },
   {
    "duration": 780,
    "start_time": "2021-09-08T07:17:58.620Z"
   },
   {
    "duration": 133,
    "start_time": "2021-09-08T07:17:59.405Z"
   },
   {
    "duration": 218,
    "start_time": "2021-09-08T07:17:59.542Z"
   },
   {
    "duration": 47,
    "start_time": "2021-09-08T07:17:59.767Z"
   },
   {
    "duration": 224,
    "start_time": "2021-09-08T07:17:59.816Z"
   },
   {
    "duration": 46,
    "start_time": "2021-09-08T07:18:00.042Z"
   },
   {
    "duration": 639,
    "start_time": "2021-09-08T07:18:00.091Z"
   },
   {
    "duration": 483,
    "start_time": "2021-09-08T07:18:00.733Z"
   },
   {
    "duration": 26,
    "start_time": "2021-09-08T07:18:01.219Z"
   },
   {
    "duration": 46,
    "start_time": "2021-09-08T07:18:01.248Z"
   },
   {
    "duration": 17,
    "start_time": "2021-09-08T07:18:01.297Z"
   },
   {
    "duration": 15894,
    "start_time": "2021-09-08T07:18:01.316Z"
   },
   {
    "duration": 58,
    "start_time": "2021-09-08T07:18:17.212Z"
   },
   {
    "duration": 126,
    "start_time": "2021-09-08T07:18:17.273Z"
   },
   {
    "duration": 166,
    "start_time": "2021-09-08T07:18:17.402Z"
   },
   {
    "duration": 6,
    "start_time": "2021-09-08T07:18:17.572Z"
   },
   {
    "duration": 32265,
    "start_time": "2021-09-08T07:18:17.586Z"
   },
   {
    "duration": 22,
    "start_time": "2021-09-08T07:18:49.866Z"
   },
   {
    "duration": 181,
    "start_time": "2021-09-08T07:18:49.890Z"
   },
   {
    "duration": 694,
    "start_time": "2021-09-08T07:18:50.073Z"
   },
   {
    "duration": 42,
    "start_time": "2021-09-08T07:18:50.769Z"
   },
   {
    "duration": 54,
    "start_time": "2021-09-08T07:18:50.814Z"
   },
   {
    "duration": 5,
    "start_time": "2021-09-08T07:18:50.870Z"
   },
   {
    "duration": 11,
    "start_time": "2021-09-08T07:18:50.877Z"
   },
   {
    "duration": 8,
    "start_time": "2021-09-08T07:18:50.890Z"
   },
   {
    "duration": 7,
    "start_time": "2021-09-08T07:18:50.900Z"
   },
   {
    "duration": 263,
    "start_time": "2021-09-08T07:18:50.909Z"
   },
   {
    "duration": 192,
    "start_time": "2021-09-08T07:18:51.175Z"
   },
   {
    "duration": 97,
    "start_time": "2021-09-08T07:18:51.371Z"
   },
   {
    "duration": 7,
    "start_time": "2021-09-08T07:18:51.470Z"
   },
   {
    "duration": 116449,
    "start_time": "2021-09-08T07:18:51.479Z"
   },
   {
    "duration": 4966,
    "start_time": "2021-09-08T07:20:47.931Z"
   },
   {
    "duration": 40,
    "start_time": "2021-09-08T07:20:52.901Z"
   },
   {
    "duration": 6,
    "start_time": "2021-09-08T07:21:47.969Z"
   },
   {
    "duration": 54,
    "start_time": "2021-09-08T07:22:45.529Z"
   },
   {
    "duration": 4,
    "start_time": "2021-09-08T07:22:46.927Z"
   },
   {
    "duration": 691049,
    "start_time": "2021-09-08T07:23:07.524Z"
   },
   {
    "duration": 1882,
    "start_time": "2021-09-08T07:34:41.303Z"
   },
   {
    "duration": 4,
    "start_time": "2021-09-08T07:34:44.218Z"
   },
   {
    "duration": 4,
    "start_time": "2021-09-08T07:34:46.606Z"
   },
   {
    "duration": 1036,
    "start_time": "2021-09-08T07:34:50.152Z"
   },
   {
    "duration": 262,
    "start_time": "2021-09-08T07:35:13.066Z"
   },
   {
    "duration": 428212,
    "start_time": "2021-09-08T07:35:17.055Z"
   },
   {
    "duration": 705,
    "start_time": "2021-09-08T07:43:33.971Z"
   },
   {
    "duration": 9,
    "start_time": "2021-09-08T07:43:37.972Z"
   },
   {
    "duration": 8529,
    "start_time": "2021-09-08T07:44:39.884Z"
   },
   {
    "duration": 12392,
    "start_time": "2021-09-08T07:45:03.075Z"
   },
   {
    "duration": 600,
    "start_time": "2021-09-08T07:45:17.978Z"
   },
   {
    "duration": 10,
    "start_time": "2021-09-08T07:45:21.454Z"
   },
   {
    "duration": 211,
    "start_time": "2021-09-08T07:45:38.303Z"
   },
   {
    "duration": 11,
    "start_time": "2021-09-08T07:45:39.838Z"
   },
   {
    "duration": 738,
    "start_time": "2021-09-08T07:45:42.124Z"
   },
   {
    "duration": 278,
    "start_time": "2021-09-08T07:46:06.491Z"
   },
   {
    "duration": 46802,
    "start_time": "2021-09-08T07:46:29.562Z"
   },
   {
    "duration": 1784,
    "start_time": "2021-09-08T07:50:45.372Z"
   },
   {
    "duration": 9,
    "start_time": "2021-09-08T07:50:47.159Z"
   },
   {
    "duration": 1126,
    "start_time": "2021-09-08T07:50:47.171Z"
   },
   {
    "duration": 24,
    "start_time": "2021-09-08T07:50:48.300Z"
   },
   {
    "duration": 184,
    "start_time": "2021-09-08T07:50:48.327Z"
   },
   {
    "duration": 134,
    "start_time": "2021-09-08T07:50:48.513Z"
   },
   {
    "duration": 756,
    "start_time": "2021-09-08T07:50:48.649Z"
   },
   {
    "duration": 131,
    "start_time": "2021-09-08T07:50:49.409Z"
   },
   {
    "duration": 210,
    "start_time": "2021-09-08T07:50:49.543Z"
   },
   {
    "duration": 55,
    "start_time": "2021-09-08T07:50:49.755Z"
   },
   {
    "duration": 229,
    "start_time": "2021-09-08T07:50:49.812Z"
   },
   {
    "duration": 49,
    "start_time": "2021-09-08T07:50:50.044Z"
   },
   {
    "duration": 604,
    "start_time": "2021-09-08T07:50:50.095Z"
   },
   {
    "duration": 469,
    "start_time": "2021-09-08T07:50:50.701Z"
   },
   {
    "duration": 24,
    "start_time": "2021-09-08T07:50:51.172Z"
   },
   {
    "duration": 50,
    "start_time": "2021-09-08T07:50:51.199Z"
   },
   {
    "duration": 17,
    "start_time": "2021-09-08T07:50:51.252Z"
   },
   {
    "duration": 15940,
    "start_time": "2021-09-08T07:50:51.271Z"
   },
   {
    "duration": 6,
    "start_time": "2021-09-08T07:51:07.214Z"
   },
   {
    "duration": 103,
    "start_time": "2021-09-08T07:51:07.222Z"
   },
   {
    "duration": 115,
    "start_time": "2021-09-08T07:51:07.327Z"
   },
   {
    "duration": 5,
    "start_time": "2021-09-08T07:51:07.445Z"
   },
   {
    "duration": 32349,
    "start_time": "2021-09-08T07:51:07.470Z"
   },
   {
    "duration": 49,
    "start_time": "2021-09-08T07:51:39.823Z"
   },
   {
    "duration": 175,
    "start_time": "2021-09-08T07:51:39.875Z"
   },
   {
    "duration": 682,
    "start_time": "2021-09-08T07:51:40.052Z"
   },
   {
    "duration": 54,
    "start_time": "2021-09-08T07:51:40.736Z"
   },
   {
    "duration": 35,
    "start_time": "2021-09-08T07:51:40.792Z"
   },
   {
    "duration": 3,
    "start_time": "2021-09-08T07:51:40.830Z"
   },
   {
    "duration": 37,
    "start_time": "2021-09-08T07:51:40.835Z"
   },
   {
    "duration": 9,
    "start_time": "2021-09-08T07:51:40.874Z"
   },
   {
    "duration": 9,
    "start_time": "2021-09-08T07:51:40.885Z"
   },
   {
    "duration": 275,
    "start_time": "2021-09-08T07:51:40.896Z"
   },
   {
    "duration": 106,
    "start_time": "2021-09-08T07:51:41.174Z"
   },
   {
    "duration": 5,
    "start_time": "2021-09-08T07:51:41.369Z"
   },
   {
    "duration": 100,
    "start_time": "2021-09-08T07:51:41.377Z"
   },
   {
    "duration": 114900,
    "start_time": "2021-09-08T07:51:41.479Z"
   },
   {
    "duration": 4852,
    "start_time": "2021-09-08T07:53:36.382Z"
   },
   {
    "duration": 290,
    "start_time": "2021-09-08T07:53:41.237Z"
   },
   {
    "duration": 672853,
    "start_time": "2021-09-08T07:53:41.530Z"
   },
   {
    "duration": 1702,
    "start_time": "2021-09-08T08:04:54.385Z"
   },
   {
    "duration": 177092,
    "start_time": "2021-09-08T08:04:56.090Z"
   },
   {
    "duration": 201,
    "start_time": "2021-09-08T08:07:53.184Z"
   },
   {
    "duration": 4,
    "start_time": "2021-09-08T08:07:53.388Z"
   },
   {
    "duration": 7479,
    "start_time": "2021-09-08T08:07:53.394Z"
   },
   {
    "duration": 701,
    "start_time": "2021-09-08T08:08:00.875Z"
   },
   {
    "duration": 10092,
    "start_time": "2021-09-08T08:08:01.579Z"
   },
   {
    "duration": 605,
    "start_time": "2021-09-08T08:08:11.674Z"
   },
   {
    "duration": 10,
    "start_time": "2021-09-08T08:08:40.208Z"
   },
   {
    "duration": 203,
    "start_time": "2021-09-08T08:09:08.132Z"
   },
   {
    "duration": 10,
    "start_time": "2021-09-08T08:09:09.413Z"
   },
   {
    "duration": 867,
    "start_time": "2021-09-08T08:09:11.128Z"
   }
  ],
  "kernelspec": {
   "display_name": "Python 3 (ipykernel)",
   "language": "python",
   "name": "python3"
  },
  "language_info": {
   "codemirror_mode": {
    "name": "ipython",
    "version": 3
   },
   "file_extension": ".py",
   "mimetype": "text/x-python",
   "name": "python",
   "nbconvert_exporter": "python",
   "pygments_lexer": "ipython3",
   "version": "3.9.6"
  },
  "toc": {
   "base_numbering": 1,
   "nav_menu": {
    "height": "114px",
    "width": "366px"
   },
   "number_sections": true,
   "sideBar": true,
   "skip_h1_title": true,
   "title_cell": "Table of Contents",
   "title_sidebar": "Contents",
   "toc_cell": false,
   "toc_position": {},
   "toc_section_display": true,
   "toc_window_display": true
  }
 },
 "nbformat": 4,
 "nbformat_minor": 2
}
