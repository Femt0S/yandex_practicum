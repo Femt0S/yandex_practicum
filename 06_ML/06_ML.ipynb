{
 "cells": [
  {
   "cell_type": "markdown",
   "metadata": {
    "toc": true
   },
   "source": [
    "<h1>Содержание<span class=\"tocSkip\"></span></h1>\n",
    "<div class=\"toc\"><ul class=\"toc-item\"><li><span><a href=\"#Подготовка-данных\" data-toc-modified-id=\"Подготовка-данных-1\"><span class=\"toc-item-num\">1&nbsp;&nbsp;</span>Подготовка данных</a></span><ul class=\"toc-item\"><li><span><a href=\"#Изучение-данных\" data-toc-modified-id=\"Изучение-данных-1.1\"><span class=\"toc-item-num\">1.1&nbsp;&nbsp;</span>Изучение данных</a></span></li><li><span><a href=\"#Обработка-данных\" data-toc-modified-id=\"Обработка-данных-1.2\"><span class=\"toc-item-num\">1.2&nbsp;&nbsp;</span>Обработка данных</a></span></li><li><span><a href=\"#Вывод\" data-toc-modified-id=\"Вывод-1.3\"><span class=\"toc-item-num\">1.3&nbsp;&nbsp;</span>Вывод</a></span></li></ul></li><li><span><a href=\"#Исследование-задачи\" data-toc-modified-id=\"Исследование-задачи-2\"><span class=\"toc-item-num\">2&nbsp;&nbsp;</span>Исследование задачи</a></span><ul class=\"toc-item\"><li><span><a href=\"#Вывод\" data-toc-modified-id=\"Вывод-2.1\"><span class=\"toc-item-num\">2.1&nbsp;&nbsp;</span>Вывод</a></span></li></ul></li><li><span><a href=\"#Борьба-с-дисбалансом\" data-toc-modified-id=\"Борьба-с-дисбалансом-3\"><span class=\"toc-item-num\">3&nbsp;&nbsp;</span>Борьба с дисбалансом</a></span><ul class=\"toc-item\"><li><span><a href=\"#Изменение-веса-классов\" data-toc-modified-id=\"Изменение-веса-классов-3.1\"><span class=\"toc-item-num\">3.1&nbsp;&nbsp;</span>Изменение веса классов</a></span></li><li><span><a href=\"#Увеличение-выборки\" data-toc-modified-id=\"Увеличение-выборки-3.2\"><span class=\"toc-item-num\">3.2&nbsp;&nbsp;</span>Увеличение выборки</a></span></li><li><span><a href=\"#Вывод\" data-toc-modified-id=\"Вывод-3.3\"><span class=\"toc-item-num\">3.3&nbsp;&nbsp;</span>Вывод</a></span></li></ul></li><li><span><a href=\"#Тестирование-модели\" data-toc-modified-id=\"Тестирование-модели-4\"><span class=\"toc-item-num\">4&nbsp;&nbsp;</span>Тестирование модели</a></span><ul class=\"toc-item\"><li><span><a href=\"#Вывод\" data-toc-modified-id=\"Вывод-4.1\"><span class=\"toc-item-num\">4.1&nbsp;&nbsp;</span>Вывод</a></span></li></ul></li></ul></div>"
   ]
  },
  {
   "cell_type": "markdown",
   "metadata": {},
   "source": [
    "# Отток клиентов"
   ]
  },
  {
   "cell_type": "markdown",
   "metadata": {},
   "source": [
    "Из «Бета-Банка» стали уходить клиенты. Каждый месяц. Немного, но заметно. Банковские маркетологи посчитали: сохранять текущих клиентов дешевле, чем привлекать новых.\n",
    "\n",
    "Нужно спрогнозировать, уйдёт клиент из банка в ближайшее время или нет. Вам предоставлены исторические данные о поведении клиентов и расторжении договоров с банком. \n",
    "\n",
    "Постройте модель с предельно большим значением *F1*-меры. Чтобы сдать проект успешно, нужно довести метрику до 0.59. Проверьте *F1*-меру на тестовой выборке самостоятельно.\n",
    "\n",
    "Дополнительно измеряйте *AUC-ROC*, сравнивайте её значение с *F1*-мерой.\n",
    "\n",
    "Источник данных: [https://www.kaggle.com/barelydedicated/bank-customer-churn-modeling](https://www.kaggle.com/barelydedicated/bank-customer-churn-modeling)"
   ]
  },
  {
   "cell_type": "markdown",
   "metadata": {},
   "source": [
    "## Подготовка данных"
   ]
  },
  {
   "cell_type": "markdown",
   "metadata": {},
   "source": [
    "### Изучение данных"
   ]
  },
  {
   "cell_type": "markdown",
   "metadata": {},
   "source": [
    "Импортируем необходимые библиотеки"
   ]
  },
  {
   "cell_type": "code",
   "execution_count": 1,
   "metadata": {},
   "outputs": [],
   "source": [
    "import pandas as pd\n",
    "import seaborn as sns\n",
    "\n",
    "from sklearn.ensemble import RandomForestClassifier\n",
    "from sklearn.linear_model import LogisticRegression\n",
    "\n",
    "from sklearn.model_selection import GridSearchCV\n",
    "from sklearn.model_selection import train_test_split\n",
    "\n",
    "from sklearn.preprocessing import StandardScaler\n",
    "\n",
    "from sklearn.utils import shuffle\n",
    "import matplotlib.pyplot as plt\n",
    "\n",
    "from sklearn.metrics import f1_score, roc_curve, roc_auc_score\n",
    "pd.options.mode.chained_assignment = None"
   ]
  },
  {
   "cell_type": "markdown",
   "metadata": {},
   "source": [
    "Считываем файл исходных данных в переменную `data`."
   ]
  },
  {
   "cell_type": "code",
   "execution_count": 2,
   "metadata": {},
   "outputs": [],
   "source": [
    "data = pd.read_csv('.\\\\datasets\\\\Churn.csv')"
   ]
  },
  {
   "cell_type": "markdown",
   "metadata": {},
   "source": [
    "Рассмотрим загруженные данные:"
   ]
  },
  {
   "cell_type": "code",
   "execution_count": 3,
   "metadata": {},
   "outputs": [
    {
     "data": {
      "text/html": [
       "<div>\n",
       "<style scoped>\n",
       "    .dataframe tbody tr th:only-of-type {\n",
       "        vertical-align: middle;\n",
       "    }\n",
       "\n",
       "    .dataframe tbody tr th {\n",
       "        vertical-align: top;\n",
       "    }\n",
       "\n",
       "    .dataframe thead th {\n",
       "        text-align: right;\n",
       "    }\n",
       "</style>\n",
       "<table border=\"1\" class=\"dataframe\">\n",
       "  <thead>\n",
       "    <tr style=\"text-align: right;\">\n",
       "      <th></th>\n",
       "      <th>RowNumber</th>\n",
       "      <th>CustomerId</th>\n",
       "      <th>Surname</th>\n",
       "      <th>CreditScore</th>\n",
       "      <th>Geography</th>\n",
       "      <th>Gender</th>\n",
       "      <th>Age</th>\n",
       "      <th>Tenure</th>\n",
       "      <th>Balance</th>\n",
       "      <th>NumOfProducts</th>\n",
       "      <th>HasCrCard</th>\n",
       "      <th>IsActiveMember</th>\n",
       "      <th>EstimatedSalary</th>\n",
       "      <th>Exited</th>\n",
       "    </tr>\n",
       "  </thead>\n",
       "  <tbody>\n",
       "    <tr>\n",
       "      <th>0</th>\n",
       "      <td>1</td>\n",
       "      <td>15634602</td>\n",
       "      <td>Hargrave</td>\n",
       "      <td>619</td>\n",
       "      <td>France</td>\n",
       "      <td>Female</td>\n",
       "      <td>42</td>\n",
       "      <td>2.0</td>\n",
       "      <td>0.00</td>\n",
       "      <td>1</td>\n",
       "      <td>1</td>\n",
       "      <td>1</td>\n",
       "      <td>101348.88</td>\n",
       "      <td>1</td>\n",
       "    </tr>\n",
       "    <tr>\n",
       "      <th>1</th>\n",
       "      <td>2</td>\n",
       "      <td>15647311</td>\n",
       "      <td>Hill</td>\n",
       "      <td>608</td>\n",
       "      <td>Spain</td>\n",
       "      <td>Female</td>\n",
       "      <td>41</td>\n",
       "      <td>1.0</td>\n",
       "      <td>83807.86</td>\n",
       "      <td>1</td>\n",
       "      <td>0</td>\n",
       "      <td>1</td>\n",
       "      <td>112542.58</td>\n",
       "      <td>0</td>\n",
       "    </tr>\n",
       "    <tr>\n",
       "      <th>2</th>\n",
       "      <td>3</td>\n",
       "      <td>15619304</td>\n",
       "      <td>Onio</td>\n",
       "      <td>502</td>\n",
       "      <td>France</td>\n",
       "      <td>Female</td>\n",
       "      <td>42</td>\n",
       "      <td>8.0</td>\n",
       "      <td>159660.80</td>\n",
       "      <td>3</td>\n",
       "      <td>1</td>\n",
       "      <td>0</td>\n",
       "      <td>113931.57</td>\n",
       "      <td>1</td>\n",
       "    </tr>\n",
       "    <tr>\n",
       "      <th>3</th>\n",
       "      <td>4</td>\n",
       "      <td>15701354</td>\n",
       "      <td>Boni</td>\n",
       "      <td>699</td>\n",
       "      <td>France</td>\n",
       "      <td>Female</td>\n",
       "      <td>39</td>\n",
       "      <td>1.0</td>\n",
       "      <td>0.00</td>\n",
       "      <td>2</td>\n",
       "      <td>0</td>\n",
       "      <td>0</td>\n",
       "      <td>93826.63</td>\n",
       "      <td>0</td>\n",
       "    </tr>\n",
       "    <tr>\n",
       "      <th>4</th>\n",
       "      <td>5</td>\n",
       "      <td>15737888</td>\n",
       "      <td>Mitchell</td>\n",
       "      <td>850</td>\n",
       "      <td>Spain</td>\n",
       "      <td>Female</td>\n",
       "      <td>43</td>\n",
       "      <td>2.0</td>\n",
       "      <td>125510.82</td>\n",
       "      <td>1</td>\n",
       "      <td>1</td>\n",
       "      <td>1</td>\n",
       "      <td>79084.10</td>\n",
       "      <td>0</td>\n",
       "    </tr>\n",
       "  </tbody>\n",
       "</table>\n",
       "</div>"
      ],
      "text/plain": [
       "   RowNumber  CustomerId   Surname  CreditScore Geography  Gender  Age  \\\n",
       "0          1    15634602  Hargrave          619    France  Female   42   \n",
       "1          2    15647311      Hill          608     Spain  Female   41   \n",
       "2          3    15619304      Onio          502    France  Female   42   \n",
       "3          4    15701354      Boni          699    France  Female   39   \n",
       "4          5    15737888  Mitchell          850     Spain  Female   43   \n",
       "\n",
       "   Tenure    Balance  NumOfProducts  HasCrCard  IsActiveMember  \\\n",
       "0     2.0       0.00              1          1               1   \n",
       "1     1.0   83807.86              1          0               1   \n",
       "2     8.0  159660.80              3          1               0   \n",
       "3     1.0       0.00              2          0               0   \n",
       "4     2.0  125510.82              1          1               1   \n",
       "\n",
       "   EstimatedSalary  Exited  \n",
       "0        101348.88       1  \n",
       "1        112542.58       0  \n",
       "2        113931.57       1  \n",
       "3         93826.63       0  \n",
       "4         79084.10       0  "
      ]
     },
     "execution_count": 3,
     "metadata": {},
     "output_type": "execute_result"
    }
   ],
   "source": [
    "data.head()"
   ]
  },
  {
   "cell_type": "code",
   "execution_count": 4,
   "metadata": {},
   "outputs": [
    {
     "name": "stdout",
     "output_type": "stream",
     "text": [
      "<class 'pandas.core.frame.DataFrame'>\n",
      "RangeIndex: 10000 entries, 0 to 9999\n",
      "Data columns (total 14 columns):\n",
      " #   Column           Non-Null Count  Dtype  \n",
      "---  ------           --------------  -----  \n",
      " 0   RowNumber        10000 non-null  int64  \n",
      " 1   CustomerId       10000 non-null  int64  \n",
      " 2   Surname          10000 non-null  object \n",
      " 3   CreditScore      10000 non-null  int64  \n",
      " 4   Geography        10000 non-null  object \n",
      " 5   Gender           10000 non-null  object \n",
      " 6   Age              10000 non-null  int64  \n",
      " 7   Tenure           9091 non-null   float64\n",
      " 8   Balance          10000 non-null  float64\n",
      " 9   NumOfProducts    10000 non-null  int64  \n",
      " 10  HasCrCard        10000 non-null  int64  \n",
      " 11  IsActiveMember   10000 non-null  int64  \n",
      " 12  EstimatedSalary  10000 non-null  float64\n",
      " 13  Exited           10000 non-null  int64  \n",
      "dtypes: float64(3), int64(8), object(3)\n",
      "memory usage: 1.1+ MB\n"
     ]
    }
   ],
   "source": [
    "data.info()"
   ]
  },
  {
   "cell_type": "markdown",
   "metadata": {},
   "source": [
    "**Описание данных в соответствии с заданием (для сведения):**\n",
    "\n",
    "Признаки\n",
    "\n",
    "    RowNumber — индекс строки в данных\n",
    "    CustomerId — уникальный идентификатор клиента\n",
    "    Surname — фамилия\n",
    "    CreditScore — кредитный рейтинг\n",
    "    Geography — страна проживания\n",
    "    Gender — пол\n",
    "    Age — возраст\n",
    "    Tenure — сколько лет человек является клиентом банка\n",
    "    Balance — баланс на счёте\n",
    "    NumOfProducts — количество продуктов банка, используемых клиентом\n",
    "    HasCrCard — наличие кредитной карты\n",
    "    IsActiveMember — активность клиента\n",
    "    EstimatedSalary — предполагаемая зарплата\n",
    "\n",
    "Целевой признак\n",
    "\n",
    "    Exited — факт ухода клиента"
   ]
  },
  {
   "cell_type": "code",
   "execution_count": 5,
   "metadata": {},
   "outputs": [
    {
     "data": {
      "text/plain": [
       "0    7963\n",
       "1    2037\n",
       "Name: Exited, dtype: int64"
      ]
     },
     "execution_count": 5,
     "metadata": {},
     "output_type": "execute_result"
    }
   ],
   "source": [
    "data.Exited.value_counts()"
   ]
  },
  {
   "cell_type": "markdown",
   "metadata": {},
   "source": [
    "**Промежточный вывод:**\n",
    "\n",
    "Предварительная оценка признаков на предмет их использования в рамках создания модели\n",
    "\n",
    "- `RowNumber` — индекс строки в данных, не имеет значения для дальнейшего анализа и моделирования, поэтому не будет использован;\n",
    "- `CustomerId` и `Surname` — уникальный идентификатор клиента и его фамилия, также не имеют значения при моделировании;\n",
    "- `CreditScore` — кредитный рейтинг, в банковском деле является важным признаком, применим для создания модели;\n",
    "- `Geography` — страна проживания, применим для создания модели, необходимо закодировать;\n",
    "- `Gender` — пол, применим для создания модели, необходимо закодировать;\n",
    "- `Age` — возраст, признак применимый для создания модели;\n",
    "- `Tenure` — сколько лет человек является клиентом банка, признак применимый для создания модели, есть **909** пропусков, для снижения влияния на моделирование, выбросим данные строки;\n",
    "- `Balance` — баланс на счёте, признак применимый для создания модели, необходимо отмасштабировать;\n",
    "- `NumOfProducts` — количество продуктов банка, используемых клиентом, признак применимый для создания модели;\n",
    "- `HasCrCard` — наличие кредитной карты, признак применимый для создания модели;\n",
    "- `IsActiveMember` — активность клиента, важный признак, подлежит использовании в модели;\n",
    "- `EstimatedSalary` — предполагаемая зарплата, признак применимый для создания модели, необходимо отмасштабировать;"
   ]
  },
  {
   "cell_type": "markdown",
   "metadata": {},
   "source": [
    "### Обработка данных"
   ]
  },
  {
   "cell_type": "markdown",
   "metadata": {},
   "source": [
    "Первым делом удалим столбцы и строки, не пригодные для моделирования"
   ]
  },
  {
   "cell_type": "code",
   "execution_count": 6,
   "metadata": {},
   "outputs": [],
   "source": [
    "dropped_features = ['RowNumber', 'CustomerId', 'Surname']\n",
    "data_shrink = data.fillna(data['Tenure'].mean()).drop(dropped_features, axis = 1)"
   ]
  },
  {
   "cell_type": "code",
   "execution_count": 7,
   "metadata": {
    "scrolled": true
   },
   "outputs": [
    {
     "data": {
      "text/html": [
       "<div>\n",
       "<style scoped>\n",
       "    .dataframe tbody tr th:only-of-type {\n",
       "        vertical-align: middle;\n",
       "    }\n",
       "\n",
       "    .dataframe tbody tr th {\n",
       "        vertical-align: top;\n",
       "    }\n",
       "\n",
       "    .dataframe thead th {\n",
       "        text-align: right;\n",
       "    }\n",
       "</style>\n",
       "<table border=\"1\" class=\"dataframe\">\n",
       "  <thead>\n",
       "    <tr style=\"text-align: right;\">\n",
       "      <th></th>\n",
       "      <th>CreditScore</th>\n",
       "      <th>Geography</th>\n",
       "      <th>Gender</th>\n",
       "      <th>Age</th>\n",
       "      <th>Tenure</th>\n",
       "      <th>Balance</th>\n",
       "      <th>NumOfProducts</th>\n",
       "      <th>HasCrCard</th>\n",
       "      <th>IsActiveMember</th>\n",
       "      <th>EstimatedSalary</th>\n",
       "      <th>Exited</th>\n",
       "    </tr>\n",
       "  </thead>\n",
       "  <tbody>\n",
       "    <tr>\n",
       "      <th>0</th>\n",
       "      <td>619</td>\n",
       "      <td>France</td>\n",
       "      <td>Female</td>\n",
       "      <td>42</td>\n",
       "      <td>2.0</td>\n",
       "      <td>0.00</td>\n",
       "      <td>1</td>\n",
       "      <td>1</td>\n",
       "      <td>1</td>\n",
       "      <td>101348.88</td>\n",
       "      <td>1</td>\n",
       "    </tr>\n",
       "    <tr>\n",
       "      <th>1</th>\n",
       "      <td>608</td>\n",
       "      <td>Spain</td>\n",
       "      <td>Female</td>\n",
       "      <td>41</td>\n",
       "      <td>1.0</td>\n",
       "      <td>83807.86</td>\n",
       "      <td>1</td>\n",
       "      <td>0</td>\n",
       "      <td>1</td>\n",
       "      <td>112542.58</td>\n",
       "      <td>0</td>\n",
       "    </tr>\n",
       "    <tr>\n",
       "      <th>2</th>\n",
       "      <td>502</td>\n",
       "      <td>France</td>\n",
       "      <td>Female</td>\n",
       "      <td>42</td>\n",
       "      <td>8.0</td>\n",
       "      <td>159660.80</td>\n",
       "      <td>3</td>\n",
       "      <td>1</td>\n",
       "      <td>0</td>\n",
       "      <td>113931.57</td>\n",
       "      <td>1</td>\n",
       "    </tr>\n",
       "    <tr>\n",
       "      <th>3</th>\n",
       "      <td>699</td>\n",
       "      <td>France</td>\n",
       "      <td>Female</td>\n",
       "      <td>39</td>\n",
       "      <td>1.0</td>\n",
       "      <td>0.00</td>\n",
       "      <td>2</td>\n",
       "      <td>0</td>\n",
       "      <td>0</td>\n",
       "      <td>93826.63</td>\n",
       "      <td>0</td>\n",
       "    </tr>\n",
       "    <tr>\n",
       "      <th>4</th>\n",
       "      <td>850</td>\n",
       "      <td>Spain</td>\n",
       "      <td>Female</td>\n",
       "      <td>43</td>\n",
       "      <td>2.0</td>\n",
       "      <td>125510.82</td>\n",
       "      <td>1</td>\n",
       "      <td>1</td>\n",
       "      <td>1</td>\n",
       "      <td>79084.10</td>\n",
       "      <td>0</td>\n",
       "    </tr>\n",
       "  </tbody>\n",
       "</table>\n",
       "</div>"
      ],
      "text/plain": [
       "   CreditScore Geography  Gender  Age  Tenure    Balance  NumOfProducts  \\\n",
       "0          619    France  Female   42     2.0       0.00              1   \n",
       "1          608     Spain  Female   41     1.0   83807.86              1   \n",
       "2          502    France  Female   42     8.0  159660.80              3   \n",
       "3          699    France  Female   39     1.0       0.00              2   \n",
       "4          850     Spain  Female   43     2.0  125510.82              1   \n",
       "\n",
       "   HasCrCard  IsActiveMember  EstimatedSalary  Exited  \n",
       "0          1               1        101348.88       1  \n",
       "1          0               1        112542.58       0  \n",
       "2          1               0        113931.57       1  \n",
       "3          0               0         93826.63       0  \n",
       "4          1               1         79084.10       0  "
      ]
     },
     "execution_count": 7,
     "metadata": {},
     "output_type": "execute_result"
    }
   ],
   "source": [
    "data_shrink.head()"
   ]
  },
  {
   "cell_type": "markdown",
   "metadata": {},
   "source": [
    "Закодируем строковые значения столбцов `Geography` и `Gender`:\n",
    "\n",
    "для кодирования столбца `Gender` воспользуемся методом OHE:"
   ]
  },
  {
   "cell_type": "code",
   "execution_count": 8,
   "metadata": {},
   "outputs": [],
   "source": [
    "data_ohe = pd.get_dummies(data_shrink, columns = ['Gender'], drop_first = True)"
   ]
  },
  {
   "cell_type": "markdown",
   "metadata": {},
   "source": [
    "... и методом Ordinal Encoding для столбца `Geography`, для чего импортируем соответствующую библиотеку:"
   ]
  },
  {
   "cell_type": "code",
   "execution_count": 9,
   "metadata": {
    "scrolled": false
   },
   "outputs": [
    {
     "data": {
      "text/html": [
       "<div>\n",
       "<style scoped>\n",
       "    .dataframe tbody tr th:only-of-type {\n",
       "        vertical-align: middle;\n",
       "    }\n",
       "\n",
       "    .dataframe tbody tr th {\n",
       "        vertical-align: top;\n",
       "    }\n",
       "\n",
       "    .dataframe thead th {\n",
       "        text-align: right;\n",
       "    }\n",
       "</style>\n",
       "<table border=\"1\" class=\"dataframe\">\n",
       "  <thead>\n",
       "    <tr style=\"text-align: right;\">\n",
       "      <th></th>\n",
       "      <th>CreditScore</th>\n",
       "      <th>Geography</th>\n",
       "      <th>Age</th>\n",
       "      <th>Tenure</th>\n",
       "      <th>Balance</th>\n",
       "      <th>NumOfProducts</th>\n",
       "      <th>HasCrCard</th>\n",
       "      <th>IsActiveMember</th>\n",
       "      <th>EstimatedSalary</th>\n",
       "      <th>Exited</th>\n",
       "      <th>Gender_Male</th>\n",
       "    </tr>\n",
       "  </thead>\n",
       "  <tbody>\n",
       "    <tr>\n",
       "      <th>0</th>\n",
       "      <td>228.0</td>\n",
       "      <td>0.0</td>\n",
       "      <td>24.0</td>\n",
       "      <td>2.0</td>\n",
       "      <td>0.0</td>\n",
       "      <td>0.0</td>\n",
       "      <td>1.0</td>\n",
       "      <td>1.0</td>\n",
       "      <td>5068.0</td>\n",
       "      <td>1.0</td>\n",
       "      <td>0.0</td>\n",
       "    </tr>\n",
       "    <tr>\n",
       "      <th>1</th>\n",
       "      <td>217.0</td>\n",
       "      <td>2.0</td>\n",
       "      <td>23.0</td>\n",
       "      <td>1.0</td>\n",
       "      <td>743.0</td>\n",
       "      <td>0.0</td>\n",
       "      <td>0.0</td>\n",
       "      <td>1.0</td>\n",
       "      <td>5639.0</td>\n",
       "      <td>0.0</td>\n",
       "      <td>0.0</td>\n",
       "    </tr>\n",
       "    <tr>\n",
       "      <th>2</th>\n",
       "      <td>111.0</td>\n",
       "      <td>0.0</td>\n",
       "      <td>24.0</td>\n",
       "      <td>9.0</td>\n",
       "      <td>5793.0</td>\n",
       "      <td>2.0</td>\n",
       "      <td>1.0</td>\n",
       "      <td>0.0</td>\n",
       "      <td>5707.0</td>\n",
       "      <td>1.0</td>\n",
       "      <td>0.0</td>\n",
       "    </tr>\n",
       "    <tr>\n",
       "      <th>3</th>\n",
       "      <td>308.0</td>\n",
       "      <td>0.0</td>\n",
       "      <td>21.0</td>\n",
       "      <td>1.0</td>\n",
       "      <td>0.0</td>\n",
       "      <td>1.0</td>\n",
       "      <td>0.0</td>\n",
       "      <td>0.0</td>\n",
       "      <td>4704.0</td>\n",
       "      <td>0.0</td>\n",
       "      <td>0.0</td>\n",
       "    </tr>\n",
       "    <tr>\n",
       "      <th>4</th>\n",
       "      <td>459.0</td>\n",
       "      <td>2.0</td>\n",
       "      <td>25.0</td>\n",
       "      <td>2.0</td>\n",
       "      <td>3696.0</td>\n",
       "      <td>0.0</td>\n",
       "      <td>1.0</td>\n",
       "      <td>1.0</td>\n",
       "      <td>3925.0</td>\n",
       "      <td>0.0</td>\n",
       "      <td>0.0</td>\n",
       "    </tr>\n",
       "  </tbody>\n",
       "</table>\n",
       "</div>"
      ],
      "text/plain": [
       "   CreditScore  Geography   Age  Tenure  Balance  NumOfProducts  HasCrCard  \\\n",
       "0        228.0        0.0  24.0     2.0      0.0            0.0        1.0   \n",
       "1        217.0        2.0  23.0     1.0    743.0            0.0        0.0   \n",
       "2        111.0        0.0  24.0     9.0   5793.0            2.0        1.0   \n",
       "3        308.0        0.0  21.0     1.0      0.0            1.0        0.0   \n",
       "4        459.0        2.0  25.0     2.0   3696.0            0.0        1.0   \n",
       "\n",
       "   IsActiveMember  EstimatedSalary  Exited  Gender_Male  \n",
       "0             1.0           5068.0     1.0          0.0  \n",
       "1             1.0           5639.0     0.0          0.0  \n",
       "2             0.0           5707.0     1.0          0.0  \n",
       "3             0.0           4704.0     0.0          0.0  \n",
       "4             1.0           3925.0     0.0          0.0  "
      ]
     },
     "execution_count": 9,
     "metadata": {},
     "output_type": "execute_result"
    }
   ],
   "source": [
    "from sklearn.preprocessing import OrdinalEncoder\n",
    "\n",
    "encoder = OrdinalEncoder()\n",
    "encoder.fit(data_ohe)\n",
    "data_ordinal = pd.DataFrame(encoder.transform(data_ohe), columns=data_ohe.columns)\n",
    "data_ordinal.head()"
   ]
  },
  {
   "cell_type": "markdown",
   "metadata": {},
   "source": [
    "Созадим переменные **X** ..."
   ]
  },
  {
   "cell_type": "code",
   "execution_count": 10,
   "metadata": {},
   "outputs": [],
   "source": [
    "X = data_ordinal.copy()"
   ]
  },
  {
   "cell_type": "markdown",
   "metadata": {},
   "source": [
    "... и **y**, с целевым признаком"
   ]
  },
  {
   "cell_type": "code",
   "execution_count": 11,
   "metadata": {},
   "outputs": [],
   "source": [
    "y = X.pop('Exited')"
   ]
  },
  {
   "cell_type": "markdown",
   "metadata": {},
   "source": [
    "Разделим данные на тренировочную, валидационную и тестовые выборки в пропорциях 5:2:1."
   ]
  },
  {
   "cell_type": "code",
   "execution_count": 12,
   "metadata": {
    "scrolled": true
   },
   "outputs": [
    {
     "name": "stdout",
     "output_type": "stream",
     "text": [
      "Тренировочная выборка: 6256\n",
      "Валидационная выборка: 2494\n",
      "Тестовая выборка: 1250\n"
     ]
    }
   ],
   "source": [
    "X2, X_test, y2, y_test = train_test_split(X, y,\n",
    "                                          test_size=0.125,\n",
    "                                          random_state=13)\n",
    "\n",
    "X_train, X_valid, y_train, y_valid = train_test_split(X2, y2,\n",
    "                                                      test_size=0.285,\n",
    "                                                      random_state=13)\n",
    "\n",
    "print('Тренировочная выборка:', X_train.shape[0])\n",
    "print('Валидационная выборка:', X_valid.shape[0])\n",
    "print('Тестовая выборка:', X_test.shape[0])"
   ]
  },
  {
   "cell_type": "markdown",
   "metadata": {},
   "source": [
    "Как было определено ранее, необходимо отмасштабировать признаки, такие как `Age`, `Tenure`, `Balance`, `EstimatedSalary`, для чего воспользуемся библиотекой **`StandardScaler`**"
   ]
  },
  {
   "cell_type": "code",
   "execution_count": 13,
   "metadata": {},
   "outputs": [],
   "source": [
    "col_names = ['CreditScore', 'Age', 'Tenure', 'Balance', 'EstimatedSalary']\n",
    "\n",
    "scaler = StandardScaler().fit(X_train[col_names].values)\n",
    "\n",
    "X2[col_names] = scaler.transform(X2[col_names].values)\n",
    "X_train[col_names] = scaler.transform(X_train[col_names].values)\n",
    "X_valid[col_names] = scaler.transform(X_valid[col_names].values)\n",
    "X_test[col_names] = scaler.transform(X_test[col_names].values)"
   ]
  },
  {
   "cell_type": "markdown",
   "metadata": {},
   "source": [
    "### Вывод\n",
    "\n",
    "Данные подготовлены, и готовы к дальнейшему моделированию."
   ]
  },
  {
   "cell_type": "markdown",
   "metadata": {},
   "source": [
    "## Исследование задачи"
   ]
  },
  {
   "cell_type": "markdown",
   "metadata": {},
   "source": [
    "Узнаем, какие классы встречаются чаще, положительные или отрицательные: "
   ]
  },
  {
   "cell_type": "code",
   "execution_count": 14,
   "metadata": {
    "scrolled": true
   },
   "outputs": [
    {
     "name": "stdout",
     "output_type": "stream",
     "text": [
      "Отрицательный класс встречается в 3.965079365079365 раз чаще\n"
     ]
    }
   ],
   "source": [
    "print('Отрицательный класс встречается в',\n",
    "      y_train.where(y_train == 0).count() / y_train.where(y_train == 1).count(),\n",
    "      'раз чаще')"
   ]
  },
  {
   "cell_type": "markdown",
   "metadata": {},
   "source": [
    "т.е. почти в 4 раза значение \"0\" является более частым, чем \"1\", что является дисбалансом"
   ]
  },
  {
   "cell_type": "markdown",
   "metadata": {},
   "source": [
    "Проверим метрику F1 на моделях `LogisticRegression()` и `RandomForestClassifier()`"
   ]
  },
  {
   "cell_type": "code",
   "execution_count": 15,
   "metadata": {
    "scrolled": true
   },
   "outputs": [
    {
     "name": "stdout",
     "output_type": "stream",
     "text": [
      "LogisticRegression\n",
      "F1: 0.26403641881638845\n",
      "ROC_AUC: 0.7476220436746753\n"
     ]
    }
   ],
   "source": [
    "model = LogisticRegression(random_state=13, solver='liblinear')\n",
    "model.fit(X_train, y_train)\n",
    "\n",
    "print('LogisticRegression')\n",
    "print(\"F1:\", f1_score(y_valid, model.predict(X_valid)))\n",
    "print('ROC_AUC:', roc_auc_score(y_valid, model.predict_proba(X_valid)[:,1]))"
   ]
  },
  {
   "cell_type": "markdown",
   "metadata": {},
   "source": [
    "Также построим ROC кривую при данных параметрах"
   ]
  },
  {
   "cell_type": "code",
   "execution_count": 16,
   "metadata": {
    "scrolled": false
   },
   "outputs": [
    {
     "data": {
      "text/plain": [
       "(0.0, 1.0)"
      ]
     },
     "execution_count": 16,
     "metadata": {},
     "output_type": "execute_result"
    },
    {
     "data": {
      "image/png": "[encoded data removed]",
      "text/plain": [
       "<Figure size 1224x504 with 1 Axes>"
      ]
     },
     "metadata": {
      "needs_background": "light"
     },
     "output_type": "display_data"
    }
   ],
   "source": [
    "fpr, tpr, thresholds = roc_curve(y_test, model.predict_proba(X_test)[:, 1]) \n",
    "\n",
    "plt.figure(figsize=[17,7])\n",
    "plt.plot(fpr, tpr)\n",
    "plt.plot([0, 1], [0, 1], linestyle='--')\n",
    "plt.xlim([0.0, 1.0])\n",
    "plt.ylim([0.0, 1.0])"
   ]
  },
  {
   "cell_type": "markdown",
   "metadata": {},
   "source": [
    "Для подбора оптимальных гиперпараметров `RandomForestClassifier()` воспользуемся методом `GridSearchCV`, для чего первым делом укажем требуемые параметры:"
   ]
  },
  {
   "cell_type": "code",
   "execution_count": 17,
   "metadata": {},
   "outputs": [],
   "source": [
    "clf = RandomForestClassifier()\n",
    "parameters = {'n_estimators': range (10, 101, 5),\n",
    "              'max_depth': range (1,15, 2),\n",
    "              'random_state': [13]}"
   ]
  },
  {
   "cell_type": "markdown",
   "metadata": {},
   "source": [
    "И произведём подбор:\n",
    "\n",
    "*Для подбора в данном случае используются все данные, так как подбираются параметры, а не обучается модель и \"зазубрить ответы\" для тестовой выборки она не способна*"
   ]
  },
  {
   "cell_type": "code",
   "execution_count": 18,
   "metadata": {},
   "outputs": [
    {
     "data": {
      "text/plain": [
       "{'max_depth': 13, 'n_estimators': 45, 'random_state': 13}"
      ]
     },
     "execution_count": 18,
     "metadata": {},
     "output_type": "execute_result"
    }
   ],
   "source": [
    "grid = GridSearchCV(clf,\n",
    "                    parameters,\n",
    "                    cv=5)  #почему-то в scoring='f1' в данном случае выдаёт ошибки \n",
    "                           \n",
    "grid.fit(X, y)\n",
    "grid.best_params_"
   ]
  },
  {
   "cell_type": "markdown",
   "metadata": {},
   "source": [
    "Построим тепловую карту зависимости оценки от гиперпараметров:"
   ]
  },
  {
   "cell_type": "code",
   "execution_count": 19,
   "metadata": {},
   "outputs": [
    {
     "data": {
      "image/png": "[encoded data removed]",
      "text/plain": [
       "<Figure size 1224x504 with 2 Axes>"
      ]
     },
     "metadata": {},
     "output_type": "display_data"
    }
   ],
   "source": [
    "sns.set(rc={'figure.figsize':(17,7)})\n",
    "\n",
    "\n",
    "pvt = pd.pivot_table(pd.DataFrame(grid.cv_results_),\n",
    "    values='mean_test_score', index='param_max_depth', columns='param_n_estimators')\n",
    "\n",
    "ax = sns.heatmap(pvt)"
   ]
  },
  {
   "cell_type": "markdown",
   "metadata": {},
   "source": [
    "При анализе данной тепловой карты является очевидным, что самый важный гиперпараметр - это максимальная глубина, граничным значением в данном случае является max_depth=7"
   ]
  },
  {
   "cell_type": "markdown",
   "metadata": {},
   "source": [
    "Проверим модель с полученными гиперпараметрами:"
   ]
  },
  {
   "cell_type": "code",
   "execution_count": 20,
   "metadata": {},
   "outputs": [
    {
     "name": "stdout",
     "output_type": "stream",
     "text": [
      "RandomForestClassifier\n",
      "F1: 0.5420326223337515\n",
      "ROC_AUC: 0.8390375627217732\n"
     ]
    }
   ],
   "source": [
    "model = RandomForestClassifier(n_estimators = 55, max_depth = 13, random_state=13)\n",
    "model.fit(X_train, y_train)\n",
    "\n",
    "print('RandomForestClassifier')\n",
    "print(\"F1:\", f1_score(y_valid, model.predict(X_valid)))\n",
    "print('ROC_AUC:', roc_auc_score(y_valid, model.predict_proba(X_valid)[:,1]))"
   ]
  },
  {
   "cell_type": "markdown",
   "metadata": {},
   "source": [
    "Построим ROC-кривую также и для данного случая"
   ]
  },
  {
   "cell_type": "code",
   "execution_count": 21,
   "metadata": {},
   "outputs": [
    {
     "data": {
      "text/plain": [
       "(0.0, 1.0)"
      ]
     },
     "execution_count": 21,
     "metadata": {},
     "output_type": "execute_result"
    },
    {
     "data": {
      "image/png": "[encoded data removed]",
      "text/plain": [
       "<Figure size 1224x504 with 1 Axes>"
      ]
     },
     "metadata": {},
     "output_type": "display_data"
    }
   ],
   "source": [
    "fpr, tpr, thresholds = roc_curve(y_test,\n",
    "                                 model.predict_proba(X_test)[:, 1]) \n",
    "\n",
    "plt.figure(figsize=[17,7])\n",
    "plt.plot(fpr, tpr)\n",
    "plt.plot([0, 1], [0, 1], linestyle='--')\n",
    "plt.xlim([0.0, 1.0])\n",
    "plt.ylim([0.0, 1.0])"
   ]
  },
  {
   "cell_type": "markdown",
   "metadata": {},
   "source": [
    "### Вывод\n",
    "\n",
    "Дисбаланс классов в представленных данных заметен, и отличие между отрицательныами и положительынми значениями составляет 4 раза. \n",
    "Без дополнительных мероприятий по борьбе с дисбалансом классов получаем следующие метрики:\n",
    "\n",
    "- **LogisticRegression**:\n",
    "  - F1-мера составляет 0.26, что меньше требуемой 0.59;\n",
    "  - ROC график стремится к случайной модели;\n",
    "  - AUC_ROC составляет 0.75;\n",
    "    \n",
    "- **RandomForestClassifier**:\n",
    "  - F1-мера составляет 0.54, что меньше требуемой 0.59;\n",
    "  - ROC график проходит более высоко, и показывает более высокое качество; \n",
    "  - AUC_ROC составляет 0.84;\n",
    "  \n",
    "Для того, чтобы определить зависимость этих метрик от дисбаланса, произведём мероприятия по его уменьшению, и сравним полученные результаты."
   ]
  },
  {
   "cell_type": "markdown",
   "metadata": {},
   "source": [
    "## Борьба с дисбалансом"
   ]
  },
  {
   "cell_type": "markdown",
   "metadata": {},
   "source": [
    "### Изменение веса классов\n",
    "\n",
    "Первым этапом добавим гиперпараметр ***class_weight='balanced'*** к выбранным моделям"
   ]
  },
  {
   "cell_type": "code",
   "execution_count": 22,
   "metadata": {
    "scrolled": true
   },
   "outputs": [
    {
     "name": "stdout",
     "output_type": "stream",
     "text": [
      "LogisticRegression (balanced)\n",
      "F1: 0.4756013745704467\n",
      "ROC_AUC: 0.7554573804573805\n"
     ]
    }
   ],
   "source": [
    "model = LogisticRegression(random_state=13,\n",
    "                           solver='liblinear',\n",
    "                           class_weight='balanced')\n",
    "model.fit(X_train, y_train)\n",
    "\n",
    "print('LogisticRegression (balanced)')\n",
    "print(\"F1:\", f1_score(y_valid, model.predict(X_valid)))\n",
    "print('ROC_AUC:', roc_auc_score(y_valid, model.predict_proba(X_valid)[:,1]))"
   ]
  },
  {
   "cell_type": "code",
   "execution_count": 23,
   "metadata": {},
   "outputs": [
    {
     "name": "stdout",
     "output_type": "stream",
     "text": [
      "RandomForestClassifier (balanced)\n",
      "F1: 0.5802752293577982\n",
      "ROC_AUC: 0.8488502962187172\n"
     ]
    }
   ],
   "source": [
    "model = RandomForestClassifier(n_estimators = 55,\n",
    "                               max_depth = 13,\n",
    "                               random_state=13,\n",
    "                               class_weight='balanced')\n",
    "model.fit(X_train, y_train)\n",
    "\n",
    "print('RandomForestClassifier (balanced)')\n",
    "print(\"F1:\", f1_score(y_valid, model.predict(X_valid)))\n",
    "print('ROC_AUC:', roc_auc_score(y_valid, model.predict_proba(X_valid)[:,1]))"
   ]
  },
  {
   "cell_type": "markdown",
   "metadata": {},
   "source": [
    "**Промежточный вывод:**\n",
    "\n",
    "Добавление данного гиперпараметра улучшает значение метрики F1:\n",
    "- в случае модели **LogisticRegression** - в два раза, до значения 0.47, что меньше требуемого;\n",
    "- в случае модели **RandomForestClassifier** - на 5%, до значения 0.58, что меньше требуемого;"
   ]
  },
  {
   "cell_type": "markdown",
   "metadata": {},
   "source": [
    "### Увеличение выборки\n",
    "\n",
    "Для борьбы с дисбалансом воспользуемся upsampling (увеличением выборки) с оформлением его в функцию `upsample`"
   ]
  },
  {
   "cell_type": "code",
   "execution_count": 24,
   "metadata": {},
   "outputs": [],
   "source": [
    "def upsample(X, y, times):\n",
    "    X_zero = X[y == 0]\n",
    "    X_one = X[y == 1]\n",
    "    y_zero = y[y == 0]\n",
    "    y_one = y[y == 1]\n",
    "\n",
    "    X_up = pd.concat([X_zero] + [X_one] * times)\n",
    "    y_up = pd.concat([y_zero] + [y_one] * times)\n",
    "    \n",
    "    X_up, y_up = shuffle(X_up, y_up, random_state=13)\n",
    "    \n",
    "    return X_up, y_up"
   ]
  },
  {
   "cell_type": "markdown",
   "metadata": {},
   "source": [
    "И присвоим результат работы этой фукнции"
   ]
  },
  {
   "cell_type": "code",
   "execution_count": 25,
   "metadata": {},
   "outputs": [],
   "source": [
    "X_upsampled, y_upsampled = upsample(X_train, y_train, 4)"
   ]
  },
  {
   "cell_type": "markdown",
   "metadata": {},
   "source": [
    "... с последующей проверкой:"
   ]
  },
  {
   "cell_type": "code",
   "execution_count": 26,
   "metadata": {
    "scrolled": true
   },
   "outputs": [
    {
     "name": "stdout",
     "output_type": "stream",
     "text": [
      "Отрицательный класс встречается в 0.9912698412698413 раз чаще\n"
     ]
    }
   ],
   "source": [
    "print('Отрицательный класс встречается в',\n",
    "      y_upsampled.where(y_upsampled == 0).count() / y_upsampled.where(y_upsampled == 1).count(),\n",
    "      'раз чаще')"
   ]
  },
  {
   "cell_type": "markdown",
   "metadata": {},
   "source": [
    "Произведём проверку метрик на увеличенной выборке:"
   ]
  },
  {
   "cell_type": "code",
   "execution_count": 27,
   "metadata": {},
   "outputs": [
    {
     "name": "stdout",
     "output_type": "stream",
     "text": [
      "LogisticRegression (upsampled)\n",
      "F1: 0.4754098360655738\n",
      "ROC_AUC: 0.755460311381364\n"
     ]
    }
   ],
   "source": [
    "model = LogisticRegression(random_state=13, solver='liblinear')\n",
    "model.fit(X_upsampled, y_upsampled)\n",
    "\n",
    "print('LogisticRegression (upsampled)')\n",
    "print(\"F1:\", f1_score(y_valid, model.predict(X_valid)))\n",
    "print('ROC_AUC:', roc_auc_score(y_valid, model.predict_proba(X_valid)[:,1]))"
   ]
  },
  {
   "cell_type": "code",
   "execution_count": 28,
   "metadata": {
    "scrolled": true
   },
   "outputs": [
    {
     "name": "stdout",
     "output_type": "stream",
     "text": [
      "RandomForestClassifier (upsampled)\n",
      "F1: 0.6029556650246305\n",
      "ROC_AUC: 0.8474776468197521\n"
     ]
    }
   ],
   "source": [
    "model = RandomForestClassifier(n_estimators = 55,\n",
    "                               max_depth = 13,\n",
    "                               random_state=13)\n",
    "model.fit(X_upsampled, y_upsampled)\n",
    "\n",
    "print('RandomForestClassifier (upsampled)')\n",
    "print(\"F1:\", f1_score(y_valid, model.predict(X_valid)))\n",
    "print('ROC_AUC:', roc_auc_score(y_valid, model.predict_proba(X_valid)[:,1]))"
   ]
  },
  {
   "cell_type": "markdown",
   "metadata": {},
   "source": [
    "### Вывод\n",
    "\n",
    "В результате борьбы с дисбалансом получаем следующие метрики:\n",
    "\n",
    "- **LogisticRegression**:\n",
    "  - F1-мера составляет 0.47, что меньше требуемой 0.59, но больше первоначального значения 0.26;\n",
    "  - AUC_ROC не изменяется при изменениях баланса, и составляет 0.75;\n",
    "    \n",
    "- **RandomForestClassifier**:\n",
    "  - F1-мера составляет 0.60, что больше как требуемой 0.59, так и прошлого значения 0.54;\n",
    "  - AUC_ROC не изменяется при изменениях баланса, и составляет 0.84;\n",
    "  \n",
    "Следовательно, принятые методы борьбы с дисбалансом принесли свои результаты, и значительно улучшили значения F1-меры. Наилучший результат в борьбе с дисбалансом принесло увеличение выборки."
   ]
  },
  {
   "cell_type": "markdown",
   "metadata": {},
   "source": [
    "## Тестирование модели"
   ]
  },
  {
   "cell_type": "markdown",
   "metadata": {},
   "source": [
    "Произведём финальную проверку модели с наилучшими гиперпараметрами на тестовой выборке, с учётом использования увеличения выборки (**upsample**)\n",
    "\n",
    "Для тренировки модели воспользуемся всем оставшимся объёмом данных, а именно переменными ***X2*** и ***y2***, содержащими в себе как тренировочную, так и валидационную выборку."
   ]
  },
  {
   "cell_type": "code",
   "execution_count": 29,
   "metadata": {},
   "outputs": [],
   "source": [
    "model = RandomForestClassifier(n_estimators = 55,\n",
    "                               max_depth = 13,\n",
    "                               random_state=13)\n",
    "\n",
    "X_final, y_final = upsample(X2, y2, 4)\n",
    "model.fit(X_final, y_final)\n",
    "\n",
    "predict = model.predict(X_test)"
   ]
  },
  {
   "cell_type": "markdown",
   "metadata": {},
   "source": [
    "И получим финальное значение F1 и ROC_AUC"
   ]
  },
  {
   "cell_type": "code",
   "execution_count": 30,
   "metadata": {},
   "outputs": [
    {
     "name": "stdout",
     "output_type": "stream",
     "text": [
      "Final F1: 0.6512524084778419\n",
      "Final ROC_AUC: 0.8702297511581063\n"
     ]
    }
   ],
   "source": [
    "print(\"Final F1:\", f1_score(y_test, predict))\n",
    "print('Final ROC_AUC:', roc_auc_score(y_test, model.predict_proba(X_test)[:,1]))"
   ]
  },
  {
   "cell_type": "markdown",
   "metadata": {},
   "source": [
    "Также построим график ROC и сравним его со случайной моделью:"
   ]
  },
  {
   "cell_type": "code",
   "execution_count": 31,
   "metadata": {
    "scrolled": false
   },
   "outputs": [
    {
     "data": {
      "text/plain": [
       "(0.0, 1.0)"
      ]
     },
     "execution_count": 31,
     "metadata": {},
     "output_type": "execute_result"
    },
    {
     "data": {
      "image/png": "[encoded data removed]",
      "text/plain": [
       "<Figure size 1224x504 with 1 Axes>"
      ]
     },
     "metadata": {},
     "output_type": "display_data"
    }
   ],
   "source": [
    "fpr, tpr, thresholds = roc_curve(y_test,\n",
    "                                 model.predict_proba(X_test)[:, 1]) \n",
    "\n",
    "plt.figure(figsize=[17,7])\n",
    "plt.plot(fpr, tpr)\n",
    "plt.plot([0, 1], [0, 1], linestyle='--')\n",
    "plt.xlim([0.0, 1.0])\n",
    "plt.ylim([0.0, 1.0])"
   ]
  },
  {
   "cell_type": "markdown",
   "metadata": {},
   "source": [
    "Проверим все модели, на тестовых данных"
   ]
  },
  {
   "cell_type": "code",
   "execution_count": 32,
   "metadata": {},
   "outputs": [],
   "source": [
    "#---------------------LogisticRegression unbalanced---------------------\n",
    "model_lr_unbalanced = LogisticRegression(random_state=13,\n",
    "                                         solver='liblinear')\n",
    "model_lr_unbalanced.fit(X2, y2)\n",
    "f1_lr_unbalanced = f1_score(y_test,\n",
    "                            model_lr_unbalanced.predict(X_test))\n",
    "roc_auc_lr_unbalanced = roc_auc_score(y_test,\n",
    "                                      model_lr_unbalanced.predict_proba(X_test)[:,1])\n",
    "\n",
    "#---------------------RandomForestClassifier unbalanced------------------\n",
    "model_rfc_unbalanced = RandomForestClassifier(n_estimators = 55,\n",
    "                                              max_depth = 13,\n",
    "                                              random_state=13)\n",
    "model_rfc_unbalanced.fit(X2, y2)\n",
    "f1_rfc_unbalanced = f1_score(y_test,\n",
    "                             model_rfc_unbalanced.predict(X_test))\n",
    "roc_auc_rfc_unbalanced = roc_auc_score(y_test,\n",
    "                                       model_rfc_unbalanced.predict_proba(X_test)[:,1])\n",
    "\n",
    "#---------------------LogisticRegression balanced---------------------\n",
    "model_lr_balanced = LogisticRegression(random_state=13,\n",
    "                                       solver='liblinear',\n",
    "                                       class_weight='balanced')\n",
    "model_lr_balanced.fit(X2, y2)\n",
    "f1_lr_balanced = f1_score(y_test,\n",
    "                          model_lr_balanced.predict(X_test))\n",
    "roc_auc_lr_balanced = roc_auc_score(y_test,\n",
    "                                    model_lr_balanced.predict_proba(X_test)[:,1])\n",
    "\n",
    "#---------------------RandomForestClassifier unbalanced------------------\n",
    "model_rfc_balanced = RandomForestClassifier(n_estimators = 55,\n",
    "                                            max_depth = 13,\n",
    "                                            random_state=13,\n",
    "                                            class_weight='balanced')\n",
    "model_rfc_balanced.fit(X2, y2)\n",
    "f1_rfc_balanced = f1_score(y_test,\n",
    "                           model_rfc_balanced.predict(X_test))\n",
    "roc_auc_rfc_balanced = roc_auc_score(y_test,\n",
    "                                     model_rfc_balanced.predict_proba(X_test)[:,1])\n",
    "\n",
    "#---------------------LogisticRegression upsampled data------------------\n",
    "model_lr_upscaled = LogisticRegression(random_state=13,\n",
    "                                       solver='liblinear')\n",
    "model_lr_upscaled.fit(X_final, y_final)\n",
    "f1_lr_upscaled = f1_score(y_test,\n",
    "                          model_lr_upscaled.predict(X_test))\n",
    "roc_auc_lr_upscaled = roc_auc_score(y_test,\n",
    "                                    model_lr_upscaled.predict_proba(X_test)[:,1])\n",
    "\n",
    "#-----------------------------------------------------------------------"
   ]
  },
  {
   "cell_type": "markdown",
   "metadata": {},
   "source": [
    "И соберём данные в результирующую таблицу:"
   ]
  },
  {
   "cell_type": "code",
   "execution_count": 33,
   "metadata": {},
   "outputs": [
    {
     "data": {
      "text/html": [
       "<div>\n",
       "<style scoped>\n",
       "    .dataframe tbody tr th:only-of-type {\n",
       "        vertical-align: middle;\n",
       "    }\n",
       "\n",
       "    .dataframe tbody tr th {\n",
       "        vertical-align: top;\n",
       "    }\n",
       "\n",
       "    .dataframe thead th {\n",
       "        text-align: right;\n",
       "    }\n",
       "</style>\n",
       "<table border=\"1\" class=\"dataframe\">\n",
       "  <thead>\n",
       "    <tr style=\"text-align: right;\">\n",
       "      <th></th>\n",
       "      <th></th>\n",
       "      <th>F1</th>\n",
       "      <th>ROC_AUC</th>\n",
       "    </tr>\n",
       "    <tr>\n",
       "      <th>model</th>\n",
       "      <th>type</th>\n",
       "      <th></th>\n",
       "      <th></th>\n",
       "    </tr>\n",
       "  </thead>\n",
       "  <tbody>\n",
       "    <tr>\n",
       "      <th rowspan=\"3\" valign=\"top\">LogisticRegression</th>\n",
       "      <th>unbalanced</th>\n",
       "      <td>0.2832</td>\n",
       "      <td>0.7486</td>\n",
       "    </tr>\n",
       "    <tr>\n",
       "      <th>balanced</th>\n",
       "      <td>0.4928</td>\n",
       "      <td>0.7516</td>\n",
       "    </tr>\n",
       "    <tr>\n",
       "      <th>upsampled</th>\n",
       "      <td>0.4972</td>\n",
       "      <td>0.7516</td>\n",
       "    </tr>\n",
       "    <tr>\n",
       "      <th rowspan=\"3\" valign=\"top\">RandomForestClassifier</th>\n",
       "      <th>unbalanced</th>\n",
       "      <td>0.5856</td>\n",
       "      <td>0.8620</td>\n",
       "    </tr>\n",
       "    <tr>\n",
       "      <th>balanced</th>\n",
       "      <td>0.6298</td>\n",
       "      <td>0.8696</td>\n",
       "    </tr>\n",
       "    <tr>\n",
       "      <th>upsampled</th>\n",
       "      <td>0.6513</td>\n",
       "      <td>0.8702</td>\n",
       "    </tr>\n",
       "  </tbody>\n",
       "</table>\n",
       "</div>"
      ],
      "text/plain": [
       "                                      F1  ROC_AUC\n",
       "model                  type                      \n",
       "LogisticRegression     unbalanced 0.2832   0.7486\n",
       "                       balanced   0.4928   0.7516\n",
       "                       upsampled  0.4972   0.7516\n",
       "RandomForestClassifier unbalanced 0.5856   0.8620\n",
       "                       balanced   0.6298   0.8696\n",
       "                       upsampled  0.6513   0.8702"
      ]
     },
     "execution_count": 33,
     "metadata": {},
     "output_type": "execute_result"
    }
   ],
   "source": [
    "pd.set_option('display.float_format', '{:,.4f}'.format)\n",
    "\n",
    "type_name = ['unbalanced', 'balanced', 'upsampled']\n",
    "model_name = ['LogisticRegression', 'RandomForestClassifier']\n",
    "\n",
    "result_data = {'F1':[f1_lr_unbalanced,\n",
    "                     f1_lr_balanced,\n",
    "                     f1_lr_upscaled,\n",
    "                     f1_rfc_unbalanced,\n",
    "                     f1_rfc_balanced,\n",
    "                     f1_score(y_test, predict)],\n",
    "               'ROC_AUC':[roc_auc_lr_unbalanced,\n",
    "                          roc_auc_lr_balanced,\n",
    "                          roc_auc_lr_upscaled,\n",
    "                          roc_auc_rfc_unbalanced,\n",
    "                          roc_auc_rfc_balanced,\n",
    "                          roc_auc_score(y_test, model.predict_proba(X_test)[:,1])]}\n",
    "    \n",
    "result = pd.DataFrame(result_data,\n",
    "                      index = pd.MultiIndex.from_product(\n",
    "                          [model_name, type_name],\n",
    "                          names=['model', 'type']))\n",
    "\n",
    "result"
   ]
  },
  {
   "cell_type": "markdown",
   "metadata": {},
   "source": [
    "### Вывод\n",
    "\n",
    "Полученная модель с гиперпараметрами *n_estimators* = 55, *max_depth* = 13 и использованием увеличения выборки достигает заданного значения метрики **F1** с результатом **0.65** и значения метрики **ROC_AUC** равным 0.87.\n",
    "\n",
    "Следовательно, данная модель пригодна для определения целевого признака с необходимой точностью. "
   ]
  }
 ],
 "metadata": {
  "ExecuteTimeLog": [
   {
    "duration": 763,
    "start_time": "2021-07-01T09:22:04.854Z"
   },
   {
    "duration": 30,
    "start_time": "2021-07-01T09:22:38.409Z"
   },
   {
    "duration": 14,
    "start_time": "2021-07-01T09:22:51.799Z"
   },
   {
    "duration": 18,
    "start_time": "2021-07-01T09:24:36.740Z"
   },
   {
    "duration": 8,
    "start_time": "2021-07-01T09:27:05.086Z"
   },
   {
    "duration": 39,
    "start_time": "2021-07-01T09:27:56.852Z"
   },
   {
    "duration": 33,
    "start_time": "2021-07-01T09:28:21.515Z"
   },
   {
    "duration": 9,
    "start_time": "2021-07-01T10:14:17.345Z"
   },
   {
    "duration": 606,
    "start_time": "2021-07-04T08:55:04.814Z"
   },
   {
    "duration": 16,
    "start_time": "2021-07-04T08:55:05.942Z"
   },
   {
    "duration": 8,
    "start_time": "2021-07-04T08:55:06.989Z"
   },
   {
    "duration": 25,
    "start_time": "2021-07-04T08:55:08.926Z"
   },
   {
    "duration": 6,
    "start_time": "2021-07-04T08:55:10.029Z"
   },
   {
    "duration": 4,
    "start_time": "2021-07-04T08:55:20.305Z"
   },
   {
    "duration": 4,
    "start_time": "2021-07-04T08:57:28.664Z"
   },
   {
    "duration": 301,
    "start_time": "2021-07-04T08:57:36.521Z"
   },
   {
    "duration": 10,
    "start_time": "2021-07-04T08:57:44.841Z"
   },
   {
    "duration": 554,
    "start_time": "2021-07-04T08:58:23.164Z"
   },
   {
    "duration": 18,
    "start_time": "2021-07-04T08:58:24.941Z"
   },
   {
    "duration": 8,
    "start_time": "2021-07-04T08:58:25.301Z"
   },
   {
    "duration": 2,
    "start_time": "2021-07-04T08:58:27.837Z"
   },
   {
    "duration": 6,
    "start_time": "2021-07-04T08:58:28.181Z"
   },
   {
    "duration": 4,
    "start_time": "2021-07-04T09:02:00.970Z"
   },
   {
    "duration": 9,
    "start_time": "2021-07-04T09:02:05.019Z"
   },
   {
    "duration": 19,
    "start_time": "2021-07-04T09:05:33.566Z"
   },
   {
    "duration": 14,
    "start_time": "2021-07-04T09:05:40.239Z"
   },
   {
    "duration": 7,
    "start_time": "2021-07-04T09:06:01.946Z"
   },
   {
    "duration": 406,
    "start_time": "2021-07-04T09:08:10.411Z"
   },
   {
    "duration": 326,
    "start_time": "2021-07-04T09:08:56.409Z"
   },
   {
    "duration": 249,
    "start_time": "2021-07-04T09:09:01.106Z"
   },
   {
    "duration": 538,
    "start_time": "2021-07-04T09:09:12.568Z"
   },
   {
    "duration": 15,
    "start_time": "2021-07-04T09:09:13.108Z"
   },
   {
    "duration": 13,
    "start_time": "2021-07-04T09:09:13.125Z"
   },
   {
    "duration": 3,
    "start_time": "2021-07-04T09:09:13.139Z"
   },
   {
    "duration": 9,
    "start_time": "2021-07-04T09:09:13.144Z"
   },
   {
    "duration": 4,
    "start_time": "2021-07-04T09:09:15.243Z"
   },
   {
    "duration": 9,
    "start_time": "2021-07-04T09:09:15.827Z"
   },
   {
    "duration": 8,
    "start_time": "2021-07-04T09:09:17.604Z"
   },
   {
    "duration": 707,
    "start_time": "2021-07-04T09:09:18.444Z"
   },
   {
    "duration": 257,
    "start_time": "2021-07-04T09:10:50.633Z"
   },
   {
    "duration": 241,
    "start_time": "2021-07-04T09:10:54.962Z"
   },
   {
    "duration": 7,
    "start_time": "2021-07-04T09:11:35.717Z"
   },
   {
    "duration": 538,
    "start_time": "2021-07-04T09:13:39.498Z"
   },
   {
    "duration": 19,
    "start_time": "2021-07-04T09:13:40.038Z"
   },
   {
    "duration": 8,
    "start_time": "2021-07-04T09:13:40.060Z"
   },
   {
    "duration": 2,
    "start_time": "2021-07-04T09:13:40.070Z"
   },
   {
    "duration": 9,
    "start_time": "2021-07-04T09:13:40.074Z"
   },
   {
    "duration": 7,
    "start_time": "2021-07-04T09:13:40.084Z"
   },
   {
    "duration": 8,
    "start_time": "2021-07-04T09:13:43.183Z"
   },
   {
    "duration": 9,
    "start_time": "2021-07-04T09:13:43.583Z"
   },
   {
    "duration": 8,
    "start_time": "2021-07-04T09:13:45.135Z"
   },
   {
    "duration": 443,
    "start_time": "2021-07-04T09:13:47.871Z"
   },
   {
    "duration": 7,
    "start_time": "2021-07-04T09:14:18.220Z"
   },
   {
    "duration": 19,
    "start_time": "2021-07-04T09:15:41.406Z"
   },
   {
    "duration": 26,
    "start_time": "2021-07-04T09:15:47.993Z"
   },
   {
    "duration": 713,
    "start_time": "2021-07-04T13:03:08.989Z"
   },
   {
    "duration": 27,
    "start_time": "2021-07-04T13:03:09.705Z"
   },
   {
    "duration": 20,
    "start_time": "2021-07-04T13:03:09.739Z"
   },
   {
    "duration": 3,
    "start_time": "2021-07-04T13:03:09.761Z"
   },
   {
    "duration": 11,
    "start_time": "2021-07-04T13:03:09.767Z"
   },
   {
    "duration": 9,
    "start_time": "2021-07-04T13:03:09.781Z"
   },
   {
    "duration": 11,
    "start_time": "2021-07-04T13:03:09.793Z"
   },
   {
    "duration": 56,
    "start_time": "2021-07-04T13:03:09.806Z"
   },
   {
    "duration": 11,
    "start_time": "2021-07-04T13:03:09.865Z"
   },
   {
    "duration": 581,
    "start_time": "2021-07-04T13:03:09.878Z"
   },
   {
    "duration": 9,
    "start_time": "2021-07-04T13:05:08.794Z"
   },
   {
    "duration": 382,
    "start_time": "2021-07-04T13:09:30.589Z"
   },
   {
    "duration": 10,
    "start_time": "2021-07-04T13:09:39.157Z"
   },
   {
    "duration": 7,
    "start_time": "2021-07-04T13:09:48.887Z"
   },
   {
    "duration": 10,
    "start_time": "2021-07-04T13:10:16.009Z"
   },
   {
    "duration": 22,
    "start_time": "2021-07-04T13:10:16.658Z"
   },
   {
    "duration": 6290,
    "start_time": "2021-07-04T13:11:29.725Z"
   },
   {
    "duration": 978,
    "start_time": "2021-07-04T13:11:35.040Z"
   },
   {
    "duration": 12,
    "start_time": "2021-07-04T13:17:15.466Z"
   },
   {
    "duration": 6,
    "start_time": "2021-07-04T13:17:16.513Z"
   },
   {
    "duration": 6,
    "start_time": "2021-07-04T13:17:18.371Z"
   },
   {
    "duration": 11,
    "start_time": "2021-07-04T13:17:19.498Z"
   },
   {
    "duration": 6,
    "start_time": "2021-07-04T13:17:20.042Z"
   },
   {
    "duration": 269,
    "start_time": "2021-07-04T13:17:51.870Z"
   },
   {
    "duration": 6,
    "start_time": "2021-07-04T13:17:53.806Z"
   },
   {
    "duration": 274,
    "start_time": "2021-07-04T13:18:02.224Z"
   },
   {
    "duration": 6,
    "start_time": "2021-07-04T13:18:04.119Z"
   },
   {
    "duration": 231,
    "start_time": "2021-07-05T07:57:51.344Z"
   },
   {
    "duration": 565,
    "start_time": "2021-07-05T07:57:53.296Z"
   },
   {
    "duration": 19,
    "start_time": "2021-07-05T07:57:54.745Z"
   },
   {
    "duration": 9,
    "start_time": "2021-07-05T07:57:56.279Z"
   },
   {
    "duration": 2,
    "start_time": "2021-07-05T07:57:58.648Z"
   },
   {
    "duration": 7,
    "start_time": "2021-07-05T07:57:59.301Z"
   },
   {
    "duration": 6,
    "start_time": "2021-07-05T07:58:09.761Z"
   },
   {
    "duration": 6,
    "start_time": "2021-07-05T07:58:12.045Z"
   },
   {
    "duration": 9,
    "start_time": "2021-07-05T07:58:15.259Z"
   },
   {
    "duration": 10,
    "start_time": "2021-07-05T07:58:15.678Z"
   },
   {
    "duration": 8,
    "start_time": "2021-07-05T07:58:17.232Z"
   },
   {
    "duration": 413,
    "start_time": "2021-07-05T07:58:18.290Z"
   },
   {
    "duration": 6,
    "start_time": "2021-07-05T07:58:19.882Z"
   },
   {
    "duration": 820,
    "start_time": "2021-07-06T10:59:34.019Z"
   },
   {
    "duration": 17,
    "start_time": "2021-07-06T10:59:34.840Z"
   },
   {
    "duration": 10,
    "start_time": "2021-07-06T10:59:34.859Z"
   },
   {
    "duration": 2,
    "start_time": "2021-07-06T10:59:34.871Z"
   },
   {
    "duration": 9,
    "start_time": "2021-07-06T10:59:34.875Z"
   },
   {
    "duration": 9,
    "start_time": "2021-07-06T10:59:34.885Z"
   },
   {
    "duration": 7,
    "start_time": "2021-07-06T10:59:34.896Z"
   },
   {
    "duration": 8,
    "start_time": "2021-07-06T10:59:34.905Z"
   },
   {
    "duration": 34,
    "start_time": "2021-07-06T10:59:34.914Z"
   },
   {
    "duration": 8,
    "start_time": "2021-07-06T10:59:42.029Z"
   },
   {
    "duration": 487,
    "start_time": "2021-07-06T10:59:43.293Z"
   },
   {
    "duration": 8,
    "start_time": "2021-07-06T11:03:12.377Z"
   },
   {
    "duration": 5,
    "start_time": "2021-07-06T11:04:55.315Z"
   },
   {
    "duration": 10,
    "start_time": "2021-07-06T11:06:40.884Z"
   },
   {
    "duration": 9,
    "start_time": "2021-07-06T11:06:57.694Z"
   },
   {
    "duration": 11,
    "start_time": "2021-07-06T11:07:25.611Z"
   },
   {
    "duration": 15,
    "start_time": "2021-07-06T11:07:30.233Z"
   },
   {
    "duration": 330,
    "start_time": "2021-07-06T11:07:57.091Z"
   },
   {
    "duration": 11,
    "start_time": "2021-07-06T11:08:05.195Z"
   },
   {
    "duration": 15,
    "start_time": "2021-07-06T11:08:08.437Z"
   },
   {
    "duration": 9,
    "start_time": "2021-07-06T11:08:23.997Z"
   },
   {
    "duration": 273,
    "start_time": "2021-07-06T11:08:35.946Z"
   },
   {
    "duration": 6565,
    "start_time": "2021-07-06T11:08:39.703Z"
   },
   {
    "duration": 5,
    "start_time": "2021-07-06T11:08:46.265Z"
   },
   {
    "duration": 12,
    "start_time": "2021-07-06T11:08:58.876Z"
   },
   {
    "duration": 13,
    "start_time": "2021-07-06T11:08:59.849Z"
   },
   {
    "duration": 16,
    "start_time": "2021-07-06T11:09:59.965Z"
   },
   {
    "duration": 13,
    "start_time": "2021-07-06T11:12:00.672Z"
   },
   {
    "duration": 16,
    "start_time": "2021-07-06T11:12:09.053Z"
   },
   {
    "duration": 7,
    "start_time": "2021-07-06T11:12:42.766Z"
   },
   {
    "duration": 14,
    "start_time": "2021-07-06T11:12:47.057Z"
   },
   {
    "duration": 194,
    "start_time": "2021-07-06T11:19:35.490Z"
   },
   {
    "duration": 9,
    "start_time": "2021-07-06T11:19:40.186Z"
   },
   {
    "duration": 14,
    "start_time": "2021-07-06T11:19:43.831Z"
   },
   {
    "duration": 641,
    "start_time": "2021-07-06T11:23:28.835Z"
   },
   {
    "duration": 17,
    "start_time": "2021-07-06T11:23:29.477Z"
   },
   {
    "duration": 8,
    "start_time": "2021-07-06T11:23:29.496Z"
   },
   {
    "duration": 2,
    "start_time": "2021-07-06T11:23:29.506Z"
   },
   {
    "duration": 9,
    "start_time": "2021-07-06T11:23:29.510Z"
   },
   {
    "duration": 10,
    "start_time": "2021-07-06T11:23:29.521Z"
   },
   {
    "duration": 9,
    "start_time": "2021-07-06T11:23:29.532Z"
   },
   {
    "duration": 11,
    "start_time": "2021-07-06T11:23:29.542Z"
   },
   {
    "duration": 9,
    "start_time": "2021-07-06T11:23:29.555Z"
   },
   {
    "duration": 11,
    "start_time": "2021-07-06T11:23:29.565Z"
   },
   {
    "duration": 469,
    "start_time": "2021-07-06T11:23:29.577Z"
   },
   {
    "duration": 2,
    "start_time": "2021-07-06T11:23:30.048Z"
   },
   {
    "duration": 16,
    "start_time": "2021-07-06T11:23:30.051Z"
   },
   {
    "duration": 26,
    "start_time": "2021-07-06T11:23:30.069Z"
   },
   {
    "duration": 12,
    "start_time": "2021-07-06T11:23:30.096Z"
   },
   {
    "duration": 13,
    "start_time": "2021-07-06T11:23:30.110Z"
   },
   {
    "duration": 7,
    "start_time": "2021-07-06T11:29:19.164Z"
   },
   {
    "duration": 14,
    "start_time": "2021-07-06T11:29:20.752Z"
   },
   {
    "duration": 590,
    "start_time": "2021-07-06T11:29:29.708Z"
   },
   {
    "duration": 16,
    "start_time": "2021-07-06T11:29:30.300Z"
   },
   {
    "duration": 12,
    "start_time": "2021-07-06T11:29:30.318Z"
   },
   {
    "duration": 15,
    "start_time": "2021-07-06T11:29:30.331Z"
   },
   {
    "duration": 21,
    "start_time": "2021-07-06T11:29:30.348Z"
   },
   {
    "duration": 20,
    "start_time": "2021-07-06T11:29:30.371Z"
   },
   {
    "duration": 34,
    "start_time": "2021-07-06T11:29:30.393Z"
   },
   {
    "duration": 22,
    "start_time": "2021-07-06T11:29:30.429Z"
   },
   {
    "duration": 21,
    "start_time": "2021-07-06T11:29:30.453Z"
   },
   {
    "duration": 19,
    "start_time": "2021-07-06T11:29:30.476Z"
   },
   {
    "duration": 449,
    "start_time": "2021-07-06T11:29:30.496Z"
   },
   {
    "duration": 2,
    "start_time": "2021-07-06T11:29:30.946Z"
   },
   {
    "duration": 21,
    "start_time": "2021-07-06T11:29:30.950Z"
   },
   {
    "duration": 30,
    "start_time": "2021-07-06T11:29:30.973Z"
   },
   {
    "duration": 30,
    "start_time": "2021-07-06T11:29:31.004Z"
   },
   {
    "duration": 3,
    "start_time": "2021-07-06T11:30:34.467Z"
   },
   {
    "duration": 6,
    "start_time": "2021-07-06T11:30:40.184Z"
   },
   {
    "duration": 14,
    "start_time": "2021-07-06T11:30:42.620Z"
   },
   {
    "duration": 9,
    "start_time": "2021-07-06T11:30:47.062Z"
   },
   {
    "duration": 694,
    "start_time": "2021-07-07T06:49:18.634Z"
   },
   {
    "duration": 15,
    "start_time": "2021-07-07T06:49:19.387Z"
   },
   {
    "duration": 13,
    "start_time": "2021-07-07T06:49:20.341Z"
   },
   {
    "duration": 11,
    "start_time": "2021-07-07T06:50:08.682Z"
   },
   {
    "duration": 13,
    "start_time": "2021-07-07T06:50:09.829Z"
   },
   {
    "duration": 362,
    "start_time": "2021-07-07T06:50:26.251Z"
   },
   {
    "duration": 225,
    "start_time": "2021-07-07T06:51:10.187Z"
   },
   {
    "duration": 271,
    "start_time": "2021-07-07T06:51:11.907Z"
   },
   {
    "duration": 233,
    "start_time": "2021-07-07T06:51:13.803Z"
   },
   {
    "duration": 8,
    "start_time": "2021-07-07T06:51:44.098Z"
   },
   {
    "duration": 10,
    "start_time": "2021-07-07T06:51:44.829Z"
   },
   {
    "duration": 8,
    "start_time": "2021-07-07T06:51:46.010Z"
   },
   {
    "duration": 412,
    "start_time": "2021-07-07T06:51:46.809Z"
   },
   {
    "duration": 4,
    "start_time": "2021-07-07T06:51:48.385Z"
   },
   {
    "duration": 7,
    "start_time": "2021-07-07T06:51:49.115Z"
   },
   {
    "duration": 14,
    "start_time": "2021-07-07T06:51:50.746Z"
   },
   {
    "duration": 4,
    "start_time": "2021-07-07T06:51:51.769Z"
   },
   {
    "duration": 224,
    "start_time": "2021-07-07T06:52:29.288Z"
   },
   {
    "duration": 370,
    "start_time": "2021-07-07T06:52:30.935Z"
   },
   {
    "duration": 287,
    "start_time": "2021-07-07T06:52:33.528Z"
   },
   {
    "duration": 7,
    "start_time": "2021-07-07T06:53:35.791Z"
   },
   {
    "duration": 6,
    "start_time": "2021-07-07T06:53:36.989Z"
   },
   {
    "duration": 5,
    "start_time": "2021-07-07T06:53:39.176Z"
   },
   {
    "duration": 14,
    "start_time": "2021-07-07T06:53:41.924Z"
   },
   {
    "duration": 14,
    "start_time": "2021-07-07T06:56:29.212Z"
   },
   {
    "duration": 5,
    "start_time": "2021-07-07T06:56:36.671Z"
   },
   {
    "duration": 5,
    "start_time": "2021-07-07T07:10:59.174Z"
   },
   {
    "duration": 354,
    "start_time": "2021-07-07T07:11:12.328Z"
   },
   {
    "duration": 271,
    "start_time": "2021-07-07T07:18:30.191Z"
   },
   {
    "duration": 344,
    "start_time": "2021-07-07T07:18:35.084Z"
   },
   {
    "duration": 36,
    "start_time": "2021-07-07T07:18:38.237Z"
   },
   {
    "duration": 3,
    "start_time": "2021-07-07T07:18:38.931Z"
   },
   {
    "duration": 621,
    "start_time": "2021-07-07T07:19:13.825Z"
   },
   {
    "duration": 19,
    "start_time": "2021-07-07T07:19:14.450Z"
   },
   {
    "duration": 7,
    "start_time": "2021-07-07T07:19:14.471Z"
   },
   {
    "duration": 5,
    "start_time": "2021-07-07T07:19:14.480Z"
   },
   {
    "duration": 8,
    "start_time": "2021-07-07T07:19:14.487Z"
   },
   {
    "duration": 10,
    "start_time": "2021-07-07T07:19:14.497Z"
   },
   {
    "duration": 37,
    "start_time": "2021-07-07T07:19:14.508Z"
   },
   {
    "duration": 469,
    "start_time": "2021-07-07T07:19:14.549Z"
   },
   {
    "duration": 3,
    "start_time": "2021-07-07T07:19:15.019Z"
   },
   {
    "duration": 17,
    "start_time": "2021-07-07T07:19:15.023Z"
   },
   {
    "duration": 16,
    "start_time": "2021-07-07T07:19:15.043Z"
   },
   {
    "duration": 6,
    "start_time": "2021-07-07T07:19:15.060Z"
   },
   {
    "duration": 39,
    "start_time": "2021-07-07T07:19:15.067Z"
   },
   {
    "duration": 5,
    "start_time": "2021-07-07T07:19:15.108Z"
   },
   {
    "duration": 10,
    "start_time": "2021-07-07T07:19:15.114Z"
   },
   {
    "duration": 577528,
    "start_time": "2021-07-07T07:19:20.679Z"
   },
   {
    "duration": 4,
    "start_time": "2021-07-07T07:38:31.235Z"
   },
   {
    "duration": 830,
    "start_time": "2021-07-09T11:54:44.037Z"
   },
   {
    "duration": 29,
    "start_time": "2021-07-09T11:54:44.869Z"
   },
   {
    "duration": 12,
    "start_time": "2021-07-09T11:54:44.901Z"
   },
   {
    "duration": 8,
    "start_time": "2021-07-09T11:54:44.916Z"
   },
   {
    "duration": 12,
    "start_time": "2021-07-09T11:54:44.963Z"
   },
   {
    "duration": 17,
    "start_time": "2021-07-09T11:54:44.978Z"
   },
   {
    "duration": 27,
    "start_time": "2021-07-09T11:54:44.998Z"
   },
   {
    "duration": 679,
    "start_time": "2021-07-09T11:54:45.030Z"
   },
   {
    "duration": 4,
    "start_time": "2021-07-09T11:54:45.711Z"
   },
   {
    "duration": 16,
    "start_time": "2021-07-09T11:54:45.717Z"
   },
   {
    "duration": 27,
    "start_time": "2021-07-09T11:54:45.735Z"
   },
   {
    "duration": 5,
    "start_time": "2021-07-09T11:54:45.764Z"
   },
   {
    "duration": 82,
    "start_time": "2021-07-09T11:54:45.771Z"
   },
   {
    "duration": 12,
    "start_time": "2021-07-09T11:54:45.855Z"
   },
   {
    "duration": 3,
    "start_time": "2021-07-09T11:54:53.643Z"
   },
   {
    "duration": 8,
    "start_time": "2021-07-09T11:54:54.139Z"
   },
   {
    "duration": 4,
    "start_time": "2021-07-09T11:54:55.823Z"
   },
   {
    "duration": 457,
    "start_time": "2021-07-09T11:55:07.779Z"
   },
   {
    "duration": 822,
    "start_time": "2021-07-09T11:56:00.746Z"
   },
   {
    "duration": 28,
    "start_time": "2021-07-09T11:56:01.571Z"
   },
   {
    "duration": 32,
    "start_time": "2021-07-09T11:56:01.602Z"
   },
   {
    "duration": 19,
    "start_time": "2021-07-09T11:56:01.637Z"
   },
   {
    "duration": 33,
    "start_time": "2021-07-09T11:56:01.658Z"
   },
   {
    "duration": 20,
    "start_time": "2021-07-09T11:56:01.694Z"
   },
   {
    "duration": 34,
    "start_time": "2021-07-09T11:56:01.717Z"
   },
   {
    "duration": 638,
    "start_time": "2021-07-09T11:56:01.755Z"
   },
   {
    "duration": 3,
    "start_time": "2021-07-09T11:56:02.396Z"
   },
   {
    "duration": 25,
    "start_time": "2021-07-09T11:56:02.401Z"
   },
   {
    "duration": 10,
    "start_time": "2021-07-09T11:56:02.428Z"
   },
   {
    "duration": 21,
    "start_time": "2021-07-09T11:56:02.441Z"
   },
   {
    "duration": 57,
    "start_time": "2021-07-09T11:56:02.464Z"
   },
   {
    "duration": 7,
    "start_time": "2021-07-09T11:56:02.523Z"
   },
   {
    "duration": 36,
    "start_time": "2021-07-09T11:56:02.533Z"
   },
   {
    "duration": 865,
    "start_time": "2021-07-09T11:59:04.163Z"
   },
   {
    "duration": 547,
    "start_time": "2021-07-09T11:59:11.403Z"
   },
   {
    "duration": 31,
    "start_time": "2021-07-09T11:59:11.953Z"
   },
   {
    "duration": 21,
    "start_time": "2021-07-09T11:59:11.988Z"
   },
   {
    "duration": 21,
    "start_time": "2021-07-09T11:59:12.013Z"
   },
   {
    "duration": 32,
    "start_time": "2021-07-09T11:59:12.037Z"
   },
   {
    "duration": 19,
    "start_time": "2021-07-09T11:59:12.072Z"
   },
   {
    "duration": 23,
    "start_time": "2021-07-09T11:59:12.094Z"
   },
   {
    "duration": 86,
    "start_time": "2021-07-09T11:59:12.122Z"
   },
   {
    "duration": 4,
    "start_time": "2021-07-09T11:59:12.212Z"
   },
   {
    "duration": 30,
    "start_time": "2021-07-09T11:59:12.218Z"
   },
   {
    "duration": 20,
    "start_time": "2021-07-09T11:59:12.251Z"
   },
   {
    "duration": 16,
    "start_time": "2021-07-09T11:59:12.274Z"
   },
   {
    "duration": 15,
    "start_time": "2021-07-09T11:59:12.293Z"
   },
   {
    "duration": 32,
    "start_time": "2021-07-09T11:59:12.310Z"
   },
   {
    "duration": 5,
    "start_time": "2021-07-09T12:00:25.371Z"
   },
   {
    "duration": 865,
    "start_time": "2021-07-09T12:00:46.004Z"
   },
   {
    "duration": 28,
    "start_time": "2021-07-09T12:00:46.872Z"
   },
   {
    "duration": 16,
    "start_time": "2021-07-09T12:00:46.903Z"
   },
   {
    "duration": 7,
    "start_time": "2021-07-09T12:00:46.922Z"
   },
   {
    "duration": 40,
    "start_time": "2021-07-09T12:00:46.932Z"
   },
   {
    "duration": 20,
    "start_time": "2021-07-09T12:00:46.974Z"
   },
   {
    "duration": 17,
    "start_time": "2021-07-09T12:00:46.996Z"
   },
   {
    "duration": 653,
    "start_time": "2021-07-09T12:00:47.017Z"
   },
   {
    "duration": 4,
    "start_time": "2021-07-09T12:00:47.672Z"
   },
   {
    "duration": 14,
    "start_time": "2021-07-09T12:00:47.678Z"
   },
   {
    "duration": 10,
    "start_time": "2021-07-09T12:00:47.694Z"
   },
   {
    "duration": 8,
    "start_time": "2021-07-09T12:00:47.706Z"
   },
   {
    "duration": 90,
    "start_time": "2021-07-09T12:00:47.716Z"
   },
   {
    "duration": 8,
    "start_time": "2021-07-09T12:00:47.809Z"
   },
   {
    "duration": 7,
    "start_time": "2021-07-09T12:00:47.819Z"
   },
   {
    "duration": 1892,
    "start_time": "2021-07-09T12:00:59.687Z"
   },
   {
    "duration": 807,
    "start_time": "2021-07-09T12:02:28.452Z"
   },
   {
    "duration": 30,
    "start_time": "2021-07-09T12:02:29.262Z"
   },
   {
    "duration": 16,
    "start_time": "2021-07-09T12:02:29.296Z"
   },
   {
    "duration": 9,
    "start_time": "2021-07-09T12:02:29.314Z"
   },
   {
    "duration": 36,
    "start_time": "2021-07-09T12:02:29.326Z"
   },
   {
    "duration": 17,
    "start_time": "2021-07-09T12:02:29.364Z"
   },
   {
    "duration": 15,
    "start_time": "2021-07-09T12:02:29.383Z"
   },
   {
    "duration": 648,
    "start_time": "2021-07-09T12:02:29.401Z"
   },
   {
    "duration": 12,
    "start_time": "2021-07-09T12:02:30.052Z"
   },
   {
    "duration": 16,
    "start_time": "2021-07-09T12:02:30.067Z"
   },
   {
    "duration": 10,
    "start_time": "2021-07-09T12:02:30.085Z"
   },
   {
    "duration": 13,
    "start_time": "2021-07-09T12:02:30.097Z"
   },
   {
    "duration": 82,
    "start_time": "2021-07-09T12:02:30.113Z"
   },
   {
    "duration": 8,
    "start_time": "2021-07-09T12:02:30.198Z"
   },
   {
    "duration": 15,
    "start_time": "2021-07-09T12:02:30.209Z"
   },
   {
    "duration": 14,
    "start_time": "2021-07-09T12:02:30.227Z"
   },
   {
    "duration": 12,
    "start_time": "2021-07-09T12:02:30.243Z"
   },
   {
    "duration": 8,
    "start_time": "2021-07-09T12:04:24.018Z"
   },
   {
    "duration": 1057,
    "start_time": "2021-07-09T12:06:31.295Z"
   },
   {
    "duration": 41,
    "start_time": "2021-07-09T12:06:32.356Z"
   },
   {
    "duration": 17,
    "start_time": "2021-07-09T12:06:32.401Z"
   },
   {
    "duration": 10,
    "start_time": "2021-07-09T12:06:32.421Z"
   },
   {
    "duration": 16,
    "start_time": "2021-07-09T12:06:32.462Z"
   },
   {
    "duration": 33,
    "start_time": "2021-07-09T12:06:32.481Z"
   },
   {
    "duration": 16,
    "start_time": "2021-07-09T12:06:32.518Z"
   },
   {
    "duration": 803,
    "start_time": "2021-07-09T12:06:32.537Z"
   },
   {
    "duration": 5,
    "start_time": "2021-07-09T12:06:33.345Z"
   },
   {
    "duration": 10,
    "start_time": "2021-07-09T12:06:33.362Z"
   },
   {
    "duration": 14,
    "start_time": "2021-07-09T12:06:33.375Z"
   },
   {
    "duration": 24,
    "start_time": "2021-07-09T12:06:33.392Z"
   },
   {
    "duration": 73,
    "start_time": "2021-07-09T12:06:33.419Z"
   },
   {
    "duration": 10,
    "start_time": "2021-07-09T12:06:33.495Z"
   },
   {
    "duration": 6,
    "start_time": "2021-07-09T12:06:33.508Z"
   },
   {
    "duration": 11,
    "start_time": "2021-07-09T12:06:33.517Z"
   },
   {
    "duration": 11,
    "start_time": "2021-07-09T12:06:33.531Z"
   },
   {
    "duration": 9,
    "start_time": "2021-07-09T12:06:33.561Z"
   },
   {
    "duration": 18,
    "start_time": "2021-07-09T12:06:33.574Z"
   },
   {
    "duration": 796,
    "start_time": "2021-07-09T12:06:49.474Z"
   },
   {
    "duration": 6,
    "start_time": "2021-07-09T12:07:00.767Z"
   },
   {
    "duration": 11,
    "start_time": "2021-07-09T12:07:02.686Z"
   },
   {
    "duration": 682,
    "start_time": "2021-07-09T12:07:03.794Z"
   },
   {
    "duration": 8,
    "start_time": "2021-07-09T12:07:31.645Z"
   },
   {
    "duration": 8,
    "start_time": "2021-07-09T12:07:59.438Z"
   },
   {
    "duration": 852,
    "start_time": "2021-07-09T12:08:05.129Z"
   },
   {
    "duration": 819,
    "start_time": "2021-07-09T12:17:22.453Z"
   },
   {
    "duration": 30,
    "start_time": "2021-07-09T12:17:23.275Z"
   },
   {
    "duration": 15,
    "start_time": "2021-07-09T12:17:23.308Z"
   },
   {
    "duration": 8,
    "start_time": "2021-07-09T12:17:23.326Z"
   },
   {
    "duration": 19,
    "start_time": "2021-07-09T12:17:23.364Z"
   },
   {
    "duration": 24,
    "start_time": "2021-07-09T12:17:23.386Z"
   },
   {
    "duration": 15,
    "start_time": "2021-07-09T12:17:23.413Z"
   },
   {
    "duration": 665,
    "start_time": "2021-07-09T12:17:23.461Z"
   },
   {
    "duration": 3,
    "start_time": "2021-07-09T12:17:24.129Z"
   },
   {
    "duration": 32,
    "start_time": "2021-07-09T12:17:24.135Z"
   },
   {
    "duration": 8,
    "start_time": "2021-07-09T12:17:24.170Z"
   },
   {
    "duration": 9,
    "start_time": "2021-07-09T12:17:24.181Z"
   },
   {
    "duration": 80,
    "start_time": "2021-07-09T12:17:24.192Z"
   },
   {
    "duration": 11,
    "start_time": "2021-07-09T12:17:26.717Z"
   },
   {
    "duration": 5,
    "start_time": "2021-07-09T12:17:42.338Z"
   },
   {
    "duration": 7,
    "start_time": "2021-07-09T12:17:54.789Z"
   },
   {
    "duration": 5,
    "start_time": "2021-07-09T12:18:21.584Z"
   },
   {
    "duration": 8,
    "start_time": "2021-07-09T12:23:48.056Z"
   },
   {
    "duration": 536,
    "start_time": "2021-07-09T12:25:15.573Z"
   },
   {
    "duration": 309,
    "start_time": "2021-07-09T12:25:21.759Z"
   },
   {
    "duration": 7,
    "start_time": "2021-07-09T12:25:30.200Z"
   },
   {
    "duration": 319,
    "start_time": "2021-07-09T12:25:47.213Z"
   },
   {
    "duration": 13,
    "start_time": "2021-07-09T12:26:49.983Z"
   },
   {
    "duration": 298,
    "start_time": "2021-07-09T12:26:54.020Z"
   },
   {
    "duration": 9,
    "start_time": "2021-07-09T12:26:59.834Z"
   },
   {
    "duration": 10,
    "start_time": "2021-07-09T12:27:07.006Z"
   },
   {
    "duration": 10,
    "start_time": "2021-07-09T12:27:18.322Z"
   },
   {
    "duration": 9,
    "start_time": "2021-07-09T12:27:57.576Z"
   },
   {
    "duration": 9,
    "start_time": "2021-07-09T12:28:00.251Z"
   },
   {
    "duration": 715,
    "start_time": "2021-07-10T13:30:34.801Z"
   },
   {
    "duration": 27,
    "start_time": "2021-07-10T13:30:35.519Z"
   },
   {
    "duration": 14,
    "start_time": "2021-07-10T13:30:35.556Z"
   },
   {
    "duration": 7,
    "start_time": "2021-07-10T13:30:35.573Z"
   },
   {
    "duration": 37,
    "start_time": "2021-07-10T13:30:35.585Z"
   },
   {
    "duration": 34,
    "start_time": "2021-07-10T13:30:35.626Z"
   },
   {
    "duration": 14,
    "start_time": "2021-07-10T13:30:35.663Z"
   },
   {
    "duration": 603,
    "start_time": "2021-07-10T13:30:35.681Z"
   },
   {
    "duration": 4,
    "start_time": "2021-07-10T13:30:36.288Z"
   },
   {
    "duration": 27,
    "start_time": "2021-07-10T13:30:36.295Z"
   },
   {
    "duration": 13,
    "start_time": "2021-07-10T13:30:36.325Z"
   },
   {
    "duration": 6,
    "start_time": "2021-07-10T13:30:36.357Z"
   },
   {
    "duration": 97,
    "start_time": "2021-07-10T13:30:36.366Z"
   },
   {
    "duration": 16,
    "start_time": "2021-07-10T13:30:36.466Z"
   },
   {
    "duration": 7,
    "start_time": "2021-07-10T13:30:36.485Z"
   },
   {
    "duration": 11,
    "start_time": "2021-07-10T13:30:36.494Z"
   },
   {
    "duration": 7,
    "start_time": "2021-07-10T13:30:36.508Z"
   },
   {
    "duration": 3,
    "start_time": "2021-07-10T13:30:36.557Z"
   },
   {
    "duration": 6,
    "start_time": "2021-07-10T13:30:36.563Z"
   },
   {
    "duration": 9,
    "start_time": "2021-07-10T13:30:36.571Z"
   },
   {
    "duration": 5,
    "start_time": "2021-07-10T14:27:47.123Z"
   },
   {
    "duration": 720,
    "start_time": "2021-07-10T14:28:29.663Z"
   },
   {
    "duration": 4,
    "start_time": "2021-07-10T14:28:40.913Z"
   },
   {
    "duration": 11,
    "start_time": "2021-07-10T14:28:42.361Z"
   },
   {
    "duration": 20,
    "start_time": "2021-07-10T14:28:43.081Z"
   },
   {
    "duration": 10,
    "start_time": "2021-07-10T14:29:03.747Z"
   },
   {
    "duration": 27,
    "start_time": "2021-07-10T14:29:28.512Z"
   },
   {
    "duration": 9,
    "start_time": "2021-07-10T14:29:29.600Z"
   },
   {
    "duration": 91,
    "start_time": "2021-07-10T14:30:42.098Z"
   },
   {
    "duration": 255,
    "start_time": "2021-07-10T14:30:46.553Z"
   },
   {
    "duration": 164,
    "start_time": "2021-07-10T14:31:00.092Z"
   },
   {
    "duration": 52,
    "start_time": "2021-07-10T14:31:26.743Z"
   },
   {
    "duration": 119,
    "start_time": "2021-07-10T14:31:28.239Z"
   },
   {
    "duration": 34,
    "start_time": "2021-07-10T14:31:41.553Z"
   },
   {
    "duration": 64,
    "start_time": "2021-07-10T14:31:42.521Z"
   },
   {
    "duration": 149,
    "start_time": "2021-07-10T14:32:44.274Z"
   },
   {
    "duration": 152,
    "start_time": "2021-07-10T14:32:53.547Z"
   },
   {
    "duration": 250,
    "start_time": "2021-07-10T14:33:16.670Z"
   },
   {
    "duration": 5,
    "start_time": "2021-07-10T14:33:19.005Z"
   },
   {
    "duration": 255,
    "start_time": "2021-07-10T14:33:22.048Z"
   },
   {
    "duration": 5,
    "start_time": "2021-07-10T14:33:25.879Z"
   },
   {
    "duration": 267,
    "start_time": "2021-07-10T14:33:26.623Z"
   },
   {
    "duration": 5,
    "start_time": "2021-07-10T14:33:33.632Z"
   },
   {
    "duration": 1732,
    "start_time": "2021-07-10T14:33:36.176Z"
   },
   {
    "duration": 5,
    "start_time": "2021-07-10T14:33:55.506Z"
   },
   {
    "duration": 1709,
    "start_time": "2021-07-10T14:33:56.240Z"
   },
   {
    "duration": 9,
    "start_time": "2021-07-10T14:34:54.747Z"
   },
   {
    "duration": 7,
    "start_time": "2021-07-10T14:34:59.635Z"
   },
   {
    "duration": 1163,
    "start_time": "2021-07-10T14:35:05.539Z"
   },
   {
    "duration": 1858,
    "start_time": "2021-07-10T14:35:25.911Z"
   },
   {
    "duration": 42920,
    "start_time": "2021-07-10T14:35:40.880Z"
   },
   {
    "duration": 5,
    "start_time": "2021-07-10T14:36:29.150Z"
   },
   {
    "duration": 5,
    "start_time": "2021-07-10T14:37:35.295Z"
   },
   {
    "duration": 1184602,
    "start_time": "2021-07-10T14:37:37.431Z"
   },
   {
    "duration": 6,
    "start_time": "2021-07-10T15:01:21.982Z"
   },
   {
    "duration": 148,
    "start_time": "2021-07-10T15:04:39.126Z"
   },
   {
    "duration": 668,
    "start_time": "2021-07-10T15:05:03.777Z"
   },
   {
    "duration": 753,
    "start_time": "2021-07-10T15:05:05.817Z"
   },
   {
    "duration": 587,
    "start_time": "2021-07-10T15:05:47.391Z"
   },
   {
    "duration": 769,
    "start_time": "2021-07-10T15:06:17.015Z"
   },
   {
    "duration": 28,
    "start_time": "2021-07-10T15:06:17.787Z"
   },
   {
    "duration": 13,
    "start_time": "2021-07-10T15:06:17.819Z"
   },
   {
    "duration": 9,
    "start_time": "2021-07-10T15:06:17.873Z"
   },
   {
    "duration": 18,
    "start_time": "2021-07-10T15:06:17.888Z"
   },
   {
    "duration": 24,
    "start_time": "2021-07-10T15:06:17.910Z"
   },
   {
    "duration": 19,
    "start_time": "2021-07-10T15:06:17.960Z"
   },
   {
    "duration": 628,
    "start_time": "2021-07-10T15:06:17.985Z"
   },
   {
    "duration": 3,
    "start_time": "2021-07-10T15:06:18.616Z"
   },
   {
    "duration": 36,
    "start_time": "2021-07-10T15:06:18.622Z"
   },
   {
    "duration": 15,
    "start_time": "2021-07-10T15:06:18.664Z"
   },
   {
    "duration": 5,
    "start_time": "2021-07-10T15:06:18.681Z"
   },
   {
    "duration": 77,
    "start_time": "2021-07-10T15:06:18.688Z"
   },
   {
    "duration": 14,
    "start_time": "2021-07-10T15:06:18.768Z"
   },
   {
    "duration": 7,
    "start_time": "2021-07-10T15:06:18.788Z"
   },
   {
    "duration": 12,
    "start_time": "2021-07-10T15:06:18.797Z"
   },
   {
    "duration": 43,
    "start_time": "2021-07-10T15:06:18.813Z"
   },
   {
    "duration": 25,
    "start_time": "2021-07-10T15:06:18.863Z"
   },
   {
    "duration": 8,
    "start_time": "2021-07-10T15:06:18.890Z"
   },
   {
    "duration": 75,
    "start_time": "2021-07-10T15:06:18.900Z"
   },
   {
    "duration": 284,
    "start_time": "2021-07-10T15:06:18.978Z"
   },
   {
    "duration": 237,
    "start_time": "2021-07-10T15:06:19.269Z"
   },
   {
    "duration": 4,
    "start_time": "2021-07-10T15:06:19.511Z"
   },
   {
    "duration": 43959,
    "start_time": "2021-07-10T15:06:19.517Z"
   },
   {
    "duration": 5,
    "start_time": "2021-07-10T15:07:03.480Z"
   },
   {
    "duration": 27,
    "start_time": "2021-07-10T15:07:03.488Z"
   },
   {
    "duration": 709,
    "start_time": "2021-07-10T15:07:03.518Z"
   },
   {
    "duration": 740,
    "start_time": "2021-07-10T15:27:55.327Z"
   },
   {
    "duration": 294,
    "start_time": "2021-07-10T15:28:30.516Z"
   },
   {
    "duration": 511,
    "start_time": "2021-07-10T15:29:35.676Z"
   },
   {
    "duration": 533,
    "start_time": "2021-07-10T15:29:57.854Z"
   },
   {
    "duration": 675,
    "start_time": "2021-07-10T15:30:52.309Z"
   },
   {
    "duration": 673,
    "start_time": "2021-07-10T15:30:56.463Z"
   },
   {
    "duration": 708,
    "start_time": "2021-07-10T15:31:00.166Z"
   },
   {
    "duration": 8,
    "start_time": "2021-07-10T15:31:15.312Z"
   },
   {
    "duration": 382897,
    "start_time": "2021-07-10T15:31:17.192Z"
   },
   {
    "duration": 6,
    "start_time": "2021-07-10T15:57:05.399Z"
   },
   {
    "duration": 40,
    "start_time": "2021-07-10T15:57:07.061Z"
   },
   {
    "duration": 728,
    "start_time": "2021-07-10T15:57:08.517Z"
   },
   {
    "duration": 12,
    "start_time": "2021-07-10T16:18:56.020Z"
   },
   {
    "duration": 4,
    "start_time": "2021-07-10T16:19:52.466Z"
   },
   {
    "duration": 3,
    "start_time": "2021-07-10T16:19:53.290Z"
   },
   {
    "duration": 10,
    "start_time": "2021-07-10T16:20:07.196Z"
   },
   {
    "duration": 11,
    "start_time": "2021-07-10T16:20:08.885Z"
   },
   {
    "duration": 12,
    "start_time": "2021-07-10T16:20:10.253Z"
   },
   {
    "duration": 5,
    "start_time": "2021-07-10T16:20:12.333Z"
   },
   {
    "duration": 18,
    "start_time": "2021-07-10T16:20:14.205Z"
   },
   {
    "duration": 9,
    "start_time": "2021-07-10T16:20:15.293Z"
   },
   {
    "duration": 20,
    "start_time": "2021-07-10T16:21:45.088Z"
   },
   {
    "duration": 11,
    "start_time": "2021-07-10T16:21:46.058Z"
   },
   {
    "duration": 12,
    "start_time": "2021-07-10T16:23:29.064Z"
   },
   {
    "duration": 4,
    "start_time": "2021-07-10T16:24:30.657Z"
   },
   {
    "duration": 130,
    "start_time": "2021-07-10T16:25:44.731Z"
   },
   {
    "duration": 43,
    "start_time": "2021-07-10T16:26:00.044Z"
   },
   {
    "duration": 12,
    "start_time": "2021-07-10T16:26:32.432Z"
   },
   {
    "duration": 138,
    "start_time": "2021-07-10T16:26:33.457Z"
   },
   {
    "duration": 132,
    "start_time": "2021-07-10T16:26:35.921Z"
   },
   {
    "duration": 43,
    "start_time": "2021-07-10T16:27:18.798Z"
   },
   {
    "duration": 190,
    "start_time": "2021-07-10T16:27:19.583Z"
   },
   {
    "duration": 1326,
    "start_time": "2021-07-10T16:27:35.297Z"
   },
   {
    "duration": 4,
    "start_time": "2021-07-10T16:31:36.016Z"
   },
   {
    "duration": 776,
    "start_time": "2021-07-10T16:32:33.328Z"
   },
   {
    "duration": 29,
    "start_time": "2021-07-10T16:32:34.107Z"
   },
   {
    "duration": 20,
    "start_time": "2021-07-10T16:32:34.140Z"
   },
   {
    "duration": 7,
    "start_time": "2021-07-10T16:32:34.163Z"
   },
   {
    "duration": 16,
    "start_time": "2021-07-10T16:32:34.173Z"
   },
   {
    "duration": 17,
    "start_time": "2021-07-10T16:32:34.191Z"
   },
   {
    "duration": 45,
    "start_time": "2021-07-10T16:32:34.211Z"
   },
   {
    "duration": 607,
    "start_time": "2021-07-10T16:32:34.259Z"
   },
   {
    "duration": 4,
    "start_time": "2021-07-10T16:32:34.869Z"
   },
   {
    "duration": 13,
    "start_time": "2021-07-10T16:32:34.875Z"
   },
   {
    "duration": 9,
    "start_time": "2021-07-10T16:32:34.890Z"
   },
   {
    "duration": 6,
    "start_time": "2021-07-10T16:32:34.902Z"
   },
   {
    "duration": 89,
    "start_time": "2021-07-10T16:32:34.910Z"
   },
   {
    "duration": 3,
    "start_time": "2021-07-10T16:32:35.001Z"
   },
   {
    "duration": 9,
    "start_time": "2021-07-10T16:32:35.006Z"
   },
   {
    "duration": 13,
    "start_time": "2021-07-10T16:32:35.018Z"
   },
   {
    "duration": 127,
    "start_time": "2021-07-10T16:32:35.033Z"
   },
   {
    "duration": 94,
    "start_time": "2021-07-10T16:32:35.164Z"
   },
   {
    "duration": 780,
    "start_time": "2021-07-10T16:34:35.370Z"
   },
   {
    "duration": 29,
    "start_time": "2021-07-10T16:34:36.153Z"
   },
   {
    "duration": 12,
    "start_time": "2021-07-10T16:34:36.186Z"
   },
   {
    "duration": 11,
    "start_time": "2021-07-10T16:34:36.203Z"
   },
   {
    "duration": 51,
    "start_time": "2021-07-10T16:34:36.218Z"
   },
   {
    "duration": 25,
    "start_time": "2021-07-10T16:34:36.272Z"
   },
   {
    "duration": 16,
    "start_time": "2021-07-10T16:34:36.301Z"
   },
   {
    "duration": 811,
    "start_time": "2021-07-10T16:34:36.323Z"
   },
   {
    "duration": 5,
    "start_time": "2021-07-10T16:34:37.138Z"
   },
   {
    "duration": 14,
    "start_time": "2021-07-10T16:34:37.157Z"
   },
   {
    "duration": 14,
    "start_time": "2021-07-10T16:34:37.175Z"
   },
   {
    "duration": 11,
    "start_time": "2021-07-10T16:34:37.191Z"
   },
   {
    "duration": 126,
    "start_time": "2021-07-10T16:34:37.205Z"
   },
   {
    "duration": 4,
    "start_time": "2021-07-10T16:34:37.334Z"
   },
   {
    "duration": 15,
    "start_time": "2021-07-10T16:34:37.341Z"
   },
   {
    "duration": 14,
    "start_time": "2021-07-10T16:34:37.359Z"
   },
   {
    "duration": 85,
    "start_time": "2021-07-10T16:34:37.376Z"
   },
   {
    "duration": 5,
    "start_time": "2021-07-10T16:34:37.464Z"
   },
   {
    "duration": 292279,
    "start_time": "2021-07-10T16:34:43.480Z"
   },
   {
    "duration": 11,
    "start_time": "2021-07-10T16:39:37.262Z"
   },
   {
    "duration": 821,
    "start_time": "2021-07-10T16:40:03.610Z"
   },
   {
    "duration": 1123,
    "start_time": "2021-07-10T16:41:25.133Z"
   },
   {
    "duration": 975,
    "start_time": "2021-07-10T16:41:41.391Z"
   },
   {
    "duration": 558,
    "start_time": "2021-07-10T16:45:29.029Z"
   },
   {
    "duration": 317,
    "start_time": "2021-07-10T16:45:38.975Z"
   },
   {
    "duration": 575,
    "start_time": "2021-07-10T16:45:48.184Z"
   },
   {
    "duration": 885,
    "start_time": "2021-07-10T16:46:48.770Z"
   },
   {
    "duration": 77,
    "start_time": "2021-07-10T16:46:49.658Z"
   },
   {
    "duration": 21,
    "start_time": "2021-07-10T16:46:49.738Z"
   },
   {
    "duration": 16,
    "start_time": "2021-07-10T16:46:49.767Z"
   },
   {
    "duration": 31,
    "start_time": "2021-07-10T16:46:49.788Z"
   },
   {
    "duration": 49,
    "start_time": "2021-07-10T16:46:49.822Z"
   },
   {
    "duration": 32,
    "start_time": "2021-07-10T16:46:49.874Z"
   },
   {
    "duration": 709,
    "start_time": "2021-07-10T16:46:49.916Z"
   },
   {
    "duration": 4,
    "start_time": "2021-07-10T16:46:50.628Z"
   },
   {
    "duration": 26,
    "start_time": "2021-07-10T16:46:50.634Z"
   },
   {
    "duration": 12,
    "start_time": "2021-07-10T16:46:50.663Z"
   },
   {
    "duration": 12,
    "start_time": "2021-07-10T16:46:50.678Z"
   },
   {
    "duration": 84,
    "start_time": "2021-07-10T16:46:50.692Z"
   },
   {
    "duration": 3,
    "start_time": "2021-07-10T16:46:50.778Z"
   },
   {
    "duration": 6,
    "start_time": "2021-07-10T16:46:50.784Z"
   },
   {
    "duration": 13,
    "start_time": "2021-07-10T16:46:50.792Z"
   },
   {
    "duration": 77,
    "start_time": "2021-07-10T16:46:50.808Z"
   },
   {
    "duration": 682,
    "start_time": "2021-07-10T16:46:50.888Z"
   },
   {
    "duration": 491,
    "start_time": "2021-07-10T16:47:30.702Z"
   },
   {
    "duration": 685,
    "start_time": "2021-07-10T16:48:16.127Z"
   },
   {
    "duration": 487,
    "start_time": "2021-07-10T16:48:29.782Z"
   },
   {
    "duration": 743,
    "start_time": "2021-07-10T16:48:34.174Z"
   },
   {
    "duration": 393,
    "start_time": "2021-07-10T16:50:55.762Z"
   },
   {
    "duration": 631,
    "start_time": "2021-07-10T16:50:59.187Z"
   },
   {
    "duration": 276,
    "start_time": "2021-07-10T16:51:01.257Z"
   },
   {
    "duration": 378,
    "start_time": "2021-07-10T16:51:08.176Z"
   },
   {
    "duration": 94,
    "start_time": "2021-07-10T16:51:26.062Z"
   },
   {
    "duration": 1112,
    "start_time": "2021-07-10T16:51:56.602Z"
   },
   {
    "duration": 468,
    "start_time": "2021-07-10T16:51:59.577Z"
   },
   {
    "duration": 45,
    "start_time": "2021-07-10T16:52:01.818Z"
   },
   {
    "duration": 470,
    "start_time": "2021-07-10T16:52:40.255Z"
   },
   {
    "duration": 115,
    "start_time": "2021-07-10T16:52:41.743Z"
   },
   {
    "duration": 686,
    "start_time": "2021-07-10T16:52:42.655Z"
   },
   {
    "duration": 37,
    "start_time": "2021-07-10T16:52:44.927Z"
   },
   {
    "duration": 1145,
    "start_time": "2021-07-10T16:52:49.944Z"
   },
   {
    "duration": 512,
    "start_time": "2021-07-10T16:52:51.816Z"
   },
   {
    "duration": 43,
    "start_time": "2021-07-10T16:52:53.768Z"
   },
   {
    "duration": 56,
    "start_time": "2021-07-10T16:53:44.840Z"
   },
   {
    "duration": 41,
    "start_time": "2021-07-10T16:57:49.822Z"
   },
   {
    "duration": 544,
    "start_time": "2021-07-10T16:57:50.416Z"
   },
   {
    "duration": 26,
    "start_time": "2021-07-10T16:57:52.048Z"
   },
   {
    "duration": 7,
    "start_time": "2021-07-10T17:10:44.465Z"
   },
   {
    "duration": 22,
    "start_time": "2021-07-10T17:10:44.872Z"
   },
   {
    "duration": 14,
    "start_time": "2021-07-10T17:10:45.576Z"
   },
   {
    "duration": 61,
    "start_time": "2021-07-10T17:14:55.705Z"
   },
   {
    "duration": 1102,
    "start_time": "2021-07-10T17:15:25.534Z"
   },
   {
    "duration": 98,
    "start_time": "2021-07-10T17:24:56.659Z"
   },
   {
    "duration": 126,
    "start_time": "2021-07-10T17:25:00.436Z"
   },
   {
    "duration": 55,
    "start_time": "2021-07-10T17:25:09.217Z"
   },
   {
    "duration": 802,
    "start_time": "2021-07-10T17:25:21.397Z"
   },
   {
    "duration": 827,
    "start_time": "2021-07-10T17:30:55.289Z"
   },
   {
    "duration": 324,
    "start_time": "2021-07-10T17:30:56.633Z"
   },
   {
    "duration": 169,
    "start_time": "2021-07-10T17:31:09.586Z"
   },
   {
    "duration": 129,
    "start_time": "2021-07-10T17:31:31.829Z"
   },
   {
    "duration": 120,
    "start_time": "2021-07-10T17:31:36.742Z"
   },
   {
    "duration": 104,
    "start_time": "2021-07-10T17:31:52.152Z"
   },
   {
    "duration": 1135,
    "start_time": "2021-07-10T17:31:52.944Z"
   },
   {
    "duration": 40,
    "start_time": "2021-07-10T17:32:44.835Z"
   },
   {
    "duration": 807,
    "start_time": "2021-07-10T17:33:09.001Z"
   },
   {
    "duration": 629,
    "start_time": "2021-07-10T17:33:34.885Z"
   },
   {
    "duration": 41,
    "start_time": "2021-07-10T17:33:41.333Z"
   },
   {
    "duration": 601,
    "start_time": "2021-07-10T17:33:42.141Z"
   },
   {
    "duration": 769,
    "start_time": "2021-07-10T17:35:58.360Z"
   },
   {
    "duration": 27,
    "start_time": "2021-07-10T17:35:59.132Z"
   },
   {
    "duration": 16,
    "start_time": "2021-07-10T17:35:59.163Z"
   },
   {
    "duration": 8,
    "start_time": "2021-07-10T17:35:59.183Z"
   },
   {
    "duration": 19,
    "start_time": "2021-07-10T17:35:59.194Z"
   },
   {
    "duration": 44,
    "start_time": "2021-07-10T17:35:59.216Z"
   },
   {
    "duration": 18,
    "start_time": "2021-07-10T17:35:59.262Z"
   },
   {
    "duration": 595,
    "start_time": "2021-07-10T17:35:59.286Z"
   },
   {
    "duration": 4,
    "start_time": "2021-07-10T17:35:59.884Z"
   },
   {
    "duration": 18,
    "start_time": "2021-07-10T17:35:59.891Z"
   },
   {
    "duration": 10,
    "start_time": "2021-07-10T17:35:59.912Z"
   },
   {
    "duration": 32,
    "start_time": "2021-07-10T17:35:59.925Z"
   },
   {
    "duration": 79,
    "start_time": "2021-07-10T17:35:59.959Z"
   },
   {
    "duration": 3,
    "start_time": "2021-07-10T17:36:00.041Z"
   },
   {
    "duration": 18,
    "start_time": "2021-07-10T17:36:00.047Z"
   },
   {
    "duration": 18,
    "start_time": "2021-07-10T17:36:00.068Z"
   },
   {
    "duration": 20,
    "start_time": "2021-07-10T17:36:00.090Z"
   },
   {
    "duration": 635,
    "start_time": "2021-07-10T17:36:00.113Z"
   },
   {
    "duration": 509,
    "start_time": "2021-07-10T17:36:00.243Z"
   },
   {
    "duration": 504,
    "start_time": "2021-07-10T17:36:00.249Z"
   },
   {
    "duration": 503,
    "start_time": "2021-07-10T17:36:00.252Z"
   },
   {
    "duration": 499,
    "start_time": "2021-07-10T17:36:00.257Z"
   },
   {
    "duration": 495,
    "start_time": "2021-07-10T17:36:00.263Z"
   },
   {
    "duration": 491,
    "start_time": "2021-07-10T17:36:00.268Z"
   },
   {
    "duration": 491,
    "start_time": "2021-07-10T17:36:00.270Z"
   },
   {
    "duration": 484,
    "start_time": "2021-07-10T17:36:00.278Z"
   },
   {
    "duration": 480,
    "start_time": "2021-07-10T17:36:00.284Z"
   },
   {
    "duration": 475,
    "start_time": "2021-07-10T17:36:00.290Z"
   },
   {
    "duration": 474,
    "start_time": "2021-07-10T17:36:00.292Z"
   },
   {
    "duration": 470,
    "start_time": "2021-07-10T17:36:00.298Z"
   },
   {
    "duration": 466,
    "start_time": "2021-07-10T17:36:00.304Z"
   },
   {
    "duration": 465,
    "start_time": "2021-07-10T17:36:00.307Z"
   },
   {
    "duration": 748,
    "start_time": "2021-07-10T17:38:14.071Z"
   },
   {
    "duration": 27,
    "start_time": "2021-07-10T17:38:14.822Z"
   },
   {
    "duration": 17,
    "start_time": "2021-07-10T17:38:14.852Z"
   },
   {
    "duration": 10,
    "start_time": "2021-07-10T17:38:14.873Z"
   },
   {
    "duration": 13,
    "start_time": "2021-07-10T17:38:14.886Z"
   },
   {
    "duration": 16,
    "start_time": "2021-07-10T17:38:14.901Z"
   },
   {
    "duration": 46,
    "start_time": "2021-07-10T17:38:14.920Z"
   },
   {
    "duration": 776,
    "start_time": "2021-07-10T17:38:14.970Z"
   },
   {
    "duration": 7,
    "start_time": "2021-07-10T17:38:15.756Z"
   },
   {
    "duration": 13,
    "start_time": "2021-07-10T17:38:15.765Z"
   },
   {
    "duration": 12,
    "start_time": "2021-07-10T17:38:15.780Z"
   },
   {
    "duration": 7,
    "start_time": "2021-07-10T17:38:15.794Z"
   },
   {
    "duration": 88,
    "start_time": "2021-07-10T17:38:15.804Z"
   },
   {
    "duration": 4,
    "start_time": "2021-07-10T17:38:15.894Z"
   },
   {
    "duration": 7,
    "start_time": "2021-07-10T17:38:15.901Z"
   },
   {
    "duration": 14,
    "start_time": "2021-07-10T17:38:15.911Z"
   },
   {
    "duration": 37,
    "start_time": "2021-07-10T17:38:15.927Z"
   },
   {
    "duration": 606,
    "start_time": "2021-07-10T17:38:15.967Z"
   },
   {
    "duration": 508,
    "start_time": "2021-07-10T17:38:16.069Z"
   },
   {
    "duration": 507,
    "start_time": "2021-07-10T17:38:16.072Z"
   },
   {
    "duration": 504,
    "start_time": "2021-07-10T17:38:16.077Z"
   },
   {
    "duration": 503,
    "start_time": "2021-07-10T17:38:16.081Z"
   },
   {
    "duration": 503,
    "start_time": "2021-07-10T17:38:16.083Z"
   },
   {
    "duration": 500,
    "start_time": "2021-07-10T17:38:16.088Z"
   },
   {
    "duration": 500,
    "start_time": "2021-07-10T17:38:16.090Z"
   },
   {
    "duration": 497,
    "start_time": "2021-07-10T17:38:16.095Z"
   },
   {
    "duration": 496,
    "start_time": "2021-07-10T17:38:16.098Z"
   },
   {
    "duration": 493,
    "start_time": "2021-07-10T17:38:16.103Z"
   },
   {
    "duration": 491,
    "start_time": "2021-07-10T17:38:16.107Z"
   },
   {
    "duration": 487,
    "start_time": "2021-07-10T17:38:16.113Z"
   },
   {
    "duration": 484,
    "start_time": "2021-07-10T17:38:16.117Z"
   },
   {
    "duration": 112,
    "start_time": "2021-07-10T17:40:04.876Z"
   },
   {
    "duration": 986,
    "start_time": "2021-07-10T17:40:10.525Z"
   },
   {
    "duration": 38,
    "start_time": "2021-07-10T17:40:11.514Z"
   },
   {
    "duration": 18,
    "start_time": "2021-07-10T17:40:11.556Z"
   },
   {
    "duration": 8,
    "start_time": "2021-07-10T17:40:11.578Z"
   },
   {
    "duration": 14,
    "start_time": "2021-07-10T17:40:11.589Z"
   },
   {
    "duration": 52,
    "start_time": "2021-07-10T17:40:11.606Z"
   },
   {
    "duration": 15,
    "start_time": "2021-07-10T17:40:11.661Z"
   },
   {
    "duration": 794,
    "start_time": "2021-07-10T17:40:11.680Z"
   },
   {
    "duration": 4,
    "start_time": "2021-07-10T17:40:12.477Z"
   },
   {
    "duration": 20,
    "start_time": "2021-07-10T17:40:12.484Z"
   },
   {
    "duration": 11,
    "start_time": "2021-07-10T17:40:12.506Z"
   },
   {
    "duration": 37,
    "start_time": "2021-07-10T17:40:12.519Z"
   },
   {
    "duration": 170,
    "start_time": "2021-07-10T17:40:12.560Z"
   },
   {
    "duration": 3,
    "start_time": "2021-07-10T17:40:12.732Z"
   },
   {
    "duration": 31,
    "start_time": "2021-07-10T17:40:12.738Z"
   },
   {
    "duration": 16,
    "start_time": "2021-07-10T17:40:12.771Z"
   },
   {
    "duration": 14,
    "start_time": "2021-07-10T17:40:12.789Z"
   },
   {
    "duration": 255,
    "start_time": "2021-07-10T17:40:12.806Z"
   },
   {
    "duration": 941,
    "start_time": "2021-07-10T17:40:13.065Z"
   },
   {
    "duration": 5,
    "start_time": "2021-07-10T17:40:14.009Z"
   },
   {
    "duration": 334141,
    "start_time": "2021-07-10T17:40:14.016Z"
   },
   {
    "duration": 1221,
    "start_time": "2021-07-10T17:45:48.160Z"
   },
   {
    "duration": 1192,
    "start_time": "2021-07-10T17:45:49.388Z"
   },
   {
    "duration": 847,
    "start_time": "2021-07-10T17:45:50.584Z"
   },
   {
    "duration": 123,
    "start_time": "2021-07-10T17:45:51.434Z"
   },
   {
    "duration": 1001,
    "start_time": "2021-07-10T17:45:51.564Z"
   },
   {
    "duration": 6,
    "start_time": "2021-07-10T17:45:52.567Z"
   },
   {
    "duration": 34,
    "start_time": "2021-07-10T17:45:52.575Z"
   },
   {
    "duration": 10,
    "start_time": "2021-07-10T17:45:52.611Z"
   },
   {
    "duration": 432235,
    "start_time": "2021-07-10T17:45:52.623Z"
   },
   {
    "duration": 104,
    "start_time": "2021-07-10T17:53:04.861Z"
   },
   {
    "duration": 93,
    "start_time": "2021-07-10T17:59:53.364Z"
   },
   {
    "duration": 824,
    "start_time": "2021-07-10T18:00:07.705Z"
   },
   {
    "duration": 1194,
    "start_time": "2021-07-10T18:00:28.065Z"
   },
   {
    "duration": 418,
    "start_time": "2021-07-10T18:10:31.310Z"
   },
   {
    "duration": 15,
    "start_time": "2021-07-10T18:10:46.249Z"
   },
   {
    "duration": 15,
    "start_time": "2021-07-10T18:10:54.066Z"
   },
   {
    "duration": 16,
    "start_time": "2021-07-10T18:10:59.667Z"
   },
   {
    "duration": 14,
    "start_time": "2021-07-10T18:11:02.083Z"
   },
   {
    "duration": 15,
    "start_time": "2021-07-10T18:11:08.572Z"
   },
   {
    "duration": 15,
    "start_time": "2021-07-10T18:11:12.429Z"
   },
   {
    "duration": 14,
    "start_time": "2021-07-10T18:12:07.710Z"
   },
   {
    "duration": 14,
    "start_time": "2021-07-10T18:14:04.244Z"
   },
   {
    "duration": 14,
    "start_time": "2021-07-10T18:14:14.333Z"
   },
   {
    "duration": 14,
    "start_time": "2021-07-10T18:14:19.189Z"
   },
   {
    "duration": 14,
    "start_time": "2021-07-10T18:14:28.359Z"
   },
   {
    "duration": 19,
    "start_time": "2021-07-10T18:14:50.010Z"
   },
   {
    "duration": 14,
    "start_time": "2021-07-10T18:14:59.699Z"
   },
   {
    "duration": 14,
    "start_time": "2021-07-10T18:15:09.171Z"
   },
   {
    "duration": 16,
    "start_time": "2021-07-10T18:15:22.142Z"
   },
   {
    "duration": 9,
    "start_time": "2021-07-10T18:15:23.494Z"
   },
   {
    "duration": 10,
    "start_time": "2021-07-10T18:15:25.366Z"
   },
   {
    "duration": 37,
    "start_time": "2021-07-10T18:15:48.337Z"
   },
   {
    "duration": 715,
    "start_time": "2021-07-10T18:16:04.772Z"
   },
   {
    "duration": 692,
    "start_time": "2021-07-10T18:16:40.537Z"
   },
   {
    "duration": 556,
    "start_time": "2021-07-10T18:16:42.609Z"
   },
   {
    "duration": 82,
    "start_time": "2021-07-10T18:17:34.480Z"
   },
   {
    "duration": 646,
    "start_time": "2021-07-10T18:17:41.592Z"
   },
   {
    "duration": 633,
    "start_time": "2021-07-10T18:18:10.981Z"
   },
   {
    "duration": 18,
    "start_time": "2021-07-10T18:18:42.305Z"
   },
   {
    "duration": 10,
    "start_time": "2021-07-10T18:18:45.209Z"
   },
   {
    "duration": 99,
    "start_time": "2021-07-10T18:19:00.763Z"
   },
   {
    "duration": 1007,
    "start_time": "2021-07-10T18:19:01.691Z"
   },
   {
    "duration": 5,
    "start_time": "2021-07-10T18:19:15.814Z"
   },
   {
    "duration": 18,
    "start_time": "2021-07-10T18:19:16.357Z"
   },
   {
    "duration": 9,
    "start_time": "2021-07-10T18:19:16.942Z"
   },
   {
    "duration": 82,
    "start_time": "2021-07-10T18:19:17.581Z"
   },
   {
    "duration": 933,
    "start_time": "2021-07-10T18:19:18.589Z"
   },
   {
    "duration": 781,
    "start_time": "2021-07-10T18:19:31.624Z"
   },
   {
    "duration": 28,
    "start_time": "2021-07-10T18:19:32.408Z"
   },
   {
    "duration": 21,
    "start_time": "2021-07-10T18:19:32.440Z"
   },
   {
    "duration": 8,
    "start_time": "2021-07-10T18:19:32.464Z"
   },
   {
    "duration": 28,
    "start_time": "2021-07-10T18:19:32.475Z"
   },
   {
    "duration": 32,
    "start_time": "2021-07-10T18:19:32.506Z"
   },
   {
    "duration": 29,
    "start_time": "2021-07-10T18:19:32.540Z"
   },
   {
    "duration": 593,
    "start_time": "2021-07-10T18:19:32.573Z"
   },
   {
    "duration": 3,
    "start_time": "2021-07-10T18:19:33.169Z"
   },
   {
    "duration": 27,
    "start_time": "2021-07-10T18:19:33.174Z"
   },
   {
    "duration": 12,
    "start_time": "2021-07-10T18:19:33.203Z"
   },
   {
    "duration": 10,
    "start_time": "2021-07-10T18:19:33.218Z"
   },
   {
    "duration": 169,
    "start_time": "2021-07-10T18:19:33.231Z"
   },
   {
    "duration": 19,
    "start_time": "2021-07-10T18:19:33.403Z"
   },
   {
    "duration": 17,
    "start_time": "2021-07-10T18:19:33.424Z"
   },
   {
    "duration": 115,
    "start_time": "2021-07-10T18:19:33.444Z"
   },
   {
    "duration": 663,
    "start_time": "2021-07-10T18:19:33.563Z"
   },
   {
    "duration": 5,
    "start_time": "2021-07-10T18:19:34.228Z"
   },
   {
    "duration": 217693,
    "start_time": "2021-07-10T18:19:34.236Z"
   },
   {
    "duration": 899,
    "start_time": "2021-07-10T18:23:11.931Z"
   },
   {
    "duration": 697,
    "start_time": "2021-07-10T18:23:12.832Z"
   },
   {
    "duration": 808,
    "start_time": "2021-07-10T18:23:13.532Z"
   },
   {
    "duration": 201,
    "start_time": "2021-07-10T18:23:14.355Z"
   },
   {
    "duration": 845,
    "start_time": "2021-07-10T18:23:14.559Z"
   },
   {
    "duration": 5,
    "start_time": "2021-07-10T18:23:15.406Z"
   },
   {
    "duration": 21,
    "start_time": "2021-07-10T18:23:15.414Z"
   },
   {
    "duration": 25,
    "start_time": "2021-07-10T18:23:15.438Z"
   },
   {
    "duration": 99,
    "start_time": "2021-07-10T18:23:15.465Z"
   },
   {
    "duration": 1141,
    "start_time": "2021-07-10T18:23:15.567Z"
   },
   {
    "duration": 1749,
    "start_time": "2021-07-10T18:23:34.046Z"
   },
   {
    "duration": 10,
    "start_time": "2021-07-10T18:25:14.924Z"
   },
   {
    "duration": 10,
    "start_time": "2021-07-10T18:25:17.844Z"
   },
   {
    "duration": 774,
    "start_time": "2021-07-10T18:25:27.423Z"
   },
   {
    "duration": 26,
    "start_time": "2021-07-10T18:25:28.200Z"
   },
   {
    "duration": 24,
    "start_time": "2021-07-10T18:25:28.232Z"
   },
   {
    "duration": 7,
    "start_time": "2021-07-10T18:25:28.258Z"
   },
   {
    "duration": 12,
    "start_time": "2021-07-10T18:25:28.267Z"
   },
   {
    "duration": 16,
    "start_time": "2021-07-10T18:25:28.281Z"
   },
   {
    "duration": 16,
    "start_time": "2021-07-10T18:25:28.301Z"
   },
   {
    "duration": 643,
    "start_time": "2021-07-10T18:25:28.320Z"
   },
   {
    "duration": 3,
    "start_time": "2021-07-10T18:25:28.966Z"
   },
   {
    "duration": 16,
    "start_time": "2021-07-10T18:25:28.971Z"
   },
   {
    "duration": 9,
    "start_time": "2021-07-10T18:25:28.989Z"
   },
   {
    "duration": 4,
    "start_time": "2021-07-10T18:25:29.000Z"
   },
   {
    "duration": 187,
    "start_time": "2021-07-10T18:25:29.006Z"
   },
   {
    "duration": 9,
    "start_time": "2021-07-10T18:25:29.195Z"
   },
   {
    "duration": 10,
    "start_time": "2021-07-10T18:25:29.206Z"
   },
   {
    "duration": 141,
    "start_time": "2021-07-10T18:25:29.219Z"
   },
   {
    "duration": 675,
    "start_time": "2021-07-10T18:25:29.363Z"
   },
   {
    "duration": 4,
    "start_time": "2021-07-10T18:25:30.041Z"
   },
   {
    "duration": 260887,
    "start_time": "2021-07-10T18:25:30.057Z"
   },
   {
    "duration": 842,
    "start_time": "2021-07-10T18:29:50.946Z"
   },
   {
    "duration": 805,
    "start_time": "2021-07-10T18:29:51.791Z"
   },
   {
    "duration": 585,
    "start_time": "2021-07-10T18:29:52.601Z"
   },
   {
    "duration": 76,
    "start_time": "2021-07-10T18:29:53.189Z"
   },
   {
    "duration": 866,
    "start_time": "2021-07-10T18:29:53.358Z"
   },
   {
    "duration": 7,
    "start_time": "2021-07-10T18:29:54.227Z"
   },
   {
    "duration": 37,
    "start_time": "2021-07-10T18:29:54.237Z"
   },
   {
    "duration": 10,
    "start_time": "2021-07-10T18:29:54.277Z"
   },
   {
    "duration": 175,
    "start_time": "2021-07-10T18:29:54.290Z"
   },
   {
    "duration": 1354,
    "start_time": "2021-07-10T18:29:54.468Z"
   },
   {
    "duration": 12,
    "start_time": "2021-07-10T18:39:18.197Z"
   },
   {
    "duration": 15,
    "start_time": "2021-07-10T18:39:19.868Z"
   },
   {
    "duration": 11,
    "start_time": "2021-07-10T18:39:22.364Z"
   },
   {
    "duration": 46,
    "start_time": "2021-07-10T18:39:22.948Z"
   },
   {
    "duration": 4,
    "start_time": "2021-07-10T18:39:24.243Z"
   },
   {
    "duration": 9,
    "start_time": "2021-07-10T18:39:24.907Z"
   },
   {
    "duration": 10,
    "start_time": "2021-07-10T18:39:26.075Z"
   },
   {
    "duration": 5,
    "start_time": "2021-07-10T18:39:26.955Z"
   },
   {
    "duration": 5,
    "start_time": "2021-07-10T18:39:29.252Z"
   },
   {
    "duration": 14,
    "start_time": "2021-07-10T18:41:27.660Z"
   },
   {
    "duration": 14,
    "start_time": "2021-07-10T18:41:28.589Z"
   },
   {
    "duration": 9,
    "start_time": "2021-07-10T18:41:31.652Z"
   },
   {
    "duration": 9,
    "start_time": "2021-07-10T18:41:34.973Z"
   },
   {
    "duration": 15,
    "start_time": "2021-07-10T18:41:36.221Z"
   },
   {
    "duration": 9,
    "start_time": "2021-07-10T18:41:37.453Z"
   },
   {
    "duration": 52,
    "start_time": "2021-07-10T18:41:56.808Z"
   },
   {
    "duration": 10,
    "start_time": "2021-07-10T18:43:17.683Z"
   },
   {
    "duration": 16,
    "start_time": "2021-07-10T18:43:19.795Z"
   },
   {
    "duration": 733,
    "start_time": "2021-07-10T18:43:27.546Z"
   },
   {
    "duration": 27,
    "start_time": "2021-07-10T18:43:28.281Z"
   },
   {
    "duration": 18,
    "start_time": "2021-07-10T18:43:28.311Z"
   },
   {
    "duration": 7,
    "start_time": "2021-07-10T18:43:28.331Z"
   },
   {
    "duration": 24,
    "start_time": "2021-07-10T18:43:28.340Z"
   },
   {
    "duration": 15,
    "start_time": "2021-07-10T18:43:28.366Z"
   },
   {
    "duration": 13,
    "start_time": "2021-07-10T18:43:28.383Z"
   },
   {
    "duration": 590,
    "start_time": "2021-07-10T18:43:28.400Z"
   },
   {
    "duration": 4,
    "start_time": "2021-07-10T18:43:28.993Z"
   },
   {
    "duration": 12,
    "start_time": "2021-07-10T18:43:29.000Z"
   },
   {
    "duration": 9,
    "start_time": "2021-07-10T18:43:29.014Z"
   },
   {
    "duration": 31,
    "start_time": "2021-07-10T18:43:29.025Z"
   },
   {
    "duration": 164,
    "start_time": "2021-07-10T18:43:29.059Z"
   },
   {
    "duration": 15,
    "start_time": "2021-07-10T18:43:29.225Z"
   },
   {
    "duration": 21,
    "start_time": "2021-07-10T18:43:29.242Z"
   },
   {
    "duration": 97,
    "start_time": "2021-07-10T18:43:29.266Z"
   },
   {
    "duration": 677,
    "start_time": "2021-07-10T18:43:29.366Z"
   },
   {
    "duration": 10,
    "start_time": "2021-07-10T18:43:30.046Z"
   },
   {
    "duration": 234815,
    "start_time": "2021-07-10T18:43:30.058Z"
   },
   {
    "duration": 879,
    "start_time": "2021-07-10T18:47:24.876Z"
   },
   {
    "duration": 725,
    "start_time": "2021-07-10T18:47:25.758Z"
   },
   {
    "duration": 551,
    "start_time": "2021-07-10T18:47:26.485Z"
   },
   {
    "duration": 222,
    "start_time": "2021-07-10T18:47:27.041Z"
   },
   {
    "duration": 753,
    "start_time": "2021-07-10T18:47:27.355Z"
   },
   {
    "duration": 6,
    "start_time": "2021-07-10T18:47:28.110Z"
   },
   {
    "duration": 23,
    "start_time": "2021-07-10T18:47:28.118Z"
   },
   {
    "duration": 18,
    "start_time": "2021-07-10T18:47:28.143Z"
   },
   {
    "duration": 101,
    "start_time": "2021-07-10T18:47:28.163Z"
   },
   {
    "duration": 1108,
    "start_time": "2021-07-10T18:47:28.358Z"
   },
   {
    "duration": 612,
    "start_time": "2021-07-10T18:49:22.707Z"
   },
   {
    "duration": 551,
    "start_time": "2021-07-10T18:49:26.996Z"
   },
   {
    "duration": 597,
    "start_time": "2021-07-10T18:49:54.296Z"
   },
   {
    "duration": 55,
    "start_time": "2021-07-10T18:49:56.607Z"
   },
   {
    "duration": 885,
    "start_time": "2021-07-10T18:50:36.229Z"
   },
   {
    "duration": 857,
    "start_time": "2021-07-10T18:56:15.315Z"
   },
   {
    "duration": 769,
    "start_time": "2021-07-10T18:56:35.502Z"
   },
   {
    "duration": 33,
    "start_time": "2021-07-10T18:59:18.660Z"
   },
   {
    "duration": 908,
    "start_time": "2021-07-10T18:59:41.966Z"
   },
   {
    "duration": 7,
    "start_time": "2021-07-10T18:59:43.877Z"
   },
   {
    "duration": 1010,
    "start_time": "2021-07-10T18:59:54.072Z"
   },
   {
    "duration": 1008,
    "start_time": "2021-07-10T18:59:59.208Z"
   },
   {
    "duration": 1043,
    "start_time": "2021-07-10T19:00:02.288Z"
   },
   {
    "duration": 709,
    "start_time": "2021-07-10T19:00:14.337Z"
   },
   {
    "duration": 709,
    "start_time": "2021-07-10T19:00:21.547Z"
   },
   {
    "duration": 784,
    "start_time": "2021-07-10T19:01:06.325Z"
   },
   {
    "duration": 28,
    "start_time": "2021-07-10T19:01:07.112Z"
   },
   {
    "duration": 21,
    "start_time": "2021-07-10T19:01:07.143Z"
   },
   {
    "duration": 8,
    "start_time": "2021-07-10T19:01:07.167Z"
   },
   {
    "duration": 14,
    "start_time": "2021-07-10T19:01:07.178Z"
   },
   {
    "duration": 20,
    "start_time": "2021-07-10T19:01:07.195Z"
   },
   {
    "duration": 47,
    "start_time": "2021-07-10T19:01:07.217Z"
   },
   {
    "duration": 586,
    "start_time": "2021-07-10T19:01:07.269Z"
   },
   {
    "duration": 3,
    "start_time": "2021-07-10T19:01:07.859Z"
   },
   {
    "duration": 12,
    "start_time": "2021-07-10T19:01:07.864Z"
   },
   {
    "duration": 9,
    "start_time": "2021-07-10T19:01:07.878Z"
   },
   {
    "duration": 9,
    "start_time": "2021-07-10T19:01:07.889Z"
   },
   {
    "duration": 281,
    "start_time": "2021-07-10T19:01:07.900Z"
   },
   {
    "duration": 14,
    "start_time": "2021-07-10T19:01:08.184Z"
   },
   {
    "duration": 10,
    "start_time": "2021-07-10T19:01:08.200Z"
   },
   {
    "duration": 69,
    "start_time": "2021-07-10T19:01:08.212Z"
   },
   {
    "duration": 602,
    "start_time": "2021-07-10T19:01:08.357Z"
   },
   {
    "duration": 4,
    "start_time": "2021-07-10T19:01:08.962Z"
   },
   {
    "duration": 298658,
    "start_time": "2021-07-10T19:01:08.969Z"
   },
   {
    "duration": 828,
    "start_time": "2021-07-10T19:06:07.630Z"
   },
   {
    "duration": 725,
    "start_time": "2021-07-10T19:06:08.461Z"
   },
   {
    "duration": 593,
    "start_time": "2021-07-10T19:06:09.189Z"
   },
   {
    "duration": 169,
    "start_time": "2021-07-10T19:06:09.787Z"
   },
   {
    "duration": 811,
    "start_time": "2021-07-10T19:06:09.961Z"
   },
   {
    "duration": 7,
    "start_time": "2021-07-10T19:06:10.775Z"
   },
   {
    "duration": 31,
    "start_time": "2021-07-10T19:06:10.785Z"
   },
   {
    "duration": 39,
    "start_time": "2021-07-10T19:06:10.819Z"
   },
   {
    "duration": 107,
    "start_time": "2021-07-10T19:06:10.860Z"
   },
   {
    "duration": 1099,
    "start_time": "2021-07-10T19:06:11.057Z"
   },
   {
    "duration": 895,
    "start_time": "2021-07-10T19:06:12.158Z"
   },
   {
    "duration": 7,
    "start_time": "2021-07-10T19:06:13.056Z"
   },
   {
    "duration": 477,
    "start_time": "2021-07-10T19:06:39.140Z"
   },
   {
    "duration": 600,
    "start_time": "2021-07-10T19:06:46.493Z"
   },
   {
    "duration": 681,
    "start_time": "2021-07-10T19:06:57.206Z"
   },
   {
    "duration": 576,
    "start_time": "2021-07-10T19:07:08.369Z"
   },
   {
    "duration": 8,
    "start_time": "2021-07-10T19:07:09.679Z"
   },
   {
    "duration": 7,
    "start_time": "2021-07-10T19:07:11.145Z"
   },
   {
    "duration": 7,
    "start_time": "2021-07-10T19:07:12.512Z"
   },
   {
    "duration": 584,
    "start_time": "2021-07-10T19:07:19.241Z"
   },
   {
    "duration": 9,
    "start_time": "2021-07-10T19:07:22.409Z"
   },
   {
    "duration": 590,
    "start_time": "2021-07-10T19:07:26.050Z"
   },
   {
    "duration": 7,
    "start_time": "2021-07-10T19:07:26.898Z"
   },
   {
    "duration": 832,
    "start_time": "2021-07-10T19:07:29.459Z"
   },
   {
    "duration": 8,
    "start_time": "2021-07-10T19:07:30.403Z"
   },
   {
    "duration": 900,
    "start_time": "2021-07-10T19:07:33.708Z"
   },
   {
    "duration": 7,
    "start_time": "2021-07-10T19:07:34.611Z"
   },
   {
    "duration": 336737,
    "start_time": "2021-07-10T19:08:04.912Z"
   },
   {
    "duration": 1814,
    "start_time": "2021-07-10T19:13:54.030Z"
   },
   {
    "duration": 7,
    "start_time": "2021-07-10T19:13:57.478Z"
   },
   {
    "duration": 7,
    "start_time": "2021-07-10T19:13:58.862Z"
   },
   {
    "duration": 926,
    "start_time": "2021-07-10T19:14:02.326Z"
   },
   {
    "duration": 8,
    "start_time": "2021-07-10T19:14:03.783Z"
   },
   {
    "duration": 656,
    "start_time": "2021-07-10T19:14:17.920Z"
   },
   {
    "duration": 8,
    "start_time": "2021-07-10T19:14:18.889Z"
   },
   {
    "duration": 8,
    "start_time": "2021-07-10T19:14:19.753Z"
   },
   {
    "duration": 658,
    "start_time": "2021-07-10T19:14:20.353Z"
   },
   {
    "duration": 7,
    "start_time": "2021-07-10T19:14:21.014Z"
   },
   {
    "duration": 654,
    "start_time": "2021-07-10T19:14:21.624Z"
   },
   {
    "duration": 7,
    "start_time": "2021-07-10T19:14:22.280Z"
   },
   {
    "duration": 905,
    "start_time": "2021-07-10T19:14:31.074Z"
   },
   {
    "duration": 7,
    "start_time": "2021-07-10T19:14:31.981Z"
   },
   {
    "duration": 909,
    "start_time": "2021-07-10T19:14:34.019Z"
   },
   {
    "duration": 7,
    "start_time": "2021-07-10T19:14:35.483Z"
   },
   {
    "duration": 1933,
    "start_time": "2021-07-10T19:14:38.187Z"
   },
   {
    "duration": 6,
    "start_time": "2021-07-10T19:14:40.123Z"
   },
   {
    "duration": 805,
    "start_time": "2021-07-10T19:15:08.448Z"
   },
   {
    "duration": 28,
    "start_time": "2021-07-10T19:15:09.255Z"
   },
   {
    "duration": 16,
    "start_time": "2021-07-10T19:15:09.286Z"
   },
   {
    "duration": 8,
    "start_time": "2021-07-10T19:15:09.305Z"
   },
   {
    "duration": 43,
    "start_time": "2021-07-10T19:15:09.316Z"
   },
   {
    "duration": 16,
    "start_time": "2021-07-10T19:15:09.362Z"
   },
   {
    "duration": 18,
    "start_time": "2021-07-10T19:15:09.381Z"
   },
   {
    "duration": 579,
    "start_time": "2021-07-10T19:15:09.402Z"
   },
   {
    "duration": 4,
    "start_time": "2021-07-10T19:15:09.984Z"
   },
   {
    "duration": 17,
    "start_time": "2021-07-10T19:15:09.990Z"
   },
   {
    "duration": 10,
    "start_time": "2021-07-10T19:15:10.009Z"
   },
   {
    "duration": 13,
    "start_time": "2021-07-10T19:15:10.021Z"
   },
   {
    "duration": 180,
    "start_time": "2021-07-10T19:15:10.037Z"
   },
   {
    "duration": 15,
    "start_time": "2021-07-10T19:15:10.220Z"
   },
   {
    "duration": 27,
    "start_time": "2021-07-10T19:15:10.237Z"
   },
   {
    "duration": 97,
    "start_time": "2021-07-10T19:15:10.266Z"
   },
   {
    "duration": 624,
    "start_time": "2021-07-10T19:15:10.456Z"
   },
   {
    "duration": 4,
    "start_time": "2021-07-10T19:15:14.386Z"
   },
   {
    "duration": 4,
    "start_time": "2021-07-10T19:15:33.308Z"
   },
   {
    "duration": 154645,
    "start_time": "2021-07-10T19:15:37.780Z"
   },
   {
    "duration": 789,
    "start_time": "2021-07-10T19:20:03.096Z"
   },
   {
    "duration": 8,
    "start_time": "2021-07-10T19:20:04.544Z"
   },
   {
    "duration": 561,
    "start_time": "2021-07-10T19:20:15.361Z"
   },
   {
    "duration": 559,
    "start_time": "2021-07-10T19:20:31.659Z"
   },
   {
    "duration": 6,
    "start_time": "2021-07-10T19:20:32.428Z"
   },
   {
    "duration": 796,
    "start_time": "2021-07-10T19:20:40.365Z"
   },
   {
    "duration": 10,
    "start_time": "2021-07-10T19:20:41.164Z"
   },
   {
    "duration": 895,
    "start_time": "2021-07-10T19:20:52.182Z"
   },
   {
    "duration": 8,
    "start_time": "2021-07-10T19:20:53.174Z"
   },
   {
    "duration": 740,
    "start_time": "2021-07-10T19:22:06.016Z"
   },
   {
    "duration": 4,
    "start_time": "2021-07-10T19:22:15.560Z"
   },
   {
    "duration": 309401,
    "start_time": "2021-07-10T19:22:18.281Z"
   },
   {
    "duration": 740,
    "start_time": "2021-07-10T19:27:52.677Z"
   },
   {
    "duration": 7,
    "start_time": "2021-07-10T19:27:58.581Z"
   },
   {
    "duration": 771,
    "start_time": "2021-07-10T19:28:06.759Z"
   },
   {
    "duration": 449,
    "start_time": "2021-07-10T19:30:39.307Z"
   },
   {
    "duration": 6,
    "start_time": "2021-07-10T19:30:43.515Z"
   },
   {
    "duration": 276,
    "start_time": "2021-07-10T19:30:46.636Z"
   },
   {
    "duration": 1271,
    "start_time": "2021-07-10T19:31:25.858Z"
   },
   {
    "duration": 775,
    "start_time": "2021-07-10T19:32:11.270Z"
   },
   {
    "duration": 34,
    "start_time": "2021-07-10T19:32:12.048Z"
   },
   {
    "duration": 17,
    "start_time": "2021-07-10T19:32:12.086Z"
   },
   {
    "duration": 11,
    "start_time": "2021-07-10T19:32:12.106Z"
   },
   {
    "duration": 51,
    "start_time": "2021-07-10T19:32:12.120Z"
   },
   {
    "duration": 23,
    "start_time": "2021-07-10T19:32:12.174Z"
   },
   {
    "duration": 16,
    "start_time": "2021-07-10T19:32:12.199Z"
   },
   {
    "duration": 664,
    "start_time": "2021-07-10T19:32:12.219Z"
   },
   {
    "duration": 4,
    "start_time": "2021-07-10T19:32:12.886Z"
   },
   {
    "duration": 16,
    "start_time": "2021-07-10T19:32:12.892Z"
   },
   {
    "duration": 10,
    "start_time": "2021-07-10T19:32:12.910Z"
   },
   {
    "duration": 35,
    "start_time": "2021-07-10T19:32:12.923Z"
   },
   {
    "duration": 185,
    "start_time": "2021-07-10T19:32:12.961Z"
   },
   {
    "duration": 17,
    "start_time": "2021-07-10T19:32:13.149Z"
   },
   {
    "duration": 15,
    "start_time": "2021-07-10T19:32:13.169Z"
   },
   {
    "duration": 84,
    "start_time": "2021-07-10T19:32:13.186Z"
   },
   {
    "duration": 696,
    "start_time": "2021-07-10T19:32:13.274Z"
   },
   {
    "duration": 5,
    "start_time": "2021-07-10T19:32:13.972Z"
   },
   {
    "duration": 304424,
    "start_time": "2021-07-10T19:32:13.981Z"
   },
   {
    "duration": 950,
    "start_time": "2021-07-10T19:37:18.408Z"
   },
   {
    "duration": 506,
    "start_time": "2021-07-10T19:37:19.361Z"
   },
   {
    "duration": 560,
    "start_time": "2021-07-10T19:37:19.870Z"
   },
   {
    "duration": 124,
    "start_time": "2021-07-10T19:37:20.436Z"
   },
   {
    "duration": 568,
    "start_time": "2021-07-10T19:37:20.564Z"
   },
   {
    "duration": 6,
    "start_time": "2021-07-10T19:37:21.134Z"
   },
   {
    "duration": 23,
    "start_time": "2021-07-10T19:37:21.142Z"
   },
   {
    "duration": 9,
    "start_time": "2021-07-10T19:37:21.167Z"
   },
   {
    "duration": 186,
    "start_time": "2021-07-10T19:37:21.178Z"
   },
   {
    "duration": 682,
    "start_time": "2021-07-10T19:37:21.457Z"
   },
   {
    "duration": 1083,
    "start_time": "2021-07-10T19:37:22.142Z"
   },
   {
    "duration": 9,
    "start_time": "2021-07-10T19:37:23.227Z"
   },
   {
    "duration": 1155,
    "start_time": "2021-07-10T19:40:20.418Z"
   },
   {
    "duration": 8,
    "start_time": "2021-07-10T19:40:22.999Z"
   },
   {
    "duration": 49,
    "start_time": "2021-07-10T19:53:52.939Z"
   },
   {
    "duration": 42,
    "start_time": "2021-07-10T19:53:57.731Z"
   },
   {
    "duration": 866,
    "start_time": "2021-07-10T19:55:34.121Z"
   },
   {
    "duration": 863,
    "start_time": "2021-07-10T19:56:24.600Z"
   },
   {
    "duration": 603,
    "start_time": "2021-07-10T19:56:45.410Z"
   },
   {
    "duration": 881,
    "start_time": "2021-07-10T19:56:57.172Z"
   },
   {
    "duration": 1277,
    "start_time": "2021-07-10T20:02:04.340Z"
   },
   {
    "duration": 1147,
    "start_time": "2021-07-10T20:02:12.581Z"
   },
   {
    "duration": 43,
    "start_time": "2021-07-10T20:02:13.731Z"
   },
   {
    "duration": 809,
    "start_time": "2021-07-10T20:03:02.095Z"
   },
   {
    "duration": 27,
    "start_time": "2021-07-10T20:03:02.907Z"
   },
   {
    "duration": 24,
    "start_time": "2021-07-10T20:03:02.938Z"
   },
   {
    "duration": 13,
    "start_time": "2021-07-10T20:03:02.966Z"
   },
   {
    "duration": 17,
    "start_time": "2021-07-10T20:03:02.983Z"
   },
   {
    "duration": 25,
    "start_time": "2021-07-10T20:03:03.003Z"
   },
   {
    "duration": 39,
    "start_time": "2021-07-10T20:03:03.031Z"
   },
   {
    "duration": 602,
    "start_time": "2021-07-10T20:03:03.075Z"
   },
   {
    "duration": 4,
    "start_time": "2021-07-10T20:03:03.681Z"
   },
   {
    "duration": 14,
    "start_time": "2021-07-10T20:03:03.687Z"
   },
   {
    "duration": 9,
    "start_time": "2021-07-10T20:03:03.704Z"
   },
   {
    "duration": 4,
    "start_time": "2021-07-10T20:03:03.716Z"
   },
   {
    "duration": 198,
    "start_time": "2021-07-10T20:03:03.722Z"
   },
   {
    "duration": 14,
    "start_time": "2021-07-10T20:03:03.922Z"
   },
   {
    "duration": 26,
    "start_time": "2021-07-10T20:03:03.938Z"
   },
   {
    "duration": 102,
    "start_time": "2021-07-10T20:03:03.966Z"
   },
   {
    "duration": 591,
    "start_time": "2021-07-10T20:03:04.156Z"
   },
   {
    "duration": 9,
    "start_time": "2021-07-10T20:03:04.749Z"
   },
   {
    "duration": 322608,
    "start_time": "2021-07-10T20:03:04.760Z"
   },
   {
    "duration": 1105,
    "start_time": "2021-07-10T20:08:27.372Z"
   },
   {
    "duration": 621,
    "start_time": "2021-07-10T20:08:28.479Z"
   },
   {
    "duration": 589,
    "start_time": "2021-07-10T20:08:29.102Z"
   },
   {
    "duration": 166,
    "start_time": "2021-07-10T20:08:29.696Z"
   },
   {
    "duration": 684,
    "start_time": "2021-07-10T20:08:29.865Z"
   },
   {
    "duration": 6,
    "start_time": "2021-07-10T20:08:30.551Z"
   },
   {
    "duration": 55,
    "start_time": "2021-07-10T20:08:30.559Z"
   },
   {
    "duration": 13,
    "start_time": "2021-07-10T20:08:30.617Z"
   },
   {
    "duration": 143,
    "start_time": "2021-07-10T20:08:30.633Z"
   },
   {
    "duration": 1028,
    "start_time": "2021-07-10T20:08:30.779Z"
   },
   {
    "duration": 1148,
    "start_time": "2021-07-10T20:08:31.809Z"
   },
   {
    "duration": 36,
    "start_time": "2021-07-10T20:08:32.959Z"
   },
   {
    "duration": 607,
    "start_time": "2021-07-10T20:08:32.998Z"
   },
   {
    "duration": 128,
    "start_time": "2021-07-11T15:16:48.198Z"
   },
   {
    "duration": 1505,
    "start_time": "2021-07-11T16:01:25.360Z"
   },
   {
    "duration": 35,
    "start_time": "2021-07-11T16:01:26.868Z"
   },
   {
    "duration": 25,
    "start_time": "2021-07-11T16:01:26.906Z"
   },
   {
    "duration": 33,
    "start_time": "2021-07-11T16:01:26.934Z"
   },
   {
    "duration": 8,
    "start_time": "2021-07-11T16:01:26.969Z"
   },
   {
    "duration": 17,
    "start_time": "2021-07-11T16:01:26.980Z"
   },
   {
    "duration": 18,
    "start_time": "2021-07-11T16:01:26.999Z"
   },
   {
    "duration": 43,
    "start_time": "2021-07-11T16:01:27.019Z"
   },
   {
    "duration": 59,
    "start_time": "2021-07-11T16:01:27.065Z"
   },
   {
    "duration": 4,
    "start_time": "2021-07-11T16:04:36.245Z"
   },
   {
    "duration": 5,
    "start_time": "2021-07-11T16:04:43.374Z"
   },
   {
    "duration": 15,
    "start_time": "2021-07-11T16:04:56.528Z"
   },
   {
    "duration": 14,
    "start_time": "2021-07-11T16:05:43.607Z"
   },
   {
    "duration": 15,
    "start_time": "2021-07-11T16:08:16.587Z"
   },
   {
    "duration": 24,
    "start_time": "2021-07-11T16:08:22.043Z"
   },
   {
    "duration": 18,
    "start_time": "2021-07-11T16:11:33.669Z"
   },
   {
    "duration": 431,
    "start_time": "2021-07-11T16:11:34.509Z"
   },
   {
    "duration": 25,
    "start_time": "2021-07-11T16:11:52.599Z"
   },
   {
    "duration": 7,
    "start_time": "2021-07-11T16:11:59.360Z"
   },
   {
    "duration": 16,
    "start_time": "2021-07-11T16:12:10.265Z"
   },
   {
    "duration": 82,
    "start_time": "2021-07-11T16:12:12.786Z"
   },
   {
    "duration": 572,
    "start_time": "2021-07-11T16:12:13.835Z"
   },
   {
    "duration": 5,
    "start_time": "2021-07-11T16:12:16.291Z"
   },
   {
    "duration": 307366,
    "start_time": "2021-07-11T16:12:19.355Z"
   },
   {
    "duration": 941,
    "start_time": "2021-07-11T16:21:40.470Z"
   },
   {
    "duration": 620,
    "start_time": "2021-07-11T16:21:41.415Z"
   },
   {
    "duration": 602,
    "start_time": "2021-07-11T16:21:43.789Z"
   },
   {
    "duration": 150,
    "start_time": "2021-07-11T16:21:48.916Z"
   },
   {
    "duration": 601,
    "start_time": "2021-07-11T16:21:50.278Z"
   },
   {
    "duration": 5,
    "start_time": "2021-07-11T16:22:05.001Z"
   },
   {
    "duration": 21,
    "start_time": "2021-07-11T16:22:06.712Z"
   },
   {
    "duration": 10,
    "start_time": "2021-07-11T16:22:07.456Z"
   },
   {
    "duration": 56,
    "start_time": "2021-07-11T16:22:08.912Z"
   },
   {
    "duration": 882,
    "start_time": "2021-07-11T16:22:10.097Z"
   },
   {
    "duration": 1147,
    "start_time": "2021-07-11T16:22:18.617Z"
   },
   {
    "duration": 27,
    "start_time": "2021-07-11T16:22:20.634Z"
   },
   {
    "duration": 567,
    "start_time": "2021-07-11T16:22:21.881Z"
   },
   {
    "duration": 1145,
    "start_time": "2021-07-11T16:22:27.843Z"
   },
   {
    "duration": 30,
    "start_time": "2021-07-11T16:22:30.891Z"
   },
   {
    "duration": 596,
    "start_time": "2021-07-11T16:22:34.412Z"
   },
   {
    "duration": 37,
    "start_time": "2021-07-11T16:23:07.218Z"
   },
   {
    "duration": 26,
    "start_time": "2021-07-11T16:23:11.793Z"
   },
   {
    "duration": 36,
    "start_time": "2021-07-11T16:23:20.570Z"
   },
   {
    "duration": 1134,
    "start_time": "2021-07-11T16:23:24.322Z"
   },
   {
    "duration": 26,
    "start_time": "2021-07-11T16:23:26.235Z"
   },
   {
    "duration": 568,
    "start_time": "2021-07-11T16:23:27.140Z"
   },
   {
    "duration": 1118,
    "start_time": "2021-07-11T16:23:44.301Z"
   },
   {
    "duration": 6,
    "start_time": "2021-07-11T16:23:46.758Z"
   },
   {
    "duration": 7,
    "start_time": "2021-07-11T16:23:50.264Z"
   },
   {
    "duration": 41,
    "start_time": "2021-07-11T16:23:55.303Z"
   },
   {
    "duration": 40,
    "start_time": "2021-07-11T16:24:01.464Z"
   },
   {
    "duration": 9,
    "start_time": "2021-07-11T16:24:07.889Z"
   },
   {
    "duration": 27,
    "start_time": "2021-07-11T16:24:17.561Z"
   },
   {
    "duration": 22,
    "start_time": "2021-07-11T16:24:29.403Z"
   },
   {
    "duration": 28,
    "start_time": "2021-07-11T16:24:35.428Z"
   },
   {
    "duration": 14,
    "start_time": "2021-07-11T16:24:56.399Z"
   },
   {
    "duration": 18,
    "start_time": "2021-07-11T16:24:57.951Z"
   },
   {
    "duration": 23,
    "start_time": "2021-07-11T16:24:59.403Z"
   },
   {
    "duration": 1166,
    "start_time": "2021-07-11T16:25:05.799Z"
   },
   {
    "duration": 34,
    "start_time": "2021-07-11T16:25:07.032Z"
   },
   {
    "duration": 603,
    "start_time": "2021-07-11T16:25:08.361Z"
   },
   {
    "duration": 669,
    "start_time": "2021-07-11T16:25:11.241Z"
   },
   {
    "duration": 36,
    "start_time": "2021-07-11T16:25:13.417Z"
   },
   {
    "duration": 1170,
    "start_time": "2021-07-11T16:25:14.201Z"
   },
   {
    "duration": 1419,
    "start_time": "2021-07-11T16:25:40.897Z"
   },
   {
    "duration": 36,
    "start_time": "2021-07-11T16:25:42.318Z"
   },
   {
    "duration": 25,
    "start_time": "2021-07-11T16:25:42.357Z"
   },
   {
    "duration": 20,
    "start_time": "2021-07-11T16:25:42.384Z"
   },
   {
    "duration": 10,
    "start_time": "2021-07-11T16:25:42.407Z"
   },
   {
    "duration": 46,
    "start_time": "2021-07-11T16:25:42.420Z"
   },
   {
    "duration": 24,
    "start_time": "2021-07-11T16:25:42.469Z"
   },
   {
    "duration": 23,
    "start_time": "2021-07-11T16:25:42.500Z"
   },
   {
    "duration": 74,
    "start_time": "2021-07-11T16:25:42.527Z"
   },
   {
    "duration": 4,
    "start_time": "2021-07-11T16:25:42.604Z"
   },
   {
    "duration": 7,
    "start_time": "2021-07-11T16:25:42.610Z"
   },
   {
    "duration": 47,
    "start_time": "2021-07-11T16:25:42.620Z"
   },
   {
    "duration": 18,
    "start_time": "2021-07-11T16:25:42.669Z"
   },
   {
    "duration": 24,
    "start_time": "2021-07-11T16:25:42.690Z"
   },
   {
    "duration": 45,
    "start_time": "2021-07-11T16:25:42.717Z"
   },
   {
    "duration": 107,
    "start_time": "2021-07-11T16:25:42.766Z"
   },
   {
    "duration": 625,
    "start_time": "2021-07-11T16:25:42.962Z"
   },
   {
    "duration": 5,
    "start_time": "2021-07-11T16:25:43.590Z"
   },
   {
    "duration": 666,
    "start_time": "2021-07-11T16:25:43.598Z"
   },
   {
    "duration": 455,
    "start_time": "2021-07-11T16:25:44.266Z"
   },
   {
    "duration": 140,
    "start_time": "2021-07-11T16:25:44.724Z"
   },
   {
    "duration": 700,
    "start_time": "2021-07-11T16:25:44.867Z"
   },
   {
    "duration": 6,
    "start_time": "2021-07-11T16:25:45.571Z"
   },
   {
    "duration": 28,
    "start_time": "2021-07-11T16:25:45.592Z"
   },
   {
    "duration": 8,
    "start_time": "2021-07-11T16:25:45.622Z"
   },
   {
    "duration": 131,
    "start_time": "2021-07-11T16:25:45.632Z"
   },
   {
    "duration": 982,
    "start_time": "2021-07-11T16:25:45.765Z"
   },
   {
    "duration": 1183,
    "start_time": "2021-07-11T16:25:46.749Z"
   },
   {
    "duration": 39,
    "start_time": "2021-07-11T16:25:47.935Z"
   },
   {
    "duration": 458,
    "start_time": "2021-07-11T16:25:47.977Z"
   },
   {
    "duration": 1442,
    "start_time": "2021-07-11T16:26:11.154Z"
   },
   {
    "duration": 35,
    "start_time": "2021-07-11T16:26:12.599Z"
   },
   {
    "duration": 27,
    "start_time": "2021-07-11T16:26:12.639Z"
   },
   {
    "duration": 13,
    "start_time": "2021-07-11T16:26:12.668Z"
   },
   {
    "duration": 7,
    "start_time": "2021-07-11T16:26:12.684Z"
   },
   {
    "duration": 18,
    "start_time": "2021-07-11T16:26:12.693Z"
   },
   {
    "duration": 68,
    "start_time": "2021-07-11T16:26:12.715Z"
   },
   {
    "duration": 16,
    "start_time": "2021-07-11T16:26:12.786Z"
   },
   {
    "duration": 59,
    "start_time": "2021-07-11T16:26:12.804Z"
   },
   {
    "duration": 4,
    "start_time": "2021-07-11T16:26:12.865Z"
   },
   {
    "duration": 12,
    "start_time": "2021-07-11T16:26:12.871Z"
   },
   {
    "duration": 20,
    "start_time": "2021-07-11T16:26:12.885Z"
   },
   {
    "duration": 17,
    "start_time": "2021-07-11T16:26:12.907Z"
   },
   {
    "duration": 36,
    "start_time": "2021-07-11T16:26:12.926Z"
   },
   {
    "duration": 103,
    "start_time": "2021-07-11T16:26:12.964Z"
   },
   {
    "duration": 693,
    "start_time": "2021-07-11T16:26:13.070Z"
   },
   {
    "duration": 4,
    "start_time": "2021-07-11T16:26:13.766Z"
   },
   {
    "duration": 620,
    "start_time": "2021-07-11T16:26:13.773Z"
   },
   {
    "duration": 448,
    "start_time": "2021-07-11T16:26:14.396Z"
   },
   {
    "duration": 47,
    "start_time": "2021-07-11T16:26:14.847Z"
   },
   {
    "duration": 686,
    "start_time": "2021-07-11T16:26:14.963Z"
   },
   {
    "duration": 10,
    "start_time": "2021-07-11T16:26:15.654Z"
   },
   {
    "duration": 17,
    "start_time": "2021-07-11T16:26:15.666Z"
   },
   {
    "duration": 9,
    "start_time": "2021-07-11T16:26:15.685Z"
   },
   {
    "duration": 75,
    "start_time": "2021-07-11T16:26:15.696Z"
   },
   {
    "duration": 972,
    "start_time": "2021-07-11T16:26:15.863Z"
   },
   {
    "duration": 1167,
    "start_time": "2021-07-11T16:26:16.838Z"
   },
   {
    "duration": 35,
    "start_time": "2021-07-11T16:26:18.007Z"
   },
   {
    "duration": 468,
    "start_time": "2021-07-11T16:26:18.045Z"
   },
   {
    "duration": 1147,
    "start_time": "2021-07-11T16:26:29.343Z"
   },
   {
    "duration": 34,
    "start_time": "2021-07-11T16:26:31.600Z"
   },
   {
    "duration": 85,
    "start_time": "2021-07-11T16:27:15.763Z"
   },
   {
    "duration": 1537,
    "start_time": "2021-07-11T16:27:24.179Z"
   },
   {
    "duration": 36,
    "start_time": "2021-07-11T16:27:25.719Z"
   },
   {
    "duration": 24,
    "start_time": "2021-07-11T16:27:25.758Z"
   },
   {
    "duration": 13,
    "start_time": "2021-07-11T16:27:25.785Z"
   },
   {
    "duration": 8,
    "start_time": "2021-07-11T16:27:25.800Z"
   },
   {
    "duration": 11,
    "start_time": "2021-07-11T16:27:25.810Z"
   },
   {
    "duration": 53,
    "start_time": "2021-07-11T16:27:25.823Z"
   },
   {
    "duration": 13,
    "start_time": "2021-07-11T16:27:25.880Z"
   },
   {
    "duration": 78,
    "start_time": "2021-07-11T16:27:25.896Z"
   },
   {
    "duration": 4,
    "start_time": "2021-07-11T16:27:25.977Z"
   },
   {
    "duration": 16,
    "start_time": "2021-07-11T16:27:25.984Z"
   },
   {
    "duration": 32,
    "start_time": "2021-07-11T16:27:26.002Z"
   },
   {
    "duration": 26,
    "start_time": "2021-07-11T16:27:26.037Z"
   },
   {
    "duration": 10,
    "start_time": "2021-07-11T16:27:26.066Z"
   },
   {
    "duration": 92,
    "start_time": "2021-07-11T16:27:26.079Z"
   },
   {
    "duration": 699,
    "start_time": "2021-07-11T16:27:26.176Z"
   },
   {
    "duration": 4,
    "start_time": "2021-07-11T16:27:26.878Z"
   },
   {
    "duration": 649,
    "start_time": "2021-07-11T16:27:26.885Z"
   },
   {
    "duration": 458,
    "start_time": "2021-07-11T16:27:27.536Z"
   },
   {
    "duration": 175,
    "start_time": "2021-07-11T16:27:27.996Z"
   },
   {
    "duration": 765,
    "start_time": "2021-07-11T16:27:28.174Z"
   },
   {
    "duration": 5,
    "start_time": "2021-07-11T16:27:28.941Z"
   },
   {
    "duration": 13,
    "start_time": "2021-07-11T16:27:28.963Z"
   },
   {
    "duration": 9,
    "start_time": "2021-07-11T16:27:28.979Z"
   },
   {
    "duration": 176,
    "start_time": "2021-07-11T16:27:28.991Z"
   },
   {
    "duration": 964,
    "start_time": "2021-07-11T16:27:29.171Z"
   },
   {
    "duration": 1238,
    "start_time": "2021-07-11T16:27:30.137Z"
   },
   {
    "duration": 37,
    "start_time": "2021-07-11T16:27:31.377Z"
   },
   {
    "duration": 492,
    "start_time": "2021-07-11T16:27:31.417Z"
   },
   {
    "duration": 1581,
    "start_time": "2021-07-11T16:28:32.663Z"
   },
   {
    "duration": 35,
    "start_time": "2021-07-11T16:28:34.247Z"
   },
   {
    "duration": 23,
    "start_time": "2021-07-11T16:28:34.286Z"
   },
   {
    "duration": 13,
    "start_time": "2021-07-11T16:28:34.311Z"
   },
   {
    "duration": 37,
    "start_time": "2021-07-11T16:28:34.327Z"
   },
   {
    "duration": 12,
    "start_time": "2021-07-11T16:28:34.367Z"
   },
   {
    "duration": 16,
    "start_time": "2021-07-11T16:28:34.382Z"
   },
   {
    "duration": 15,
    "start_time": "2021-07-11T16:28:34.402Z"
   },
   {
    "duration": 81,
    "start_time": "2021-07-11T16:28:34.420Z"
   },
   {
    "duration": 4,
    "start_time": "2021-07-11T16:28:34.504Z"
   },
   {
    "duration": 7,
    "start_time": "2021-07-11T16:28:34.510Z"
   },
   {
    "duration": 15,
    "start_time": "2021-07-11T16:28:34.519Z"
   },
   {
    "duration": 18,
    "start_time": "2021-07-11T16:28:34.563Z"
   },
   {
    "duration": 10,
    "start_time": "2021-07-11T16:28:34.583Z"
   },
   {
    "duration": 171,
    "start_time": "2021-07-11T16:28:34.595Z"
   },
   {
    "duration": 845,
    "start_time": "2021-07-11T16:28:34.770Z"
   },
   {
    "duration": 4,
    "start_time": "2021-07-11T16:28:35.618Z"
   },
   {
    "duration": 316238,
    "start_time": "2021-07-11T16:28:35.625Z"
   },
   {
    "duration": 839,
    "start_time": "2021-07-11T16:33:51.865Z"
   },
   {
    "duration": 731,
    "start_time": "2021-07-11T16:33:52.707Z"
   },
   {
    "duration": 855,
    "start_time": "2021-07-11T16:33:53.441Z"
   },
   {
    "duration": 169,
    "start_time": "2021-07-11T16:33:54.299Z"
   },
   {
    "duration": 941,
    "start_time": "2021-07-11T16:33:54.563Z"
   },
   {
    "duration": 8,
    "start_time": "2021-07-11T16:33:55.507Z"
   },
   {
    "duration": 21,
    "start_time": "2021-07-11T16:33:55.518Z"
   },
   {
    "duration": 28,
    "start_time": "2021-07-11T16:33:55.542Z"
   },
   {
    "duration": 96,
    "start_time": "2021-07-11T16:33:55.573Z"
   },
   {
    "duration": 1071,
    "start_time": "2021-07-11T16:33:55.672Z"
   },
   {
    "duration": 1197,
    "start_time": "2021-07-11T16:33:56.746Z"
   },
   {
    "duration": 37,
    "start_time": "2021-07-11T16:33:57.946Z"
   },
   {
    "duration": 601,
    "start_time": "2021-07-11T16:33:57.986Z"
   },
   {
    "duration": 38,
    "start_time": "2021-07-11T16:46:52.148Z"
   },
   {
    "duration": 54,
    "start_time": "2021-07-11T16:46:55.271Z"
   },
   {
    "duration": 43,
    "start_time": "2021-07-11T16:47:11.487Z"
   },
   {
    "duration": 42,
    "start_time": "2021-07-11T16:47:28.226Z"
   },
   {
    "duration": 543,
    "start_time": "2021-07-11T16:47:46.250Z"
   },
   {
    "duration": 43,
    "start_time": "2021-07-11T16:47:50.426Z"
   },
   {
    "duration": 44,
    "start_time": "2021-07-11T16:47:59.652Z"
   },
   {
    "duration": 2202,
    "start_time": "2021-07-11T16:56:08.278Z"
   },
   {
    "duration": 2322,
    "start_time": "2021-07-11T16:59:43.073Z"
   },
   {
    "duration": 2288,
    "start_time": "2021-07-11T17:03:55.691Z"
   },
   {
    "duration": 2525,
    "start_time": "2021-07-11T17:10:09.053Z"
   },
   {
    "duration": 352,
    "start_time": "2021-07-11T17:12:07.699Z"
   },
   {
    "duration": 343,
    "start_time": "2021-07-11T17:12:17.124Z"
   },
   {
    "duration": 47,
    "start_time": "2021-07-11T17:12:24.252Z"
   },
   {
    "duration": 46,
    "start_time": "2021-07-11T17:12:45.049Z"
   },
   {
    "duration": 626,
    "start_time": "2021-07-11T17:13:04.826Z"
   },
   {
    "duration": 52,
    "start_time": "2021-07-11T17:13:14.276Z"
   },
   {
    "duration": 46,
    "start_time": "2021-07-11T17:15:27.350Z"
   },
   {
    "duration": 46,
    "start_time": "2021-07-11T17:15:59.699Z"
   },
   {
    "duration": 370,
    "start_time": "2021-07-11T17:16:24.639Z"
   },
   {
    "duration": 356,
    "start_time": "2021-07-11T17:16:32.015Z"
   },
   {
    "duration": 47,
    "start_time": "2021-07-11T17:16:39.568Z"
   },
   {
    "duration": 46,
    "start_time": "2021-07-11T17:16:52.561Z"
   },
   {
    "duration": 45,
    "start_time": "2021-07-11T17:17:58.170Z"
   },
   {
    "duration": 44,
    "start_time": "2021-07-11T17:18:08.483Z"
   },
   {
    "duration": 63,
    "start_time": "2021-07-11T17:18:11.027Z"
   },
   {
    "duration": 789,
    "start_time": "2021-07-11T17:18:34.047Z"
   },
   {
    "duration": 1568,
    "start_time": "2021-07-11T17:19:51.078Z"
   },
   {
    "duration": 36,
    "start_time": "2021-07-11T17:19:52.649Z"
   },
   {
    "duration": 22,
    "start_time": "2021-07-11T17:19:52.688Z"
   },
   {
    "duration": 12,
    "start_time": "2021-07-11T17:19:52.713Z"
   },
   {
    "duration": 40,
    "start_time": "2021-07-11T17:19:52.728Z"
   },
   {
    "duration": 13,
    "start_time": "2021-07-11T17:19:52.770Z"
   },
   {
    "duration": 16,
    "start_time": "2021-07-11T17:19:52.785Z"
   },
   {
    "duration": 12,
    "start_time": "2021-07-11T17:19:52.805Z"
   },
   {
    "duration": 48,
    "start_time": "2021-07-11T17:19:52.863Z"
   },
   {
    "duration": 4,
    "start_time": "2021-07-11T17:19:52.913Z"
   },
   {
    "duration": 43,
    "start_time": "2021-07-11T17:19:52.919Z"
   },
   {
    "duration": 17,
    "start_time": "2021-07-11T17:19:52.964Z"
   },
   {
    "duration": 18,
    "start_time": "2021-07-11T17:19:52.983Z"
   },
   {
    "duration": 9,
    "start_time": "2021-07-11T17:19:53.003Z"
   },
   {
    "duration": 79,
    "start_time": "2021-07-11T17:19:53.014Z"
   },
   {
    "duration": 609,
    "start_time": "2021-07-11T17:19:53.163Z"
   },
   {
    "duration": 4,
    "start_time": "2021-07-11T17:19:53.775Z"
   },
   {
    "duration": 306951,
    "start_time": "2021-07-11T17:19:53.781Z"
   },
   {
    "duration": 775,
    "start_time": "2021-07-11T17:25:00.735Z"
   },
   {
    "duration": 622,
    "start_time": "2021-07-11T17:25:01.512Z"
   },
   {
    "duration": 596,
    "start_time": "2021-07-11T17:25:02.137Z"
   },
   {
    "duration": 127,
    "start_time": "2021-07-11T17:25:02.736Z"
   },
   {
    "duration": 692,
    "start_time": "2021-07-11T17:25:02.872Z"
   },
   {
    "duration": 6,
    "start_time": "2021-07-11T17:25:03.568Z"
   },
   {
    "duration": 15,
    "start_time": "2021-07-11T17:25:03.577Z"
   },
   {
    "duration": 9,
    "start_time": "2021-07-11T17:25:03.595Z"
   },
   {
    "duration": 161,
    "start_time": "2021-07-11T17:25:03.607Z"
   },
   {
    "duration": 1040,
    "start_time": "2021-07-11T17:25:03.771Z"
   },
   {
    "duration": 1150,
    "start_time": "2021-07-11T17:25:04.813Z"
   },
   {
    "duration": 34,
    "start_time": "2021-07-11T17:25:05.965Z"
   },
   {
    "duration": 598,
    "start_time": "2021-07-11T17:25:06.001Z"
   },
   {
    "duration": 2064,
    "start_time": "2021-07-11T17:25:06.601Z"
   },
   {
    "duration": 218,
    "start_time": "2021-07-11T17:25:08.670Z"
   }
  ],
  "kernelspec": {
   "display_name": "Python 3 (ipykernel)",
   "language": "python",
   "name": "python3"
  },
  "language_info": {
   "codemirror_mode": {
    "name": "ipython",
    "version": 3
   },
   "file_extension": ".py",
   "mimetype": "text/x-python",
   "name": "python",
   "nbconvert_exporter": "python",
   "pygments_lexer": "ipython3",
   "version": "3.9.6"
  },
  "toc": {
   "base_numbering": 1,
   "nav_menu": {
    "height": "117px",
    "width": "223px"
   },
   "number_sections": true,
   "sideBar": true,
   "skip_h1_title": true,
   "title_cell": "Содержание",
   "title_sidebar": "Contents",
   "toc_cell": true,
   "toc_position": {},
   "toc_section_display": true,
   "toc_window_display": true
  }
 },
 "nbformat": 4,
 "nbformat_minor": 2
}
