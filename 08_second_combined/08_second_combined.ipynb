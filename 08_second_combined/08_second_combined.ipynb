{
 "cells": [
  {
   "cell_type": "markdown",
   "metadata": {
    "toc": true
   },
   "source": [
    "<h1>Содержание<span class=\"tocSkip\"></span></h1>\n",
    "<div class=\"toc\"><ul class=\"toc-item\"><li><span><a href=\"#Подготовка-данных\" data-toc-modified-id=\"Подготовка-данных-1\"><span class=\"toc-item-num\">1&nbsp;&nbsp;</span>Подготовка данных</a></span><ul class=\"toc-item\"><li><span><a href=\"#Загрузка-данных-и-первичный-осмотр\" data-toc-modified-id=\"Загрузка-данных-и-первичный-осмотр-1.1\"><span class=\"toc-item-num\">1.1&nbsp;&nbsp;</span>Загрузка данных и первичный осмотр</a></span></li><li><span><a href=\"#Проверка-расчета-эффективности-обогащения\" data-toc-modified-id=\"Проверка-расчета-эффективности-обогащения-1.2\"><span class=\"toc-item-num\">1.2&nbsp;&nbsp;</span>Проверка расчета эффективности обогащения</a></span></li><li><span><a href=\"#Анализ-отсутствующих-признаков\" data-toc-modified-id=\"Анализ-отсутствующих-признаков-1.3\"><span class=\"toc-item-num\">1.3&nbsp;&nbsp;</span>Анализ отсутствующих признаков</a></span></li><li><span><a href=\"#Предобработка-данных\" data-toc-modified-id=\"Предобработка-данных-1.4\"><span class=\"toc-item-num\">1.4&nbsp;&nbsp;</span>Предобработка данных</a></span></li></ul></li><li><span><a href=\"#Анализ-данных\" data-toc-modified-id=\"Анализ-данных-2\"><span class=\"toc-item-num\">2&nbsp;&nbsp;</span>Анализ данных</a></span><ul class=\"toc-item\"><li><span><a href=\"#Анализ-концентрации-металлов-(Au,-Ag,-Pb)-на-различных-этапах-очистки.\" data-toc-modified-id=\"Анализ-концентрации-металлов-(Au,-Ag,-Pb)-на-различных-этапах-очистки.-2.1\"><span class=\"toc-item-num\">2.1&nbsp;&nbsp;</span>Анализ концентрации металлов (Au, Ag, Pb) на различных этапах очистки.</a></span></li><li><span><a href=\"#Борьба-с-выбросами:\" data-toc-modified-id=\"Борьба-с-выбросами:-2.2\"><span class=\"toc-item-num\">2.2&nbsp;&nbsp;</span>Борьба с выбросами:</a></span></li><li><span><a href=\"#Сравнение-распределения-размеров-гранул-сырья.\" data-toc-modified-id=\"Сравнение-распределения-размеров-гранул-сырья.-2.3\"><span class=\"toc-item-num\">2.3&nbsp;&nbsp;</span>Сравнение распределения размеров гранул сырья.</a></span></li><li><span><a href=\"#Суммарная-концентрация-всех-веществ-на-разных-стадиях.\" data-toc-modified-id=\"Суммарная-концентрация-всех-веществ-на-разных-стадиях.-2.4\"><span class=\"toc-item-num\">2.4&nbsp;&nbsp;</span>Суммарная концентрация всех веществ на разных стадиях.</a></span></li></ul></li><li><span><a href=\"#Модель\" data-toc-modified-id=\"Модель-3\"><span class=\"toc-item-num\">3&nbsp;&nbsp;</span>Модель</a></span><ul class=\"toc-item\"><li><span><a href=\"#Метрика-sMAPE\" data-toc-modified-id=\"Метрика-sMAPE-3.1\"><span class=\"toc-item-num\">3.1&nbsp;&nbsp;</span>Метрика sMAPE</a></span></li><li><span><a href=\"#Подбор-оптимальных-гиперпараметров\" data-toc-modified-id=\"Подбор-оптимальных-гиперпараметров-3.2\"><span class=\"toc-item-num\">3.2&nbsp;&nbsp;</span>Подбор оптимальных гиперпараметров</a></span></li><li><span><a href=\"#Кросс-валидация-моделей.\" data-toc-modified-id=\"Кросс-валидация-моделей.-3.3\"><span class=\"toc-item-num\">3.3&nbsp;&nbsp;</span>Кросс-валидация моделей.</a></span><ul class=\"toc-item\"><li><span><a href=\"#LinearRegression()\" data-toc-modified-id=\"LinearRegression()-3.3.1\"><span class=\"toc-item-num\">3.3.1&nbsp;&nbsp;</span>LinearRegression()</a></span></li><li><span><a href=\"#DecisionTreeRegressor()\" data-toc-modified-id=\"DecisionTreeRegressor()-3.3.2\"><span class=\"toc-item-num\">3.3.2&nbsp;&nbsp;</span>DecisionTreeRegressor()</a></span></li><li><span><a href=\"#RandomForestRegressor()\" data-toc-modified-id=\"RandomForestRegressor()-3.3.3\"><span class=\"toc-item-num\">3.3.3&nbsp;&nbsp;</span>RandomForestRegressor()</a></span></li><li><span><a href=\"#DummyRegressor()\" data-toc-modified-id=\"DummyRegressor()-3.3.4\"><span class=\"toc-item-num\">3.3.4&nbsp;&nbsp;</span>DummyRegressor()</a></span></li></ul></li><li><span><a href=\"#Проверка-лучшей-модели-на-тестовой-выборке\" data-toc-modified-id=\"Проверка-лучшей-модели-на-тестовой-выборке-3.4\"><span class=\"toc-item-num\">3.4&nbsp;&nbsp;</span>Проверка лучшей модели на тестовой выборке</a></span></li></ul></li><li><span><a href=\"#Общий-вывод\" data-toc-modified-id=\"Общий-вывод-4\"><span class=\"toc-item-num\">4&nbsp;&nbsp;</span>Общий вывод</a></span></li></ul></div>"
   ]
  },
  {
   "cell_type": "markdown",
   "metadata": {},
   "source": [
    "# Поставленная задача"
   ]
  },
  {
   "cell_type": "markdown",
   "metadata": {},
   "source": [
    "Подготовить прототип модели машинного обучения для использования промышленным предприятием.\n",
    "\n",
    "Модель должна предсказать **коэффициент восстановления золота** из золотосодержащей руды на основе данных с параметрами поступающего сырья и параметров процесса очистки.\n",
    "\n",
    "Основной метрикой качества в данной модели является **sMAPE** (англ. Symmetric Mean Absolute Percentage Error, «симметричное среднее абсолютное процентное отклонение»).\n",
    "\n",
    "Краткий предварительный план работы:\n",
    "\n",
    "- Подготовить данные:\n",
    "  - Загрузить и рассмотреть данные;\n",
    "  - Проверить точность расчета эффективности обогащения рассчитана правильно;\n",
    "  - Проанализировать доступные выборки;\n",
    "  - Произвести предобработку данных;\n",
    "- Анализ данных:\n",
    "  - Оценить изменения концентрации металлов на различных этапах очистки;\n",
    "  - Оценить выбросы значений;\n",
    "  - Проанализировать размеры гранул сырья в разных выборках;\n",
    "  - Оценить суммарную концентрацию вещест на разных стадиях;\n",
    "- Построение моделей:\n",
    "  - Написать функцию итоговой sMAPE;\n",
    "  - Подобрать оптимальные гиперпараметры моделей;\n",
    "  - Оценить качество моделей кросс-валидацией;\n",
    "  - Проверка модели на тестовой выборке.\n",
    "\n",
    "Модель должна помочь оптимизировать производство, чтобы не запускать предприятие с убыточными характеристиками."
   ]
  },
  {
   "cell_type": "markdown",
   "metadata": {},
   "source": [
    "## Подготовка данных"
   ]
  },
  {
   "cell_type": "markdown",
   "metadata": {},
   "source": [
    "Первым делом, импортируем все необходимые библиотеки:"
   ]
  },
  {
   "cell_type": "code",
   "execution_count": 1,
   "metadata": {},
   "outputs": [],
   "source": [
    "import pandas as pd\n",
    "import seaborn as sns\n",
    "import numpy as np\n",
    "\n",
    "from sklearn.linear_model import LinearRegression\n",
    "from sklearn.ensemble import RandomForestRegressor\n",
    "from sklearn.tree import DecisionTreeRegressor\n",
    "from sklearn.dummy import DummyRegressor\n",
    "\n",
    "\n",
    "from sklearn.model_selection import train_test_split, cross_val_score, GridSearchCV\n",
    "from sklearn.preprocessing import StandardScaler\n",
    "\n",
    "from sklearn.metrics import mean_absolute_error, make_scorer\n",
    "\n",
    "import matplotlib.pyplot as plt\n",
    "import seaborn as sns"
   ]
  },
  {
   "cell_type": "markdown",
   "metadata": {},
   "source": [
    "Параметры для форматирования вывода:"
   ]
  },
  {
   "cell_type": "code",
   "execution_count": 2,
   "metadata": {},
   "outputs": [],
   "source": [
    "pd.set_option('display.float_format', '{:,.2f}'.format)\n",
    "sns.set(rc={'figure.figsize':(17,7)})"
   ]
  },
  {
   "cell_type": "markdown",
   "metadata": {},
   "source": [
    "### Загрузка данных и первичный осмотр"
   ]
  },
  {
   "cell_type": "markdown",
   "metadata": {},
   "source": [
    "Читаем файлы и сохраняем их в DataFrame:"
   ]
  },
  {
   "cell_type": "code",
   "execution_count": 3,
   "metadata": {},
   "outputs": [],
   "source": [
    "train_df = pd.read_csv('.\\\\datasets\\\\gold_recovery_train_new.csv',  sep=',')\n",
    "\n",
    "test_df = pd.read_csv('.\\\\datasets\\\\gold_recovery_test_new.csv',  sep=',')\n",
    "\n",
    "full_df = pd.read_csv('.\\\\datasets\\\\gold_recovery_full_new.csv',  sep=',')"
   ]
  },
  {
   "cell_type": "markdown",
   "metadata": {},
   "source": [
    "Осмотрим таблицу `full_df`, как включащую в себя остальные две."
   ]
  },
  {
   "cell_type": "code",
   "execution_count": 4,
   "metadata": {},
   "outputs": [
    {
     "data": {
      "text/html": [
       "<div>\n",
       "<style scoped>\n",
       "    .dataframe tbody tr th:only-of-type {\n",
       "        vertical-align: middle;\n",
       "    }\n",
       "\n",
       "    .dataframe tbody tr th {\n",
       "        vertical-align: top;\n",
       "    }\n",
       "\n",
       "    .dataframe thead th {\n",
       "        text-align: right;\n",
       "    }\n",
       "</style>\n",
       "<table border=\"1\" class=\"dataframe\">\n",
       "  <thead>\n",
       "    <tr style=\"text-align: right;\">\n",
       "      <th></th>\n",
       "      <th>date</th>\n",
       "      <th>final.output.concentrate_ag</th>\n",
       "      <th>final.output.concentrate_pb</th>\n",
       "      <th>final.output.concentrate_sol</th>\n",
       "      <th>final.output.concentrate_au</th>\n",
       "      <th>final.output.recovery</th>\n",
       "      <th>final.output.tail_ag</th>\n",
       "      <th>final.output.tail_pb</th>\n",
       "      <th>final.output.tail_sol</th>\n",
       "      <th>final.output.tail_au</th>\n",
       "      <th>...</th>\n",
       "      <th>secondary_cleaner.state.floatbank4_a_air</th>\n",
       "      <th>secondary_cleaner.state.floatbank4_a_level</th>\n",
       "      <th>secondary_cleaner.state.floatbank4_b_air</th>\n",
       "      <th>secondary_cleaner.state.floatbank4_b_level</th>\n",
       "      <th>secondary_cleaner.state.floatbank5_a_air</th>\n",
       "      <th>secondary_cleaner.state.floatbank5_a_level</th>\n",
       "      <th>secondary_cleaner.state.floatbank5_b_air</th>\n",
       "      <th>secondary_cleaner.state.floatbank5_b_level</th>\n",
       "      <th>secondary_cleaner.state.floatbank6_a_air</th>\n",
       "      <th>secondary_cleaner.state.floatbank6_a_level</th>\n",
       "    </tr>\n",
       "  </thead>\n",
       "  <tbody>\n",
       "    <tr>\n",
       "      <th>0</th>\n",
       "      <td>2016-01-15 00:00:00</td>\n",
       "      <td>6.06</td>\n",
       "      <td>9.89</td>\n",
       "      <td>5.51</td>\n",
       "      <td>42.19</td>\n",
       "      <td>70.54</td>\n",
       "      <td>10.41</td>\n",
       "      <td>0.90</td>\n",
       "      <td>16.90</td>\n",
       "      <td>2.14</td>\n",
       "      <td>...</td>\n",
       "      <td>14.02</td>\n",
       "      <td>-502.49</td>\n",
       "      <td>12.10</td>\n",
       "      <td>-504.72</td>\n",
       "      <td>9.93</td>\n",
       "      <td>-498.31</td>\n",
       "      <td>8.08</td>\n",
       "      <td>-500.47</td>\n",
       "      <td>14.15</td>\n",
       "      <td>-605.84</td>\n",
       "    </tr>\n",
       "    <tr>\n",
       "      <th>1</th>\n",
       "      <td>2016-01-15 01:00:00</td>\n",
       "      <td>6.03</td>\n",
       "      <td>9.97</td>\n",
       "      <td>5.26</td>\n",
       "      <td>42.70</td>\n",
       "      <td>69.27</td>\n",
       "      <td>10.46</td>\n",
       "      <td>0.93</td>\n",
       "      <td>16.63</td>\n",
       "      <td>2.22</td>\n",
       "      <td>...</td>\n",
       "      <td>13.99</td>\n",
       "      <td>-505.50</td>\n",
       "      <td>11.95</td>\n",
       "      <td>-501.33</td>\n",
       "      <td>10.04</td>\n",
       "      <td>-500.17</td>\n",
       "      <td>7.98</td>\n",
       "      <td>-500.58</td>\n",
       "      <td>14.00</td>\n",
       "      <td>-599.79</td>\n",
       "    </tr>\n",
       "  </tbody>\n",
       "</table>\n",
       "<p>2 rows × 87 columns</p>\n",
       "</div>"
      ],
      "text/plain": [
       "                  date  final.output.concentrate_ag  \\\n",
       "0  2016-01-15 00:00:00                         6.06   \n",
       "1  2016-01-15 01:00:00                         6.03   \n",
       "\n",
       "   final.output.concentrate_pb  final.output.concentrate_sol  \\\n",
       "0                         9.89                          5.51   \n",
       "1                         9.97                          5.26   \n",
       "\n",
       "   final.output.concentrate_au  final.output.recovery  final.output.tail_ag  \\\n",
       "0                        42.19                  70.54                 10.41   \n",
       "1                        42.70                  69.27                 10.46   \n",
       "\n",
       "   final.output.tail_pb  final.output.tail_sol  final.output.tail_au  ...  \\\n",
       "0                  0.90                  16.90                  2.14  ...   \n",
       "1                  0.93                  16.63                  2.22  ...   \n",
       "\n",
       "   secondary_cleaner.state.floatbank4_a_air  \\\n",
       "0                                     14.02   \n",
       "1                                     13.99   \n",
       "\n",
       "   secondary_cleaner.state.floatbank4_a_level  \\\n",
       "0                                     -502.49   \n",
       "1                                     -505.50   \n",
       "\n",
       "   secondary_cleaner.state.floatbank4_b_air  \\\n",
       "0                                     12.10   \n",
       "1                                     11.95   \n",
       "\n",
       "   secondary_cleaner.state.floatbank4_b_level  \\\n",
       "0                                     -504.72   \n",
       "1                                     -501.33   \n",
       "\n",
       "   secondary_cleaner.state.floatbank5_a_air  \\\n",
       "0                                      9.93   \n",
       "1                                     10.04   \n",
       "\n",
       "   secondary_cleaner.state.floatbank5_a_level  \\\n",
       "0                                     -498.31   \n",
       "1                                     -500.17   \n",
       "\n",
       "   secondary_cleaner.state.floatbank5_b_air  \\\n",
       "0                                      8.08   \n",
       "1                                      7.98   \n",
       "\n",
       "   secondary_cleaner.state.floatbank5_b_level  \\\n",
       "0                                     -500.47   \n",
       "1                                     -500.58   \n",
       "\n",
       "   secondary_cleaner.state.floatbank6_a_air  \\\n",
       "0                                     14.15   \n",
       "1                                     14.00   \n",
       "\n",
       "   secondary_cleaner.state.floatbank6_a_level  \n",
       "0                                     -605.84  \n",
       "1                                     -599.79  \n",
       "\n",
       "[2 rows x 87 columns]"
      ]
     },
     "execution_count": 4,
     "metadata": {},
     "output_type": "execute_result"
    }
   ],
   "source": [
    "full_df.head(2)"
   ]
  },
  {
   "cell_type": "code",
   "execution_count": 5,
   "metadata": {
    "scrolled": true
   },
   "outputs": [
    {
     "name": "stdout",
     "output_type": "stream",
     "text": [
      "<class 'pandas.core.frame.DataFrame'>\n",
      "RangeIndex: 19439 entries, 0 to 19438\n",
      "Data columns (total 87 columns):\n",
      " #   Column                                              Non-Null Count  Dtype  \n",
      "---  ------                                              --------------  -----  \n",
      " 0   date                                                19439 non-null  object \n",
      " 1   final.output.concentrate_ag                         19438 non-null  float64\n",
      " 2   final.output.concentrate_pb                         19438 non-null  float64\n",
      " 3   final.output.concentrate_sol                        19228 non-null  float64\n",
      " 4   final.output.concentrate_au                         19439 non-null  float64\n",
      " 5   final.output.recovery                               19439 non-null  float64\n",
      " 6   final.output.tail_ag                                19438 non-null  float64\n",
      " 7   final.output.tail_pb                                19338 non-null  float64\n",
      " 8   final.output.tail_sol                               19433 non-null  float64\n",
      " 9   final.output.tail_au                                19439 non-null  float64\n",
      " 10  primary_cleaner.input.sulfate                       19415 non-null  float64\n",
      " 11  primary_cleaner.input.depressant                    19402 non-null  float64\n",
      " 12  primary_cleaner.input.feed_size                     19439 non-null  float64\n",
      " 13  primary_cleaner.input.xanthate                      19335 non-null  float64\n",
      " 14  primary_cleaner.output.concentrate_ag               19439 non-null  float64\n",
      " 15  primary_cleaner.output.concentrate_pb               19323 non-null  float64\n",
      " 16  primary_cleaner.output.concentrate_sol              19069 non-null  float64\n",
      " 17  primary_cleaner.output.concentrate_au               19439 non-null  float64\n",
      " 18  primary_cleaner.output.tail_ag                      19435 non-null  float64\n",
      " 19  primary_cleaner.output.tail_pb                      19418 non-null  float64\n",
      " 20  primary_cleaner.output.tail_sol                     19377 non-null  float64\n",
      " 21  primary_cleaner.output.tail_au                      19439 non-null  float64\n",
      " 22  primary_cleaner.state.floatbank8_a_air              19435 non-null  float64\n",
      " 23  primary_cleaner.state.floatbank8_a_level            19438 non-null  float64\n",
      " 24  primary_cleaner.state.floatbank8_b_air              19435 non-null  float64\n",
      " 25  primary_cleaner.state.floatbank8_b_level            19438 non-null  float64\n",
      " 26  primary_cleaner.state.floatbank8_c_air              19437 non-null  float64\n",
      " 27  primary_cleaner.state.floatbank8_c_level            19438 non-null  float64\n",
      " 28  primary_cleaner.state.floatbank8_d_air              19436 non-null  float64\n",
      " 29  primary_cleaner.state.floatbank8_d_level            19438 non-null  float64\n",
      " 30  rougher.calculation.sulfate_to_au_concentrate       19437 non-null  float64\n",
      " 31  rougher.calculation.floatbank10_sulfate_to_au_feed  19437 non-null  float64\n",
      " 32  rougher.calculation.floatbank11_sulfate_to_au_feed  19437 non-null  float64\n",
      " 33  rougher.calculation.au_pb_ratio                     19439 non-null  float64\n",
      " 34  rougher.input.feed_ag                               19439 non-null  float64\n",
      " 35  rougher.input.feed_pb                               19339 non-null  float64\n",
      " 36  rougher.input.feed_rate                             19428 non-null  float64\n",
      " 37  rougher.input.feed_size                             19294 non-null  float64\n",
      " 38  rougher.input.feed_sol                              19340 non-null  float64\n",
      " 39  rougher.input.feed_au                               19439 non-null  float64\n",
      " 40  rougher.input.floatbank10_sulfate                   19405 non-null  float64\n",
      " 41  rougher.input.floatbank10_xanthate                  19431 non-null  float64\n",
      " 42  rougher.input.floatbank11_sulfate                   19395 non-null  float64\n",
      " 43  rougher.input.floatbank11_xanthate                  18986 non-null  float64\n",
      " 44  rougher.output.concentrate_ag                       19439 non-null  float64\n",
      " 45  rougher.output.concentrate_pb                       19439 non-null  float64\n",
      " 46  rougher.output.concentrate_sol                      19416 non-null  float64\n",
      " 47  rougher.output.concentrate_au                       19439 non-null  float64\n",
      " 48  rougher.output.recovery                             19439 non-null  float64\n",
      " 49  rougher.output.tail_ag                              19438 non-null  float64\n",
      " 50  rougher.output.tail_pb                              19439 non-null  float64\n",
      " 51  rougher.output.tail_sol                             19439 non-null  float64\n",
      " 52  rougher.output.tail_au                              19439 non-null  float64\n",
      " 53  rougher.state.floatbank10_a_air                     19438 non-null  float64\n",
      " 54  rougher.state.floatbank10_a_level                   19438 non-null  float64\n",
      " 55  rougher.state.floatbank10_b_air                     19438 non-null  float64\n",
      " 56  rougher.state.floatbank10_b_level                   19438 non-null  float64\n",
      " 57  rougher.state.floatbank10_c_air                     19438 non-null  float64\n",
      " 58  rougher.state.floatbank10_c_level                   19438 non-null  float64\n",
      " 59  rougher.state.floatbank10_d_air                     19439 non-null  float64\n",
      " 60  rougher.state.floatbank10_d_level                   19439 non-null  float64\n",
      " 61  rougher.state.floatbank10_e_air                     19003 non-null  float64\n",
      " 62  rougher.state.floatbank10_e_level                   19439 non-null  float64\n",
      " 63  rougher.state.floatbank10_f_air                     19439 non-null  float64\n",
      " 64  rougher.state.floatbank10_f_level                   19439 non-null  float64\n",
      " 65  secondary_cleaner.output.tail_ag                    19437 non-null  float64\n",
      " 66  secondary_cleaner.output.tail_pb                    19427 non-null  float64\n",
      " 67  secondary_cleaner.output.tail_sol                   17691 non-null  float64\n",
      " 68  secondary_cleaner.output.tail_au                    19439 non-null  float64\n",
      " 69  secondary_cleaner.state.floatbank2_a_air            19219 non-null  float64\n",
      " 70  secondary_cleaner.state.floatbank2_a_level          19438 non-null  float64\n",
      " 71  secondary_cleaner.state.floatbank2_b_air            19416 non-null  float64\n",
      " 72  secondary_cleaner.state.floatbank2_b_level          19438 non-null  float64\n",
      " 73  secondary_cleaner.state.floatbank3_a_air            19426 non-null  float64\n",
      " 74  secondary_cleaner.state.floatbank3_a_level          19438 non-null  float64\n",
      " 75  secondary_cleaner.state.floatbank3_b_air            19438 non-null  float64\n",
      " 76  secondary_cleaner.state.floatbank3_b_level          19438 non-null  float64\n",
      " 77  secondary_cleaner.state.floatbank4_a_air            19433 non-null  float64\n",
      " 78  secondary_cleaner.state.floatbank4_a_level          19438 non-null  float64\n",
      " 79  secondary_cleaner.state.floatbank4_b_air            19438 non-null  float64\n",
      " 80  secondary_cleaner.state.floatbank4_b_level          19438 non-null  float64\n",
      " 81  secondary_cleaner.state.floatbank5_a_air            19438 non-null  float64\n",
      " 82  secondary_cleaner.state.floatbank5_a_level          19438 non-null  float64\n",
      " 83  secondary_cleaner.state.floatbank5_b_air            19438 non-null  float64\n",
      " 84  secondary_cleaner.state.floatbank5_b_level          19438 non-null  float64\n",
      " 85  secondary_cleaner.state.floatbank6_a_air            19437 non-null  float64\n",
      " 86  secondary_cleaner.state.floatbank6_a_level          19438 non-null  float64\n",
      "dtypes: float64(86), object(1)\n",
      "memory usage: 12.9+ MB\n"
     ]
    }
   ],
   "source": [
    "full_df.info()"
   ]
  },
  {
   "cell_type": "markdown",
   "metadata": {},
   "source": [
    "Получим количество пропусков в процентном соотношении:"
   ]
  },
  {
   "cell_type": "code",
   "execution_count": 6,
   "metadata": {
    "scrolled": true
   },
   "outputs": [
    {
     "data": {
      "text/html": [
       "<style type=\"text/css\">\n",
       "#T_7d3f7_row0_col0, #T_7d3f7_row1_col0, #T_7d3f7_row2_col0, #T_7d3f7_row4_col0, #T_7d3f7_row5_col0, #T_7d3f7_row6_col0, #T_7d3f7_row8_col0, #T_7d3f7_row9_col0, #T_7d3f7_row12_col0, #T_7d3f7_row14_col0, #T_7d3f7_row17_col0, #T_7d3f7_row18_col0, #T_7d3f7_row21_col0, #T_7d3f7_row22_col0, #T_7d3f7_row23_col0, #T_7d3f7_row24_col0, #T_7d3f7_row25_col0, #T_7d3f7_row26_col0, #T_7d3f7_row27_col0, #T_7d3f7_row28_col0, #T_7d3f7_row29_col0, #T_7d3f7_row30_col0, #T_7d3f7_row31_col0, #T_7d3f7_row32_col0, #T_7d3f7_row33_col0, #T_7d3f7_row34_col0, #T_7d3f7_row39_col0, #T_7d3f7_row44_col0, #T_7d3f7_row45_col0, #T_7d3f7_row47_col0, #T_7d3f7_row48_col0, #T_7d3f7_row49_col0, #T_7d3f7_row50_col0, #T_7d3f7_row51_col0, #T_7d3f7_row52_col0, #T_7d3f7_row53_col0, #T_7d3f7_row54_col0, #T_7d3f7_row55_col0, #T_7d3f7_row56_col0, #T_7d3f7_row57_col0, #T_7d3f7_row58_col0, #T_7d3f7_row59_col0, #T_7d3f7_row60_col0, #T_7d3f7_row62_col0, #T_7d3f7_row63_col0, #T_7d3f7_row64_col0, #T_7d3f7_row65_col0, #T_7d3f7_row68_col0, #T_7d3f7_row70_col0, #T_7d3f7_row72_col0, #T_7d3f7_row74_col0, #T_7d3f7_row75_col0, #T_7d3f7_row76_col0, #T_7d3f7_row77_col0, #T_7d3f7_row78_col0, #T_7d3f7_row79_col0, #T_7d3f7_row80_col0, #T_7d3f7_row81_col0, #T_7d3f7_row82_col0, #T_7d3f7_row83_col0, #T_7d3f7_row84_col0, #T_7d3f7_row85_col0, #T_7d3f7_row86_col0 {\n",
       "  background-color: #3b4cc0;\n",
       "  color: #f1f1f1;\n",
       "}\n",
       "#T_7d3f7_row3_col0 {\n",
       "  background-color: #6180e9;\n",
       "  color: #f1f1f1;\n",
       "}\n",
       "#T_7d3f7_row7_col0, #T_7d3f7_row35_col0, #T_7d3f7_row38_col0 {\n",
       "  background-color: #4b64d5;\n",
       "  color: #f1f1f1;\n",
       "}\n",
       "#T_7d3f7_row10_col0, #T_7d3f7_row19_col0, #T_7d3f7_row46_col0, #T_7d3f7_row71_col0 {\n",
       "  background-color: #3e51c5;\n",
       "  color: #f1f1f1;\n",
       "}\n",
       "#T_7d3f7_row11_col0 {\n",
       "  background-color: #4055c8;\n",
       "  color: #f1f1f1;\n",
       "}\n",
       "#T_7d3f7_row13_col0 {\n",
       "  background-color: #4c66d6;\n",
       "  color: #f1f1f1;\n",
       "}\n",
       "#T_7d3f7_row15_col0 {\n",
       "  background-color: #4f69d9;\n",
       "  color: #f1f1f1;\n",
       "}\n",
       "#T_7d3f7_row16_col0 {\n",
       "  background-color: #80a3fa;\n",
       "  color: #f1f1f1;\n",
       "}\n",
       "#T_7d3f7_row20_col0 {\n",
       "  background-color: #455cce;\n",
       "  color: #f1f1f1;\n",
       "}\n",
       "#T_7d3f7_row36_col0, #T_7d3f7_row41_col0, #T_7d3f7_row66_col0, #T_7d3f7_row73_col0 {\n",
       "  background-color: #3c4ec2;\n",
       "  color: #f1f1f1;\n",
       "}\n",
       "#T_7d3f7_row37_col0 {\n",
       "  background-color: #5470de;\n",
       "  color: #f1f1f1;\n",
       "}\n",
       "#T_7d3f7_row40_col0 {\n",
       "  background-color: #3f53c6;\n",
       "  color: #f1f1f1;\n",
       "}\n",
       "#T_7d3f7_row42_col0 {\n",
       "  background-color: #4257c9;\n",
       "  color: #f1f1f1;\n",
       "}\n",
       "#T_7d3f7_row43_col0 {\n",
       "  background-color: #90b2fe;\n",
       "  color: #000000;\n",
       "}\n",
       "#T_7d3f7_row61_col0 {\n",
       "  background-color: #8caffe;\n",
       "  color: #000000;\n",
       "}\n",
       "#T_7d3f7_row67_col0 {\n",
       "  background-color: #b40426;\n",
       "  color: #f1f1f1;\n",
       "}\n",
       "#T_7d3f7_row69_col0 {\n",
       "  background-color: #6282ea;\n",
       "  color: #f1f1f1;\n",
       "}\n",
       "</style>\n",
       "<table id=\"T_7d3f7_\">\n",
       "  <thead>\n",
       "    <tr>\n",
       "      <th class=\"blank level0\" >&nbsp;</th>\n",
       "      <th class=\"col_heading level0 col0\" >0</th>\n",
       "    </tr>\n",
       "  </thead>\n",
       "  <tbody>\n",
       "    <tr>\n",
       "      <th id=\"T_7d3f7_level0_row0\" class=\"row_heading level0 row0\" >date</th>\n",
       "      <td id=\"T_7d3f7_row0_col0\" class=\"data row0 col0\" >0.000000</td>\n",
       "    </tr>\n",
       "    <tr>\n",
       "      <th id=\"T_7d3f7_level0_row1\" class=\"row_heading level0 row1\" >final.output.concentrate_ag</th>\n",
       "      <td id=\"T_7d3f7_row1_col0\" class=\"data row1 col0\" >0.010000</td>\n",
       "    </tr>\n",
       "    <tr>\n",
       "      <th id=\"T_7d3f7_level0_row2\" class=\"row_heading level0 row2\" >final.output.concentrate_pb</th>\n",
       "      <td id=\"T_7d3f7_row2_col0\" class=\"data row2 col0\" >0.010000</td>\n",
       "    </tr>\n",
       "    <tr>\n",
       "      <th id=\"T_7d3f7_level0_row3\" class=\"row_heading level0 row3\" >final.output.concentrate_sol</th>\n",
       "      <td id=\"T_7d3f7_row3_col0\" class=\"data row3 col0\" >1.090000</td>\n",
       "    </tr>\n",
       "    <tr>\n",
       "      <th id=\"T_7d3f7_level0_row4\" class=\"row_heading level0 row4\" >final.output.concentrate_au</th>\n",
       "      <td id=\"T_7d3f7_row4_col0\" class=\"data row4 col0\" >0.000000</td>\n",
       "    </tr>\n",
       "    <tr>\n",
       "      <th id=\"T_7d3f7_level0_row5\" class=\"row_heading level0 row5\" >final.output.recovery</th>\n",
       "      <td id=\"T_7d3f7_row5_col0\" class=\"data row5 col0\" >0.000000</td>\n",
       "    </tr>\n",
       "    <tr>\n",
       "      <th id=\"T_7d3f7_level0_row6\" class=\"row_heading level0 row6\" >final.output.tail_ag</th>\n",
       "      <td id=\"T_7d3f7_row6_col0\" class=\"data row6 col0\" >0.010000</td>\n",
       "    </tr>\n",
       "    <tr>\n",
       "      <th id=\"T_7d3f7_level0_row7\" class=\"row_heading level0 row7\" >final.output.tail_pb</th>\n",
       "      <td id=\"T_7d3f7_row7_col0\" class=\"data row7 col0\" >0.520000</td>\n",
       "    </tr>\n",
       "    <tr>\n",
       "      <th id=\"T_7d3f7_level0_row8\" class=\"row_heading level0 row8\" >final.output.tail_sol</th>\n",
       "      <td id=\"T_7d3f7_row8_col0\" class=\"data row8 col0\" >0.030000</td>\n",
       "    </tr>\n",
       "    <tr>\n",
       "      <th id=\"T_7d3f7_level0_row9\" class=\"row_heading level0 row9\" >final.output.tail_au</th>\n",
       "      <td id=\"T_7d3f7_row9_col0\" class=\"data row9 col0\" >0.000000</td>\n",
       "    </tr>\n",
       "    <tr>\n",
       "      <th id=\"T_7d3f7_level0_row10\" class=\"row_heading level0 row10\" >primary_cleaner.input.sulfate</th>\n",
       "      <td id=\"T_7d3f7_row10_col0\" class=\"data row10 col0\" >0.120000</td>\n",
       "    </tr>\n",
       "    <tr>\n",
       "      <th id=\"T_7d3f7_level0_row11\" class=\"row_heading level0 row11\" >primary_cleaner.input.depressant</th>\n",
       "      <td id=\"T_7d3f7_row11_col0\" class=\"data row11 col0\" >0.190000</td>\n",
       "    </tr>\n",
       "    <tr>\n",
       "      <th id=\"T_7d3f7_level0_row12\" class=\"row_heading level0 row12\" >primary_cleaner.input.feed_size</th>\n",
       "      <td id=\"T_7d3f7_row12_col0\" class=\"data row12 col0\" >0.000000</td>\n",
       "    </tr>\n",
       "    <tr>\n",
       "      <th id=\"T_7d3f7_level0_row13\" class=\"row_heading level0 row13\" >primary_cleaner.input.xanthate</th>\n",
       "      <td id=\"T_7d3f7_row13_col0\" class=\"data row13 col0\" >0.540000</td>\n",
       "    </tr>\n",
       "    <tr>\n",
       "      <th id=\"T_7d3f7_level0_row14\" class=\"row_heading level0 row14\" >primary_cleaner.output.concentrate_ag</th>\n",
       "      <td id=\"T_7d3f7_row14_col0\" class=\"data row14 col0\" >0.000000</td>\n",
       "    </tr>\n",
       "    <tr>\n",
       "      <th id=\"T_7d3f7_level0_row15\" class=\"row_heading level0 row15\" >primary_cleaner.output.concentrate_pb</th>\n",
       "      <td id=\"T_7d3f7_row15_col0\" class=\"data row15 col0\" >0.600000</td>\n",
       "    </tr>\n",
       "    <tr>\n",
       "      <th id=\"T_7d3f7_level0_row16\" class=\"row_heading level0 row16\" >primary_cleaner.output.concentrate_sol</th>\n",
       "      <td id=\"T_7d3f7_row16_col0\" class=\"data row16 col0\" >1.900000</td>\n",
       "    </tr>\n",
       "    <tr>\n",
       "      <th id=\"T_7d3f7_level0_row17\" class=\"row_heading level0 row17\" >primary_cleaner.output.concentrate_au</th>\n",
       "      <td id=\"T_7d3f7_row17_col0\" class=\"data row17 col0\" >0.000000</td>\n",
       "    </tr>\n",
       "    <tr>\n",
       "      <th id=\"T_7d3f7_level0_row18\" class=\"row_heading level0 row18\" >primary_cleaner.output.tail_ag</th>\n",
       "      <td id=\"T_7d3f7_row18_col0\" class=\"data row18 col0\" >0.020000</td>\n",
       "    </tr>\n",
       "    <tr>\n",
       "      <th id=\"T_7d3f7_level0_row19\" class=\"row_heading level0 row19\" >primary_cleaner.output.tail_pb</th>\n",
       "      <td id=\"T_7d3f7_row19_col0\" class=\"data row19 col0\" >0.110000</td>\n",
       "    </tr>\n",
       "    <tr>\n",
       "      <th id=\"T_7d3f7_level0_row20\" class=\"row_heading level0 row20\" >primary_cleaner.output.tail_sol</th>\n",
       "      <td id=\"T_7d3f7_row20_col0\" class=\"data row20 col0\" >0.320000</td>\n",
       "    </tr>\n",
       "    <tr>\n",
       "      <th id=\"T_7d3f7_level0_row21\" class=\"row_heading level0 row21\" >primary_cleaner.output.tail_au</th>\n",
       "      <td id=\"T_7d3f7_row21_col0\" class=\"data row21 col0\" >0.000000</td>\n",
       "    </tr>\n",
       "    <tr>\n",
       "      <th id=\"T_7d3f7_level0_row22\" class=\"row_heading level0 row22\" >primary_cleaner.state.floatbank8_a_air</th>\n",
       "      <td id=\"T_7d3f7_row22_col0\" class=\"data row22 col0\" >0.020000</td>\n",
       "    </tr>\n",
       "    <tr>\n",
       "      <th id=\"T_7d3f7_level0_row23\" class=\"row_heading level0 row23\" >primary_cleaner.state.floatbank8_a_level</th>\n",
       "      <td id=\"T_7d3f7_row23_col0\" class=\"data row23 col0\" >0.010000</td>\n",
       "    </tr>\n",
       "    <tr>\n",
       "      <th id=\"T_7d3f7_level0_row24\" class=\"row_heading level0 row24\" >primary_cleaner.state.floatbank8_b_air</th>\n",
       "      <td id=\"T_7d3f7_row24_col0\" class=\"data row24 col0\" >0.020000</td>\n",
       "    </tr>\n",
       "    <tr>\n",
       "      <th id=\"T_7d3f7_level0_row25\" class=\"row_heading level0 row25\" >primary_cleaner.state.floatbank8_b_level</th>\n",
       "      <td id=\"T_7d3f7_row25_col0\" class=\"data row25 col0\" >0.010000</td>\n",
       "    </tr>\n",
       "    <tr>\n",
       "      <th id=\"T_7d3f7_level0_row26\" class=\"row_heading level0 row26\" >primary_cleaner.state.floatbank8_c_air</th>\n",
       "      <td id=\"T_7d3f7_row26_col0\" class=\"data row26 col0\" >0.010000</td>\n",
       "    </tr>\n",
       "    <tr>\n",
       "      <th id=\"T_7d3f7_level0_row27\" class=\"row_heading level0 row27\" >primary_cleaner.state.floatbank8_c_level</th>\n",
       "      <td id=\"T_7d3f7_row27_col0\" class=\"data row27 col0\" >0.010000</td>\n",
       "    </tr>\n",
       "    <tr>\n",
       "      <th id=\"T_7d3f7_level0_row28\" class=\"row_heading level0 row28\" >primary_cleaner.state.floatbank8_d_air</th>\n",
       "      <td id=\"T_7d3f7_row28_col0\" class=\"data row28 col0\" >0.020000</td>\n",
       "    </tr>\n",
       "    <tr>\n",
       "      <th id=\"T_7d3f7_level0_row29\" class=\"row_heading level0 row29\" >primary_cleaner.state.floatbank8_d_level</th>\n",
       "      <td id=\"T_7d3f7_row29_col0\" class=\"data row29 col0\" >0.010000</td>\n",
       "    </tr>\n",
       "    <tr>\n",
       "      <th id=\"T_7d3f7_level0_row30\" class=\"row_heading level0 row30\" >rougher.calculation.sulfate_to_au_concentrate</th>\n",
       "      <td id=\"T_7d3f7_row30_col0\" class=\"data row30 col0\" >0.010000</td>\n",
       "    </tr>\n",
       "    <tr>\n",
       "      <th id=\"T_7d3f7_level0_row31\" class=\"row_heading level0 row31\" >rougher.calculation.floatbank10_sulfate_to_au_feed</th>\n",
       "      <td id=\"T_7d3f7_row31_col0\" class=\"data row31 col0\" >0.010000</td>\n",
       "    </tr>\n",
       "    <tr>\n",
       "      <th id=\"T_7d3f7_level0_row32\" class=\"row_heading level0 row32\" >rougher.calculation.floatbank11_sulfate_to_au_feed</th>\n",
       "      <td id=\"T_7d3f7_row32_col0\" class=\"data row32 col0\" >0.010000</td>\n",
       "    </tr>\n",
       "    <tr>\n",
       "      <th id=\"T_7d3f7_level0_row33\" class=\"row_heading level0 row33\" >rougher.calculation.au_pb_ratio</th>\n",
       "      <td id=\"T_7d3f7_row33_col0\" class=\"data row33 col0\" >0.000000</td>\n",
       "    </tr>\n",
       "    <tr>\n",
       "      <th id=\"T_7d3f7_level0_row34\" class=\"row_heading level0 row34\" >rougher.input.feed_ag</th>\n",
       "      <td id=\"T_7d3f7_row34_col0\" class=\"data row34 col0\" >0.000000</td>\n",
       "    </tr>\n",
       "    <tr>\n",
       "      <th id=\"T_7d3f7_level0_row35\" class=\"row_heading level0 row35\" >rougher.input.feed_pb</th>\n",
       "      <td id=\"T_7d3f7_row35_col0\" class=\"data row35 col0\" >0.510000</td>\n",
       "    </tr>\n",
       "    <tr>\n",
       "      <th id=\"T_7d3f7_level0_row36\" class=\"row_heading level0 row36\" >rougher.input.feed_rate</th>\n",
       "      <td id=\"T_7d3f7_row36_col0\" class=\"data row36 col0\" >0.060000</td>\n",
       "    </tr>\n",
       "    <tr>\n",
       "      <th id=\"T_7d3f7_level0_row37\" class=\"row_heading level0 row37\" >rougher.input.feed_size</th>\n",
       "      <td id=\"T_7d3f7_row37_col0\" class=\"data row37 col0\" >0.750000</td>\n",
       "    </tr>\n",
       "    <tr>\n",
       "      <th id=\"T_7d3f7_level0_row38\" class=\"row_heading level0 row38\" >rougher.input.feed_sol</th>\n",
       "      <td id=\"T_7d3f7_row38_col0\" class=\"data row38 col0\" >0.510000</td>\n",
       "    </tr>\n",
       "    <tr>\n",
       "      <th id=\"T_7d3f7_level0_row39\" class=\"row_heading level0 row39\" >rougher.input.feed_au</th>\n",
       "      <td id=\"T_7d3f7_row39_col0\" class=\"data row39 col0\" >0.000000</td>\n",
       "    </tr>\n",
       "    <tr>\n",
       "      <th id=\"T_7d3f7_level0_row40\" class=\"row_heading level0 row40\" >rougher.input.floatbank10_sulfate</th>\n",
       "      <td id=\"T_7d3f7_row40_col0\" class=\"data row40 col0\" >0.170000</td>\n",
       "    </tr>\n",
       "    <tr>\n",
       "      <th id=\"T_7d3f7_level0_row41\" class=\"row_heading level0 row41\" >rougher.input.floatbank10_xanthate</th>\n",
       "      <td id=\"T_7d3f7_row41_col0\" class=\"data row41 col0\" >0.040000</td>\n",
       "    </tr>\n",
       "    <tr>\n",
       "      <th id=\"T_7d3f7_level0_row42\" class=\"row_heading level0 row42\" >rougher.input.floatbank11_sulfate</th>\n",
       "      <td id=\"T_7d3f7_row42_col0\" class=\"data row42 col0\" >0.230000</td>\n",
       "    </tr>\n",
       "    <tr>\n",
       "      <th id=\"T_7d3f7_level0_row43\" class=\"row_heading level0 row43\" >rougher.input.floatbank11_xanthate</th>\n",
       "      <td id=\"T_7d3f7_row43_col0\" class=\"data row43 col0\" >2.330000</td>\n",
       "    </tr>\n",
       "    <tr>\n",
       "      <th id=\"T_7d3f7_level0_row44\" class=\"row_heading level0 row44\" >rougher.output.concentrate_ag</th>\n",
       "      <td id=\"T_7d3f7_row44_col0\" class=\"data row44 col0\" >0.000000</td>\n",
       "    </tr>\n",
       "    <tr>\n",
       "      <th id=\"T_7d3f7_level0_row45\" class=\"row_heading level0 row45\" >rougher.output.concentrate_pb</th>\n",
       "      <td id=\"T_7d3f7_row45_col0\" class=\"data row45 col0\" >0.000000</td>\n",
       "    </tr>\n",
       "    <tr>\n",
       "      <th id=\"T_7d3f7_level0_row46\" class=\"row_heading level0 row46\" >rougher.output.concentrate_sol</th>\n",
       "      <td id=\"T_7d3f7_row46_col0\" class=\"data row46 col0\" >0.120000</td>\n",
       "    </tr>\n",
       "    <tr>\n",
       "      <th id=\"T_7d3f7_level0_row47\" class=\"row_heading level0 row47\" >rougher.output.concentrate_au</th>\n",
       "      <td id=\"T_7d3f7_row47_col0\" class=\"data row47 col0\" >0.000000</td>\n",
       "    </tr>\n",
       "    <tr>\n",
       "      <th id=\"T_7d3f7_level0_row48\" class=\"row_heading level0 row48\" >rougher.output.recovery</th>\n",
       "      <td id=\"T_7d3f7_row48_col0\" class=\"data row48 col0\" >0.000000</td>\n",
       "    </tr>\n",
       "    <tr>\n",
       "      <th id=\"T_7d3f7_level0_row49\" class=\"row_heading level0 row49\" >rougher.output.tail_ag</th>\n",
       "      <td id=\"T_7d3f7_row49_col0\" class=\"data row49 col0\" >0.010000</td>\n",
       "    </tr>\n",
       "    <tr>\n",
       "      <th id=\"T_7d3f7_level0_row50\" class=\"row_heading level0 row50\" >rougher.output.tail_pb</th>\n",
       "      <td id=\"T_7d3f7_row50_col0\" class=\"data row50 col0\" >0.000000</td>\n",
       "    </tr>\n",
       "    <tr>\n",
       "      <th id=\"T_7d3f7_level0_row51\" class=\"row_heading level0 row51\" >rougher.output.tail_sol</th>\n",
       "      <td id=\"T_7d3f7_row51_col0\" class=\"data row51 col0\" >0.000000</td>\n",
       "    </tr>\n",
       "    <tr>\n",
       "      <th id=\"T_7d3f7_level0_row52\" class=\"row_heading level0 row52\" >rougher.output.tail_au</th>\n",
       "      <td id=\"T_7d3f7_row52_col0\" class=\"data row52 col0\" >0.000000</td>\n",
       "    </tr>\n",
       "    <tr>\n",
       "      <th id=\"T_7d3f7_level0_row53\" class=\"row_heading level0 row53\" >rougher.state.floatbank10_a_air</th>\n",
       "      <td id=\"T_7d3f7_row53_col0\" class=\"data row53 col0\" >0.010000</td>\n",
       "    </tr>\n",
       "    <tr>\n",
       "      <th id=\"T_7d3f7_level0_row54\" class=\"row_heading level0 row54\" >rougher.state.floatbank10_a_level</th>\n",
       "      <td id=\"T_7d3f7_row54_col0\" class=\"data row54 col0\" >0.010000</td>\n",
       "    </tr>\n",
       "    <tr>\n",
       "      <th id=\"T_7d3f7_level0_row55\" class=\"row_heading level0 row55\" >rougher.state.floatbank10_b_air</th>\n",
       "      <td id=\"T_7d3f7_row55_col0\" class=\"data row55 col0\" >0.010000</td>\n",
       "    </tr>\n",
       "    <tr>\n",
       "      <th id=\"T_7d3f7_level0_row56\" class=\"row_heading level0 row56\" >rougher.state.floatbank10_b_level</th>\n",
       "      <td id=\"T_7d3f7_row56_col0\" class=\"data row56 col0\" >0.010000</td>\n",
       "    </tr>\n",
       "    <tr>\n",
       "      <th id=\"T_7d3f7_level0_row57\" class=\"row_heading level0 row57\" >rougher.state.floatbank10_c_air</th>\n",
       "      <td id=\"T_7d3f7_row57_col0\" class=\"data row57 col0\" >0.010000</td>\n",
       "    </tr>\n",
       "    <tr>\n",
       "      <th id=\"T_7d3f7_level0_row58\" class=\"row_heading level0 row58\" >rougher.state.floatbank10_c_level</th>\n",
       "      <td id=\"T_7d3f7_row58_col0\" class=\"data row58 col0\" >0.010000</td>\n",
       "    </tr>\n",
       "    <tr>\n",
       "      <th id=\"T_7d3f7_level0_row59\" class=\"row_heading level0 row59\" >rougher.state.floatbank10_d_air</th>\n",
       "      <td id=\"T_7d3f7_row59_col0\" class=\"data row59 col0\" >0.000000</td>\n",
       "    </tr>\n",
       "    <tr>\n",
       "      <th id=\"T_7d3f7_level0_row60\" class=\"row_heading level0 row60\" >rougher.state.floatbank10_d_level</th>\n",
       "      <td id=\"T_7d3f7_row60_col0\" class=\"data row60 col0\" >0.000000</td>\n",
       "    </tr>\n",
       "    <tr>\n",
       "      <th id=\"T_7d3f7_level0_row61\" class=\"row_heading level0 row61\" >rougher.state.floatbank10_e_air</th>\n",
       "      <td id=\"T_7d3f7_row61_col0\" class=\"data row61 col0\" >2.240000</td>\n",
       "    </tr>\n",
       "    <tr>\n",
       "      <th id=\"T_7d3f7_level0_row62\" class=\"row_heading level0 row62\" >rougher.state.floatbank10_e_level</th>\n",
       "      <td id=\"T_7d3f7_row62_col0\" class=\"data row62 col0\" >0.000000</td>\n",
       "    </tr>\n",
       "    <tr>\n",
       "      <th id=\"T_7d3f7_level0_row63\" class=\"row_heading level0 row63\" >rougher.state.floatbank10_f_air</th>\n",
       "      <td id=\"T_7d3f7_row63_col0\" class=\"data row63 col0\" >0.000000</td>\n",
       "    </tr>\n",
       "    <tr>\n",
       "      <th id=\"T_7d3f7_level0_row64\" class=\"row_heading level0 row64\" >rougher.state.floatbank10_f_level</th>\n",
       "      <td id=\"T_7d3f7_row64_col0\" class=\"data row64 col0\" >0.000000</td>\n",
       "    </tr>\n",
       "    <tr>\n",
       "      <th id=\"T_7d3f7_level0_row65\" class=\"row_heading level0 row65\" >secondary_cleaner.output.tail_ag</th>\n",
       "      <td id=\"T_7d3f7_row65_col0\" class=\"data row65 col0\" >0.010000</td>\n",
       "    </tr>\n",
       "    <tr>\n",
       "      <th id=\"T_7d3f7_level0_row66\" class=\"row_heading level0 row66\" >secondary_cleaner.output.tail_pb</th>\n",
       "      <td id=\"T_7d3f7_row66_col0\" class=\"data row66 col0\" >0.060000</td>\n",
       "    </tr>\n",
       "    <tr>\n",
       "      <th id=\"T_7d3f7_level0_row67\" class=\"row_heading level0 row67\" >secondary_cleaner.output.tail_sol</th>\n",
       "      <td id=\"T_7d3f7_row67_col0\" class=\"data row67 col0\" >8.990000</td>\n",
       "    </tr>\n",
       "    <tr>\n",
       "      <th id=\"T_7d3f7_level0_row68\" class=\"row_heading level0 row68\" >secondary_cleaner.output.tail_au</th>\n",
       "      <td id=\"T_7d3f7_row68_col0\" class=\"data row68 col0\" >0.000000</td>\n",
       "    </tr>\n",
       "    <tr>\n",
       "      <th id=\"T_7d3f7_level0_row69\" class=\"row_heading level0 row69\" >secondary_cleaner.state.floatbank2_a_air</th>\n",
       "      <td id=\"T_7d3f7_row69_col0\" class=\"data row69 col0\" >1.130000</td>\n",
       "    </tr>\n",
       "    <tr>\n",
       "      <th id=\"T_7d3f7_level0_row70\" class=\"row_heading level0 row70\" >secondary_cleaner.state.floatbank2_a_level</th>\n",
       "      <td id=\"T_7d3f7_row70_col0\" class=\"data row70 col0\" >0.010000</td>\n",
       "    </tr>\n",
       "    <tr>\n",
       "      <th id=\"T_7d3f7_level0_row71\" class=\"row_heading level0 row71\" >secondary_cleaner.state.floatbank2_b_air</th>\n",
       "      <td id=\"T_7d3f7_row71_col0\" class=\"data row71 col0\" >0.120000</td>\n",
       "    </tr>\n",
       "    <tr>\n",
       "      <th id=\"T_7d3f7_level0_row72\" class=\"row_heading level0 row72\" >secondary_cleaner.state.floatbank2_b_level</th>\n",
       "      <td id=\"T_7d3f7_row72_col0\" class=\"data row72 col0\" >0.010000</td>\n",
       "    </tr>\n",
       "    <tr>\n",
       "      <th id=\"T_7d3f7_level0_row73\" class=\"row_heading level0 row73\" >secondary_cleaner.state.floatbank3_a_air</th>\n",
       "      <td id=\"T_7d3f7_row73_col0\" class=\"data row73 col0\" >0.070000</td>\n",
       "    </tr>\n",
       "    <tr>\n",
       "      <th id=\"T_7d3f7_level0_row74\" class=\"row_heading level0 row74\" >secondary_cleaner.state.floatbank3_a_level</th>\n",
       "      <td id=\"T_7d3f7_row74_col0\" class=\"data row74 col0\" >0.010000</td>\n",
       "    </tr>\n",
       "    <tr>\n",
       "      <th id=\"T_7d3f7_level0_row75\" class=\"row_heading level0 row75\" >secondary_cleaner.state.floatbank3_b_air</th>\n",
       "      <td id=\"T_7d3f7_row75_col0\" class=\"data row75 col0\" >0.010000</td>\n",
       "    </tr>\n",
       "    <tr>\n",
       "      <th id=\"T_7d3f7_level0_row76\" class=\"row_heading level0 row76\" >secondary_cleaner.state.floatbank3_b_level</th>\n",
       "      <td id=\"T_7d3f7_row76_col0\" class=\"data row76 col0\" >0.010000</td>\n",
       "    </tr>\n",
       "    <tr>\n",
       "      <th id=\"T_7d3f7_level0_row77\" class=\"row_heading level0 row77\" >secondary_cleaner.state.floatbank4_a_air</th>\n",
       "      <td id=\"T_7d3f7_row77_col0\" class=\"data row77 col0\" >0.030000</td>\n",
       "    </tr>\n",
       "    <tr>\n",
       "      <th id=\"T_7d3f7_level0_row78\" class=\"row_heading level0 row78\" >secondary_cleaner.state.floatbank4_a_level</th>\n",
       "      <td id=\"T_7d3f7_row78_col0\" class=\"data row78 col0\" >0.010000</td>\n",
       "    </tr>\n",
       "    <tr>\n",
       "      <th id=\"T_7d3f7_level0_row79\" class=\"row_heading level0 row79\" >secondary_cleaner.state.floatbank4_b_air</th>\n",
       "      <td id=\"T_7d3f7_row79_col0\" class=\"data row79 col0\" >0.010000</td>\n",
       "    </tr>\n",
       "    <tr>\n",
       "      <th id=\"T_7d3f7_level0_row80\" class=\"row_heading level0 row80\" >secondary_cleaner.state.floatbank4_b_level</th>\n",
       "      <td id=\"T_7d3f7_row80_col0\" class=\"data row80 col0\" >0.010000</td>\n",
       "    </tr>\n",
       "    <tr>\n",
       "      <th id=\"T_7d3f7_level0_row81\" class=\"row_heading level0 row81\" >secondary_cleaner.state.floatbank5_a_air</th>\n",
       "      <td id=\"T_7d3f7_row81_col0\" class=\"data row81 col0\" >0.010000</td>\n",
       "    </tr>\n",
       "    <tr>\n",
       "      <th id=\"T_7d3f7_level0_row82\" class=\"row_heading level0 row82\" >secondary_cleaner.state.floatbank5_a_level</th>\n",
       "      <td id=\"T_7d3f7_row82_col0\" class=\"data row82 col0\" >0.010000</td>\n",
       "    </tr>\n",
       "    <tr>\n",
       "      <th id=\"T_7d3f7_level0_row83\" class=\"row_heading level0 row83\" >secondary_cleaner.state.floatbank5_b_air</th>\n",
       "      <td id=\"T_7d3f7_row83_col0\" class=\"data row83 col0\" >0.010000</td>\n",
       "    </tr>\n",
       "    <tr>\n",
       "      <th id=\"T_7d3f7_level0_row84\" class=\"row_heading level0 row84\" >secondary_cleaner.state.floatbank5_b_level</th>\n",
       "      <td id=\"T_7d3f7_row84_col0\" class=\"data row84 col0\" >0.010000</td>\n",
       "    </tr>\n",
       "    <tr>\n",
       "      <th id=\"T_7d3f7_level0_row85\" class=\"row_heading level0 row85\" >secondary_cleaner.state.floatbank6_a_air</th>\n",
       "      <td id=\"T_7d3f7_row85_col0\" class=\"data row85 col0\" >0.010000</td>\n",
       "    </tr>\n",
       "    <tr>\n",
       "      <th id=\"T_7d3f7_level0_row86\" class=\"row_heading level0 row86\" >secondary_cleaner.state.floatbank6_a_level</th>\n",
       "      <td id=\"T_7d3f7_row86_col0\" class=\"data row86 col0\" >0.010000</td>\n",
       "    </tr>\n",
       "  </tbody>\n",
       "</table>\n"
      ],
      "text/plain": [
       "<pandas.io.formats.style.Styler at 0x26a02efa550>"
      ]
     },
     "execution_count": 6,
     "metadata": {},
     "output_type": "execute_result"
    }
   ],
   "source": [
    "pd.DataFrame(round((full_df.isna().mean()*100),2)).style.background_gradient('coolwarm')"
   ]
  },
  {
   "cell_type": "markdown",
   "metadata": {},
   "source": [
    "----\n",
    "**Промежуточный вывод**\n",
    "\n",
    "Данные насчитывают большое количество столбцов, преимущественно представляющих собой значения типа *float64*. Из несовпадащих типов наблюдается только тип *object* у столбца `date`\n",
    "\n",
    "Количество пропусков - разнообразно, и в большинстве своём не превышает 3х процентов, наибольшее же значение имеет столбец `secondary_cleaner.output.tail_sol`, насчитывающий **9%** пропусков. Часть пропущенных данных, представляют собой сведения, ещё не определённые на этапе снятия этих саммых данных, т.е. `.output.` и `.calculation.`\n",
    "\n",
    "---"
   ]
  },
  {
   "cell_type": "markdown",
   "metadata": {},
   "source": [
    "### Проверка расчета эффективности обогащения"
   ]
  },
  {
   "cell_type": "markdown",
   "metadata": {},
   "source": [
    "Проверим расчёт эффективности обогащения `rougher.output.recovery` по соответсвующей формуле:"
   ]
  },
  {
   "cell_type": "markdown",
   "metadata": {},
   "source": [
    "<div>\n",
    "<img src=\"https://pictures.s3.yandex.net/resources/Recovery_1576238822.jpg\" width=\"500\" height=\"300\"/>\n",
    "</div>"
   ]
  },
  {
   "cell_type": "markdown",
   "metadata": {},
   "source": [
    "где:\n",
    "- *C* — доля золота в концентрате после флотации `rougher.output.concentrate_au`;\n",
    "- *F* — доля золота в сырье/концентрате до флотации `rougher.input.feed_au`;\n",
    "- *T* — доля золота в отвальных хвостах после флотации `rougher.output.tail_au`."
   ]
  },
  {
   "cell_type": "markdown",
   "metadata": {},
   "source": [
    "Выделим данные переменные"
   ]
  },
  {
   "cell_type": "code",
   "execution_count": 7,
   "metadata": {},
   "outputs": [],
   "source": [
    "formula_C = train_df['rougher.output.concentrate_au']\n",
    "formula_F = train_df['rougher.input.feed_au']\n",
    "formula_T = train_df['rougher.output.tail_au']"
   ]
  },
  {
   "cell_type": "code",
   "execution_count": 8,
   "metadata": {},
   "outputs": [],
   "source": [
    "train_df['rougher.calculation.recovery'] = ((\n",
    "    formula_C * (formula_F - formula_T)) / (\n",
    "    formula_F * (formula_C - formula_T))) * 100"
   ]
  },
  {
   "cell_type": "markdown",
   "metadata": {},
   "source": [
    "И расчитаем **MAE** (mean absolute error)"
   ]
  },
  {
   "cell_type": "code",
   "execution_count": 9,
   "metadata": {},
   "outputs": [
    {
     "name": "stdout",
     "output_type": "stream",
     "text": [
      "MAE: 9.73512347450521e-15\n"
     ]
    }
   ],
   "source": [
    "print(\"MAE:\", mean_absolute_error(\n",
    "    train_df['rougher.calculation.recovery'],\n",
    "    train_df['rougher.output.recovery'])\n",
    "     )"
   ]
  },
  {
   "cell_type": "markdown",
   "metadata": {},
   "source": [
    "----\n",
    "**Промежуточный вывод**\n",
    "\n",
    "Расчётное значение эффективности обогащения `rougher.calculation.recovery` с учётом погрешностей, можно принять как совпавшее полностью с известным значением `rougher.output.recovery`, так как метрика **MAE** представляет собой стремящееся к нулю значение, а именно 9.7e-15 (или более наглядно 0.**00000000000000**97).\n",
    "\n",
    "Следовательно, значение столбца `rougher.output.recovery` - **верны**.\n",
    "\n",
    "\n",
    "---"
   ]
  },
  {
   "cell_type": "markdown",
   "metadata": {},
   "source": [
    "### Анализ отсутствующих признаков"
   ]
  },
  {
   "cell_type": "markdown",
   "metadata": {},
   "source": [
    "Выделим признаки, которых нет в таблице `test_df`, но есть в таблице `train_df`"
   ]
  },
  {
   "cell_type": "code",
   "execution_count": 10,
   "metadata": {
    "scrolled": true
   },
   "outputs": [
    {
     "data": {
      "text/plain": [
       "['final.output.concentrate_ag',\n",
       " 'final.output.concentrate_pb',\n",
       " 'final.output.concentrate_sol',\n",
       " 'final.output.concentrate_au',\n",
       " 'final.output.recovery',\n",
       " 'final.output.tail_ag',\n",
       " 'final.output.tail_pb',\n",
       " 'final.output.tail_sol',\n",
       " 'final.output.tail_au',\n",
       " 'primary_cleaner.output.concentrate_ag',\n",
       " 'primary_cleaner.output.concentrate_pb',\n",
       " 'primary_cleaner.output.concentrate_sol',\n",
       " 'primary_cleaner.output.concentrate_au',\n",
       " 'primary_cleaner.output.tail_ag',\n",
       " 'primary_cleaner.output.tail_pb',\n",
       " 'primary_cleaner.output.tail_sol',\n",
       " 'primary_cleaner.output.tail_au',\n",
       " 'rougher.calculation.sulfate_to_au_concentrate',\n",
       " 'rougher.calculation.floatbank10_sulfate_to_au_feed',\n",
       " 'rougher.calculation.floatbank11_sulfate_to_au_feed',\n",
       " 'rougher.calculation.au_pb_ratio',\n",
       " 'rougher.output.concentrate_ag',\n",
       " 'rougher.output.concentrate_pb',\n",
       " 'rougher.output.concentrate_sol',\n",
       " 'rougher.output.concentrate_au',\n",
       " 'rougher.output.recovery',\n",
       " 'rougher.output.tail_ag',\n",
       " 'rougher.output.tail_pb',\n",
       " 'rougher.output.tail_sol',\n",
       " 'rougher.output.tail_au',\n",
       " 'secondary_cleaner.output.tail_ag',\n",
       " 'secondary_cleaner.output.tail_pb',\n",
       " 'secondary_cleaner.output.tail_sol',\n",
       " 'secondary_cleaner.output.tail_au',\n",
       " 'rougher.calculation.recovery']"
      ]
     },
     "execution_count": 10,
     "metadata": {},
     "output_type": "execute_result"
    }
   ],
   "source": [
    "missing = []\n",
    "for i in train_df.columns.to_list():\n",
    "    if i not in test_df.columns.to_list():\n",
    "        missing.append(i)\n",
    "        \n",
    "missing"
   ]
  },
  {
   "cell_type": "markdown",
   "metadata": {},
   "source": [
    "----\n",
    "**Промежуточный вывод**\n",
    "\n",
    "Наглядно представлено, что пропущенные данные представляют собой сведения, ещё не определённые на этапе снятия этих самых данных (определяемые позже), т.е. `.output.` и `.calculation.`.\n",
    "\n",
    "С учётом того, что при наличии этих данных не представляет сложности вычислить искомые признаки `rougher.output.recovery` (как было проверено ранее, в пункте 1.2) и `final.output.recovery`,  очевидно, что модель машинного обучения должна определять искомые признаки **без этих данных**.\n",
    "\n",
    "---"
   ]
  },
  {
   "cell_type": "markdown",
   "metadata": {},
   "source": [
    "### Предобработка данных"
   ]
  },
  {
   "cell_type": "markdown",
   "metadata": {},
   "source": [
    "На основании вышеопределённого, необходимо выполнить следующие шаги, для подготовки данных к обучению:\n",
    "\n",
    "- изменить тип данных в столбце `date`;\n",
    "- разобраться с оставшимися пропусками;\n",
    "- оставить в тренировочных данных только данные, доступные на этапе предсказания (доступные в тестовой выборке)."
   ]
  },
  {
   "cell_type": "markdown",
   "metadata": {},
   "source": [
    "Сразу заменим тип данных в графе `date` на соответствующий datetime"
   ]
  },
  {
   "cell_type": "code",
   "execution_count": 11,
   "metadata": {},
   "outputs": [],
   "source": [
    "train_df['date'] = pd.to_datetime(train_df['date'], format='%Y-%m-%d %H:%M:%S')\n",
    "test_df['date'] = pd.to_datetime(test_df['date'], format='%Y-%m-%d %H:%M:%S')\n",
    "full_df['date'] = pd.to_datetime(full_df['date'], format='%Y-%m-%d %H:%M:%S')"
   ]
  },
  {
   "cell_type": "markdown",
   "metadata": {},
   "source": [
    "Исходя из технологии процесса, значения изменяются не резко, а с течением времени, т.е. в соседних по времени моментах, значения признаков схожи. В связи с этим воспользуемся заполнением функцией **pandas** `fillna()`, с параметром ***ffill***"
   ]
  },
  {
   "cell_type": "code",
   "execution_count": 12,
   "metadata": {},
   "outputs": [],
   "source": [
    "train_df.fillna(method='ffill', inplace=True)\n",
    "test_df.fillna(method='ffill', inplace=True)"
   ]
  },
  {
   "cell_type": "markdown",
   "metadata": {},
   "source": [
    "Оставим в тренировочных данных только столбцы, аналогичные столбцами из `test_df`. Также для тренировки непригодны данные времени столбца `date`, поэтому он исключается."
   ]
  },
  {
   "cell_type": "code",
   "execution_count": 13,
   "metadata": {},
   "outputs": [],
   "source": [
    "X_train = train_df[test_df.columns].drop(['date'], axis=1).copy()\n",
    "\n",
    "y_train_rough = train_df['rougher.output.recovery'].copy()\n",
    "y_train_final = train_df['final.output.recovery'].copy()\n",
    "\n",
    "test = test_df.drop(['date'], axis=1).copy()"
   ]
  },
  {
   "cell_type": "markdown",
   "metadata": {},
   "source": [
    "Для финальной проверки в тестовой выборке отсутствуют такие столбцы как `rougher.output.recovery` и `final.output.recovery`, содержащие искомые признаки. В связи с тем, что индексы строк не совпадают, восстанавливать данные из **`full_df`** будем опираясь на такой признак, как время, находящееся в столбце `date`"
   ]
  },
  {
   "cell_type": "code",
   "execution_count": 14,
   "metadata": {},
   "outputs": [],
   "source": [
    "X_test = pd.merge(\n",
    "    test_df,\n",
    "    full_df[['date', 'rougher.output.recovery', 'final.output.recovery']],\n",
    "    on=['date']\n",
    ").drop(['date'], axis=1)\n",
    "\n",
    "y_test_rough = X_test.pop('rougher.output.recovery')\n",
    "y_test_final = X_test.pop('final.output.recovery')"
   ]
  },
  {
   "cell_type": "markdown",
   "metadata": {},
   "source": [
    "Определим с помощью коэффициента корреляции Пирсона, показатели, сильно кореллирующие друг с другом:"
   ]
  },
  {
   "cell_type": "code",
   "execution_count": 15,
   "metadata": {},
   "outputs": [],
   "source": [
    "corr_df = pd.DataFrame(X_train.corr().\\\n",
    "                    unstack().\\\n",
    "                    sort_values(ascending=False).\\\n",
    "                    drop_duplicates()[1:],\n",
    "                    columns=['correlation']\n",
    "                   )\n",
    "corr_df.index.rename(['first_feature', 'second_feature'], inplace=True)"
   ]
  },
  {
   "cell_type": "markdown",
   "metadata": {},
   "source": [
    "Выделим из них только те значения, которые коррелируют максимально, с коэффициентом больше **0,9**"
   ]
  },
  {
   "cell_type": "code",
   "execution_count": 16,
   "metadata": {
    "scrolled": false
   },
   "outputs": [
    {
     "data": {
      "text/html": [
       "<div>\n",
       "<style scoped>\n",
       "    .dataframe tbody tr th:only-of-type {\n",
       "        vertical-align: middle;\n",
       "    }\n",
       "\n",
       "    .dataframe tbody tr th {\n",
       "        vertical-align: top;\n",
       "    }\n",
       "\n",
       "    .dataframe thead th {\n",
       "        text-align: right;\n",
       "    }\n",
       "</style>\n",
       "<table border=\"1\" class=\"dataframe\">\n",
       "  <thead>\n",
       "    <tr style=\"text-align: right;\">\n",
       "      <th></th>\n",
       "      <th></th>\n",
       "      <th>correlation</th>\n",
       "    </tr>\n",
       "    <tr>\n",
       "      <th>first_feature</th>\n",
       "      <th>second_feature</th>\n",
       "      <th></th>\n",
       "    </tr>\n",
       "  </thead>\n",
       "  <tbody>\n",
       "    <tr>\n",
       "      <th>rougher.state.floatbank10_e_level</th>\n",
       "      <th>rougher.state.floatbank10_f_level</th>\n",
       "      <td>0.99</td>\n",
       "    </tr>\n",
       "    <tr>\n",
       "      <th>rougher.state.floatbank10_b_level</th>\n",
       "      <th>rougher.state.floatbank10_c_level</th>\n",
       "      <td>0.99</td>\n",
       "    </tr>\n",
       "    <tr>\n",
       "      <th>rougher.state.floatbank10_c_level</th>\n",
       "      <th>rougher.state.floatbank10_d_level</th>\n",
       "      <td>0.99</td>\n",
       "    </tr>\n",
       "    <tr>\n",
       "      <th>rougher.state.floatbank10_e_level</th>\n",
       "      <th>rougher.state.floatbank10_c_level</th>\n",
       "      <td>0.98</td>\n",
       "    </tr>\n",
       "    <tr>\n",
       "      <th>rougher.state.floatbank10_b_level</th>\n",
       "      <th>rougher.state.floatbank10_d_level</th>\n",
       "      <td>0.98</td>\n",
       "    </tr>\n",
       "    <tr>\n",
       "      <th>rougher.state.floatbank10_f_level</th>\n",
       "      <th>rougher.state.floatbank10_c_level</th>\n",
       "      <td>0.98</td>\n",
       "    </tr>\n",
       "    <tr>\n",
       "      <th>rougher.state.floatbank10_e_level</th>\n",
       "      <th>rougher.state.floatbank10_d_level</th>\n",
       "      <td>0.98</td>\n",
       "    </tr>\n",
       "    <tr>\n",
       "      <th>rougher.state.floatbank10_f_level</th>\n",
       "      <th>rougher.state.floatbank10_d_level</th>\n",
       "      <td>0.98</td>\n",
       "    </tr>\n",
       "    <tr>\n",
       "      <th>rougher.state.floatbank10_e_level</th>\n",
       "      <th>rougher.state.floatbank10_b_level</th>\n",
       "      <td>0.97</td>\n",
       "    </tr>\n",
       "    <tr>\n",
       "      <th>rougher.state.floatbank10_f_level</th>\n",
       "      <th>rougher.state.floatbank10_b_level</th>\n",
       "      <td>0.97</td>\n",
       "    </tr>\n",
       "    <tr>\n",
       "      <th>primary_cleaner.state.floatbank8_b_level</th>\n",
       "      <th>primary_cleaner.state.floatbank8_a_level</th>\n",
       "      <td>0.96</td>\n",
       "    </tr>\n",
       "    <tr>\n",
       "      <th>primary_cleaner.state.floatbank8_c_level</th>\n",
       "      <th>primary_cleaner.state.floatbank8_a_level</th>\n",
       "      <td>0.96</td>\n",
       "    </tr>\n",
       "    <tr>\n",
       "      <th>primary_cleaner.state.floatbank8_b_air</th>\n",
       "      <th>primary_cleaner.state.floatbank8_a_air</th>\n",
       "      <td>0.95</td>\n",
       "    </tr>\n",
       "    <tr>\n",
       "      <th>primary_cleaner.state.floatbank8_c_air</th>\n",
       "      <th>primary_cleaner.state.floatbank8_b_air</th>\n",
       "      <td>0.94</td>\n",
       "    </tr>\n",
       "    <tr>\n",
       "      <th>primary_cleaner.state.floatbank8_b_level</th>\n",
       "      <th>primary_cleaner.state.floatbank8_c_level</th>\n",
       "      <td>0.94</td>\n",
       "    </tr>\n",
       "    <tr>\n",
       "      <th>rougher.state.floatbank10_c_air</th>\n",
       "      <th>rougher.state.floatbank10_b_air</th>\n",
       "      <td>0.94</td>\n",
       "    </tr>\n",
       "    <tr>\n",
       "      <th>primary_cleaner.state.floatbank8_a_air</th>\n",
       "      <th>primary_cleaner.state.floatbank8_c_air</th>\n",
       "      <td>0.93</td>\n",
       "    </tr>\n",
       "    <tr>\n",
       "      <th>rougher.state.floatbank10_f_air</th>\n",
       "      <th>rougher.state.floatbank10_e_air</th>\n",
       "      <td>0.93</td>\n",
       "    </tr>\n",
       "    <tr>\n",
       "      <th>rougher.state.floatbank10_b_air</th>\n",
       "      <th>rougher.state.floatbank10_d_air</th>\n",
       "      <td>0.93</td>\n",
       "    </tr>\n",
       "    <tr>\n",
       "      <th>rougher.state.floatbank10_c_air</th>\n",
       "      <th>rougher.state.floatbank10_d_air</th>\n",
       "      <td>0.91</td>\n",
       "    </tr>\n",
       "    <tr>\n",
       "      <th>secondary_cleaner.state.floatbank2_b_level</th>\n",
       "      <th>secondary_cleaner.state.floatbank2_a_level</th>\n",
       "      <td>0.90</td>\n",
       "    </tr>\n",
       "  </tbody>\n",
       "</table>\n",
       "</div>"
      ],
      "text/plain": [
       "                                                                                       correlation\n",
       "first_feature                              second_feature                                         \n",
       "rougher.state.floatbank10_e_level          rougher.state.floatbank10_f_level                  0.99\n",
       "rougher.state.floatbank10_b_level          rougher.state.floatbank10_c_level                  0.99\n",
       "rougher.state.floatbank10_c_level          rougher.state.floatbank10_d_level                  0.99\n",
       "rougher.state.floatbank10_e_level          rougher.state.floatbank10_c_level                  0.98\n",
       "rougher.state.floatbank10_b_level          rougher.state.floatbank10_d_level                  0.98\n",
       "rougher.state.floatbank10_f_level          rougher.state.floatbank10_c_level                  0.98\n",
       "rougher.state.floatbank10_e_level          rougher.state.floatbank10_d_level                  0.98\n",
       "rougher.state.floatbank10_f_level          rougher.state.floatbank10_d_level                  0.98\n",
       "rougher.state.floatbank10_e_level          rougher.state.floatbank10_b_level                  0.97\n",
       "rougher.state.floatbank10_f_level          rougher.state.floatbank10_b_level                  0.97\n",
       "primary_cleaner.state.floatbank8_b_level   primary_cleaner.state.floatbank8_a_level           0.96\n",
       "primary_cleaner.state.floatbank8_c_level   primary_cleaner.state.floatbank8_a_level           0.96\n",
       "primary_cleaner.state.floatbank8_b_air     primary_cleaner.state.floatbank8_a_air             0.95\n",
       "primary_cleaner.state.floatbank8_c_air     primary_cleaner.state.floatbank8_b_air             0.94\n",
       "primary_cleaner.state.floatbank8_b_level   primary_cleaner.state.floatbank8_c_level           0.94\n",
       "rougher.state.floatbank10_c_air            rougher.state.floatbank10_b_air                    0.94\n",
       "primary_cleaner.state.floatbank8_a_air     primary_cleaner.state.floatbank8_c_air             0.93\n",
       "rougher.state.floatbank10_f_air            rougher.state.floatbank10_e_air                    0.93\n",
       "rougher.state.floatbank10_b_air            rougher.state.floatbank10_d_air                    0.93\n",
       "rougher.state.floatbank10_c_air            rougher.state.floatbank10_d_air                    0.91\n",
       "secondary_cleaner.state.floatbank2_b_level secondary_cleaner.state.floatbank2_a_level         0.90"
      ]
     },
     "execution_count": 16,
     "metadata": {},
     "output_type": "execute_result"
    }
   ],
   "source": [
    "biggest_corr_df = corr_df[corr_df['correlation'] > 0.9].copy()\n",
    "\n",
    "biggest_corr_df"
   ]
  },
  {
   "cell_type": "markdown",
   "metadata": {},
   "source": [
    "Как видно, сильнее всего коррелируют параметры состояния флотационных установок, а именно уровень жидкости, и количество воздуха. Это показывает, что параметры в ёмкостях изменяются синхронно, и следовательно, мы можем **удалить** часть столбцов."
   ]
  },
  {
   "cell_type": "code",
   "execution_count": 17,
   "metadata": {},
   "outputs": [],
   "source": [
    "columns_to_drop = biggest_corr_df.reset_index()['second_feature'].to_list()"
   ]
  },
  {
   "cell_type": "markdown",
   "metadata": {},
   "source": [
    "И удалим данные столбцы из тренировочной и тестовой выборки с дополнительной проверкой:"
   ]
  },
  {
   "cell_type": "code",
   "execution_count": 18,
   "metadata": {},
   "outputs": [
    {
     "name": "stdout",
     "output_type": "stream",
     "text": [
      "Удалено столбцов: 13\n",
      "Удалено строк: 0\n"
     ]
    }
   ],
   "source": [
    "train_size_before = X_train.shape\n",
    "X_train.drop(columns=columns_to_drop, inplace=True)\n",
    "\n",
    "print('Удалено столбцов:', train_size_before[1] - X_train.shape[1])\n",
    "print('Удалено строк:', train_size_before[0] - X_train.shape[0])"
   ]
  },
  {
   "cell_type": "markdown",
   "metadata": {},
   "source": [
    "Аналогично очистим `X_test`"
   ]
  },
  {
   "cell_type": "code",
   "execution_count": 19,
   "metadata": {},
   "outputs": [],
   "source": [
    "X_test.drop(columns=columns_to_drop, inplace=True)"
   ]
  },
  {
   "cell_type": "markdown",
   "metadata": {},
   "source": [
    "----\n",
    "**Промежуточный вывод**\n",
    "\n",
    "В рамках предобработки данных были:\n",
    "- восстановлены столбцы `rougher.output.recovery` и `final.output.recovery` в тестовой выборке;\n",
    "- заполнены пропуски;\n",
    "- заменён тип данных столбца `data` во всех таблицах;\n",
    "- удалены сильно коррелирующие признаки.\n",
    "\n",
    "---"
   ]
  },
  {
   "cell_type": "markdown",
   "metadata": {},
   "source": [
    "## Анализ данных"
   ]
  },
  {
   "cell_type": "markdown",
   "metadata": {},
   "source": [
    "### Анализ концентрации металлов (Au, Ag, Pb) на различных этапах очистки."
   ]
  },
  {
   "cell_type": "markdown",
   "metadata": {},
   "source": [
    "Используем самописную функцию `boxplotter()`, выводящую на экран **boxplot** концентрации выбранного металла на разных этапах."
   ]
  },
  {
   "cell_type": "code",
   "execution_count": 20,
   "metadata": {},
   "outputs": [],
   "source": [
    "def boxplotter(metal='au', data=full_df):\n",
    "    metal_list = (\n",
    "    data.filter(like=metal).filter(like='rougher.input').columns.to_list() +\n",
    "    data.filter(like=metal).filter(like='rougher.output').columns.to_list() +  \n",
    "    data.filter(like=metal).filter(like='primary_cleaner').columns.to_list() +\n",
    "    data.filter(like=metal).filter(like='secondary_cleaner').columns.to_list() +\n",
    "    data.filter(like=metal).filter(like='final').columns.to_list()\n",
    "    )\n",
    "    ax = sns.boxplot(\n",
    "        data=data[metal_list],\n",
    "        orient='h'\n",
    "    )\n",
    "    ax.set_title(\"Концентрация металла \" + metal.capitalize() + ' на разных этапах')\n",
    "    ax.set_xlabel(\"Концентрация металла \" + metal.capitalize())\n",
    "    ax.set_ylabel(\"Этапы очистки\")\n",
    "    return plt.show()"
   ]
  },
  {
   "cell_type": "code",
   "execution_count": 21,
   "metadata": {},
   "outputs": [
    {
     "data": {
      "image/png": "[encoded data removed]",
      "text/plain": [
       "<Figure size 1224x504 with 1 Axes>"
      ]
     },
     "metadata": {},
     "output_type": "display_data"
    }
   ],
   "source": [
    "boxplotter('au')"
   ]
  },
  {
   "cell_type": "markdown",
   "metadata": {},
   "source": [
    "**Вывод по графику**\n",
    "\n",
    "По данным графикам видно, что концентрация золота (**Au**), с каждым этапом только растёт, в то время как концентрация золота в \"хвостах\" минимальна, что абсолютно логично, в связи с самой сутью данного процесса обогащения (получение максимальной концентрации золота).\n",
    "\n",
    "---"
   ]
  },
  {
   "cell_type": "code",
   "execution_count": 22,
   "metadata": {},
   "outputs": [
    {
     "data": {
      "image/png": "[encoded data removed]",
      "text/plain": [
       "<Figure size 1224x504 with 1 Axes>"
      ]
     },
     "metadata": {},
     "output_type": "display_data"
    }
   ],
   "source": [
    "boxplotter('ag')"
   ]
  },
  {
   "cell_type": "markdown",
   "metadata": {},
   "source": [
    "**Вывод по графику**\n",
    "\n",
    "По данным графикам видно, что концентрация серебра (**Ag**), сначала повышается, а к концу процесса начинает падать, при этом активно выводиясь в виде \"хвостов\", т.е. является очевидно попутным компонентом изначального сырья/руды, а не целевым.\n",
    "\n",
    "---"
   ]
  },
  {
   "cell_type": "code",
   "execution_count": 23,
   "metadata": {
    "scrolled": false
   },
   "outputs": [
    {
     "data": {
      "image/png": "[encoded data removed]",
      "text/plain": [
       "<Figure size 1224x504 with 1 Axes>"
      ]
     },
     "metadata": {},
     "output_type": "display_data"
    }
   ],
   "source": [
    "boxplotter('pb')"
   ]
  },
  {
   "cell_type": "markdown",
   "metadata": {},
   "source": [
    "**Вывод по графику**\n",
    "\n",
    "По данным графикам видно, что свинец (**Pb**) активно выводится в виде \"хвостов\", но недостаточно эффективно, и в конечном продукте его остаётся больше, чем другого попутного компонента, серебра (**Ag**). Более низкая эффективность предположительно свидетельствует о том, что в существующем техпроцессе свинец физически взаимодействует с флотационными реагентами активнее чем необходимо.\n",
    "\n",
    "---"
   ]
  },
  {
   "cell_type": "markdown",
   "metadata": {},
   "source": [
    "**Промежуточный вывод**:\n",
    "\n",
    "По графикам концентрации металлов (**Au**, **Ag** и **Pb**) видно, что процесс выполняет свою задачу по обогащению золотоносного сырья, но требует исследований на тему реагентов, не взаимодействующих со свинцом, для снижения его концентрации в финальном продукте.\n",
    "\n",
    "Также графики показывают наличие большого количества выбросов, выходящих за пределы нормального распределения. "
   ]
  },
  {
   "cell_type": "markdown",
   "metadata": {},
   "source": [
    "### Борьба с выбросами:"
   ]
  },
  {
   "cell_type": "markdown",
   "metadata": {},
   "source": [
    "Попробуем отбросить все выбросы, выходящие за пределы стандартных значений диаграммы размаха, а именно - полутора межквартильных расстоений (IQR) от первого и третьего квартилей. Добавим фукнцию, создающую маску для выбора значений, не являющиеся выбросами:"
   ]
  },
  {
   "cell_type": "code",
   "execution_count": 24,
   "metadata": {},
   "outputs": [],
   "source": [
    "def outliners(data):\n",
    "    Q1 = data.quantile(0.25)\n",
    "    Q3 = data.quantile(0.75)\n",
    "    IQR = Q3 - Q1\n",
    "    low_threshold = Q1 - 3 * IQR\n",
    "    high_threshold = Q3 + 3 * IQR\n",
    "    result = ((data > low_threshold) & \n",
    "              (data < high_threshold)) & (data != 0)\n",
    "    return result"
   ]
  },
  {
   "cell_type": "markdown",
   "metadata": {},
   "source": [
    "Оставим только значения, связанные с металлами, для ограничения зоны работы функции. При использовании данной фукнции на весь объём данных потери составляют 87.9%, что недопустимо много."
   ]
  },
  {
   "cell_type": "code",
   "execution_count": 25,
   "metadata": {},
   "outputs": [],
   "source": [
    "metal_list = []\n",
    "for i in ('au', 'ag', 'pb'):\n",
    "    metal_list += full_df.filter(like=i).filter(like='rougher.input').columns.to_list()\n",
    "    metal_list += full_df.filter(like=i).filter(like='primary_cleaner').columns.to_list()\n",
    "    metal_list += full_df.filter(like=i).filter(like='secondary_cleaner').columns.to_list()\n",
    "    metal_list += full_df.filter(like=i).filter(like='final').columns.to_list()"
   ]
  },
  {
   "cell_type": "code",
   "execution_count": 26,
   "metadata": {},
   "outputs": [],
   "source": [
    "temp_df = full_df[metal_list]"
   ]
  },
  {
   "cell_type": "code",
   "execution_count": 27,
   "metadata": {},
   "outputs": [
    {
     "name": "stdout",
     "output_type": "stream",
     "text": [
      "Потери составили: 12.56 %\n"
     ]
    }
   ],
   "source": [
    "shrinked_df = temp_df[outliners(temp_df)].dropna()\n",
    "print('Потери составили:', round(((full_df.shape[0] - shrinked_df.shape[0]) / full_df.shape[0])*100, 2), '%')"
   ]
  },
  {
   "cell_type": "markdown",
   "metadata": {},
   "source": [
    "Проверим результат по графику для золота и сравним его со старым:"
   ]
  },
  {
   "cell_type": "code",
   "execution_count": 28,
   "metadata": {
    "scrolled": false
   },
   "outputs": [
    {
     "data": {
      "image/png": "[encoded data removed]",
      "text/plain": [
       "<Figure size 1224x504 with 1 Axes>"
      ]
     },
     "metadata": {},
     "output_type": "display_data"
    }
   ],
   "source": [
    "boxplotter(metal='au', data=shrinked_df)"
   ]
  },
  {
   "cell_type": "code",
   "execution_count": 29,
   "metadata": {},
   "outputs": [
    {
     "data": {
      "image/png": "[encoded data removed]",
      "text/plain": [
       "<Figure size 1224x504 with 1 Axes>"
      ]
     },
     "metadata": {},
     "output_type": "display_data"
    }
   ],
   "source": [
    "boxplotter(metal='au', data=full_df)"
   ]
  },
  {
   "cell_type": "markdown",
   "metadata": {},
   "source": [
    "Картина улучшилась, почти исчезли выбросы, но ценой потери **четверти (26,3%) данных**, что нежелательно, следовательно данный подход не применим для всех данных, но вполне применим для ограниченного списка столбцов.\n",
    "\n",
    "Для дальнейшего сравнения создадим таблицы отфильтрованные от выбросов по этому методу:"
   ]
  },
  {
   "cell_type": "code",
   "execution_count": 30,
   "metadata": {},
   "outputs": [],
   "source": [
    "temp_df = X_train[X_train.filter(like='rougher.input').columns]"
   ]
  },
  {
   "cell_type": "code",
   "execution_count": 31,
   "metadata": {},
   "outputs": [
    {
     "name": "stdout",
     "output_type": "stream",
     "text": [
      "Потери составили: 3.39 %\n"
     ]
    }
   ],
   "source": [
    "reduced_df = temp_df[outliners(temp_df)].dropna()\n",
    "print('Потери составили:', round(((X_train.shape[0] - reduced_df.shape[0]) / X_train.shape[0])*100, 2), '%')"
   ]
  },
  {
   "cell_type": "code",
   "execution_count": 32,
   "metadata": {},
   "outputs": [],
   "source": [
    "X_train_s = X_train.iloc[reduced_df.index]\n",
    "\n",
    "y_train_rough_s = y_train_rough.iloc[reduced_df.index]\n",
    "y_train_final_s = y_train_final.iloc[reduced_df.index]"
   ]
  },
  {
   "cell_type": "markdown",
   "metadata": {},
   "source": [
    "### Сравнение распределения размеров гранул сырья."
   ]
  },
  {
   "cell_type": "markdown",
   "metadata": {},
   "source": [
    "Для сравнение распределения размеров гранул сырья на обучающей и тестовой выборках (признаки `feed_size`) построим гистограммы."
   ]
  },
  {
   "cell_type": "code",
   "execution_count": 33,
   "metadata": {},
   "outputs": [
    {
     "data": {
      "image/png": "[encoded data removed]",
      "text/plain": [
       "<Figure size 1224x288 with 1 Axes>"
      ]
     },
     "metadata": {},
     "output_type": "display_data"
    }
   ],
   "source": [
    "ax = X_train.plot(\n",
    "    kind='hist',\n",
    "    y='rougher.input.feed_size',\n",
    "    bins=100,\n",
    "    color=\"r\",\n",
    "    alpha=0.5,\n",
    "    title='Гистограмма размера гранул перед флотацией',\n",
    "    grid=True,\n",
    "    figsize=(17,4)\n",
    ")\n",
    "\n",
    "bx = X_test.plot(\n",
    "    kind='hist',\n",
    "    y='rougher.input.feed_size',\n",
    "    bins=100,\n",
    "    color=\"g\",\n",
    "    alpha=0.75,\n",
    "    ax=ax,\n",
    "    figsize=(17,4)\n",
    ")\n",
    "ax.legend(['Тренировочная выборка', 'Тестовая выборка']) \n",
    "plt.show()"
   ]
  },
  {
   "cell_type": "code",
   "execution_count": 34,
   "metadata": {},
   "outputs": [
    {
     "data": {
      "image/png": "[encoded data removed]",
      "text/plain": [
       "<Figure size 1224x288 with 1 Axes>"
      ]
     },
     "metadata": {},
     "output_type": "display_data"
    }
   ],
   "source": [
    "ax = X_train.plot(\n",
    "    kind='hist',\n",
    "    y='primary_cleaner.input.feed_size',\n",
    "    bins=100,\n",
    "    color=\"r\",\n",
    "    alpha=0.5,\n",
    "    title='Гистограмма размера гранул перед первичной очисткой',\n",
    "    grid=True,\n",
    "    figsize=(17,4)\n",
    ")\n",
    "\n",
    "bx = X_test.plot(\n",
    "    kind='hist',\n",
    "    y='primary_cleaner.input.feed_size',\n",
    "    bins=100,\n",
    "    color=\"g\",\n",
    "    alpha=0.75,\n",
    "    ax=ax,\n",
    "    figsize=(17,4)\n",
    ")\n",
    "ax.legend(['Тренировочная выборка', 'Тестовая выборка']) \n",
    "plt.show()"
   ]
  },
  {
   "cell_type": "markdown",
   "metadata": {},
   "source": [
    "**Промежуточный вывод**:\n",
    "\n",
    "По гистограммам размера гранул:\n",
    "\n",
    "- перед флотацией - границы распределения находятся в одинаковых пределах, есть только смещение среднего значения в меньшую сторону;\n",
    "- перед первичной очисткой - совпадают как границы распределения, так и среднее значение.\n",
    "\n",
    "Распределения отличаются не сильно, что не повлияет на оценку модели."
   ]
  },
  {
   "cell_type": "markdown",
   "metadata": {},
   "source": [
    "### Суммарная концентрация всех веществ на разных стадиях."
   ]
  },
  {
   "cell_type": "markdown",
   "metadata": {},
   "source": [
    "Создадим датафрейм, в который соберём суммарные концентрации веществ на разных стадиях:"
   ]
  },
  {
   "cell_type": "code",
   "execution_count": 35,
   "metadata": {},
   "outputs": [],
   "source": [
    "sum_feed = pd.DataFrame()"
   ]
  },
  {
   "cell_type": "markdown",
   "metadata": {},
   "source": [
    "Для наполнение воспользуемся той же функцией `filter()`. Начальный этап очистки (**флотацию**) разделим на два столбца - пришедшее на вход флотации, и вышедшее с неё."
   ]
  },
  {
   "cell_type": "code",
   "execution_count": 36,
   "metadata": {},
   "outputs": [],
   "source": [
    "sum_feed['rougher_input'] = (\n",
    "    full_df['rougher.input.feed_au'] +\n",
    "    full_df['rougher.input.feed_ag'] +\n",
    "    full_df['rougher.input.feed_pb'] +\n",
    "    full_df['rougher.input.feed_sol']\n",
    ")"
   ]
  },
  {
   "cell_type": "code",
   "execution_count": 37,
   "metadata": {},
   "outputs": [],
   "source": [
    "sum_feed['rougher_output'] = (\n",
    "    full_df.filter(like='rougher.output.concentrate').sum(axis=1)\n",
    ")"
   ]
  },
  {
   "cell_type": "markdown",
   "metadata": {},
   "source": [
    "Этап **первичной очистки**:"
   ]
  },
  {
   "cell_type": "code",
   "execution_count": 38,
   "metadata": {},
   "outputs": [],
   "source": [
    "sum_feed['primary_cleaner'] = (\n",
    "    full_df.filter(like='primary_cleaner.output.concentrate').sum(axis=1)\n",
    ")"
   ]
  },
  {
   "cell_type": "markdown",
   "metadata": {},
   "source": [
    "**Вторичная очистка** содержит только \"хвосты\", без концентрата, и в данную таблицу не попадает."
   ]
  },
  {
   "cell_type": "markdown",
   "metadata": {},
   "source": [
    "В **финальном** этапе нас интересует всё кроме `final.output.recovery()`, который является относительным значением, зависящим от других"
   ]
  },
  {
   "cell_type": "code",
   "execution_count": 39,
   "metadata": {},
   "outputs": [],
   "source": [
    "sum_feed['final'] = (\n",
    "    full_df.filter(like='final.output.concentrate').sum(axis=1)\n",
    ")"
   ]
  },
  {
   "cell_type": "markdown",
   "metadata": {},
   "source": [
    "Построим гистограмму и boxplot по полученным данным."
   ]
  },
  {
   "cell_type": "code",
   "execution_count": 40,
   "metadata": {},
   "outputs": [
    {
     "data": {
      "image/png": "[encoded data removed]",
      "text/plain": [
       "<Figure size 1224x432 with 1 Axes>"
      ]
     },
     "metadata": {},
     "output_type": "display_data"
    }
   ],
   "source": [
    "sum_feed.plot(\n",
    "    kind='hist',\n",
    "    bins=100,\n",
    "    alpha=0.5,\n",
    "    title='Гистограмма концентраций веществ по этапам',\n",
    "    grid=True,\n",
    "    figsize=(17,6)\n",
    ")\n",
    "plt.show()"
   ]
  },
  {
   "cell_type": "code",
   "execution_count": 41,
   "metadata": {
    "scrolled": false
   },
   "outputs": [
    {
     "data": {
      "image/png": "[encoded data removed]",
      "text/plain": [
       "<Figure size 1224x504 with 1 Axes>"
      ]
     },
     "metadata": {},
     "output_type": "display_data"
    }
   ],
   "source": [
    "sns.boxplot(\n",
    "    data=sum_feed,\n",
    "    orient='h'\n",
    ")\n",
    "ax.set_title(\"Boxplot концентраций веществ по этапам\")\n",
    "ax.set_xlabel(\"Концентрация металла \")\n",
    "ax.set_ylabel(\"Этапы очистки\")\n",
    "plt.show()"
   ]
  },
  {
   "cell_type": "code",
   "execution_count": 42,
   "metadata": {},
   "outputs": [
    {
     "data": {
      "text/html": [
       "<div>\n",
       "<style scoped>\n",
       "    .dataframe tbody tr th:only-of-type {\n",
       "        vertical-align: middle;\n",
       "    }\n",
       "\n",
       "    .dataframe tbody tr th {\n",
       "        vertical-align: top;\n",
       "    }\n",
       "\n",
       "    .dataframe thead th {\n",
       "        text-align: right;\n",
       "    }\n",
       "</style>\n",
       "<table border=\"1\" class=\"dataframe\">\n",
       "  <thead>\n",
       "    <tr style=\"text-align: right;\">\n",
       "      <th></th>\n",
       "      <th>rougher_input</th>\n",
       "      <th>rougher_output</th>\n",
       "      <th>primary_cleaner</th>\n",
       "      <th>final</th>\n",
       "    </tr>\n",
       "  </thead>\n",
       "  <tbody>\n",
       "    <tr>\n",
       "      <th>count</th>\n",
       "      <td>19,245.00</td>\n",
       "      <td>19,439.00</td>\n",
       "      <td>19,439.00</td>\n",
       "      <td>19,439.00</td>\n",
       "    </tr>\n",
       "    <tr>\n",
       "      <th>mean</th>\n",
       "      <td>57.41</td>\n",
       "      <td>68.14</td>\n",
       "      <td>60.62</td>\n",
       "      <td>68.62</td>\n",
       "    </tr>\n",
       "    <tr>\n",
       "      <th>std</th>\n",
       "      <td>7.17</td>\n",
       "      <td>12.54</td>\n",
       "      <td>10.20</td>\n",
       "      <td>7.46</td>\n",
       "    </tr>\n",
       "    <tr>\n",
       "      <th>min</th>\n",
       "      <td>0.04</td>\n",
       "      <td>0.00</td>\n",
       "      <td>0.00</td>\n",
       "      <td>0.00</td>\n",
       "    </tr>\n",
       "    <tr>\n",
       "      <th>25%</th>\n",
       "      <td>53.66</td>\n",
       "      <td>66.00</td>\n",
       "      <td>58.88</td>\n",
       "      <td>67.93</td>\n",
       "    </tr>\n",
       "    <tr>\n",
       "      <th>50%</th>\n",
       "      <td>57.65</td>\n",
       "      <td>70.18</td>\n",
       "      <td>62.49</td>\n",
       "      <td>69.60</td>\n",
       "    </tr>\n",
       "    <tr>\n",
       "      <th>75%</th>\n",
       "      <td>62.01</td>\n",
       "      <td>74.36</td>\n",
       "      <td>65.67</td>\n",
       "      <td>71.37</td>\n",
       "    </tr>\n",
       "    <tr>\n",
       "      <th>max</th>\n",
       "      <td>76.98</td>\n",
       "      <td>88.14</td>\n",
       "      <td>80.75</td>\n",
       "      <td>80.21</td>\n",
       "    </tr>\n",
       "  </tbody>\n",
       "</table>\n",
       "</div>"
      ],
      "text/plain": [
       "       rougher_input  rougher_output  primary_cleaner     final\n",
       "count      19,245.00       19,439.00        19,439.00 19,439.00\n",
       "mean           57.41           68.14            60.62     68.62\n",
       "std             7.17           12.54            10.20      7.46\n",
       "min             0.04            0.00             0.00      0.00\n",
       "25%            53.66           66.00            58.88     67.93\n",
       "50%            57.65           70.18            62.49     69.60\n",
       "75%            62.01           74.36            65.67     71.37\n",
       "max            76.98           88.14            80.75     80.21"
      ]
     },
     "execution_count": 42,
     "metadata": {},
     "output_type": "execute_result"
    }
   ],
   "source": [
    "sum_feed.describe()"
   ]
  },
  {
   "cell_type": "markdown",
   "metadata": {},
   "source": [
    "**Вывод**:\n",
    "\n",
    "В результате данного анализа наглядно видно:\n",
    "- **Этап 1А (исходное сырьё)** - изначальная концентрация сырья составляет около 55 условных единиц, и это одно из самых низких значений, что ожидаемо;\n",
    "- **Этап 1Б (флотация)** - в результате флотации уже достигается резкое увеличение концентрации вещества до значение в 70 единиц, есть выбросы равные 0, что невозможно физически (отсутствие следов искомых веществ) и связано с ошибкой измерения или обработки данных;\n",
    "- **Этап 2 (первичная очистка)** - в этот момент концентрация падает до 65 единиц, в связи с наличием флотационных реагентов, разбавляющих пульпу (сульфат, депрессант, ксанталат), есть выбросы равные 0, что также физически невозможно;\n",
    "- **Этап 3 (финал)** - концентрация возвращается обратно, к состоянию после флотации (т.е. до ~70 единиц концентрации в среднем), но уменьшается разброс, также есть нулевые выбросы.\n",
    "\n",
    "В результате, очевидно, что в среднем, достаточно и первичного этапа очистки - **флотации**, но добавление дополнительных ступеней очистки, повышает **стабильность результата**, что важно с коммерческой точки зрения.\n",
    "\n",
    "Дополнительные мероприятия по борьбе с нулевыми выбросами не предусматривается, так как либо они отрезаются на этапе общей борьбы с выбросами функцией ***outliners()*** (столбцы `rougher.input.*`, `primary_cleaner.input.*`), либо не присутсутствуют в тренировочной и тестовой выборках (столбцы `rougher.output.*`, `final.output.*`)"
   ]
  },
  {
   "cell_type": "markdown",
   "metadata": {},
   "source": [
    "## Модель"
   ]
  },
  {
   "cell_type": "markdown",
   "metadata": {},
   "source": [
    "3.2. Обучите разные модели и оцените их качество кросс-валидацией. Выберите лучшую модель и проверьте её на тестовой выборке. Опишите выводы.\n",
    "Вам пригодятся формулы метрик качества:"
   ]
  },
  {
   "cell_type": "markdown",
   "metadata": {},
   "source": [
    "### Метрика sMAPE"
   ]
  },
  {
   "cell_type": "markdown",
   "metadata": {},
   "source": [
    "Напишем функцию, вычисляющую метрику **sMAPE** (Symmetric mean absolute percentage error), по формуле:\n",
    "\n",
    "<div>\n",
    "<img src=\"https://pictures.s3.yandex.net/resources/smape_1576239058.jpg\" width=\"500\" height=\"300\"/>\n",
    "</div>\n",
    "\n",
    ", где:\n",
    "\n",
    "- $y_{i}$ - Значение **целевого признака** для объекта с порядковым номером *i* в выборке, на которой измеряется качество.\n",
    "- $ŷ_{i}$ - Значение **предсказания** для объекта с порядковым номером i, например, в тестовой выборке.\n",
    "- $N$ - Количество объектов в выборке\n",
    "- $\\sum_{i=1}^{N}$ - Суммирование по всем объектам выборки (i меняется от 1 до N)"
   ]
  },
  {
   "cell_type": "code",
   "execution_count": 43,
   "metadata": {},
   "outputs": [],
   "source": [
    "def sMAPE(y_true, y_pred):\n",
    "    result = (\n",
    "        1 / len(y_true)) * np.sum(\n",
    "        abs(y_true-y_pred) / (\n",
    "            (abs(y_true) + abs(y_pred)) / 2) * 100)\n",
    "    return result"
   ]
  },
  {
   "cell_type": "markdown",
   "metadata": {},
   "source": [
    "Проверим написаную функцию `sMAPE()` на двух тестовых рядах значений. Ручной расчёт данной метрики для данных значений показывает результат 15.4%"
   ]
  },
  {
   "cell_type": "code",
   "execution_count": 44,
   "metadata": {},
   "outputs": [
    {
     "name": "stdout",
     "output_type": "stream",
     "text": [
      "sMAPE: 15.419501133786845\n"
     ]
    }
   ],
   "source": [
    "tru_ = pd.Series([0, 1.0, -2, 3, -5, 0, -5])\n",
    "pred_ = pd.Series([0, 1.0, -5, 3, -5, 0, -4])\n",
    "\n",
    "print('sMAPE:', sMAPE(tru_, pred_))"
   ]
  },
  {
   "cell_type": "markdown",
   "metadata": {},
   "source": [
    "Следовательно, фукнция работает верно."
   ]
  },
  {
   "cell_type": "markdown",
   "metadata": {},
   "source": [
    "### Подбор оптимальных гиперпараметров"
   ]
  },
  {
   "cell_type": "markdown",
   "metadata": {},
   "source": [
    "Подбор оптимальных гиперпараметров будет выполняться с использованием фукнции `GridSearchCV()`\n",
    "\n",
    "Сначала подберём гиперпараметры **`DecisionTreeRegressor()`**"
   ]
  },
  {
   "cell_type": "code",
   "execution_count": 45,
   "metadata": {},
   "outputs": [],
   "source": [
    "dtr_clf = DecisionTreeRegressor()\n",
    "dtr_parameters = {'max_depth': range (1,11, 1),\n",
    "                  'random_state': [13]\n",
    "                 }"
   ]
  },
  {
   "cell_type": "markdown",
   "metadata": {},
   "source": [
    "Для этапа **флотации**:"
   ]
  },
  {
   "cell_type": "code",
   "execution_count": 46,
   "metadata": {},
   "outputs": [
    {
     "name": "stdout",
     "output_type": "stream",
     "text": [
      "Wall time: 10.4 s\n"
     ]
    },
    {
     "data": {
      "text/plain": [
       "{'max_depth': 3, 'random_state': 13}"
      ]
     },
     "execution_count": 46,
     "metadata": {},
     "output_type": "execute_result"
    }
   ],
   "source": [
    "%%time\n",
    "grid_dtr_rough = GridSearchCV(dtr_clf,\n",
    "                              dtr_parameters,\n",
    "                              cv=5)\n",
    "                          \n",
    "grid_dtr_rough.fit(X_train, y_train_rough)\n",
    "grid_dtr_rough.best_params_"
   ]
  },
  {
   "cell_type": "markdown",
   "metadata": {},
   "source": [
    "И для **финального**:"
   ]
  },
  {
   "cell_type": "code",
   "execution_count": 47,
   "metadata": {},
   "outputs": [
    {
     "name": "stdout",
     "output_type": "stream",
     "text": [
      "Wall time: 10.3 s\n"
     ]
    },
    {
     "data": {
      "text/plain": [
       "{'max_depth': 2, 'random_state': 13}"
      ]
     },
     "execution_count": 47,
     "metadata": {},
     "output_type": "execute_result"
    }
   ],
   "source": [
    "%%time\n",
    "grid_dtr_final = GridSearchCV(dtr_clf,\n",
    "                              dtr_parameters,\n",
    "                              cv=5)\n",
    "\n",
    "grid_dtr_final.fit(X_train, y_train_final)\n",
    "grid_dtr_final.best_params_"
   ]
  },
  {
   "cell_type": "markdown",
   "metadata": {},
   "source": [
    "Полученные результаты будут подставлены на этапе кросс-валидации:\n",
    "\n",
    "Аналогично подберём параметры для модели **`RandomForestRegressor()`**"
   ]
  },
  {
   "cell_type": "code",
   "execution_count": 48,
   "metadata": {},
   "outputs": [],
   "source": [
    "rfr_clf = RandomForestRegressor()\n",
    "rfr_parameters = {'n_estimators': range (10, 60, 10),\n",
    "                  'max_depth': range (1,7, 1),\n",
    "                  'random_state': [13],\n",
    "                  'n_jobs': [-1]\n",
    "                 }"
   ]
  },
  {
   "cell_type": "markdown",
   "metadata": {},
   "source": [
    "Для этапа **флотации**:"
   ]
  },
  {
   "cell_type": "code",
   "execution_count": 49,
   "metadata": {},
   "outputs": [
    {
     "name": "stdout",
     "output_type": "stream",
     "text": [
      "Wall time: 1min 7s\n"
     ]
    },
    {
     "data": {
      "text/plain": [
       "{'max_depth': 6, 'n_estimators': 50, 'n_jobs': -1, 'random_state': 13}"
      ]
     },
     "execution_count": 49,
     "metadata": {},
     "output_type": "execute_result"
    }
   ],
   "source": [
    "%%time\n",
    "grid_rfr_rough = GridSearchCV(rfr_clf,\n",
    "                              rfr_parameters,\n",
    "                              cv=5)\n",
    "grid_rfr_rough.fit(X_train, y_train_rough)\n",
    "grid_rfr_rough.best_params_"
   ]
  },
  {
   "cell_type": "markdown",
   "metadata": {},
   "source": [
    "И для **финального**:"
   ]
  },
  {
   "cell_type": "code",
   "execution_count": 50,
   "metadata": {},
   "outputs": [
    {
     "name": "stdout",
     "output_type": "stream",
     "text": [
      "Wall time: 1min 3s\n"
     ]
    },
    {
     "data": {
      "text/plain": [
       "{'max_depth': 4, 'n_estimators': 50, 'n_jobs': -1, 'random_state': 13}"
      ]
     },
     "execution_count": 50,
     "metadata": {},
     "output_type": "execute_result"
    }
   ],
   "source": [
    "%%time\n",
    "grid_rfr_final = GridSearchCV(rfr_clf,\n",
    "                              rfr_parameters,\n",
    "                              cv=5)\n",
    "\n",
    "grid_rfr_final.fit(X_train, y_train_final)\n",
    "grid_rfr_final.best_params_"
   ]
  },
  {
   "cell_type": "markdown",
   "metadata": {},
   "source": [
    "Данные гиперпараметры также будут подставлены на этапе кросс-валидации и финальной проверки."
   ]
  },
  {
   "cell_type": "markdown",
   "metadata": {},
   "source": [
    "### Кросс-валидация моделей."
   ]
  },
  {
   "cell_type": "markdown",
   "metadata": {},
   "source": [
    "Воспользуемся фукнцией `sklearn.metrics.make_scorer()` для использования самописной фукнции `sMAPE()` в кросс-валидации. В связи с особенностями работы данной функции (а именно параметра `greater_is_better=False`, результат для финального вывода в дальнейшем необходимо брать в виде модуля `abs()`"
   ]
  },
  {
   "cell_type": "code",
   "execution_count": 51,
   "metadata": {},
   "outputs": [],
   "source": [
    "scorer_smape = make_scorer(sMAPE, greater_is_better=False)"
   ]
  },
  {
   "cell_type": "markdown",
   "metadata": {},
   "source": [
    "Сравнения качества моделей, с учётом двух искомых признаков, будет выполнено по данной формуле:\n",
    "\n",
    "<div>\n",
    "\n",
    "<img src=\"https://pictures.s3.yandex.net/resources/_smape_1576239054.jpg\" width=\"500\" height=\"300\"/>\n",
    "\n",
    "</div>"
   ]
  },
  {
   "cell_type": "markdown",
   "metadata": {},
   "source": [
    "Результаты соберём в отдельную таблицу:"
   ]
  },
  {
   "cell_type": "code",
   "execution_count": 52,
   "metadata": {},
   "outputs": [],
   "source": [
    "column_name = ['sMAPE_rough', 'sMAPE_final', 'sMAPE_total']\n",
    "\n",
    "model_names = ['LinearRegression', 'DecisionTreeRegressor', 'RandomForestRegressor', 'DummyRegressor']\n",
    "is_reduced = ['non_reduced', 'reduced']\n",
    "indexes = pd.MultiIndex.from_product([model_names, is_reduced],\n",
    "                                     names=['model_name', 'is_reduced'])\n",
    "\n",
    "final_df = pd.DataFrame(index=indexes, columns=column_name)"
   ]
  },
  {
   "cell_type": "markdown",
   "metadata": {},
   "source": [
    "#### LinearRegression()\n",
    "\n",
    "В первую очередь проверим модель **линейной регрессии**, как на обычном наборе данных:"
   ]
  },
  {
   "cell_type": "code",
   "execution_count": 53,
   "metadata": {
    "scrolled": true
   },
   "outputs": [
    {
     "name": "stdout",
     "output_type": "stream",
     "text": [
      "Wall time: 151 ms\n"
     ]
    }
   ],
   "source": [
    "%%time\n",
    "model_lr = LinearRegression()\n",
    "\n",
    "smape_lr_rough = cross_val_score(model_lr, X_train, y_train_rough, scoring=scorer_smape, cv=5)\n",
    "smape_lr_final = cross_val_score(model_lr, X_train, y_train_final, scoring=scorer_smape, cv=5)\n",
    "\n",
    "final_df.loc['LinearRegression', 'non_reduced'] = [\n",
    "                                                   abs(smape_lr_rough.mean()),\n",
    "                                                   abs(smape_lr_final.mean()),\n",
    "                                                   abs(0.25 * smape_lr_rough.mean() +\n",
    "                                                       0.75 * smape_lr_final.mean())\n",
    "                                                  ]"
   ]
  },
  {
   "cell_type": "markdown",
   "metadata": {},
   "source": [
    "... так и на урезанном:"
   ]
  },
  {
   "cell_type": "code",
   "execution_count": 54,
   "metadata": {
    "scrolled": true
   },
   "outputs": [
    {
     "name": "stdout",
     "output_type": "stream",
     "text": [
      "Wall time: 155 ms\n"
     ]
    }
   ],
   "source": [
    "%%time\n",
    "smape_lr_rough = cross_val_score(model_lr, X_train_s, y_train_rough_s, scoring=scorer_smape, cv=5)\n",
    "smape_lr_final = cross_val_score(model_lr, X_train_s, y_train_final_s, scoring=scorer_smape, cv=5)\n",
    "\n",
    "final_df.loc['LinearRegression', 'reduced'] = [\n",
    "                                               abs(smape_lr_rough.mean()),\n",
    "                                               abs(smape_lr_final.mean()),\n",
    "                                               abs(0.25 * smape_lr_rough.mean() +\n",
    "                                                   0.75 * smape_lr_final.mean())\n",
    "                                              ]"
   ]
  },
  {
   "cell_type": "markdown",
   "metadata": {},
   "source": [
    "#### DecisionTreeRegressor()\n",
    "\n",
    "Аналогично проверим модель **дерева**, на обычном наборе данных:"
   ]
  },
  {
   "cell_type": "code",
   "execution_count": 55,
   "metadata": {
    "scrolled": false
   },
   "outputs": [
    {
     "name": "stdout",
     "output_type": "stream",
     "text": [
      "Wall time: 1.12 s\n"
     ]
    }
   ],
   "source": [
    "%%time\n",
    "model_dtr_rough = DecisionTreeRegressor(**grid_dtr_rough.best_params_)\n",
    "model_dtr_final = DecisionTreeRegressor(**grid_dtr_final.best_params_)\n",
    "\n",
    "smape_dtr_rough = cross_val_score(model_dtr_rough, X_train, y_train_rough, scoring=scorer_smape, cv=5)\n",
    "smape_dtr_final = cross_val_score(model_dtr_final, X_train, y_train_final, scoring=scorer_smape, cv=5)\n",
    "\n",
    "final_df.loc['DecisionTreeRegressor', 'non_reduced'] = [\n",
    "                                                        abs(smape_dtr_rough.mean()),\n",
    "                                                        abs(smape_dtr_final.mean()),\n",
    "                                                        abs(0.25 * smape_dtr_rough.mean() +\n",
    "                                                            0.75 * smape_dtr_final.mean())\n",
    "                                                       ]"
   ]
  },
  {
   "cell_type": "markdown",
   "metadata": {},
   "source": [
    "... и на уменьшенном на 12.3%"
   ]
  },
  {
   "cell_type": "code",
   "execution_count": 56,
   "metadata": {},
   "outputs": [],
   "source": [
    "smape_dtr_rough = cross_val_score(model_dtr_rough, X_train_s, y_train_rough_s, scoring=scorer_smape, cv=5)\n",
    "smape_dtr_final = cross_val_score(model_dtr_final, X_train_s, y_train_final_s, scoring=scorer_smape, cv=5)\n",
    "\n",
    "final_df.loc['DecisionTreeRegressor', 'reduced'] = [\n",
    "                                                    abs(smape_dtr_rough.mean()),\n",
    "                                                    abs(smape_dtr_final.mean()),\n",
    "                                                    abs(0.25 * smape_dtr_rough.mean() +\n",
    "                                                        0.75 * smape_dtr_final.mean())\n",
    "                                                   ]"
   ]
  },
  {
   "cell_type": "markdown",
   "metadata": {},
   "source": [
    "#### RandomForestRegressor()\n",
    "\n",
    "Следующая модель - модель **случайного леса**, на обычном наборе данных:"
   ]
  },
  {
   "cell_type": "code",
   "execution_count": 57,
   "metadata": {
    "scrolled": false
   },
   "outputs": [
    {
     "name": "stdout",
     "output_type": "stream",
     "text": [
      "Wall time: 7.8 s\n"
     ]
    }
   ],
   "source": [
    "%%time\n",
    "model_rfr_rough = RandomForestRegressor(**grid_rfr_rough.best_params_)\n",
    "model_rfr_final = RandomForestRegressor(**grid_rfr_final.best_params_)\n",
    "\n",
    "smape_rfr_rough = cross_val_score(model_rfr_rough, X_train, y_train_rough, scoring=scorer_smape, cv=5)\n",
    "smape_rfr_final = cross_val_score(model_rfr_final, X_train, y_train_final, scoring=scorer_smape, cv=5)\n",
    "\n",
    "final_df.loc['RandomForestRegressor', 'non_reduced'] = [\n",
    "                                                        abs(smape_rfr_rough.mean()),\n",
    "                                                        abs(smape_rfr_final.mean()),\n",
    "                                                        abs(0.25 * smape_rfr_rough.mean() +\n",
    "                                                            0.75 * smape_rfr_final.mean())\n",
    "                                                       ]"
   ]
  },
  {
   "cell_type": "markdown",
   "metadata": {},
   "source": [
    "... и на освобождённом от выбросов:"
   ]
  },
  {
   "cell_type": "code",
   "execution_count": 58,
   "metadata": {},
   "outputs": [],
   "source": [
    "smape_rfr_rough = cross_val_score(model_rfr_rough, X_train_s, y_train_rough_s, scoring=scorer_smape, cv=5)\n",
    "smape_rfr_final = cross_val_score(model_rfr_final, X_train_s, y_train_final_s, scoring=scorer_smape, cv=5)\n",
    "\n",
    "final_df.loc['RandomForestRegressor', 'reduced'] = [\n",
    "                                                    abs(smape_rfr_rough.mean()),\n",
    "                                                    abs(smape_rfr_final.mean()),\n",
    "                                                    abs(0.25 * smape_rfr_rough.mean() +\n",
    "                                                        0.75 * smape_rfr_final.mean())\n",
    "                                                    ]"
   ]
  },
  {
   "cell_type": "markdown",
   "metadata": {},
   "source": [
    "#### DummyRegressor()\n",
    "\n",
    "Следующая модель - baseline модель **DummyRegressor()**, предсказывающая результат случайным образом:"
   ]
  },
  {
   "cell_type": "code",
   "execution_count": 59,
   "metadata": {},
   "outputs": [],
   "source": [
    "dummy = DummyRegressor()\n",
    "\n",
    "smape_dummy_rough = cross_val_score(dummy, X_train, y_train_rough, scoring=scorer_smape, cv=5)\n",
    "smape_dummy_final = cross_val_score(dummy, X_train, y_train_final, scoring=scorer_smape, cv=5)\n",
    "\n",
    "final_df.loc['DummyRegressor', 'non_reduced'] = [\n",
    "                                                 abs(smape_dummy_rough.mean()),\n",
    "                                                 abs(smape_dummy_final.mean()),\n",
    "                                                 abs(0.25 * smape_dummy_rough.mean() +\n",
    "                                                     0.75 * smape_dummy_final.mean())\n",
    "                                                ]"
   ]
  },
  {
   "cell_type": "code",
   "execution_count": 60,
   "metadata": {},
   "outputs": [],
   "source": [
    "smape_dummy_rough = cross_val_score(dummy, X_train_s, y_train_rough_s, scoring=scorer_smape, cv=5)\n",
    "smape_dummy_final = cross_val_score(dummy, X_train_s, y_train_final_s, scoring=scorer_smape, cv=5)\n",
    "\n",
    "final_df.loc['DummyRegressor', 'reduced'] = [\n",
    "                                            abs(smape_dummy_rough.mean()),\n",
    "                                            abs(smape_dummy_final.mean()),\n",
    "                                            abs(0.25 * smape_dummy_rough.mean() +\n",
    "                                                0.75 * smape_dummy_final.mean())\n",
    "                                            ]"
   ]
  },
  {
   "cell_type": "markdown",
   "metadata": {},
   "source": [
    "Выведем результирующую таблицу:"
   ]
  },
  {
   "cell_type": "code",
   "execution_count": 61,
   "metadata": {
    "scrolled": true
   },
   "outputs": [
    {
     "data": {
      "text/html": [
       "<style type=\"text/css\">\n",
       "#T_308d9_row0_col0 {\n",
       "  background-color: #ccd9ed;\n",
       "  color: #000000;\n",
       "}\n",
       "#T_308d9_row0_col1, #T_308d9_row1_col0, #T_308d9_row1_col2 {\n",
       "  background-color: #b40426;\n",
       "  color: #f1f1f1;\n",
       "}\n",
       "#T_308d9_row0_col2 {\n",
       "  background-color: #e26952;\n",
       "  color: #f1f1f1;\n",
       "}\n",
       "#T_308d9_row1_col1 {\n",
       "  background-color: #ec7f63;\n",
       "  color: #f1f1f1;\n",
       "}\n",
       "#T_308d9_row2_col0 {\n",
       "  background-color: #688aef;\n",
       "  color: #f1f1f1;\n",
       "}\n",
       "#T_308d9_row2_col1 {\n",
       "  background-color: #efcebd;\n",
       "  color: #000000;\n",
       "}\n",
       "#T_308d9_row2_col2 {\n",
       "  background-color: #cedaeb;\n",
       "  color: #000000;\n",
       "}\n",
       "#T_308d9_row3_col0 {\n",
       "  background-color: #7093f3;\n",
       "  color: #f1f1f1;\n",
       "}\n",
       "#T_308d9_row3_col1 {\n",
       "  background-color: #6e90f2;\n",
       "  color: #f1f1f1;\n",
       "}\n",
       "#T_308d9_row3_col2 {\n",
       "  background-color: #7699f6;\n",
       "  color: #f1f1f1;\n",
       "}\n",
       "#T_308d9_row4_col0 {\n",
       "  background-color: #455cce;\n",
       "  color: #f1f1f1;\n",
       "}\n",
       "#T_308d9_row4_col1 {\n",
       "  background-color: #a1c0ff;\n",
       "  color: #000000;\n",
       "}\n",
       "#T_308d9_row4_col2 {\n",
       "  background-color: #81a4fb;\n",
       "  color: #f1f1f1;\n",
       "}\n",
       "#T_308d9_row5_col0, #T_308d9_row5_col1, #T_308d9_row5_col2 {\n",
       "  background-color: #3b4cc0;\n",
       "  color: #f1f1f1;\n",
       "}\n",
       "#T_308d9_row6_col0 {\n",
       "  background-color: #9bbcff;\n",
       "  color: #000000;\n",
       "}\n",
       "#T_308d9_row6_col1 {\n",
       "  background-color: #e9785d;\n",
       "  color: #f1f1f1;\n",
       "}\n",
       "#T_308d9_row6_col2 {\n",
       "  background-color: #f7b599;\n",
       "  color: #000000;\n",
       "}\n",
       "#T_308d9_row7_col0 {\n",
       "  background-color: #85a8fc;\n",
       "  color: #f1f1f1;\n",
       "}\n",
       "#T_308d9_row7_col1 {\n",
       "  background-color: #dddcdc;\n",
       "  color: #000000;\n",
       "}\n",
       "#T_308d9_row7_col2 {\n",
       "  background-color: #cad8ef;\n",
       "  color: #000000;\n",
       "}\n",
       "</style>\n",
       "<table id=\"T_308d9_\">\n",
       "  <thead>\n",
       "    <tr>\n",
       "      <th class=\"blank\" >&nbsp;</th>\n",
       "      <th class=\"blank level0\" >&nbsp;</th>\n",
       "      <th class=\"col_heading level0 col0\" >sMAPE_rough</th>\n",
       "      <th class=\"col_heading level0 col1\" >sMAPE_final</th>\n",
       "      <th class=\"col_heading level0 col2\" >sMAPE_total</th>\n",
       "    </tr>\n",
       "    <tr>\n",
       "      <th class=\"index_name level0\" >model_name</th>\n",
       "      <th class=\"index_name level1\" >is_reduced</th>\n",
       "      <th class=\"blank col0\" >&nbsp;</th>\n",
       "      <th class=\"blank col1\" >&nbsp;</th>\n",
       "      <th class=\"blank col2\" >&nbsp;</th>\n",
       "    </tr>\n",
       "  </thead>\n",
       "  <tbody>\n",
       "    <tr>\n",
       "      <th id=\"T_308d9_level0_row0\" class=\"row_heading level0 row0\" rowspan=\"2\">LinearRegression</th>\n",
       "      <th id=\"T_308d9_level1_row0\" class=\"row_heading level1 row0\" >non_reduced</th>\n",
       "      <td id=\"T_308d9_row0_col0\" class=\"data row0 col0\" >12.947404</td>\n",
       "      <td id=\"T_308d9_row0_col1\" class=\"data row0 col1\" >11.755034</td>\n",
       "      <td id=\"T_308d9_row0_col2\" class=\"data row0 col2\" >12.053126</td>\n",
       "    </tr>\n",
       "    <tr>\n",
       "      <th id=\"T_308d9_level1_row1\" class=\"row_heading level1 row1\" >reduced</th>\n",
       "      <td id=\"T_308d9_row1_col0\" class=\"data row1 col0\" >15.714253</td>\n",
       "      <td id=\"T_308d9_row1_col1\" class=\"data row1 col1\" >11.329424</td>\n",
       "      <td id=\"T_308d9_row1_col2\" class=\"data row1 col2\" >12.425631</td>\n",
       "    </tr>\n",
       "    <tr>\n",
       "      <th id=\"T_308d9_level0_row2\" class=\"row_heading level0 row2\" rowspan=\"2\">DecisionTreeRegressor</th>\n",
       "      <th id=\"T_308d9_level1_row2\" class=\"row_heading level1 row2\" >non_reduced</th>\n",
       "      <td id=\"T_308d9_row2_col0\" class=\"data row2 col0\" >11.501217</td>\n",
       "      <td id=\"T_308d9_row2_col1\" class=\"data row2 col1\" >10.818608</td>\n",
       "      <td id=\"T_308d9_row2_col2\" class=\"data row2 col2\" >10.989260</td>\n",
       "    </tr>\n",
       "    <tr>\n",
       "      <th id=\"T_308d9_level1_row3\" class=\"row_heading level1 row3\" >reduced</th>\n",
       "      <td id=\"T_308d9_row3_col0\" class=\"data row3 col0\" >11.625947</td>\n",
       "      <td id=\"T_308d9_row3_col1\" class=\"data row3 col1\" >9.867081</td>\n",
       "      <td id=\"T_308d9_row3_col2\" class=\"data row3 col2\" >10.306797</td>\n",
       "    </tr>\n",
       "    <tr>\n",
       "      <th id=\"T_308d9_level0_row4\" class=\"row_heading level0 row4\" rowspan=\"2\">RandomForestRegressor</th>\n",
       "      <th id=\"T_308d9_level1_row4\" class=\"row_heading level1 row4\" >non_reduced</th>\n",
       "      <td id=\"T_308d9_row4_col0\" class=\"data row4 col0\" >10.963383</td>\n",
       "      <td id=\"T_308d9_row4_col1\" class=\"data row4 col1\" >10.194962</td>\n",
       "      <td id=\"T_308d9_row4_col2\" class=\"data row4 col2\" >10.387067</td>\n",
       "    </tr>\n",
       "    <tr>\n",
       "      <th id=\"T_308d9_level1_row5\" class=\"row_heading level1 row5\" >reduced</th>\n",
       "      <td id=\"T_308d9_row5_col0\" class=\"data row5 col0\" >10.785778</td>\n",
       "      <td id=\"T_308d9_row5_col1\" class=\"data row5 col1\" >9.504018</td>\n",
       "      <td id=\"T_308d9_row5_col2\" class=\"data row5 col2\" >9.824458</td>\n",
       "    </tr>\n",
       "    <tr>\n",
       "      <th id=\"T_308d9_level0_row6\" class=\"row_heading level0 row6\" rowspan=\"2\">DummyRegressor</th>\n",
       "      <th id=\"T_308d9_level1_row6\" class=\"row_heading level1 row6\" >non_reduced</th>\n",
       "      <td id=\"T_308d9_row6_col0\" class=\"data row6 col0\" >12.215336</td>\n",
       "      <td id=\"T_308d9_row6_col1\" class=\"data row6 col1\" >11.361359</td>\n",
       "      <td id=\"T_308d9_row6_col2\" class=\"data row6 col2\" >11.574854</td>\n",
       "    </tr>\n",
       "    <tr>\n",
       "      <th id=\"T_308d9_level1_row7\" class=\"row_heading level1 row7\" >reduced</th>\n",
       "      <td id=\"T_308d9_row7_col0\" class=\"data row7 col0\" >11.917285</td>\n",
       "      <td id=\"T_308d9_row7_col1\" class=\"data row7 col1\" >10.629760</td>\n",
       "      <td id=\"T_308d9_row7_col2\" class=\"data row7 col2\" >10.951641</td>\n",
       "    </tr>\n",
       "  </tbody>\n",
       "</table>\n"
      ],
      "text/plain": [
       "<pandas.io.formats.style.Styler at 0x26a45358250>"
      ]
     },
     "execution_count": 61,
     "metadata": {},
     "output_type": "execute_result"
    }
   ],
   "source": [
    "final_df.apply(pd.to_numeric).style.background_gradient('coolwarm')"
   ]
  },
  {
   "cell_type": "markdown",
   "metadata": {},
   "source": [
    "**Промежуточный вывод**\n",
    "\n",
    "Результаты моделирования сложно назвать блестящими на фоне случайной baseline модели **`DummyRegressor()`**, но наилучшие результаты показала модель **`RandomForestRegressor()`** с итоговым sMAPE **10.4%** для данных, не прошедших процедуру \"борьбы с выбросами\",  и **8.9%** для данных, прошедших эту процедуру, что на 1.2% процента лучше, чем результат **`DummyRegressor()`**, следовательно для итоговой проверки, принимаем эту модель."
   ]
  },
  {
   "cell_type": "markdown",
   "metadata": {},
   "source": [
    "### Проверка лучшей модели на тестовой выборке"
   ]
  },
  {
   "cell_type": "markdown",
   "metadata": {},
   "source": [
    "Лучшие две модели представляют собой **`RandomForestRegressor()`**, с использованием для тренировки данных, прошедших процедуру \"борьбы с отбросами\" из пункта 2.2."
   ]
  },
  {
   "cell_type": "code",
   "execution_count": 62,
   "metadata": {},
   "outputs": [
    {
     "name": "stdout",
     "output_type": "stream",
     "text": [
      "Итоговый sMAPE на тестовой выборке: 9.598610784520522\n"
     ]
    }
   ],
   "source": [
    "model_rfr_rough.fit(X_train_s, y_train_rough_s)\n",
    "model_rfr_final.fit(X_train_s, y_train_final_s)\n",
    "\n",
    "y_pred_rough = model_rfr_rough.predict(X_test)\n",
    "y_pred_final = model_rfr_final.predict(X_test)\n",
    "\n",
    "print('Итоговый sMAPE на тестовой выборке:',\n",
    "      0.25 * sMAPE(y_test_rough, y_pred_rough) +\n",
    "      0.75 * sMAPE(y_test_final, y_pred_final)\n",
    "     )"
   ]
  },
  {
   "cell_type": "markdown",
   "metadata": {},
   "source": [
    "## Общий вывод\n",
    "\n",
    "В результате данного проекта была произведён анализ данных, и подготовлена модель, для предсказаний параметров `rougher.output.recovery` и `final.output.recovery`.\n",
    "\n",
    "Качество полученной модели оценённой при помощи sMAPE составляет ~**9,5%**, и этот результат можно рассмотреть с двух сторон:\n",
    "\n",
    "- В отрыве от baseline модели - результат представляется достаточным, как дающий результаты, отличающиеся не более чем на 1/10 от истинного значения;\n",
    "- В сравнении же с baseline моделью **`DummyRegressor()`**, результат работы модели едва проходит в рамки \"адекватности\", с разницей в ~**1%**.\n",
    "\n",
    "Причиной данного поведения я вижу маленький разброс результата процесса очистки (т.е. достаточная стабильность работы системы), и как следствие, сильно сниженный шанс ошибки при выборе случайного значения.\n",
    "\n",
    "Следовательно, экономическая выгода от внедрения данной модели не превышает **1%**, и к применению малопригодна."
   ]
  }
 ],
 "metadata": {
  "ExecuteTimeLog": [
   {
    "duration": 685,
    "start_time": "2021-07-26T10:11:52.864Z"
   },
   {
    "duration": 694,
    "start_time": "2021-07-26T10:13:39.090Z"
   },
   {
    "duration": 3,
    "start_time": "2021-07-26T10:13:41.108Z"
   },
   {
    "duration": 4,
    "start_time": "2021-07-26T10:13:41.854Z"
   },
   {
    "duration": 637,
    "start_time": "2021-07-26T10:15:12.133Z"
   },
   {
    "duration": 17,
    "start_time": "2021-07-26T10:15:19.249Z"
   },
   {
    "duration": 15,
    "start_time": "2021-07-26T10:15:50.255Z"
   },
   {
    "duration": 15,
    "start_time": "2021-07-26T10:15:53.087Z"
   },
   {
    "duration": 14,
    "start_time": "2021-07-26T10:16:00.603Z"
   },
   {
    "duration": 13,
    "start_time": "2021-07-26T10:16:02.697Z"
   },
   {
    "duration": 12,
    "start_time": "2021-07-26T10:16:05.148Z"
   },
   {
    "duration": 14,
    "start_time": "2021-07-26T10:16:35.871Z"
   },
   {
    "duration": 11,
    "start_time": "2021-07-26T10:16:46.953Z"
   },
   {
    "duration": 20,
    "start_time": "2021-07-26T10:16:55.521Z"
   },
   {
    "duration": 7,
    "start_time": "2021-07-26T11:14:25.159Z"
   },
   {
    "duration": 14,
    "start_time": "2021-07-26T11:14:34.231Z"
   },
   {
    "duration": 13,
    "start_time": "2021-07-26T11:14:39.044Z"
   },
   {
    "duration": 11,
    "start_time": "2021-07-26T11:15:01.470Z"
   },
   {
    "duration": 3,
    "start_time": "2021-07-26T11:53:36.088Z"
   },
   {
    "duration": 4,
    "start_time": "2021-07-26T11:53:36.761Z"
   },
   {
    "duration": 631,
    "start_time": "2021-07-26T11:53:37.353Z"
   },
   {
    "duration": 13,
    "start_time": "2021-07-26T11:53:38.672Z"
   },
   {
    "duration": 12,
    "start_time": "2021-07-26T11:53:40.583Z"
   },
   {
    "duration": 14,
    "start_time": "2021-07-26T11:53:41.786Z"
   },
   {
    "duration": 14,
    "start_time": "2021-07-26T11:53:42.606Z"
   },
   {
    "duration": 5,
    "start_time": "2021-07-26T11:53:48.763Z"
   },
   {
    "duration": 5,
    "start_time": "2021-07-26T11:53:55.759Z"
   },
   {
    "duration": 4,
    "start_time": "2021-07-26T11:54:00.402Z"
   },
   {
    "duration": 388,
    "start_time": "2021-07-26T11:54:15.722Z"
   },
   {
    "duration": 5,
    "start_time": "2021-07-26T11:54:27.758Z"
   },
   {
    "duration": 3,
    "start_time": "2021-07-26T11:55:19.499Z"
   },
   {
    "duration": 4,
    "start_time": "2021-07-26T11:55:23.883Z"
   },
   {
    "duration": 96,
    "start_time": "2021-07-26T11:56:31.262Z"
   },
   {
    "duration": 3,
    "start_time": "2021-07-26T11:56:32.491Z"
   },
   {
    "duration": 4,
    "start_time": "2021-07-26T11:56:38.573Z"
   },
   {
    "duration": 5,
    "start_time": "2021-07-26T11:56:55.707Z"
   },
   {
    "duration": 4,
    "start_time": "2021-07-26T11:57:00.324Z"
   },
   {
    "duration": 4,
    "start_time": "2021-07-26T11:57:01.725Z"
   },
   {
    "duration": 4,
    "start_time": "2021-07-26T11:57:10.532Z"
   },
   {
    "duration": 4,
    "start_time": "2021-07-26T11:57:11.278Z"
   },
   {
    "duration": 5,
    "start_time": "2021-07-26T11:58:09.051Z"
   },
   {
    "duration": 5,
    "start_time": "2021-07-26T11:58:26.503Z"
   },
   {
    "duration": 6,
    "start_time": "2021-07-26T11:59:05.225Z"
   },
   {
    "duration": 5,
    "start_time": "2021-07-26T11:59:10.719Z"
   },
   {
    "duration": 12,
    "start_time": "2021-07-26T12:01:42.073Z"
   },
   {
    "duration": 13,
    "start_time": "2021-07-26T12:02:07.734Z"
   },
   {
    "duration": 12,
    "start_time": "2021-07-26T12:02:13.721Z"
   },
   {
    "duration": 12,
    "start_time": "2021-07-26T12:02:19.962Z"
   },
   {
    "duration": 9,
    "start_time": "2021-07-26T12:02:27.506Z"
   },
   {
    "duration": 18,
    "start_time": "2021-07-26T12:02:52.040Z"
   },
   {
    "duration": 18,
    "start_time": "2021-07-26T12:03:27.086Z"
   },
   {
    "duration": 16,
    "start_time": "2021-07-26T12:03:31.757Z"
   },
   {
    "duration": 4,
    "start_time": "2021-07-26T12:03:52.719Z"
   },
   {
    "duration": 18,
    "start_time": "2021-07-26T12:04:11.721Z"
   },
   {
    "duration": 15,
    "start_time": "2021-07-26T12:04:25.248Z"
   },
   {
    "duration": 5,
    "start_time": "2021-07-26T12:04:28.698Z"
   },
   {
    "duration": 15,
    "start_time": "2021-07-26T12:04:30.621Z"
   },
   {
    "duration": 17,
    "start_time": "2021-07-26T12:04:38.806Z"
   },
   {
    "duration": 11,
    "start_time": "2021-07-26T12:06:57.729Z"
   },
   {
    "duration": 5,
    "start_time": "2021-07-26T12:08:31.764Z"
   },
   {
    "duration": 11,
    "start_time": "2021-07-26T12:08:47.706Z"
   },
   {
    "duration": 6,
    "start_time": "2021-07-26T12:08:54.928Z"
   },
   {
    "duration": 6,
    "start_time": "2021-07-26T12:09:00.979Z"
   },
   {
    "duration": 6,
    "start_time": "2021-07-26T12:10:55.951Z"
   },
   {
    "duration": 6,
    "start_time": "2021-07-26T12:10:58.625Z"
   },
   {
    "duration": 1089,
    "start_time": "2021-07-26T12:11:09.054Z"
   },
   {
    "duration": 88,
    "start_time": "2021-07-26T12:11:15.492Z"
   },
   {
    "duration": 1057,
    "start_time": "2021-07-26T12:11:22.098Z"
   },
   {
    "duration": 1388,
    "start_time": "2021-07-26T12:11:28.636Z"
   },
   {
    "duration": 89,
    "start_time": "2021-07-26T12:11:34.494Z"
   },
   {
    "duration": 17,
    "start_time": "2021-07-26T12:11:37.828Z"
   },
   {
    "duration": 4,
    "start_time": "2021-07-26T12:12:02.297Z"
   },
   {
    "duration": 7,
    "start_time": "2021-07-26T12:12:48.544Z"
   },
   {
    "duration": 9,
    "start_time": "2021-07-26T12:12:54.345Z"
   },
   {
    "duration": 13,
    "start_time": "2021-07-26T12:13:39.508Z"
   },
   {
    "duration": 9,
    "start_time": "2021-07-26T12:14:12.410Z"
   },
   {
    "duration": 474,
    "start_time": "2021-07-27T04:34:25.560Z"
   },
   {
    "duration": 1446,
    "start_time": "2021-07-27T04:34:27.424Z"
   },
   {
    "duration": 5,
    "start_time": "2021-07-27T04:34:28.873Z"
   },
   {
    "duration": 4580,
    "start_time": "2021-07-27T04:34:28.881Z"
   },
   {
    "duration": 36,
    "start_time": "2021-07-27T04:34:33.464Z"
   },
   {
    "duration": 1410,
    "start_time": "2021-07-27T07:54:58.805Z"
   },
   {
    "duration": 5,
    "start_time": "2021-07-27T07:55:00.217Z"
   },
   {
    "duration": 818,
    "start_time": "2021-07-27T07:55:00.226Z"
   },
   {
    "duration": 29,
    "start_time": "2021-07-27T07:55:01.047Z"
   },
   {
    "duration": 32,
    "start_time": "2021-07-27T07:55:01.078Z"
   },
   {
    "duration": 21,
    "start_time": "2021-07-27T07:55:01.112Z"
   },
   {
    "duration": 39,
    "start_time": "2021-07-27T07:55:01.135Z"
   },
   {
    "duration": 37,
    "start_time": "2021-07-27T07:55:01.176Z"
   },
   {
    "duration": 8,
    "start_time": "2021-07-27T07:55:01.216Z"
   },
   {
    "duration": 29,
    "start_time": "2021-07-27T07:55:01.226Z"
   },
   {
    "duration": 481,
    "start_time": "2021-07-27T07:55:01.258Z"
   },
   {
    "duration": -24,
    "start_time": "2021-07-27T07:55:01.766Z"
   },
   {
    "duration": -25,
    "start_time": "2021-07-27T07:55:01.768Z"
   },
   {
    "duration": 16,
    "start_time": "2021-07-27T08:23:07.596Z"
   },
   {
    "duration": 12,
    "start_time": "2021-07-27T08:23:09.068Z"
   },
   {
    "duration": 411,
    "start_time": "2021-07-27T08:26:49.381Z"
   },
   {
    "duration": 5,
    "start_time": "2021-07-27T08:26:56.343Z"
   },
   {
    "duration": 15,
    "start_time": "2021-07-27T08:42:46.891Z"
   },
   {
    "duration": 334,
    "start_time": "2021-07-27T08:42:48.831Z"
   },
   {
    "duration": 494,
    "start_time": "2021-07-27T08:42:54.500Z"
   },
   {
    "duration": 5,
    "start_time": "2021-07-27T08:43:06.255Z"
   },
   {
    "duration": 416,
    "start_time": "2021-07-27T08:43:13.194Z"
   },
   {
    "duration": 399,
    "start_time": "2021-07-27T08:43:16.767Z"
   },
   {
    "duration": 5,
    "start_time": "2021-07-27T08:43:32.449Z"
   },
   {
    "duration": 392,
    "start_time": "2021-07-27T08:43:42.537Z"
   },
   {
    "duration": 7,
    "start_time": "2021-07-27T08:44:15.199Z"
   },
   {
    "duration": 364,
    "start_time": "2021-07-27T08:44:22.803Z"
   },
   {
    "duration": 355,
    "start_time": "2021-07-27T08:44:34.838Z"
   },
   {
    "duration": 404,
    "start_time": "2021-07-27T08:45:29.737Z"
   },
   {
    "duration": 18,
    "start_time": "2021-07-27T08:45:52.229Z"
   },
   {
    "duration": 1571,
    "start_time": "2021-07-27T08:52:03.026Z"
   },
   {
    "duration": 4,
    "start_time": "2021-07-27T08:52:04.600Z"
   },
   {
    "duration": 932,
    "start_time": "2021-07-27T08:52:05.196Z"
   },
   {
    "duration": 26,
    "start_time": "2021-07-27T08:52:06.682Z"
   },
   {
    "duration": 19,
    "start_time": "2021-07-27T08:52:09.074Z"
   },
   {
    "duration": 16,
    "start_time": "2021-07-27T08:52:20.025Z"
   },
   {
    "duration": 11,
    "start_time": "2021-07-27T08:52:59.959Z"
   },
   {
    "duration": 493,
    "start_time": "2021-07-27T08:53:18.689Z"
   },
   {
    "duration": 346,
    "start_time": "2021-07-27T08:53:37.164Z"
   },
   {
    "duration": 127,
    "start_time": "2021-07-27T08:53:49.529Z"
   },
   {
    "duration": 4,
    "start_time": "2021-07-27T08:56:04.413Z"
   },
   {
    "duration": 3,
    "start_time": "2021-07-27T08:57:04.740Z"
   },
   {
    "duration": 10,
    "start_time": "2021-07-27T08:57:15.787Z"
   },
   {
    "duration": 224,
    "start_time": "2021-07-27T08:58:50.534Z"
   },
   {
    "duration": 20406,
    "start_time": "2021-07-27T08:59:13.952Z"
   },
   {
    "duration": 570,
    "start_time": "2021-07-27T09:00:30.932Z"
   },
   {
    "duration": 7,
    "start_time": "2021-07-27T09:47:55.682Z"
   },
   {
    "duration": 944,
    "start_time": "2021-07-27T10:01:26.581Z"
   },
   {
    "duration": 68,
    "start_time": "2021-07-27T10:02:21.543Z"
   },
   {
    "duration": 74,
    "start_time": "2021-07-27T10:02:32.636Z"
   },
   {
    "duration": 17,
    "start_time": "2021-07-27T10:04:35.911Z"
   },
   {
    "duration": 23,
    "start_time": "2021-07-27T10:04:41.553Z"
   },
   {
    "duration": 48,
    "start_time": "2021-07-27T10:04:54.037Z"
   },
   {
    "duration": 22,
    "start_time": "2021-07-27T10:04:57.535Z"
   },
   {
    "duration": 15,
    "start_time": "2021-07-27T10:05:04.440Z"
   },
   {
    "duration": 8,
    "start_time": "2021-07-27T10:05:19.091Z"
   },
   {
    "duration": 17,
    "start_time": "2021-07-27T10:05:46.221Z"
   },
   {
    "duration": 21,
    "start_time": "2021-07-27T10:05:52.317Z"
   },
   {
    "duration": 21,
    "start_time": "2021-07-27T10:05:57.358Z"
   },
   {
    "duration": 22,
    "start_time": "2021-07-27T10:06:00.547Z"
   },
   {
    "duration": 63,
    "start_time": "2021-07-27T10:08:10.924Z"
   },
   {
    "duration": 33655,
    "start_time": "2021-07-27T10:32:22.716Z"
   },
   {
    "duration": 35308,
    "start_time": "2021-07-27T11:49:08.551Z"
   },
   {
    "duration": 13666,
    "start_time": "2021-07-27T11:53:49.744Z"
   },
   {
    "duration": 18877,
    "start_time": "2021-07-27T11:54:07.069Z"
   },
   {
    "duration": 42337,
    "start_time": "2021-07-27T11:54:49.688Z"
   },
   {
    "duration": 41216,
    "start_time": "2021-07-27T11:55:39.305Z"
   },
   {
    "duration": 1550,
    "start_time": "2021-07-28T04:48:55.124Z"
   },
   {
    "duration": 5,
    "start_time": "2021-07-28T04:48:56.677Z"
   },
   {
    "duration": 5095,
    "start_time": "2021-07-28T04:48:56.887Z"
   },
   {
    "duration": 27,
    "start_time": "2021-07-28T04:49:01.984Z"
   },
   {
    "duration": 24,
    "start_time": "2021-07-28T04:49:47.840Z"
   },
   {
    "duration": 26,
    "start_time": "2021-07-28T04:49:52.746Z"
   },
   {
    "duration": 824,
    "start_time": "2021-07-28T04:50:40.317Z"
   },
   {
    "duration": 510,
    "start_time": "2021-07-28T04:51:02.736Z"
   },
   {
    "duration": 72,
    "start_time": "2021-07-28T04:51:05.948Z"
   },
   {
    "duration": 22,
    "start_time": "2021-07-28T04:52:21.740Z"
   },
   {
    "duration": 19,
    "start_time": "2021-07-28T04:52:26.506Z"
   },
   {
    "duration": 67,
    "start_time": "2021-07-28T04:52:32.365Z"
   },
   {
    "duration": 19,
    "start_time": "2021-07-28T04:53:43.717Z"
   },
   {
    "duration": 22,
    "start_time": "2021-07-28T04:53:44.792Z"
   },
   {
    "duration": 71,
    "start_time": "2021-07-28T04:53:46.166Z"
   },
   {
    "duration": 15,
    "start_time": "2021-07-28T04:58:00.486Z"
   },
   {
    "duration": 13,
    "start_time": "2021-07-28T05:02:12.322Z"
   },
   {
    "duration": 12,
    "start_time": "2021-07-28T05:02:57.680Z"
   },
   {
    "duration": 16,
    "start_time": "2021-07-28T05:03:51.777Z"
   },
   {
    "duration": 13,
    "start_time": "2021-07-28T05:04:02.072Z"
   },
   {
    "duration": 9,
    "start_time": "2021-07-28T05:05:35.321Z"
   },
   {
    "duration": 12,
    "start_time": "2021-07-28T05:05:43.477Z"
   },
   {
    "duration": 4,
    "start_time": "2021-07-28T05:06:58.414Z"
   },
   {
    "duration": 7,
    "start_time": "2021-07-28T05:07:01.824Z"
   },
   {
    "duration": 5,
    "start_time": "2021-07-28T05:07:51.750Z"
   },
   {
    "duration": 7,
    "start_time": "2021-07-28T05:07:56.279Z"
   },
   {
    "duration": 10,
    "start_time": "2021-07-28T05:09:35.292Z"
   },
   {
    "duration": 7,
    "start_time": "2021-07-28T05:09:39.795Z"
   },
   {
    "duration": 6,
    "start_time": "2021-07-28T05:11:59.904Z"
   },
   {
    "duration": 123,
    "start_time": "2021-07-28T05:12:05.848Z"
   },
   {
    "duration": 6,
    "start_time": "2021-07-28T05:13:20.412Z"
   },
   {
    "duration": 7,
    "start_time": "2021-07-28T05:13:25.697Z"
   },
   {
    "duration": 6,
    "start_time": "2021-07-28T05:13:43.329Z"
   },
   {
    "duration": 497,
    "start_time": "2021-07-28T05:13:54.662Z"
   },
   {
    "duration": 566,
    "start_time": "2021-07-28T05:13:58.190Z"
   },
   {
    "duration": 7,
    "start_time": "2021-07-28T05:14:19.205Z"
   },
   {
    "duration": 7,
    "start_time": "2021-07-28T05:14:22.425Z"
   },
   {
    "duration": 10,
    "start_time": "2021-07-28T05:14:33.192Z"
   },
   {
    "duration": 6,
    "start_time": "2021-07-28T05:14:39.986Z"
   },
   {
    "duration": 7,
    "start_time": "2021-07-28T05:14:43.629Z"
   },
   {
    "duration": 8,
    "start_time": "2021-07-28T05:14:56.463Z"
   },
   {
    "duration": 7,
    "start_time": "2021-07-28T05:14:57.587Z"
   },
   {
    "duration": 6,
    "start_time": "2021-07-28T05:15:24.868Z"
   },
   {
    "duration": 7,
    "start_time": "2021-07-28T05:15:32.212Z"
   },
   {
    "duration": 6,
    "start_time": "2021-07-28T05:15:38.186Z"
   },
   {
    "duration": 6,
    "start_time": "2021-07-28T05:15:45.285Z"
   },
   {
    "duration": 380,
    "start_time": "2021-07-28T05:16:36.559Z"
   },
   {
    "duration": 363,
    "start_time": "2021-07-28T05:17:06.344Z"
   },
   {
    "duration": 50,
    "start_time": "2021-07-28T05:18:41.871Z"
   },
   {
    "duration": 19,
    "start_time": "2021-07-28T05:19:31.569Z"
   },
   {
    "duration": 9,
    "start_time": "2021-07-28T05:19:33.402Z"
   },
   {
    "duration": 7,
    "start_time": "2021-07-28T05:19:34.651Z"
   },
   {
    "duration": 6,
    "start_time": "2021-07-28T05:19:35.634Z"
   },
   {
    "duration": 6,
    "start_time": "2021-07-28T05:19:37.075Z"
   },
   {
    "duration": 7,
    "start_time": "2021-07-28T05:19:38.487Z"
   },
   {
    "duration": 7,
    "start_time": "2021-07-28T05:19:39.490Z"
   },
   {
    "duration": 8,
    "start_time": "2021-07-28T05:19:40.888Z"
   },
   {
    "duration": 8,
    "start_time": "2021-07-28T05:19:42.617Z"
   },
   {
    "duration": 479,
    "start_time": "2021-07-28T05:19:47.821Z"
   },
   {
    "duration": 481,
    "start_time": "2021-07-28T05:19:52.762Z"
   },
   {
    "duration": 6,
    "start_time": "2021-07-28T05:20:33.264Z"
   },
   {
    "duration": 7,
    "start_time": "2021-07-28T05:20:57.688Z"
   },
   {
    "duration": 6,
    "start_time": "2021-07-28T05:21:05.578Z"
   },
   {
    "duration": 624,
    "start_time": "2021-07-28T05:24:07.363Z"
   },
   {
    "duration": 836,
    "start_time": "2021-07-28T05:24:14.032Z"
   },
   {
    "duration": 584,
    "start_time": "2021-07-28T05:24:53.610Z"
   },
   {
    "duration": 588,
    "start_time": "2021-07-28T05:25:01.030Z"
   },
   {
    "duration": 12256,
    "start_time": "2021-07-28T05:25:14.872Z"
   },
   {
    "duration": 17,
    "start_time": "2021-07-28T05:25:54.480Z"
   },
   {
    "duration": 40,
    "start_time": "2021-07-28T05:26:01.216Z"
   },
   {
    "duration": 23,
    "start_time": "2021-07-28T05:26:08.697Z"
   },
   {
    "duration": 17,
    "start_time": "2021-07-28T05:26:13.750Z"
   },
   {
    "duration": 39,
    "start_time": "2021-07-28T05:26:18.461Z"
   },
   {
    "duration": 41,
    "start_time": "2021-07-28T05:26:23.041Z"
   },
   {
    "duration": 17,
    "start_time": "2021-07-28T05:26:34.011Z"
   },
   {
    "duration": 19,
    "start_time": "2021-07-28T05:26:43.366Z"
   },
   {
    "duration": 34,
    "start_time": "2021-07-28T05:26:46.505Z"
   },
   {
    "duration": 8,
    "start_time": "2021-07-28T05:27:19.264Z"
   },
   {
    "duration": 22,
    "start_time": "2021-07-28T05:27:24.377Z"
   },
   {
    "duration": 22,
    "start_time": "2021-07-28T05:27:35.985Z"
   },
   {
    "duration": 22,
    "start_time": "2021-07-28T05:27:38.747Z"
   },
   {
    "duration": 23,
    "start_time": "2021-07-28T05:27:42.932Z"
   },
   {
    "duration": 23,
    "start_time": "2021-07-28T05:27:44.583Z"
   },
   {
    "duration": 26,
    "start_time": "2021-07-28T05:27:47.060Z"
   },
   {
    "duration": 22,
    "start_time": "2021-07-28T05:27:50.599Z"
   },
   {
    "duration": 23,
    "start_time": "2021-07-28T05:27:54.348Z"
   },
   {
    "duration": 21,
    "start_time": "2021-07-28T05:27:56.250Z"
   },
   {
    "duration": 21,
    "start_time": "2021-07-28T05:27:58.601Z"
   },
   {
    "duration": 24,
    "start_time": "2021-07-28T05:28:17.450Z"
   },
   {
    "duration": 14,
    "start_time": "2021-07-28T05:28:40.101Z"
   },
   {
    "duration": 6,
    "start_time": "2021-07-28T05:29:06.309Z"
   },
   {
    "duration": 17,
    "start_time": "2021-07-28T05:29:17.324Z"
   },
   {
    "duration": 14,
    "start_time": "2021-07-28T05:29:31.215Z"
   },
   {
    "duration": 4,
    "start_time": "2021-07-28T05:29:55.369Z"
   },
   {
    "duration": 6,
    "start_time": "2021-07-28T05:29:58.354Z"
   },
   {
    "duration": 5,
    "start_time": "2021-07-28T05:30:06.544Z"
   },
   {
    "duration": 18,
    "start_time": "2021-07-28T05:30:16.495Z"
   },
   {
    "duration": 5,
    "start_time": "2021-07-28T05:30:28.742Z"
   },
   {
    "duration": 12,
    "start_time": "2021-07-28T05:31:00.306Z"
   },
   {
    "duration": 9,
    "start_time": "2021-07-28T05:31:08.668Z"
   },
   {
    "duration": 18,
    "start_time": "2021-07-28T05:31:12.089Z"
   },
   {
    "duration": 6,
    "start_time": "2021-07-28T05:31:35.327Z"
   },
   {
    "duration": 5,
    "start_time": "2021-07-28T05:31:38.291Z"
   },
   {
    "duration": 5,
    "start_time": "2021-07-28T05:31:39.416Z"
   },
   {
    "duration": 1162,
    "start_time": "2021-07-28T07:23:42.845Z"
   },
   {
    "duration": 4,
    "start_time": "2021-07-28T07:23:44.009Z"
   },
   {
    "duration": 695,
    "start_time": "2021-07-28T07:23:44.714Z"
   },
   {
    "duration": 17,
    "start_time": "2021-07-28T07:23:45.523Z"
   },
   {
    "duration": 15,
    "start_time": "2021-07-28T07:23:46.976Z"
   },
   {
    "duration": 14,
    "start_time": "2021-07-28T07:23:51.625Z"
   },
   {
    "duration": 556,
    "start_time": "2021-07-28T07:23:52.561Z"
   },
   {
    "duration": 13,
    "start_time": "2021-07-28T07:23:56.376Z"
   },
   {
    "duration": 5,
    "start_time": "2021-07-28T07:24:55.695Z"
   },
   {
    "duration": 20,
    "start_time": "2021-07-28T07:24:58.876Z"
   },
   {
    "duration": 6,
    "start_time": "2021-07-28T07:24:59.454Z"
   },
   {
    "duration": 4,
    "start_time": "2021-07-28T07:25:03.555Z"
   },
   {
    "duration": 4,
    "start_time": "2021-07-28T07:25:04.176Z"
   },
   {
    "duration": 4,
    "start_time": "2021-07-28T07:25:04.823Z"
   },
   {
    "duration": 5,
    "start_time": "2021-07-28T07:25:09.911Z"
   },
   {
    "duration": 310,
    "start_time": "2021-07-28T07:25:21.046Z"
   },
   {
    "duration": 5,
    "start_time": "2021-07-28T07:25:23.411Z"
   },
   {
    "duration": 307,
    "start_time": "2021-07-28T07:25:28.576Z"
   },
   {
    "duration": 6,
    "start_time": "2021-07-28T07:26:10.202Z"
   },
   {
    "duration": 5,
    "start_time": "2021-07-28T07:26:11.092Z"
   },
   {
    "duration": 696,
    "start_time": "2021-07-28T07:26:16.592Z"
   },
   {
    "duration": 7,
    "start_time": "2021-07-28T07:26:21.799Z"
   },
   {
    "duration": 4,
    "start_time": "2021-07-28T07:26:22.804Z"
   },
   {
    "duration": 4,
    "start_time": "2021-07-28T07:26:23.919Z"
   },
   {
    "duration": 8,
    "start_time": "2021-07-28T07:26:25.009Z"
   },
   {
    "duration": 5,
    "start_time": "2021-07-28T07:26:25.613Z"
   },
   {
    "duration": 14,
    "start_time": "2021-07-28T07:26:26.443Z"
   },
   {
    "duration": 5,
    "start_time": "2021-07-28T07:26:27.072Z"
   },
   {
    "duration": 5,
    "start_time": "2021-07-28T07:26:40.252Z"
   },
   {
    "duration": 3,
    "start_time": "2021-07-28T07:26:53.594Z"
   },
   {
    "duration": 5,
    "start_time": "2021-07-28T07:26:54.464Z"
   },
   {
    "duration": 6,
    "start_time": "2021-07-28T07:26:58.923Z"
   },
   {
    "duration": 4,
    "start_time": "2021-07-28T07:26:59.853Z"
   },
   {
    "duration": 706,
    "start_time": "2021-07-28T07:27:03.019Z"
   },
   {
    "duration": 75,
    "start_time": "2021-07-28T07:27:04.753Z"
   },
   {
    "duration": 14,
    "start_time": "2021-07-28T07:27:07.721Z"
   },
   {
    "duration": 3,
    "start_time": "2021-07-28T07:27:10.754Z"
   },
   {
    "duration": 4,
    "start_time": "2021-07-28T07:27:11.518Z"
   },
   {
    "duration": 4,
    "start_time": "2021-07-28T07:27:12.195Z"
   },
   {
    "duration": 4,
    "start_time": "2021-07-28T07:27:13.310Z"
   },
   {
    "duration": 1149,
    "start_time": "2021-07-28T07:27:19.759Z"
   },
   {
    "duration": 3,
    "start_time": "2021-07-28T07:27:20.910Z"
   },
   {
    "duration": 710,
    "start_time": "2021-07-28T07:27:20.915Z"
   },
   {
    "duration": 26,
    "start_time": "2021-07-28T07:27:21.627Z"
   },
   {
    "duration": 15,
    "start_time": "2021-07-28T07:27:21.655Z"
   },
   {
    "duration": 13,
    "start_time": "2021-07-28T07:27:21.672Z"
   },
   {
    "duration": 601,
    "start_time": "2021-07-28T07:27:21.686Z"
   },
   {
    "duration": 3,
    "start_time": "2021-07-28T07:27:22.289Z"
   },
   {
    "duration": 7,
    "start_time": "2021-07-28T07:27:22.294Z"
   },
   {
    "duration": 6,
    "start_time": "2021-07-28T07:27:22.303Z"
   },
   {
    "duration": 8,
    "start_time": "2021-07-28T07:27:22.310Z"
   },
   {
    "duration": 43,
    "start_time": "2021-07-28T07:27:22.319Z"
   },
   {
    "duration": 8,
    "start_time": "2021-07-28T07:27:22.363Z"
   },
   {
    "duration": 17,
    "start_time": "2021-07-28T07:27:22.372Z"
   },
   {
    "duration": 7,
    "start_time": "2021-07-28T07:27:22.391Z"
   },
   {
    "duration": 5,
    "start_time": "2021-07-28T07:27:22.400Z"
   },
   {
    "duration": 5,
    "start_time": "2021-07-28T07:27:22.406Z"
   },
   {
    "duration": 332,
    "start_time": "2021-07-28T07:27:22.413Z"
   },
   {
    "duration": 16984,
    "start_time": "2021-07-28T07:27:22.751Z"
   },
   {
    "duration": 19986,
    "start_time": "2021-07-28T07:27:39.740Z"
   },
   {
    "duration": 3,
    "start_time": "2021-07-28T07:27:59.727Z"
   },
   {
    "duration": 16,
    "start_time": "2021-07-28T07:27:59.731Z"
   },
   {
    "duration": 347,
    "start_time": "2021-07-28T07:27:59.750Z"
   },
   {
    "duration": 38,
    "start_time": "2021-07-28T07:28:00.155Z"
   },
   {
    "duration": 1169,
    "start_time": "2021-07-28T07:28:06.238Z"
   },
   {
    "duration": 4,
    "start_time": "2021-07-28T07:28:07.409Z"
   },
   {
    "duration": 677,
    "start_time": "2021-07-28T07:28:09.022Z"
   },
   {
    "duration": 17,
    "start_time": "2021-07-28T07:28:10.453Z"
   },
   {
    "duration": 15,
    "start_time": "2021-07-28T07:28:11.821Z"
   },
   {
    "duration": 14,
    "start_time": "2021-07-28T07:28:14.054Z"
   },
   {
    "duration": 514,
    "start_time": "2021-07-28T07:28:15.518Z"
   },
   {
    "duration": 3,
    "start_time": "2021-07-28T07:28:20.582Z"
   },
   {
    "duration": 5,
    "start_time": "2021-07-28T07:28:21.910Z"
   },
   {
    "duration": 5,
    "start_time": "2021-07-28T07:28:22.717Z"
   },
   {
    "duration": 4,
    "start_time": "2021-07-28T07:30:57.692Z"
   },
   {
    "duration": 4,
    "start_time": "2021-07-28T07:31:07.072Z"
   },
   {
    "duration": 384,
    "start_time": "2021-07-28T07:31:09.738Z"
   },
   {
    "duration": 89,
    "start_time": "2021-07-28T07:31:14.468Z"
   },
   {
    "duration": 5,
    "start_time": "2021-07-28T07:31:15.674Z"
   },
   {
    "duration": 5,
    "start_time": "2021-07-28T07:31:21.255Z"
   },
   {
    "duration": 6,
    "start_time": "2021-07-28T07:31:30.092Z"
   },
   {
    "duration": 5,
    "start_time": "2021-07-28T07:31:45.676Z"
   },
   {
    "duration": 40,
    "start_time": "2021-07-28T07:36:08.186Z"
   },
   {
    "duration": 15,
    "start_time": "2021-07-28T07:36:34.817Z"
   },
   {
    "duration": 17,
    "start_time": "2021-07-28T07:36:39.833Z"
   },
   {
    "duration": 12,
    "start_time": "2021-07-28T07:37:05.991Z"
   },
   {
    "duration": 12,
    "start_time": "2021-07-28T07:37:07.616Z"
   },
   {
    "duration": 48,
    "start_time": "2021-07-28T07:37:11.802Z"
   },
   {
    "duration": 5,
    "start_time": "2021-07-28T07:39:38.524Z"
   },
   {
    "duration": 7,
    "start_time": "2021-07-28T07:39:52.550Z"
   },
   {
    "duration": 5,
    "start_time": "2021-07-28T07:40:02.013Z"
   },
   {
    "duration": 5,
    "start_time": "2021-07-28T07:48:20.963Z"
   },
   {
    "duration": 5,
    "start_time": "2021-07-28T07:53:26.319Z"
   },
   {
    "duration": 4,
    "start_time": "2021-07-28T07:56:36.794Z"
   },
   {
    "duration": 5,
    "start_time": "2021-07-28T07:56:42.898Z"
   },
   {
    "duration": 5,
    "start_time": "2021-07-28T07:56:46.503Z"
   },
   {
    "duration": 21,
    "start_time": "2021-07-28T08:00:02.943Z"
   },
   {
    "duration": 297,
    "start_time": "2021-07-28T08:00:07.080Z"
   },
   {
    "duration": 21,
    "start_time": "2021-07-28T08:00:08.964Z"
   },
   {
    "duration": 28,
    "start_time": "2021-07-28T08:00:23.380Z"
   },
   {
    "duration": 22,
    "start_time": "2021-07-28T08:00:34.149Z"
   },
   {
    "duration": 274,
    "start_time": "2021-07-28T08:06:32.092Z"
   },
   {
    "duration": 5,
    "start_time": "2021-07-28T08:06:42.120Z"
   },
   {
    "duration": 50,
    "start_time": "2021-07-28T08:07:01.916Z"
   },
   {
    "duration": 10,
    "start_time": "2021-07-28T08:08:03.302Z"
   },
   {
    "duration": 6,
    "start_time": "2021-07-28T08:08:13.004Z"
   },
   {
    "duration": 7,
    "start_time": "2021-07-28T08:08:52.307Z"
   },
   {
    "duration": 6900,
    "start_time": "2021-07-28T08:09:53.739Z"
   },
   {
    "duration": -177,
    "start_time": "2021-07-28T08:10:00.818Z"
   },
   {
    "duration": 21,
    "start_time": "2021-07-28T08:10:16.255Z"
   },
   {
    "duration": 14,
    "start_time": "2021-07-28T08:10:27.111Z"
   },
   {
    "duration": 6,
    "start_time": "2021-07-28T08:10:39.672Z"
   },
   {
    "duration": 11,
    "start_time": "2021-07-28T08:13:18.885Z"
   },
   {
    "duration": 5,
    "start_time": "2021-07-28T08:13:24.833Z"
   },
   {
    "duration": 8,
    "start_time": "2021-07-28T08:13:30.823Z"
   },
   {
    "duration": 21,
    "start_time": "2021-07-28T08:13:33.596Z"
   },
   {
    "duration": 5,
    "start_time": "2021-07-28T08:13:41.122Z"
   },
   {
    "duration": 4,
    "start_time": "2021-07-28T08:13:44.903Z"
   },
   {
    "duration": 10,
    "start_time": "2021-07-28T08:14:04.692Z"
   },
   {
    "duration": 336,
    "start_time": "2021-07-28T08:14:10.231Z"
   },
   {
    "duration": 8,
    "start_time": "2021-07-28T08:15:32.016Z"
   },
   {
    "duration": 25,
    "start_time": "2021-07-28T08:17:38.863Z"
   },
   {
    "duration": 18,
    "start_time": "2021-07-28T08:17:43.532Z"
   },
   {
    "duration": 11,
    "start_time": "2021-07-28T08:17:54.932Z"
   },
   {
    "duration": 7,
    "start_time": "2021-07-28T08:17:57.962Z"
   },
   {
    "duration": 6,
    "start_time": "2021-07-28T08:18:02.282Z"
   },
   {
    "duration": 26,
    "start_time": "2021-07-28T08:18:07.944Z"
   },
   {
    "duration": 13,
    "start_time": "2021-07-28T08:18:14.615Z"
   },
   {
    "duration": 29968,
    "start_time": "2021-07-28T08:18:16.955Z"
   },
   {
    "duration": 14,
    "start_time": "2021-07-28T08:19:34.158Z"
   },
   {
    "duration": 14,
    "start_time": "2021-07-28T08:19:38.637Z"
   },
   {
    "duration": 14,
    "start_time": "2021-07-28T08:20:46.252Z"
   },
   {
    "duration": 40177,
    "start_time": "2021-07-28T08:21:20.109Z"
   },
   {
    "duration": 3,
    "start_time": "2021-07-28T08:22:00.288Z"
   },
   {
    "duration": 15,
    "start_time": "2021-07-28T08:22:00.292Z"
   },
   {
    "duration": 1094,
    "start_time": "2021-07-28T12:15:52.191Z"
   },
   {
    "duration": 6301,
    "start_time": "2021-07-28T12:15:53.555Z"
   },
   {
    "duration": 11,
    "start_time": "2021-07-28T12:16:08.490Z"
   },
   {
    "duration": 34,
    "start_time": "2021-07-28T12:16:15.157Z"
   },
   {
    "duration": 3,
    "start_time": "2021-07-28T12:25:58.924Z"
   },
   {
    "duration": 5,
    "start_time": "2021-07-28T12:26:00.458Z"
   },
   {
    "duration": 683,
    "start_time": "2021-07-28T12:26:01.356Z"
   },
   {
    "duration": 10,
    "start_time": "2021-07-28T12:26:07.229Z"
   },
   {
    "duration": 1191,
    "start_time": "2021-07-28T13:15:46.620Z"
   },
   {
    "duration": 3,
    "start_time": "2021-07-28T13:15:47.813Z"
   },
   {
    "duration": 703,
    "start_time": "2021-07-28T13:15:47.818Z"
   },
   {
    "duration": 21,
    "start_time": "2021-07-28T13:15:48.523Z"
   },
   {
    "duration": 19,
    "start_time": "2021-07-28T13:15:48.546Z"
   },
   {
    "duration": 605,
    "start_time": "2021-07-28T13:15:48.566Z"
   },
   {
    "duration": 4,
    "start_time": "2021-07-28T13:15:49.173Z"
   },
   {
    "duration": 8,
    "start_time": "2021-07-28T13:15:49.179Z"
   },
   {
    "duration": 12,
    "start_time": "2021-07-28T13:15:49.189Z"
   },
   {
    "duration": 12,
    "start_time": "2021-07-28T13:15:49.202Z"
   },
   {
    "duration": 21,
    "start_time": "2021-07-28T13:15:49.216Z"
   },
   {
    "duration": 15,
    "start_time": "2021-07-28T13:15:49.239Z"
   },
   {
    "duration": 16,
    "start_time": "2021-07-28T13:15:49.255Z"
   },
   {
    "duration": 357,
    "start_time": "2021-07-28T13:15:49.273Z"
   },
   {
    "duration": -31,
    "start_time": "2021-07-28T13:15:49.663Z"
   },
   {
    "duration": -34,
    "start_time": "2021-07-28T13:15:49.667Z"
   },
   {
    "duration": -36,
    "start_time": "2021-07-28T13:15:49.670Z"
   },
   {
    "duration": -41,
    "start_time": "2021-07-28T13:15:49.675Z"
   },
   {
    "duration": -43,
    "start_time": "2021-07-28T13:15:49.678Z"
   },
   {
    "duration": -45,
    "start_time": "2021-07-28T13:15:49.681Z"
   },
   {
    "duration": -46,
    "start_time": "2021-07-28T13:15:49.683Z"
   },
   {
    "duration": -48,
    "start_time": "2021-07-28T13:15:49.686Z"
   },
   {
    "duration": 3,
    "start_time": "2021-07-28T13:40:30.795Z"
   },
   {
    "duration": 1617,
    "start_time": "2021-07-29T13:06:23.605Z"
   },
   {
    "duration": 5,
    "start_time": "2021-07-29T13:06:25.224Z"
   },
   {
    "duration": 5,
    "start_time": "2021-07-29T13:07:51.762Z"
   },
   {
    "duration": 4,
    "start_time": "2021-07-29T13:07:54.897Z"
   },
   {
    "duration": 403,
    "start_time": "2021-07-29T13:07:56.684Z"
   },
   {
    "duration": 11,
    "start_time": "2021-07-29T13:07:58.053Z"
   },
   {
    "duration": 8,
    "start_time": "2021-07-29T13:08:03.895Z"
   },
   {
    "duration": 4,
    "start_time": "2021-07-29T13:08:57.523Z"
   },
   {
    "duration": 6,
    "start_time": "2021-07-29T13:08:58.525Z"
   },
   {
    "duration": 261,
    "start_time": "2021-07-29T13:09:03.931Z"
   },
   {
    "duration": 4,
    "start_time": "2021-07-29T13:09:07.634Z"
   },
   {
    "duration": 5,
    "start_time": "2021-07-29T13:09:08.915Z"
   },
   {
    "duration": 9,
    "start_time": "2021-07-29T13:09:09.958Z"
   },
   {
    "duration": 6,
    "start_time": "2021-07-29T13:09:14.797Z"
   },
   {
    "duration": 868,
    "start_time": "2021-07-29T13:13:23.081Z"
   },
   {
    "duration": 25,
    "start_time": "2021-07-29T13:13:24.024Z"
   },
   {
    "duration": 27,
    "start_time": "2021-07-29T13:13:26.577Z"
   },
   {
    "duration": 658,
    "start_time": "2021-07-29T13:13:27.504Z"
   },
   {
    "duration": 4,
    "start_time": "2021-07-29T13:13:30.485Z"
   },
   {
    "duration": 8,
    "start_time": "2021-07-29T13:13:31.207Z"
   },
   {
    "duration": 6,
    "start_time": "2021-07-29T13:13:32.670Z"
   },
   {
    "duration": 10,
    "start_time": "2021-07-29T13:13:33.915Z"
   },
   {
    "duration": 23,
    "start_time": "2021-07-29T13:13:35.891Z"
   },
   {
    "duration": 19,
    "start_time": "2021-07-29T13:13:36.479Z"
   },
   {
    "duration": 18,
    "start_time": "2021-07-29T13:13:36.919Z"
   },
   {
    "duration": 266,
    "start_time": "2021-07-29T13:13:47.252Z"
   },
   {
    "duration": 252,
    "start_time": "2021-07-29T13:13:51.492Z"
   },
   {
    "duration": 20,
    "start_time": "2021-07-29T13:14:30.962Z"
   },
   {
    "duration": 12,
    "start_time": "2021-07-29T13:14:34.587Z"
   },
   {
    "duration": 11,
    "start_time": "2021-07-29T13:14:39.318Z"
   },
   {
    "duration": 38564,
    "start_time": "2021-07-29T13:14:57.247Z"
   },
   {
    "duration": 5,
    "start_time": "2021-07-29T13:16:03.166Z"
   },
   {
    "duration": 6,
    "start_time": "2021-07-29T13:16:05.297Z"
   },
   {
    "duration": 4,
    "start_time": "2021-07-29T13:16:13.899Z"
   },
   {
    "duration": 7,
    "start_time": "2021-07-29T13:16:29.437Z"
   },
   {
    "duration": 5,
    "start_time": "2021-07-29T13:16:39.744Z"
   },
   {
    "duration": 6,
    "start_time": "2021-07-29T13:17:11.715Z"
   },
   {
    "duration": 8,
    "start_time": "2021-07-29T13:17:15.626Z"
   },
   {
    "duration": 7,
    "start_time": "2021-07-29T13:17:38.830Z"
   },
   {
    "duration": 7,
    "start_time": "2021-07-29T13:17:39.714Z"
   },
   {
    "duration": 7,
    "start_time": "2021-07-29T13:17:41.627Z"
   },
   {
    "duration": 5,
    "start_time": "2021-07-29T13:18:04.599Z"
   },
   {
    "duration": 252,
    "start_time": "2021-07-29T13:18:10.236Z"
   },
   {
    "duration": 4,
    "start_time": "2021-07-29T13:18:13.102Z"
   },
   {
    "duration": 5,
    "start_time": "2021-07-29T13:18:14.728Z"
   },
   {
    "duration": 6,
    "start_time": "2021-07-29T13:18:15.228Z"
   },
   {
    "duration": 7,
    "start_time": "2021-07-29T13:18:20.040Z"
   },
   {
    "duration": 4,
    "start_time": "2021-07-29T13:18:30.569Z"
   },
   {
    "duration": 4,
    "start_time": "2021-07-29T13:18:48.493Z"
   },
   {
    "duration": 81,
    "start_time": "2021-07-29T13:18:49.108Z"
   },
   {
    "duration": 3,
    "start_time": "2021-07-29T13:18:51.030Z"
   },
   {
    "duration": 6,
    "start_time": "2021-07-29T13:18:51.928Z"
   },
   {
    "duration": 393,
    "start_time": "2021-07-29T13:18:53.224Z"
   },
   {
    "duration": 283,
    "start_time": "2021-07-29T13:18:53.799Z"
   },
   {
    "duration": 4,
    "start_time": "2021-07-29T13:19:26.294Z"
   },
   {
    "duration": 3,
    "start_time": "2021-07-29T13:19:27.024Z"
   },
   {
    "duration": 5,
    "start_time": "2021-07-29T13:19:29.138Z"
   },
   {
    "duration": 279,
    "start_time": "2021-07-29T13:19:29.764Z"
   },
   {
    "duration": 269,
    "start_time": "2021-07-29T13:19:31.425Z"
   },
   {
    "duration": 7,
    "start_time": "2021-07-29T13:19:33.503Z"
   },
   {
    "duration": 6,
    "start_time": "2021-07-29T13:19:35.779Z"
   },
   {
    "duration": 250,
    "start_time": "2021-07-29T13:19:40.364Z"
   },
   {
    "duration": 306,
    "start_time": "2021-07-29T13:19:49.567Z"
   },
   {
    "duration": 4,
    "start_time": "2021-07-29T13:20:13.374Z"
   },
   {
    "duration": 4,
    "start_time": "2021-07-29T13:20:14.233Z"
   },
   {
    "duration": 5,
    "start_time": "2021-07-29T13:20:14.903Z"
   },
   {
    "duration": 4,
    "start_time": "2021-07-29T13:20:15.573Z"
   },
   {
    "duration": 4,
    "start_time": "2021-07-29T13:20:16.484Z"
   },
   {
    "duration": 5,
    "start_time": "2021-07-29T13:20:17.376Z"
   },
   {
    "duration": 5,
    "start_time": "2021-07-29T13:20:18.170Z"
   },
   {
    "duration": 5,
    "start_time": "2021-07-29T13:20:41.005Z"
   },
   {
    "duration": 6,
    "start_time": "2021-07-29T13:20:59.751Z"
   },
   {
    "duration": 4,
    "start_time": "2021-07-29T13:21:03.770Z"
   },
   {
    "duration": 5,
    "start_time": "2021-07-29T13:21:05.201Z"
   },
   {
    "duration": 5,
    "start_time": "2021-07-29T13:21:17.974Z"
   },
   {
    "duration": 8,
    "start_time": "2021-07-29T13:21:18.623Z"
   },
   {
    "duration": 8,
    "start_time": "2021-07-29T13:21:19.662Z"
   },
   {
    "duration": 5,
    "start_time": "2021-07-29T13:21:20.376Z"
   },
   {
    "duration": 5,
    "start_time": "2021-07-29T13:21:22.132Z"
   },
   {
    "duration": 7,
    "start_time": "2021-07-29T13:21:22.920Z"
   },
   {
    "duration": 4,
    "start_time": "2021-07-29T13:21:27.731Z"
   },
   {
    "duration": 5,
    "start_time": "2021-07-29T13:21:28.339Z"
   },
   {
    "duration": 8,
    "start_time": "2021-07-29T13:21:28.970Z"
   },
   {
    "duration": 9,
    "start_time": "2021-07-29T13:21:29.663Z"
   },
   {
    "duration": 4,
    "start_time": "2021-07-29T13:22:01.014Z"
   },
   {
    "duration": 7,
    "start_time": "2021-07-29T13:22:03.130Z"
   },
   {
    "duration": 5,
    "start_time": "2021-07-29T13:22:04.236Z"
   },
   {
    "duration": 5,
    "start_time": "2021-07-29T13:22:04.950Z"
   },
   {
    "duration": 7,
    "start_time": "2021-07-29T13:22:05.477Z"
   },
   {
    "duration": 9,
    "start_time": "2021-07-29T13:22:07.323Z"
   },
   {
    "duration": 6,
    "start_time": "2021-07-29T13:22:07.627Z"
   },
   {
    "duration": 4,
    "start_time": "2021-07-29T13:22:13.750Z"
   },
   {
    "duration": 4,
    "start_time": "2021-07-29T13:22:19.504Z"
   },
   {
    "duration": 7,
    "start_time": "2021-07-29T13:22:20.631Z"
   },
   {
    "duration": 4,
    "start_time": "2021-07-29T13:23:00.406Z"
   },
   {
    "duration": 4,
    "start_time": "2021-07-29T13:23:01.178Z"
   },
   {
    "duration": 8,
    "start_time": "2021-07-29T13:23:01.948Z"
   },
   {
    "duration": 7,
    "start_time": "2021-07-29T13:23:03.407Z"
   },
   {
    "duration": 4,
    "start_time": "2021-07-29T13:23:34.636Z"
   },
   {
    "duration": 6,
    "start_time": "2021-07-29T13:23:35.668Z"
   },
   {
    "duration": 7,
    "start_time": "2021-07-29T13:23:36.178Z"
   },
   {
    "duration": 4,
    "start_time": "2021-07-29T13:24:38.101Z"
   },
   {
    "duration": 4,
    "start_time": "2021-07-29T13:24:46.700Z"
   },
   {
    "duration": 7,
    "start_time": "2021-07-29T13:24:48.490Z"
   },
   {
    "duration": 8,
    "start_time": "2021-07-29T13:24:49.545Z"
   },
   {
    "duration": 6,
    "start_time": "2021-07-29T13:24:54.865Z"
   },
   {
    "duration": 7,
    "start_time": "2021-07-29T13:24:56.589Z"
   },
   {
    "duration": 8,
    "start_time": "2021-07-29T13:24:57.461Z"
   },
   {
    "duration": 5,
    "start_time": "2021-07-29T13:25:00.404Z"
   },
   {
    "duration": 7,
    "start_time": "2021-07-29T13:25:01.779Z"
   },
   {
    "duration": 5,
    "start_time": "2021-07-29T13:25:05.992Z"
   },
   {
    "duration": 7,
    "start_time": "2021-07-29T13:25:07.010Z"
   },
   {
    "duration": 4,
    "start_time": "2021-07-29T13:25:09.373Z"
   },
   {
    "duration": 6,
    "start_time": "2021-07-29T13:25:10.141Z"
   },
   {
    "duration": 5,
    "start_time": "2021-07-29T13:25:21.300Z"
   },
   {
    "duration": 7,
    "start_time": "2021-07-29T13:25:22.170Z"
   },
   {
    "duration": 9,
    "start_time": "2021-07-29T13:25:24.426Z"
   },
   {
    "duration": 7,
    "start_time": "2021-07-29T13:25:24.965Z"
   },
   {
    "duration": 5,
    "start_time": "2021-07-29T13:25:27.578Z"
   },
   {
    "duration": 7,
    "start_time": "2021-07-29T13:25:28.441Z"
   },
   {
    "duration": 5,
    "start_time": "2021-07-29T13:25:30.684Z"
   },
   {
    "duration": 7,
    "start_time": "2021-07-29T13:25:31.557Z"
   },
   {
    "duration": 5,
    "start_time": "2021-07-29T13:25:34.559Z"
   },
   {
    "duration": 7,
    "start_time": "2021-07-29T13:25:35.335Z"
   },
   {
    "duration": 5,
    "start_time": "2021-07-29T13:25:37.888Z"
   },
   {
    "duration": 7,
    "start_time": "2021-07-29T13:25:38.454Z"
   },
   {
    "duration": 5,
    "start_time": "2021-07-29T13:25:40.883Z"
   },
   {
    "duration": 7,
    "start_time": "2021-07-29T13:25:41.715Z"
   },
   {
    "duration": 5,
    "start_time": "2021-07-29T13:26:09.143Z"
   },
   {
    "duration": 4,
    "start_time": "2021-07-29T13:26:10.198Z"
   },
   {
    "duration": 5,
    "start_time": "2021-07-29T13:26:10.913Z"
   },
   {
    "duration": 8,
    "start_time": "2021-07-29T13:26:11.395Z"
   },
   {
    "duration": 4,
    "start_time": "2021-07-29T13:26:14.352Z"
   },
   {
    "duration": 8,
    "start_time": "2021-07-29T13:26:15.103Z"
   },
   {
    "duration": 9,
    "start_time": "2021-07-29T13:26:19.913Z"
   },
   {
    "duration": 9,
    "start_time": "2021-07-29T13:26:29.164Z"
   },
   {
    "duration": 278,
    "start_time": "2021-07-29T13:27:22.444Z"
   },
   {
    "duration": 257,
    "start_time": "2021-07-29T13:27:26.731Z"
   },
   {
    "duration": 286,
    "start_time": "2021-07-29T13:27:29.998Z"
   },
   {
    "duration": 10,
    "start_time": "2021-07-29T13:28:19.770Z"
   },
   {
    "duration": 12,
    "start_time": "2021-07-29T13:28:24.235Z"
   },
   {
    "duration": 9,
    "start_time": "2021-07-29T13:28:28.063Z"
   },
   {
    "duration": 9,
    "start_time": "2021-07-29T13:28:33.703Z"
   },
   {
    "duration": 10,
    "start_time": "2021-07-29T13:29:19.427Z"
   },
   {
    "duration": 10,
    "start_time": "2021-07-29T13:29:24.620Z"
   },
   {
    "duration": 10,
    "start_time": "2021-07-29T13:29:26.297Z"
   },
   {
    "duration": 9,
    "start_time": "2021-07-29T13:29:29.316Z"
   },
   {
    "duration": 5,
    "start_time": "2021-07-29T13:29:47.082Z"
   },
   {
    "duration": 12,
    "start_time": "2021-07-29T13:32:10.948Z"
   },
   {
    "duration": 9,
    "start_time": "2021-07-29T13:32:19.281Z"
   },
   {
    "duration": 4,
    "start_time": "2021-07-29T13:34:11.311Z"
   },
   {
    "duration": 11,
    "start_time": "2021-07-29T13:34:12.061Z"
   },
   {
    "duration": 9,
    "start_time": "2021-07-29T13:34:12.897Z"
   },
   {
    "duration": 11,
    "start_time": "2021-07-29T13:34:13.858Z"
   },
   {
    "duration": 87,
    "start_time": "2021-07-29T13:34:22.186Z"
   },
   {
    "duration": 4,
    "start_time": "2021-07-29T13:34:23.827Z"
   },
   {
    "duration": 12,
    "start_time": "2021-07-29T13:34:25.159Z"
   },
   {
    "duration": 9,
    "start_time": "2021-07-29T13:34:25.904Z"
   },
   {
    "duration": 5,
    "start_time": "2021-07-29T13:34:34.713Z"
   },
   {
    "duration": 9,
    "start_time": "2021-07-29T13:34:35.402Z"
   },
   {
    "duration": 7,
    "start_time": "2021-07-29T13:35:16.043Z"
   },
   {
    "duration": 8,
    "start_time": "2021-07-29T13:35:41.466Z"
   },
   {
    "duration": 7,
    "start_time": "2021-07-29T13:35:43.046Z"
   },
   {
    "duration": 7,
    "start_time": "2021-07-29T13:35:43.818Z"
   },
   {
    "duration": 4,
    "start_time": "2021-07-29T13:36:18.254Z"
   },
   {
    "duration": 7,
    "start_time": "2021-07-29T13:36:19.681Z"
   },
   {
    "duration": 6,
    "start_time": "2021-07-29T13:36:20.482Z"
   },
   {
    "duration": 4,
    "start_time": "2021-07-29T13:36:37.622Z"
   },
   {
    "duration": 7,
    "start_time": "2021-07-29T13:36:38.696Z"
   },
   {
    "duration": 4,
    "start_time": "2021-07-29T13:36:45.965Z"
   },
   {
    "duration": 7,
    "start_time": "2021-07-29T13:36:46.968Z"
   },
   {
    "duration": 4,
    "start_time": "2021-07-29T13:36:51.687Z"
   },
   {
    "duration": 7,
    "start_time": "2021-07-29T13:36:52.533Z"
   },
   {
    "duration": 4,
    "start_time": "2021-07-29T13:38:04.848Z"
   },
   {
    "duration": 4,
    "start_time": "2021-07-29T13:38:31.377Z"
   },
   {
    "duration": 7,
    "start_time": "2021-07-29T13:38:33.541Z"
   },
   {
    "duration": 7,
    "start_time": "2021-07-29T13:38:34.337Z"
   },
   {
    "duration": 10,
    "start_time": "2021-07-29T13:38:35.813Z"
   },
   {
    "duration": 4,
    "start_time": "2021-07-29T13:38:36.955Z"
   },
   {
    "duration": 7,
    "start_time": "2021-07-29T13:38:37.596Z"
   },
   {
    "duration": 11,
    "start_time": "2021-07-29T13:38:59.266Z"
   },
   {
    "duration": 11,
    "start_time": "2021-07-29T13:39:00.257Z"
   },
   {
    "duration": 5,
    "start_time": "2021-07-29T13:39:03.478Z"
   },
   {
    "duration": 11,
    "start_time": "2021-07-29T13:39:04.168Z"
   },
   {
    "duration": 4,
    "start_time": "2021-07-29T13:39:06.071Z"
   },
   {
    "duration": 4,
    "start_time": "2021-07-29T13:39:41.494Z"
   },
   {
    "duration": 10,
    "start_time": "2021-07-29T13:39:42.450Z"
   },
   {
    "duration": 4,
    "start_time": "2021-07-29T13:39:43.785Z"
   },
   {
    "duration": 10,
    "start_time": "2021-07-29T13:39:44.356Z"
   },
   {
    "duration": 4,
    "start_time": "2021-07-29T13:40:07.932Z"
   },
   {
    "duration": 9,
    "start_time": "2021-07-29T13:40:08.574Z"
   },
   {
    "duration": 12,
    "start_time": "2021-07-29T13:40:50.429Z"
   },
   {
    "duration": 10,
    "start_time": "2021-07-29T13:40:56.280Z"
   },
   {
    "duration": 12,
    "start_time": "2021-07-29T13:40:57.070Z"
   },
   {
    "duration": 10,
    "start_time": "2021-07-29T13:41:07.136Z"
   },
   {
    "duration": 10,
    "start_time": "2021-07-29T13:41:08.207Z"
   },
   {
    "duration": 10,
    "start_time": "2021-07-29T13:41:09.117Z"
   },
   {
    "duration": 11,
    "start_time": "2021-07-29T13:41:10.543Z"
   },
   {
    "duration": 12,
    "start_time": "2021-07-29T13:41:49.243Z"
   },
   {
    "duration": 12,
    "start_time": "2021-07-29T13:42:07.185Z"
   },
   {
    "duration": 87,
    "start_time": "2021-07-29T13:42:26.264Z"
   },
   {
    "duration": 4,
    "start_time": "2021-07-29T13:42:30.175Z"
   },
   {
    "duration": 11,
    "start_time": "2021-07-29T13:42:31.613Z"
   },
   {
    "duration": 11,
    "start_time": "2021-07-29T13:42:32.606Z"
   },
   {
    "duration": 5,
    "start_time": "2021-07-29T13:43:33.267Z"
   },
   {
    "duration": 16,
    "start_time": "2021-07-29T13:43:34.542Z"
   },
   {
    "duration": 4,
    "start_time": "2021-07-29T13:43:39.750Z"
   },
   {
    "duration": 15,
    "start_time": "2021-07-29T13:43:40.656Z"
   },
   {
    "duration": 11,
    "start_time": "2021-07-29T13:43:41.392Z"
   },
   {
    "duration": 12,
    "start_time": "2021-07-29T13:43:42.629Z"
   },
   {
    "duration": 5,
    "start_time": "2021-07-29T13:43:43.415Z"
   },
   {
    "duration": 11,
    "start_time": "2021-07-29T13:43:44.094Z"
   },
   {
    "duration": 5,
    "start_time": "2021-07-29T13:44:11.714Z"
   },
   {
    "duration": 12,
    "start_time": "2021-07-29T13:44:12.232Z"
   },
   {
    "duration": 12,
    "start_time": "2021-07-29T13:44:13.067Z"
   },
   {
    "duration": 5,
    "start_time": "2021-07-29T13:44:18.773Z"
   },
   {
    "duration": 12,
    "start_time": "2021-07-29T13:44:19.434Z"
   },
   {
    "duration": 12,
    "start_time": "2021-07-29T13:44:20.367Z"
   },
   {
    "duration": 11,
    "start_time": "2021-07-29T13:44:21.477Z"
   },
   {
    "duration": 11,
    "start_time": "2021-07-29T13:44:22.663Z"
   },
   {
    "duration": 10,
    "start_time": "2021-07-29T13:44:30.513Z"
   },
   {
    "duration": 4,
    "start_time": "2021-07-29T13:44:34.594Z"
   },
   {
    "duration": 11,
    "start_time": "2021-07-29T13:44:51.412Z"
   },
   {
    "duration": 11,
    "start_time": "2021-07-29T13:44:52.518Z"
   },
   {
    "duration": 1207,
    "start_time": "2021-07-30T07:46:15.377Z"
   },
   {
    "duration": 4,
    "start_time": "2021-07-30T07:46:16.586Z"
   },
   {
    "duration": 741,
    "start_time": "2021-07-30T07:46:16.592Z"
   },
   {
    "duration": 18,
    "start_time": "2021-07-30T07:46:17.334Z"
   },
   {
    "duration": 37,
    "start_time": "2021-07-30T07:46:17.354Z"
   },
   {
    "duration": 343,
    "start_time": "2021-07-30T07:46:17.393Z"
   },
   {
    "duration": 3,
    "start_time": "2021-07-30T07:46:17.738Z"
   },
   {
    "duration": 7,
    "start_time": "2021-07-30T07:46:17.743Z"
   },
   {
    "duration": 5,
    "start_time": "2021-07-30T07:46:17.753Z"
   },
   {
    "duration": 26,
    "start_time": "2021-07-30T07:46:17.760Z"
   },
   {
    "duration": 25,
    "start_time": "2021-07-30T07:46:17.789Z"
   },
   {
    "duration": 20,
    "start_time": "2021-07-30T07:46:17.817Z"
   },
   {
    "duration": 17,
    "start_time": "2021-07-30T07:46:17.839Z"
   },
   {
    "duration": 13,
    "start_time": "2021-07-30T07:46:17.886Z"
   },
   {
    "duration": 4,
    "start_time": "2021-07-30T07:46:17.901Z"
   },
   {
    "duration": 3,
    "start_time": "2021-07-30T07:46:17.908Z"
   },
   {
    "duration": 275,
    "start_time": "2021-07-30T07:46:17.914Z"
   },
   {
    "duration": 30092,
    "start_time": "2021-07-30T07:46:18.192Z"
   },
   {
    "duration": 39888,
    "start_time": "2021-07-30T07:46:48.286Z"
   },
   {
    "duration": 9,
    "start_time": "2021-07-30T07:47:28.176Z"
   },
   {
    "duration": 21,
    "start_time": "2021-07-30T07:47:28.187Z"
   },
   {
    "duration": 557,
    "start_time": "2021-07-30T07:47:28.209Z"
   },
   {
    "duration": 3,
    "start_time": "2021-07-30T07:47:28.768Z"
   },
   {
    "duration": 16,
    "start_time": "2021-07-30T07:47:28.773Z"
   },
   {
    "duration": 96,
    "start_time": "2021-07-30T07:47:28.790Z"
   },
   {
    "duration": 64,
    "start_time": "2021-07-30T07:47:53.071Z"
   },
   {
    "duration": 6,
    "start_time": "2021-07-30T07:48:04.294Z"
   },
   {
    "duration": 7,
    "start_time": "2021-07-30T07:49:53.963Z"
   },
   {
    "duration": 10,
    "start_time": "2021-07-30T07:50:06.838Z"
   },
   {
    "duration": 286,
    "start_time": "2021-07-30T07:53:31.564Z"
   },
   {
    "duration": 3,
    "start_time": "2021-07-30T07:56:48.579Z"
   },
   {
    "duration": 175,
    "start_time": "2021-07-30T07:57:05.218Z"
   },
   {
    "duration": 5111,
    "start_time": "2021-07-30T08:00:25.992Z"
   },
   {
    "duration": 1939,
    "start_time": "2021-07-30T08:03:45.683Z"
   },
   {
    "duration": 383,
    "start_time": "2021-07-30T08:04:18.798Z"
   },
   {
    "duration": 13,
    "start_time": "2021-07-30T08:05:08.399Z"
   },
   {
    "duration": 3064,
    "start_time": "2021-07-30T08:08:14.028Z"
   },
   {
    "duration": 3187,
    "start_time": "2021-07-30T08:09:01.199Z"
   },
   {
    "duration": 3037,
    "start_time": "2021-07-30T08:10:16.855Z"
   },
   {
    "duration": 3398,
    "start_time": "2021-07-30T08:11:01.701Z"
   },
   {
    "duration": 2829,
    "start_time": "2021-07-30T08:11:28.257Z"
   },
   {
    "duration": 2669,
    "start_time": "2021-07-30T08:11:41.026Z"
   },
   {
    "duration": 238,
    "start_time": "2021-07-30T08:18:09.483Z"
   },
   {
    "duration": 693,
    "start_time": "2021-07-30T08:18:48.285Z"
   },
   {
    "duration": 1176,
    "start_time": "2021-07-30T08:19:16.509Z"
   },
   {
    "duration": 4,
    "start_time": "2021-07-30T08:19:17.688Z"
   },
   {
    "duration": 750,
    "start_time": "2021-07-30T08:19:17.695Z"
   },
   {
    "duration": 16,
    "start_time": "2021-07-30T08:19:18.447Z"
   },
   {
    "duration": 34,
    "start_time": "2021-07-30T08:19:18.465Z"
   },
   {
    "duration": 318,
    "start_time": "2021-07-30T08:19:18.501Z"
   },
   {
    "duration": 3,
    "start_time": "2021-07-30T08:19:18.821Z"
   },
   {
    "duration": 24,
    "start_time": "2021-07-30T08:19:18.827Z"
   },
   {
    "duration": 6,
    "start_time": "2021-07-30T08:19:18.853Z"
   },
   {
    "duration": 6,
    "start_time": "2021-07-30T08:19:18.861Z"
   },
   {
    "duration": 21,
    "start_time": "2021-07-30T08:19:18.868Z"
   },
   {
    "duration": 20,
    "start_time": "2021-07-30T08:19:18.891Z"
   },
   {
    "duration": 15,
    "start_time": "2021-07-30T08:19:18.912Z"
   },
   {
    "duration": 3,
    "start_time": "2021-07-30T08:19:18.929Z"
   },
   {
    "duration": 7,
    "start_time": "2021-07-30T08:19:18.933Z"
   },
   {
    "duration": 4,
    "start_time": "2021-07-30T08:19:18.941Z"
   },
   {
    "duration": 3041,
    "start_time": "2021-07-30T08:19:18.946Z"
   },
   {
    "duration": 309151,
    "start_time": "2021-07-30T08:19:21.989Z"
   },
   {
    "duration": 53,
    "start_time": "2021-07-30T08:24:31.142Z"
   },
   {
    "duration": 4,
    "start_time": "2021-07-30T08:26:52.519Z"
   },
   {
    "duration": 4,
    "start_time": "2021-07-30T08:27:00.337Z"
   },
   {
    "duration": 4,
    "start_time": "2021-07-30T08:27:30.043Z"
   },
   {
    "duration": 3413,
    "start_time": "2021-07-30T08:27:32.172Z"
   },
   {
    "duration": 4,
    "start_time": "2021-07-30T08:27:44.565Z"
   },
   {
    "duration": 2,
    "start_time": "2021-07-30T08:27:46.535Z"
   },
   {
    "duration": 3185,
    "start_time": "2021-07-30T08:27:47.400Z"
   },
   {
    "duration": 1595,
    "start_time": "2021-07-31T17:27:45.743Z"
   },
   {
    "duration": 5,
    "start_time": "2021-07-31T17:27:47.341Z"
   },
   {
    "duration": 935,
    "start_time": "2021-07-31T17:27:47.348Z"
   },
   {
    "duration": 27,
    "start_time": "2021-07-31T17:27:48.286Z"
   },
   {
    "duration": 27,
    "start_time": "2021-07-31T17:27:48.315Z"
   },
   {
    "duration": 635,
    "start_time": "2021-07-31T17:27:48.344Z"
   },
   {
    "duration": 5,
    "start_time": "2021-07-31T17:27:48.982Z"
   },
   {
    "duration": 10,
    "start_time": "2021-07-31T17:27:48.990Z"
   },
   {
    "duration": 7,
    "start_time": "2021-07-31T17:27:49.003Z"
   },
   {
    "duration": 8,
    "start_time": "2021-07-31T17:27:49.012Z"
   },
   {
    "duration": 61,
    "start_time": "2021-07-31T17:27:49.022Z"
   },
   {
    "duration": 20,
    "start_time": "2021-07-31T17:27:49.085Z"
   },
   {
    "duration": 21,
    "start_time": "2021-07-31T17:27:49.107Z"
   },
   {
    "duration": 5,
    "start_time": "2021-07-31T17:27:49.131Z"
   },
   {
    "duration": 37,
    "start_time": "2021-07-31T17:27:49.138Z"
   },
   {
    "duration": 4,
    "start_time": "2021-07-31T17:28:00.326Z"
   },
   {
    "duration": 8,
    "start_time": "2021-07-31T17:28:01.493Z"
   },
   {
    "duration": 4,
    "start_time": "2021-07-31T17:28:03.077Z"
   },
   {
    "duration": 3239,
    "start_time": "2021-07-31T17:28:13.335Z"
   },
   {
    "duration": 402589,
    "start_time": "2021-07-31T17:28:19.080Z"
   },
   {
    "duration": 396944,
    "start_time": "2021-07-31T17:50:20.430Z"
   },
   {
    "duration": 1627,
    "start_time": "2021-08-01T12:39:32.837Z"
   },
   {
    "duration": 5,
    "start_time": "2021-08-01T12:39:45.789Z"
   },
   {
    "duration": 912,
    "start_time": "2021-08-01T12:39:47.381Z"
   },
   {
    "duration": 26,
    "start_time": "2021-08-01T12:39:49.919Z"
   },
   {
    "duration": 26,
    "start_time": "2021-08-01T12:39:53.422Z"
   },
   {
    "duration": 768,
    "start_time": "2021-08-01T12:39:56.223Z"
   },
   {
    "duration": 5,
    "start_time": "2021-08-01T12:40:02.960Z"
   },
   {
    "duration": 8,
    "start_time": "2021-08-01T12:40:03.399Z"
   },
   {
    "duration": 7,
    "start_time": "2021-08-01T12:40:04.831Z"
   },
   {
    "duration": 8,
    "start_time": "2021-08-01T12:40:22.170Z"
   },
   {
    "duration": 22,
    "start_time": "2021-08-01T12:40:25.410Z"
   },
   {
    "duration": 20,
    "start_time": "2021-08-01T12:40:26.035Z"
   },
   {
    "duration": 20,
    "start_time": "2021-08-01T12:40:26.643Z"
   },
   {
    "duration": 18665,
    "start_time": "2021-08-01T12:43:35.828Z"
   },
   {
    "duration": 61,
    "start_time": "2021-08-01T12:48:14.721Z"
   },
   {
    "duration": 83,
    "start_time": "2021-08-01T12:48:29.551Z"
   },
   {
    "duration": 734,
    "start_time": "2021-08-01T12:48:41.752Z"
   },
   {
    "duration": 893,
    "start_time": "2021-08-01T12:48:45.173Z"
   },
   {
    "duration": 465,
    "start_time": "2021-08-01T12:48:50.934Z"
   },
   {
    "duration": 83,
    "start_time": "2021-08-01T12:48:54.744Z"
   },
   {
    "duration": 82,
    "start_time": "2021-08-01T12:49:02.114Z"
   },
   {
    "duration": 82,
    "start_time": "2021-08-01T12:49:09.549Z"
   },
   {
    "duration": 441,
    "start_time": "2021-08-01T12:49:22.261Z"
   },
   {
    "duration": 32,
    "start_time": "2021-08-01T12:50:47.413Z"
   },
   {
    "duration": 12,
    "start_time": "2021-08-01T13:22:13.327Z"
   },
   {
    "duration": 23,
    "start_time": "2021-08-01T13:22:56.205Z"
   },
   {
    "duration": 1875,
    "start_time": "2021-08-01T13:29:24.335Z"
   },
   {
    "duration": 1619,
    "start_time": "2021-08-01T13:32:45.210Z"
   },
   {
    "duration": 1402,
    "start_time": "2021-08-01T13:32:59.587Z"
   },
   {
    "duration": 6,
    "start_time": "2021-08-01T13:46:14.726Z"
   },
   {
    "duration": 5256,
    "start_time": "2021-08-01T13:46:26.303Z"
   },
   {
    "duration": 969,
    "start_time": "2021-08-01T13:47:08.236Z"
   },
   {
    "duration": 4,
    "start_time": "2021-08-01T14:32:57.263Z"
   },
   {
    "duration": 415,
    "start_time": "2021-08-01T14:32:58.431Z"
   },
   {
    "duration": 406,
    "start_time": "2021-08-01T14:33:03.672Z"
   },
   {
    "duration": 5,
    "start_time": "2021-08-01T14:33:05.367Z"
   },
   {
    "duration": 9,
    "start_time": "2021-08-01T14:33:06.127Z"
   },
   {
    "duration": 4,
    "start_time": "2021-08-01T14:33:07.241Z"
   },
   {
    "duration": 488,
    "start_time": "2021-08-01T15:23:03.634Z"
   },
   {
    "duration": 29,
    "start_time": "2021-08-01T15:23:04.096Z"
   },
   {
    "duration": 1598,
    "start_time": "2021-08-01T15:23:08.360Z"
   },
   {
    "duration": 6,
    "start_time": "2021-08-01T15:23:09.961Z"
   },
   {
    "duration": 908,
    "start_time": "2021-08-01T15:23:09.971Z"
   },
   {
    "duration": 28,
    "start_time": "2021-08-01T15:23:10.885Z"
   },
   {
    "duration": 28,
    "start_time": "2021-08-01T15:23:10.916Z"
   },
   {
    "duration": 790,
    "start_time": "2021-08-01T15:23:10.947Z"
   },
   {
    "duration": 6,
    "start_time": "2021-08-01T15:23:11.740Z"
   },
   {
    "duration": 37,
    "start_time": "2021-08-01T15:23:11.751Z"
   },
   {
    "duration": 6,
    "start_time": "2021-08-01T15:23:11.792Z"
   },
   {
    "duration": 12,
    "start_time": "2021-08-01T15:23:11.801Z"
   },
   {
    "duration": 24,
    "start_time": "2021-08-01T15:23:11.816Z"
   },
   {
    "duration": 58,
    "start_time": "2021-08-01T15:23:11.842Z"
   },
   {
    "duration": 20,
    "start_time": "2021-08-01T15:23:11.903Z"
   },
   {
    "duration": 22,
    "start_time": "2021-08-01T15:23:11.926Z"
   },
   {
    "duration": 481,
    "start_time": "2021-08-01T15:23:11.950Z"
   },
   {
    "duration": 36,
    "start_time": "2021-08-01T15:23:12.398Z"
   },
   {
    "duration": 31,
    "start_time": "2021-08-01T15:23:12.404Z"
   },
   {
    "duration": 28,
    "start_time": "2021-08-01T15:23:12.409Z"
   },
   {
    "duration": 27,
    "start_time": "2021-08-01T15:23:12.411Z"
   },
   {
    "duration": 22,
    "start_time": "2021-08-01T15:23:12.417Z"
   },
   {
    "duration": 41,
    "start_time": "2021-08-01T15:30:20.013Z"
   },
   {
    "duration": 432,
    "start_time": "2021-08-01T15:32:07.650Z"
   },
   {
    "duration": 5,
    "start_time": "2021-08-01T15:32:09.481Z"
   },
   {
    "duration": 42,
    "start_time": "2021-08-01T15:32:24.532Z"
   },
   {
    "duration": 55,
    "start_time": "2021-08-01T15:32:29.549Z"
   },
   {
    "duration": 42,
    "start_time": "2021-08-01T15:32:58.305Z"
   },
   {
    "duration": 42,
    "start_time": "2021-08-01T15:32:59.994Z"
   },
   {
    "duration": 5,
    "start_time": "2021-08-01T15:33:17.867Z"
   },
   {
    "duration": 48,
    "start_time": "2021-08-01T15:34:09.779Z"
   },
   {
    "duration": 5,
    "start_time": "2021-08-01T15:34:11.331Z"
   },
   {
    "duration": 6,
    "start_time": "2021-08-01T15:34:24.068Z"
   },
   {
    "duration": 489,
    "start_time": "2021-08-01T15:34:31.637Z"
   },
   {
    "duration": 21,
    "start_time": "2021-08-01T15:34:35.934Z"
   },
   {
    "duration": 41,
    "start_time": "2021-08-01T15:34:42.239Z"
   },
   {
    "duration": 33,
    "start_time": "2021-08-01T16:04:57.320Z"
   },
   {
    "duration": 6,
    "start_time": "2021-08-01T16:05:00.926Z"
   },
   {
    "duration": 6,
    "start_time": "2021-08-01T16:05:03.278Z"
   },
   {
    "duration": 34,
    "start_time": "2021-08-01T16:07:10.576Z"
   },
   {
    "duration": 6,
    "start_time": "2021-08-01T16:07:13.087Z"
   },
   {
    "duration": 6,
    "start_time": "2021-08-01T16:07:14.359Z"
   },
   {
    "duration": 463,
    "start_time": "2021-08-01T17:19:24.742Z"
   },
   {
    "duration": 4,
    "start_time": "2021-08-01T17:19:25.469Z"
   },
   {
    "duration": 4,
    "start_time": "2021-08-01T17:19:27.444Z"
   },
   {
    "duration": 8,
    "start_time": "2021-08-01T17:19:28.125Z"
   },
   {
    "duration": 21,
    "start_time": "2021-08-01T17:19:33.768Z"
   },
   {
    "duration": 398,
    "start_time": "2021-08-01T17:19:35.223Z"
   },
   {
    "duration": 15,
    "start_time": "2021-08-01T17:41:26.085Z"
   },
   {
    "duration": 25,
    "start_time": "2021-08-01T17:41:31.924Z"
   },
   {
    "duration": 18,
    "start_time": "2021-08-01T17:42:31.060Z"
   },
   {
    "duration": 20,
    "start_time": "2021-08-01T17:43:01.768Z"
   },
   {
    "duration": 18,
    "start_time": "2021-08-01T17:43:02.472Z"
   },
   {
    "duration": 397,
    "start_time": "2021-08-01T17:45:03.705Z"
   },
   {
    "duration": 3427,
    "start_time": "2021-08-01T17:45:41.886Z"
   },
   {
    "duration": 1548,
    "start_time": "2021-08-02T08:00:57.492Z"
   },
   {
    "duration": 6,
    "start_time": "2021-08-02T08:01:01.001Z"
   },
   {
    "duration": 1167,
    "start_time": "2021-08-02T08:01:02.257Z"
   },
   {
    "duration": 47,
    "start_time": "2021-08-02T08:01:03.427Z"
   },
   {
    "duration": 37,
    "start_time": "2021-08-02T08:01:04.678Z"
   },
   {
    "duration": 649,
    "start_time": "2021-08-02T08:01:06.191Z"
   },
   {
    "duration": 5,
    "start_time": "2021-08-02T08:01:13.071Z"
   },
   {
    "duration": 8,
    "start_time": "2021-08-02T08:01:13.756Z"
   },
   {
    "duration": 6,
    "start_time": "2021-08-02T08:01:14.500Z"
   },
   {
    "duration": 6,
    "start_time": "2021-08-02T08:01:27.477Z"
   },
   {
    "duration": 8,
    "start_time": "2021-08-02T08:01:31.192Z"
   },
   {
    "duration": 22,
    "start_time": "2021-08-02T08:01:33.720Z"
   },
   {
    "duration": 20,
    "start_time": "2021-08-02T08:01:34.681Z"
   },
   {
    "duration": 19,
    "start_time": "2021-08-02T08:01:35.820Z"
   },
   {
    "duration": 17,
    "start_time": "2021-08-02T08:01:40.253Z"
   },
   {
    "duration": 22,
    "start_time": "2021-08-02T08:01:51.680Z"
   },
   {
    "duration": 449,
    "start_time": "2021-08-02T08:01:59.883Z"
   },
   {
    "duration": 316,
    "start_time": "2021-08-02T08:02:02.064Z"
   },
   {
    "duration": 1516,
    "start_time": "2021-08-02T08:02:07.607Z"
   },
   {
    "duration": 1520,
    "start_time": "2021-08-02T08:02:14.328Z"
   },
   {
    "duration": 276,
    "start_time": "2021-08-02T08:02:39.238Z"
   },
   {
    "duration": 6349,
    "start_time": "2021-08-02T08:02:42.074Z"
   },
   {
    "duration": 1420,
    "start_time": "2021-08-02T08:03:25.513Z"
   },
   {
    "duration": 2130,
    "start_time": "2021-08-02T08:03:59.894Z"
   },
   {
    "duration": 2357,
    "start_time": "2021-08-02T08:04:11.668Z"
   },
   {
    "duration": 32,
    "start_time": "2021-08-02T08:09:03.700Z"
   },
   {
    "duration": 6631,
    "start_time": "2021-08-02T08:09:21.165Z"
   },
   {
    "duration": 1197,
    "start_time": "2021-08-02T08:13:23.230Z"
   },
   {
    "duration": 557,
    "start_time": "2021-08-02T08:23:11.296Z"
   },
   {
    "duration": 551,
    "start_time": "2021-08-02T08:23:24.274Z"
   },
   {
    "duration": 365,
    "start_time": "2021-08-02T08:23:27.898Z"
   },
   {
    "duration": 344,
    "start_time": "2021-08-02T08:23:34.074Z"
   },
   {
    "duration": 683,
    "start_time": "2021-08-02T08:23:38.380Z"
   },
   {
    "duration": 945,
    "start_time": "2021-08-02T08:23:46.492Z"
   },
   {
    "duration": 684,
    "start_time": "2021-08-02T08:23:50.170Z"
   },
   {
    "duration": 397,
    "start_time": "2021-08-02T08:23:57.155Z"
   },
   {
    "duration": 555,
    "start_time": "2021-08-02T08:24:05.861Z"
   },
   {
    "duration": 547,
    "start_time": "2021-08-02T08:24:37.368Z"
   },
   {
    "duration": 549,
    "start_time": "2021-08-02T08:24:53.126Z"
   },
   {
    "duration": 545,
    "start_time": "2021-08-02T08:24:57.938Z"
   },
   {
    "duration": 552,
    "start_time": "2021-08-02T08:25:14.050Z"
   },
   {
    "duration": 342,
    "start_time": "2021-08-02T08:25:26.495Z"
   },
   {
    "duration": 9,
    "start_time": "2021-08-02T08:25:27.886Z"
   },
   {
    "duration": 9,
    "start_time": "2021-08-02T08:25:50.685Z"
   },
   {
    "duration": 8,
    "start_time": "2021-08-02T08:25:53.000Z"
   },
   {
    "duration": 8,
    "start_time": "2021-08-02T08:25:55.624Z"
   },
   {
    "duration": 10,
    "start_time": "2021-08-02T08:25:58.138Z"
   },
   {
    "duration": 11,
    "start_time": "2021-08-02T08:26:00.456Z"
   },
   {
    "duration": 334,
    "start_time": "2021-08-02T08:26:04.260Z"
   },
   {
    "duration": 13,
    "start_time": "2021-08-02T08:26:05.003Z"
   },
   {
    "duration": 12,
    "start_time": "2021-08-02T08:26:07.669Z"
   },
   {
    "duration": 9,
    "start_time": "2021-08-02T08:26:10.337Z"
   },
   {
    "duration": 9,
    "start_time": "2021-08-02T08:26:20.629Z"
   },
   {
    "duration": 344,
    "start_time": "2021-08-02T08:26:29.931Z"
   },
   {
    "duration": 21,
    "start_time": "2021-08-02T08:26:31.272Z"
   },
   {
    "duration": 229,
    "start_time": "2021-08-02T08:26:39.285Z"
   },
   {
    "duration": 270,
    "start_time": "2021-08-02T08:26:42.491Z"
   },
   {
    "duration": 226,
    "start_time": "2021-08-02T08:26:45.595Z"
   },
   {
    "duration": 25,
    "start_time": "2021-08-02T08:26:53.002Z"
   },
   {
    "duration": 13,
    "start_time": "2021-08-02T08:27:01.187Z"
   },
   {
    "duration": 15,
    "start_time": "2021-08-02T08:27:04.957Z"
   },
   {
    "duration": 7,
    "start_time": "2021-08-02T08:27:10.545Z"
   },
   {
    "duration": 7,
    "start_time": "2021-08-02T08:27:13.118Z"
   },
   {
    "duration": 6,
    "start_time": "2021-08-02T08:27:15.166Z"
   },
   {
    "duration": 7,
    "start_time": "2021-08-02T08:27:17.404Z"
   },
   {
    "duration": 9,
    "start_time": "2021-08-02T08:27:20.418Z"
   },
   {
    "duration": 12,
    "start_time": "2021-08-02T08:27:21.823Z"
   },
   {
    "duration": 540,
    "start_time": "2021-08-02T08:27:27.111Z"
   },
   {
    "duration": 8,
    "start_time": "2021-08-02T08:27:27.852Z"
   },
   {
    "duration": 6,
    "start_time": "2021-08-02T08:27:29.200Z"
   },
   {
    "duration": 5,
    "start_time": "2021-08-02T08:27:30.548Z"
   },
   {
    "duration": 375,
    "start_time": "2021-08-02T08:27:32.858Z"
   },
   {
    "duration": 341,
    "start_time": "2021-08-02T08:27:36.650Z"
   },
   {
    "duration": 15,
    "start_time": "2021-08-02T08:27:37.232Z"
   },
   {
    "duration": 8,
    "start_time": "2021-08-02T08:28:04.383Z"
   },
   {
    "duration": 897,
    "start_time": "2021-08-02T08:31:29.476Z"
   },
   {
    "duration": 17,
    "start_time": "2021-08-02T08:31:30.550Z"
   },
   {
    "duration": 346,
    "start_time": "2021-08-02T08:31:45.645Z"
   },
   {
    "duration": 7,
    "start_time": "2021-08-02T08:31:49.808Z"
   },
   {
    "duration": 13,
    "start_time": "2021-08-02T08:31:53.092Z"
   },
   {
    "duration": 252,
    "start_time": "2021-08-02T08:31:59.959Z"
   },
   {
    "duration": 12,
    "start_time": "2021-08-02T08:32:01.352Z"
   },
   {
    "duration": 283,
    "start_time": "2021-08-02T08:32:11.693Z"
   },
   {
    "duration": 8,
    "start_time": "2021-08-02T08:32:58.705Z"
   },
   {
    "duration": 13,
    "start_time": "2021-08-02T08:33:01.232Z"
   },
   {
    "duration": 4,
    "start_time": "2021-08-02T08:33:08.453Z"
   },
   {
    "duration": 13,
    "start_time": "2021-08-02T08:33:10.213Z"
   },
   {
    "duration": 5,
    "start_time": "2021-08-02T08:33:39.812Z"
   },
   {
    "duration": 24,
    "start_time": "2021-08-02T08:34:19.746Z"
   },
   {
    "duration": 12,
    "start_time": "2021-08-02T08:34:22.045Z"
   },
   {
    "duration": 19,
    "start_time": "2021-08-02T08:34:26.607Z"
   },
   {
    "duration": 12,
    "start_time": "2021-08-02T08:34:28.602Z"
   },
   {
    "duration": 8,
    "start_time": "2021-08-02T08:34:37.215Z"
   },
   {
    "duration": 43,
    "start_time": "2021-08-02T08:34:44.573Z"
   },
   {
    "duration": 9,
    "start_time": "2021-08-02T08:34:44.608Z"
   },
   {
    "duration": 283,
    "start_time": "2021-08-02T08:34:47.400Z"
   },
   {
    "duration": 14,
    "start_time": "2021-08-02T08:34:51.329Z"
   },
   {
    "duration": 495,
    "start_time": "2021-08-02T08:35:17.100Z"
   },
   {
    "duration": 5,
    "start_time": "2021-08-02T08:35:19.072Z"
   },
   {
    "duration": 14,
    "start_time": "2021-08-02T08:35:19.628Z"
   },
   {
    "duration": 343,
    "start_time": "2021-08-02T08:35:22.334Z"
   },
   {
    "duration": 5,
    "start_time": "2021-08-02T08:35:22.951Z"
   },
   {
    "duration": 13,
    "start_time": "2021-08-02T08:35:23.461Z"
   },
   {
    "duration": 370,
    "start_time": "2021-08-02T08:35:27.305Z"
   },
   {
    "duration": 6,
    "start_time": "2021-08-02T08:35:27.793Z"
   },
   {
    "duration": 19,
    "start_time": "2021-08-02T08:35:28.292Z"
   },
   {
    "duration": 343,
    "start_time": "2021-08-02T08:35:33.028Z"
   },
   {
    "duration": 5,
    "start_time": "2021-08-02T08:35:33.551Z"
   },
   {
    "duration": 19,
    "start_time": "2021-08-02T08:35:34.076Z"
   },
   {
    "duration": 7,
    "start_time": "2021-08-02T08:36:31.392Z"
   },
   {
    "duration": 97,
    "start_time": "2021-08-02T08:37:13.439Z"
   },
   {
    "duration": 6,
    "start_time": "2021-08-02T08:37:14.025Z"
   },
   {
    "duration": 14,
    "start_time": "2021-08-02T08:37:14.721Z"
   },
   {
    "duration": 798,
    "start_time": "2021-08-02T08:57:48.305Z"
   },
   {
    "duration": 1262,
    "start_time": "2021-08-02T08:58:19.573Z"
   },
   {
    "duration": 1158,
    "start_time": "2021-08-02T08:58:26.404Z"
   },
   {
    "duration": 687,
    "start_time": "2021-08-02T08:58:38.446Z"
   },
   {
    "duration": 4222,
    "start_time": "2021-08-02T08:59:24.623Z"
   },
   {
    "duration": 195,
    "start_time": "2021-08-02T09:02:24.151Z"
   },
   {
    "duration": 204,
    "start_time": "2021-08-02T09:02:41.427Z"
   },
   {
    "duration": 232,
    "start_time": "2021-08-02T09:02:44.260Z"
   },
   {
    "duration": 281,
    "start_time": "2021-08-02T09:02:45.262Z"
   },
   {
    "duration": 6,
    "start_time": "2021-08-02T09:02:45.937Z"
   },
   {
    "duration": 11,
    "start_time": "2021-08-02T09:02:46.893Z"
   },
   {
    "duration": 5,
    "start_time": "2021-08-02T09:02:48.112Z"
   },
   {
    "duration": 4320,
    "start_time": "2021-08-02T09:02:49.242Z"
   },
   {
    "duration": 3265,
    "start_time": "2021-08-02T09:04:08.106Z"
   },
   {
    "duration": 4485,
    "start_time": "2021-08-02T09:04:21.380Z"
   },
   {
    "duration": 9,
    "start_time": "2021-08-02T09:06:05.309Z"
   },
   {
    "duration": 10,
    "start_time": "2021-08-02T09:06:10.309Z"
   },
   {
    "duration": 13,
    "start_time": "2021-08-02T09:06:16.442Z"
   },
   {
    "duration": 10,
    "start_time": "2021-08-02T09:06:58.869Z"
   },
   {
    "duration": 271,
    "start_time": "2021-08-02T09:07:10.641Z"
   },
   {
    "duration": 6551,
    "start_time": "2021-08-02T09:07:21.120Z"
   },
   {
    "duration": 292,
    "start_time": "2021-08-02T09:07:32.884Z"
   },
   {
    "duration": 273,
    "start_time": "2021-08-02T09:07:43.761Z"
   },
   {
    "duration": 18,
    "start_time": "2021-08-02T09:07:50.134Z"
   },
   {
    "duration": 22,
    "start_time": "2021-08-02T09:10:06.266Z"
   },
   {
    "duration": 19,
    "start_time": "2021-08-02T09:10:31.338Z"
   },
   {
    "duration": 316,
    "start_time": "2021-08-02T09:10:35.809Z"
   },
   {
    "duration": 10,
    "start_time": "2021-08-02T09:10:43.184Z"
   },
   {
    "duration": 17,
    "start_time": "2021-08-02T09:10:50.196Z"
   },
   {
    "duration": 8,
    "start_time": "2021-08-02T09:12:36.625Z"
   },
   {
    "duration": 21,
    "start_time": "2021-08-02T09:12:40.812Z"
   },
   {
    "duration": 21,
    "start_time": "2021-08-02T09:13:03.016Z"
   },
   {
    "duration": 14,
    "start_time": "2021-08-02T09:13:08.692Z"
   },
   {
    "duration": 5251,
    "start_time": "2021-08-02T09:13:36.651Z"
   },
   {
    "duration": 7,
    "start_time": "2021-08-02T09:13:55.876Z"
   },
   {
    "duration": 6,
    "start_time": "2021-08-02T09:13:58.982Z"
   },
   {
    "duration": 279,
    "start_time": "2021-08-02T09:14:10.424Z"
   },
   {
    "duration": 6286,
    "start_time": "2021-08-02T09:14:14.047Z"
   },
   {
    "duration": 279,
    "start_time": "2021-08-02T09:14:58.559Z"
   },
   {
    "duration": 6,
    "start_time": "2021-08-02T09:15:03.254Z"
   },
   {
    "duration": 11,
    "start_time": "2021-08-02T09:15:06.593Z"
   },
   {
    "duration": 6795,
    "start_time": "2021-08-02T09:16:04.561Z"
   },
   {
    "duration": 9,
    "start_time": "2021-08-02T09:16:13.634Z"
   },
   {
    "duration": 7,
    "start_time": "2021-08-02T09:16:23.535Z"
   },
   {
    "duration": 8,
    "start_time": "2021-08-02T09:16:25.012Z"
   },
   {
    "duration": 6,
    "start_time": "2021-08-02T09:16:30.009Z"
   },
   {
    "duration": 5,
    "start_time": "2021-08-02T09:16:31.232Z"
   },
   {
    "duration": 9,
    "start_time": "2021-08-02T09:16:41.234Z"
   },
   {
    "duration": 6,
    "start_time": "2021-08-02T09:16:42.544Z"
   },
   {
    "duration": 45,
    "start_time": "2021-08-02T09:16:51.883Z"
   },
   {
    "duration": 5,
    "start_time": "2021-08-02T09:16:55.438Z"
   },
   {
    "duration": 9,
    "start_time": "2021-08-02T09:17:12.106Z"
   },
   {
    "duration": 17,
    "start_time": "2021-08-02T09:17:20.550Z"
   },
   {
    "duration": 7,
    "start_time": "2021-08-02T09:17:22.550Z"
   },
   {
    "duration": 7,
    "start_time": "2021-08-02T09:17:23.240Z"
   },
   {
    "duration": 6,
    "start_time": "2021-08-02T09:17:24.923Z"
   },
   {
    "duration": 8,
    "start_time": "2021-08-02T09:17:25.619Z"
   },
   {
    "duration": 3662,
    "start_time": "2021-08-02T09:17:35.601Z"
   },
   {
    "duration": 2969,
    "start_time": "2021-08-02T09:17:57.303Z"
   },
   {
    "duration": 16,
    "start_time": "2021-08-02T09:18:17.362Z"
   },
   {
    "duration": 7,
    "start_time": "2021-08-02T09:18:18.853Z"
   },
   {
    "duration": 6,
    "start_time": "2021-08-02T09:18:19.561Z"
   },
   {
    "duration": 6,
    "start_time": "2021-08-02T09:18:20.727Z"
   },
   {
    "duration": 3297,
    "start_time": "2021-08-02T09:18:27.668Z"
   },
   {
    "duration": 4013,
    "start_time": "2021-08-02T09:18:45.048Z"
   },
   {
    "duration": 17,
    "start_time": "2021-08-02T09:19:05.705Z"
   },
   {
    "duration": 7,
    "start_time": "2021-08-02T09:19:06.825Z"
   },
   {
    "duration": 6,
    "start_time": "2021-08-02T09:19:07.431Z"
   },
   {
    "duration": 5,
    "start_time": "2021-08-02T09:19:08.615Z"
   },
   {
    "duration": 8,
    "start_time": "2021-08-02T09:19:11.992Z"
   },
   {
    "duration": 16,
    "start_time": "2021-08-02T09:19:16.346Z"
   },
   {
    "duration": 5,
    "start_time": "2021-08-02T09:19:18.776Z"
   },
   {
    "duration": 6,
    "start_time": "2021-08-02T09:19:20.280Z"
   },
   {
    "duration": 8,
    "start_time": "2021-08-02T09:19:21.236Z"
   },
   {
    "duration": 22,
    "start_time": "2021-08-02T09:19:32.155Z"
   },
   {
    "duration": 8,
    "start_time": "2021-08-02T09:19:51.777Z"
   },
   {
    "duration": 98,
    "start_time": "2021-08-02T09:22:07.788Z"
   },
   {
    "duration": 152,
    "start_time": "2021-08-02T09:22:12.342Z"
   },
   {
    "duration": 97,
    "start_time": "2021-08-02T09:22:14.710Z"
   },
   {
    "duration": 191,
    "start_time": "2021-08-02T09:22:18.055Z"
   },
   {
    "duration": 17,
    "start_time": "2021-08-02T09:22:18.898Z"
   },
   {
    "duration": 387,
    "start_time": "2021-08-02T09:23:02.435Z"
   },
   {
    "duration": 365,
    "start_time": "2021-08-02T09:23:08.409Z"
   },
   {
    "duration": 94,
    "start_time": "2021-08-02T09:23:21.757Z"
   },
   {
    "duration": 17,
    "start_time": "2021-08-02T09:23:27.652Z"
   },
   {
    "duration": 13,
    "start_time": "2021-08-02T09:23:29.035Z"
   },
   {
    "duration": 115,
    "start_time": "2021-08-02T09:24:15.687Z"
   },
   {
    "duration": 13,
    "start_time": "2021-08-02T09:24:20.279Z"
   },
   {
    "duration": 120,
    "start_time": "2021-08-02T09:24:40.147Z"
   },
   {
    "duration": 118,
    "start_time": "2021-08-02T09:24:47.673Z"
   },
   {
    "duration": 13,
    "start_time": "2021-08-02T09:24:48.986Z"
   },
   {
    "duration": 98,
    "start_time": "2021-08-02T09:24:55.226Z"
   },
   {
    "duration": 13,
    "start_time": "2021-08-02T09:24:56.333Z"
   },
   {
    "duration": 17,
    "start_time": "2021-08-02T09:24:57.066Z"
   },
   {
    "duration": 411,
    "start_time": "2021-08-02T09:25:01.398Z"
   },
   {
    "duration": 327,
    "start_time": "2021-08-02T09:25:30.762Z"
   },
   {
    "duration": 112,
    "start_time": "2021-08-02T09:25:38.159Z"
   },
   {
    "duration": 102,
    "start_time": "2021-08-02T09:25:50.873Z"
   },
   {
    "duration": 165,
    "start_time": "2021-08-02T09:26:02.865Z"
   },
   {
    "duration": 166,
    "start_time": "2021-08-02T09:26:06.093Z"
   },
   {
    "duration": 100,
    "start_time": "2021-08-02T09:26:15.567Z"
   },
   {
    "duration": 18,
    "start_time": "2021-08-02T09:26:26.856Z"
   },
   {
    "duration": 98,
    "start_time": "2021-08-02T09:26:44.374Z"
   },
   {
    "duration": 3,
    "start_time": "2021-08-02T09:26:44.943Z"
   },
   {
    "duration": 4,
    "start_time": "2021-08-02T09:26:46.589Z"
   },
   {
    "duration": 97,
    "start_time": "2021-08-02T09:26:47.933Z"
   },
   {
    "duration": 3,
    "start_time": "2021-08-02T09:26:48.584Z"
   },
   {
    "duration": 3,
    "start_time": "2021-08-02T09:26:50.045Z"
   },
   {
    "duration": 102,
    "start_time": "2021-08-02T09:26:50.802Z"
   },
   {
    "duration": 3,
    "start_time": "2021-08-02T09:26:51.752Z"
   },
   {
    "duration": 357,
    "start_time": "2021-08-02T09:27:15.486Z"
   },
   {
    "duration": 96,
    "start_time": "2021-08-02T09:27:19.637Z"
   },
   {
    "duration": 7,
    "start_time": "2021-08-02T09:27:20.519Z"
   },
   {
    "duration": 7,
    "start_time": "2021-08-02T09:27:21.798Z"
   },
   {
    "duration": 99,
    "start_time": "2021-08-02T09:27:27.300Z"
   },
   {
    "duration": 110,
    "start_time": "2021-08-02T09:27:32.795Z"
   },
   {
    "duration": 18,
    "start_time": "2021-08-02T09:27:34.254Z"
   },
   {
    "duration": 99,
    "start_time": "2021-08-02T09:28:39.416Z"
   },
   {
    "duration": 83,
    "start_time": "2021-08-02T09:28:42.543Z"
   },
   {
    "duration": 11,
    "start_time": "2021-08-02T09:28:43.657Z"
   },
   {
    "duration": 384,
    "start_time": "2021-08-02T09:28:55.258Z"
   },
   {
    "duration": 100,
    "start_time": "2021-08-02T09:29:00.728Z"
   },
   {
    "duration": 13,
    "start_time": "2021-08-02T09:29:02.131Z"
   },
   {
    "duration": 177,
    "start_time": "2021-08-02T09:29:10.566Z"
   },
   {
    "duration": 12,
    "start_time": "2021-08-02T09:29:12.338Z"
   },
   {
    "duration": 8,
    "start_time": "2021-08-02T09:29:22.568Z"
   },
   {
    "duration": 6,
    "start_time": "2021-08-02T09:29:23.681Z"
   },
   {
    "duration": 10,
    "start_time": "2021-08-02T09:29:25.348Z"
   },
   {
    "duration": 8,
    "start_time": "2021-08-02T10:19:37.058Z"
   },
   {
    "duration": 8,
    "start_time": "2021-08-02T10:19:50.107Z"
   },
   {
    "duration": 1194,
    "start_time": "2021-08-02T10:20:26.852Z"
   },
   {
    "duration": 484,
    "start_time": "2021-08-02T10:20:51.918Z"
   },
   {
    "duration": 872,
    "start_time": "2021-08-02T10:20:56.974Z"
   },
   {
    "duration": 411,
    "start_time": "2021-08-02T10:21:10.714Z"
   },
   {
    "duration": 270,
    "start_time": "2021-08-02T10:21:14.014Z"
   },
   {
    "duration": 409,
    "start_time": "2021-08-02T10:21:16.906Z"
   },
   {
    "duration": 11,
    "start_time": "2021-08-02T10:22:08.070Z"
   },
   {
    "duration": 11,
    "start_time": "2021-08-02T10:22:17.955Z"
   },
   {
    "duration": 9,
    "start_time": "2021-08-02T10:29:17.308Z"
   },
   {
    "duration": 283,
    "start_time": "2021-08-02T10:30:07.736Z"
   },
   {
    "duration": 498,
    "start_time": "2021-08-02T10:30:22.599Z"
   },
   {
    "duration": 280,
    "start_time": "2021-08-02T10:32:02.015Z"
   },
   {
    "duration": 316,
    "start_time": "2021-08-02T10:32:10.337Z"
   },
   {
    "duration": 350,
    "start_time": "2021-08-02T10:33:15.560Z"
   },
   {
    "duration": 302,
    "start_time": "2021-08-02T10:33:31.874Z"
   },
   {
    "duration": 12,
    "start_time": "2021-08-02T10:34:07.434Z"
   },
   {
    "duration": 12,
    "start_time": "2021-08-02T10:34:20.781Z"
   },
   {
    "duration": 5,
    "start_time": "2021-08-02T10:36:58.903Z"
   },
   {
    "duration": 29,
    "start_time": "2021-08-02T10:40:34.859Z"
   },
   {
    "duration": 1570,
    "start_time": "2021-08-02T12:34:44.766Z"
   },
   {
    "duration": 4,
    "start_time": "2021-08-02T12:34:46.339Z"
   },
   {
    "duration": 902,
    "start_time": "2021-08-02T12:34:46.871Z"
   },
   {
    "duration": 27,
    "start_time": "2021-08-02T12:34:47.822Z"
   },
   {
    "duration": 26,
    "start_time": "2021-08-02T12:34:48.496Z"
   },
   {
    "duration": 670,
    "start_time": "2021-08-02T12:34:50.237Z"
   },
   {
    "duration": 6,
    "start_time": "2021-08-02T12:34:52.786Z"
   },
   {
    "duration": 8,
    "start_time": "2021-08-02T12:34:53.063Z"
   },
   {
    "duration": 6,
    "start_time": "2021-08-02T12:34:55.116Z"
   },
   {
    "duration": 8,
    "start_time": "2021-08-02T12:34:57.381Z"
   },
   {
    "duration": 23,
    "start_time": "2021-08-02T12:34:59.881Z"
   },
   {
    "duration": 20,
    "start_time": "2021-08-02T12:35:01.219Z"
   },
   {
    "duration": 5,
    "start_time": "2021-08-02T12:35:49.080Z"
   },
   {
    "duration": 5,
    "start_time": "2021-08-02T12:35:56.889Z"
   },
   {
    "duration": 6,
    "start_time": "2021-08-02T12:36:14.243Z"
   },
   {
    "duration": 22,
    "start_time": "2021-08-02T12:36:18.145Z"
   },
   {
    "duration": 385,
    "start_time": "2021-08-02T12:36:51.606Z"
   },
   {
    "duration": 10,
    "start_time": "2021-08-02T12:36:55.791Z"
   },
   {
    "duration": 46,
    "start_time": "2021-08-02T12:36:57.136Z"
   },
   {
    "duration": 5,
    "start_time": "2021-08-02T12:37:02.105Z"
   },
   {
    "duration": 47,
    "start_time": "2021-08-02T12:37:06.764Z"
   },
   {
    "duration": 17,
    "start_time": "2021-08-02T12:38:01.213Z"
   },
   {
    "duration": 237,
    "start_time": "2021-08-02T12:42:19.527Z"
   },
   {
    "duration": 5,
    "start_time": "2021-08-02T12:42:26.738Z"
   },
   {
    "duration": 11,
    "start_time": "2021-08-02T12:42:26.745Z"
   },
   {
    "duration": 1129,
    "start_time": "2021-08-02T12:42:26.759Z"
   },
   {
    "duration": 23,
    "start_time": "2021-08-02T12:42:27.891Z"
   },
   {
    "duration": 53,
    "start_time": "2021-08-02T12:42:27.916Z"
   },
   {
    "duration": 133,
    "start_time": "2021-08-02T12:42:27.973Z"
   },
   {
    "duration": 53,
    "start_time": "2021-08-02T12:42:28.111Z"
   },
   {
    "duration": 10,
    "start_time": "2021-08-02T12:42:28.167Z"
   },
   {
    "duration": 8,
    "start_time": "2021-08-02T12:42:28.180Z"
   },
   {
    "duration": 15,
    "start_time": "2021-08-02T12:42:28.190Z"
   },
   {
    "duration": 74,
    "start_time": "2021-08-02T12:42:28.208Z"
   },
   {
    "duration": 17,
    "start_time": "2021-08-02T12:42:28.285Z"
   },
   {
    "duration": 16,
    "start_time": "2021-08-02T12:42:28.304Z"
   },
   {
    "duration": 17,
    "start_time": "2021-08-02T12:42:31.240Z"
   },
   {
    "duration": 106,
    "start_time": "2021-08-02T12:42:33.087Z"
   },
   {
    "duration": 437,
    "start_time": "2021-08-02T12:42:48.928Z"
   },
   {
    "duration": 166,
    "start_time": "2021-08-02T12:42:54.218Z"
   },
   {
    "duration": 241,
    "start_time": "2021-08-02T12:43:38.053Z"
   },
   {
    "duration": 19,
    "start_time": "2021-08-02T12:43:43.895Z"
   },
   {
    "duration": 337,
    "start_time": "2021-08-02T12:46:14.272Z"
   },
   {
    "duration": 7,
    "start_time": "2021-08-02T12:46:20.913Z"
   },
   {
    "duration": 8,
    "start_time": "2021-08-02T12:47:25.926Z"
   },
   {
    "duration": 3,
    "start_time": "2021-08-02T12:48:25.179Z"
   },
   {
    "duration": 8,
    "start_time": "2021-08-02T12:48:41.641Z"
   },
   {
    "duration": 294,
    "start_time": "2021-08-02T12:49:03.043Z"
   },
   {
    "duration": 17,
    "start_time": "2021-08-02T12:49:22.624Z"
   },
   {
    "duration": 240,
    "start_time": "2021-08-02T12:49:25.054Z"
   },
   {
    "duration": 232,
    "start_time": "2021-08-02T12:49:36.036Z"
   },
   {
    "duration": 14,
    "start_time": "2021-08-02T12:49:49.050Z"
   },
   {
    "duration": 6,
    "start_time": "2021-08-02T12:49:51.261Z"
   },
   {
    "duration": 4,
    "start_time": "2021-08-02T12:49:53.052Z"
   },
   {
    "duration": 15,
    "start_time": "2021-08-02T12:50:31.294Z"
   },
   {
    "duration": 8,
    "start_time": "2021-08-02T12:50:32.863Z"
   },
   {
    "duration": 7,
    "start_time": "2021-08-02T12:50:54.622Z"
   },
   {
    "duration": 5,
    "start_time": "2021-08-02T12:51:03.598Z"
   },
   {
    "duration": 5,
    "start_time": "2021-08-02T12:51:11.776Z"
   },
   {
    "duration": 291,
    "start_time": "2021-08-02T12:51:18.450Z"
   },
   {
    "duration": 6,
    "start_time": "2021-08-02T12:51:20.439Z"
   },
   {
    "duration": 88,
    "start_time": "2021-08-02T12:51:39.660Z"
   },
   {
    "duration": 21,
    "start_time": "2021-08-02T12:51:54.272Z"
   },
   {
    "duration": 5,
    "start_time": "2021-08-02T12:52:00.286Z"
   },
   {
    "duration": 6,
    "start_time": "2021-08-02T12:52:01.196Z"
   },
   {
    "duration": 5,
    "start_time": "2021-08-02T12:52:10.504Z"
   },
   {
    "duration": 7,
    "start_time": "2021-08-02T12:54:08.302Z"
   },
   {
    "duration": 8,
    "start_time": "2021-08-02T12:54:28.720Z"
   },
   {
    "duration": 105,
    "start_time": "2021-08-02T12:56:13.639Z"
   },
   {
    "duration": 9,
    "start_time": "2021-08-02T12:56:18.269Z"
   },
   {
    "duration": 9,
    "start_time": "2021-08-02T12:56:23.276Z"
   },
   {
    "duration": 11,
    "start_time": "2021-08-02T12:59:04.159Z"
   },
   {
    "duration": 6,
    "start_time": "2021-08-02T12:59:12.534Z"
   },
   {
    "duration": 12,
    "start_time": "2021-08-02T12:59:34.835Z"
   },
   {
    "duration": 6,
    "start_time": "2021-08-02T12:59:37.659Z"
   },
   {
    "duration": 2437,
    "start_time": "2021-08-02T12:59:58.279Z"
   },
   {
    "duration": 10,
    "start_time": "2021-08-02T13:00:21.085Z"
   },
   {
    "duration": 8,
    "start_time": "2021-08-02T13:00:24.846Z"
   },
   {
    "duration": 5,
    "start_time": "2021-08-02T13:00:35.491Z"
   },
   {
    "duration": 4,
    "start_time": "2021-08-02T13:00:42.632Z"
   },
   {
    "duration": 30,
    "start_time": "2021-08-02T13:00:45.996Z"
   },
   {
    "duration": 46,
    "start_time": "2021-08-02T13:00:53.307Z"
   },
   {
    "duration": 7,
    "start_time": "2021-08-02T13:00:54.160Z"
   },
   {
    "duration": 46,
    "start_time": "2021-08-02T13:00:55.346Z"
   },
   {
    "duration": 46,
    "start_time": "2021-08-02T13:00:56.458Z"
   },
   {
    "duration": 11,
    "start_time": "2021-08-02T13:00:57.392Z"
   },
   {
    "duration": 7,
    "start_time": "2021-08-02T13:00:58.759Z"
   },
   {
    "duration": 5,
    "start_time": "2021-08-02T13:00:59.489Z"
   },
   {
    "duration": 5,
    "start_time": "2021-08-02T13:01:08.526Z"
   },
   {
    "duration": 5,
    "start_time": "2021-08-02T13:01:10.940Z"
   },
   {
    "duration": 10,
    "start_time": "2021-08-02T13:01:12.389Z"
   },
   {
    "duration": 9,
    "start_time": "2021-08-02T13:01:13.184Z"
   },
   {
    "duration": 6,
    "start_time": "2021-08-02T13:01:13.882Z"
   },
   {
    "duration": 18,
    "start_time": "2021-08-02T13:01:52.040Z"
   },
   {
    "duration": 671,
    "start_time": "2021-08-02T13:01:57.151Z"
   },
   {
    "duration": 822,
    "start_time": "2021-08-02T13:02:49.073Z"
   },
   {
    "duration": 12,
    "start_time": "2021-08-02T13:03:40.579Z"
   },
   {
    "duration": 1085,
    "start_time": "2021-08-02T13:03:46.254Z"
   },
   {
    "duration": 6,
    "start_time": "2021-08-02T13:04:23.805Z"
   },
   {
    "duration": 5,
    "start_time": "2021-08-02T13:04:26.104Z"
   },
   {
    "duration": 783,
    "start_time": "2021-08-02T13:04:30.757Z"
   },
   {
    "duration": 792,
    "start_time": "2021-08-02T13:04:33.759Z"
   },
   {
    "duration": 10576,
    "start_time": "2021-08-02T13:13:50.440Z"
   },
   {
    "duration": 911,
    "start_time": "2021-08-02T13:14:30.126Z"
   },
   {
    "duration": 10,
    "start_time": "2021-08-02T13:14:31.587Z"
   },
   {
    "duration": 787,
    "start_time": "2021-08-02T13:14:35.896Z"
   },
   {
    "duration": 13,
    "start_time": "2021-08-02T13:14:58.878Z"
   },
   {
    "duration": 1268,
    "start_time": "2021-08-02T13:15:00.126Z"
   },
   {
    "duration": 794,
    "start_time": "2021-08-02T13:19:03.611Z"
   },
   {
    "duration": 10,
    "start_time": "2021-08-02T13:19:23.544Z"
   },
   {
    "duration": 790,
    "start_time": "2021-08-02T13:19:24.639Z"
   },
   {
    "duration": 240,
    "start_time": "2021-08-02T13:20:17.373Z"
   },
   {
    "duration": 12,
    "start_time": "2021-08-02T13:20:40.827Z"
   },
   {
    "duration": 857,
    "start_time": "2021-08-02T13:20:42.073Z"
   },
   {
    "duration": 21,
    "start_time": "2021-08-02T13:21:46.599Z"
   },
   {
    "duration": 18,
    "start_time": "2021-08-02T13:22:06.873Z"
   },
   {
    "duration": 832,
    "start_time": "2021-08-02T13:22:08.035Z"
   },
   {
    "duration": 19,
    "start_time": "2021-08-02T13:22:28.753Z"
   },
   {
    "duration": 17,
    "start_time": "2021-08-02T13:22:35.279Z"
   },
   {
    "duration": 18,
    "start_time": "2021-08-02T13:22:37.127Z"
   },
   {
    "duration": 21,
    "start_time": "2021-08-02T13:23:02.622Z"
   },
   {
    "duration": 725,
    "start_time": "2021-08-02T13:23:03.887Z"
   },
   {
    "duration": 1039,
    "start_time": "2021-08-02T13:23:12.498Z"
   },
   {
    "duration": 996,
    "start_time": "2021-08-02T13:23:18.965Z"
   },
   {
    "duration": 14,
    "start_time": "2021-08-02T13:23:39.382Z"
   },
   {
    "duration": 707,
    "start_time": "2021-08-02T13:23:50.543Z"
   },
   {
    "duration": 21,
    "start_time": "2021-08-02T13:23:52.851Z"
   },
   {
    "duration": 747,
    "start_time": "2021-08-02T13:23:53.720Z"
   },
   {
    "duration": 112,
    "start_time": "2021-08-02T13:27:17.259Z"
   },
   {
    "duration": 176,
    "start_time": "2021-08-02T13:27:24.964Z"
   },
   {
    "duration": 176,
    "start_time": "2021-08-02T13:27:30.023Z"
   },
   {
    "duration": 1131,
    "start_time": "2021-08-02T13:27:38.464Z"
   },
   {
    "duration": 1058,
    "start_time": "2021-08-02T13:28:03.331Z"
   },
   {
    "duration": 1241,
    "start_time": "2021-08-02T13:30:06.770Z"
   },
   {
    "duration": 687,
    "start_time": "2021-08-02T13:30:42.016Z"
   },
   {
    "duration": 847,
    "start_time": "2021-08-02T13:30:46.961Z"
   },
   {
    "duration": 723,
    "start_time": "2021-08-02T13:30:52.567Z"
   },
   {
    "duration": 858,
    "start_time": "2021-08-02T13:30:57.185Z"
   },
   {
    "duration": 1065,
    "start_time": "2021-08-02T13:31:01.412Z"
   },
   {
    "duration": 710,
    "start_time": "2021-08-02T13:31:08.787Z"
   },
   {
    "duration": 737,
    "start_time": "2021-08-02T13:31:34.007Z"
   },
   {
    "duration": 693,
    "start_time": "2021-08-02T13:31:38.769Z"
   },
   {
    "duration": 703,
    "start_time": "2021-08-02T13:31:40.913Z"
   },
   {
    "duration": 713,
    "start_time": "2021-08-02T13:31:49.453Z"
   },
   {
    "duration": 712,
    "start_time": "2021-08-02T13:31:55.593Z"
   },
   {
    "duration": 791,
    "start_time": "2021-08-02T13:32:07.122Z"
   },
   {
    "duration": 816,
    "start_time": "2021-08-02T13:32:09.285Z"
   },
   {
    "duration": 1130,
    "start_time": "2021-08-02T13:32:12.318Z"
   },
   {
    "duration": 14,
    "start_time": "2021-08-02T13:33:02.691Z"
   },
   {
    "duration": 6,
    "start_time": "2021-08-02T13:35:53.687Z"
   },
   {
    "duration": 22,
    "start_time": "2021-08-02T13:35:58.000Z"
   },
   {
    "duration": 6,
    "start_time": "2021-08-02T13:36:06.261Z"
   },
   {
    "duration": 21,
    "start_time": "2021-08-02T13:36:07.970Z"
   },
   {
    "duration": 20,
    "start_time": "2021-08-02T13:36:08.861Z"
   },
   {
    "duration": 1180,
    "start_time": "2021-08-02T13:36:15.559Z"
   },
   {
    "duration": 6,
    "start_time": "2021-08-02T13:36:24.971Z"
   },
   {
    "duration": 795,
    "start_time": "2021-08-02T13:36:26.213Z"
   },
   {
    "duration": 6,
    "start_time": "2021-08-02T13:37:33.225Z"
   },
   {
    "duration": 866,
    "start_time": "2021-08-02T13:37:34.711Z"
   },
   {
    "duration": 7,
    "start_time": "2021-08-02T13:38:21.397Z"
   },
   {
    "duration": 1301,
    "start_time": "2021-08-02T13:38:24.494Z"
   },
   {
    "duration": 7,
    "start_time": "2021-08-02T13:38:58.678Z"
   },
   {
    "duration": 1252,
    "start_time": "2021-08-02T13:39:00.788Z"
   },
   {
    "duration": 5,
    "start_time": "2021-08-02T13:39:26.503Z"
   },
   {
    "duration": 6,
    "start_time": "2021-08-02T13:41:06.783Z"
   },
   {
    "duration": 1406,
    "start_time": "2021-08-02T13:41:09.276Z"
   },
   {
    "duration": 6,
    "start_time": "2021-08-02T13:41:24.805Z"
   },
   {
    "duration": 784,
    "start_time": "2021-08-02T13:41:26.373Z"
   },
   {
    "duration": 7,
    "start_time": "2021-08-02T13:41:41.766Z"
   },
   {
    "duration": 1081,
    "start_time": "2021-08-02T13:41:43.396Z"
   },
   {
    "duration": 780,
    "start_time": "2021-08-02T13:41:55.145Z"
   },
   {
    "duration": 6,
    "start_time": "2021-08-02T13:43:10.732Z"
   },
   {
    "duration": 1077,
    "start_time": "2021-08-02T13:43:14.350Z"
   },
   {
    "duration": 6,
    "start_time": "2021-08-02T13:43:20.066Z"
   },
   {
    "duration": 785,
    "start_time": "2021-08-02T13:43:20.967Z"
   },
   {
    "duration": 7,
    "start_time": "2021-08-02T13:43:57.073Z"
   },
   {
    "duration": 891,
    "start_time": "2021-08-02T13:43:58.092Z"
   },
   {
    "duration": 780,
    "start_time": "2021-08-02T13:44:24.292Z"
   },
   {
    "duration": 10,
    "start_time": "2021-08-02T13:44:32.435Z"
   },
   {
    "duration": 10,
    "start_time": "2021-08-02T13:44:39.346Z"
   },
   {
    "duration": 884,
    "start_time": "2021-08-02T13:44:40.137Z"
   },
   {
    "duration": 7,
    "start_time": "2021-08-02T13:44:44.410Z"
   },
   {
    "duration": 770,
    "start_time": "2021-08-02T13:44:45.707Z"
   },
   {
    "duration": 797,
    "start_time": "2021-08-02T13:44:54.968Z"
   },
   {
    "duration": 846,
    "start_time": "2021-08-02T13:45:03.956Z"
   },
   {
    "duration": 740,
    "start_time": "2021-08-02T13:45:05.710Z"
   },
   {
    "duration": 9,
    "start_time": "2021-08-02T13:46:59.095Z"
   },
   {
    "duration": 777,
    "start_time": "2021-08-02T13:47:00.357Z"
   },
   {
    "duration": 1552,
    "start_time": "2021-08-03T05:34:12.887Z"
   },
   {
    "duration": 5,
    "start_time": "2021-08-03T05:34:14.441Z"
   },
   {
    "duration": 906,
    "start_time": "2021-08-03T05:34:14.448Z"
   },
   {
    "duration": 29,
    "start_time": "2021-08-03T05:34:15.357Z"
   },
   {
    "duration": 28,
    "start_time": "2021-08-03T05:34:15.388Z"
   },
   {
    "duration": 704,
    "start_time": "2021-08-03T05:34:15.419Z"
   },
   {
    "duration": 5,
    "start_time": "2021-08-03T05:34:16.125Z"
   },
   {
    "duration": 11,
    "start_time": "2021-08-03T05:34:16.133Z"
   },
   {
    "duration": 7,
    "start_time": "2021-08-03T05:34:16.161Z"
   },
   {
    "duration": 12,
    "start_time": "2021-08-03T05:34:16.170Z"
   },
   {
    "duration": 30,
    "start_time": "2021-08-03T05:34:16.185Z"
   },
   {
    "duration": 53,
    "start_time": "2021-08-03T05:34:16.217Z"
   },
   {
    "duration": 22,
    "start_time": "2021-08-03T05:34:16.272Z"
   },
   {
    "duration": 34,
    "start_time": "2021-08-03T05:34:16.297Z"
   },
   {
    "duration": 120,
    "start_time": "2021-08-03T05:34:16.333Z"
   },
   {
    "duration": 15,
    "start_time": "2021-08-03T05:34:16.456Z"
   },
   {
    "duration": 10,
    "start_time": "2021-08-03T05:34:16.474Z"
   },
   {
    "duration": 17,
    "start_time": "2021-08-03T05:34:16.487Z"
   },
   {
    "duration": 17,
    "start_time": "2021-08-03T05:34:16.507Z"
   },
   {
    "duration": 35,
    "start_time": "2021-08-03T05:34:16.528Z"
   },
   {
    "duration": 1127,
    "start_time": "2021-08-03T05:34:16.566Z"
   },
   {
    "duration": 1234,
    "start_time": "2021-08-03T05:34:17.696Z"
   },
   {
    "duration": 1124,
    "start_time": "2021-08-03T05:34:18.937Z"
   },
   {
    "duration": 41,
    "start_time": "2021-08-03T05:34:20.065Z"
   },
   {
    "duration": 6,
    "start_time": "2021-08-03T05:34:20.109Z"
   },
   {
    "duration": 62,
    "start_time": "2021-08-03T05:34:20.118Z"
   },
   {
    "duration": 3401,
    "start_time": "2021-08-03T05:34:20.183Z"
   },
   {
    "duration": -74,
    "start_time": "2021-08-03T05:34:23.661Z"
   },
   {
    "duration": -76,
    "start_time": "2021-08-03T05:34:23.666Z"
   },
   {
    "duration": -82,
    "start_time": "2021-08-03T05:34:23.674Z"
   },
   {
    "duration": -85,
    "start_time": "2021-08-03T05:34:23.679Z"
   },
   {
    "duration": -94,
    "start_time": "2021-08-03T05:34:23.690Z"
   },
   {
    "duration": -95,
    "start_time": "2021-08-03T05:34:23.694Z"
   },
   {
    "duration": -98,
    "start_time": "2021-08-03T05:34:23.699Z"
   },
   {
    "duration": -104,
    "start_time": "2021-08-03T05:34:23.707Z"
   },
   {
    "duration": 753,
    "start_time": "2021-08-03T05:53:16.015Z"
   },
   {
    "duration": 10,
    "start_time": "2021-08-03T06:57:44.204Z"
   },
   {
    "duration": 8,
    "start_time": "2021-08-03T06:57:49.739Z"
   },
   {
    "duration": 13,
    "start_time": "2021-08-03T06:57:52.557Z"
   },
   {
    "duration": 18,
    "start_time": "2021-08-03T06:57:59.538Z"
   },
   {
    "duration": 10,
    "start_time": "2021-08-03T06:58:16.408Z"
   },
   {
    "duration": 23,
    "start_time": "2021-08-03T06:58:57.485Z"
   },
   {
    "duration": 293,
    "start_time": "2021-08-03T06:59:13.308Z"
   },
   {
    "duration": 14,
    "start_time": "2021-08-03T06:59:19.621Z"
   },
   {
    "duration": 17,
    "start_time": "2021-08-03T06:59:59.260Z"
   },
   {
    "duration": 15,
    "start_time": "2021-08-03T07:00:06.693Z"
   },
   {
    "duration": 16,
    "start_time": "2021-08-03T07:00:12.752Z"
   },
   {
    "duration": 16,
    "start_time": "2021-08-03T07:00:15.817Z"
   },
   {
    "duration": 16,
    "start_time": "2021-08-03T07:00:23.911Z"
   },
   {
    "duration": 13,
    "start_time": "2021-08-03T07:00:33.643Z"
   },
   {
    "duration": 15,
    "start_time": "2021-08-03T07:00:36.411Z"
   },
   {
    "duration": 14,
    "start_time": "2021-08-03T07:00:41.320Z"
   },
   {
    "duration": 15,
    "start_time": "2021-08-03T07:01:03.994Z"
   },
   {
    "duration": 5,
    "start_time": "2021-08-03T07:02:05.669Z"
   },
   {
    "duration": 277,
    "start_time": "2021-08-03T07:02:12.708Z"
   },
   {
    "duration": 6,
    "start_time": "2021-08-03T07:02:22.048Z"
   },
   {
    "duration": 262,
    "start_time": "2021-08-03T07:04:22.746Z"
   },
   {
    "duration": 1835,
    "start_time": "2021-08-03T07:04:28.367Z"
   },
   {
    "duration": 248,
    "start_time": "2021-08-03T07:04:47.039Z"
   },
   {
    "duration": 38,
    "start_time": "2021-08-03T07:04:55.181Z"
   },
   {
    "duration": 17,
    "start_time": "2021-08-03T07:05:01.002Z"
   },
   {
    "duration": 16,
    "start_time": "2021-08-03T07:05:03.963Z"
   },
   {
    "duration": 1882,
    "start_time": "2021-08-03T07:05:28.910Z"
   },
   {
    "duration": 31,
    "start_time": "2021-08-03T07:05:43.583Z"
   },
   {
    "duration": 33,
    "start_time": "2021-08-03T07:05:48.645Z"
   },
   {
    "duration": 33,
    "start_time": "2021-08-03T07:06:00.946Z"
   },
   {
    "duration": 10,
    "start_time": "2021-08-03T07:06:05.212Z"
   },
   {
    "duration": 27,
    "start_time": "2021-08-03T07:06:18.491Z"
   },
   {
    "duration": 14,
    "start_time": "2021-08-03T07:06:19.635Z"
   },
   {
    "duration": 14,
    "start_time": "2021-08-03T07:06:21.090Z"
   },
   {
    "duration": 32,
    "start_time": "2021-08-03T07:06:36.991Z"
   },
   {
    "duration": 26,
    "start_time": "2021-08-03T07:07:03.663Z"
   },
   {
    "duration": 22,
    "start_time": "2021-08-03T07:07:05.543Z"
   },
   {
    "duration": 25,
    "start_time": "2021-08-03T07:07:11.055Z"
   },
   {
    "duration": 2515,
    "start_time": "2021-08-03T07:07:17.280Z"
   },
   {
    "duration": 21,
    "start_time": "2021-08-03T07:07:22.785Z"
   },
   {
    "duration": 8,
    "start_time": "2021-08-03T07:07:34.209Z"
   },
   {
    "duration": 9,
    "start_time": "2021-08-03T07:07:42.780Z"
   },
   {
    "duration": 4,
    "start_time": "2021-08-03T07:07:44.099Z"
   },
   {
    "duration": 246,
    "start_time": "2021-08-03T07:07:49.138Z"
   },
   {
    "duration": 4,
    "start_time": "2021-08-03T07:07:56.435Z"
   },
   {
    "duration": 166,
    "start_time": "2021-08-03T07:08:00.929Z"
   },
   {
    "duration": 5,
    "start_time": "2021-08-03T07:08:01.823Z"
   },
   {
    "duration": 238,
    "start_time": "2021-08-03T07:14:16.175Z"
   },
   {
    "duration": 76,
    "start_time": "2021-08-03T07:14:24.901Z"
   },
   {
    "duration": 7,
    "start_time": "2021-08-03T07:14:29.896Z"
   },
   {
    "duration": 79,
    "start_time": "2021-08-03T07:15:07.890Z"
   },
   {
    "duration": 8,
    "start_time": "2021-08-03T07:15:10.761Z"
   },
   {
    "duration": 7,
    "start_time": "2021-08-03T07:15:14.123Z"
   },
   {
    "duration": 281,
    "start_time": "2021-08-03T07:15:33.235Z"
   },
   {
    "duration": 84,
    "start_time": "2021-08-03T07:16:04.958Z"
   },
   {
    "duration": 85,
    "start_time": "2021-08-03T07:16:20.364Z"
   },
   {
    "duration": 7,
    "start_time": "2021-08-03T07:16:21.372Z"
   },
   {
    "duration": 85,
    "start_time": "2021-08-03T07:16:22.724Z"
   },
   {
    "duration": 88,
    "start_time": "2021-08-03T07:16:32.593Z"
   },
   {
    "duration": 85,
    "start_time": "2021-08-03T07:16:47.132Z"
   },
   {
    "duration": 5,
    "start_time": "2021-08-03T07:19:39.949Z"
   },
   {
    "duration": 2229,
    "start_time": "2021-08-03T07:19:54.259Z"
   },
   {
    "duration": 5,
    "start_time": "2021-08-03T07:20:47.073Z"
   },
   {
    "duration": 195,
    "start_time": "2021-08-03T07:20:48.014Z"
   },
   {
    "duration": 185,
    "start_time": "2021-08-03T07:21:29.458Z"
   },
   {
    "duration": 824,
    "start_time": "2021-08-03T07:21:57.417Z"
   },
   {
    "duration": 5,
    "start_time": "2021-08-03T07:22:09.804Z"
   },
   {
    "duration": 183,
    "start_time": "2021-08-03T07:22:11.719Z"
   },
   {
    "duration": 1131,
    "start_time": "2021-08-03T07:22:12.636Z"
   },
   {
    "duration": 7,
    "start_time": "2021-08-03T07:22:17.675Z"
   },
   {
    "duration": 179,
    "start_time": "2021-08-03T07:22:18.379Z"
   },
   {
    "duration": 1135,
    "start_time": "2021-08-03T07:22:19.135Z"
   },
   {
    "duration": 282,
    "start_time": "2021-08-03T07:22:22.502Z"
   },
   {
    "duration": 1133,
    "start_time": "2021-08-03T07:22:23.348Z"
   },
   {
    "duration": 4,
    "start_time": "2021-08-03T07:22:30.151Z"
   },
   {
    "duration": 182,
    "start_time": "2021-08-03T07:22:30.959Z"
   },
   {
    "duration": 729,
    "start_time": "2021-08-03T07:22:31.473Z"
   },
   {
    "duration": 5,
    "start_time": "2021-08-03T07:22:39.976Z"
   },
   {
    "duration": 319,
    "start_time": "2021-08-03T07:22:41.407Z"
   },
   {
    "duration": 822,
    "start_time": "2021-08-03T07:22:42.354Z"
   },
   {
    "duration": 7,
    "start_time": "2021-08-03T07:23:52.990Z"
   },
   {
    "duration": 286,
    "start_time": "2021-08-03T07:23:53.725Z"
   },
   {
    "duration": 1114,
    "start_time": "2021-08-03T07:23:55.217Z"
   },
   {
    "duration": 47,
    "start_time": "2021-08-03T07:24:22.186Z"
   },
   {
    "duration": 916,
    "start_time": "2021-08-03T07:24:39.626Z"
   },
   {
    "duration": 274,
    "start_time": "2021-08-03T07:24:49.368Z"
   },
   {
    "duration": 50,
    "start_time": "2021-08-03T07:24:50.114Z"
   },
   {
    "duration": 293,
    "start_time": "2021-08-03T07:25:00.742Z"
   },
   {
    "duration": 22,
    "start_time": "2021-08-03T07:25:02.452Z"
   },
   {
    "duration": 15,
    "start_time": "2021-08-03T07:25:04.782Z"
   },
   {
    "duration": 789,
    "start_time": "2021-08-03T07:25:06.422Z"
   },
   {
    "duration": 804,
    "start_time": "2021-08-03T07:25:09.510Z"
   },
   {
    "duration": 10,
    "start_time": "2021-08-03T07:25:28.005Z"
   },
   {
    "duration": 826,
    "start_time": "2021-08-03T07:25:29.196Z"
   },
   {
    "duration": 768,
    "start_time": "2021-08-03T07:25:31.383Z"
   },
   {
    "duration": 879,
    "start_time": "2021-08-03T07:25:33.505Z"
   },
   {
    "duration": 7,
    "start_time": "2021-08-03T07:25:37.972Z"
   },
   {
    "duration": 230,
    "start_time": "2021-08-03T07:25:38.832Z"
   },
   {
    "duration": 16,
    "start_time": "2021-08-03T07:25:39.639Z"
   },
   {
    "duration": 621,
    "start_time": "2021-08-03T07:25:41.013Z"
   },
   {
    "duration": 307,
    "start_time": "2021-08-03T07:25:44.299Z"
   },
   {
    "duration": 33,
    "start_time": "2021-08-03T07:25:44.987Z"
   },
   {
    "duration": 810,
    "start_time": "2021-08-03T07:25:46.836Z"
   },
   {
    "duration": 1114,
    "start_time": "2021-08-03T07:26:06.391Z"
   },
   {
    "duration": 7,
    "start_time": "2021-08-03T07:26:31.019Z"
   },
   {
    "duration": 250,
    "start_time": "2021-08-03T07:26:31.863Z"
   },
   {
    "duration": 44,
    "start_time": "2021-08-03T07:26:32.554Z"
   },
   {
    "duration": 790,
    "start_time": "2021-08-03T07:26:34.291Z"
   },
   {
    "duration": 781,
    "start_time": "2021-08-03T07:26:37.109Z"
   },
   {
    "duration": 204,
    "start_time": "2021-08-03T07:26:39.355Z"
   },
   {
    "duration": 4,
    "start_time": "2021-08-03T07:26:45.893Z"
   },
   {
    "duration": 206,
    "start_time": "2021-08-03T07:26:48.099Z"
   },
   {
    "duration": 34,
    "start_time": "2021-08-03T07:26:49.103Z"
   },
   {
    "duration": 722,
    "start_time": "2021-08-03T07:26:53.269Z"
   },
   {
    "duration": 731,
    "start_time": "2021-08-03T07:26:55.779Z"
   },
   {
    "duration": 5,
    "start_time": "2021-08-03T07:27:02.327Z"
   },
   {
    "duration": 194,
    "start_time": "2021-08-03T07:27:03.242Z"
   },
   {
    "duration": 34,
    "start_time": "2021-08-03T07:27:03.825Z"
   },
   {
    "duration": 11,
    "start_time": "2021-08-03T07:28:42.557Z"
   },
   {
    "duration": 232,
    "start_time": "2021-08-03T07:28:54.034Z"
   },
   {
    "duration": 29,
    "start_time": "2021-08-03T07:28:54.726Z"
   },
   {
    "duration": 197,
    "start_time": "2021-08-03T07:28:59.513Z"
   },
   {
    "duration": 30,
    "start_time": "2021-08-03T07:29:00.931Z"
   },
   {
    "duration": 854,
    "start_time": "2021-08-03T07:29:03.216Z"
   },
   {
    "duration": 801,
    "start_time": "2021-08-03T07:29:06.141Z"
   },
   {
    "duration": 820,
    "start_time": "2021-08-03T07:29:20.520Z"
   },
   {
    "duration": 780,
    "start_time": "2021-08-03T07:29:25.274Z"
   },
   {
    "duration": 783,
    "start_time": "2021-08-03T07:29:42.379Z"
   },
   {
    "duration": 790,
    "start_time": "2021-08-03T07:29:44.248Z"
   },
   {
    "duration": 30,
    "start_time": "2021-08-03T07:29:53.483Z"
   },
   {
    "duration": 799,
    "start_time": "2021-08-03T07:30:22.325Z"
   },
   {
    "duration": 753,
    "start_time": "2021-08-03T07:30:24.236Z"
   },
   {
    "duration": 5,
    "start_time": "2021-08-03T07:34:43.894Z"
   },
   {
    "duration": 5,
    "start_time": "2021-08-03T07:34:53.504Z"
   },
   {
    "duration": 10,
    "start_time": "2021-08-03T07:35:29.876Z"
   },
   {
    "duration": 201,
    "start_time": "2021-08-03T07:35:31.279Z"
   },
   {
    "duration": 29,
    "start_time": "2021-08-03T07:35:33.513Z"
   },
   {
    "duration": 5,
    "start_time": "2021-08-03T07:35:39.258Z"
   },
   {
    "duration": 195,
    "start_time": "2021-08-03T07:35:46.147Z"
   },
   {
    "duration": 755,
    "start_time": "2021-08-03T07:36:11.982Z"
   },
   {
    "duration": 1042,
    "start_time": "2021-08-03T07:36:33.900Z"
   },
   {
    "duration": 535,
    "start_time": "2021-08-03T07:37:45.230Z"
   },
   {
    "duration": 7,
    "start_time": "2021-08-03T07:38:30.939Z"
   },
   {
    "duration": 11,
    "start_time": "2021-08-03T07:38:53.668Z"
   },
   {
    "duration": 5,
    "start_time": "2021-08-03T07:39:10.337Z"
   },
   {
    "duration": 5,
    "start_time": "2021-08-03T07:39:33.873Z"
   },
   {
    "duration": 182,
    "start_time": "2021-08-03T07:39:42.334Z"
   },
   {
    "duration": 268,
    "start_time": "2021-08-03T07:43:44.429Z"
   },
   {
    "duration": 4,
    "start_time": "2021-08-03T07:43:46.629Z"
   },
   {
    "duration": 180,
    "start_time": "2021-08-03T07:43:47.293Z"
   },
   {
    "duration": 169,
    "start_time": "2021-08-03T07:43:55.114Z"
   },
   {
    "duration": 4,
    "start_time": "2021-08-03T07:44:46.054Z"
   },
   {
    "duration": 177,
    "start_time": "2021-08-03T07:44:46.694Z"
   },
   {
    "duration": 991,
    "start_time": "2021-08-03T07:44:56.079Z"
   },
   {
    "duration": 79,
    "start_time": "2021-08-03T07:45:52.970Z"
   },
   {
    "duration": 87,
    "start_time": "2021-08-03T07:45:58.262Z"
   },
   {
    "duration": 86,
    "start_time": "2021-08-03T07:47:46.639Z"
   },
   {
    "duration": 5,
    "start_time": "2021-08-03T07:48:10.430Z"
   },
   {
    "duration": 349,
    "start_time": "2021-08-03T07:48:11.192Z"
   },
   {
    "duration": 6,
    "start_time": "2021-08-03T07:48:25.419Z"
   },
   {
    "duration": 261,
    "start_time": "2021-08-03T07:49:12.195Z"
   },
   {
    "duration": 15,
    "start_time": "2021-08-03T07:49:24.202Z"
   },
   {
    "duration": 18,
    "start_time": "2021-08-03T07:49:31.774Z"
   },
   {
    "duration": 185,
    "start_time": "2021-08-03T07:49:44.489Z"
   },
   {
    "duration": 6,
    "start_time": "2021-08-03T07:49:46.651Z"
   },
   {
    "duration": 30,
    "start_time": "2021-08-03T07:49:47.504Z"
   },
   {
    "duration": 823,
    "start_time": "2021-08-03T07:49:49.716Z"
   },
   {
    "duration": 1054,
    "start_time": "2021-08-03T07:49:52.129Z"
   },
   {
    "duration": 5,
    "start_time": "2021-08-03T07:49:54.725Z"
   },
   {
    "duration": 25,
    "start_time": "2021-08-03T07:49:55.582Z"
   },
   {
    "duration": 725,
    "start_time": "2021-08-03T07:49:57.091Z"
   },
   {
    "duration": 25,
    "start_time": "2021-08-03T07:50:10.592Z"
   },
   {
    "duration": 5,
    "start_time": "2021-08-03T07:50:11.314Z"
   },
   {
    "duration": 37,
    "start_time": "2021-08-03T07:50:12.438Z"
   },
   {
    "duration": 1020,
    "start_time": "2021-08-03T07:50:13.215Z"
   },
   {
    "duration": 5,
    "start_time": "2021-08-03T07:50:25.658Z"
   },
   {
    "duration": 34,
    "start_time": "2021-08-03T07:50:26.785Z"
   },
   {
    "duration": 1015,
    "start_time": "2021-08-03T07:50:28.313Z"
   },
   {
    "duration": 5,
    "start_time": "2021-08-03T07:50:58.241Z"
   },
   {
    "duration": 34,
    "start_time": "2021-08-03T07:50:58.900Z"
   },
   {
    "duration": 1037,
    "start_time": "2021-08-03T07:50:59.749Z"
   },
   {
    "duration": 60,
    "start_time": "2021-08-03T07:52:19.903Z"
   },
   {
    "duration": 40,
    "start_time": "2021-08-03T07:52:22.443Z"
   },
   {
    "duration": 6,
    "start_time": "2021-08-03T07:52:24.118Z"
   },
   {
    "duration": 50,
    "start_time": "2021-08-03T07:52:24.827Z"
   },
   {
    "duration": 721,
    "start_time": "2021-08-03T07:52:26.605Z"
   },
   {
    "duration": 727,
    "start_time": "2021-08-03T07:52:28.476Z"
   },
   {
    "duration": 753,
    "start_time": "2021-08-03T07:52:31.264Z"
   },
   {
    "duration": 5,
    "start_time": "2021-08-03T07:52:44.032Z"
   },
   {
    "duration": 50,
    "start_time": "2021-08-03T07:52:44.987Z"
   },
   {
    "duration": 955,
    "start_time": "2021-08-03T07:52:45.779Z"
   },
   {
    "duration": 753,
    "start_time": "2021-08-03T07:52:50.017Z"
   },
   {
    "duration": 1925,
    "start_time": "2021-08-03T07:53:13.988Z"
   },
   {
    "duration": 6,
    "start_time": "2021-08-03T07:53:19.119Z"
   },
   {
    "duration": 73,
    "start_time": "2021-08-03T07:54:16.926Z"
   },
   {
    "duration": 533,
    "start_time": "2021-08-03T07:54:21.247Z"
   },
   {
    "duration": 6,
    "start_time": "2021-08-03T07:54:36.232Z"
   },
   {
    "duration": 53,
    "start_time": "2021-08-03T07:54:36.770Z"
   },
   {
    "duration": 715,
    "start_time": "2021-08-03T07:54:37.592Z"
   },
   {
    "duration": 702,
    "start_time": "2021-08-03T07:54:39.367Z"
   },
   {
    "duration": 904,
    "start_time": "2021-08-03T07:54:42.131Z"
   },
   {
    "duration": 6,
    "start_time": "2021-08-03T07:54:45.063Z"
   },
   {
    "duration": 49,
    "start_time": "2021-08-03T07:54:45.688Z"
   },
   {
    "duration": 726,
    "start_time": "2021-08-03T07:54:46.442Z"
   },
   {
    "duration": 24,
    "start_time": "2021-08-03T07:55:05.391Z"
   },
   {
    "duration": 9,
    "start_time": "2021-08-03T07:57:00.117Z"
   },
   {
    "duration": 925,
    "start_time": "2021-08-03T07:57:07.801Z"
   },
   {
    "duration": 8008,
    "start_time": "2021-08-03T07:57:15.075Z"
   },
   {
    "duration": 30,
    "start_time": "2021-08-03T07:58:59.063Z"
   },
   {
    "duration": 14,
    "start_time": "2021-08-03T07:59:13.967Z"
   },
   {
    "duration": 94,
    "start_time": "2021-08-03T08:33:20.665Z"
   },
   {
    "duration": 778,
    "start_time": "2021-08-03T08:33:25.208Z"
   },
   {
    "duration": 670,
    "start_time": "2021-08-03T08:33:39.985Z"
   },
   {
    "duration": 700,
    "start_time": "2021-08-03T08:34:26.791Z"
   },
   {
    "duration": 581,
    "start_time": "2021-08-03T08:34:40.741Z"
   },
   {
    "duration": 131,
    "start_time": "2021-08-03T08:34:49.636Z"
   },
   {
    "duration": 600,
    "start_time": "2021-08-03T08:34:50.927Z"
   },
   {
    "duration": 540,
    "start_time": "2021-08-03T08:36:06.224Z"
   },
   {
    "duration": 597,
    "start_time": "2021-08-03T08:36:09.896Z"
   },
   {
    "duration": 585,
    "start_time": "2021-08-03T08:36:22.034Z"
   },
   {
    "duration": 581,
    "start_time": "2021-08-03T08:36:28.716Z"
   },
   {
    "duration": 581,
    "start_time": "2021-08-03T08:36:35.725Z"
   },
   {
    "duration": 555,
    "start_time": "2021-08-03T08:36:40.081Z"
   },
   {
    "duration": 570,
    "start_time": "2021-08-03T08:37:12.835Z"
   },
   {
    "duration": 568,
    "start_time": "2021-08-03T08:37:14.745Z"
   },
   {
    "duration": 253,
    "start_time": "2021-08-03T09:57:19.848Z"
   },
   {
    "duration": 3930,
    "start_time": "2021-08-03T09:57:34.964Z"
   },
   {
    "duration": 836,
    "start_time": "2021-08-03T09:57:47.880Z"
   },
   {
    "duration": 19,
    "start_time": "2021-08-03T09:59:31.327Z"
   },
   {
    "duration": 1467,
    "start_time": "2021-08-03T10:00:41.128Z"
   },
   {
    "duration": 1294,
    "start_time": "2021-08-03T10:00:56.041Z"
   },
   {
    "duration": 1352,
    "start_time": "2021-08-03T10:01:58.266Z"
   },
   {
    "duration": 1425,
    "start_time": "2021-08-03T10:02:32.210Z"
   },
   {
    "duration": 1353,
    "start_time": "2021-08-03T10:03:46.992Z"
   },
   {
    "duration": 1401,
    "start_time": "2021-08-03T10:03:50.843Z"
   },
   {
    "duration": 1334,
    "start_time": "2021-08-03T10:05:23.080Z"
   },
   {
    "duration": 1266,
    "start_time": "2021-08-03T10:05:30.038Z"
   },
   {
    "duration": 7,
    "start_time": "2021-08-03T10:06:27.471Z"
   },
   {
    "duration": 6,
    "start_time": "2021-08-03T10:06:31.293Z"
   },
   {
    "duration": 8,
    "start_time": "2021-08-03T10:06:35.840Z"
   },
   {
    "duration": 9,
    "start_time": "2021-08-03T10:06:42.353Z"
   },
   {
    "duration": 9,
    "start_time": "2021-08-03T10:07:00.359Z"
   },
   {
    "duration": 10,
    "start_time": "2021-08-03T10:07:07.971Z"
   },
   {
    "duration": 6,
    "start_time": "2021-08-03T10:07:09.858Z"
   },
   {
    "duration": 8,
    "start_time": "2021-08-03T10:07:12.011Z"
   },
   {
    "duration": 6,
    "start_time": "2021-08-03T10:07:14.962Z"
   },
   {
    "duration": 7,
    "start_time": "2021-08-03T10:07:17.812Z"
   },
   {
    "duration": 7,
    "start_time": "2021-08-03T10:07:20.833Z"
   },
   {
    "duration": 306,
    "start_time": "2021-08-03T10:10:49.469Z"
   },
   {
    "duration": 4,
    "start_time": "2021-08-03T10:10:51.847Z"
   },
   {
    "duration": 8,
    "start_time": "2021-08-03T10:10:52.364Z"
   },
   {
    "duration": 8,
    "start_time": "2021-08-03T10:11:16.103Z"
   },
   {
    "duration": 8,
    "start_time": "2021-08-03T10:11:20.838Z"
   },
   {
    "duration": 8,
    "start_time": "2021-08-03T10:11:23.792Z"
   },
   {
    "duration": 9,
    "start_time": "2021-08-03T10:11:31.857Z"
   },
   {
    "duration": 7,
    "start_time": "2021-08-03T10:12:01.269Z"
   },
   {
    "duration": 7,
    "start_time": "2021-08-03T10:12:04.112Z"
   },
   {
    "duration": 7,
    "start_time": "2021-08-03T10:12:04.814Z"
   },
   {
    "duration": 8,
    "start_time": "2021-08-03T10:12:05.740Z"
   },
   {
    "duration": 8,
    "start_time": "2021-08-03T10:12:06.412Z"
   },
   {
    "duration": 8,
    "start_time": "2021-08-03T10:12:25.576Z"
   },
   {
    "duration": 7,
    "start_time": "2021-08-03T10:12:29.702Z"
   },
   {
    "duration": 8,
    "start_time": "2021-08-03T10:12:39.748Z"
   },
   {
    "duration": 19,
    "start_time": "2021-08-03T10:12:42.415Z"
   },
   {
    "duration": 7,
    "start_time": "2021-08-03T10:14:45.016Z"
   },
   {
    "duration": 24,
    "start_time": "2021-08-03T10:16:32.004Z"
   },
   {
    "duration": 278,
    "start_time": "2021-08-03T10:18:51.484Z"
   },
   {
    "duration": 37,
    "start_time": "2021-08-03T10:18:58.005Z"
   },
   {
    "duration": 40,
    "start_time": "2021-08-03T10:19:15.834Z"
   },
   {
    "duration": 40,
    "start_time": "2021-08-03T10:19:22.704Z"
   },
   {
    "duration": 2831,
    "start_time": "2021-08-03T10:19:42.000Z"
   },
   {
    "duration": 3118,
    "start_time": "2021-08-03T10:20:22.739Z"
   },
   {
    "duration": 710,
    "start_time": "2021-08-03T10:21:09.724Z"
   },
   {
    "duration": 705,
    "start_time": "2021-08-03T10:21:25.884Z"
   },
   {
    "duration": 5,
    "start_time": "2021-08-03T10:24:36.323Z"
   },
   {
    "duration": 71,
    "start_time": "2021-08-03T10:24:37.009Z"
   },
   {
    "duration": 1072,
    "start_time": "2021-08-03T10:24:38.754Z"
   },
   {
    "duration": 710,
    "start_time": "2021-08-03T10:25:05.365Z"
   },
   {
    "duration": 21,
    "start_time": "2021-08-03T10:25:14.671Z"
   },
   {
    "duration": 58,
    "start_time": "2021-08-03T10:25:19.529Z"
   },
   {
    "duration": 785,
    "start_time": "2021-08-03T10:25:31.707Z"
   },
   {
    "duration": 60,
    "start_time": "2021-08-03T10:25:34.081Z"
   },
   {
    "duration": 139,
    "start_time": "2021-08-03T10:25:38.034Z"
   },
   {
    "duration": 70,
    "start_time": "2021-08-03T10:25:45.477Z"
   },
   {
    "duration": 2017,
    "start_time": "2021-08-03T10:27:39.877Z"
   },
   {
    "duration": 7,
    "start_time": "2021-08-03T10:27:41.897Z"
   },
   {
    "duration": 1292,
    "start_time": "2021-08-03T10:27:41.908Z"
   },
   {
    "duration": 39,
    "start_time": "2021-08-03T10:27:43.204Z"
   },
   {
    "duration": 27,
    "start_time": "2021-08-03T10:27:43.262Z"
   },
   {
    "duration": 684,
    "start_time": "2021-08-03T10:27:43.292Z"
   },
   {
    "duration": 5,
    "start_time": "2021-08-03T10:27:43.979Z"
   },
   {
    "duration": 15,
    "start_time": "2021-08-03T10:27:43.988Z"
   },
   {
    "duration": 16,
    "start_time": "2021-08-03T10:27:44.007Z"
   },
   {
    "duration": 9,
    "start_time": "2021-08-03T10:27:44.026Z"
   },
   {
    "duration": 44,
    "start_time": "2021-08-03T10:27:44.038Z"
   },
   {
    "duration": 29,
    "start_time": "2021-08-03T10:27:44.084Z"
   },
   {
    "duration": 19,
    "start_time": "2021-08-03T10:27:44.116Z"
   },
   {
    "duration": 54,
    "start_time": "2021-08-03T10:27:44.137Z"
   },
   {
    "duration": 100,
    "start_time": "2021-08-03T10:27:44.194Z"
   },
   {
    "duration": 14,
    "start_time": "2021-08-03T10:27:44.296Z"
   },
   {
    "duration": 12,
    "start_time": "2021-08-03T10:27:44.313Z"
   },
   {
    "duration": 13,
    "start_time": "2021-08-03T10:27:44.328Z"
   },
   {
    "duration": 5,
    "start_time": "2021-08-03T10:27:44.363Z"
   },
   {
    "duration": 12,
    "start_time": "2021-08-03T10:27:44.371Z"
   },
   {
    "duration": 792,
    "start_time": "2021-08-03T10:27:44.385Z"
   },
   {
    "duration": 858,
    "start_time": "2021-08-03T10:27:45.179Z"
   },
   {
    "duration": 794,
    "start_time": "2021-08-03T10:27:46.041Z"
   },
   {
    "duration": 5,
    "start_time": "2021-08-03T10:27:46.837Z"
   },
   {
    "duration": 69,
    "start_time": "2021-08-03T10:27:46.845Z"
   },
   {
    "duration": 27,
    "start_time": "2021-08-03T10:27:46.917Z"
   },
   {
    "duration": 96,
    "start_time": "2021-08-03T10:27:46.947Z"
   },
   {
    "duration": 526,
    "start_time": "2021-08-03T10:27:47.046Z"
   },
   {
    "duration": 2,
    "start_time": "2021-08-03T10:27:47.573Z"
   },
   {
    "duration": -9,
    "start_time": "2021-08-03T10:27:47.586Z"
   },
   {
    "duration": -12,
    "start_time": "2021-08-03T10:27:47.591Z"
   },
   {
    "duration": -20,
    "start_time": "2021-08-03T10:27:47.601Z"
   },
   {
    "duration": -22,
    "start_time": "2021-08-03T10:27:47.605Z"
   },
   {
    "duration": -29,
    "start_time": "2021-08-03T10:27:47.614Z"
   },
   {
    "duration": -31,
    "start_time": "2021-08-03T10:27:47.618Z"
   },
   {
    "duration": 1047,
    "start_time": "2021-08-03T10:28:23.234Z"
   },
   {
    "duration": 1098,
    "start_time": "2021-08-03T10:28:24.284Z"
   },
   {
    "duration": 27,
    "start_time": "2021-08-03T10:28:50.626Z"
   },
   {
    "duration": 1088,
    "start_time": "2021-08-03T10:28:53.303Z"
   },
   {
    "duration": 81,
    "start_time": "2021-08-03T10:29:09.636Z"
   },
   {
    "duration": 1049,
    "start_time": "2021-08-03T10:29:10.675Z"
   },
   {
    "duration": 12,
    "start_time": "2021-08-03T10:30:36.625Z"
   },
   {
    "duration": 9,
    "start_time": "2021-08-03T10:30:38.013Z"
   },
   {
    "duration": 109,
    "start_time": "2021-08-03T10:30:38.566Z"
   },
   {
    "duration": 1043,
    "start_time": "2021-08-03T10:30:40.223Z"
   },
   {
    "duration": 1071,
    "start_time": "2021-08-03T10:30:43.609Z"
   },
   {
    "duration": 5964,
    "start_time": "2021-08-03T10:32:13.669Z"
   },
   {
    "duration": 5897,
    "start_time": "2021-08-03T10:32:30.514Z"
   },
   {
    "duration": 743,
    "start_time": "2021-08-03T10:32:39.746Z"
   },
   {
    "duration": 38,
    "start_time": "2021-08-03T10:37:15.967Z"
   },
   {
    "duration": 6,
    "start_time": "2021-08-03T10:37:21.881Z"
   },
   {
    "duration": 51,
    "start_time": "2021-08-03T10:37:22.615Z"
   },
   {
    "duration": 735,
    "start_time": "2021-08-03T10:37:23.955Z"
   },
   {
    "duration": 45,
    "start_time": "2021-08-03T10:37:33.035Z"
   },
   {
    "duration": 154,
    "start_time": "2021-08-03T10:38:49.639Z"
   },
   {
    "duration": 707,
    "start_time": "2021-08-03T10:38:51.929Z"
   },
   {
    "duration": 743,
    "start_time": "2021-08-03T10:38:55.035Z"
   },
   {
    "duration": 7,
    "start_time": "2021-08-03T10:39:57.373Z"
   },
   {
    "duration": 26,
    "start_time": "2021-08-03T10:40:22.003Z"
   },
   {
    "duration": 6,
    "start_time": "2021-08-03T10:40:23.347Z"
   },
   {
    "duration": 41,
    "start_time": "2021-08-03T10:40:23.768Z"
   },
   {
    "duration": 737,
    "start_time": "2021-08-03T10:40:24.734Z"
   },
   {
    "duration": 50,
    "start_time": "2021-08-03T10:40:30.563Z"
   },
   {
    "duration": 10,
    "start_time": "2021-08-03T10:40:31.387Z"
   },
   {
    "duration": 201,
    "start_time": "2021-08-03T10:40:31.945Z"
   },
   {
    "duration": 3439,
    "start_time": "2021-08-03T10:40:33.323Z"
   },
   {
    "duration": 48,
    "start_time": "2021-08-03T10:40:41.137Z"
   },
   {
    "duration": 10,
    "start_time": "2021-08-03T10:40:42.648Z"
   },
   {
    "duration": 199,
    "start_time": "2021-08-03T10:40:43.209Z"
   },
   {
    "duration": 3296,
    "start_time": "2021-08-03T10:40:44.293Z"
   },
   {
    "duration": 48,
    "start_time": "2021-08-03T10:40:58.370Z"
   },
   {
    "duration": 15,
    "start_time": "2021-08-03T10:41:48.204Z"
   },
   {
    "duration": 5,
    "start_time": "2021-08-03T10:41:49.447Z"
   },
   {
    "duration": 28,
    "start_time": "2021-08-03T10:41:50.033Z"
   },
   {
    "duration": 723,
    "start_time": "2021-08-03T10:41:51.499Z"
   },
   {
    "duration": 7,
    "start_time": "2021-08-03T10:42:14.872Z"
   },
   {
    "duration": 5,
    "start_time": "2021-08-03T10:42:15.486Z"
   },
   {
    "duration": 19,
    "start_time": "2021-08-03T10:42:15.947Z"
   },
   {
    "duration": 734,
    "start_time": "2021-08-03T10:42:16.785Z"
   },
   {
    "duration": 11,
    "start_time": "2021-08-03T10:42:27.188Z"
   },
   {
    "duration": 5,
    "start_time": "2021-08-03T10:42:27.726Z"
   },
   {
    "duration": 24,
    "start_time": "2021-08-03T10:42:28.158Z"
   },
   {
    "duration": 612,
    "start_time": "2021-08-03T10:42:28.991Z"
   },
   {
    "duration": 13,
    "start_time": "2021-08-03T10:42:35.622Z"
   },
   {
    "duration": 5,
    "start_time": "2021-08-03T10:42:36.326Z"
   },
   {
    "duration": 25,
    "start_time": "2021-08-03T10:42:36.777Z"
   },
   {
    "duration": 645,
    "start_time": "2021-08-03T10:42:37.622Z"
   },
   {
    "duration": 16,
    "start_time": "2021-08-03T10:42:51.208Z"
   },
   {
    "duration": 5,
    "start_time": "2021-08-03T10:42:51.817Z"
   },
   {
    "duration": 28,
    "start_time": "2021-08-03T10:42:52.345Z"
   },
   {
    "duration": 738,
    "start_time": "2021-08-03T10:42:53.831Z"
   },
   {
    "duration": 32,
    "start_time": "2021-08-03T10:43:14.265Z"
   },
   {
    "duration": 6,
    "start_time": "2021-08-03T10:43:14.792Z"
   },
   {
    "duration": 52,
    "start_time": "2021-08-03T10:43:15.419Z"
   },
   {
    "duration": 728,
    "start_time": "2021-08-03T10:43:16.234Z"
   },
   {
    "duration": 11,
    "start_time": "2021-08-03T10:44:13.556Z"
   },
   {
    "duration": 221,
    "start_time": "2021-08-03T10:44:38.296Z"
   },
   {
    "duration": 37,
    "start_time": "2021-08-03T10:44:43.069Z"
   },
   {
    "duration": 36,
    "start_time": "2021-08-03T10:44:44.513Z"
   },
   {
    "duration": 33,
    "start_time": "2021-08-03T10:44:49.394Z"
   },
   {
    "duration": 1052,
    "start_time": "2021-08-03T10:44:51.074Z"
   },
   {
    "duration": 1180,
    "start_time": "2021-08-03T10:44:59.113Z"
   },
   {
    "duration": 7274,
    "start_time": "2021-08-03T10:45:48.719Z"
   },
   {
    "duration": 7086,
    "start_time": "2021-08-03T10:46:18.115Z"
   },
   {
    "duration": 1212,
    "start_time": "2021-08-03T10:47:18.983Z"
   },
   {
    "duration": 1370,
    "start_time": "2021-08-03T10:47:20.198Z"
   },
   {
    "duration": 1238,
    "start_time": "2021-08-03T17:13:21.275Z"
   },
   {
    "duration": 3,
    "start_time": "2021-08-03T17:13:22.515Z"
   },
   {
    "duration": 891,
    "start_time": "2021-08-03T17:13:22.520Z"
   },
   {
    "duration": 21,
    "start_time": "2021-08-03T17:13:23.414Z"
   },
   {
    "duration": 16,
    "start_time": "2021-08-03T17:13:23.437Z"
   },
   {
    "duration": 339,
    "start_time": "2021-08-03T17:13:23.455Z"
   },
   {
    "duration": 4,
    "start_time": "2021-08-03T17:13:23.797Z"
   },
   {
    "duration": 9,
    "start_time": "2021-08-03T17:13:23.804Z"
   },
   {
    "duration": 6,
    "start_time": "2021-08-03T17:13:23.815Z"
   },
   {
    "duration": 9,
    "start_time": "2021-08-03T17:13:23.823Z"
   },
   {
    "duration": 16,
    "start_time": "2021-08-03T17:13:23.834Z"
   },
   {
    "duration": 38,
    "start_time": "2021-08-03T17:13:23.851Z"
   },
   {
    "duration": 18,
    "start_time": "2021-08-03T17:13:23.892Z"
   },
   {
    "duration": 15,
    "start_time": "2021-08-03T17:13:23.912Z"
   },
   {
    "duration": 105,
    "start_time": "2021-08-03T17:13:23.929Z"
   },
   {
    "duration": 10,
    "start_time": "2021-08-03T17:13:24.035Z"
   },
   {
    "duration": 6,
    "start_time": "2021-08-03T17:13:24.047Z"
   },
   {
    "duration": 8,
    "start_time": "2021-08-03T17:13:24.055Z"
   },
   {
    "duration": 6,
    "start_time": "2021-08-03T17:13:24.086Z"
   },
   {
    "duration": 16,
    "start_time": "2021-08-03T17:13:24.094Z"
   },
   {
    "duration": 511,
    "start_time": "2021-08-03T17:13:24.112Z"
   },
   {
    "duration": 584,
    "start_time": "2021-08-03T17:13:24.624Z"
   },
   {
    "duration": 519,
    "start_time": "2021-08-03T17:13:25.211Z"
   },
   {
    "duration": 3,
    "start_time": "2021-08-03T17:13:25.732Z"
   },
   {
    "duration": 24,
    "start_time": "2021-08-03T17:13:25.736Z"
   },
   {
    "duration": 25,
    "start_time": "2021-08-03T17:13:25.761Z"
   },
   {
    "duration": 40,
    "start_time": "2021-08-03T17:13:25.788Z"
   },
   {
    "duration": 477,
    "start_time": "2021-08-03T17:13:25.830Z"
   },
   {
    "duration": 482,
    "start_time": "2021-08-03T17:13:26.308Z"
   },
   {
    "duration": 781,
    "start_time": "2021-08-03T17:13:26.792Z"
   },
   {
    "duration": 792,
    "start_time": "2021-08-03T17:14:27.415Z"
   },
   {
    "duration": 290,
    "start_time": "2021-08-03T17:15:19.690Z"
   },
   {
    "duration": 21,
    "start_time": "2021-08-03T17:15:24.450Z"
   },
   {
    "duration": 4,
    "start_time": "2021-08-03T17:15:34.004Z"
   },
   {
    "duration": 9,
    "start_time": "2021-08-03T17:17:06.279Z"
   },
   {
    "duration": 5,
    "start_time": "2021-08-03T17:17:23.810Z"
   },
   {
    "duration": 6,
    "start_time": "2021-08-03T17:17:41.548Z"
   },
   {
    "duration": 6,
    "start_time": "2021-08-03T17:18:02.854Z"
   },
   {
    "duration": 7,
    "start_time": "2021-08-03T17:18:09.103Z"
   },
   {
    "duration": 6,
    "start_time": "2021-08-03T17:18:56.031Z"
   },
   {
    "duration": 5,
    "start_time": "2021-08-03T17:19:00.568Z"
   },
   {
    "duration": 5,
    "start_time": "2021-08-03T17:20:17.515Z"
   },
   {
    "duration": 7,
    "start_time": "2021-08-03T17:20:58.926Z"
   },
   {
    "duration": 6,
    "start_time": "2021-08-03T17:21:09.529Z"
   },
   {
    "duration": 5,
    "start_time": "2021-08-03T17:21:27.810Z"
   },
   {
    "duration": 7,
    "start_time": "2021-08-03T17:24:20.129Z"
   },
   {
    "duration": 10,
    "start_time": "2021-08-03T17:25:39.509Z"
   },
   {
    "duration": 3,
    "start_time": "2021-08-03T17:26:02.703Z"
   },
   {
    "duration": 5,
    "start_time": "2021-08-03T17:26:08.831Z"
   },
   {
    "duration": 7,
    "start_time": "2021-08-03T17:26:52.882Z"
   },
   {
    "duration": 10,
    "start_time": "2021-08-03T17:26:53.557Z"
   },
   {
    "duration": 10,
    "start_time": "2021-08-03T17:26:58.198Z"
   },
   {
    "duration": 7,
    "start_time": "2021-08-03T17:27:03.192Z"
   },
   {
    "duration": 181,
    "start_time": "2021-08-03T17:27:35.971Z"
   },
   {
    "duration": 7,
    "start_time": "2021-08-03T17:28:22.794Z"
   },
   {
    "duration": 10,
    "start_time": "2021-08-03T17:28:27.851Z"
   },
   {
    "duration": 12,
    "start_time": "2021-08-03T17:30:37.388Z"
   },
   {
    "duration": 12,
    "start_time": "2021-08-03T17:31:57.605Z"
   },
   {
    "duration": 58,
    "start_time": "2021-08-03T17:32:09.336Z"
   },
   {
    "duration": 12,
    "start_time": "2021-08-03T17:32:12.057Z"
   },
   {
    "duration": 213,
    "start_time": "2021-08-03T17:32:43.182Z"
   },
   {
    "duration": 1156,
    "start_time": "2021-08-03T17:32:48.446Z"
   },
   {
    "duration": 4,
    "start_time": "2021-08-03T17:32:49.604Z"
   },
   {
    "duration": 752,
    "start_time": "2021-08-03T17:32:49.610Z"
   },
   {
    "duration": 31,
    "start_time": "2021-08-03T17:32:50.365Z"
   },
   {
    "duration": 17,
    "start_time": "2021-08-03T17:32:50.398Z"
   },
   {
    "duration": 322,
    "start_time": "2021-08-03T17:32:50.416Z"
   },
   {
    "duration": 4,
    "start_time": "2021-08-03T17:32:50.739Z"
   },
   {
    "duration": 7,
    "start_time": "2021-08-03T17:32:50.745Z"
   },
   {
    "duration": 6,
    "start_time": "2021-08-03T17:32:50.754Z"
   },
   {
    "duration": 7,
    "start_time": "2021-08-03T17:32:50.761Z"
   },
   {
    "duration": 34,
    "start_time": "2021-08-03T17:32:50.770Z"
   },
   {
    "duration": 17,
    "start_time": "2021-08-03T17:32:50.805Z"
   },
   {
    "duration": 15,
    "start_time": "2021-08-03T17:32:50.823Z"
   },
   {
    "duration": 13,
    "start_time": "2021-08-03T17:32:50.839Z"
   },
   {
    "duration": 96,
    "start_time": "2021-08-03T17:32:50.854Z"
   },
   {
    "duration": 8,
    "start_time": "2021-08-03T17:32:50.952Z"
   },
   {
    "duration": 23,
    "start_time": "2021-08-03T17:32:50.962Z"
   },
   {
    "duration": 10,
    "start_time": "2021-08-03T17:32:50.987Z"
   },
   {
    "duration": 7,
    "start_time": "2021-08-03T17:32:50.999Z"
   },
   {
    "duration": 6,
    "start_time": "2021-08-03T17:32:51.007Z"
   },
   {
    "duration": 493,
    "start_time": "2021-08-03T17:32:51.015Z"
   },
   {
    "duration": 536,
    "start_time": "2021-08-03T17:32:51.510Z"
   },
   {
    "duration": 477,
    "start_time": "2021-08-03T17:32:52.049Z"
   },
   {
    "duration": 3,
    "start_time": "2021-08-03T17:32:52.527Z"
   },
   {
    "duration": 21,
    "start_time": "2021-08-03T17:32:52.532Z"
   },
   {
    "duration": 13,
    "start_time": "2021-08-03T17:32:52.555Z"
   },
   {
    "duration": 50,
    "start_time": "2021-08-03T17:32:52.570Z"
   },
   {
    "duration": 458,
    "start_time": "2021-08-03T17:32:52.621Z"
   },
   {
    "duration": 498,
    "start_time": "2021-08-03T17:32:53.081Z"
   },
   {
    "duration": 751,
    "start_time": "2021-08-03T17:32:53.581Z"
   },
   {
    "duration": 798,
    "start_time": "2021-08-03T17:32:54.333Z"
   },
   {
    "duration": 5,
    "start_time": "2021-08-03T17:32:55.133Z"
   },
   {
    "duration": 17,
    "start_time": "2021-08-03T17:32:55.140Z"
   },
   {
    "duration": 224,
    "start_time": "2021-08-03T17:33:24.811Z"
   },
   {
    "duration": 1188,
    "start_time": "2021-08-03T17:33:31.183Z"
   },
   {
    "duration": 4,
    "start_time": "2021-08-03T17:33:32.372Z"
   },
   {
    "duration": 724,
    "start_time": "2021-08-03T17:33:32.377Z"
   },
   {
    "duration": 15,
    "start_time": "2021-08-03T17:33:33.103Z"
   },
   {
    "duration": 15,
    "start_time": "2021-08-03T17:33:33.120Z"
   },
   {
    "duration": 368,
    "start_time": "2021-08-03T17:33:33.137Z"
   },
   {
    "duration": 3,
    "start_time": "2021-08-03T17:33:33.507Z"
   },
   {
    "duration": 6,
    "start_time": "2021-08-03T17:33:33.512Z"
   },
   {
    "duration": 4,
    "start_time": "2021-08-03T17:33:33.520Z"
   },
   {
    "duration": 10,
    "start_time": "2021-08-03T17:33:33.526Z"
   },
   {
    "duration": 22,
    "start_time": "2021-08-03T17:33:33.537Z"
   },
   {
    "duration": 30,
    "start_time": "2021-08-03T17:33:33.560Z"
   },
   {
    "duration": 17,
    "start_time": "2021-08-03T17:33:33.592Z"
   },
   {
    "duration": 13,
    "start_time": "2021-08-03T17:33:33.611Z"
   },
   {
    "duration": 89,
    "start_time": "2021-08-03T17:33:33.625Z"
   },
   {
    "duration": 9,
    "start_time": "2021-08-03T17:33:33.715Z"
   },
   {
    "duration": 6,
    "start_time": "2021-08-03T17:33:33.725Z"
   },
   {
    "duration": 8,
    "start_time": "2021-08-03T17:33:33.733Z"
   },
   {
    "duration": 5,
    "start_time": "2021-08-03T17:33:33.743Z"
   },
   {
    "duration": 6,
    "start_time": "2021-08-03T17:33:33.749Z"
   },
   {
    "duration": 478,
    "start_time": "2021-08-03T17:33:33.784Z"
   },
   {
    "duration": 560,
    "start_time": "2021-08-03T17:33:34.263Z"
   },
   {
    "duration": 500,
    "start_time": "2021-08-03T17:33:34.826Z"
   },
   {
    "duration": 3,
    "start_time": "2021-08-03T17:33:35.327Z"
   },
   {
    "duration": 27,
    "start_time": "2021-08-03T17:33:35.332Z"
   },
   {
    "duration": 27,
    "start_time": "2021-08-03T17:33:35.361Z"
   },
   {
    "duration": 45,
    "start_time": "2021-08-03T17:33:35.390Z"
   },
   {
    "duration": 460,
    "start_time": "2021-08-03T17:33:35.436Z"
   },
   {
    "duration": 484,
    "start_time": "2021-08-03T17:33:35.898Z"
   },
   {
    "duration": 755,
    "start_time": "2021-08-03T17:33:36.385Z"
   },
   {
    "duration": 775,
    "start_time": "2021-08-03T17:33:37.141Z"
   },
   {
    "duration": 6,
    "start_time": "2021-08-03T17:33:37.918Z"
   },
   {
    "duration": 36,
    "start_time": "2021-08-03T17:33:37.925Z"
   },
   {
    "duration": 219,
    "start_time": "2021-08-03T17:33:48.584Z"
   },
   {
    "duration": 181,
    "start_time": "2021-08-03T17:34:00.966Z"
   },
   {
    "duration": 1167,
    "start_time": "2021-08-03T17:34:05.054Z"
   },
   {
    "duration": 4,
    "start_time": "2021-08-03T17:34:06.223Z"
   },
   {
    "duration": 715,
    "start_time": "2021-08-03T17:34:06.229Z"
   },
   {
    "duration": 16,
    "start_time": "2021-08-03T17:34:06.945Z"
   },
   {
    "duration": 30,
    "start_time": "2021-08-03T17:34:06.963Z"
   },
   {
    "duration": 347,
    "start_time": "2021-08-03T17:34:06.994Z"
   },
   {
    "duration": 3,
    "start_time": "2021-08-03T17:34:07.343Z"
   },
   {
    "duration": 8,
    "start_time": "2021-08-03T17:34:07.348Z"
   },
   {
    "duration": 4,
    "start_time": "2021-08-03T17:34:07.359Z"
   },
   {
    "duration": 24,
    "start_time": "2021-08-03T17:34:07.365Z"
   },
   {
    "duration": 24,
    "start_time": "2021-08-03T17:34:07.391Z"
   },
   {
    "duration": 17,
    "start_time": "2021-08-03T17:34:07.416Z"
   },
   {
    "duration": 15,
    "start_time": "2021-08-03T17:34:07.434Z"
   },
   {
    "duration": 13,
    "start_time": "2021-08-03T17:34:07.450Z"
   },
   {
    "duration": 88,
    "start_time": "2021-08-03T17:34:07.464Z"
   },
   {
    "duration": 8,
    "start_time": "2021-08-03T17:34:07.554Z"
   },
   {
    "duration": 6,
    "start_time": "2021-08-03T17:34:07.563Z"
   },
   {
    "duration": 9,
    "start_time": "2021-08-03T17:34:07.589Z"
   },
   {
    "duration": 6,
    "start_time": "2021-08-03T17:34:07.600Z"
   },
   {
    "duration": 4,
    "start_time": "2021-08-03T17:34:07.608Z"
   },
   {
    "duration": 491,
    "start_time": "2021-08-03T17:34:07.614Z"
   },
   {
    "duration": 564,
    "start_time": "2021-08-03T17:34:08.107Z"
   },
   {
    "duration": 483,
    "start_time": "2021-08-03T17:34:08.673Z"
   },
   {
    "duration": 3,
    "start_time": "2021-08-03T17:34:09.158Z"
   },
   {
    "duration": 36,
    "start_time": "2021-08-03T17:34:09.162Z"
   },
   {
    "duration": 10,
    "start_time": "2021-08-03T17:34:09.201Z"
   },
   {
    "duration": 36,
    "start_time": "2021-08-03T17:34:09.214Z"
   },
   {
    "duration": 484,
    "start_time": "2021-08-03T17:34:09.252Z"
   },
   {
    "duration": 492,
    "start_time": "2021-08-03T17:34:09.738Z"
   },
   {
    "duration": 760,
    "start_time": "2021-08-03T17:34:10.231Z"
   },
   {
    "duration": 768,
    "start_time": "2021-08-03T17:34:10.994Z"
   },
   {
    "duration": 6,
    "start_time": "2021-08-03T17:34:11.764Z"
   },
   {
    "duration": 18,
    "start_time": "2021-08-03T17:34:11.771Z"
   },
   {
    "duration": 5,
    "start_time": "2021-08-03T17:34:13.359Z"
   },
   {
    "duration": 10,
    "start_time": "2021-08-03T17:34:23.507Z"
   },
   {
    "duration": 10,
    "start_time": "2021-08-03T17:34:30.682Z"
   },
   {
    "duration": 223,
    "start_time": "2021-08-03T17:34:49.829Z"
   },
   {
    "duration": 168,
    "start_time": "2021-08-03T17:35:26.556Z"
   },
   {
    "duration": 1240,
    "start_time": "2021-08-03T17:35:29.672Z"
   },
   {
    "duration": 4,
    "start_time": "2021-08-03T17:35:30.914Z"
   },
   {
    "duration": 745,
    "start_time": "2021-08-03T17:35:30.920Z"
   },
   {
    "duration": 29,
    "start_time": "2021-08-03T17:35:31.667Z"
   },
   {
    "duration": 17,
    "start_time": "2021-08-03T17:35:31.699Z"
   },
   {
    "duration": 353,
    "start_time": "2021-08-03T17:35:31.718Z"
   },
   {
    "duration": 3,
    "start_time": "2021-08-03T17:35:32.073Z"
   },
   {
    "duration": 7,
    "start_time": "2021-08-03T17:35:32.079Z"
   },
   {
    "duration": 7,
    "start_time": "2021-08-03T17:35:32.089Z"
   },
   {
    "duration": 8,
    "start_time": "2021-08-03T17:35:32.098Z"
   },
   {
    "duration": 16,
    "start_time": "2021-08-03T17:35:32.107Z"
   },
   {
    "duration": 16,
    "start_time": "2021-08-03T17:35:32.125Z"
   },
   {
    "duration": 49,
    "start_time": "2021-08-03T17:35:32.142Z"
   },
   {
    "duration": 16,
    "start_time": "2021-08-03T17:35:32.196Z"
   },
   {
    "duration": 84,
    "start_time": "2021-08-03T17:35:32.213Z"
   },
   {
    "duration": 9,
    "start_time": "2021-08-03T17:35:32.300Z"
   },
   {
    "duration": 9,
    "start_time": "2021-08-03T17:35:32.311Z"
   },
   {
    "duration": 10,
    "start_time": "2021-08-03T17:35:32.321Z"
   },
   {
    "duration": 5,
    "start_time": "2021-08-03T17:35:32.332Z"
   },
   {
    "duration": 7,
    "start_time": "2021-08-03T17:35:32.338Z"
   },
   {
    "duration": 520,
    "start_time": "2021-08-03T17:35:32.347Z"
   },
   {
    "duration": 577,
    "start_time": "2021-08-03T17:35:32.869Z"
   },
   {
    "duration": 502,
    "start_time": "2021-08-03T17:35:33.449Z"
   },
   {
    "duration": 3,
    "start_time": "2021-08-03T17:35:33.953Z"
   },
   {
    "duration": 31,
    "start_time": "2021-08-03T17:35:33.958Z"
   },
   {
    "duration": 16,
    "start_time": "2021-08-03T17:35:33.992Z"
   },
   {
    "duration": 38,
    "start_time": "2021-08-03T17:35:34.010Z"
   },
   {
    "duration": 491,
    "start_time": "2021-08-03T17:35:34.050Z"
   },
   {
    "duration": 496,
    "start_time": "2021-08-03T17:35:34.543Z"
   },
   {
    "duration": 761,
    "start_time": "2021-08-03T17:35:35.041Z"
   },
   {
    "duration": 799,
    "start_time": "2021-08-03T17:35:35.804Z"
   },
   {
    "duration": 7,
    "start_time": "2021-08-03T17:35:36.606Z"
   },
   {
    "duration": 11,
    "start_time": "2021-08-03T17:35:36.615Z"
   },
   {
    "duration": 6,
    "start_time": "2021-08-03T17:35:36.628Z"
   },
   {
    "duration": 10,
    "start_time": "2021-08-03T17:35:38.955Z"
   },
   {
    "duration": 9,
    "start_time": "2021-08-03T17:35:56.964Z"
   },
   {
    "duration": 8,
    "start_time": "2021-08-03T17:36:05.344Z"
   },
   {
    "duration": 8,
    "start_time": "2021-08-03T17:36:15.664Z"
   },
   {
    "duration": 8,
    "start_time": "2021-08-03T17:36:17.074Z"
   },
   {
    "duration": 17,
    "start_time": "2021-08-03T17:36:22.881Z"
   },
   {
    "duration": 8,
    "start_time": "2021-08-03T17:36:25.964Z"
   },
   {
    "duration": 10,
    "start_time": "2021-08-03T17:36:27.066Z"
   },
   {
    "duration": 5,
    "start_time": "2021-08-03T17:36:34.610Z"
   },
   {
    "duration": 8,
    "start_time": "2021-08-03T17:36:40.091Z"
   },
   {
    "duration": 6,
    "start_time": "2021-08-03T17:36:45.476Z"
   },
   {
    "duration": 8,
    "start_time": "2021-08-03T17:37:02.102Z"
   },
   {
    "duration": 7,
    "start_time": "2021-08-03T17:37:37.964Z"
   },
   {
    "duration": 6,
    "start_time": "2021-08-03T17:37:38.907Z"
   },
   {
    "duration": 13,
    "start_time": "2021-08-03T17:38:07.231Z"
   },
   {
    "duration": 12,
    "start_time": "2021-08-03T17:38:15.129Z"
   },
   {
    "duration": 7,
    "start_time": "2021-08-03T17:38:31.274Z"
   },
   {
    "duration": 25,
    "start_time": "2021-08-03T17:39:04.437Z"
   },
   {
    "duration": 6,
    "start_time": "2021-08-03T17:39:26.530Z"
   },
   {
    "duration": 9,
    "start_time": "2021-08-03T17:41:59.455Z"
   },
   {
    "duration": 11,
    "start_time": "2021-08-03T17:42:05.023Z"
   },
   {
    "duration": 1131,
    "start_time": "2021-08-03T17:42:19.597Z"
   },
   {
    "duration": 93,
    "start_time": "2021-08-03T17:43:34.874Z"
   },
   {
    "duration": 238,
    "start_time": "2021-08-03T17:45:37.451Z"
   },
   {
    "duration": 198,
    "start_time": "2021-08-03T17:45:41.458Z"
   },
   {
    "duration": 197,
    "start_time": "2021-08-03T17:45:46.603Z"
   },
   {
    "duration": 3,
    "start_time": "2021-08-03T17:45:57.339Z"
   },
   {
    "duration": 12,
    "start_time": "2021-08-03T17:45:57.947Z"
   },
   {
    "duration": 8,
    "start_time": "2021-08-03T17:45:58.477Z"
   },
   {
    "duration": 6,
    "start_time": "2021-08-03T17:45:59.885Z"
   },
   {
    "duration": 8,
    "start_time": "2021-08-03T17:46:00.364Z"
   },
   {
    "duration": 6143,
    "start_time": "2021-08-03T17:46:01.254Z"
   },
   {
    "duration": 1162,
    "start_time": "2021-08-03T17:46:43.730Z"
   },
   {
    "duration": 1220,
    "start_time": "2021-08-03T17:46:58.165Z"
   },
   {
    "duration": 550,
    "start_time": "2021-08-03T17:48:27.888Z"
   },
   {
    "duration": 389,
    "start_time": "2021-08-03T17:48:43.083Z"
   },
   {
    "duration": 7,
    "start_time": "2021-08-03T17:50:16.167Z"
   },
   {
    "duration": 8,
    "start_time": "2021-08-03T17:50:16.711Z"
   },
   {
    "duration": 3,
    "start_time": "2021-08-03T17:50:17.719Z"
   },
   {
    "duration": 9,
    "start_time": "2021-08-03T17:50:18.911Z"
   },
   {
    "duration": 10,
    "start_time": "2021-08-03T17:50:19.335Z"
   },
   {
    "duration": 9,
    "start_time": "2021-08-03T17:50:20.199Z"
   },
   {
    "duration": 7,
    "start_time": "2021-08-03T17:50:20.863Z"
   },
   {
    "duration": 10,
    "start_time": "2021-08-03T17:50:21.671Z"
   },
   {
    "duration": 1500,
    "start_time": "2021-08-03T17:50:22.640Z"
   },
   {
    "duration": 443,
    "start_time": "2021-08-03T17:50:24.142Z"
   },
   {
    "duration": 11,
    "start_time": "2021-08-03T17:51:27.226Z"
   },
   {
    "duration": 19,
    "start_time": "2021-08-03T17:52:56.957Z"
   },
   {
    "duration": 65,
    "start_time": "2021-08-03T17:54:21.967Z"
   },
   {
    "duration": 5,
    "start_time": "2021-08-03T17:54:24.504Z"
   },
   {
    "duration": 9,
    "start_time": "2021-08-03T17:54:25.696Z"
   },
   {
    "duration": 8,
    "start_time": "2021-08-03T17:54:26.647Z"
   },
   {
    "duration": 3,
    "start_time": "2021-08-03T17:54:27.752Z"
   },
   {
    "duration": 7,
    "start_time": "2021-08-03T17:54:28.016Z"
   },
   {
    "duration": 8,
    "start_time": "2021-08-03T17:54:28.440Z"
   },
   {
    "duration": 8,
    "start_time": "2021-08-03T17:54:28.921Z"
   },
   {
    "duration": 6,
    "start_time": "2021-08-03T17:54:29.504Z"
   },
   {
    "duration": 7,
    "start_time": "2021-08-03T17:54:30.073Z"
   },
   {
    "duration": 1399,
    "start_time": "2021-08-03T17:54:30.538Z"
   },
   {
    "duration": 435,
    "start_time": "2021-08-03T17:54:31.939Z"
   },
   {
    "duration": 20,
    "start_time": "2021-08-03T17:54:49.764Z"
   },
   {
    "duration": 8,
    "start_time": "2021-08-03T17:55:32.169Z"
   },
   {
    "duration": 10,
    "start_time": "2021-08-03T17:55:43.579Z"
   },
   {
    "duration": 10,
    "start_time": "2021-08-03T17:55:44.971Z"
   },
   {
    "duration": 3,
    "start_time": "2021-08-03T17:55:45.779Z"
   },
   {
    "duration": 11,
    "start_time": "2021-08-03T17:55:46.179Z"
   },
   {
    "duration": 9,
    "start_time": "2021-08-03T17:55:46.844Z"
   },
   {
    "duration": 6,
    "start_time": "2021-08-03T17:55:47.916Z"
   },
   {
    "duration": 10,
    "start_time": "2021-08-03T17:55:48.595Z"
   },
   {
    "duration": 1397,
    "start_time": "2021-08-03T17:55:49.260Z"
   },
   {
    "duration": 421,
    "start_time": "2021-08-03T17:55:50.796Z"
   },
   {
    "duration": 12,
    "start_time": "2021-08-03T17:56:24.887Z"
   },
   {
    "duration": 1208,
    "start_time": "2021-08-03T17:56:27.519Z"
   },
   {
    "duration": 8,
    "start_time": "2021-08-03T17:56:28.729Z"
   },
   {
    "duration": 539,
    "start_time": "2021-08-03T17:56:29.056Z"
   },
   {
    "duration": 399,
    "start_time": "2021-08-03T17:56:30.595Z"
   },
   {
    "duration": 390,
    "start_time": "2021-08-03T17:56:32.081Z"
   },
   {
    "duration": 1206,
    "start_time": "2021-08-03T17:56:33.155Z"
   },
   {
    "duration": 3,
    "start_time": "2021-08-03T17:57:01.924Z"
   },
   {
    "duration": 7,
    "start_time": "2021-08-03T17:57:02.310Z"
   },
   {
    "duration": 8,
    "start_time": "2021-08-03T17:57:02.732Z"
   },
   {
    "duration": 8,
    "start_time": "2021-08-03T17:57:03.652Z"
   },
   {
    "duration": 6,
    "start_time": "2021-08-03T17:57:04.581Z"
   },
   {
    "duration": 8,
    "start_time": "2021-08-03T17:57:05.045Z"
   },
   {
    "duration": 1609,
    "start_time": "2021-08-03T17:57:05.469Z"
   },
   {
    "duration": 473,
    "start_time": "2021-08-03T17:57:08.695Z"
   },
   {
    "duration": 1596,
    "start_time": "2021-08-03T17:57:24.641Z"
   },
   {
    "duration": 1469,
    "start_time": "2021-08-03T17:57:30.225Z"
   },
   {
    "duration": 1653,
    "start_time": "2021-08-03T17:57:46.450Z"
   },
   {
    "duration": 9,
    "start_time": "2021-08-03T17:57:52.139Z"
   },
   {
    "duration": 1634,
    "start_time": "2021-08-03T17:57:54.317Z"
   },
   {
    "duration": 7,
    "start_time": "2021-08-03T17:58:02.421Z"
   },
   {
    "duration": 1536,
    "start_time": "2021-08-03T17:58:04.982Z"
   },
   {
    "duration": 1742,
    "start_time": "2021-08-03T17:58:19.071Z"
   },
   {
    "duration": 3,
    "start_time": "2021-08-03T18:00:41.940Z"
   },
   {
    "duration": 7,
    "start_time": "2021-08-03T18:01:24.192Z"
   },
   {
    "duration": 9,
    "start_time": "2021-08-03T18:01:24.904Z"
   },
   {
    "duration": 8,
    "start_time": "2021-08-03T18:01:25.584Z"
   },
   {
    "duration": 6,
    "start_time": "2021-08-03T18:01:26.512Z"
   },
   {
    "duration": 8,
    "start_time": "2021-08-03T18:01:27.202Z"
   },
   {
    "duration": 1559,
    "start_time": "2021-08-03T18:01:46.412Z"
   },
   {
    "duration": 602,
    "start_time": "2021-08-03T18:01:48.907Z"
   },
   {
    "duration": 1494,
    "start_time": "2021-08-03T18:01:54.917Z"
   },
   {
    "duration": 178,
    "start_time": "2021-08-03T18:04:41.987Z"
   },
   {
    "duration": 11,
    "start_time": "2021-08-03T18:04:48.220Z"
   },
   {
    "duration": 5,
    "start_time": "2021-08-03T18:04:53.518Z"
   },
   {
    "duration": 498,
    "start_time": "2021-08-03T18:04:54.604Z"
   },
   {
    "duration": 501,
    "start_time": "2021-08-03T18:04:57.189Z"
   },
   {
    "duration": 629,
    "start_time": "2021-08-03T18:04:59.525Z"
   },
   {
    "duration": 5,
    "start_time": "2021-08-03T18:11:26.263Z"
   },
   {
    "duration": 60,
    "start_time": "2021-08-03T18:12:02.836Z"
   },
   {
    "duration": 5,
    "start_time": "2021-08-03T18:12:07.453Z"
   },
   {
    "duration": 6,
    "start_time": "2021-08-03T18:12:10.766Z"
   },
   {
    "duration": 3,
    "start_time": "2021-08-03T18:12:14.565Z"
   },
   {
    "duration": 7,
    "start_time": "2021-08-03T18:12:15.190Z"
   },
   {
    "duration": 6,
    "start_time": "2021-08-03T18:12:15.798Z"
   },
   {
    "duration": 7,
    "start_time": "2021-08-03T18:12:17.629Z"
   },
   {
    "duration": 7,
    "start_time": "2021-08-03T18:12:18.558Z"
   },
   {
    "duration": 1268,
    "start_time": "2021-08-03T18:12:19.462Z"
   },
   {
    "duration": 409,
    "start_time": "2021-08-03T18:12:22.247Z"
   },
   {
    "duration": 17,
    "start_time": "2021-08-03T18:13:25.952Z"
   },
   {
    "duration": 7,
    "start_time": "2021-08-03T18:13:33.515Z"
   },
   {
    "duration": 5,
    "start_time": "2021-08-03T18:13:50.227Z"
   },
   {
    "duration": 175,
    "start_time": "2021-08-03T18:18:54.003Z"
   },
   {
    "duration": 4,
    "start_time": "2021-08-03T18:18:57.995Z"
   },
   {
    "duration": 6,
    "start_time": "2021-08-03T18:18:58.684Z"
   },
   {
    "duration": 2,
    "start_time": "2021-08-03T18:19:01.221Z"
   },
   {
    "duration": 2581,
    "start_time": "2021-08-03T18:19:04.005Z"
   },
   {
    "duration": 199,
    "start_time": "2021-08-03T18:20:53.826Z"
   },
   {
    "duration": 174,
    "start_time": "2021-08-03T18:21:06.547Z"
   },
   {
    "duration": 41,
    "start_time": "2021-08-03T18:21:15.219Z"
   },
   {
    "duration": 1508,
    "start_time": "2021-08-04T04:47:56.020Z"
   },
   {
    "duration": 6,
    "start_time": "2021-08-04T04:47:57.531Z"
   },
   {
    "duration": 920,
    "start_time": "2021-08-04T04:47:57.540Z"
   },
   {
    "duration": 26,
    "start_time": "2021-08-04T04:47:58.463Z"
   },
   {
    "duration": 28,
    "start_time": "2021-08-04T04:47:58.491Z"
   },
   {
    "duration": 647,
    "start_time": "2021-08-04T04:47:58.521Z"
   },
   {
    "duration": 5,
    "start_time": "2021-08-04T04:47:59.171Z"
   },
   {
    "duration": 7,
    "start_time": "2021-08-04T04:47:59.179Z"
   },
   {
    "duration": 7,
    "start_time": "2021-08-04T04:47:59.189Z"
   },
   {
    "duration": 9,
    "start_time": "2021-08-04T04:47:59.198Z"
   },
   {
    "duration": 67,
    "start_time": "2021-08-04T04:47:59.210Z"
   },
   {
    "duration": 19,
    "start_time": "2021-08-04T04:47:59.280Z"
   },
   {
    "duration": 19,
    "start_time": "2021-08-04T04:47:59.302Z"
   },
   {
    "duration": 46,
    "start_time": "2021-08-04T04:47:59.323Z"
   },
   {
    "duration": 109,
    "start_time": "2021-08-04T04:47:59.371Z"
   },
   {
    "duration": 12,
    "start_time": "2021-08-04T04:47:59.483Z"
   },
   {
    "duration": 9,
    "start_time": "2021-08-04T04:47:59.497Z"
   },
   {
    "duration": 12,
    "start_time": "2021-08-04T04:47:59.509Z"
   },
   {
    "duration": 9,
    "start_time": "2021-08-04T04:47:59.524Z"
   },
   {
    "duration": 37,
    "start_time": "2021-08-04T04:47:59.535Z"
   },
   {
    "duration": 959,
    "start_time": "2021-08-04T04:47:59.574Z"
   },
   {
    "duration": 911,
    "start_time": "2021-08-04T04:48:00.536Z"
   },
   {
    "duration": 857,
    "start_time": "2021-08-04T04:48:01.452Z"
   },
   {
    "duration": 5,
    "start_time": "2021-08-04T04:48:02.312Z"
   },
   {
    "duration": 50,
    "start_time": "2021-08-04T04:48:02.319Z"
   },
   {
    "duration": 32,
    "start_time": "2021-08-04T04:48:02.372Z"
   },
   {
    "duration": 70,
    "start_time": "2021-08-04T04:48:02.406Z"
   },
   {
    "duration": 738,
    "start_time": "2021-08-04T04:48:02.478Z"
   },
   {
    "duration": 833,
    "start_time": "2021-08-04T04:48:03.218Z"
   },
   {
    "duration": 1206,
    "start_time": "2021-08-04T04:48:04.053Z"
   },
   {
    "duration": 1347,
    "start_time": "2021-08-04T04:48:05.261Z"
   },
   {
    "duration": 4,
    "start_time": "2021-08-04T04:48:06.610Z"
   },
   {
    "duration": 12,
    "start_time": "2021-08-04T04:48:06.617Z"
   },
   {
    "duration": 10,
    "start_time": "2021-08-04T04:48:06.631Z"
   },
   {
    "duration": 26,
    "start_time": "2021-08-04T04:48:06.644Z"
   },
   {
    "duration": 7,
    "start_time": "2021-08-04T04:48:06.673Z"
   },
   {
    "duration": 1947,
    "start_time": "2021-08-04T04:48:06.682Z"
   },
   {
    "duration": 631,
    "start_time": "2021-08-04T04:48:08.632Z"
   },
   {
    "duration": 6,
    "start_time": "2021-08-04T04:48:09.266Z"
   },
   {
    "duration": 16,
    "start_time": "2021-08-04T04:48:09.274Z"
   },
   {
    "duration": 12,
    "start_time": "2021-08-04T04:48:09.293Z"
   },
   {
    "duration": 29,
    "start_time": "2021-08-04T04:49:11.415Z"
   },
   {
    "duration": 12690,
    "start_time": "2021-08-04T04:49:20.890Z"
   },
   {
    "duration": 13,
    "start_time": "2021-08-04T04:49:53.247Z"
   },
   {
    "duration": 17,
    "start_time": "2021-08-04T04:50:02.157Z"
   },
   {
    "duration": 440,
    "start_time": "2021-08-04T04:51:13.205Z"
   },
   {
    "duration": 12,
    "start_time": "2021-08-04T04:51:14.685Z"
   },
   {
    "duration": 25,
    "start_time": "2021-08-04T04:51:15.550Z"
   },
   {
    "duration": 6,
    "start_time": "2021-08-04T04:52:21.033Z"
   },
   {
    "duration": 7,
    "start_time": "2021-08-04T04:52:30.658Z"
   },
   {
    "duration": 100,
    "start_time": "2021-08-04T04:53:10.586Z"
   },
   {
    "duration": 9,
    "start_time": "2021-08-04T04:53:28.246Z"
   },
   {
    "duration": 2711,
    "start_time": "2021-08-04T04:53:30.956Z"
   },
   {
    "duration": 2357,
    "start_time": "2021-08-04T04:53:35.914Z"
   },
   {
    "duration": 30,
    "start_time": "2021-08-04T04:53:50.044Z"
   },
   {
    "duration": 31,
    "start_time": "2021-08-04T04:53:59.786Z"
   },
   {
    "duration": 31,
    "start_time": "2021-08-04T04:54:26.800Z"
   },
   {
    "duration": 6,
    "start_time": "2021-08-04T04:54:34.597Z"
   },
   {
    "duration": 75,
    "start_time": "2021-08-04T04:54:58.833Z"
   },
   {
    "duration": 6,
    "start_time": "2021-08-04T04:55:00.999Z"
   },
   {
    "duration": 6,
    "start_time": "2021-08-04T04:55:02.757Z"
   },
   {
    "duration": 7,
    "start_time": "2021-08-04T04:55:06.292Z"
   },
   {
    "duration": 2083,
    "start_time": "2021-08-04T04:55:08.285Z"
   },
   {
    "duration": 2561,
    "start_time": "2021-08-04T04:55:13.208Z"
   },
   {
    "duration": 1594,
    "start_time": "2021-08-04T04:58:11.338Z"
   },
   {
    "duration": 5,
    "start_time": "2021-08-04T04:58:12.935Z"
   },
   {
    "duration": 924,
    "start_time": "2021-08-04T04:58:12.943Z"
   },
   {
    "duration": 27,
    "start_time": "2021-08-04T04:58:13.870Z"
   },
   {
    "duration": 29,
    "start_time": "2021-08-04T04:58:13.900Z"
   },
   {
    "duration": 616,
    "start_time": "2021-08-04T04:58:13.932Z"
   },
   {
    "duration": 17,
    "start_time": "2021-08-04T04:58:14.550Z"
   },
   {
    "duration": 7,
    "start_time": "2021-08-04T04:58:14.570Z"
   },
   {
    "duration": 15,
    "start_time": "2021-08-04T04:58:14.581Z"
   },
   {
    "duration": 12,
    "start_time": "2021-08-04T04:58:14.599Z"
   },
   {
    "duration": 26,
    "start_time": "2021-08-04T04:58:14.613Z"
   },
   {
    "duration": 44,
    "start_time": "2021-08-04T04:58:14.641Z"
   },
   {
    "duration": 20,
    "start_time": "2021-08-04T04:58:14.688Z"
   },
   {
    "duration": 20,
    "start_time": "2021-08-04T04:58:14.711Z"
   },
   {
    "duration": 127,
    "start_time": "2021-08-04T04:58:14.734Z"
   },
   {
    "duration": 14,
    "start_time": "2021-08-04T04:58:14.867Z"
   },
   {
    "duration": 12,
    "start_time": "2021-08-04T04:58:14.883Z"
   },
   {
    "duration": 14,
    "start_time": "2021-08-04T04:58:14.897Z"
   },
   {
    "duration": 6,
    "start_time": "2021-08-04T04:58:14.914Z"
   },
   {
    "duration": 9,
    "start_time": "2021-08-04T04:58:14.923Z"
   },
   {
    "duration": 961,
    "start_time": "2021-08-04T04:58:14.934Z"
   },
   {
    "duration": 921,
    "start_time": "2021-08-04T04:58:15.898Z"
   },
   {
    "duration": 847,
    "start_time": "2021-08-04T04:58:16.821Z"
   },
   {
    "duration": 4,
    "start_time": "2021-08-04T04:58:17.671Z"
   },
   {
    "duration": 30,
    "start_time": "2021-08-04T04:58:17.678Z"
   },
   {
    "duration": 16,
    "start_time": "2021-08-04T04:58:17.711Z"
   },
   {
    "duration": 84,
    "start_time": "2021-08-04T04:58:17.732Z"
   },
   {
    "duration": 802,
    "start_time": "2021-08-04T04:58:17.818Z"
   },
   {
    "duration": 825,
    "start_time": "2021-08-04T04:58:18.622Z"
   },
   {
    "duration": 1212,
    "start_time": "2021-08-04T04:58:19.449Z"
   },
   {
    "duration": 1315,
    "start_time": "2021-08-04T04:58:20.666Z"
   },
   {
    "duration": 4,
    "start_time": "2021-08-04T04:58:21.983Z"
   },
   {
    "duration": 11,
    "start_time": "2021-08-04T04:58:21.989Z"
   },
   {
    "duration": 7,
    "start_time": "2021-08-04T04:58:22.002Z"
   },
   {
    "duration": 7,
    "start_time": "2021-08-04T04:58:22.011Z"
   },
   {
    "duration": 47,
    "start_time": "2021-08-04T04:58:22.020Z"
   },
   {
    "duration": 1972,
    "start_time": "2021-08-04T04:58:22.069Z"
   },
   {
    "duration": 617,
    "start_time": "2021-08-04T04:58:24.043Z"
   },
   {
    "duration": 4,
    "start_time": "2021-08-04T04:58:24.663Z"
   },
   {
    "duration": 13,
    "start_time": "2021-08-04T04:58:24.670Z"
   },
   {
    "duration": 4,
    "start_time": "2021-08-04T04:58:31.147Z"
   },
   {
    "duration": 2557,
    "start_time": "2021-08-04T04:58:32.410Z"
   },
   {
    "duration": 6350,
    "start_time": "2021-08-04T05:00:55.623Z"
   },
   {
    "duration": 6,
    "start_time": "2021-08-04T05:01:08.688Z"
   },
   {
    "duration": 7,
    "start_time": "2021-08-04T05:01:11.639Z"
   },
   {
    "duration": 289,
    "start_time": "2021-08-04T05:01:15.550Z"
   },
   {
    "duration": 288,
    "start_time": "2021-08-04T05:01:27.621Z"
   },
   {
    "duration": 7,
    "start_time": "2021-08-04T05:01:43.244Z"
   },
   {
    "duration": 7,
    "start_time": "2021-08-04T05:01:44.240Z"
   },
   {
    "duration": 7,
    "start_time": "2021-08-04T05:01:46.875Z"
   },
   {
    "duration": 11,
    "start_time": "2021-08-04T05:01:53.890Z"
   },
   {
    "duration": 8,
    "start_time": "2021-08-04T05:01:55.233Z"
   },
   {
    "duration": 9,
    "start_time": "2021-08-04T05:01:59.233Z"
   },
   {
    "duration": 7,
    "start_time": "2021-08-04T05:02:00.738Z"
   },
   {
    "duration": 6,
    "start_time": "2021-08-04T05:02:04.183Z"
   },
   {
    "duration": 7,
    "start_time": "2021-08-04T05:02:04.836Z"
   },
   {
    "duration": 6,
    "start_time": "2021-08-04T05:02:08.996Z"
   },
   {
    "duration": 7,
    "start_time": "2021-08-04T05:02:09.400Z"
   },
   {
    "duration": 10,
    "start_time": "2021-08-04T05:02:14.082Z"
   },
   {
    "duration": 302,
    "start_time": "2021-08-04T05:05:03.825Z"
   },
   {
    "duration": 292,
    "start_time": "2021-08-04T05:05:10.888Z"
   },
   {
    "duration": 262,
    "start_time": "2021-08-04T05:07:24.147Z"
   },
   {
    "duration": 7,
    "start_time": "2021-08-04T05:07:26.722Z"
   },
   {
    "duration": 297,
    "start_time": "2021-08-04T05:08:38.253Z"
   },
   {
    "duration": 12,
    "start_time": "2021-08-04T05:08:58.107Z"
   },
   {
    "duration": 11,
    "start_time": "2021-08-04T05:08:59.802Z"
   },
   {
    "duration": 2099,
    "start_time": "2021-08-04T05:25:57.773Z"
   },
   {
    "duration": 12,
    "start_time": "2021-08-04T05:26:03.960Z"
   },
   {
    "duration": 7,
    "start_time": "2021-08-04T05:26:11.784Z"
   },
   {
    "duration": 2385,
    "start_time": "2021-08-04T05:26:14.584Z"
   },
   {
    "duration": 2515,
    "start_time": "2021-08-04T05:27:00.262Z"
   },
   {
    "duration": 96,
    "start_time": "2021-08-04T05:27:02.781Z"
   },
   {
    "duration": 2084,
    "start_time": "2021-08-04T05:27:21.092Z"
   },
   {
    "duration": 2610,
    "start_time": "2021-08-04T05:30:28.858Z"
   },
   {
    "duration": 11,
    "start_time": "2021-08-04T05:30:33.687Z"
   },
   {
    "duration": 313,
    "start_time": "2021-08-04T05:32:05.317Z"
   },
   {
    "duration": 6,
    "start_time": "2021-08-04T05:32:08.598Z"
   },
   {
    "duration": 139,
    "start_time": "2021-08-04T05:33:48.663Z"
   },
   {
    "duration": 133105,
    "start_time": "2021-08-04T05:34:33.712Z"
   },
   {
    "duration": 11,
    "start_time": "2021-08-04T05:36:57.970Z"
   },
   {
    "duration": 6,
    "start_time": "2021-08-04T05:37:13.426Z"
   },
   {
    "duration": 17537,
    "start_time": "2021-08-04T05:37:29.501Z"
   },
   {
    "duration": 17440,
    "start_time": "2021-08-04T05:38:01.827Z"
   },
   {
    "duration": 28,
    "start_time": "2021-08-04T05:38:42.819Z"
   },
   {
    "duration": 17276,
    "start_time": "2021-08-04T05:38:45.077Z"
   },
   {
    "duration": 42,
    "start_time": "2021-08-04T05:39:09.927Z"
   },
   {
    "duration": 11,
    "start_time": "2021-08-04T05:39:21.444Z"
   },
   {
    "duration": 258,
    "start_time": "2021-08-04T05:39:48.597Z"
   },
   {
    "duration": 272,
    "start_time": "2021-08-04T05:39:53.268Z"
   },
   {
    "duration": 6,
    "start_time": "2021-08-04T05:40:07.859Z"
   },
   {
    "duration": 7,
    "start_time": "2021-08-04T05:40:16.068Z"
   },
   {
    "duration": 8,
    "start_time": "2021-08-04T05:40:29.168Z"
   },
   {
    "duration": 18,
    "start_time": "2021-08-04T05:43:17.295Z"
   },
   {
    "duration": 22,
    "start_time": "2021-08-04T05:43:21.212Z"
   },
   {
    "duration": 262,
    "start_time": "2021-08-04T05:43:24.862Z"
   },
   {
    "duration": 16,
    "start_time": "2021-08-04T05:43:55.177Z"
   },
   {
    "duration": 6,
    "start_time": "2021-08-04T05:43:58.753Z"
   },
   {
    "duration": 272,
    "start_time": "2021-08-04T05:44:19.331Z"
   },
   {
    "duration": 234,
    "start_time": "2021-08-04T05:44:25.678Z"
   },
   {
    "duration": 285,
    "start_time": "2021-08-04T05:44:36.302Z"
   },
   {
    "duration": 6,
    "start_time": "2021-08-04T05:44:37.627Z"
   },
   {
    "duration": 285,
    "start_time": "2021-08-04T05:44:40.270Z"
   },
   {
    "duration": 15,
    "start_time": "2021-08-04T05:44:59.950Z"
   },
   {
    "duration": 30,
    "start_time": "2021-08-04T05:45:03.983Z"
   },
   {
    "duration": 26,
    "start_time": "2021-08-04T05:45:13.416Z"
   },
   {
    "duration": 17,
    "start_time": "2021-08-04T05:45:33.304Z"
   },
   {
    "duration": 132087,
    "start_time": "2021-08-04T05:45:36.010Z"
   },
   {
    "duration": 10,
    "start_time": "2021-08-04T05:47:55.633Z"
   },
   {
    "duration": 2030,
    "start_time": "2021-08-04T05:49:43.339Z"
   },
   {
    "duration": 60,
    "start_time": "2021-08-04T05:50:22.088Z"
   },
   {
    "duration": 12,
    "start_time": "2021-08-04T05:50:38.305Z"
   },
   {
    "duration": 1572,
    "start_time": "2021-08-04T07:41:05.862Z"
   },
   {
    "duration": 7,
    "start_time": "2021-08-04T07:41:10.377Z"
   },
   {
    "duration": 977,
    "start_time": "2021-08-04T07:41:11.736Z"
   },
   {
    "duration": 27,
    "start_time": "2021-08-04T07:41:15.085Z"
   },
   {
    "duration": 34,
    "start_time": "2021-08-04T07:41:15.273Z"
   },
   {
    "duration": 676,
    "start_time": "2021-08-04T07:41:18.063Z"
   },
   {
    "duration": 4,
    "start_time": "2021-08-04T07:41:24.121Z"
   },
   {
    "duration": 7,
    "start_time": "2021-08-04T07:41:24.448Z"
   },
   {
    "duration": 6,
    "start_time": "2021-08-04T07:41:25.509Z"
   },
   {
    "duration": 8,
    "start_time": "2021-08-04T07:41:36.819Z"
   },
   {
    "duration": 23,
    "start_time": "2021-08-04T07:41:59.520Z"
   },
   {
    "duration": 20,
    "start_time": "2021-08-04T07:42:01.325Z"
   },
   {
    "duration": 19,
    "start_time": "2021-08-04T07:42:03.526Z"
   },
   {
    "duration": 22,
    "start_time": "2021-08-04T07:42:57.886Z"
   },
   {
    "duration": 112,
    "start_time": "2021-08-04T07:42:59.078Z"
   },
   {
    "duration": 27,
    "start_time": "2021-08-04T07:43:18.370Z"
   },
   {
    "duration": 112,
    "start_time": "2021-08-04T07:43:25.722Z"
   },
   {
    "duration": 107,
    "start_time": "2021-08-04T07:43:44.790Z"
   },
   {
    "duration": 16,
    "start_time": "2021-08-04T07:43:46.872Z"
   },
   {
    "duration": 6,
    "start_time": "2021-08-04T07:43:54.095Z"
   },
   {
    "duration": 10,
    "start_time": "2021-08-04T07:43:56.486Z"
   },
   {
    "duration": 7,
    "start_time": "2021-08-04T07:43:59.593Z"
   },
   {
    "duration": 36,
    "start_time": "2021-08-04T07:44:25.925Z"
   },
   {
    "duration": 7,
    "start_time": "2021-08-04T07:53:51.189Z"
   },
   {
    "duration": 7,
    "start_time": "2021-08-04T07:54:43.222Z"
   },
   {
    "duration": 1033,
    "start_time": "2021-08-04T07:54:44.281Z"
   },
   {
    "duration": 1388,
    "start_time": "2021-08-04T07:54:47.024Z"
   },
   {
    "duration": 910,
    "start_time": "2021-08-04T07:54:54.912Z"
   },
   {
    "duration": 5,
    "start_time": "2021-08-04T07:56:04.474Z"
   },
   {
    "duration": 31,
    "start_time": "2021-08-04T07:56:05.812Z"
   },
   {
    "duration": 31,
    "start_time": "2021-08-04T07:56:07.503Z"
   },
   {
    "duration": 13,
    "start_time": "2021-08-04T07:56:08.109Z"
   },
   {
    "duration": 72,
    "start_time": "2021-08-04T07:56:09.212Z"
   },
   {
    "duration": 790,
    "start_time": "2021-08-04T07:56:10.455Z"
   },
   {
    "duration": 1189,
    "start_time": "2021-08-04T07:56:11.248Z"
   },
   {
    "duration": 64,
    "start_time": "2021-08-04T07:58:57.752Z"
   },
   {
    "duration": 12,
    "start_time": "2021-08-04T07:58:58.567Z"
   },
   {
    "duration": 1349,
    "start_time": "2021-08-04T07:59:08.669Z"
   },
   {
    "duration": 1560,
    "start_time": "2021-08-04T07:59:10.020Z"
   },
   {
    "duration": 5,
    "start_time": "2021-08-04T07:59:13.888Z"
   },
   {
    "duration": 9,
    "start_time": "2021-08-04T07:59:14.729Z"
   },
   {
    "duration": 14,
    "start_time": "2021-08-04T07:59:16.296Z"
   },
   {
    "duration": 9,
    "start_time": "2021-08-04T07:59:17.102Z"
   },
   {
    "duration": 7,
    "start_time": "2021-08-04T07:59:18.892Z"
   },
   {
    "duration": 2099,
    "start_time": "2021-08-04T07:59:19.891Z"
   },
   {
    "duration": 726,
    "start_time": "2021-08-04T07:59:21.994Z"
   },
   {
    "duration": 4,
    "start_time": "2021-08-04T07:59:28.032Z"
   },
   {
    "duration": 9,
    "start_time": "2021-08-04T07:59:28.787Z"
   },
   {
    "duration": 4,
    "start_time": "2021-08-04T07:59:30.043Z"
   },
   {
    "duration": 8,
    "start_time": "2021-08-04T07:59:31.194Z"
   },
   {
    "duration": 3525,
    "start_time": "2021-08-04T07:59:32.044Z"
   },
   {
    "duration": 17,
    "start_time": "2021-08-04T08:00:37.757Z"
   },
   {
    "duration": 27,
    "start_time": "2021-08-04T08:12:24.911Z"
   },
   {
    "duration": 6,
    "start_time": "2021-08-04T08:12:30.218Z"
   },
   {
    "duration": 15,
    "start_time": "2021-08-04T08:13:00.769Z"
   },
   {
    "duration": 535,
    "start_time": "2021-08-04T08:13:09.353Z"
   },
   {
    "duration": 10,
    "start_time": "2021-08-04T08:14:03.974Z"
   },
   {
    "duration": 36,
    "start_time": "2021-08-04T08:14:48.347Z"
   },
   {
    "duration": 22,
    "start_time": "2021-08-04T08:14:58.353Z"
   },
   {
    "duration": 47,
    "start_time": "2021-08-04T08:15:11.469Z"
   },
   {
    "duration": 12,
    "start_time": "2021-08-04T08:15:13.915Z"
   },
   {
    "duration": 45,
    "start_time": "2021-08-04T08:15:14.681Z"
   },
   {
    "duration": 6,
    "start_time": "2021-08-04T08:15:23.703Z"
   },
   {
    "duration": 6,
    "start_time": "2021-08-04T08:15:24.741Z"
   },
   {
    "duration": 4,
    "start_time": "2021-08-04T08:15:27.595Z"
   },
   {
    "duration": 6,
    "start_time": "2021-08-04T08:15:38.090Z"
   },
   {
    "duration": 1890,
    "start_time": "2021-08-04T08:15:59.079Z"
   },
   {
    "duration": 11,
    "start_time": "2021-08-04T08:16:32.028Z"
   },
   {
    "duration": 24,
    "start_time": "2021-08-04T08:17:05.414Z"
   },
   {
    "duration": 10,
    "start_time": "2021-08-04T08:17:06.372Z"
   },
   {
    "duration": 38,
    "start_time": "2021-08-04T08:17:07.042Z"
   },
   {
    "duration": 7,
    "start_time": "2021-08-04T08:17:08.172Z"
   },
   {
    "duration": 5,
    "start_time": "2021-08-04T08:17:09.200Z"
   },
   {
    "duration": 1657,
    "start_time": "2021-08-04T08:17:10.497Z"
   },
   {
    "duration": 12,
    "start_time": "2021-08-04T08:17:13.377Z"
   },
   {
    "duration": 21,
    "start_time": "2021-08-04T08:17:23.310Z"
   },
   {
    "duration": 30,
    "start_time": "2021-08-04T08:17:56.642Z"
   },
   {
    "duration": 28,
    "start_time": "2021-08-04T08:18:01.166Z"
   },
   {
    "duration": 289,
    "start_time": "2021-08-04T08:18:01.638Z"
   },
   {
    "duration": 36,
    "start_time": "2021-08-04T08:18:18.157Z"
   },
   {
    "duration": 279,
    "start_time": "2021-08-04T08:18:18.823Z"
   },
   {
    "duration": 9,
    "start_time": "2021-08-04T08:18:25.251Z"
   },
   {
    "duration": 21,
    "start_time": "2021-08-04T08:18:26.417Z"
   },
   {
    "duration": 6,
    "start_time": "2021-08-04T08:18:27.381Z"
   },
   {
    "duration": 20,
    "start_time": "2021-08-04T08:18:28.102Z"
   },
   {
    "duration": 5,
    "start_time": "2021-08-04T08:18:29.277Z"
   },
   {
    "duration": 5,
    "start_time": "2021-08-04T08:18:31.898Z"
   },
   {
    "duration": 83,
    "start_time": "2021-08-04T08:18:33.394Z"
   },
   {
    "duration": 11,
    "start_time": "2021-08-04T08:18:36.481Z"
   },
   {
    "duration": 15,
    "start_time": "2021-08-04T08:18:37.654Z"
   },
   {
    "duration": 92,
    "start_time": "2021-08-04T08:18:39.826Z"
   },
   {
    "duration": 7,
    "start_time": "2021-08-04T08:18:57.852Z"
   },
   {
    "duration": 7,
    "start_time": "2021-08-04T08:19:40.520Z"
   },
   {
    "duration": 39,
    "start_time": "2021-08-04T08:19:41.858Z"
   },
   {
    "duration": 33,
    "start_time": "2021-08-04T08:19:43.534Z"
   },
   {
    "duration": 7,
    "start_time": "2021-08-04T08:19:44.159Z"
   },
   {
    "duration": 30,
    "start_time": "2021-08-04T08:19:45.008Z"
   },
   {
    "duration": 6,
    "start_time": "2021-08-04T08:19:46.599Z"
   },
   {
    "duration": 5,
    "start_time": "2021-08-04T08:19:47.991Z"
   },
   {
    "duration": 848,
    "start_time": "2021-08-04T08:19:49.126Z"
   },
   {
    "duration": 11,
    "start_time": "2021-08-04T08:19:51.316Z"
   },
   {
    "duration": 68,
    "start_time": "2021-08-04T08:20:24.160Z"
   },
   {
    "duration": 10,
    "start_time": "2021-08-04T08:20:26.610Z"
   },
   {
    "duration": 6,
    "start_time": "2021-08-04T08:22:17.392Z"
   },
   {
    "duration": 6,
    "start_time": "2021-08-04T08:22:54.665Z"
   },
   {
    "duration": 6,
    "start_time": "2021-08-04T08:56:52.229Z"
   },
   {
    "duration": 32,
    "start_time": "2021-08-04T08:56:52.933Z"
   },
   {
    "duration": 15,
    "start_time": "2021-08-04T08:56:53.866Z"
   },
   {
    "duration": 1402,
    "start_time": "2021-08-04T08:56:56.854Z"
   },
   {
    "duration": 1363,
    "start_time": "2021-08-04T08:56:59.343Z"
   },
   {
    "duration": 6,
    "start_time": "2021-08-04T08:57:03.920Z"
   },
   {
    "duration": 7,
    "start_time": "2021-08-04T08:57:25.124Z"
   },
   {
    "duration": 8,
    "start_time": "2021-08-04T08:57:26.112Z"
   },
   {
    "duration": 8,
    "start_time": "2021-08-04T08:57:27.096Z"
   },
   {
    "duration": 2367,
    "start_time": "2021-08-04T08:57:30.310Z"
   },
   {
    "duration": 16,
    "start_time": "2021-08-04T08:58:08.693Z"
   },
   {
    "duration": 36,
    "start_time": "2021-08-04T08:58:16.044Z"
   },
   {
    "duration": 10,
    "start_time": "2021-08-04T08:58:16.724Z"
   },
   {
    "duration": 4,
    "start_time": "2021-08-04T08:58:45.312Z"
   },
   {
    "duration": 9,
    "start_time": "2021-08-04T08:58:46.078Z"
   },
   {
    "duration": 6158,
    "start_time": "2021-08-04T08:58:47.123Z"
   },
   {
    "duration": 4694,
    "start_time": "2021-08-04T08:59:23.575Z"
   },
   {
    "duration": 10,
    "start_time": "2021-08-04T08:59:33.177Z"
   },
   {
    "duration": 118077,
    "start_time": "2021-08-04T09:00:25.680Z"
   },
   {
    "duration": 100695,
    "start_time": "2021-08-04T09:04:07.435Z"
   },
   {
    "duration": 14,
    "start_time": "2021-08-04T09:12:39.874Z"
   },
   {
    "duration": 8,
    "start_time": "2021-08-04T09:14:20.091Z"
   },
   {
    "duration": 33,
    "start_time": "2021-08-04T09:14:20.671Z"
   },
   {
    "duration": 9,
    "start_time": "2021-08-04T09:14:35.779Z"
   },
   {
    "duration": 5615,
    "start_time": "2021-08-04T09:16:26.880Z"
   },
   {
    "duration": 16,
    "start_time": "2021-08-04T09:16:46.776Z"
   },
   {
    "duration": 5735,
    "start_time": "2021-08-04T09:16:51.426Z"
   },
   {
    "duration": 11,
    "start_time": "2021-08-04T09:16:57.164Z"
   },
   {
    "duration": 9,
    "start_time": "2021-08-04T09:17:02.790Z"
   },
   {
    "duration": 5128,
    "start_time": "2021-08-04T09:17:05.557Z"
   },
   {
    "duration": 11,
    "start_time": "2021-08-04T09:17:19.471Z"
   },
   {
    "duration": 8,
    "start_time": "2021-08-04T09:17:24.607Z"
   },
   {
    "duration": 5767,
    "start_time": "2021-08-04T09:17:26.102Z"
   },
   {
    "duration": 14,
    "start_time": "2021-08-04T09:17:33.646Z"
   },
   {
    "duration": 4856,
    "start_time": "2021-08-04T09:17:37.610Z"
   },
   {
    "duration": 11,
    "start_time": "2021-08-04T09:17:48.126Z"
   },
   {
    "duration": 11,
    "start_time": "2021-08-04T09:18:09.611Z"
   },
   {
    "duration": 1344,
    "start_time": "2021-08-04T09:22:20.575Z"
   },
   {
    "duration": 11,
    "start_time": "2021-08-04T09:22:37.509Z"
   },
   {
    "duration": 7,
    "start_time": "2021-08-04T09:22:43.114Z"
   },
   {
    "duration": 1064,
    "start_time": "2021-08-04T09:22:46.436Z"
   },
   {
    "duration": 13,
    "start_time": "2021-08-04T09:25:19.176Z"
   },
   {
    "duration": 13,
    "start_time": "2021-08-04T09:26:35.350Z"
   },
   {
    "duration": 15,
    "start_time": "2021-08-04T09:26:39.343Z"
   },
   {
    "duration": 4846,
    "start_time": "2021-08-04T09:27:00.538Z"
   },
   {
    "duration": 11,
    "start_time": "2021-08-04T09:27:25.070Z"
   },
   {
    "duration": 8,
    "start_time": "2021-08-04T09:27:30.354Z"
   },
   {
    "duration": 15,
    "start_time": "2021-08-04T09:27:32.224Z"
   },
   {
    "duration": 12,
    "start_time": "2021-08-04T09:27:38.187Z"
   },
   {
    "duration": 8,
    "start_time": "2021-08-04T09:27:40.241Z"
   },
   {
    "duration": 15,
    "start_time": "2021-08-04T09:27:41.633Z"
   },
   {
    "duration": 5,
    "start_time": "2021-08-04T09:29:00.719Z"
   },
   {
    "duration": 15,
    "start_time": "2021-08-04T09:29:01.815Z"
   },
   {
    "duration": 6,
    "start_time": "2021-08-04T09:29:09.543Z"
   },
   {
    "duration": 11,
    "start_time": "2021-08-04T09:29:27.163Z"
   },
   {
    "duration": 19,
    "start_time": "2021-08-04T09:29:29.254Z"
   },
   {
    "duration": 5,
    "start_time": "2021-08-04T09:29:34.986Z"
   },
   {
    "duration": 13,
    "start_time": "2021-08-04T09:29:36.000Z"
   },
   {
    "duration": 10,
    "start_time": "2021-08-04T09:31:44.702Z"
   },
   {
    "duration": 7,
    "start_time": "2021-08-04T09:31:48.000Z"
   },
   {
    "duration": 15,
    "start_time": "2021-08-04T09:31:49.305Z"
   },
   {
    "duration": 12,
    "start_time": "2021-08-04T09:31:58.968Z"
   },
   {
    "duration": 13,
    "start_time": "2021-08-04T09:32:08.354Z"
   },
   {
    "duration": 21,
    "start_time": "2021-08-04T09:32:10.859Z"
   },
   {
    "duration": 28,
    "start_time": "2021-08-04T09:32:12.153Z"
   },
   {
    "duration": 12,
    "start_time": "2021-08-04T09:32:46.206Z"
   },
   {
    "duration": 19,
    "start_time": "2021-08-04T09:32:48.268Z"
   },
   {
    "duration": 10,
    "start_time": "2021-08-04T09:32:54.423Z"
   },
   {
    "duration": 14,
    "start_time": "2021-08-04T09:32:55.137Z"
   },
   {
    "duration": 289,
    "start_time": "2021-08-04T09:33:00.811Z"
   },
   {
    "duration": 283,
    "start_time": "2021-08-04T09:33:06.197Z"
   },
   {
    "duration": 5,
    "start_time": "2021-08-04T09:33:16.910Z"
   },
   {
    "duration": 21,
    "start_time": "2021-08-04T09:33:18.569Z"
   },
   {
    "duration": 10,
    "start_time": "2021-08-04T09:33:22.587Z"
   },
   {
    "duration": 15,
    "start_time": "2021-08-04T09:33:23.671Z"
   },
   {
    "duration": 8,
    "start_time": "2021-08-04T09:33:25.051Z"
   },
   {
    "duration": 14,
    "start_time": "2021-08-04T09:33:26.493Z"
   },
   {
    "duration": 5,
    "start_time": "2021-08-04T09:33:30.820Z"
   },
   {
    "duration": 17,
    "start_time": "2021-08-04T09:33:32.369Z"
   },
   {
    "duration": 5,
    "start_time": "2021-08-04T09:33:34.934Z"
   },
   {
    "duration": 16,
    "start_time": "2021-08-04T09:33:36.048Z"
   },
   {
    "duration": 6003,
    "start_time": "2021-08-04T09:33:44.181Z"
   },
   {
    "duration": 18,
    "start_time": "2021-08-04T09:34:11.783Z"
   },
   {
    "duration": 14,
    "start_time": "2021-08-04T09:35:28.197Z"
   },
   {
    "duration": 5036,
    "start_time": "2021-08-04T09:35:30.252Z"
   },
   {
    "duration": 5,
    "start_time": "2021-08-04T09:36:07.193Z"
   },
   {
    "duration": 183,
    "start_time": "2021-08-04T09:40:28.740Z"
   },
   {
    "duration": 4370,
    "start_time": "2021-08-04T09:40:35.822Z"
   },
   {
    "duration": 3344,
    "start_time": "2021-08-04T09:40:42.590Z"
   },
   {
    "duration": 22,
    "start_time": "2021-08-04T09:41:11.561Z"
   },
   {
    "duration": 15,
    "start_time": "2021-08-04T09:41:20.622Z"
   },
   {
    "duration": 24,
    "start_time": "2021-08-04T09:41:35.038Z"
   },
   {
    "duration": 6,
    "start_time": "2021-08-04T09:41:44.477Z"
   },
   {
    "duration": 28,
    "start_time": "2021-08-04T09:41:50.938Z"
   },
   {
    "duration": 16,
    "start_time": "2021-08-04T09:41:59.795Z"
   },
   {
    "duration": 120780,
    "start_time": "2021-08-04T09:44:11.861Z"
   },
   {
    "duration": 102702,
    "start_time": "2021-08-04T09:46:20.296Z"
   },
   {
    "duration": 395,
    "start_time": "2021-08-04T09:49:11.182Z"
   },
   {
    "duration": 338,
    "start_time": "2021-08-04T09:49:15.941Z"
   },
   {
    "duration": 16,
    "start_time": "2021-08-04T09:49:26.095Z"
   },
   {
    "duration": 12,
    "start_time": "2021-08-04T09:49:33.018Z"
   },
   {
    "duration": 22,
    "start_time": "2021-08-04T09:49:34.152Z"
   },
   {
    "duration": 60,
    "start_time": "2021-08-04T09:49:42.790Z"
   },
   {
    "duration": 63,
    "start_time": "2021-08-04T09:49:43.687Z"
   },
   {
    "duration": 15,
    "start_time": "2021-08-04T09:49:48.003Z"
   },
   {
    "duration": 5401,
    "start_time": "2021-08-04T09:49:52.860Z"
   },
   {
    "duration": 4344,
    "start_time": "2021-08-04T09:50:00.739Z"
   },
   {
    "duration": 1711,
    "start_time": "2021-08-04T09:50:37.983Z"
   },
   {
    "duration": 5,
    "start_time": "2021-08-04T09:50:39.698Z"
   },
   {
    "duration": 1274,
    "start_time": "2021-08-04T09:50:39.705Z"
   },
   {
    "duration": 29,
    "start_time": "2021-08-04T09:50:40.984Z"
   },
   {
    "duration": 56,
    "start_time": "2021-08-04T09:50:41.016Z"
   },
   {
    "duration": 823,
    "start_time": "2021-08-04T09:50:41.075Z"
   },
   {
    "duration": 6,
    "start_time": "2021-08-04T09:50:41.902Z"
   },
   {
    "duration": 26,
    "start_time": "2021-08-04T09:50:41.912Z"
   },
   {
    "duration": 12,
    "start_time": "2021-08-04T09:50:41.945Z"
   },
   {
    "duration": 33,
    "start_time": "2021-08-04T09:50:41.961Z"
   },
   {
    "duration": 42,
    "start_time": "2021-08-04T09:50:41.996Z"
   },
   {
    "duration": 22,
    "start_time": "2021-08-04T09:50:42.040Z"
   },
   {
    "duration": 28,
    "start_time": "2021-08-04T09:50:42.064Z"
   },
   {
    "duration": 19,
    "start_time": "2021-08-04T09:50:42.095Z"
   },
   {
    "duration": 131,
    "start_time": "2021-08-04T09:50:42.116Z"
   },
   {
    "duration": 20,
    "start_time": "2021-08-04T09:50:42.250Z"
   },
   {
    "duration": 23,
    "start_time": "2021-08-04T09:50:42.275Z"
   },
   {
    "duration": 31,
    "start_time": "2021-08-04T09:50:42.301Z"
   },
   {
    "duration": 17,
    "start_time": "2021-08-04T09:50:42.334Z"
   },
   {
    "duration": 18,
    "start_time": "2021-08-04T09:50:42.354Z"
   },
   {
    "duration": 912,
    "start_time": "2021-08-04T09:50:42.375Z"
   },
   {
    "duration": 1088,
    "start_time": "2021-08-04T09:50:43.290Z"
   },
   {
    "duration": 984,
    "start_time": "2021-08-04T09:50:44.381Z"
   },
   {
    "duration": 8,
    "start_time": "2021-08-04T09:50:45.368Z"
   },
   {
    "duration": 63,
    "start_time": "2021-08-04T09:50:45.379Z"
   },
   {
    "duration": 51,
    "start_time": "2021-08-04T09:50:45.446Z"
   },
   {
    "duration": 92,
    "start_time": "2021-08-04T09:50:45.509Z"
   },
   {
    "duration": 1162,
    "start_time": "2021-08-04T09:50:45.606Z"
   },
   {
    "duration": 924,
    "start_time": "2021-08-04T09:50:46.771Z"
   },
   {
    "duration": 7,
    "start_time": "2021-08-04T09:50:47.698Z"
   },
   {
    "duration": 57,
    "start_time": "2021-08-04T09:50:47.708Z"
   },
   {
    "duration": 14,
    "start_time": "2021-08-04T09:50:47.768Z"
   },
   {
    "duration": 1378,
    "start_time": "2021-08-04T09:50:47.785Z"
   },
   {
    "duration": 1515,
    "start_time": "2021-08-04T09:50:49.168Z"
   },
   {
    "duration": 6,
    "start_time": "2021-08-04T09:50:50.687Z"
   },
   {
    "duration": 31,
    "start_time": "2021-08-04T09:50:50.696Z"
   },
   {
    "duration": 18,
    "start_time": "2021-08-04T09:50:50.730Z"
   },
   {
    "duration": 24,
    "start_time": "2021-08-04T09:50:50.750Z"
   },
   {
    "duration": 27,
    "start_time": "2021-08-04T09:50:50.778Z"
   },
   {
    "duration": 2189,
    "start_time": "2021-08-04T09:50:50.807Z"
   },
   {
    "duration": 676,
    "start_time": "2021-08-04T09:50:52.998Z"
   },
   {
    "duration": 6,
    "start_time": "2021-08-04T09:50:53.677Z"
   },
   {
    "duration": 17,
    "start_time": "2021-08-04T09:50:53.687Z"
   },
   {
    "duration": 10,
    "start_time": "2021-08-04T09:50:53.707Z"
   },
   {
    "duration": 38,
    "start_time": "2021-08-04T09:50:53.720Z"
   },
   {
    "duration": 30,
    "start_time": "2021-08-04T09:50:53.763Z"
   },
   {
    "duration": 3666,
    "start_time": "2021-08-04T09:50:53.796Z"
   },
   {
    "duration": 3076,
    "start_time": "2021-08-04T09:50:57.484Z"
   },
   {
    "duration": 3235,
    "start_time": "2021-08-04T09:51:00.566Z"
   },
   {
    "duration": 2668,
    "start_time": "2021-08-04T09:51:03.804Z"
   },
   {
    "duration": 89185,
    "start_time": "2021-08-04T09:51:06.475Z"
   },
   {
    "duration": 76600,
    "start_time": "2021-08-04T09:52:35.663Z"
   },
   {
    "duration": 67,
    "start_time": "2021-08-04T09:53:52.267Z"
   },
   {
    "duration": 76,
    "start_time": "2021-08-04T09:53:52.337Z"
   },
   {
    "duration": 19,
    "start_time": "2021-08-04T09:55:02.844Z"
   },
   {
    "duration": 6,
    "start_time": "2021-08-04T09:59:39.277Z"
   },
   {
    "duration": 6,
    "start_time": "2021-08-04T10:01:41.269Z"
   },
   {
    "duration": 5,
    "start_time": "2021-08-04T10:02:04.431Z"
   },
   {
    "duration": 4,
    "start_time": "2021-08-04T10:03:21.598Z"
   },
   {
    "duration": 16255,
    "start_time": "2021-08-04T10:03:28.310Z"
   },
   {
    "duration": 20,
    "start_time": "2021-08-04T10:05:22.261Z"
   },
   {
    "duration": 3375,
    "start_time": "2021-08-04T10:05:45.256Z"
   },
   {
    "duration": 20,
    "start_time": "2021-08-04T10:05:52.166Z"
   },
   {
    "duration": 5283,
    "start_time": "2021-08-04T10:06:14.412Z"
   },
   {
    "duration": 13,
    "start_time": "2021-08-04T10:06:19.697Z"
   },
   {
    "duration": 1295,
    "start_time": "2021-08-04T10:06:27.481Z"
   },
   {
    "duration": 13,
    "start_time": "2021-08-04T10:06:31.312Z"
   },
   {
    "duration": 4,
    "start_time": "2021-08-04T10:06:48.887Z"
   },
   {
    "duration": 16083,
    "start_time": "2021-08-04T10:06:49.892Z"
   },
   {
    "duration": 2390,
    "start_time": "2021-08-04T10:07:33.012Z"
   },
   {
    "duration": 14,
    "start_time": "2021-08-04T10:07:38.513Z"
   },
   {
    "duration": 2935,
    "start_time": "2021-08-04T10:07:49.361Z"
   },
   {
    "duration": 16,
    "start_time": "2021-08-04T10:07:56.378Z"
   },
   {
    "duration": 16636,
    "start_time": "2021-08-04T10:08:24.627Z"
   },
   {
    "duration": 2975,
    "start_time": "2021-08-04T10:10:04.230Z"
   },
   {
    "duration": 1861,
    "start_time": "2021-08-04T10:10:26.759Z"
   },
   {
    "duration": 14,
    "start_time": "2021-08-04T10:10:35.803Z"
   },
   {
    "duration": 2412,
    "start_time": "2021-08-04T10:10:45.212Z"
   },
   {
    "duration": 18,
    "start_time": "2021-08-04T10:10:52.495Z"
   },
   {
    "duration": 1868,
    "start_time": "2021-08-04T10:10:57.739Z"
   },
   {
    "duration": 105,
    "start_time": "2021-08-04T10:13:45.001Z"
   },
   {
    "duration": 450,
    "start_time": "2021-08-04T10:13:48.979Z"
   },
   {
    "duration": 6,
    "start_time": "2021-08-04T10:13:51.740Z"
   },
   {
    "duration": 85,
    "start_time": "2021-08-04T10:13:56.302Z"
   },
   {
    "duration": 278,
    "start_time": "2021-08-04T10:14:08.595Z"
   },
   {
    "duration": 265,
    "start_time": "2021-08-04T10:14:51.882Z"
   },
   {
    "duration": 31532,
    "start_time": "2021-08-04T10:15:14.272Z"
   },
   {
    "duration": 1301,
    "start_time": "2021-08-04T10:16:06.469Z"
   },
   {
    "duration": 1278,
    "start_time": "2021-08-04T10:16:12.587Z"
   },
   {
    "duration": 20,
    "start_time": "2021-08-04T10:16:19.152Z"
   },
   {
    "duration": 12,
    "start_time": "2021-08-04T10:16:20.691Z"
   },
   {
    "duration": 13,
    "start_time": "2021-08-04T10:16:21.681Z"
   },
   {
    "duration": 6,
    "start_time": "2021-08-04T10:16:35.789Z"
   },
   {
    "duration": 6,
    "start_time": "2021-08-04T10:16:40.257Z"
   },
   {
    "duration": 90,
    "start_time": "2021-08-04T10:17:00.796Z"
   },
   {
    "duration": 32150,
    "start_time": "2021-08-04T10:17:03.581Z"
   },
   {
    "duration": 1851,
    "start_time": "2021-08-04T10:20:43.268Z"
   },
   {
    "duration": 13,
    "start_time": "2021-08-04T10:20:50.334Z"
   },
   {
    "duration": 13,
    "start_time": "2021-08-04T10:20:51.632Z"
   },
   {
    "duration": 6,
    "start_time": "2021-08-04T10:20:57.598Z"
   },
   {
    "duration": 6,
    "start_time": "2021-08-04T10:21:01.731Z"
   },
   {
    "duration": -1,
    "start_time": "2021-08-04T10:22:54.518Z"
   },
   {
    "duration": 7,
    "start_time": "2021-08-04T10:24:09.754Z"
   },
   {
    "duration": 16794,
    "start_time": "2021-08-04T10:24:20.141Z"
   },
   {
    "duration": 15646,
    "start_time": "2021-08-04T10:25:52.152Z"
   },
   {
    "duration": 1659,
    "start_time": "2021-08-04T10:31:02.492Z"
   },
   {
    "duration": 6,
    "start_time": "2021-08-04T10:31:04.155Z"
   },
   {
    "duration": 1032,
    "start_time": "2021-08-04T10:31:04.169Z"
   },
   {
    "duration": 27,
    "start_time": "2021-08-04T10:31:05.204Z"
   },
   {
    "duration": 58,
    "start_time": "2021-08-04T10:31:05.234Z"
   },
   {
    "duration": 814,
    "start_time": "2021-08-04T10:31:05.296Z"
   },
   {
    "duration": 4,
    "start_time": "2021-08-04T10:31:06.113Z"
   },
   {
    "duration": 34,
    "start_time": "2021-08-04T10:31:06.119Z"
   },
   {
    "duration": 41,
    "start_time": "2021-08-04T10:31:06.159Z"
   },
   {
    "duration": 44,
    "start_time": "2021-08-04T10:31:06.203Z"
   },
   {
    "duration": 53,
    "start_time": "2021-08-04T10:31:06.250Z"
   },
   {
    "duration": 27,
    "start_time": "2021-08-04T10:31:06.306Z"
   },
   {
    "duration": 29,
    "start_time": "2021-08-04T10:31:06.336Z"
   },
   {
    "duration": 48,
    "start_time": "2021-08-04T10:31:06.370Z"
   },
   {
    "duration": 141,
    "start_time": "2021-08-04T10:31:06.420Z"
   },
   {
    "duration": 19,
    "start_time": "2021-08-04T10:31:06.565Z"
   },
   {
    "duration": 35,
    "start_time": "2021-08-04T10:31:06.587Z"
   },
   {
    "duration": 40,
    "start_time": "2021-08-04T10:31:06.624Z"
   },
   {
    "duration": 38,
    "start_time": "2021-08-04T10:31:06.667Z"
   },
   {
    "duration": 28,
    "start_time": "2021-08-04T10:31:06.707Z"
   },
   {
    "duration": 935,
    "start_time": "2021-08-04T10:31:06.738Z"
   },
   {
    "duration": 1011,
    "start_time": "2021-08-04T10:31:07.676Z"
   },
   {
    "duration": 953,
    "start_time": "2021-08-04T10:31:08.693Z"
   },
   {
    "duration": 5,
    "start_time": "2021-08-04T10:31:09.649Z"
   },
   {
    "duration": 45,
    "start_time": "2021-08-04T10:31:09.657Z"
   },
   {
    "duration": 17,
    "start_time": "2021-08-04T10:31:09.704Z"
   },
   {
    "duration": 62,
    "start_time": "2021-08-04T10:31:09.756Z"
   },
   {
    "duration": 789,
    "start_time": "2021-08-04T10:31:09.821Z"
   },
   {
    "duration": 937,
    "start_time": "2021-08-04T10:31:10.612Z"
   },
   {
    "duration": 14,
    "start_time": "2021-08-04T10:31:11.555Z"
   },
   {
    "duration": 35,
    "start_time": "2021-08-04T10:31:11.576Z"
   },
   {
    "duration": 9,
    "start_time": "2021-08-04T10:31:11.614Z"
   },
   {
    "duration": 1590,
    "start_time": "2021-08-04T10:31:11.626Z"
   },
   {
    "duration": 1749,
    "start_time": "2021-08-04T10:31:13.218Z"
   },
   {
    "duration": 5,
    "start_time": "2021-08-04T10:31:14.970Z"
   },
   {
    "duration": 48,
    "start_time": "2021-08-04T10:31:14.979Z"
   },
   {
    "duration": 39,
    "start_time": "2021-08-04T10:31:15.030Z"
   },
   {
    "duration": 12,
    "start_time": "2021-08-04T10:31:15.075Z"
   },
   {
    "duration": 17,
    "start_time": "2021-08-04T10:31:15.090Z"
   },
   {
    "duration": 2226,
    "start_time": "2021-08-04T10:31:15.110Z"
   },
   {
    "duration": 680,
    "start_time": "2021-08-04T10:31:17.339Z"
   },
   {
    "duration": 5,
    "start_time": "2021-08-04T10:31:18.021Z"
   },
   {
    "duration": 38,
    "start_time": "2021-08-04T10:31:18.028Z"
   },
   {
    "duration": 19,
    "start_time": "2021-08-04T10:31:18.070Z"
   },
   {
    "duration": 15924,
    "start_time": "2021-08-04T10:31:18.092Z"
   },
   {
    "duration": 15370,
    "start_time": "2021-08-04T10:31:34.018Z"
   },
   {
    "duration": 5,
    "start_time": "2021-08-04T10:31:49.392Z"
   },
   {
    "duration": 486,
    "start_time": "2021-08-04T10:31:49.400Z"
   },
   {
    "duration": 19,
    "start_time": "2021-08-04T10:31:49.870Z"
   },
   {
    "duration": 1452163,
    "start_time": "2021-08-04T10:33:41.741Z"
   },
   {
    "duration": 1440264,
    "start_time": "2021-08-04T11:13:22.258Z"
   },
   {
    "duration": 3,
    "start_time": "2021-08-04T11:44:08.132Z"
   },
   {
    "duration": 12,
    "start_time": "2021-08-04T11:44:08.840Z"
   },
   {
    "duration": 3910,
    "start_time": "2021-08-04T11:44:10.052Z"
   },
   {
    "duration": 3297,
    "start_time": "2021-08-04T11:44:14.983Z"
   },
   {
    "duration": 1851,
    "start_time": "2021-08-04T11:44:19.644Z"
   },
   {
    "duration": 1595,
    "start_time": "2021-08-04T11:44:22.680Z"
   },
   {
    "duration": 63447,
    "start_time": "2021-08-04T11:44:27.271Z"
   },
   {
    "duration": 52375,
    "start_time": "2021-08-04T11:49:42.472Z"
   },
   {
    "duration": 64,
    "start_time": "2021-08-04T11:57:30.838Z"
   },
   {
    "duration": 61,
    "start_time": "2021-08-04T11:57:31.545Z"
   },
   {
    "duration": 13,
    "start_time": "2021-08-04T11:57:32.576Z"
   },
   {
    "duration": 22,
    "start_time": "2021-08-04T12:12:07.539Z"
   },
   {
    "duration": 17,
    "start_time": "2021-08-04T12:12:08.916Z"
   },
   {
    "duration": 114,
    "start_time": "2021-08-04T12:13:02.190Z"
   },
   {
    "duration": 16,
    "start_time": "2021-08-04T12:14:32.468Z"
   },
   {
    "duration": 3734,
    "start_time": "2021-08-04T12:14:33.943Z"
   },
   {
    "duration": 2822,
    "start_time": "2021-08-04T12:14:49.548Z"
   },
   {
    "duration": 1931,
    "start_time": "2021-08-04T12:14:57.413Z"
   },
   {
    "duration": 1648,
    "start_time": "2021-08-04T12:14:59.347Z"
   },
   {
    "duration": 64235,
    "start_time": "2021-08-04T12:15:00.998Z"
   },
   {
    "duration": 52646,
    "start_time": "2021-08-04T12:16:05.236Z"
   },
   {
    "duration": 76,
    "start_time": "2021-08-04T12:16:57.887Z"
   },
   {
    "duration": 63,
    "start_time": "2021-08-04T12:16:57.966Z"
   },
   {
    "duration": 35,
    "start_time": "2021-08-04T12:16:58.032Z"
   },
   {
    "duration": 15,
    "start_time": "2021-08-04T12:23:33.611Z"
   },
   {
    "duration": 124,
    "start_time": "2021-08-04T12:23:38.579Z"
   },
   {
    "duration": 322,
    "start_time": "2021-08-04T12:32:55.186Z"
   },
   {
    "duration": 304,
    "start_time": "2021-08-04T12:33:45.093Z"
   },
   {
    "duration": 15272,
    "start_time": "2021-08-04T12:34:04.687Z"
   },
   {
    "duration": 13939,
    "start_time": "2021-08-04T12:34:56.164Z"
   },
   {
    "duration": 18355,
    "start_time": "2021-08-04T12:37:19.667Z"
   },
   {
    "duration": 8,
    "start_time": "2021-08-04T12:43:48.274Z"
   },
   {
    "duration": 12,
    "start_time": "2021-08-04T12:43:51.262Z"
   },
   {
    "duration": 293,
    "start_time": "2021-08-04T12:47:54.505Z"
   },
   {
    "duration": 16,
    "start_time": "2021-08-04T12:48:13.246Z"
   },
   {
    "duration": 15,
    "start_time": "2021-08-04T12:48:21.575Z"
   },
   {
    "duration": 13,
    "start_time": "2021-08-04T12:50:05.873Z"
   },
   {
    "duration": 267,
    "start_time": "2021-08-04T13:02:40.653Z"
   },
   {
    "duration": 99,
    "start_time": "2021-08-04T13:02:50.095Z"
   },
   {
    "duration": 1609,
    "start_time": "2021-08-05T04:00:40.566Z"
   },
   {
    "duration": 5,
    "start_time": "2021-08-05T04:00:42.183Z"
   },
   {
    "duration": 1010,
    "start_time": "2021-08-05T04:00:44.231Z"
   },
   {
    "duration": 27,
    "start_time": "2021-08-05T04:01:06.222Z"
   },
   {
    "duration": 32,
    "start_time": "2021-08-05T04:01:06.876Z"
   },
   {
    "duration": 1268,
    "start_time": "2021-08-05T04:01:08.592Z"
   },
   {
    "duration": 5,
    "start_time": "2021-08-05T04:01:50.751Z"
   },
   {
    "duration": 7,
    "start_time": "2021-08-05T04:01:51.211Z"
   },
   {
    "duration": 9,
    "start_time": "2021-08-05T04:01:51.885Z"
   },
   {
    "duration": 9,
    "start_time": "2021-08-05T04:04:33.795Z"
   },
   {
    "duration": 25,
    "start_time": "2021-08-05T04:05:53.478Z"
   },
   {
    "duration": 20,
    "start_time": "2021-08-05T04:05:55.130Z"
   },
   {
    "duration": 21,
    "start_time": "2021-08-05T04:05:56.090Z"
   },
   {
    "duration": 22,
    "start_time": "2021-08-05T04:05:57.410Z"
   },
   {
    "duration": 105,
    "start_time": "2021-08-05T04:05:57.872Z"
   },
   {
    "duration": 14,
    "start_time": "2021-08-05T04:05:59.411Z"
   },
   {
    "duration": 7,
    "start_time": "2021-08-05T04:06:00.584Z"
   },
   {
    "duration": 10,
    "start_time": "2021-08-05T04:06:01.058Z"
   },
   {
    "duration": 5,
    "start_time": "2021-08-05T04:06:01.820Z"
   },
   {
    "duration": 8,
    "start_time": "2021-08-05T04:08:55.384Z"
   },
   {
    "duration": 1151,
    "start_time": "2021-08-05T04:08:55.880Z"
   },
   {
    "duration": 7,
    "start_time": "2021-08-05T04:17:32.136Z"
   },
   {
    "duration": 4,
    "start_time": "2021-08-05T04:17:43.522Z"
   },
   {
    "duration": 46,
    "start_time": "2021-08-05T04:17:44.971Z"
   },
   {
    "duration": 13,
    "start_time": "2021-08-05T04:17:46.211Z"
   },
   {
    "duration": 148,
    "start_time": "2021-08-05T04:17:46.881Z"
   },
   {
    "duration": 7,
    "start_time": "2021-08-05T04:17:52.946Z"
   },
   {
    "duration": 47,
    "start_time": "2021-08-05T04:17:53.671Z"
   },
   {
    "duration": 7,
    "start_time": "2021-08-05T04:17:54.347Z"
   },
   {
    "duration": 5,
    "start_time": "2021-08-05T04:18:15.221Z"
   },
   {
    "duration": 7,
    "start_time": "2021-08-05T04:18:15.949Z"
   },
   {
    "duration": 4,
    "start_time": "2021-08-05T04:20:20.440Z"
   },
   {
    "duration": 11,
    "start_time": "2021-08-05T04:20:21.760Z"
   },
   {
    "duration": 4,
    "start_time": "2021-08-05T04:20:24.200Z"
   },
   {
    "duration": 11,
    "start_time": "2021-08-05T04:20:25.490Z"
   },
   {
    "duration": 4,
    "start_time": "2021-08-05T04:20:27.020Z"
   },
   {
    "duration": 9,
    "start_time": "2021-08-05T04:20:27.990Z"
   },
   {
    "duration": 4,
    "start_time": "2021-08-05T04:20:29.460Z"
   },
   {
    "duration": 12,
    "start_time": "2021-08-05T04:20:30.381Z"
   },
   {
    "duration": 4,
    "start_time": "2021-08-05T04:20:32.030Z"
   },
   {
    "duration": 8,
    "start_time": "2021-08-05T04:20:33.620Z"
   },
   {
    "duration": 5,
    "start_time": "2021-08-05T04:20:45.640Z"
   },
   {
    "duration": 13,
    "start_time": "2021-08-05T04:20:46.977Z"
   },
   {
    "duration": 107,
    "start_time": "2021-08-05T05:05:55.508Z"
   },
   {
    "duration": 1588,
    "start_time": "2021-08-05T07:04:41.736Z"
   },
   {
    "duration": 5,
    "start_time": "2021-08-05T07:04:45.213Z"
   },
   {
    "duration": 843,
    "start_time": "2021-08-05T07:04:47.552Z"
   },
   {
    "duration": 27,
    "start_time": "2021-08-05T07:04:49.044Z"
   },
   {
    "duration": 25,
    "start_time": "2021-08-05T07:04:49.291Z"
   },
   {
    "duration": 653,
    "start_time": "2021-08-05T07:04:50.618Z"
   },
   {
    "duration": 5,
    "start_time": "2021-08-05T07:04:58.589Z"
   },
   {
    "duration": 6,
    "start_time": "2021-08-05T07:04:58.842Z"
   },
   {
    "duration": 6,
    "start_time": "2021-08-05T07:04:59.523Z"
   },
   {
    "duration": 7,
    "start_time": "2021-08-05T07:05:02.796Z"
   },
   {
    "duration": 21,
    "start_time": "2021-08-05T07:05:08.613Z"
   },
   {
    "duration": 32,
    "start_time": "2021-08-05T07:05:09.445Z"
   },
   {
    "duration": 19,
    "start_time": "2021-08-05T07:05:18.952Z"
   },
   {
    "duration": 20,
    "start_time": "2021-08-05T07:05:21.170Z"
   },
   {
    "duration": 90,
    "start_time": "2021-08-05T07:05:44.386Z"
   },
   {
    "duration": 15,
    "start_time": "2021-08-05T07:05:45.754Z"
   },
   {
    "duration": 7,
    "start_time": "2021-08-05T07:05:48.128Z"
   },
   {
    "duration": 11,
    "start_time": "2021-08-05T07:06:14.663Z"
   },
   {
    "duration": 6,
    "start_time": "2021-08-05T07:06:15.604Z"
   },
   {
    "duration": 7,
    "start_time": "2021-08-05T07:06:26.727Z"
   },
   {
    "duration": 774,
    "start_time": "2021-08-05T07:06:28.632Z"
   },
   {
    "duration": 895,
    "start_time": "2021-08-05T07:06:31.092Z"
   },
   {
    "duration": 797,
    "start_time": "2021-08-05T07:06:33.890Z"
   },
   {
    "duration": 5,
    "start_time": "2021-08-05T07:07:03.502Z"
   },
   {
    "duration": 30,
    "start_time": "2021-08-05T07:07:05.187Z"
   },
   {
    "duration": 15,
    "start_time": "2021-08-05T07:07:05.785Z"
   },
   {
    "duration": 57,
    "start_time": "2021-08-05T07:07:06.377Z"
   },
   {
    "duration": 750,
    "start_time": "2021-08-05T07:07:07.737Z"
   },
   {
    "duration": 740,
    "start_time": "2021-08-05T07:07:08.490Z"
   },
   {
    "duration": 8,
    "start_time": "2021-08-05T07:07:11.297Z"
   },
   {
    "duration": 33,
    "start_time": "2021-08-05T07:07:11.997Z"
   },
   {
    "duration": 10,
    "start_time": "2021-08-05T07:07:12.785Z"
   },
   {
    "duration": 4,
    "start_time": "2021-08-05T07:07:28.783Z"
   },
   {
    "duration": 31,
    "start_time": "2021-08-05T07:07:31.363Z"
   },
   {
    "duration": 14,
    "start_time": "2021-08-05T07:07:31.899Z"
   },
   {
    "duration": 53,
    "start_time": "2021-08-05T07:07:32.430Z"
   },
   {
    "duration": 680,
    "start_time": "2021-08-05T07:07:33.915Z"
   },
   {
    "duration": 729,
    "start_time": "2021-08-05T07:07:35.853Z"
   },
   {
    "duration": 7,
    "start_time": "2021-08-05T07:07:40.197Z"
   },
   {
    "duration": 29,
    "start_time": "2021-08-05T07:07:41.089Z"
   },
   {
    "duration": 9,
    "start_time": "2021-08-05T07:07:46.808Z"
   },
   {
    "duration": 1183,
    "start_time": "2021-08-05T07:08:09.162Z"
   },
   {
    "duration": 1151,
    "start_time": "2021-08-05T07:08:10.348Z"
   },
   {
    "duration": 4,
    "start_time": "2021-08-05T07:08:14.888Z"
   },
   {
    "duration": 9,
    "start_time": "2021-08-05T07:08:15.605Z"
   },
   {
    "duration": 8,
    "start_time": "2021-08-05T07:08:16.316Z"
   },
   {
    "duration": 7,
    "start_time": "2021-08-05T07:08:17.291Z"
   },
   {
    "duration": 8,
    "start_time": "2021-08-05T07:08:18.171Z"
   },
   {
    "duration": 1790,
    "start_time": "2021-08-05T07:08:19.292Z"
   },
   {
    "duration": 644,
    "start_time": "2021-08-05T07:08:21.085Z"
   },
   {
    "duration": 5,
    "start_time": "2021-08-05T07:08:23.890Z"
   },
   {
    "duration": 8,
    "start_time": "2021-08-05T07:08:25.190Z"
   },
   {
    "duration": 5,
    "start_time": "2021-08-05T07:08:26.524Z"
   },
   {
    "duration": 13458,
    "start_time": "2021-08-05T07:08:27.955Z"
   },
   {
    "duration": 13343,
    "start_time": "2021-08-05T07:08:47.443Z"
   },
   {
    "duration": 5,
    "start_time": "2021-08-05T07:09:04.364Z"
   },
   {
    "duration": 1248873,
    "start_time": "2021-08-05T07:09:07.071Z"
   },
   {
    "duration": 1207616,
    "start_time": "2021-08-05T07:36:52.570Z"
   },
   {
    "duration": 4,
    "start_time": "2021-08-05T07:59:32.498Z"
   },
   {
    "duration": 11,
    "start_time": "2021-08-05T07:59:33.984Z"
   },
   {
    "duration": 2379,
    "start_time": "2021-08-05T07:59:34.912Z"
   },
   {
    "duration": 2227,
    "start_time": "2021-08-05T07:59:38.955Z"
   },
   {
    "duration": 1572,
    "start_time": "2021-08-05T07:59:48.532Z"
   },
   {
    "duration": 1692,
    "start_time": "2021-08-05T07:59:50.107Z"
   },
   {
    "duration": 53069,
    "start_time": "2021-08-05T07:59:51.801Z"
   },
   {
    "duration": 51369,
    "start_time": "2021-08-05T08:00:44.873Z"
   },
   {
    "duration": 69,
    "start_time": "2021-08-05T08:01:36.244Z"
   },
   {
    "duration": 51,
    "start_time": "2021-08-05T08:01:36.315Z"
   },
   {
    "duration": 93,
    "start_time": "2021-08-05T08:01:36.368Z"
   },
   {
    "duration": 13724,
    "start_time": "2021-08-05T08:01:36.483Z"
   },
   {
    "duration": 13559,
    "start_time": "2021-08-05T08:02:31.496Z"
   },
   {
    "duration": 13775,
    "start_time": "2021-08-05T08:02:54.136Z"
   },
   {
    "duration": 14,
    "start_time": "2021-08-05T08:03:51.333Z"
   },
   {
    "duration": 17,
    "start_time": "2021-08-05T08:03:57.992Z"
   },
   {
    "duration": 19,
    "start_time": "2021-08-05T08:04:04.211Z"
   },
   {
    "duration": 408,
    "start_time": "2021-08-05T08:04:08.481Z"
   },
   {
    "duration": 296,
    "start_time": "2021-08-05T08:04:13.086Z"
   },
   {
    "duration": 239,
    "start_time": "2021-08-05T08:04:17.415Z"
   },
   {
    "duration": 271,
    "start_time": "2021-08-05T08:04:25.033Z"
   },
   {
    "duration": 242,
    "start_time": "2021-08-05T08:04:50.990Z"
   },
   {
    "duration": 19,
    "start_time": "2021-08-05T08:04:54.138Z"
   },
   {
    "duration": 82,
    "start_time": "2021-08-05T08:05:06.189Z"
   },
   {
    "duration": 26,
    "start_time": "2021-08-05T08:05:08.173Z"
   },
   {
    "duration": 311,
    "start_time": "2021-08-05T08:06:00.979Z"
   },
   {
    "duration": 9,
    "start_time": "2021-08-05T08:06:25.061Z"
   },
   {
    "duration": 14,
    "start_time": "2021-08-05T08:06:29.566Z"
   },
   {
    "duration": 9,
    "start_time": "2021-08-05T08:06:33.264Z"
   },
   {
    "duration": 9,
    "start_time": "2021-08-05T08:06:37.566Z"
   },
   {
    "duration": 296,
    "start_time": "2021-08-05T08:07:25.539Z"
   },
   {
    "duration": 17,
    "start_time": "2021-08-05T08:07:59.658Z"
   },
   {
    "duration": 13,
    "start_time": "2021-08-05T08:08:22.211Z"
   },
   {
    "duration": 5,
    "start_time": "2021-08-05T08:10:05.394Z"
   },
   {
    "duration": 8,
    "start_time": "2021-08-05T08:10:08.308Z"
   },
   {
    "duration": 28,
    "start_time": "2021-08-05T08:10:16.102Z"
   },
   {
    "duration": 7,
    "start_time": "2021-08-05T08:10:39.183Z"
   },
   {
    "duration": 6,
    "start_time": "2021-08-05T08:11:11.518Z"
   },
   {
    "duration": 6,
    "start_time": "2021-08-05T08:11:15.691Z"
   },
   {
    "duration": 6,
    "start_time": "2021-08-05T08:11:18.120Z"
   },
   {
    "duration": 7,
    "start_time": "2021-08-05T08:12:30.586Z"
   },
   {
    "duration": 6,
    "start_time": "2021-08-05T08:12:34.959Z"
   },
   {
    "duration": 6,
    "start_time": "2021-08-05T08:12:39.820Z"
   },
   {
    "duration": 5,
    "start_time": "2021-08-05T08:12:43.494Z"
   },
   {
    "duration": 7,
    "start_time": "2021-08-05T08:12:44.861Z"
   },
   {
    "duration": 6,
    "start_time": "2021-08-05T08:12:45.786Z"
   },
   {
    "duration": 10,
    "start_time": "2021-08-05T08:12:49.877Z"
   },
   {
    "duration": 8,
    "start_time": "2021-08-05T08:12:52.425Z"
   },
   {
    "duration": 5,
    "start_time": "2021-08-05T08:12:53.117Z"
   },
   {
    "duration": 8,
    "start_time": "2021-08-05T08:12:54.268Z"
   },
   {
    "duration": 6,
    "start_time": "2021-08-05T08:12:54.913Z"
   },
   {
    "duration": 6,
    "start_time": "2021-08-05T08:12:58.724Z"
   },
   {
    "duration": 6,
    "start_time": "2021-08-05T08:13:13.381Z"
   },
   {
    "duration": 7,
    "start_time": "2021-08-05T08:13:14.411Z"
   },
   {
    "duration": 7,
    "start_time": "2021-08-05T08:13:27.442Z"
   },
   {
    "duration": 6,
    "start_time": "2021-08-05T08:13:31.787Z"
   },
   {
    "duration": 5,
    "start_time": "2021-08-05T08:13:34.564Z"
   },
   {
    "duration": 5,
    "start_time": "2021-08-05T08:13:40.848Z"
   },
   {
    "duration": 6,
    "start_time": "2021-08-05T08:13:41.816Z"
   },
   {
    "duration": 7,
    "start_time": "2021-08-05T08:13:42.737Z"
   },
   {
    "duration": 7,
    "start_time": "2021-08-05T08:13:44.444Z"
   },
   {
    "duration": 556,
    "start_time": "2021-08-05T08:13:59.332Z"
   },
   {
    "duration": 784,
    "start_time": "2021-08-05T08:14:08.474Z"
   },
   {
    "duration": 30,
    "start_time": "2021-08-05T08:14:35.262Z"
   },
   {
    "duration": 30,
    "start_time": "2021-08-05T08:14:50.403Z"
   },
   {
    "duration": 1506,
    "start_time": "2021-08-05T08:19:10.094Z"
   },
   {
    "duration": 5,
    "start_time": "2021-08-05T08:19:11.603Z"
   },
   {
    "duration": 863,
    "start_time": "2021-08-05T08:19:11.611Z"
   },
   {
    "duration": 33,
    "start_time": "2021-08-05T08:19:12.477Z"
   },
   {
    "duration": 25,
    "start_time": "2021-08-05T08:19:12.512Z"
   },
   {
    "duration": 692,
    "start_time": "2021-08-05T08:19:12.539Z"
   },
   {
    "duration": 4,
    "start_time": "2021-08-05T08:19:13.234Z"
   },
   {
    "duration": 11,
    "start_time": "2021-08-05T08:19:13.242Z"
   },
   {
    "duration": 7,
    "start_time": "2021-08-05T08:19:13.256Z"
   },
   {
    "duration": 7,
    "start_time": "2021-08-05T08:19:13.283Z"
   },
   {
    "duration": 23,
    "start_time": "2021-08-05T08:19:13.292Z"
   },
   {
    "duration": 19,
    "start_time": "2021-08-05T08:19:13.318Z"
   },
   {
    "duration": 46,
    "start_time": "2021-08-05T08:19:13.339Z"
   },
   {
    "duration": 19,
    "start_time": "2021-08-05T08:19:13.388Z"
   },
   {
    "duration": 108,
    "start_time": "2021-08-05T08:19:13.410Z"
   },
   {
    "duration": 13,
    "start_time": "2021-08-05T08:19:13.520Z"
   },
   {
    "duration": 8,
    "start_time": "2021-08-05T08:19:13.536Z"
   },
   {
    "duration": 18,
    "start_time": "2021-08-05T08:19:13.546Z"
   },
   {
    "duration": 5,
    "start_time": "2021-08-05T08:19:13.583Z"
   },
   {
    "duration": 7,
    "start_time": "2021-08-05T08:19:13.591Z"
   },
   {
    "duration": 774,
    "start_time": "2021-08-05T08:19:13.601Z"
   },
   {
    "duration": 850,
    "start_time": "2021-08-05T08:19:14.377Z"
   },
   {
    "duration": 776,
    "start_time": "2021-08-05T08:19:15.232Z"
   },
   {
    "duration": 5,
    "start_time": "2021-08-05T08:19:16.013Z"
   },
   {
    "duration": 33,
    "start_time": "2021-08-05T08:19:16.021Z"
   },
   {
    "duration": 39,
    "start_time": "2021-08-05T08:19:16.057Z"
   },
   {
    "duration": 56,
    "start_time": "2021-08-05T08:19:16.099Z"
   },
   {
    "duration": 748,
    "start_time": "2021-08-05T08:19:16.158Z"
   },
   {
    "duration": 755,
    "start_time": "2021-08-05T08:19:16.909Z"
   },
   {
    "duration": 17,
    "start_time": "2021-08-05T08:19:17.666Z"
   },
   {
    "duration": 38,
    "start_time": "2021-08-05T08:19:17.686Z"
   },
   {
    "duration": 9,
    "start_time": "2021-08-05T08:19:17.726Z"
   },
   {
    "duration": 1208,
    "start_time": "2021-08-05T08:19:17.738Z"
   },
   {
    "duration": 1211,
    "start_time": "2021-08-05T08:19:18.949Z"
   },
   {
    "duration": 3,
    "start_time": "2021-08-05T08:19:20.163Z"
   },
   {
    "duration": 28,
    "start_time": "2021-08-05T08:19:20.168Z"
   },
   {
    "duration": 8,
    "start_time": "2021-08-05T08:19:20.199Z"
   },
   {
    "duration": 7,
    "start_time": "2021-08-05T08:19:20.210Z"
   },
   {
    "duration": 11,
    "start_time": "2021-08-05T08:19:20.220Z"
   },
   {
    "duration": 1817,
    "start_time": "2021-08-05T08:19:20.233Z"
   },
   {
    "duration": 712,
    "start_time": "2021-08-05T08:19:22.052Z"
   },
   {
    "duration": 41,
    "start_time": "2021-08-05T08:19:22.766Z"
   },
   {
    "duration": 5,
    "start_time": "2021-08-05T08:19:22.809Z"
   },
   {
    "duration": 28,
    "start_time": "2021-08-05T08:19:22.816Z"
   },
   {
    "duration": 7,
    "start_time": "2021-08-05T08:19:22.846Z"
   },
   {
    "duration": 13767,
    "start_time": "2021-08-05T08:19:22.856Z"
   },
   {
    "duration": 18523,
    "start_time": "2021-08-05T08:19:36.625Z"
   },
   {
    "duration": 4,
    "start_time": "2021-08-05T08:19:55.151Z"
   },
   {
    "duration": 1232263,
    "start_time": "2021-08-05T08:19:55.158Z"
   },
   {
    "duration": 1195151,
    "start_time": "2021-08-05T08:40:27.424Z"
   },
   {
    "duration": 4,
    "start_time": "2021-08-05T09:00:22.578Z"
   },
   {
    "duration": 14,
    "start_time": "2021-08-05T09:00:22.584Z"
   },
   {
    "duration": 2588,
    "start_time": "2021-08-05T09:00:22.600Z"
   },
   {
    "duration": 2896,
    "start_time": "2021-08-05T09:00:25.190Z"
   },
   {
    "duration": 1679,
    "start_time": "2021-08-05T09:00:28.089Z"
   },
   {
    "duration": 1383,
    "start_time": "2021-08-05T09:00:29.770Z"
   },
   {
    "duration": 53529,
    "start_time": "2021-08-05T09:00:31.156Z"
   },
   {
    "duration": 46028,
    "start_time": "2021-08-05T09:01:24.688Z"
   },
   {
    "duration": 71,
    "start_time": "2021-08-05T09:02:10.719Z"
   },
   {
    "duration": 56,
    "start_time": "2021-08-05T09:02:10.793Z"
   },
   {
    "duration": 100,
    "start_time": "2021-08-05T09:02:10.852Z"
   },
   {
    "duration": 11573,
    "start_time": "2021-08-05T09:02:10.955Z"
   },
   {
    "duration": 6,
    "start_time": "2021-08-05T09:04:48.047Z"
   },
   {
    "duration": 4,
    "start_time": "2021-08-05T09:19:18.714Z"
   },
   {
    "duration": 6,
    "start_time": "2021-08-05T09:20:52.393Z"
   },
   {
    "duration": 13,
    "start_time": "2021-08-05T09:24:32.244Z"
   },
   {
    "duration": 6,
    "start_time": "2021-08-05T09:25:04.264Z"
   },
   {
    "duration": 18,
    "start_time": "2021-08-05T09:25:33.781Z"
   },
   {
    "duration": 10,
    "start_time": "2021-08-05T09:26:06.376Z"
   },
   {
    "duration": 7,
    "start_time": "2021-08-05T09:26:32.468Z"
   },
   {
    "duration": 6,
    "start_time": "2021-08-05T09:26:37.144Z"
   },
   {
    "duration": 7,
    "start_time": "2021-08-05T09:26:53.524Z"
   },
   {
    "duration": 7,
    "start_time": "2021-08-05T09:26:58.066Z"
   },
   {
    "duration": 5,
    "start_time": "2021-08-05T09:26:59.893Z"
   },
   {
    "duration": 450,
    "start_time": "2021-08-05T09:28:36.491Z"
   },
   {
    "duration": 1095,
    "start_time": "2021-08-05T09:28:59.830Z"
   },
   {
    "duration": 1108,
    "start_time": "2021-08-05T09:29:17.478Z"
   },
   {
    "duration": 1085,
    "start_time": "2021-08-05T09:29:26.536Z"
   },
   {
    "duration": 1036,
    "start_time": "2021-08-05T09:29:33.849Z"
   },
   {
    "duration": 1121,
    "start_time": "2021-08-05T09:29:40.974Z"
   },
   {
    "duration": 6,
    "start_time": "2021-08-05T09:29:46.369Z"
   },
   {
    "duration": 1179,
    "start_time": "2021-08-05T09:30:01.679Z"
   },
   {
    "duration": 768,
    "start_time": "2021-08-05T09:30:08.885Z"
   },
   {
    "duration": 1171,
    "start_time": "2021-08-05T09:30:15.247Z"
   },
   {
    "duration": 932,
    "start_time": "2021-08-05T09:30:24.170Z"
   },
   {
    "duration": 607,
    "start_time": "2021-08-05T09:30:29.508Z"
   },
   {
    "duration": 517,
    "start_time": "2021-08-05T09:30:33.758Z"
   },
   {
    "duration": 529,
    "start_time": "2021-08-05T09:30:38.206Z"
   },
   {
    "duration": 523,
    "start_time": "2021-08-05T09:31:03.882Z"
   },
   {
    "duration": 6,
    "start_time": "2021-08-05T09:31:10.263Z"
   },
   {
    "duration": 7,
    "start_time": "2021-08-05T09:31:21.156Z"
   },
   {
    "duration": 6,
    "start_time": "2021-08-05T09:31:28.306Z"
   },
   {
    "duration": 591,
    "start_time": "2021-08-05T09:31:35.691Z"
   },
   {
    "duration": 634,
    "start_time": "2021-08-05T09:31:45.293Z"
   },
   {
    "duration": 692,
    "start_time": "2021-08-05T09:32:13.108Z"
   },
   {
    "duration": 626,
    "start_time": "2021-08-05T09:32:19.184Z"
   },
   {
    "duration": 8,
    "start_time": "2021-08-05T09:32:22.297Z"
   },
   {
    "duration": 8,
    "start_time": "2021-08-05T09:32:35.180Z"
   },
   {
    "duration": 8,
    "start_time": "2021-08-05T09:32:37.184Z"
   },
   {
    "duration": 729,
    "start_time": "2021-08-05T09:32:40.723Z"
   },
   {
    "duration": 582,
    "start_time": "2021-08-05T09:32:48.150Z"
   },
   {
    "duration": 4,
    "start_time": "2021-08-05T09:39:05.488Z"
   },
   {
    "duration": 476128,
    "start_time": "2021-08-05T09:39:08.454Z"
   },
   {
    "duration": 53964,
    "start_time": "2021-08-05T09:47:40.783Z"
   },
   {
    "duration": 96,
    "start_time": "2021-08-05T09:49:16.088Z"
   },
   {
    "duration": 1470,
    "start_time": "2021-08-05T10:35:14.914Z"
   },
   {
    "duration": 5,
    "start_time": "2021-08-05T10:35:16.386Z"
   },
   {
    "duration": 865,
    "start_time": "2021-08-05T10:35:16.394Z"
   },
   {
    "duration": 30,
    "start_time": "2021-08-05T10:35:17.261Z"
   },
   {
    "duration": 27,
    "start_time": "2021-08-05T10:35:17.294Z"
   },
   {
    "duration": 684,
    "start_time": "2021-08-05T10:35:17.323Z"
   },
   {
    "duration": 4,
    "start_time": "2021-08-05T10:35:18.011Z"
   },
   {
    "duration": 22,
    "start_time": "2021-08-05T10:35:18.019Z"
   },
   {
    "duration": 9,
    "start_time": "2021-08-05T10:35:18.044Z"
   },
   {
    "duration": 28,
    "start_time": "2021-08-05T10:35:18.055Z"
   },
   {
    "duration": 22,
    "start_time": "2021-08-05T10:35:18.086Z"
   },
   {
    "duration": 19,
    "start_time": "2021-08-05T10:35:18.110Z"
   },
   {
    "duration": 17,
    "start_time": "2021-08-05T10:35:18.131Z"
   },
   {
    "duration": 46,
    "start_time": "2021-08-05T10:35:18.151Z"
   },
   {
    "duration": 103,
    "start_time": "2021-08-05T10:35:18.199Z"
   },
   {
    "duration": 13,
    "start_time": "2021-08-05T10:35:18.304Z"
   },
   {
    "duration": 9,
    "start_time": "2021-08-05T10:35:18.320Z"
   },
   {
    "duration": 20,
    "start_time": "2021-08-05T10:35:18.331Z"
   },
   {
    "duration": 31,
    "start_time": "2021-08-05T10:35:18.353Z"
   },
   {
    "duration": 13,
    "start_time": "2021-08-05T10:35:18.387Z"
   },
   {
    "duration": 773,
    "start_time": "2021-08-05T10:35:18.402Z"
   },
   {
    "duration": 852,
    "start_time": "2021-08-05T10:35:19.177Z"
   },
   {
    "duration": 776,
    "start_time": "2021-08-05T10:35:20.036Z"
   },
   {
    "duration": 4,
    "start_time": "2021-08-05T10:35:20.815Z"
   },
   {
    "duration": 42,
    "start_time": "2021-08-05T10:35:20.822Z"
   },
   {
    "duration": 23,
    "start_time": "2021-08-05T10:35:20.866Z"
   },
   {
    "duration": 55,
    "start_time": "2021-08-05T10:35:20.891Z"
   },
   {
    "duration": 673,
    "start_time": "2021-08-05T10:35:20.949Z"
   },
   {
    "duration": 760,
    "start_time": "2021-08-05T10:35:21.625Z"
   },
   {
    "duration": 6,
    "start_time": "2021-08-05T10:35:22.388Z"
   },
   {
    "duration": 31,
    "start_time": "2021-08-05T10:35:22.396Z"
   },
   {
    "duration": 8,
    "start_time": "2021-08-05T10:35:22.429Z"
   },
   {
    "duration": 1195,
    "start_time": "2021-08-05T10:35:22.439Z"
   },
   {
    "duration": 1221,
    "start_time": "2021-08-05T10:35:23.637Z"
   },
   {
    "duration": 3,
    "start_time": "2021-08-05T10:35:24.861Z"
   },
   {
    "duration": 8,
    "start_time": "2021-08-05T10:35:24.882Z"
   },
   {
    "duration": 8,
    "start_time": "2021-08-05T10:35:24.893Z"
   },
   {
    "duration": 7,
    "start_time": "2021-08-05T10:35:24.903Z"
   },
   {
    "duration": 8,
    "start_time": "2021-08-05T10:35:24.913Z"
   },
   {
    "duration": 1835,
    "start_time": "2021-08-05T10:35:24.923Z"
   },
   {
    "duration": 591,
    "start_time": "2021-08-05T10:35:26.760Z"
   },
   {
    "duration": 46,
    "start_time": "2021-08-05T10:35:27.353Z"
   },
   {
    "duration": 5,
    "start_time": "2021-08-05T10:35:27.401Z"
   },
   {
    "duration": 10,
    "start_time": "2021-08-05T10:35:27.408Z"
   },
   {
    "duration": 4,
    "start_time": "2021-08-05T10:35:27.420Z"
   },
   {
    "duration": 14102,
    "start_time": "2021-08-05T10:35:27.426Z"
   },
   {
    "duration": 13278,
    "start_time": "2021-08-05T10:35:41.530Z"
   },
   {
    "duration": 4,
    "start_time": "2021-08-05T10:35:54.810Z"
   },
   {
    "duration": 501288,
    "start_time": "2021-08-05T10:35:54.817Z"
   },
   {
    "duration": 507295,
    "start_time": "2021-08-05T10:44:16.107Z"
   },
   {
    "duration": 4,
    "start_time": "2021-08-05T10:52:43.405Z"
   },
   {
    "duration": 13,
    "start_time": "2021-08-05T10:52:43.412Z"
   },
   {
    "duration": 2656,
    "start_time": "2021-08-05T10:52:43.428Z"
   },
   {
    "duration": 2502,
    "start_time": "2021-08-05T10:52:46.088Z"
   },
   {
    "duration": 1676,
    "start_time": "2021-08-05T10:52:48.594Z"
   },
   {
    "duration": 1446,
    "start_time": "2021-08-05T10:52:50.272Z"
   },
   {
    "duration": 53748,
    "start_time": "2021-08-05T10:52:51.720Z"
   },
   {
    "duration": 48397,
    "start_time": "2021-08-05T10:53:45.471Z"
   },
   {
    "duration": 60,
    "start_time": "2021-08-05T10:54:33.870Z"
   },
   {
    "duration": 74,
    "start_time": "2021-08-05T10:54:33.932Z"
   },
   {
    "duration": 104,
    "start_time": "2021-08-05T10:54:34.008Z"
   },
   {
    "duration": 12592,
    "start_time": "2021-08-05T10:54:34.114Z"
   },
   {
    "duration": 5,
    "start_time": "2021-08-05T11:19:35.752Z"
   },
   {
    "duration": 1511,
    "start_time": "2021-08-05T11:19:41.978Z"
   },
   {
    "duration": 5,
    "start_time": "2021-08-05T11:19:43.492Z"
   },
   {
    "duration": 844,
    "start_time": "2021-08-05T11:19:43.499Z"
   },
   {
    "duration": 24,
    "start_time": "2021-08-05T11:19:44.345Z"
   },
   {
    "duration": 34,
    "start_time": "2021-08-05T11:19:44.371Z"
   },
   {
    "duration": 682,
    "start_time": "2021-08-05T11:19:44.408Z"
   },
   {
    "duration": 4,
    "start_time": "2021-08-05T11:19:45.094Z"
   },
   {
    "duration": 10,
    "start_time": "2021-08-05T11:19:45.100Z"
   },
   {
    "duration": 6,
    "start_time": "2021-08-05T11:19:45.113Z"
   },
   {
    "duration": 9,
    "start_time": "2021-08-05T11:19:45.122Z"
   },
   {
    "duration": 60,
    "start_time": "2021-08-05T11:19:45.134Z"
   },
   {
    "duration": 18,
    "start_time": "2021-08-05T11:19:45.196Z"
   },
   {
    "duration": 19,
    "start_time": "2021-08-05T11:19:45.216Z"
   },
   {
    "duration": 18,
    "start_time": "2021-08-05T11:19:45.237Z"
   },
   {
    "duration": 100,
    "start_time": "2021-08-05T11:19:45.282Z"
   },
   {
    "duration": 12,
    "start_time": "2021-08-05T11:19:45.385Z"
   },
   {
    "duration": 15,
    "start_time": "2021-08-05T11:19:45.400Z"
   },
   {
    "duration": 14,
    "start_time": "2021-08-05T11:19:45.420Z"
   },
   {
    "duration": 13,
    "start_time": "2021-08-05T11:19:45.439Z"
   },
   {
    "duration": 27,
    "start_time": "2021-08-05T11:19:45.455Z"
   },
   {
    "duration": 784,
    "start_time": "2021-08-05T11:19:45.485Z"
   },
   {
    "duration": 861,
    "start_time": "2021-08-05T11:19:46.272Z"
   },
   {
    "duration": 871,
    "start_time": "2021-08-05T11:19:47.136Z"
   },
   {
    "duration": 4,
    "start_time": "2021-08-05T11:19:48.010Z"
   },
   {
    "duration": 33,
    "start_time": "2021-08-05T11:19:48.016Z"
   },
   {
    "duration": 38,
    "start_time": "2021-08-05T11:19:48.051Z"
   },
   {
    "duration": 52,
    "start_time": "2021-08-05T11:19:48.092Z"
   },
   {
    "duration": 669,
    "start_time": "2021-08-05T11:19:48.146Z"
   },
   {
    "duration": 759,
    "start_time": "2021-08-05T11:19:48.817Z"
   },
   {
    "duration": 6,
    "start_time": "2021-08-05T11:19:49.582Z"
   },
   {
    "duration": 32,
    "start_time": "2021-08-05T11:19:49.591Z"
   },
   {
    "duration": 9,
    "start_time": "2021-08-05T11:19:49.625Z"
   },
   {
    "duration": 1146,
    "start_time": "2021-08-05T11:19:49.636Z"
   },
   {
    "duration": 1233,
    "start_time": "2021-08-05T11:19:50.784Z"
   },
   {
    "duration": 5,
    "start_time": "2021-08-05T11:19:52.020Z"
   },
   {
    "duration": 17,
    "start_time": "2021-08-05T11:19:52.028Z"
   },
   {
    "duration": 38,
    "start_time": "2021-08-05T11:19:52.059Z"
   },
   {
    "duration": 19,
    "start_time": "2021-08-05T11:19:52.101Z"
   },
   {
    "duration": 34,
    "start_time": "2021-08-05T11:19:52.123Z"
   },
   {
    "duration": 1938,
    "start_time": "2021-08-05T11:19:52.161Z"
   },
   {
    "duration": 571,
    "start_time": "2021-08-05T11:19:54.102Z"
   },
   {
    "duration": 29,
    "start_time": "2021-08-05T11:19:54.683Z"
   },
   {
    "duration": 4,
    "start_time": "2021-08-05T11:19:54.715Z"
   },
   {
    "duration": 10,
    "start_time": "2021-08-05T11:19:54.721Z"
   },
   {
    "duration": 9,
    "start_time": "2021-08-05T11:19:54.733Z"
   },
   {
    "duration": 13718,
    "start_time": "2021-08-05T11:19:54.744Z"
   },
   {
    "duration": 13322,
    "start_time": "2021-08-05T11:20:08.464Z"
   },
   {
    "duration": 5,
    "start_time": "2021-08-05T11:20:21.789Z"
   },
   {
    "duration": 523219,
    "start_time": "2021-08-05T11:20:21.797Z"
   },
   {
    "duration": 490614,
    "start_time": "2021-08-05T11:29:05.019Z"
   },
   {
    "duration": 4,
    "start_time": "2021-08-05T11:37:15.635Z"
   },
   {
    "duration": 16,
    "start_time": "2021-08-05T11:37:15.641Z"
   },
   {
    "duration": 2324,
    "start_time": "2021-08-05T11:37:15.660Z"
   },
   {
    "duration": 2410,
    "start_time": "2021-08-05T11:37:18.082Z"
   },
   {
    "duration": 1661,
    "start_time": "2021-08-05T11:37:20.584Z"
   },
   {
    "duration": 1474,
    "start_time": "2021-08-05T11:37:22.248Z"
   },
   {
    "duration": 53905,
    "start_time": "2021-08-05T11:37:23.725Z"
   },
   {
    "duration": 46337,
    "start_time": "2021-08-05T11:38:17.632Z"
   },
   {
    "duration": 62,
    "start_time": "2021-08-05T11:39:03.971Z"
   },
   {
    "duration": 63,
    "start_time": "2021-08-05T11:39:04.035Z"
   },
   {
    "duration": 101,
    "start_time": "2021-08-05T11:39:04.100Z"
   },
   {
    "duration": 11826,
    "start_time": "2021-08-05T11:39:04.204Z"
   },
   {
    "duration": 5,
    "start_time": "2021-08-05T18:00:13.074Z"
   },
   {
    "duration": 906,
    "start_time": "2021-08-05T18:00:15.010Z"
   },
   {
    "duration": 268,
    "start_time": "2021-08-05T18:00:21.058Z"
   },
   {
    "duration": 1631,
    "start_time": "2021-08-05T18:00:44.490Z"
   },
   {
    "duration": 7,
    "start_time": "2021-08-05T18:00:46.124Z"
   },
   {
    "duration": 1382,
    "start_time": "2021-08-05T18:00:46.135Z"
   },
   {
    "duration": 43,
    "start_time": "2021-08-05T18:00:47.521Z"
   },
   {
    "duration": 30,
    "start_time": "2021-08-05T18:00:47.567Z"
   },
   {
    "duration": 963,
    "start_time": "2021-08-05T18:00:47.599Z"
   },
   {
    "duration": 5,
    "start_time": "2021-08-05T18:00:48.565Z"
   },
   {
    "duration": 9,
    "start_time": "2021-08-05T18:00:48.575Z"
   },
   {
    "duration": 11,
    "start_time": "2021-08-05T18:00:48.588Z"
   },
   {
    "duration": 16,
    "start_time": "2021-08-05T18:00:48.602Z"
   },
   {
    "duration": 66,
    "start_time": "2021-08-05T18:00:48.621Z"
   },
   {
    "duration": 21,
    "start_time": "2021-08-05T18:00:48.690Z"
   },
   {
    "duration": 20,
    "start_time": "2021-08-05T18:00:48.714Z"
   },
   {
    "duration": 24,
    "start_time": "2021-08-05T18:00:48.755Z"
   },
   {
    "duration": 125,
    "start_time": "2021-08-05T18:00:48.781Z"
   },
   {
    "duration": 14,
    "start_time": "2021-08-05T18:00:48.909Z"
   },
   {
    "duration": 37,
    "start_time": "2021-08-05T18:00:48.926Z"
   },
   {
    "duration": 14,
    "start_time": "2021-08-05T18:00:48.965Z"
   },
   {
    "duration": 17,
    "start_time": "2021-08-05T18:00:48.982Z"
   },
   {
    "duration": 7,
    "start_time": "2021-08-05T18:00:49.002Z"
   },
   {
    "duration": 867,
    "start_time": "2021-08-05T18:00:49.012Z"
   },
   {
    "duration": 981,
    "start_time": "2021-08-05T18:00:49.881Z"
   },
   {
    "duration": 864,
    "start_time": "2021-08-05T18:00:50.867Z"
   },
   {
    "duration": 5,
    "start_time": "2021-08-05T18:00:51.734Z"
   },
   {
    "duration": 42,
    "start_time": "2021-08-05T18:00:51.741Z"
   },
   {
    "duration": 8,
    "start_time": "2021-08-05T18:00:51.786Z"
   },
   {
    "duration": 99,
    "start_time": "2021-08-05T18:00:51.796Z"
   },
   {
    "duration": 850,
    "start_time": "2021-08-05T18:00:51.897Z"
   },
   {
    "duration": 1076,
    "start_time": "2021-08-05T18:00:52.749Z"
   },
   {
    "duration": 7,
    "start_time": "2021-08-05T18:00:53.827Z"
   },
   {
    "duration": 53,
    "start_time": "2021-08-05T18:00:53.837Z"
   },
   {
    "duration": 9,
    "start_time": "2021-08-05T18:00:53.892Z"
   },
   {
    "duration": 5,
    "start_time": "2021-08-05T18:03:37.684Z"
   },
   {
    "duration": 5,
    "start_time": "2021-08-05T18:05:10.361Z"
   },
   {
    "duration": 32,
    "start_time": "2021-08-05T18:05:10.969Z"
   },
   {
    "duration": 8,
    "start_time": "2021-08-05T18:05:11.489Z"
   },
   {
    "duration": 78,
    "start_time": "2021-08-05T18:05:12.016Z"
   },
   {
    "duration": 64,
    "start_time": "2021-08-05T18:05:13.265Z"
   },
   {
    "duration": 765,
    "start_time": "2021-08-05T18:05:15.121Z"
   },
   {
    "duration": 849,
    "start_time": "2021-08-05T18:05:17.360Z"
   },
   {
    "duration": 71,
    "start_time": "2021-08-05T18:05:20.528Z"
   },
   {
    "duration": 8,
    "start_time": "2021-08-05T18:05:21.232Z"
   },
   {
    "duration": 51,
    "start_time": "2021-08-05T18:05:22.016Z"
   },
   {
    "duration": 8,
    "start_time": "2021-08-05T18:05:23.047Z"
   },
   {
    "duration": 1603,
    "start_time": "2021-08-05T18:05:34.283Z"
   },
   {
    "duration": 5,
    "start_time": "2021-08-05T18:05:35.889Z"
   },
   {
    "duration": 965,
    "start_time": "2021-08-05T18:05:35.897Z"
   },
   {
    "duration": 28,
    "start_time": "2021-08-05T18:05:36.868Z"
   },
   {
    "duration": 38,
    "start_time": "2021-08-05T18:05:36.898Z"
   },
   {
    "duration": 670,
    "start_time": "2021-08-05T18:05:36.939Z"
   },
   {
    "duration": 5,
    "start_time": "2021-08-05T18:05:37.612Z"
   },
   {
    "duration": 21,
    "start_time": "2021-08-05T18:05:37.622Z"
   },
   {
    "duration": 12,
    "start_time": "2021-08-05T18:05:37.646Z"
   },
   {
    "duration": 17,
    "start_time": "2021-08-05T18:05:37.661Z"
   },
   {
    "duration": 43,
    "start_time": "2021-08-05T18:05:37.681Z"
   },
   {
    "duration": 46,
    "start_time": "2021-08-05T18:05:37.726Z"
   },
   {
    "duration": 24,
    "start_time": "2021-08-05T18:05:37.775Z"
   },
   {
    "duration": 30,
    "start_time": "2021-08-05T18:05:37.802Z"
   },
   {
    "duration": 115,
    "start_time": "2021-08-05T18:05:37.834Z"
   },
   {
    "duration": 17,
    "start_time": "2021-08-05T18:05:37.951Z"
   },
   {
    "duration": 23,
    "start_time": "2021-08-05T18:05:37.971Z"
   },
   {
    "duration": 34,
    "start_time": "2021-08-05T18:05:37.996Z"
   },
   {
    "duration": 32,
    "start_time": "2021-08-05T18:05:38.032Z"
   },
   {
    "duration": 20,
    "start_time": "2021-08-05T18:05:38.067Z"
   },
   {
    "duration": 875,
    "start_time": "2021-08-05T18:05:38.089Z"
   },
   {
    "duration": 955,
    "start_time": "2021-08-05T18:05:38.967Z"
   },
   {
    "duration": 861,
    "start_time": "2021-08-05T18:05:39.929Z"
   },
   {
    "duration": 5,
    "start_time": "2021-08-05T18:05:40.793Z"
   },
   {
    "duration": 55,
    "start_time": "2021-08-05T18:05:40.800Z"
   },
   {
    "duration": 15,
    "start_time": "2021-08-05T18:05:40.860Z"
   },
   {
    "duration": 77,
    "start_time": "2021-08-05T18:05:40.878Z"
   },
   {
    "duration": 760,
    "start_time": "2021-08-05T18:05:40.957Z"
   },
   {
    "duration": 850,
    "start_time": "2021-08-05T18:05:41.719Z"
   },
   {
    "duration": 7,
    "start_time": "2021-08-05T18:05:42.572Z"
   },
   {
    "duration": 56,
    "start_time": "2021-08-05T18:05:42.581Z"
   },
   {
    "duration": 26,
    "start_time": "2021-08-05T18:05:42.639Z"
   },
   {
    "duration": 1380,
    "start_time": "2021-08-05T18:05:42.668Z"
   },
   {
    "duration": 1461,
    "start_time": "2021-08-05T18:05:44.052Z"
   },
   {
    "duration": 4,
    "start_time": "2021-08-05T18:05:45.515Z"
   },
   {
    "duration": 23,
    "start_time": "2021-08-05T18:05:45.521Z"
   },
   {
    "duration": 17,
    "start_time": "2021-08-05T18:05:45.547Z"
   },
   {
    "duration": 18,
    "start_time": "2021-08-05T18:05:45.566Z"
   },
   {
    "duration": 23,
    "start_time": "2021-08-05T18:05:45.587Z"
   },
   {
    "duration": 2842,
    "start_time": "2021-08-05T18:05:45.614Z"
   },
   {
    "duration": 836,
    "start_time": "2021-08-05T18:05:48.459Z"
   },
   {
    "duration": 57,
    "start_time": "2021-08-05T18:05:49.297Z"
   },
   {
    "duration": 6,
    "start_time": "2021-08-05T18:05:49.357Z"
   },
   {
    "duration": 20,
    "start_time": "2021-08-05T18:05:49.366Z"
   },
   {
    "duration": 9,
    "start_time": "2021-08-05T18:05:49.389Z"
   },
   {
    "duration": 15336,
    "start_time": "2021-08-05T18:05:49.401Z"
   },
   {
    "duration": 15117,
    "start_time": "2021-08-05T18:06:04.739Z"
   },
   {
    "duration": 5,
    "start_time": "2021-08-05T18:06:19.859Z"
   },
   {
    "duration": 565425,
    "start_time": "2021-08-05T18:06:19.867Z"
   },
   {
    "duration": 574818,
    "start_time": "2021-08-05T18:15:45.294Z"
   },
   {
    "duration": 3,
    "start_time": "2021-08-05T18:25:20.114Z"
   },
   {
    "duration": 22,
    "start_time": "2021-08-05T18:25:20.119Z"
   },
   {
    "duration": 4158,
    "start_time": "2021-08-05T18:25:20.143Z"
   },
   {
    "duration": 3236,
    "start_time": "2021-08-05T18:25:24.361Z"
   },
   {
    "duration": 2045,
    "start_time": "2021-08-05T18:25:27.681Z"
   },
   {
    "duration": 1893,
    "start_time": "2021-08-05T18:25:29.730Z"
   },
   {
    "duration": 69041,
    "start_time": "2021-08-05T18:25:31.625Z"
   },
   {
    "duration": 63174,
    "start_time": "2021-08-05T18:26:40.670Z"
   },
   {
    "duration": 71,
    "start_time": "2021-08-05T18:27:43.847Z"
   },
   {
    "duration": 76,
    "start_time": "2021-08-05T18:27:43.921Z"
   },
   {
    "duration": 99,
    "start_time": "2021-08-05T18:27:43.999Z"
   },
   {
    "duration": 14694,
    "start_time": "2021-08-05T18:27:44.100Z"
   },
   {
    "duration": 15577,
    "start_time": "2021-08-05T18:29:02.069Z"
   },
   {
    "duration": 14627,
    "start_time": "2021-08-05T18:36:04.764Z"
   }
  ],
  "kernelspec": {
   "display_name": "Python 3 (ipykernel)",
   "language": "python",
   "name": "python3"
  },
  "language_info": {
   "codemirror_mode": {
    "name": "ipython",
    "version": 3
   },
   "file_extension": ".py",
   "mimetype": "text/x-python",
   "name": "python",
   "nbconvert_exporter": "python",
   "pygments_lexer": "ipython3",
   "version": "3.9.6"
  },
  "toc": {
   "base_numbering": 1,
   "nav_menu": {
    "height": "227px",
    "width": "271px"
   },
   "number_sections": true,
   "sideBar": true,
   "skip_h1_title": true,
   "title_cell": "Содержание",
   "title_sidebar": "Contents",
   "toc_cell": true,
   "toc_position": {
    "height": "calc(100% - 180px)",
    "left": "10px",
    "top": "150px",
    "width": "165px"
   },
   "toc_section_display": true,
   "toc_window_display": true
  }
 },
 "nbformat": 4,
 "nbformat_minor": 2
}
