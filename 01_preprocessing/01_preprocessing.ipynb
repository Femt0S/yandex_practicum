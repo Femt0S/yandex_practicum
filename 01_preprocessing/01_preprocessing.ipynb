{
 "cells": [
  {
   "cell_type": "markdown",
   "metadata": {},
   "source": [
    "# Исследование надёжности заёмщиков\n",
    "\n",
    "Заказчик — кредитный отдел банка. Нужно разобраться, влияет ли семейное положение и количество детей клиента на факт погашения кредита в срок. Входные данные от банка — статистика о платёжеспособности клиентов.\n",
    "\n",
    "Результаты исследования будут учтены при построении модели **кредитного скоринга** — специальной системы, которая оценивает способность потенциального заёмщика вернуть кредит банку."
   ]
  },
  {
   "cell_type": "markdown",
   "metadata": {},
   "source": [
    "## Шаг 1. Предварительная оценка"
   ]
  },
  {
   "cell_type": "code",
   "execution_count": 1,
   "metadata": {},
   "outputs": [],
   "source": [
    "import pandas as pd"
   ]
  },
  {
   "cell_type": "code",
   "execution_count": 2,
   "metadata": {},
   "outputs": [
    {
     "data": {
      "text/html": [
       "<div>\n",
       "<style scoped>\n",
       "    .dataframe tbody tr th:only-of-type {\n",
       "        vertical-align: middle;\n",
       "    }\n",
       "\n",
       "    .dataframe tbody tr th {\n",
       "        vertical-align: top;\n",
       "    }\n",
       "\n",
       "    .dataframe thead th {\n",
       "        text-align: right;\n",
       "    }\n",
       "</style>\n",
       "<table border=\"1\" class=\"dataframe\">\n",
       "  <thead>\n",
       "    <tr style=\"text-align: right;\">\n",
       "      <th></th>\n",
       "      <th>children</th>\n",
       "      <th>days_employed</th>\n",
       "      <th>dob_years</th>\n",
       "      <th>education</th>\n",
       "      <th>education_id</th>\n",
       "      <th>family_status</th>\n",
       "      <th>family_status_id</th>\n",
       "      <th>gender</th>\n",
       "      <th>income_type</th>\n",
       "      <th>debt</th>\n",
       "      <th>total_income</th>\n",
       "      <th>purpose</th>\n",
       "    </tr>\n",
       "  </thead>\n",
       "  <tbody>\n",
       "    <tr>\n",
       "      <th>0</th>\n",
       "      <td>1</td>\n",
       "      <td>-8437.673028</td>\n",
       "      <td>42</td>\n",
       "      <td>высшее</td>\n",
       "      <td>0</td>\n",
       "      <td>женат / замужем</td>\n",
       "      <td>0</td>\n",
       "      <td>F</td>\n",
       "      <td>сотрудник</td>\n",
       "      <td>0</td>\n",
       "      <td>253875.639453</td>\n",
       "      <td>покупка жилья</td>\n",
       "    </tr>\n",
       "    <tr>\n",
       "      <th>1</th>\n",
       "      <td>1</td>\n",
       "      <td>-4024.803754</td>\n",
       "      <td>36</td>\n",
       "      <td>среднее</td>\n",
       "      <td>1</td>\n",
       "      <td>женат / замужем</td>\n",
       "      <td>0</td>\n",
       "      <td>F</td>\n",
       "      <td>сотрудник</td>\n",
       "      <td>0</td>\n",
       "      <td>112080.014102</td>\n",
       "      <td>приобретение автомобиля</td>\n",
       "    </tr>\n",
       "    <tr>\n",
       "      <th>2</th>\n",
       "      <td>0</td>\n",
       "      <td>-5623.422610</td>\n",
       "      <td>33</td>\n",
       "      <td>Среднее</td>\n",
       "      <td>1</td>\n",
       "      <td>женат / замужем</td>\n",
       "      <td>0</td>\n",
       "      <td>M</td>\n",
       "      <td>сотрудник</td>\n",
       "      <td>0</td>\n",
       "      <td>145885.952297</td>\n",
       "      <td>покупка жилья</td>\n",
       "    </tr>\n",
       "    <tr>\n",
       "      <th>3</th>\n",
       "      <td>3</td>\n",
       "      <td>-4124.747207</td>\n",
       "      <td>32</td>\n",
       "      <td>среднее</td>\n",
       "      <td>1</td>\n",
       "      <td>женат / замужем</td>\n",
       "      <td>0</td>\n",
       "      <td>M</td>\n",
       "      <td>сотрудник</td>\n",
       "      <td>0</td>\n",
       "      <td>267628.550329</td>\n",
       "      <td>дополнительное образование</td>\n",
       "    </tr>\n",
       "    <tr>\n",
       "      <th>4</th>\n",
       "      <td>0</td>\n",
       "      <td>340266.072047</td>\n",
       "      <td>53</td>\n",
       "      <td>среднее</td>\n",
       "      <td>1</td>\n",
       "      <td>гражданский брак</td>\n",
       "      <td>1</td>\n",
       "      <td>F</td>\n",
       "      <td>пенсионер</td>\n",
       "      <td>0</td>\n",
       "      <td>158616.077870</td>\n",
       "      <td>сыграть свадьбу</td>\n",
       "    </tr>\n",
       "  </tbody>\n",
       "</table>\n",
       "</div>"
      ],
      "text/plain": [
       "   children  days_employed  dob_years education  education_id  \\\n",
       "0         1   -8437.673028         42    высшее             0   \n",
       "1         1   -4024.803754         36   среднее             1   \n",
       "2         0   -5623.422610         33   Среднее             1   \n",
       "3         3   -4124.747207         32   среднее             1   \n",
       "4         0  340266.072047         53   среднее             1   \n",
       "\n",
       "      family_status  family_status_id gender income_type  debt   total_income  \\\n",
       "0   женат / замужем                 0      F   сотрудник     0  253875.639453   \n",
       "1   женат / замужем                 0      F   сотрудник     0  112080.014102   \n",
       "2   женат / замужем                 0      M   сотрудник     0  145885.952297   \n",
       "3   женат / замужем                 0      M   сотрудник     0  267628.550329   \n",
       "4  гражданский брак                 1      F   пенсионер     0  158616.077870   \n",
       "\n",
       "                      purpose  \n",
       "0               покупка жилья  \n",
       "1     приобретение автомобиля  \n",
       "2               покупка жилья  \n",
       "3  дополнительное образование  \n",
       "4             сыграть свадьбу  "
      ]
     },
     "execution_count": 2,
     "metadata": {},
     "output_type": "execute_result"
    }
   ],
   "source": [
    "data = pd.read_csv('./datasets/data.csv')\n",
    "data.head(5)"
   ]
  },
  {
   "cell_type": "code",
   "execution_count": 3,
   "metadata": {},
   "outputs": [
    {
     "name": "stdout",
     "output_type": "stream",
     "text": [
      "<class 'pandas.core.frame.DataFrame'>\n",
      "RangeIndex: 21525 entries, 0 to 21524\n",
      "Data columns (total 12 columns):\n",
      " #   Column            Non-Null Count  Dtype  \n",
      "---  ------            --------------  -----  \n",
      " 0   children          21525 non-null  int64  \n",
      " 1   days_employed     19351 non-null  float64\n",
      " 2   dob_years         21525 non-null  int64  \n",
      " 3   education         21525 non-null  object \n",
      " 4   education_id      21525 non-null  int64  \n",
      " 5   family_status     21525 non-null  object \n",
      " 6   family_status_id  21525 non-null  int64  \n",
      " 7   gender            21525 non-null  object \n",
      " 8   income_type       21525 non-null  object \n",
      " 9   debt              21525 non-null  int64  \n",
      " 10  total_income      19351 non-null  float64\n",
      " 11  purpose           21525 non-null  object \n",
      "dtypes: float64(2), int64(5), object(5)\n",
      "memory usage: 2.0+ MB\n"
     ]
    }
   ],
   "source": [
    "data.info()"
   ]
  },
  {
   "cell_type": "code",
   "execution_count": 4,
   "metadata": {},
   "outputs": [
    {
     "data": {
      "text/plain": [
       " 0     14149\n",
       " 1      4818\n",
       " 2      2055\n",
       " 3       330\n",
       " 20       76\n",
       "-1        47\n",
       " 4        41\n",
       " 5         9\n",
       "Name: children, dtype: int64"
      ]
     },
     "execution_count": 4,
     "metadata": {},
     "output_type": "execute_result"
    }
   ],
   "source": [
    "data.children.value_counts()"
   ]
  },
  {
   "cell_type": "code",
   "execution_count": 5,
   "metadata": {},
   "outputs": [
    {
     "data": {
      "text/plain": [
       "F      14236\n",
       "M       7288\n",
       "XNA        1\n",
       "Name: gender, dtype: int64"
      ]
     },
     "execution_count": 5,
     "metadata": {},
     "output_type": "execute_result"
    }
   ],
   "source": [
    "data.gender.value_counts()"
   ]
  },
  {
   "cell_type": "code",
   "execution_count": 6,
   "metadata": {},
   "outputs": [
    {
     "data": {
      "text/plain": [
       "(3445, 12)"
      ]
     },
     "execution_count": 6,
     "metadata": {},
     "output_type": "execute_result"
    }
   ],
   "source": [
    "data[data['days_employed'] >= 21900].shape"
   ]
  },
  {
   "cell_type": "code",
   "execution_count": 7,
   "metadata": {},
   "outputs": [
    {
     "data": {
      "text/plain": [
       "(15906, 12)"
      ]
     },
     "execution_count": 7,
     "metadata": {},
     "output_type": "execute_result"
    }
   ],
   "source": [
    "data[data['days_employed'] <= 0].shape"
   ]
  },
  {
   "cell_type": "code",
   "execution_count": 8,
   "metadata": {},
   "outputs": [
    {
     "data": {
      "text/plain": [
       "(101, 12)"
      ]
     },
     "execution_count": 8,
     "metadata": {},
     "output_type": "execute_result"
    }
   ],
   "source": [
    "data[data['dob_years'] == 0].shape"
   ]
  },
  {
   "cell_type": "code",
   "execution_count": 9,
   "metadata": {},
   "outputs": [
    {
     "data": {
      "text/plain": [
       "среднее                13750\n",
       "высшее                  4718\n",
       "СРЕДНЕЕ                  772\n",
       "Среднее                  711\n",
       "неоконченное высшее      668\n",
       "ВЫСШЕЕ                   274\n",
       "Высшее                   268\n",
       "начальное                250\n",
       "Неоконченное высшее       47\n",
       "НЕОКОНЧЕННОЕ ВЫСШЕЕ       29\n",
       "НАЧАЛЬНОЕ                 17\n",
       "Начальное                 15\n",
       "ученая степень             4\n",
       "УЧЕНАЯ СТЕПЕНЬ             1\n",
       "Ученая степень             1\n",
       "Name: education, dtype: int64"
      ]
     },
     "execution_count": 9,
     "metadata": {},
     "output_type": "execute_result"
    }
   ],
   "source": [
    "data.education.value_counts()"
   ]
  },
  {
   "cell_type": "code",
   "execution_count": 10,
   "metadata": {},
   "outputs": [
    {
     "data": {
      "text/plain": [
       "54"
      ]
     },
     "execution_count": 10,
     "metadata": {},
     "output_type": "execute_result"
    }
   ],
   "source": [
    "data.duplicated().sum()"
   ]
  },
  {
   "cell_type": "markdown",
   "metadata": {},
   "source": [
    "**Вывод**"
   ]
  },
  {
   "cell_type": "markdown",
   "metadata": {},
   "source": [
    "  - В столбце _children_ есть записи, как однозначно ошибочные ('-1' с количеством записей **47**), так и имеющие все признаки таковых ('20' с количеством записей **76**)\n",
    "  - В столбце _days_employed_:\n",
    "    - **15906** записей с отрицательным значением, что представляет собой более половины значений;\n",
    "    - **2174** записи со значением NaN (равно как и в _total_income_);\n",
    "    - **3445** записей имеют значение больше 21900 дней (60 лет по 365 дней в году), что является заведомо ошибочным;\n",
    "    - записи имеют тип данных float, что является не совсем практичным с точки зрения характера хранимых там данных.\n",
    "  - В столбце _dob_years_ присутствует **101** запись со значением '0', что является заведемой ошибкой в рамках конкретной задачи (\"младенец, получающий кредит\").\n",
    "  - В столбце _education_ записи идут с разным регистром, что усложняет оценку. Столбец _education_id_ никаких противоречий не вызывает, и является дублирующим для стобца _education_, имеющим числовое значение вместо строкового.\n",
    "  - Столбцы _family_status_ и _family_status_id_ - в точной аналогии со стобцами _education_\n",
    "  - Стобец _gender_ имеет одну запись нестандартную запись вида 'XNA'\n",
    "  - Стобцы _income_type_  и _debt_ не вызывают никаких противоречий\n",
    "  - количество строк дубликатов составляет **54**"
   ]
  },
  {
   "cell_type": "markdown",
   "metadata": {},
   "source": [
    "## Шаг 2. Предобработка данных"
   ]
  },
  {
   "cell_type": "markdown",
   "metadata": {},
   "source": [
    "### Обработка пропусков"
   ]
  },
  {
   "cell_type": "markdown",
   "metadata": {},
   "source": [
    "#### Приведение к общему виду"
   ]
  },
  {
   "cell_type": "markdown",
   "metadata": {},
   "source": [
    "Перед заполнением пропусков обработаем единичные ошибки и приведём таблицу к большему единообразию, в том числе:"
   ]
  },
  {
   "cell_type": "markdown",
   "metadata": {},
   "source": [
    "- Приведение строк к нижнему регистру"
   ]
  },
  {
   "cell_type": "code",
   "execution_count": 11,
   "metadata": {},
   "outputs": [],
   "source": [
    "data['education'] = data['education'].str.lower()\n",
    "data['family_status'] = data['family_status'].str.lower()"
   ]
  },
  {
   "cell_type": "markdown",
   "metadata": {},
   "source": [
    "- Замена значения XNA в стобце gender на наиболее часто встречающийся"
   ]
  },
  {
   "cell_type": "code",
   "execution_count": 12,
   "metadata": {},
   "outputs": [],
   "source": [
    "data.loc[data['gender'] == 'XNA', 'gender'] = 'F'"
   ]
  },
  {
   "cell_type": "markdown",
   "metadata": {},
   "source": [
    "- Замена отрицательного количества детей на 0"
   ]
  },
  {
   "cell_type": "code",
   "execution_count": 13,
   "metadata": {},
   "outputs": [],
   "source": [
    "data.loc[data['children'] < 0, 'children'] = 0"
   ]
  },
  {
   "cell_type": "markdown",
   "metadata": {},
   "source": [
    "#### Заполнение пропусков"
   ]
  },
  {
   "cell_type": "markdown",
   "metadata": {},
   "source": [
    "Заполнение пропусков (**2174** записи) и слишком больших значений (**3445**) в _days_employed_ произведём по принципу предположительного максимального рабочего стажа (начиная с 16 лет, 365 дней в году)."
   ]
  },
  {
   "cell_type": "code",
   "execution_count": 14,
   "metadata": {},
   "outputs": [],
   "source": [
    "data['days_employed'].fillna((data['dob_years']-16)*365, inplace=True)\n",
    "data.loc[data['days_employed'] >= 21900, 'days_employed'] = (data['dob_years']-16)*365"
   ]
  },
  {
   "cell_type": "markdown",
   "metadata": {},
   "source": [
    "Записи с отрицательным значением, ввиду их большого количества (***15906*** записей из **21525** всего, что составляет значительные 74% всех записей), преобразуем путём отбрасывания \"минуса\", т.е. берём модуль значения."
   ]
  },
  {
   "cell_type": "code",
   "execution_count": 15,
   "metadata": {},
   "outputs": [],
   "source": [
    "data.loc[data['days_employed'] < 0, 'days_employed'] = abs(data['days_employed'])"
   ]
  },
  {
   "cell_type": "code",
   "execution_count": 16,
   "metadata": {},
   "outputs": [
    {
     "data": {
      "text/plain": [
       "income_type\n",
       "безработный        131339.751676\n",
       "в декрете           53829.130729\n",
       "госслужащий        150447.935283\n",
       "компаньон          172357.950966\n",
       "пенсионер          118514.486412\n",
       "предприниматель    499163.144947\n",
       "сотрудник          142594.396847\n",
       "студент             98201.625314\n",
       "Name: total_income, dtype: float64"
      ]
     },
     "execution_count": 16,
     "metadata": {},
     "output_type": "execute_result"
    }
   ],
   "source": [
    "##Код ревьюера\n",
    "data_pension = data.copy()\n",
    "data_pension.groupby('income_type')['total_income'].median()"
   ]
  },
  {
   "cell_type": "markdown",
   "metadata": {},
   "source": [
    "Заполнение пропусков в _total_income_ выполняем с использования медианного значением по группам."
   ]
  },
  {
   "cell_type": "code",
   "execution_count": 17,
   "metadata": {
    "scrolled": true
   },
   "outputs": [],
   "source": [
    "data['total_income'] = data.groupby('income_type')['total_income'].transform(lambda x: x.fillna(x.median()))"
   ]
  },
  {
   "cell_type": "markdown",
   "metadata": {},
   "source": [
    "Проверка результата"
   ]
  },
  {
   "cell_type": "code",
   "execution_count": 18,
   "metadata": {
    "scrolled": true
   },
   "outputs": [
    {
     "name": "stdout",
     "output_type": "stream",
     "text": [
      "<class 'pandas.core.frame.DataFrame'>\n",
      "RangeIndex: 21525 entries, 0 to 21524\n",
      "Data columns (total 12 columns):\n",
      " #   Column            Non-Null Count  Dtype  \n",
      "---  ------            --------------  -----  \n",
      " 0   children          21525 non-null  int64  \n",
      " 1   days_employed     21525 non-null  float64\n",
      " 2   dob_years         21525 non-null  int64  \n",
      " 3   education         21525 non-null  object \n",
      " 4   education_id      21525 non-null  int64  \n",
      " 5   family_status     21525 non-null  object \n",
      " 6   family_status_id  21525 non-null  int64  \n",
      " 7   gender            21525 non-null  object \n",
      " 8   income_type       21525 non-null  object \n",
      " 9   debt              21525 non-null  int64  \n",
      " 10  total_income      21525 non-null  float64\n",
      " 11  purpose           21525 non-null  object \n",
      "dtypes: float64(2), int64(5), object(5)\n",
      "memory usage: 2.0+ MB\n"
     ]
    }
   ],
   "source": [
    "data.info()"
   ]
  },
  {
   "cell_type": "markdown",
   "metadata": {},
   "source": [
    "**Вывод**"
   ]
  },
  {
   "cell_type": "markdown",
   "metadata": {},
   "source": [
    "Пропуски в столбце _days_employed_ и \"странные\" значения были заполнены с учётом предположений, основанных на формальной логике. Отрицательные же значения можно предположить, как верные, но с ошибкой на уровне формирования базы, добавившей \"-\" к записям.\n",
    "Пропуски в стобце _total_income_ были заменены на медианные значения.\n",
    "\n",
    "Возможные причины появления данных пропусков:\n",
    "- пустые значения - ошибка ввода данных (человеческий фактор), или потеря данных (технологическая ошибка)\n",
    "- \"странные значения\" - также двояко: технологическая ошибка в случае ошибки программы, используемой для заполнения (передавала неверные результаты в результате ошибок программирования), человеческий фактор - при обработке подобных данных в программах типа Excel при переводе типа ячейки с дат на числовые значения, к примеру."
   ]
  },
  {
   "cell_type": "markdown",
   "metadata": {},
   "source": [
    "### Замена типа данных"
   ]
  },
  {
   "cell_type": "markdown",
   "metadata": {},
   "source": [
    "Повторная проверка типов данных столбцов _days_employed_ и _total_income_"
   ]
  },
  {
   "cell_type": "code",
   "execution_count": 19,
   "metadata": {},
   "outputs": [
    {
     "name": "stdout",
     "output_type": "stream",
     "text": [
      "Тип данных колонки days_employed: float64\n",
      "Тип данных колонки total_income: float64\n"
     ]
    }
   ],
   "source": [
    "print('Тип данных колонки days_employed:', data['days_employed'].dtype)\n",
    "print('Тип данных колонки total_income:', data['total_income'].dtype)"
   ]
  },
  {
   "cell_type": "markdown",
   "metadata": {},
   "source": [
    "Отброс малозначимых чисел после запятой с преобразование в целое."
   ]
  },
  {
   "cell_type": "code",
   "execution_count": 20,
   "metadata": {},
   "outputs": [],
   "source": [
    "data['days_employed'] = data['days_employed'].dropna().astype('int64')\n",
    "data['total_income'] = data['total_income'].dropna().astype('int64')"
   ]
  },
  {
   "cell_type": "markdown",
   "metadata": {},
   "source": [
    "Оценка результата"
   ]
  },
  {
   "cell_type": "code",
   "execution_count": 21,
   "metadata": {},
   "outputs": [
    {
     "name": "stdout",
     "output_type": "stream",
     "text": [
      "Тип данных колонки days_employed: int64\n",
      "Тип данных колонки total_income: int64\n"
     ]
    }
   ],
   "source": [
    "print('Тип данных колонки days_employed:', data['days_employed'].dtype)\n",
    "print('Тип данных колонки total_income:', data['total_income'].dtype)"
   ]
  },
  {
   "cell_type": "code",
   "execution_count": 22,
   "metadata": {},
   "outputs": [
    {
     "name": "stdout",
     "output_type": "stream",
     "text": [
      "<class 'pandas.core.frame.DataFrame'>\n",
      "RangeIndex: 21525 entries, 0 to 21524\n",
      "Data columns (total 12 columns):\n",
      " #   Column            Non-Null Count  Dtype \n",
      "---  ------            --------------  ----- \n",
      " 0   children          21525 non-null  int64 \n",
      " 1   days_employed     21525 non-null  int64 \n",
      " 2   dob_years         21525 non-null  int64 \n",
      " 3   education         21525 non-null  object\n",
      " 4   education_id      21525 non-null  int64 \n",
      " 5   family_status     21525 non-null  object\n",
      " 6   family_status_id  21525 non-null  int64 \n",
      " 7   gender            21525 non-null  object\n",
      " 8   income_type       21525 non-null  object\n",
      " 9   debt              21525 non-null  int64 \n",
      " 10  total_income      21525 non-null  int64 \n",
      " 11  purpose           21525 non-null  object\n",
      "dtypes: int64(7), object(5)\n",
      "memory usage: 2.0+ MB\n"
     ]
    }
   ],
   "source": [
    "data.info()"
   ]
  },
  {
   "cell_type": "markdown",
   "metadata": {},
   "source": [
    "**Вывод**"
   ]
  },
  {
   "cell_type": "markdown",
   "metadata": {},
   "source": [
    "Тип данных float64 в колонках _days_employed_ и _total_income_ был заменён на int64 методом ***astype()*** библиотеки Pandas, так как в суть данных, содержащихся в этих колонках представляют из себя дни и денежные единицы, которые можно округлить до целого без потерь для результатов анализа."
   ]
  },
  {
   "cell_type": "markdown",
   "metadata": {},
   "source": [
    "### Обработка дубликатов"
   ]
  },
  {
   "cell_type": "markdown",
   "metadata": {},
   "source": [
    "Оценим количество полных дубликатов с использованием функционала библиотеки Pandas"
   ]
  },
  {
   "cell_type": "code",
   "execution_count": 23,
   "metadata": {
    "scrolled": false
   },
   "outputs": [
    {
     "data": {
      "text/plain": [
       "71"
      ]
     },
     "execution_count": 23,
     "metadata": {},
     "output_type": "execute_result"
    }
   ],
   "source": [
    "data.duplicated().sum()"
   ]
  },
  {
   "cell_type": "markdown",
   "metadata": {},
   "source": [
    "Количество дубликоватов по сравнению с первоначальной оценкой выросло с 54 до 71, что является явным результатом наших предыдущих действий. Удалим их методом Pandas drop_duplicates() со сбросом индексов."
   ]
  },
  {
   "cell_type": "code",
   "execution_count": 24,
   "metadata": {},
   "outputs": [],
   "source": [
    "data = data.drop_duplicates().reset_index(drop = True)"
   ]
  },
  {
   "cell_type": "markdown",
   "metadata": {},
   "source": [
    "Проверка:"
   ]
  },
  {
   "cell_type": "code",
   "execution_count": 25,
   "metadata": {},
   "outputs": [
    {
     "data": {
      "text/plain": [
       "0"
      ]
     },
     "execution_count": 25,
     "metadata": {},
     "output_type": "execute_result"
    }
   ],
   "source": [
    "data.duplicated().sum()"
   ]
  },
  {
   "cell_type": "markdown",
   "metadata": {},
   "source": [
    "**Вывод**"
   ]
  },
  {
   "cell_type": "markdown",
   "metadata": {},
   "source": [
    "Полные дубликаты в количестве 71 штуки были удалены из таблицы. Причинами появления дубликатов кака правило является  ошибка, связанная с написанием"
   ]
  },
  {
   "cell_type": "markdown",
   "metadata": {},
   "source": [
    "### Лемматизация"
   ]
  },
  {
   "cell_type": "markdown",
   "metadata": {},
   "source": [
    "Загрузка библиотеки pymystem3 для лемматизации значений колонки _purpose_."
   ]
  },
  {
   "cell_type": "code",
   "execution_count": 26,
   "metadata": {},
   "outputs": [],
   "source": [
    "from pymystem3 import Mystem\n",
    "from collections import Counter\n",
    "\n",
    "m = Mystem()"
   ]
  },
  {
   "cell_type": "markdown",
   "metadata": {},
   "source": [
    "Необязательный шаг, получение списка ключевых слов для написания функции"
   ]
  },
  {
   "cell_type": "code",
   "execution_count": 27,
   "metadata": {
    "scrolled": true
   },
   "outputs": [
    {
     "name": "stdout",
     "output_type": "stream",
     "text": [
      "{'свадьба', 'покупка', 'приобретение', 'профильный', 'проведение', 'жилье', 'образование', 'с', 'со', 'получение', 'свой', 'жилой', 'семья', 'операция', 'подержанный', 'для', 'сдача', 'строительство', 'коммерческий', 'сделка', ' ', 'подержать', 'собственный', 'на', 'заниматься', 'недвижимость', '\\n', 'дополнительный', 'ремонт', 'сыграть', 'высокий', 'автомобиль'}\n"
     ]
    }
   ],
   "source": [
    "test_1 = set(data.purpose.unique().tolist())\n",
    "key_words = set()\n",
    "for word in test_1:\n",
    "    key_words.update(m.lemmatize(word))\n",
    "print(key_words)"
   ]
  },
  {
   "cell_type": "markdown",
   "metadata": {},
   "source": [
    "Функция ***purpose_checker*** для дальнейшей обработки таблицы"
   ]
  },
  {
   "cell_type": "code",
   "execution_count": 28,
   "metadata": {},
   "outputs": [],
   "source": [
    "def purpose_checker(row):\n",
    "    purpose_to_check = m.lemmatize(row['purpose'])\n",
    "    if 'свадьба' in purpose_to_check or 'сыграть' in purpose_to_check:\n",
    "        return 'wedding'\n",
    "    elif 'коммерческий' in purpose_to_check or 'сдача' in purpose_to_check: #новые строки взамен старых\n",
    "        return 'commercial'\n",
    "    elif 'жилье' in purpose_to_check or 'жилой' in purpose_to_check or 'недвижимость' in purpose_to_check: #новые строки взамен старых\n",
    "        return 'home'\n",
    "    elif 'автомобиль' in purpose_to_check:\n",
    "        return 'car'\n",
    "    elif 'образование' in purpose_to_check:\n",
    "        return 'study'\n",
    "    else:\n",
    "        return None  "
   ]
  },
  {
   "cell_type": "markdown",
   "metadata": {},
   "source": [
    "Применяем полученную функцию для обработки значений колонки *purpose*..."
   ]
  },
  {
   "cell_type": "code",
   "execution_count": 29,
   "metadata": {},
   "outputs": [],
   "source": [
    "data['purpose'] = data.apply(purpose_checker, axis=1)"
   ]
  },
  {
   "cell_type": "markdown",
   "metadata": {},
   "source": [
    "... и проверяем результат"
   ]
  },
  {
   "cell_type": "code",
   "execution_count": 30,
   "metadata": {
    "scrolled": true
   },
   "outputs": [
    {
     "data": {
      "text/plain": [
       "home          8849\n",
       "car           4306\n",
       "study         4013\n",
       "wedding       2324\n",
       "commercial    1962\n",
       "Name: purpose, dtype: int64"
      ]
     },
     "execution_count": 30,
     "metadata": {},
     "output_type": "execute_result"
    }
   ],
   "source": [
    "data.purpose.value_counts()"
   ]
  },
  {
   "cell_type": "markdown",
   "metadata": {},
   "source": [
    "Проверяем, не появилось ли новых дубликатов..."
   ]
  },
  {
   "cell_type": "code",
   "execution_count": 31,
   "metadata": {},
   "outputs": [
    {
     "data": {
      "text/plain": [
       "277"
      ]
     },
     "execution_count": 31,
     "metadata": {},
     "output_type": "execute_result"
    }
   ],
   "source": [
    "data.duplicated().sum()"
   ]
  },
  {
   "cell_type": "markdown",
   "metadata": {},
   "source": [
    "... и убираем их."
   ]
  },
  {
   "cell_type": "code",
   "execution_count": 32,
   "metadata": {},
   "outputs": [],
   "source": [
    "data = data.drop_duplicates().reset_index(drop = True)"
   ]
  },
  {
   "cell_type": "markdown",
   "metadata": {},
   "source": [
    "**Вывод**"
   ]
  },
  {
   "cell_type": "markdown",
   "metadata": {},
   "source": [
    "С использованием лемматизации, мы свели разные формулировки одной и той же задачи (цели кредита), к всего лишь пяти основным:\n",
    "- жильё\n",
    "- коммерческая недвижимость\n",
    "- движимое имущество (автомобиль)\n",
    "- образование\n",
    "- свадьба\n",
    "Также в результате подобной обраобтки мы получили ещё 277 дубликатов, которые так же были удалены."
   ]
  },
  {
   "cell_type": "markdown",
   "metadata": {},
   "source": [
    "### Категоризация данных"
   ]
  },
  {
   "cell_type": "markdown",
   "metadata": {},
   "source": [
    "Последняя не категоризованная часть таблицы - это возраст, а точнее деление на возрастные группы, в связи с чем, переизпользуем код из занятий, и добавим его с небольшими доработками (разный возраст выхода на пенсию)"
   ]
  },
  {
   "cell_type": "code",
   "execution_count": 33,
   "metadata": {},
   "outputs": [],
   "source": [
    "def age_group(row):\n",
    "    age = row['dob_years']\n",
    "    sex = row['gender']\n",
    "    if age < 17:\n",
    "        return 'children'\n",
    "    elif age < 22:\n",
    "        return 'student'\n",
    "    elif (age < 60 and sex == 'F') or (age < 65 and sex == 'M'):\n",
    "        return 'adult'\n",
    "    else:\n",
    "        return 'elder'"
   ]
  },
  {
   "cell_type": "markdown",
   "metadata": {},
   "source": [
    "Применяем функцию построчно, а результат добавляем в качестве новой колонки, смотрим на результат"
   ]
  },
  {
   "cell_type": "code",
   "execution_count": 34,
   "metadata": {},
   "outputs": [],
   "source": [
    "data['age_group'] = data.apply(age_group, axis=1)"
   ]
  },
  {
   "cell_type": "code",
   "execution_count": 35,
   "metadata": {},
   "outputs": [
    {
     "data": {
      "text/plain": [
       "adult       18810\n",
       "elder        2091\n",
       "student       176\n",
       "children      100\n",
       "Name: age_group, dtype: int64"
      ]
     },
     "execution_count": 35,
     "metadata": {},
     "output_type": "execute_result"
    }
   ],
   "source": [
    "data.age_group.value_counts()"
   ]
  },
  {
   "cell_type": "markdown",
   "metadata": {},
   "source": [
    "**Вывод**"
   ]
  },
  {
   "cell_type": "markdown",
   "metadata": {},
   "source": [
    "В результате этой категоризации мы смогли выделить группы людей по возрастам, которые необходимы для оценки кредитоспособности в будущем, и как основной результат, мы выяснили, что большая часть списка - взрослые люди, являющиеся основной надёжной клиентурой банка."
   ]
  },
  {
   "cell_type": "markdown",
   "metadata": {},
   "source": [
    "## Шаг 3. Ответы на вопросы"
   ]
  },
  {
   "cell_type": "markdown",
   "metadata": {},
   "source": [
    "- Есть ли зависимость между наличием детей и возвратом кредита в срок?"
   ]
  },
  {
   "cell_type": "markdown",
   "metadata": {},
   "source": [
    "Создаю урезанную копию основной таблицы с добавлением столбца `child_not_free` со значениями *True* и *False*, обозначающие есть ли дети у заёмщика."
   ]
  },
  {
   "cell_type": "code",
   "execution_count": 36,
   "metadata": {
    "scrolled": true
   },
   "outputs": [
    {
     "data": {
      "text/html": [
       "<div>\n",
       "<style scoped>\n",
       "    .dataframe tbody tr th:only-of-type {\n",
       "        vertical-align: middle;\n",
       "    }\n",
       "\n",
       "    .dataframe tbody tr th {\n",
       "        vertical-align: top;\n",
       "    }\n",
       "\n",
       "    .dataframe thead th {\n",
       "        text-align: right;\n",
       "    }\n",
       "</style>\n",
       "<table border=\"1\" class=\"dataframe\">\n",
       "  <thead>\n",
       "    <tr style=\"text-align: right;\">\n",
       "      <th></th>\n",
       "      <th>debt</th>\n",
       "      <th>children</th>\n",
       "      <th>family_status</th>\n",
       "      <th>purpose</th>\n",
       "      <th>total_income</th>\n",
       "      <th>child_not_free</th>\n",
       "    </tr>\n",
       "  </thead>\n",
       "  <tbody>\n",
       "    <tr>\n",
       "      <th>0</th>\n",
       "      <td>0</td>\n",
       "      <td>1</td>\n",
       "      <td>женат / замужем</td>\n",
       "      <td>home</td>\n",
       "      <td>253875</td>\n",
       "      <td>True</td>\n",
       "    </tr>\n",
       "    <tr>\n",
       "      <th>1</th>\n",
       "      <td>0</td>\n",
       "      <td>1</td>\n",
       "      <td>женат / замужем</td>\n",
       "      <td>car</td>\n",
       "      <td>112080</td>\n",
       "      <td>True</td>\n",
       "    </tr>\n",
       "    <tr>\n",
       "      <th>2</th>\n",
       "      <td>0</td>\n",
       "      <td>0</td>\n",
       "      <td>женат / замужем</td>\n",
       "      <td>home</td>\n",
       "      <td>145885</td>\n",
       "      <td>False</td>\n",
       "    </tr>\n",
       "    <tr>\n",
       "      <th>3</th>\n",
       "      <td>0</td>\n",
       "      <td>3</td>\n",
       "      <td>женат / замужем</td>\n",
       "      <td>study</td>\n",
       "      <td>267628</td>\n",
       "      <td>True</td>\n",
       "    </tr>\n",
       "    <tr>\n",
       "      <th>4</th>\n",
       "      <td>0</td>\n",
       "      <td>0</td>\n",
       "      <td>гражданский брак</td>\n",
       "      <td>wedding</td>\n",
       "      <td>158616</td>\n",
       "      <td>False</td>\n",
       "    </tr>\n",
       "  </tbody>\n",
       "</table>\n",
       "</div>"
      ],
      "text/plain": [
       "   debt  children     family_status  purpose  total_income  child_not_free\n",
       "0     0         1   женат / замужем     home        253875            True\n",
       "1     0         1   женат / замужем      car        112080            True\n",
       "2     0         0   женат / замужем     home        145885           False\n",
       "3     0         3   женат / замужем    study        267628            True\n",
       "4     0         0  гражданский брак  wedding        158616           False"
      ]
     },
     "execution_count": 36,
     "metadata": {},
     "output_type": "execute_result"
    }
   ],
   "source": [
    "data_shrink = data[['debt', 'children', 'family_status', 'purpose', 'total_income']].copy()\n",
    "data_shrink['child_not_free'] = data_shrink['children'].apply(lambda x : True if (x > 0) else False)\n",
    "data_shrink.head()"
   ]
  },
  {
   "cell_type": "markdown",
   "metadata": {},
   "source": [
    "Создаю сводную таблицу на основе урезанной, с количеством записей по каждому из вариантов наличия детей и долга и расчётным процентом не вернувших этот долг"
   ]
  },
  {
   "cell_type": "code",
   "execution_count": 37,
   "metadata": {},
   "outputs": [
    {
     "data": {
      "text/html": [
       "<style  type=\"text/css\" >\n",
       "</style><table id=\"T_1c1d4_\" ><thead>    <tr>        <th class=\"index_name level0\" >debt</th>        <th class=\"col_heading level0 col0\" >0</th>        <th class=\"col_heading level0 col1\" >1</th>        <th class=\"col_heading level0 col2\" >percentage_of_debt</th>    </tr>    <tr>        <th class=\"index_name level0\" >child_not_free</th>        <th class=\"blank\" ></th>        <th class=\"blank\" ></th>        <th class=\"blank\" ></th>    </tr></thead><tbody>\n",
       "                <tr>\n",
       "                        <th id=\"T_1c1d4_level0_row0\" class=\"row_heading level0 row0\" >False</th>\n",
       "                        <td id=\"T_1c1d4_row0_col0\" class=\"data row0 col0\" >12852</td>\n",
       "                        <td id=\"T_1c1d4_row0_col1\" class=\"data row0 col1\" >1062</td>\n",
       "                        <td id=\"T_1c1d4_row0_col2\" class=\"data row0 col2\" >7.6%</td>\n",
       "            </tr>\n",
       "            <tr>\n",
       "                        <th id=\"T_1c1d4_level0_row1\" class=\"row_heading level0 row1\" >True</th>\n",
       "                        <td id=\"T_1c1d4_row1_col0\" class=\"data row1 col0\" >6586</td>\n",
       "                        <td id=\"T_1c1d4_row1_col1\" class=\"data row1 col1\" >677</td>\n",
       "                        <td id=\"T_1c1d4_row1_col2\" class=\"data row1 col2\" >9.3%</td>\n",
       "            </tr>\n",
       "    </tbody></table>"
      ],
      "text/plain": [
       "<pandas.io.formats.style.Styler at 0x7ff398a0dfd0>"
      ]
     },
     "execution_count": 37,
     "metadata": {},
     "output_type": "execute_result"
    }
   ],
   "source": [
    "data_pivot_child = data_shrink.pivot_table(index='child_not_free', columns='debt', aggfunc='size')\n",
    "\n",
    "data_pivot_child['percentage_of_debt'] = ((data_pivot_child[1] / (data_pivot_child[0] + data_pivot_child[1])))\n",
    "\n",
    "data_pivot_child.style.format({'percentage_of_debt': \"{:.1%}\"})"
   ]
  },
  {
   "cell_type": "markdown",
   "metadata": {},
   "source": [
    "**Вывод**"
   ]
  },
  {
   "cell_type": "markdown",
   "metadata": {},
   "source": [
    "Процент должников с детьми, чуть выше, чем должников без детей, но в общем, в обоих случаях укладывается до 10% всех случаев."
   ]
  },
  {
   "cell_type": "markdown",
   "metadata": {},
   "source": [
    "- Есть ли зависимость между семейным положением и возвратом кредита в срок?"
   ]
  },
  {
   "cell_type": "markdown",
   "metadata": {},
   "source": [
    "Создаю сводную таблицу на основе урезанной из прошлого шага, с количеством записей по каждому из вариантов семейного положения, наличия долга и расчётным процентом не вернувших этот долг"
   ]
  },
  {
   "cell_type": "code",
   "execution_count": 38,
   "metadata": {},
   "outputs": [
    {
     "data": {
      "text/html": [
       "<style  type=\"text/css\" >\n",
       "</style><table id=\"T_671f3_\" ><thead>    <tr>        <th class=\"index_name level0\" >debt</th>        <th class=\"col_heading level0 col0\" >0</th>        <th class=\"col_heading level0 col1\" >1</th>        <th class=\"col_heading level0 col2\" >percentage_of_debt</th>    </tr>    <tr>        <th class=\"index_name level0\" >family_status</th>        <th class=\"blank\" ></th>        <th class=\"blank\" ></th>        <th class=\"blank\" ></th>    </tr></thead><tbody>\n",
       "                <tr>\n",
       "                        <th id=\"T_671f3_level0_row0\" class=\"row_heading level0 row0\" >в разводе</th>\n",
       "                        <td id=\"T_671f3_row0_col0\" class=\"data row0 col0\" >1108</td>\n",
       "                        <td id=\"T_671f3_row0_col1\" class=\"data row0 col1\" >85</td>\n",
       "                        <td id=\"T_671f3_row0_col2\" class=\"data row0 col2\" >7.1%</td>\n",
       "            </tr>\n",
       "            <tr>\n",
       "                        <th id=\"T_671f3_level0_row1\" class=\"row_heading level0 row1\" >вдовец / вдова</th>\n",
       "                        <td id=\"T_671f3_row1_col0\" class=\"data row1 col0\" >883</td>\n",
       "                        <td id=\"T_671f3_row1_col1\" class=\"data row1 col1\" >63</td>\n",
       "                        <td id=\"T_671f3_row1_col2\" class=\"data row1 col2\" >6.7%</td>\n",
       "            </tr>\n",
       "            <tr>\n",
       "                        <th id=\"T_671f3_level0_row2\" class=\"row_heading level0 row2\" >гражданский брак</th>\n",
       "                        <td id=\"T_671f3_row2_col0\" class=\"data row2 col0\" >3739</td>\n",
       "                        <td id=\"T_671f3_row2_col1\" class=\"data row2 col1\" >388</td>\n",
       "                        <td id=\"T_671f3_row2_col2\" class=\"data row2 col2\" >9.4%</td>\n",
       "            </tr>\n",
       "            <tr>\n",
       "                        <th id=\"T_671f3_level0_row3\" class=\"row_heading level0 row3\" >женат / замужем</th>\n",
       "                        <td id=\"T_671f3_row3_col0\" class=\"data row3 col0\" >11191</td>\n",
       "                        <td id=\"T_671f3_row3_col1\" class=\"data row3 col1\" >929</td>\n",
       "                        <td id=\"T_671f3_row3_col2\" class=\"data row3 col2\" >7.7%</td>\n",
       "            </tr>\n",
       "            <tr>\n",
       "                        <th id=\"T_671f3_level0_row4\" class=\"row_heading level0 row4\" >не женат / не замужем</th>\n",
       "                        <td id=\"T_671f3_row4_col0\" class=\"data row4 col0\" >2517</td>\n",
       "                        <td id=\"T_671f3_row4_col1\" class=\"data row4 col1\" >274</td>\n",
       "                        <td id=\"T_671f3_row4_col2\" class=\"data row4 col2\" >9.8%</td>\n",
       "            </tr>\n",
       "    </tbody></table>"
      ],
      "text/plain": [
       "<pandas.io.formats.style.Styler at 0x7ff398a0d970>"
      ]
     },
     "execution_count": 38,
     "metadata": {},
     "output_type": "execute_result"
    }
   ],
   "source": [
    "data_pivot_family = data_shrink.pivot_table(index='family_status', columns='debt', aggfunc='size')\n",
    "\n",
    "data_pivot_family['percentage_of_debt'] = ((data_pivot_family[1] / (data_pivot_family[0] + data_pivot_family[1])))\n",
    "\n",
    "data_pivot_family.style.format({'percentage_of_debt': \"{:.1%}\"})"
   ]
  },
  {
   "cell_type": "markdown",
   "metadata": {},
   "source": [
    "**Вывод**"
   ]
  },
  {
   "cell_type": "markdown",
   "metadata": {},
   "source": [
    "Наибольшее количество задолжников в соотвествии с их семейным положением находится в категориях \"гражданский брак\" и \"не в браке\", но даже в этом случае, общее количество задолжников не выбивается за 10% порог от общих невозвращённых вовремя кредитов"
   ]
  },
  {
   "cell_type": "markdown",
   "metadata": {},
   "source": [
    "- Есть ли зависимость между уровнем дохода и возвратом кредита в срок?"
   ]
  },
  {
   "cell_type": "markdown",
   "metadata": {},
   "source": [
    "Уровень дохода мы будем оценивать относительно 33-го и 66-го процентиля общих значений общего дохода `total_income`."
   ]
  },
  {
   "cell_type": "code",
   "execution_count": 39,
   "metadata": {
    "scrolled": true
   },
   "outputs": [
    {
     "name": "stdout",
     "output_type": "stream",
     "text": [
      "118514.0\n",
      "172357.0\n"
     ]
    }
   ],
   "source": [
    "quantile_low = data_shrink['total_income'].quantile([.33]).iloc[0]\n",
    "quantile_high = data_shrink['total_income'].quantile([.66]).iloc[0]\n",
    "print(quantile_low)\n",
    "print(quantile_high)"
   ]
  },
  {
   "cell_type": "markdown",
   "metadata": {},
   "source": [
    "Добавляем функцию для разделения на группы по значению дохода"
   ]
  },
  {
   "cell_type": "code",
   "execution_count": 40,
   "metadata": {},
   "outputs": [],
   "source": [
    "def income_group(row):\n",
    "    money = row['total_income']\n",
    "    if money >= quantile_high:\n",
    "        return 'rich'\n",
    "    elif money <= quantile_low:\n",
    "        return 'poor'\n",
    "    else:\n",
    "        return 'middle'"
   ]
  },
  {
   "cell_type": "markdown",
   "metadata": {},
   "source": [
    "Применяем её"
   ]
  },
  {
   "cell_type": "code",
   "execution_count": 41,
   "metadata": {},
   "outputs": [],
   "source": [
    "data_shrink['how_rich'] = data_shrink.apply(income_group, axis=1)"
   ]
  },
  {
   "cell_type": "markdown",
   "metadata": {},
   "source": [
    "Создаю сводную таблицу на основе урезанной с добавленной колонкой `how_rich`"
   ]
  },
  {
   "cell_type": "code",
   "execution_count": 42,
   "metadata": {},
   "outputs": [
    {
     "data": {
      "text/html": [
       "<style  type=\"text/css\" >\n",
       "</style><table id=\"T_e71df_\" ><thead>    <tr>        <th class=\"index_name level0\" >debt</th>        <th class=\"col_heading level0 col0\" >0</th>        <th class=\"col_heading level0 col1\" >1</th>        <th class=\"col_heading level0 col2\" >percentage_of_debt</th>    </tr>    <tr>        <th class=\"index_name level0\" >how_rich</th>        <th class=\"blank\" ></th>        <th class=\"blank\" ></th>        <th class=\"blank\" ></th>    </tr></thead><tbody>\n",
       "                <tr>\n",
       "                        <th id=\"T_e71df_level0_row0\" class=\"row_heading level0 row0\" >middle</th>\n",
       "                        <td id=\"T_e71df_row0_col0\" class=\"data row0 col0\" >6087</td>\n",
       "                        <td id=\"T_e71df_row0_col1\" class=\"data row0 col1\" >602</td>\n",
       "                        <td id=\"T_e71df_row0_col2\" class=\"data row0 col2\" >9.0%</td>\n",
       "            </tr>\n",
       "            <tr>\n",
       "                        <th id=\"T_e71df_level0_row1\" class=\"row_heading level0 row1\" >poor</th>\n",
       "                        <td id=\"T_e71df_row1_col0\" class=\"data row1 col0\" >6430</td>\n",
       "                        <td id=\"T_e71df_row1_col1\" class=\"data row1 col1\" >579</td>\n",
       "                        <td id=\"T_e71df_row1_col2\" class=\"data row1 col2\" >8.3%</td>\n",
       "            </tr>\n",
       "            <tr>\n",
       "                        <th id=\"T_e71df_level0_row2\" class=\"row_heading level0 row2\" >rich</th>\n",
       "                        <td id=\"T_e71df_row2_col0\" class=\"data row2 col0\" >6921</td>\n",
       "                        <td id=\"T_e71df_row2_col1\" class=\"data row2 col1\" >558</td>\n",
       "                        <td id=\"T_e71df_row2_col2\" class=\"data row2 col2\" >7.5%</td>\n",
       "            </tr>\n",
       "    </tbody></table>"
      ],
      "text/plain": [
       "<pandas.io.formats.style.Styler at 0x7ff399035790>"
      ]
     },
     "execution_count": 42,
     "metadata": {},
     "output_type": "execute_result"
    }
   ],
   "source": [
    "data_pivot_income = data_shrink.pivot_table(index='how_rich', columns='debt', aggfunc='size')\n",
    "\n",
    "data_pivot_income['percentage_of_debt'] = ((data_pivot_income[1] / (data_pivot_income[0] + data_pivot_income[1])))\n",
    "\n",
    "data_pivot_income.head().style.format({'percentage_of_debt': \"{:.1%}\"})"
   ]
  },
  {
   "cell_type": "markdown",
   "metadata": {},
   "source": [
    "**Вывод**"
   ]
  },
  {
   "cell_type": "markdown",
   "metadata": {},
   "source": [
    "Процент задолжников падает с ростом дохода, но общее количество задолжников также не выбивается за 10% порог от общих невозвращённых вовремя кредитов "
   ]
  },
  {
   "cell_type": "markdown",
   "metadata": {},
   "source": [
    "- Как разные цели кредита влияют на его возврат в срок?"
   ]
  },
  {
   "cell_type": "markdown",
   "metadata": {},
   "source": [
    "Создаю сводную таблицу на основе урезанной из прошлого шага, с количеством записей по каждому из вариантов целей кредита, наличия долга, и расчётным процентом не вернувших этот долг"
   ]
  },
  {
   "cell_type": "code",
   "execution_count": 43,
   "metadata": {},
   "outputs": [
    {
     "data": {
      "text/html": [
       "<style  type=\"text/css\" >\n",
       "</style><table id=\"T_6953d_\" ><thead>    <tr>        <th class=\"index_name level0\" >debt</th>        <th class=\"col_heading level0 col0\" >0</th>        <th class=\"col_heading level0 col1\" >1</th>        <th class=\"col_heading level0 col2\" >percentage_of_debt</th>    </tr>    <tr>        <th class=\"index_name level0\" >purpose</th>        <th class=\"blank\" ></th>        <th class=\"blank\" ></th>        <th class=\"blank\" ></th>    </tr></thead><tbody>\n",
       "                <tr>\n",
       "                        <th id=\"T_6953d_level0_row0\" class=\"row_heading level0 row0\" >car</th>\n",
       "                        <td id=\"T_6953d_row0_col0\" class=\"data row0 col0\" >3869</td>\n",
       "                        <td id=\"T_6953d_row0_col1\" class=\"data row0 col1\" >402</td>\n",
       "                        <td id=\"T_6953d_row0_col2\" class=\"data row0 col2\" >9.4%</td>\n",
       "            </tr>\n",
       "            <tr>\n",
       "                        <th id=\"T_6953d_level0_row1\" class=\"row_heading level0 row1\" >commercial</th>\n",
       "                        <td id=\"T_6953d_row1_col0\" class=\"data row1 col0\" >1808</td>\n",
       "                        <td id=\"T_6953d_row1_col1\" class=\"data row1 col1\" >151</td>\n",
       "                        <td id=\"T_6953d_row1_col2\" class=\"data row1 col2\" >7.7%</td>\n",
       "            </tr>\n",
       "            <tr>\n",
       "                        <th id=\"T_6953d_level0_row2\" class=\"row_heading level0 row2\" >home</th>\n",
       "                        <td id=\"T_6953d_row2_col0\" class=\"data row2 col0\" >8047</td>\n",
       "                        <td id=\"T_6953d_row2_col1\" class=\"data row2 col1\" >630</td>\n",
       "                        <td id=\"T_6953d_row2_col2\" class=\"data row2 col2\" >7.3%</td>\n",
       "            </tr>\n",
       "            <tr>\n",
       "                        <th id=\"T_6953d_level0_row3\" class=\"row_heading level0 row3\" >study</th>\n",
       "                        <td id=\"T_6953d_row3_col0\" class=\"data row3 col0\" >3594</td>\n",
       "                        <td id=\"T_6953d_row3_col1\" class=\"data row3 col1\" >370</td>\n",
       "                        <td id=\"T_6953d_row3_col2\" class=\"data row3 col2\" >9.3%</td>\n",
       "            </tr>\n",
       "            <tr>\n",
       "                        <th id=\"T_6953d_level0_row4\" class=\"row_heading level0 row4\" >wedding</th>\n",
       "                        <td id=\"T_6953d_row4_col0\" class=\"data row4 col0\" >2120</td>\n",
       "                        <td id=\"T_6953d_row4_col1\" class=\"data row4 col1\" >186</td>\n",
       "                        <td id=\"T_6953d_row4_col2\" class=\"data row4 col2\" >8.1%</td>\n",
       "            </tr>\n",
       "    </tbody></table>"
      ],
      "text/plain": [
       "<pandas.io.formats.style.Styler at 0x7ff37a4c6a90>"
      ]
     },
     "execution_count": 43,
     "metadata": {},
     "output_type": "execute_result"
    }
   ],
   "source": [
    "data_pivot_purpose = data_shrink.pivot_table(index='purpose', columns='debt', aggfunc='size')\n",
    "\n",
    "data_pivot_purpose['percentage_of_debt'] = ((data_pivot_purpose[1] / (data_pivot_purpose[0] + data_pivot_purpose[1])))\n",
    "\n",
    "data_pivot_purpose.style.format({'percentage_of_debt': \"{:.1%}\"})"
   ]
  },
  {
   "cell_type": "markdown",
   "metadata": {},
   "source": [
    "**Вывод**"
   ]
  },
  {
   "cell_type": "markdown",
   "metadata": {},
   "source": [
    "Наибольшее количество должников среди желающих купить новый автомобиль, и заняться обучением, наименьший же среди тех, кто решил купить дом, но опять же, менее 10% процентов от общего количества."
   ]
  },
  {
   "cell_type": "markdown",
   "metadata": {},
   "source": [
    "## Шаг 4. Общий вывод"
   ]
  },
  {
   "cell_type": "markdown",
   "metadata": {},
   "source": [
    "Как легко заметить, общее количество должников всегда достаточно стабильно, и составляет не более 10% от категории, что совпадает с общим количеством значений должников, составляющих 8.9% от всех учтённых записей.\n",
    "Семейное положение клиента, количество детей, его заработок и цели кредита влияют на факт погашения кредита в срок, но на значение, не превышающее среднее."
   ]
  }
 ],
 "metadata": {
  "kernelspec": {
   "display_name": "Python 3",
   "language": "python",
   "name": "python3"
  },
  "language_info": {
   "codemirror_mode": {
    "name": "ipython",
    "version": 3
   },
   "file_extension": ".py",
   "mimetype": "text/x-python",
   "name": "python",
   "nbconvert_exporter": "python",
   "pygments_lexer": "ipython3",
   "version": "3.8.10"
  },
  "toc": {
   "base_numbering": 1,
   "nav_menu": {},
   "number_sections": true,
   "sideBar": true,
   "skip_h1_title": true,
   "title_cell": "Table of Contents",
   "title_sidebar": "Contents",
   "toc_cell": false,
   "toc_position": {},
   "toc_section_display": true,
   "toc_window_display": false
  }
 },
 "nbformat": 4,
 "nbformat_minor": 2
}
