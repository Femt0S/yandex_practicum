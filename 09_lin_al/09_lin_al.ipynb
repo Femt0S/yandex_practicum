{
 "cells": [
  {
   "cell_type": "markdown",
   "metadata": {
    "toc": true
   },
   "source": [
    "<h1>Содержание<span class=\"tocSkip\"></span></h1>\n",
    "<div class=\"toc\"><ul class=\"toc-item\"><li><span><a href=\"#Загрузка-данных\" data-toc-modified-id=\"Загрузка-данных-1\"><span class=\"toc-item-num\">1&nbsp;&nbsp;</span>Загрузка данных</a></span></li><li><span><a href=\"#Умножение-матриц\" data-toc-modified-id=\"Умножение-матриц-2\"><span class=\"toc-item-num\">2&nbsp;&nbsp;</span>Умножение матриц</a></span></li><li><span><a href=\"#Алгоритм-преобразования\" data-toc-modified-id=\"Алгоритм-преобразования-3\"><span class=\"toc-item-num\">3&nbsp;&nbsp;</span>Алгоритм преобразования</a></span></li><li><span><a href=\"#Проверка-алгоритма\" data-toc-modified-id=\"Проверка-алгоритма-4\"><span class=\"toc-item-num\">4&nbsp;&nbsp;</span>Проверка алгоритма</a></span></li></ul></div>"
   ]
  },
  {
   "cell_type": "markdown",
   "metadata": {},
   "source": [
    "# Защита персональных данных клиентов"
   ]
  },
  {
   "cell_type": "markdown",
   "metadata": {},
   "source": [
    "Вам нужно защитить данные клиентов страховой компании «Хоть потоп». Разработайте такой метод преобразования данных, чтобы по ним было сложно восстановить персональную информацию. Обоснуйте корректность его работы.\n",
    "\n",
    "Нужно защитить данные, чтобы при преобразовании качество моделей машинного обучения не ухудшилось. Подбирать наилучшую модель не требуется."
   ]
  },
  {
   "cell_type": "markdown",
   "metadata": {},
   "source": [
    "## Загрузка данных"
   ]
  },
  {
   "cell_type": "markdown",
   "metadata": {},
   "source": [
    "Импорт библиотек"
   ]
  },
  {
   "cell_type": "code",
   "execution_count": 1,
   "metadata": {},
   "outputs": [],
   "source": [
    "import pandas as pd\n",
    "import numpy as np\n",
    "\n",
    "from sklearn.linear_model import LinearRegression\n",
    "from sklearn.model_selection import train_test_split"
   ]
  },
  {
   "cell_type": "markdown",
   "metadata": {},
   "source": [
    "Прочитаем файл данных в переменную"
   ]
  },
  {
   "cell_type": "code",
   "execution_count": 2,
   "metadata": {},
   "outputs": [],
   "source": [
    "data = pd.read_csv('.\\\\datasets\\\\insurance.csv',  sep=',')"
   ]
  },
  {
   "cell_type": "code",
   "execution_count": 3,
   "metadata": {},
   "outputs": [
    {
     "data": {
      "text/html": [
       "<div>\n",
       "<style scoped>\n",
       "    .dataframe tbody tr th:only-of-type {\n",
       "        vertical-align: middle;\n",
       "    }\n",
       "\n",
       "    .dataframe tbody tr th {\n",
       "        vertical-align: top;\n",
       "    }\n",
       "\n",
       "    .dataframe thead th {\n",
       "        text-align: right;\n",
       "    }\n",
       "</style>\n",
       "<table border=\"1\" class=\"dataframe\">\n",
       "  <thead>\n",
       "    <tr style=\"text-align: right;\">\n",
       "      <th></th>\n",
       "      <th>Пол</th>\n",
       "      <th>Возраст</th>\n",
       "      <th>Зарплата</th>\n",
       "      <th>Члены семьи</th>\n",
       "      <th>Страховые выплаты</th>\n",
       "    </tr>\n",
       "  </thead>\n",
       "  <tbody>\n",
       "    <tr>\n",
       "      <th>0</th>\n",
       "      <td>1</td>\n",
       "      <td>41.0</td>\n",
       "      <td>49600.0</td>\n",
       "      <td>1</td>\n",
       "      <td>0</td>\n",
       "    </tr>\n",
       "    <tr>\n",
       "      <th>1</th>\n",
       "      <td>0</td>\n",
       "      <td>46.0</td>\n",
       "      <td>38000.0</td>\n",
       "      <td>1</td>\n",
       "      <td>1</td>\n",
       "    </tr>\n",
       "    <tr>\n",
       "      <th>2</th>\n",
       "      <td>0</td>\n",
       "      <td>29.0</td>\n",
       "      <td>21000.0</td>\n",
       "      <td>0</td>\n",
       "      <td>0</td>\n",
       "    </tr>\n",
       "    <tr>\n",
       "      <th>3</th>\n",
       "      <td>0</td>\n",
       "      <td>21.0</td>\n",
       "      <td>41700.0</td>\n",
       "      <td>2</td>\n",
       "      <td>0</td>\n",
       "    </tr>\n",
       "    <tr>\n",
       "      <th>4</th>\n",
       "      <td>1</td>\n",
       "      <td>28.0</td>\n",
       "      <td>26100.0</td>\n",
       "      <td>0</td>\n",
       "      <td>0</td>\n",
       "    </tr>\n",
       "  </tbody>\n",
       "</table>\n",
       "</div>"
      ],
      "text/plain": [
       "   Пол  Возраст  Зарплата  Члены семьи  Страховые выплаты\n",
       "0    1     41.0   49600.0            1                  0\n",
       "1    0     46.0   38000.0            1                  1\n",
       "2    0     29.0   21000.0            0                  0\n",
       "3    0     21.0   41700.0            2                  0\n",
       "4    1     28.0   26100.0            0                  0"
      ]
     },
     "execution_count": 3,
     "metadata": {},
     "output_type": "execute_result"
    }
   ],
   "source": [
    "data.head()"
   ]
  },
  {
   "cell_type": "code",
   "execution_count": 4,
   "metadata": {},
   "outputs": [
    {
     "data": {
      "text/plain": [
       "0    4436\n",
       "1     423\n",
       "2     115\n",
       "3      18\n",
       "4       7\n",
       "5       1\n",
       "Name: Страховые выплаты, dtype: int64"
      ]
     },
     "execution_count": 4,
     "metadata": {},
     "output_type": "execute_result"
    }
   ],
   "source": [
    "data['Страховые выплаты'].value_counts()"
   ]
  },
  {
   "cell_type": "markdown",
   "metadata": {},
   "source": [
    "Разделим признаки и целевой признак на разные переменные:"
   ]
  },
  {
   "cell_type": "code",
   "execution_count": 5,
   "metadata": {},
   "outputs": [],
   "source": [
    "X = data.copy()\n",
    "y = X.pop('Страховые выплаты')"
   ]
  },
  {
   "cell_type": "markdown",
   "metadata": {},
   "source": [
    "**Вывод по пункту**:\n",
    "\n",
    "Данные загружены, предварительная обработка не требуется."
   ]
  },
  {
   "cell_type": "markdown",
   "metadata": {},
   "source": [
    "## Умножение матриц"
   ]
  },
  {
   "cell_type": "markdown",
   "metadata": {},
   "source": [
    "Для начала - приведём формулы линейной регрессии:\n",
    "\n",
    "Предсказания:\n",
    "\n",
    "$$\n",
    "a = Xw\n",
    "$$\n",
    "\n",
    "Задача обучения:\n",
    "\n",
    "$$\n",
    "w = \\arg\\min_w MSE(Xw, y)\n",
    "$$\n",
    "\n",
    "Формула обучения:\n",
    "\n",
    "$$\n",
    "w = (X^T X)^{-1} X^T y\n",
    "$$\n",
    "\n",
    ", где\n",
    "\n",
    "- $X$ — матрица признаков (нулевой столбец состоит из единиц)\n",
    "\n",
    "- $y$ — вектор целевого признака\n",
    "\n",
    "- $P$ — матрица, на которую умножаются признаки\n",
    "\n",
    "- $w$ — вектор весов линейной регрессии (нулевой элемент равен сдвигу)\n",
    "\n",
    "---"
   ]
  },
  {
   "cell_type": "markdown",
   "metadata": {},
   "source": [
    "Заданный в рамках данного задания вопрос: \"***Признаки умножают на обратимую матрицу. Изменится ли качество линейной регрессии?***\"\n",
    "\n",
    "В соответствии с самим определением обратимой матрицы, такая матрица может быть только ненулевой, квадратной матрицей."
   ]
  },
  {
   "cell_type": "markdown",
   "metadata": {},
   "source": [
    "К примеру, возьмём матрицу признаков *X* размерностью 𝑚×𝑛\n",
    "\n",
    "$$\n",
    "X_{m\\times n}\n",
    "$$\n",
    "\n",
    "Так как умножение матриц возможно, если ширина первой матрицы X (𝑚×𝑛) равна высоте второй матрицы P (𝑛×r), то в случае обратимой (квадратной) матрицы, размерность второй матрицы представляет собой матрицу:\n",
    "\n",
    "$$\n",
    "P_{n\\times n}\n",
    "$$"
   ]
  },
  {
   "cell_type": "markdown",
   "metadata": {},
   "source": [
    "Следовательно, предсказания будут равны, для изначального варианта:\n",
    "\n",
    "$$\n",
    "a = Xw\n",
    "$$\n",
    "и в случае умножения на обратимую матрицу **P**\n",
    "$$\n",
    "a' = XPw'\n",
    "$$"
   ]
  },
  {
   "cell_type": "markdown",
   "metadata": {},
   "source": [
    "Так как основной вопрос - изменится ли качество линейной регрессии, то очевидно, что результат предсказаний не должен измениться, т.е.:\n",
    "\n",
    "$$\n",
    "a = a'\n",
    "$$\n",
    "$$\n",
    "Xw = (X P)w'\n",
    "$$"
   ]
  },
  {
   "cell_type": "markdown",
   "metadata": {},
   "source": [
    "Векторы весов в этом случае будут составлять:\n",
    "\n",
    "$$\n",
    "w = (X^T X)^{-1} X^T y\n",
    "$$\n",
    "и\n",
    "$$\n",
    "w' = ((XP)^T (XP))^{-1} (XP)^T y\n",
    "$$"
   ]
  },
  {
   "cell_type": "markdown",
   "metadata": {},
   "source": [
    "Раскроем скобки в уравнении вектора весов ***w'***.\n",
    "\n",
    "Первым этапом раскроем скобки транспонирования произведения ($(AB)^T = B^T A^T$)"
   ]
  },
  {
   "cell_type": "markdown",
   "metadata": {},
   "source": [
    "$$\n",
    "w' = ((XP)^T (XP))^{-1} (XP)^T y = (P^T X^T X P)^{-1} P^T X^T y\n",
    "$$"
   ]
  },
  {
   "cell_type": "markdown",
   "metadata": {},
   "source": [
    "В соответствии со свойствами обратных матриц ($(AB)^{-1} = B^{-1} A^{-1}$), можно раскрыть и эти скобки, с учётом того, что обратная матрица от $X$ не может существовать, так как $X$ - прямоугольная, необратимая матрица: "
   ]
  },
  {
   "cell_type": "markdown",
   "metadata": {},
   "source": [
    "$$\n",
    "w' = (P^T X^T X P)^{-1} P^T X^T y = (X^T X P)^{-1} (P^T)^{-1} P^T X^T y = P^{-1}(X^T X)^{-1} (P^T)^{-1} P^T X^T y\n",
    "$$"
   ]
  },
  {
   "cell_type": "markdown",
   "metadata": {},
   "source": [
    "В результате данного раскрытия видны пары из прямых ($X$) и обратных ($X^{-1}$) матриц, произведение которых равно единичной матрице $E$ при условии обратимости данных матриц (так как в соответствии с условием матрица $P_{n\\times n}$ - квадратная, обратимая) - заменим данные произведения на единичные матрицы того же размера:"
   ]
  },
  {
   "cell_type": "markdown",
   "metadata": {},
   "source": [
    "$$\n",
    "w' = P^{-1}(X^T X)^{-1} (P^T)^{-1} P^T X^T y = P^{-1}(X^T X)^{-1} E X^T y = P^{-1}(X^T X)^{-1} X^T y\n",
    "$$"
   ]
  },
  {
   "cell_type": "markdown",
   "metadata": {},
   "source": [
    "Но как известно:\n",
    "\n",
    "$$\n",
    "(X^T X)^{-1} X^T y = w\n",
    "$$\n",
    ", следовательно, заменим:\n",
    "\n",
    "$$\n",
    "w' = P^{-1}(X^T X)^{-1} X^T y = P^{-1}w\n",
    "$$"
   ]
  },
  {
   "cell_type": "markdown",
   "metadata": {},
   "source": [
    "Подставим полученное значение вектора весов в формулу предсказания линейно регрессии:\n",
    "\n",
    "$$\n",
    "a' = XPw' = XPP^{-1}w\n",
    "$$"
   ]
  },
  {
   "cell_type": "markdown",
   "metadata": {},
   "source": [
    "Также заменим пару из прямых и обратных матриц $P$ на единичную:"
   ]
  },
  {
   "cell_type": "markdown",
   "metadata": {},
   "source": [
    "$$\n",
    "a' = XEw = Xw = a\n",
    "$$\n",
    ", следовательно:\n",
    "$$\n",
    "a' = a\n",
    "$$\n",
    "Значения предсказаний идентичны."
   ]
  },
  {
   "cell_type": "markdown",
   "metadata": {},
   "source": [
    "**Следовательно:**\n",
    "\n",
    "Результат предсказания **не изменился** при умножении признаков на обратимую матрицу, т.е. качество линейной регрессии не изменилось.\n",
    "\n",
    "---"
   ]
  },
  {
   "cell_type": "markdown",
   "metadata": {},
   "source": [
    "Для наглядности получим тот же результат на примере из прямоугольной матрицы исходных признаков, и квадратную обратимую матрицу, на которую производится умножение:"
   ]
  },
  {
   "cell_type": "code",
   "execution_count": 6,
   "metadata": {},
   "outputs": [],
   "source": [
    "A = np.array([\n",
    "    [0.2, 1.2, 8],\n",
    "    [0.5, 0.8, 6],\n",
    "    [0.8, 1.6, 8],\n",
    "    [1.2, 1.1, 7],\n",
    "    [1.8, 0.6, 3]])\n",
    "\n",
    "\n",
    "B = np.array([\n",
    "    [10, 5, 0],\n",
    "    [4, 3, 6],\n",
    "    [62, 1, 2]])"
   ]
  },
  {
   "cell_type": "markdown",
   "metadata": {},
   "source": [
    "Произведём те же вычисления, как с умножение на матрицу **B**, так и без неё.\n",
    "\n",
    "$$\n",
    "A(A^T A)^{-1} A^T = AB((AB)^T (AB))^{-1} (AB)^T\n",
    "$$"
   ]
  },
  {
   "cell_type": "code",
   "execution_count": 7,
   "metadata": {},
   "outputs": [],
   "source": [
    "w1 = A @ np.linalg.inv(A.T @ A) @ A.T\n",
    "w2 = A @ B @ np.linalg.inv(A.dot(B).T @ (A.dot(B))) @ A.dot(B).T"
   ]
  },
  {
   "cell_type": "markdown",
   "metadata": {},
   "source": [
    "И сравним методом `numpy.allclose()` две полученных матрицы"
   ]
  },
  {
   "cell_type": "code",
   "execution_count": 8,
   "metadata": {},
   "outputs": [
    {
     "data": {
      "text/plain": [
       "True"
      ]
     },
     "execution_count": 8,
     "metadata": {},
     "output_type": "execute_result"
    }
   ],
   "source": [
    "np.allclose(w1, w2)"
   ]
  },
  {
   "cell_type": "markdown",
   "metadata": {},
   "source": [
    "Что показывает идентичность решений, и **подтверждает** умозаключения."
   ]
  },
  {
   "cell_type": "markdown",
   "metadata": {},
   "source": [
    "## Алгоритм преобразования"
   ]
  },
  {
   "cell_type": "markdown",
   "metadata": {},
   "source": [
    "**Алгоритм**\n",
    "\n",
    "Исходя из выводов прошлого пункта, известно, что допустимо умножение матрицы исходных признаков на обратимую (т.е. квадратную, ненулевую) матрицу.\n",
    "\n",
    "Для получения квадратной матрицы нужной размерности есть два пути:\n",
    "- первый - генерация матрицы нужной размерности из случайных чисел методом `np.random.rand()`;\n",
    "- второй - произведение исходной матрицы на транспонированную исходную матрицу $(X^T X)$."
   ]
  },
  {
   "cell_type": "markdown",
   "metadata": {},
   "source": [
    "***Этапы применения алгоритма:***\n",
    "\n",
    "1. Создание квадратной матрицы \"ключа\" из случайных значений, размерами равной ширине матрицы исходных признаков;\n",
    "2. Проверка матрицы \"ключа\" на обратимость;\n",
    "3. Шифрование таблицы, содержашей исходные признаки с использование матрицы \"ключа\" путём умножения первого на второе;\n",
    "4. Обучение модели линейной регрессии;\n",
    "5. Шифрование таблицы, содержащей данные, подлежащие предсказанию;\n",
    "6. Предсказание модели линейной регрессии."
   ]
  },
  {
   "cell_type": "markdown",
   "metadata": {},
   "source": [
    "**Обоснование**\n",
    "\n",
    "Обоснование аналогично предыдущему:\n",
    "\n",
    "$$\n",
    "a = Xw\n",
    "$$\n",
    "\n",
    "$$\n",
    "w = (X^T X)^{-1} X^T y\n",
    "$$\n",
    "\n",
    "$$\n",
    "a = X (X^T X)^{-1} X^T y\n",
    "$$\n",
    "\n",
    "Домножим матрицу $X$ на некую квадратную ключ-матрицу $K_{n\\times n}$"
   ]
  },
  {
   "cell_type": "markdown",
   "metadata": {},
   "source": [
    "$$\n",
    "a_k = XK((XK)^T (XK))^{-1} (XK)^T y = (K^T X^T X K)^{-1} K^T X^T y = XK(X^T X K)^{-1} (K^T)^{-1} K^T X^T y = XKK^{-1}(X^T X)^{-1} (K^T)^{-1} K^T X^T y = XE(X^T X)^{-1} E X^T y = X(X^T X)^{-1}X^T y = a\n",
    "$$\n",
    "\n",
    "Что опять же приводит к тому же предсказанию $a$, что не вызывало сомнений."
   ]
  },
  {
   "cell_type": "markdown",
   "metadata": {},
   "source": [
    "## Проверка алгоритма"
   ]
  },
  {
   "cell_type": "markdown",
   "metadata": {},
   "source": [
    "***Этапы проверки работы алгоритма:***\n",
    "\n",
    "1. Разделение данных на тренировочную и тестовые выборки;\n",
    "2. Обучение модели на тренировочных и получение предсказаний на тестовых выборках;\n",
    "3. Применение алгоритма к этим выборкам (см. раздел 3) с получнием предсказания на зашифрованной тестовой выборке;\n",
    "4. Сравнение метрик качества $R^2$ в обоих предсказаниях."
   ]
  },
  {
   "cell_type": "markdown",
   "metadata": {},
   "source": [
    "Для начала разделим данные на разные выборки для проверки качества модели:"
   ]
  },
  {
   "cell_type": "code",
   "execution_count": 9,
   "metadata": {},
   "outputs": [],
   "source": [
    "X_train, X_test, y_train, y_test = train_test_split(X, y,\n",
    "                                                    test_size = 0.25,\n",
    "                                                    random_state=13)"
   ]
  },
  {
   "cell_type": "markdown",
   "metadata": {},
   "source": [
    "Создадим квадратную ключ-матрицу, размерами равную ширине исходной матрицы признаков: "
   ]
  },
  {
   "cell_type": "code",
   "execution_count": 10,
   "metadata": {},
   "outputs": [],
   "source": [
    "key_mx = np.random.rand(X.shape[1],X.shape[1])"
   ]
  },
  {
   "cell_type": "markdown",
   "metadata": {},
   "source": [
    "Так как даже квадратная матрица может быть необратима, выполним дополнительную проверку на обратимость - инвертируем её и проверим на наличие ошибки `LinAlgError`."
   ]
  },
  {
   "cell_type": "code",
   "execution_count": 11,
   "metadata": {},
   "outputs": [],
   "source": [
    "while True:\n",
    "    try:\n",
    "        np.linalg.inv(key_mx)\n",
    "        break\n",
    "    except np.linalg.LinAlgError:\n",
    "        print(\"The Matrix has you. Try again.\")\n",
    "        key_mx = np.random.rand(X.shape[1],X.shape[1])"
   ]
  },
  {
   "cell_type": "markdown",
   "metadata": {},
   "source": [
    "Выведем полученную ключ-матрицу на экран:"
   ]
  },
  {
   "cell_type": "code",
   "execution_count": 12,
   "metadata": {},
   "outputs": [
    {
     "name": "stdout",
     "output_type": "stream",
     "text": [
      "\"Ключ\"-матрица\n",
      "===============================================\n",
      "[[0.79350095 0.30109809 0.7625532  0.02262444]\n",
      " [0.82759327 0.1014893  0.87504892 0.30629033]\n",
      " [0.8819607  0.70666995 0.74639868 0.3345622 ]\n",
      " [0.47134411 0.61430795 0.17378467 0.00664123]]\n",
      "===============================================\n"
     ]
    }
   ],
   "source": [
    "print('\"Ключ\"-матрица')\n",
    "print('===============================================')\n",
    "print(key_mx)\n",
    "print('===============================================')"
   ]
  },
  {
   "cell_type": "markdown",
   "metadata": {},
   "source": [
    "Протестируем данный вид сокрытия данных:\n",
    "\n",
    "Матрица **до**"
   ]
  },
  {
   "cell_type": "code",
   "execution_count": 13,
   "metadata": {},
   "outputs": [
    {
     "data": {
      "text/html": [
       "<div>\n",
       "<style scoped>\n",
       "    .dataframe tbody tr th:only-of-type {\n",
       "        vertical-align: middle;\n",
       "    }\n",
       "\n",
       "    .dataframe tbody tr th {\n",
       "        vertical-align: top;\n",
       "    }\n",
       "\n",
       "    .dataframe thead th {\n",
       "        text-align: right;\n",
       "    }\n",
       "</style>\n",
       "<table border=\"1\" class=\"dataframe\">\n",
       "  <thead>\n",
       "    <tr style=\"text-align: right;\">\n",
       "      <th></th>\n",
       "      <th>Пол</th>\n",
       "      <th>Возраст</th>\n",
       "      <th>Зарплата</th>\n",
       "      <th>Члены семьи</th>\n",
       "    </tr>\n",
       "  </thead>\n",
       "  <tbody>\n",
       "    <tr>\n",
       "      <th>1674</th>\n",
       "      <td>0</td>\n",
       "      <td>46.0</td>\n",
       "      <td>61800.0</td>\n",
       "      <td>1</td>\n",
       "    </tr>\n",
       "    <tr>\n",
       "      <th>4578</th>\n",
       "      <td>0</td>\n",
       "      <td>19.0</td>\n",
       "      <td>40800.0</td>\n",
       "      <td>0</td>\n",
       "    </tr>\n",
       "    <tr>\n",
       "      <th>3116</th>\n",
       "      <td>1</td>\n",
       "      <td>30.0</td>\n",
       "      <td>60900.0</td>\n",
       "      <td>2</td>\n",
       "    </tr>\n",
       "    <tr>\n",
       "      <th>585</th>\n",
       "      <td>1</td>\n",
       "      <td>45.0</td>\n",
       "      <td>54200.0</td>\n",
       "      <td>0</td>\n",
       "    </tr>\n",
       "    <tr>\n",
       "      <th>3882</th>\n",
       "      <td>1</td>\n",
       "      <td>38.0</td>\n",
       "      <td>50700.0</td>\n",
       "      <td>1</td>\n",
       "    </tr>\n",
       "  </tbody>\n",
       "</table>\n",
       "</div>"
      ],
      "text/plain": [
       "      Пол  Возраст  Зарплата  Члены семьи\n",
       "1674    0     46.0   61800.0            1\n",
       "4578    0     19.0   40800.0            0\n",
       "3116    1     30.0   60900.0            2\n",
       "585     1     45.0   54200.0            0\n",
       "3882    1     38.0   50700.0            1"
      ]
     },
     "execution_count": 13,
     "metadata": {},
     "output_type": "execute_result"
    }
   ],
   "source": [
    "X_train.head()"
   ]
  },
  {
   "cell_type": "markdown",
   "metadata": {},
   "source": [
    "и матрица **после** умножения на ключ:"
   ]
  },
  {
   "cell_type": "code",
   "execution_count": 14,
   "metadata": {},
   "outputs": [
    {
     "data": {
      "text/html": [
       "<div>\n",
       "<style scoped>\n",
       "    .dataframe tbody tr th:only-of-type {\n",
       "        vertical-align: middle;\n",
       "    }\n",
       "\n",
       "    .dataframe tbody tr th {\n",
       "        vertical-align: top;\n",
       "    }\n",
       "\n",
       "    .dataframe thead th {\n",
       "        text-align: right;\n",
       "    }\n",
       "</style>\n",
       "<table border=\"1\" class=\"dataframe\">\n",
       "  <thead>\n",
       "    <tr style=\"text-align: right;\">\n",
       "      <th></th>\n",
       "      <th>0</th>\n",
       "      <th>1</th>\n",
       "      <th>2</th>\n",
       "      <th>3</th>\n",
       "    </tr>\n",
       "  </thead>\n",
       "  <tbody>\n",
       "    <tr>\n",
       "      <th>1674</th>\n",
       "      <td>54543.712011</td>\n",
       "      <td>43677.485984</td>\n",
       "      <td>46167.864661</td>\n",
       "      <td>20690.040015</td>\n",
       "    </tr>\n",
       "    <tr>\n",
       "      <th>4578</th>\n",
       "      <td>35999.720909</td>\n",
       "      <td>28834.062427</td>\n",
       "      <td>30469.692207</td>\n",
       "      <td>13655.957315</td>\n",
       "    </tr>\n",
       "    <tr>\n",
       "      <th>3116</th>\n",
       "      <td>53737.970732</td>\n",
       "      <td>43040.774603</td>\n",
       "      <td>45483.041401</td>\n",
       "      <td>20384.062655</td>\n",
       "    </tr>\n",
       "    <tr>\n",
       "      <th>585</th>\n",
       "      <td>47840.305240</td>\n",
       "      <td>38306.379633</td>\n",
       "      <td>40494.948387</td>\n",
       "      <td>18147.076981</td>\n",
       "    </tr>\n",
       "    <tr>\n",
       "      <th>3882</th>\n",
       "      <td>44748.120975</td>\n",
       "      <td>35832.938676</td>\n",
       "      <td>37876.601438</td>\n",
       "      <td>16973.971887</td>\n",
       "    </tr>\n",
       "  </tbody>\n",
       "</table>\n",
       "</div>"
      ],
      "text/plain": [
       "                 0             1             2             3\n",
       "1674  54543.712011  43677.485984  46167.864661  20690.040015\n",
       "4578  35999.720909  28834.062427  30469.692207  13655.957315\n",
       "3116  53737.970732  43040.774603  45483.041401  20384.062655\n",
       "585   47840.305240  38306.379633  40494.948387  18147.076981\n",
       "3882  44748.120975  35832.938676  37876.601438  16973.971887"
      ]
     },
     "execution_count": 14,
     "metadata": {},
     "output_type": "execute_result"
    }
   ],
   "source": [
    "X_train_crypt = X_train @ key_mx\n",
    "X_train_crypt.head()"
   ]
  },
  {
   "cell_type": "markdown",
   "metadata": {},
   "source": [
    "**Результат** - **достигнут**, данные нераспознаваемы, отсутствуют даже названия отдельных признаков.\n",
    "\n",
    "Теперь протестируем работу данного способа шифрования на моделирование с использованием логистической регрессии.\n",
    "Первым этапом проверим метрику $R^2$ на необработанных данных. (Отдельный вызов функции `r2_score()` не требуется, так как реализован в методе `LinearRegression.score()`)"
   ]
  },
  {
   "cell_type": "code",
   "execution_count": 15,
   "metadata": {},
   "outputs": [
    {
     "name": "stdout",
     "output_type": "stream",
     "text": [
      "Метрика R2 на необработанных данных: 0.43994910649131136\n"
     ]
    }
   ],
   "source": [
    "model_normal = LinearRegression()\n",
    "model_normal.fit(X_train, y_train)\n",
    "\n",
    "print('Метрика R2 на необработанных данных:', model_normal.score(X_test, y_test))"
   ]
  },
  {
   "cell_type": "markdown",
   "metadata": {},
   "source": [
    "Для верного результата, тестовую выборку необходимо подвергнуть той же самой операции умножения на ключ-матрицу:"
   ]
  },
  {
   "cell_type": "code",
   "execution_count": 16,
   "metadata": {},
   "outputs": [],
   "source": [
    "X_test_crypt = X_test @ key_mx"
   ]
  },
  {
   "cell_type": "markdown",
   "metadata": {},
   "source": [
    "И проверим модель на зашифрованных данных:"
   ]
  },
  {
   "cell_type": "code",
   "execution_count": 17,
   "metadata": {},
   "outputs": [
    {
     "name": "stdout",
     "output_type": "stream",
     "text": [
      "Метрика R2 на зашифрованных данных: 0.4399491064900949\n"
     ]
    }
   ],
   "source": [
    "model_encrypted = LinearRegression()\n",
    "model_encrypted.fit(X_train_crypt, y_train)\n",
    "\n",
    "print('Метрика R2 на зашифрованных данных:', model_encrypted.score(X_test_crypt, y_test))"
   ]
  },
  {
   "cell_type": "markdown",
   "metadata": {},
   "source": [
    "Т.е. модель продолжает выполнять свою работу несмотря на подобные изменения в данных. Проверим обратимость данного алгоритма, умножив зашифрованную таблицу на матрицу, обратную к ключ-матрице."
   ]
  },
  {
   "cell_type": "code",
   "execution_count": 18,
   "metadata": {},
   "outputs": [
    {
     "data": {
      "text/html": [
       "<div>\n",
       "<style scoped>\n",
       "    .dataframe tbody tr th:only-of-type {\n",
       "        vertical-align: middle;\n",
       "    }\n",
       "\n",
       "    .dataframe tbody tr th {\n",
       "        vertical-align: top;\n",
       "    }\n",
       "\n",
       "    .dataframe thead th {\n",
       "        text-align: right;\n",
       "    }\n",
       "</style>\n",
       "<table border=\"1\" class=\"dataframe\">\n",
       "  <thead>\n",
       "    <tr style=\"text-align: right;\">\n",
       "      <th></th>\n",
       "      <th>0</th>\n",
       "      <th>1</th>\n",
       "      <th>2</th>\n",
       "      <th>3</th>\n",
       "    </tr>\n",
       "  </thead>\n",
       "  <tbody>\n",
       "    <tr>\n",
       "      <th>1674</th>\n",
       "      <td>-4.000488e-11</td>\n",
       "      <td>46.0</td>\n",
       "      <td>61800.0</td>\n",
       "      <td>1.000000e+00</td>\n",
       "    </tr>\n",
       "    <tr>\n",
       "      <th>4578</th>\n",
       "      <td>-1.617069e-11</td>\n",
       "      <td>19.0</td>\n",
       "      <td>40800.0</td>\n",
       "      <td>2.841817e-11</td>\n",
       "    </tr>\n",
       "    <tr>\n",
       "      <th>3116</th>\n",
       "      <td>1.000000e+00</td>\n",
       "      <td>30.0</td>\n",
       "      <td>60900.0</td>\n",
       "      <td>2.000000e+00</td>\n",
       "    </tr>\n",
       "    <tr>\n",
       "      <th>585</th>\n",
       "      <td>1.000000e+00</td>\n",
       "      <td>45.0</td>\n",
       "      <td>54200.0</td>\n",
       "      <td>-5.105676e-11</td>\n",
       "    </tr>\n",
       "    <tr>\n",
       "      <th>3882</th>\n",
       "      <td>1.000000e+00</td>\n",
       "      <td>38.0</td>\n",
       "      <td>50700.0</td>\n",
       "      <td>1.000000e+00</td>\n",
       "    </tr>\n",
       "  </tbody>\n",
       "</table>\n",
       "</div>"
      ],
      "text/plain": [
       "                 0     1        2             3\n",
       "1674 -4.000488e-11  46.0  61800.0  1.000000e+00\n",
       "4578 -1.617069e-11  19.0  40800.0  2.841817e-11\n",
       "3116  1.000000e+00  30.0  60900.0  2.000000e+00\n",
       "585   1.000000e+00  45.0  54200.0 -5.105676e-11\n",
       "3882  1.000000e+00  38.0  50700.0  1.000000e+00"
      ]
     },
     "execution_count": 18,
     "metadata": {},
     "output_type": "execute_result"
    }
   ],
   "source": [
    "X_train_decrypt = X_train_crypt @ np.linalg.inv(key_mx)\n",
    "X_train_decrypt.head()"
   ]
  },
  {
   "cell_type": "markdown",
   "metadata": {},
   "source": [
    "Визуально видно, что данные восстановились в почти полном объёме (утеряны лишь названия столбцов dataframe), что подтверждается и проверкой `numpy.allclose()`:"
   ]
  },
  {
   "cell_type": "code",
   "execution_count": 19,
   "metadata": {},
   "outputs": [
    {
     "data": {
      "text/plain": [
       "True"
      ]
     },
     "execution_count": 19,
     "metadata": {},
     "output_type": "execute_result"
    }
   ],
   "source": [
    "np.allclose(X_train, X_train_decrypt)"
   ]
  },
  {
   "cell_type": "markdown",
   "metadata": {},
   "source": [
    "**Вывод**\n",
    "\n",
    "Данный алгоритм шифрования выполняется свою работу с полным сокрытием персональных данных, не оказывая влияния на качество работы модели линейной регрессии.\n",
    "\n",
    "Основной недостаток - данный алгоритм можно охарактеризовать как классическое шифрование, т.е. обратимое действие, данные можно восстановить с помощью ключа. Также данный ключ необходимо хранить, как обязательную часть по подготовке данных к работе модели."
   ]
  }
 ],
 "metadata": {
  "ExecuteTimeLog": [
   {
    "duration": 724,
    "start_time": "2021-08-19T10:18:10.299Z"
   },
   {
    "duration": 20,
    "start_time": "2021-08-19T10:21:29.229Z"
   },
   {
    "duration": 23,
    "start_time": "2021-08-19T10:21:35.093Z"
   },
   {
    "duration": 13,
    "start_time": "2021-08-19T10:22:52.588Z"
   },
   {
    "duration": 779,
    "start_time": "2021-08-19T10:24:02.321Z"
   },
   {
    "duration": 417,
    "start_time": "2021-08-19T10:25:21.603Z"
   },
   {
    "duration": 10,
    "start_time": "2021-08-19T10:25:59.456Z"
   },
   {
    "duration": 2243,
    "start_time": "2021-08-19T10:28:26.042Z"
   },
   {
    "duration": 8,
    "start_time": "2021-08-19T10:28:39.039Z"
   },
   {
    "duration": 25,
    "start_time": "2021-08-19T10:28:43.911Z"
   },
   {
    "duration": 7,
    "start_time": "2021-08-19T10:28:46.335Z"
   },
   {
    "duration": 282,
    "start_time": "2021-08-19T10:28:51.535Z"
   },
   {
    "duration": 516,
    "start_time": "2021-08-19T10:30:24.395Z"
   },
   {
    "duration": 270,
    "start_time": "2021-08-19T10:30:31.024Z"
   },
   {
    "duration": 8,
    "start_time": "2021-08-19T10:30:43.411Z"
   },
   {
    "duration": 326,
    "start_time": "2021-08-19T10:30:48.767Z"
   },
   {
    "duration": 7,
    "start_time": "2021-08-19T10:30:51.931Z"
   },
   {
    "duration": 117,
    "start_time": "2021-08-19T10:30:59.855Z"
   },
   {
    "duration": 506,
    "start_time": "2021-08-19T10:31:03.307Z"
   },
   {
    "duration": 429,
    "start_time": "2021-08-19T10:33:32.825Z"
   },
   {
    "duration": 6,
    "start_time": "2021-08-19T10:33:42.348Z"
   },
   {
    "duration": 14,
    "start_time": "2021-08-19T10:34:12.959Z"
   },
   {
    "duration": 316,
    "start_time": "2021-08-19T10:34:53.322Z"
   },
   {
    "duration": 5,
    "start_time": "2021-08-19T10:35:21.961Z"
   },
   {
    "duration": 6,
    "start_time": "2021-08-19T10:35:34.501Z"
   },
   {
    "duration": 457,
    "start_time": "2021-08-19T10:35:42.012Z"
   },
   {
    "duration": 8,
    "start_time": "2021-08-19T10:35:47.075Z"
   },
   {
    "duration": 7,
    "start_time": "2021-08-19T10:35:57.676Z"
   },
   {
    "duration": 15,
    "start_time": "2021-08-19T10:36:03.625Z"
   },
   {
    "duration": 16,
    "start_time": "2021-08-19T10:36:07.185Z"
   },
   {
    "duration": 12,
    "start_time": "2021-08-19T10:36:44.069Z"
   },
   {
    "duration": 6,
    "start_time": "2021-08-19T10:36:48.849Z"
   },
   {
    "duration": 34,
    "start_time": "2021-08-19T10:37:41.989Z"
   },
   {
    "duration": 23,
    "start_time": "2021-08-19T10:38:12.870Z"
   },
   {
    "duration": 9,
    "start_time": "2021-08-19T10:38:43.356Z"
   },
   {
    "duration": 19,
    "start_time": "2021-08-19T10:38:49.185Z"
   },
   {
    "duration": 4,
    "start_time": "2021-08-19T10:39:11.250Z"
   },
   {
    "duration": 11,
    "start_time": "2021-08-19T10:39:27.319Z"
   },
   {
    "duration": 4,
    "start_time": "2021-08-19T10:40:16.838Z"
   },
   {
    "duration": 308,
    "start_time": "2021-08-19T10:40:59.995Z"
   },
   {
    "duration": 1340,
    "start_time": "2021-08-19T10:41:03.927Z"
   },
   {
    "duration": 81,
    "start_time": "2021-08-19T10:41:10.487Z"
   },
   {
    "duration": 23,
    "start_time": "2021-08-19T10:41:13.005Z"
   },
   {
    "duration": 16,
    "start_time": "2021-08-19T10:41:32.149Z"
   },
   {
    "duration": 71,
    "start_time": "2021-08-19T10:42:23.293Z"
   },
   {
    "duration": 23,
    "start_time": "2021-08-19T10:42:42.078Z"
   },
   {
    "duration": 14,
    "start_time": "2021-08-19T10:43:21.928Z"
   },
   {
    "duration": 10,
    "start_time": "2021-08-19T10:43:34.261Z"
   },
   {
    "duration": 318,
    "start_time": "2021-08-19T10:43:48.562Z"
   },
   {
    "duration": 118,
    "start_time": "2021-08-19T10:43:55.961Z"
   },
   {
    "duration": -88,
    "start_time": "2021-08-19T10:44:43.021Z"
   },
   {
    "duration": 487,
    "start_time": "2021-08-19T10:44:45.523Z"
   },
   {
    "duration": 22251,
    "start_time": "2021-08-19T10:45:12.787Z"
   },
   {
    "duration": 521,
    "start_time": "2021-08-19T10:45:50.651Z"
   },
   {
    "duration": 572,
    "start_time": "2021-08-19T10:46:06.905Z"
   },
   {
    "duration": 556,
    "start_time": "2021-08-19T10:46:11.705Z"
   },
   {
    "duration": 11,
    "start_time": "2021-08-19T10:46:25.337Z"
   },
   {
    "duration": 1692,
    "start_time": "2021-08-22T10:48:31.038Z"
   },
   {
    "duration": 22,
    "start_time": "2021-08-22T10:48:32.733Z"
   },
   {
    "duration": 30,
    "start_time": "2021-08-22T10:48:32.761Z"
   },
   {
    "duration": 10,
    "start_time": "2021-08-22T10:48:32.793Z"
   },
   {
    "duration": 9,
    "start_time": "2021-08-22T10:48:32.805Z"
   },
   {
    "duration": 72,
    "start_time": "2021-08-22T10:48:32.817Z"
   },
   {
    "duration": 591,
    "start_time": "2021-08-22T10:48:32.894Z"
   },
   {
    "duration": 110,
    "start_time": "2021-08-22T10:48:33.489Z"
   },
   {
    "duration": 92,
    "start_time": "2021-08-22T10:48:33.603Z"
   },
   {
    "duration": 97,
    "start_time": "2021-08-22T10:48:33.698Z"
   },
   {
    "duration": 112,
    "start_time": "2021-08-22T10:48:33.887Z"
   },
   {
    "duration": 8,
    "start_time": "2021-08-22T10:51:04.863Z"
   },
   {
    "duration": 589,
    "start_time": "2021-08-22T10:51:33.530Z"
   },
   {
    "duration": 8,
    "start_time": "2021-08-22T10:52:03.006Z"
   },
   {
    "duration": 12,
    "start_time": "2021-08-22T10:52:04.494Z"
   },
   {
    "duration": 11,
    "start_time": "2021-08-22T10:52:06.991Z"
   },
   {
    "duration": 12,
    "start_time": "2021-08-22T10:52:09.895Z"
   },
   {
    "duration": 23,
    "start_time": "2021-08-22T10:52:30.699Z"
   },
   {
    "duration": 22,
    "start_time": "2021-08-22T10:53:15.520Z"
   },
   {
    "duration": 11,
    "start_time": "2021-08-22T10:53:19.968Z"
   },
   {
    "duration": 10,
    "start_time": "2021-08-22T10:53:21.136Z"
   },
   {
    "duration": 16,
    "start_time": "2021-08-22T10:53:29.097Z"
   },
   {
    "duration": 13,
    "start_time": "2021-08-22T10:53:37.611Z"
   },
   {
    "duration": 15,
    "start_time": "2021-08-22T10:53:42.427Z"
   },
   {
    "duration": 10,
    "start_time": "2021-08-22T10:53:47.724Z"
   },
   {
    "duration": 1043,
    "start_time": "2021-08-22T10:54:39.682Z"
   },
   {
    "duration": 286,
    "start_time": "2021-08-22T10:54:45.907Z"
   },
   {
    "duration": 13,
    "start_time": "2021-08-22T10:54:47.877Z"
   },
   {
    "duration": 13,
    "start_time": "2021-08-22T10:54:49.429Z"
   },
   {
    "duration": 14,
    "start_time": "2021-08-22T10:54:54.765Z"
   },
   {
    "duration": 14,
    "start_time": "2021-08-22T10:55:02.606Z"
   },
   {
    "duration": 12,
    "start_time": "2021-08-22T10:55:13.440Z"
   },
   {
    "duration": 669,
    "start_time": "2021-08-22T12:13:21.088Z"
   },
   {
    "duration": 649,
    "start_time": "2021-08-22T12:13:26.248Z"
   },
   {
    "duration": 11,
    "start_time": "2021-08-22T12:41:07.884Z"
   },
   {
    "duration": 9,
    "start_time": "2021-08-22T12:41:10.379Z"
   },
   {
    "duration": 5,
    "start_time": "2021-08-22T13:06:16.475Z"
   },
   {
    "duration": 5,
    "start_time": "2021-08-22T13:06:27.853Z"
   },
   {
    "duration": 5,
    "start_time": "2021-08-22T13:09:35.086Z"
   },
   {
    "duration": 7,
    "start_time": "2021-08-22T13:10:19.389Z"
   },
   {
    "duration": 4,
    "start_time": "2021-08-22T13:10:31.190Z"
   },
   {
    "duration": 3,
    "start_time": "2021-08-22T13:10:42.384Z"
   },
   {
    "duration": 8,
    "start_time": "2021-08-22T13:10:43.072Z"
   },
   {
    "duration": 8,
    "start_time": "2021-08-22T13:11:45.936Z"
   },
   {
    "duration": 7,
    "start_time": "2021-08-22T13:11:47.586Z"
   },
   {
    "duration": 4,
    "start_time": "2021-08-22T13:11:48.312Z"
   },
   {
    "duration": 8,
    "start_time": "2021-08-22T13:11:48.953Z"
   },
   {
    "duration": 8,
    "start_time": "2021-08-22T13:11:57.754Z"
   },
   {
    "duration": 7,
    "start_time": "2021-08-22T13:12:06.899Z"
   },
   {
    "duration": 7,
    "start_time": "2021-08-22T13:12:08.635Z"
   },
   {
    "duration": 8,
    "start_time": "2021-08-22T13:12:09.379Z"
   },
   {
    "duration": 7,
    "start_time": "2021-08-22T13:12:10.219Z"
   },
   {
    "duration": 8,
    "start_time": "2021-08-22T13:12:11.027Z"
   },
   {
    "duration": 7,
    "start_time": "2021-08-22T13:12:11.732Z"
   },
   {
    "duration": 8,
    "start_time": "2021-08-22T13:12:12.420Z"
   },
   {
    "duration": 8,
    "start_time": "2021-08-22T13:12:13.061Z"
   },
   {
    "duration": 7,
    "start_time": "2021-08-22T13:12:13.668Z"
   },
   {
    "duration": 8,
    "start_time": "2021-08-22T13:12:14.292Z"
   },
   {
    "duration": 7,
    "start_time": "2021-08-22T13:12:14.853Z"
   },
   {
    "duration": 7,
    "start_time": "2021-08-22T13:12:15.396Z"
   },
   {
    "duration": 8,
    "start_time": "2021-08-22T13:12:15.884Z"
   },
   {
    "duration": 6,
    "start_time": "2021-08-22T13:12:36.735Z"
   },
   {
    "duration": 6,
    "start_time": "2021-08-22T13:14:19.102Z"
   },
   {
    "duration": 8,
    "start_time": "2021-08-22T13:14:20.949Z"
   },
   {
    "duration": 7,
    "start_time": "2021-08-22T13:14:21.756Z"
   },
   {
    "duration": 6,
    "start_time": "2021-08-22T13:14:22.524Z"
   },
   {
    "duration": 757,
    "start_time": "2021-08-22T13:26:11.089Z"
   },
   {
    "duration": 6,
    "start_time": "2021-08-22T13:26:28.349Z"
   },
   {
    "duration": 5,
    "start_time": "2021-08-22T13:26:31.828Z"
   },
   {
    "duration": 6,
    "start_time": "2021-08-22T13:48:07.056Z"
   },
   {
    "duration": 5,
    "start_time": "2021-08-22T13:48:10.457Z"
   },
   {
    "duration": 6,
    "start_time": "2021-08-22T13:48:11.160Z"
   },
   {
    "duration": 675,
    "start_time": "2021-08-22T13:48:36.284Z"
   },
   {
    "duration": 7,
    "start_time": "2021-08-22T13:48:40.236Z"
   },
   {
    "duration": 7,
    "start_time": "2021-08-22T13:51:10.009Z"
   },
   {
    "duration": 6,
    "start_time": "2021-08-22T13:51:22.618Z"
   },
   {
    "duration": 6,
    "start_time": "2021-08-22T13:55:07.145Z"
   },
   {
    "duration": 386,
    "start_time": "2021-08-22T13:55:13.672Z"
   },
   {
    "duration": 7,
    "start_time": "2021-08-22T13:55:17.769Z"
   },
   {
    "duration": 384,
    "start_time": "2021-08-22T13:55:19.376Z"
   },
   {
    "duration": 7,
    "start_time": "2021-08-22T13:55:47.301Z"
   },
   {
    "duration": 403,
    "start_time": "2021-08-22T13:55:48.532Z"
   },
   {
    "duration": 7,
    "start_time": "2021-08-22T13:55:54.997Z"
   },
   {
    "duration": 8,
    "start_time": "2021-08-22T13:56:20.589Z"
   },
   {
    "duration": 383,
    "start_time": "2021-08-22T13:57:12.279Z"
   },
   {
    "duration": 656,
    "start_time": "2021-08-22T13:57:21.185Z"
   },
   {
    "duration": 8,
    "start_time": "2021-08-22T13:57:34.587Z"
   },
   {
    "duration": 8,
    "start_time": "2021-08-22T13:58:05.790Z"
   },
   {
    "duration": 389,
    "start_time": "2021-08-22T13:58:07.543Z"
   },
   {
    "duration": 398,
    "start_time": "2021-08-22T13:58:09.054Z"
   },
   {
    "duration": 438,
    "start_time": "2021-08-22T14:00:24.666Z"
   },
   {
    "duration": 404,
    "start_time": "2021-08-22T14:00:42.628Z"
   },
   {
    "duration": 419,
    "start_time": "2021-08-22T14:02:40.516Z"
   },
   {
    "duration": 7,
    "start_time": "2021-08-22T14:02:43.740Z"
   },
   {
    "duration": 7,
    "start_time": "2021-08-22T14:03:18.905Z"
   },
   {
    "duration": 1088,
    "start_time": "2021-08-22T14:03:35.388Z"
   },
   {
    "duration": 8,
    "start_time": "2021-08-22T14:05:07.232Z"
   },
   {
    "duration": 9,
    "start_time": "2021-08-22T14:05:08.191Z"
   },
   {
    "duration": 6,
    "start_time": "2021-08-22T14:05:17.505Z"
   },
   {
    "duration": 5,
    "start_time": "2021-08-22T14:05:22.801Z"
   },
   {
    "duration": 403,
    "start_time": "2021-08-22T14:06:20.408Z"
   },
   {
    "duration": 385,
    "start_time": "2021-08-22T14:06:47.412Z"
   },
   {
    "duration": 9,
    "start_time": "2021-08-22T14:06:50.653Z"
   },
   {
    "duration": 6,
    "start_time": "2021-08-22T14:06:51.501Z"
   },
   {
    "duration": 6,
    "start_time": "2021-08-22T14:10:47.183Z"
   },
   {
    "duration": 7,
    "start_time": "2021-08-22T14:10:57.581Z"
   },
   {
    "duration": 12,
    "start_time": "2021-08-22T14:13:30.698Z"
   },
   {
    "duration": 390,
    "start_time": "2021-08-22T14:13:39.946Z"
   },
   {
    "duration": 7,
    "start_time": "2021-08-22T14:17:29.353Z"
   },
   {
    "duration": 7,
    "start_time": "2021-08-22T14:19:47.392Z"
   },
   {
    "duration": 7,
    "start_time": "2021-08-22T14:20:20.910Z"
   },
   {
    "duration": 8,
    "start_time": "2021-08-22T14:22:30.209Z"
   },
   {
    "duration": 9,
    "start_time": "2021-08-22T14:23:15.305Z"
   },
   {
    "duration": 8,
    "start_time": "2021-08-22T14:23:17.017Z"
   },
   {
    "duration": 8,
    "start_time": "2021-08-22T14:23:17.775Z"
   },
   {
    "duration": 7,
    "start_time": "2021-08-22T14:23:19.192Z"
   },
   {
    "duration": 6,
    "start_time": "2021-08-22T14:23:29.641Z"
   },
   {
    "duration": 6,
    "start_time": "2021-08-22T14:34:46.971Z"
   },
   {
    "duration": 395,
    "start_time": "2021-08-22T14:36:21.927Z"
   },
   {
    "duration": 6,
    "start_time": "2021-08-22T14:36:27.384Z"
   },
   {
    "duration": 6,
    "start_time": "2021-08-22T14:36:45.579Z"
   },
   {
    "duration": 689,
    "start_time": "2021-08-22T14:37:23.783Z"
   },
   {
    "duration": 5,
    "start_time": "2021-08-22T14:43:46.869Z"
   },
   {
    "duration": 716,
    "start_time": "2021-08-22T14:47:37.107Z"
   },
   {
    "duration": 8,
    "start_time": "2021-08-22T14:47:40.068Z"
   },
   {
    "duration": 6,
    "start_time": "2021-08-22T14:55:04.749Z"
   },
   {
    "duration": 5,
    "start_time": "2021-08-22T14:55:09.079Z"
   },
   {
    "duration": 4,
    "start_time": "2021-08-22T14:55:29.889Z"
   },
   {
    "duration": 6,
    "start_time": "2021-08-22T14:56:27.320Z"
   },
   {
    "duration": 646,
    "start_time": "2021-08-22T14:56:47.115Z"
   },
   {
    "duration": 7,
    "start_time": "2021-08-22T14:57:59.854Z"
   },
   {
    "duration": 8,
    "start_time": "2021-08-22T14:58:08.294Z"
   },
   {
    "duration": 8,
    "start_time": "2021-08-22T14:59:15.103Z"
   },
   {
    "duration": 8,
    "start_time": "2021-08-22T15:08:50.773Z"
   },
   {
    "duration": 7,
    "start_time": "2021-08-22T15:09:10.321Z"
   },
   {
    "duration": 7,
    "start_time": "2021-08-22T15:09:18.518Z"
   },
   {
    "duration": 7,
    "start_time": "2021-08-22T15:10:01.750Z"
   },
   {
    "duration": 7,
    "start_time": "2021-08-22T15:10:10.470Z"
   },
   {
    "duration": 7,
    "start_time": "2021-08-22T15:10:11.278Z"
   },
   {
    "duration": 5,
    "start_time": "2021-08-22T15:10:27.385Z"
   },
   {
    "duration": 8,
    "start_time": "2021-08-22T15:10:29.280Z"
   },
   {
    "duration": 9,
    "start_time": "2021-08-22T15:10:29.904Z"
   },
   {
    "duration": 6,
    "start_time": "2021-08-22T15:11:14.903Z"
   },
   {
    "duration": 7,
    "start_time": "2021-08-22T15:11:26.872Z"
   },
   {
    "duration": 7,
    "start_time": "2021-08-22T15:12:22.888Z"
   },
   {
    "duration": 4,
    "start_time": "2021-08-22T15:17:43.691Z"
   },
   {
    "duration": 4,
    "start_time": "2021-08-22T15:18:46.667Z"
   },
   {
    "duration": 7,
    "start_time": "2021-08-22T15:19:10.758Z"
   },
   {
    "duration": 4,
    "start_time": "2021-08-22T15:20:17.006Z"
   },
   {
    "duration": 6,
    "start_time": "2021-08-22T15:20:23.455Z"
   },
   {
    "duration": 5,
    "start_time": "2021-08-22T15:21:08.941Z"
   },
   {
    "duration": 5,
    "start_time": "2021-08-22T15:21:35.642Z"
   },
   {
    "duration": 936,
    "start_time": "2021-08-22T15:21:42.802Z"
   },
   {
    "duration": 6,
    "start_time": "2021-08-22T15:21:54.319Z"
   },
   {
    "duration": 6,
    "start_time": "2021-08-22T15:21:56.898Z"
   },
   {
    "duration": 6,
    "start_time": "2021-08-22T15:21:59.123Z"
   },
   {
    "duration": 7,
    "start_time": "2021-08-22T15:22:04.173Z"
   },
   {
    "duration": 6,
    "start_time": "2021-08-22T15:22:10.172Z"
   },
   {
    "duration": 6,
    "start_time": "2021-08-22T15:22:13.142Z"
   },
   {
    "duration": 6,
    "start_time": "2021-08-22T15:22:15.373Z"
   },
   {
    "duration": 5,
    "start_time": "2021-08-22T15:23:12.822Z"
   },
   {
    "duration": 6,
    "start_time": "2021-08-22T15:24:21.287Z"
   },
   {
    "duration": 6,
    "start_time": "2021-08-22T15:24:25.703Z"
   },
   {
    "duration": 6,
    "start_time": "2021-08-22T15:24:29.128Z"
   },
   {
    "duration": 5,
    "start_time": "2021-08-22T15:27:06.381Z"
   },
   {
    "duration": 7,
    "start_time": "2021-08-22T15:29:04.605Z"
   },
   {
    "duration": 50,
    "start_time": "2021-08-22T15:29:08.837Z"
   },
   {
    "duration": 20,
    "start_time": "2021-08-22T15:29:23.937Z"
   },
   {
    "duration": 28,
    "start_time": "2021-08-22T15:29:26.063Z"
   },
   {
    "duration": 448,
    "start_time": "2021-08-23T05:02:29.738Z"
   },
   {
    "duration": 1616,
    "start_time": "2021-08-23T05:02:33.940Z"
   },
   {
    "duration": 26,
    "start_time": "2021-08-23T05:02:35.559Z"
   },
   {
    "duration": 21,
    "start_time": "2021-08-23T05:02:35.589Z"
   },
   {
    "duration": 15,
    "start_time": "2021-08-23T05:02:35.614Z"
   },
   {
    "duration": 9,
    "start_time": "2021-08-23T05:02:35.632Z"
   },
   {
    "duration": 43,
    "start_time": "2021-08-23T05:02:35.643Z"
   },
   {
    "duration": 7,
    "start_time": "2021-08-23T05:02:35.688Z"
   },
   {
    "duration": 11,
    "start_time": "2021-08-23T05:02:35.698Z"
   },
   {
    "duration": 18,
    "start_time": "2021-08-23T05:04:01.426Z"
   },
   {
    "duration": 82,
    "start_time": "2021-08-23T05:05:10.704Z"
   },
   {
    "duration": 54,
    "start_time": "2021-08-23T05:05:35.634Z"
   },
   {
    "duration": 30,
    "start_time": "2021-08-23T05:05:37.170Z"
   },
   {
    "duration": 19,
    "start_time": "2021-08-23T05:05:41.629Z"
   },
   {
    "duration": 21,
    "start_time": "2021-08-23T05:05:44.603Z"
   },
   {
    "duration": 20,
    "start_time": "2021-08-23T05:05:45.714Z"
   },
   {
    "duration": 20,
    "start_time": "2021-08-23T05:05:59.104Z"
   },
   {
    "duration": 18,
    "start_time": "2021-08-23T05:06:20.504Z"
   },
   {
    "duration": 19,
    "start_time": "2021-08-23T05:06:22.869Z"
   },
   {
    "duration": 19,
    "start_time": "2021-08-23T05:31:03.748Z"
   },
   {
    "duration": 14,
    "start_time": "2021-08-23T05:31:15.114Z"
   },
   {
    "duration": 6,
    "start_time": "2021-08-23T05:36:18.907Z"
   },
   {
    "duration": 6,
    "start_time": "2021-08-23T05:36:23.651Z"
   },
   {
    "duration": 14,
    "start_time": "2021-08-23T05:36:32.665Z"
   },
   {
    "duration": 4,
    "start_time": "2021-08-23T05:36:52.654Z"
   },
   {
    "duration": 6,
    "start_time": "2021-08-23T05:36:55.105Z"
   },
   {
    "duration": 16,
    "start_time": "2021-08-23T05:37:18.706Z"
   },
   {
    "duration": 93,
    "start_time": "2021-08-23T05:37:34.293Z"
   },
   {
    "duration": 7,
    "start_time": "2021-08-23T05:37:58.338Z"
   },
   {
    "duration": 10,
    "start_time": "2021-08-23T05:38:00.322Z"
   },
   {
    "duration": 10,
    "start_time": "2021-08-23T05:38:55.251Z"
   },
   {
    "duration": 12,
    "start_time": "2021-08-23T05:38:56.012Z"
   },
   {
    "duration": 11,
    "start_time": "2021-08-23T05:38:57.278Z"
   },
   {
    "duration": 11,
    "start_time": "2021-08-23T05:38:58.359Z"
   },
   {
    "duration": 4,
    "start_time": "2021-08-23T05:39:17.850Z"
   },
   {
    "duration": 16,
    "start_time": "2021-08-23T05:39:22.307Z"
   },
   {
    "duration": 15,
    "start_time": "2021-08-23T05:39:30.166Z"
   },
   {
    "duration": 4,
    "start_time": "2021-08-23T05:39:39.148Z"
   },
   {
    "duration": 5,
    "start_time": "2021-08-23T05:39:41.447Z"
   },
   {
    "duration": 10,
    "start_time": "2021-08-23T05:39:56.998Z"
   },
   {
    "duration": 17,
    "start_time": "2021-08-23T05:40:26.948Z"
   },
   {
    "duration": 17,
    "start_time": "2021-08-23T05:40:34.982Z"
   },
   {
    "duration": 471,
    "start_time": "2021-08-23T05:41:08.991Z"
   },
   {
    "duration": 4,
    "start_time": "2021-08-23T05:41:11.447Z"
   },
   {
    "duration": 7,
    "start_time": "2021-08-23T05:41:12.170Z"
   },
   {
    "duration": 16,
    "start_time": "2021-08-23T05:41:12.912Z"
   },
   {
    "duration": 5,
    "start_time": "2021-08-23T05:46:07.054Z"
   },
   {
    "duration": 5,
    "start_time": "2021-08-23T05:46:25.919Z"
   },
   {
    "duration": 5,
    "start_time": "2021-08-23T05:46:26.733Z"
   },
   {
    "duration": 5,
    "start_time": "2021-08-23T05:46:29.876Z"
   },
   {
    "duration": 5,
    "start_time": "2021-08-23T05:46:57.791Z"
   },
   {
    "duration": 5,
    "start_time": "2021-08-23T05:46:58.469Z"
   },
   {
    "duration": 8,
    "start_time": "2021-08-23T05:59:18.768Z"
   },
   {
    "duration": 7,
    "start_time": "2021-08-23T06:00:24.494Z"
   },
   {
    "duration": 16,
    "start_time": "2021-08-23T06:01:24.703Z"
   },
   {
    "duration": 13,
    "start_time": "2021-08-23T06:01:29.290Z"
   },
   {
    "duration": 14,
    "start_time": "2021-08-23T06:02:52.613Z"
   },
   {
    "duration": 11,
    "start_time": "2021-08-23T06:04:45.375Z"
   },
   {
    "duration": 12,
    "start_time": "2021-08-23T06:07:58.535Z"
   },
   {
    "duration": 14,
    "start_time": "2021-08-23T06:08:02.727Z"
   },
   {
    "duration": 8,
    "start_time": "2021-08-23T06:08:06.592Z"
   },
   {
    "duration": 10,
    "start_time": "2021-08-23T06:08:08.209Z"
   },
   {
    "duration": 8,
    "start_time": "2021-08-23T06:08:09.175Z"
   },
   {
    "duration": 3,
    "start_time": "2021-08-23T06:08:56.314Z"
   },
   {
    "duration": 11,
    "start_time": "2021-08-23T06:10:46.779Z"
   },
   {
    "duration": 10,
    "start_time": "2021-08-23T06:11:12.670Z"
   },
   {
    "duration": 8,
    "start_time": "2021-08-23T06:11:53.609Z"
   },
   {
    "duration": 10,
    "start_time": "2021-08-23T06:12:19.206Z"
   },
   {
    "duration": 8,
    "start_time": "2021-08-23T06:12:34.589Z"
   },
   {
    "duration": 10,
    "start_time": "2021-08-23T06:12:41.809Z"
   },
   {
    "duration": 5,
    "start_time": "2021-08-23T06:13:48.984Z"
   },
   {
    "duration": 10,
    "start_time": "2021-08-23T06:14:46.472Z"
   },
   {
    "duration": 8,
    "start_time": "2021-08-23T06:18:21.252Z"
   },
   {
    "duration": 18,
    "start_time": "2021-08-23T06:18:27.423Z"
   },
   {
    "duration": 5,
    "start_time": "2021-08-23T06:20:10.506Z"
   },
   {
    "duration": 20,
    "start_time": "2021-08-23T06:20:18.196Z"
   },
   {
    "duration": 8,
    "start_time": "2021-08-23T06:21:37.089Z"
   },
   {
    "duration": 7,
    "start_time": "2021-08-23T06:25:07.204Z"
   },
   {
    "duration": 1745,
    "start_time": "2021-08-23T06:26:50.877Z"
   },
   {
    "duration": 22,
    "start_time": "2021-08-23T06:26:52.624Z"
   },
   {
    "duration": 32,
    "start_time": "2021-08-23T06:26:52.650Z"
   },
   {
    "duration": 23,
    "start_time": "2021-08-23T06:26:52.685Z"
   },
   {
    "duration": 28,
    "start_time": "2021-08-23T06:26:52.710Z"
   },
   {
    "duration": 25,
    "start_time": "2021-08-23T06:26:52.740Z"
   },
   {
    "duration": 38,
    "start_time": "2021-08-23T06:26:52.767Z"
   },
   {
    "duration": 77,
    "start_time": "2021-08-23T06:26:52.809Z"
   },
   {
    "duration": 105,
    "start_time": "2021-08-23T06:26:52.891Z"
   },
   {
    "duration": 30,
    "start_time": "2021-08-23T06:26:52.998Z"
   },
   {
    "duration": 30,
    "start_time": "2021-08-23T06:26:53.031Z"
   },
   {
    "duration": 36,
    "start_time": "2021-08-23T06:26:53.064Z"
   },
   {
    "duration": 18,
    "start_time": "2021-08-23T06:26:53.103Z"
   },
   {
    "duration": 22,
    "start_time": "2021-08-23T06:26:53.124Z"
   },
   {
    "duration": 30,
    "start_time": "2021-08-23T06:26:53.148Z"
   },
   {
    "duration": 35,
    "start_time": "2021-08-23T06:26:53.181Z"
   },
   {
    "duration": 74,
    "start_time": "2021-08-23T06:26:53.220Z"
   },
   {
    "duration": 1581,
    "start_time": "2021-08-23T06:28:29.147Z"
   },
   {
    "duration": 22,
    "start_time": "2021-08-23T06:28:30.731Z"
   },
   {
    "duration": 26,
    "start_time": "2021-08-23T06:28:30.755Z"
   },
   {
    "duration": 37,
    "start_time": "2021-08-23T06:28:30.783Z"
   },
   {
    "duration": 54,
    "start_time": "2021-08-23T06:28:30.823Z"
   },
   {
    "duration": 15,
    "start_time": "2021-08-23T06:28:30.879Z"
   },
   {
    "duration": 50,
    "start_time": "2021-08-23T06:28:30.896Z"
   },
   {
    "duration": 36,
    "start_time": "2021-08-23T06:28:30.951Z"
   },
   {
    "duration": 24,
    "start_time": "2021-08-23T06:28:30.991Z"
   },
   {
    "duration": 83,
    "start_time": "2021-08-23T06:28:31.018Z"
   },
   {
    "duration": 18,
    "start_time": "2021-08-23T06:28:31.103Z"
   },
   {
    "duration": 19,
    "start_time": "2021-08-23T06:28:31.124Z"
   },
   {
    "duration": 12,
    "start_time": "2021-08-23T06:28:31.145Z"
   },
   {
    "duration": 29,
    "start_time": "2021-08-23T06:28:31.159Z"
   },
   {
    "duration": 22,
    "start_time": "2021-08-23T06:28:31.191Z"
   },
   {
    "duration": 71,
    "start_time": "2021-08-23T06:28:31.216Z"
   },
   {
    "duration": 10,
    "start_time": "2021-08-23T06:28:31.290Z"
   },
   {
    "duration": 1709,
    "start_time": "2021-08-23T11:50:58.253Z"
   },
   {
    "duration": 17,
    "start_time": "2021-08-23T11:50:59.964Z"
   },
   {
    "duration": 11,
    "start_time": "2021-08-23T11:50:59.983Z"
   },
   {
    "duration": 15,
    "start_time": "2021-08-23T11:50:59.995Z"
   },
   {
    "duration": 21,
    "start_time": "2021-08-23T11:51:00.012Z"
   },
   {
    "duration": 809,
    "start_time": "2021-08-23T13:38:27.361Z"
   },
   {
    "duration": 1600,
    "start_time": "2021-08-23T13:38:41.857Z"
   },
   {
    "duration": 24,
    "start_time": "2021-08-23T13:38:43.460Z"
   },
   {
    "duration": 18,
    "start_time": "2021-08-23T13:38:43.488Z"
   },
   {
    "duration": 10,
    "start_time": "2021-08-23T13:38:43.510Z"
   },
   {
    "duration": 44,
    "start_time": "2021-08-23T13:38:43.523Z"
   },
   {
    "duration": 8,
    "start_time": "2021-08-23T13:38:43.571Z"
   },
   {
    "duration": 10,
    "start_time": "2021-08-23T13:38:43.583Z"
   },
   {
    "duration": 7,
    "start_time": "2021-08-23T13:38:43.596Z"
   },
   {
    "duration": 69,
    "start_time": "2021-08-23T13:38:43.607Z"
   },
   {
    "duration": 10,
    "start_time": "2021-08-23T13:38:43.681Z"
   },
   {
    "duration": 1265,
    "start_time": "2021-08-23T13:39:30.316Z"
   },
   {
    "duration": 2704,
    "start_time": "2021-08-23T13:41:05.853Z"
   },
   {
    "duration": 24,
    "start_time": "2021-08-23T13:41:08.559Z"
   },
   {
    "duration": 21,
    "start_time": "2021-08-23T13:41:08.586Z"
   },
   {
    "duration": 16,
    "start_time": "2021-08-23T13:41:08.610Z"
   },
   {
    "duration": 12,
    "start_time": "2021-08-23T13:41:08.629Z"
   },
   {
    "duration": 33,
    "start_time": "2021-08-23T13:41:08.644Z"
   },
   {
    "duration": 23,
    "start_time": "2021-08-23T13:41:08.680Z"
   },
   {
    "duration": 13,
    "start_time": "2021-08-23T13:41:08.707Z"
   },
   {
    "duration": 56,
    "start_time": "2021-08-23T13:41:08.723Z"
   },
   {
    "duration": 14,
    "start_time": "2021-08-23T13:41:08.795Z"
   },
   {
    "duration": 21,
    "start_time": "2021-08-23T13:41:11.676Z"
   },
   {
    "duration": 11,
    "start_time": "2021-08-23T13:41:21.171Z"
   },
   {
    "duration": 8,
    "start_time": "2021-08-23T13:41:23.605Z"
   },
   {
    "duration": 23,
    "start_time": "2021-08-23T13:41:24.395Z"
   },
   {
    "duration": 8,
    "start_time": "2021-08-23T13:41:25.114Z"
   },
   {
    "duration": 11,
    "start_time": "2021-08-23T13:41:25.799Z"
   },
   {
    "duration": 8,
    "start_time": "2021-08-23T13:41:26.434Z"
   },
   {
    "duration": 6,
    "start_time": "2021-08-23T13:42:30.458Z"
   },
   {
    "duration": 7,
    "start_time": "2021-08-23T13:42:31.325Z"
   },
   {
    "duration": 8,
    "start_time": "2021-08-23T13:42:32.264Z"
   },
   {
    "duration": 6,
    "start_time": "2021-08-23T13:42:32.861Z"
   },
   {
    "duration": 6,
    "start_time": "2021-08-23T13:42:33.721Z"
   },
   {
    "duration": 6,
    "start_time": "2021-08-23T13:42:34.253Z"
   },
   {
    "duration": 9,
    "start_time": "2021-08-23T13:42:40.955Z"
   },
   {
    "duration": 8,
    "start_time": "2021-08-23T13:42:46.443Z"
   },
   {
    "duration": 9,
    "start_time": "2021-08-23T13:42:48.230Z"
   },
   {
    "duration": 9,
    "start_time": "2021-08-23T13:42:48.978Z"
   },
   {
    "duration": 11,
    "start_time": "2021-08-23T13:42:49.564Z"
   },
   {
    "duration": 11,
    "start_time": "2021-08-23T13:42:50.174Z"
   },
   {
    "duration": 8,
    "start_time": "2021-08-23T13:42:50.989Z"
   },
   {
    "duration": 9,
    "start_time": "2021-08-23T13:43:05.853Z"
   },
   {
    "duration": 9,
    "start_time": "2021-08-23T13:43:06.735Z"
   },
   {
    "duration": 6,
    "start_time": "2021-08-23T13:43:07.501Z"
   },
   {
    "duration": 11,
    "start_time": "2021-08-23T13:43:08.483Z"
   },
   {
    "duration": 6,
    "start_time": "2021-08-23T13:43:46.133Z"
   },
   {
    "duration": 5,
    "start_time": "2021-08-23T13:43:56.281Z"
   },
   {
    "duration": 6,
    "start_time": "2021-08-23T13:43:58.846Z"
   },
   {
    "duration": 7,
    "start_time": "2021-08-23T13:44:00.549Z"
   },
   {
    "duration": 11,
    "start_time": "2021-08-23T13:44:02.373Z"
   },
   {
    "duration": 8,
    "start_time": "2021-08-23T13:44:08.379Z"
   },
   {
    "duration": 8,
    "start_time": "2021-08-23T13:44:09.265Z"
   },
   {
    "duration": 6,
    "start_time": "2021-08-23T13:44:09.912Z"
   },
   {
    "duration": 7,
    "start_time": "2021-08-23T13:44:13.071Z"
   },
   {
    "duration": 8,
    "start_time": "2021-08-23T13:44:14.159Z"
   },
   {
    "duration": 5,
    "start_time": "2021-08-23T13:44:16.919Z"
   },
   {
    "duration": 9,
    "start_time": "2021-08-23T13:44:17.922Z"
   },
   {
    "duration": 6,
    "start_time": "2021-08-23T13:44:21.747Z"
   },
   {
    "duration": 6,
    "start_time": "2021-08-23T13:44:22.656Z"
   },
   {
    "duration": 4,
    "start_time": "2021-08-23T13:44:37.728Z"
   },
   {
    "duration": 5,
    "start_time": "2021-08-23T13:47:05.630Z"
   },
   {
    "duration": 6,
    "start_time": "2021-08-23T13:47:06.730Z"
   },
   {
    "duration": 6,
    "start_time": "2021-08-23T13:47:42.485Z"
   },
   {
    "duration": 12,
    "start_time": "2021-08-23T13:47:45.571Z"
   },
   {
    "duration": 6,
    "start_time": "2021-08-23T13:47:48.924Z"
   },
   {
    "duration": 6,
    "start_time": "2021-08-23T13:47:52.721Z"
   },
   {
    "duration": 6,
    "start_time": "2021-08-23T13:48:00.072Z"
   },
   {
    "duration": 6,
    "start_time": "2021-08-23T13:48:03.568Z"
   },
   {
    "duration": 6,
    "start_time": "2021-08-23T13:48:27.925Z"
   },
   {
    "duration": 6,
    "start_time": "2021-08-23T13:48:36.377Z"
   },
   {
    "duration": 5,
    "start_time": "2021-08-23T13:48:40.412Z"
   },
   {
    "duration": 6,
    "start_time": "2021-08-23T13:48:40.988Z"
   },
   {
    "duration": 680,
    "start_time": "2021-08-23T13:52:38.464Z"
   },
   {
    "duration": 468,
    "start_time": "2021-08-23T13:52:43.394Z"
   },
   {
    "duration": 1566,
    "start_time": "2021-08-23T16:39:19.630Z"
   },
   {
    "duration": 21,
    "start_time": "2021-08-23T16:39:21.199Z"
   },
   {
    "duration": 20,
    "start_time": "2021-08-23T16:39:21.227Z"
   },
   {
    "duration": 8,
    "start_time": "2021-08-23T16:39:21.249Z"
   },
   {
    "duration": 25,
    "start_time": "2021-08-23T16:39:21.260Z"
   },
   {
    "duration": 6,
    "start_time": "2021-08-23T16:39:21.288Z"
   },
   {
    "duration": 5,
    "start_time": "2021-08-23T16:39:21.298Z"
   },
   {
    "duration": 7,
    "start_time": "2021-08-23T16:39:21.307Z"
   },
   {
    "duration": 75,
    "start_time": "2021-08-23T16:39:21.316Z"
   },
   {
    "duration": 7,
    "start_time": "2021-08-23T16:39:21.393Z"
   },
   {
    "duration": 8,
    "start_time": "2021-08-23T16:39:21.403Z"
   },
   {
    "duration": 11,
    "start_time": "2021-08-23T16:39:21.487Z"
   },
   {
    "duration": 92,
    "start_time": "2021-08-23T16:39:21.502Z"
   },
   {
    "duration": 15,
    "start_time": "2021-08-23T16:39:21.596Z"
   },
   {
    "duration": 10,
    "start_time": "2021-08-23T16:39:21.614Z"
   },
   {
    "duration": 4,
    "start_time": "2021-08-23T16:39:21.627Z"
   },
   {
    "duration": 9,
    "start_time": "2021-08-23T16:39:21.633Z"
   },
   {
    "duration": 21,
    "start_time": "2021-08-23T16:39:21.686Z"
   },
   {
    "duration": 82,
    "start_time": "2021-08-23T16:39:21.710Z"
   },
   {
    "duration": 1670,
    "start_time": "2021-08-23T17:44:03.492Z"
   },
   {
    "duration": 27,
    "start_time": "2021-08-23T17:44:05.165Z"
   },
   {
    "duration": 18,
    "start_time": "2021-08-23T17:44:05.196Z"
   },
   {
    "duration": 10,
    "start_time": "2021-08-23T17:44:05.217Z"
   },
   {
    "duration": 6,
    "start_time": "2021-08-23T17:44:05.229Z"
   },
   {
    "duration": 8,
    "start_time": "2021-08-23T17:44:05.237Z"
   },
   {
    "duration": 13,
    "start_time": "2021-08-23T17:44:05.247Z"
   },
   {
    "duration": 17,
    "start_time": "2021-08-23T17:44:05.290Z"
   },
   {
    "duration": 77,
    "start_time": "2021-08-23T17:44:05.311Z"
   },
   {
    "duration": 5,
    "start_time": "2021-08-23T17:44:05.392Z"
   },
   {
    "duration": 29,
    "start_time": "2021-08-23T17:44:05.400Z"
   },
   {
    "duration": 56,
    "start_time": "2021-08-23T17:44:05.433Z"
   },
   {
    "duration": 109,
    "start_time": "2021-08-23T17:44:05.491Z"
   },
   {
    "duration": 13,
    "start_time": "2021-08-23T17:44:05.604Z"
   },
   {
    "duration": 17,
    "start_time": "2021-08-23T17:44:05.619Z"
   },
   {
    "duration": 4,
    "start_time": "2021-08-23T17:44:05.638Z"
   },
   {
    "duration": 14,
    "start_time": "2021-08-23T17:44:05.645Z"
   },
   {
    "duration": 21,
    "start_time": "2021-08-23T17:44:05.688Z"
   },
   {
    "duration": 79,
    "start_time": "2021-08-23T17:44:05.712Z"
   },
   {
    "duration": 6,
    "start_time": "2021-08-23T17:45:39.356Z"
   },
   {
    "duration": 1656,
    "start_time": "2021-08-23T17:45:49.586Z"
   },
   {
    "duration": 22,
    "start_time": "2021-08-23T17:45:51.244Z"
   },
   {
    "duration": 23,
    "start_time": "2021-08-23T17:45:51.269Z"
   },
   {
    "duration": 10,
    "start_time": "2021-08-23T17:45:51.296Z"
   },
   {
    "duration": 27,
    "start_time": "2021-08-23T17:45:51.309Z"
   },
   {
    "duration": 26,
    "start_time": "2021-08-23T17:45:51.338Z"
   },
   {
    "duration": 33,
    "start_time": "2021-08-23T17:45:51.367Z"
   },
   {
    "duration": 24,
    "start_time": "2021-08-23T17:45:51.404Z"
   },
   {
    "duration": 63,
    "start_time": "2021-08-23T17:45:51.432Z"
   },
   {
    "duration": 11,
    "start_time": "2021-08-23T17:45:51.498Z"
   },
   {
    "duration": 94,
    "start_time": "2021-08-23T17:45:51.512Z"
   },
   {
    "duration": 78,
    "start_time": "2021-08-23T17:45:51.609Z"
   },
   {
    "duration": 96,
    "start_time": "2021-08-23T17:45:51.691Z"
   },
   {
    "duration": 15,
    "start_time": "2021-08-23T17:45:51.790Z"
   },
   {
    "duration": 13,
    "start_time": "2021-08-23T17:45:51.808Z"
   },
   {
    "duration": 11,
    "start_time": "2021-08-23T17:45:51.824Z"
   },
   {
    "duration": 52,
    "start_time": "2021-08-23T17:45:51.838Z"
   },
   {
    "duration": 96,
    "start_time": "2021-08-23T17:45:51.893Z"
   },
   {
    "duration": 93,
    "start_time": "2021-08-23T17:45:51.992Z"
   },
   {
    "duration": 1704,
    "start_time": "2021-08-23T17:47:58.951Z"
   },
   {
    "duration": 22,
    "start_time": "2021-08-23T17:48:00.659Z"
   },
   {
    "duration": 18,
    "start_time": "2021-08-23T17:48:00.687Z"
   },
   {
    "duration": 24,
    "start_time": "2021-08-23T17:48:00.708Z"
   },
   {
    "duration": 14,
    "start_time": "2021-08-23T17:48:00.734Z"
   },
   {
    "duration": 18,
    "start_time": "2021-08-23T17:48:00.750Z"
   },
   {
    "duration": 29,
    "start_time": "2021-08-23T17:48:00.772Z"
   },
   {
    "duration": 12,
    "start_time": "2021-08-23T17:48:00.804Z"
   },
   {
    "duration": 71,
    "start_time": "2021-08-23T17:48:00.819Z"
   },
   {
    "duration": 10,
    "start_time": "2021-08-23T17:48:00.892Z"
   },
   {
    "duration": 82,
    "start_time": "2021-08-23T17:48:00.904Z"
   },
   {
    "duration": 15,
    "start_time": "2021-08-23T17:48:00.989Z"
   },
   {
    "duration": 12,
    "start_time": "2021-08-23T17:48:01.086Z"
   },
   {
    "duration": 39,
    "start_time": "2021-08-23T17:48:01.100Z"
   },
   {
    "duration": 46,
    "start_time": "2021-08-23T17:48:01.142Z"
   },
   {
    "duration": 17,
    "start_time": "2021-08-23T17:48:01.191Z"
   },
   {
    "duration": 38,
    "start_time": "2021-08-23T17:48:01.211Z"
   },
   {
    "duration": 34,
    "start_time": "2021-08-23T17:48:01.252Z"
   },
   {
    "duration": 10,
    "start_time": "2021-08-23T17:48:01.289Z"
   },
   {
    "duration": 1643,
    "start_time": "2021-08-23T17:49:11.588Z"
   },
   {
    "duration": 21,
    "start_time": "2021-08-23T17:49:13.234Z"
   },
   {
    "duration": 26,
    "start_time": "2021-08-23T17:49:13.262Z"
   },
   {
    "duration": 10,
    "start_time": "2021-08-23T17:49:13.291Z"
   },
   {
    "duration": 8,
    "start_time": "2021-08-23T17:49:13.304Z"
   },
   {
    "duration": 7,
    "start_time": "2021-08-23T17:49:13.314Z"
   },
   {
    "duration": 59,
    "start_time": "2021-08-23T17:49:13.327Z"
   },
   {
    "duration": 7,
    "start_time": "2021-08-23T17:49:13.389Z"
   },
   {
    "duration": 12,
    "start_time": "2021-08-23T17:49:13.398Z"
   },
   {
    "duration": 4,
    "start_time": "2021-08-23T17:49:13.486Z"
   },
   {
    "duration": 7,
    "start_time": "2021-08-23T17:49:13.492Z"
   },
   {
    "duration": 9,
    "start_time": "2021-08-23T17:49:13.502Z"
   },
   {
    "duration": 82,
    "start_time": "2021-08-23T17:49:13.514Z"
   },
   {
    "duration": 95,
    "start_time": "2021-08-23T17:49:13.599Z"
   },
   {
    "duration": 10,
    "start_time": "2021-08-23T17:49:13.696Z"
   },
   {
    "duration": 6,
    "start_time": "2021-08-23T17:49:13.709Z"
   },
   {
    "duration": 23,
    "start_time": "2021-08-23T17:49:13.717Z"
   },
   {
    "duration": 59,
    "start_time": "2021-08-23T17:49:13.742Z"
   },
   {
    "duration": 84,
    "start_time": "2021-08-23T17:49:13.805Z"
   },
   {
    "duration": 4,
    "start_time": "2021-08-23T17:49:25.059Z"
   },
   {
    "duration": 1498,
    "start_time": "2021-08-23T17:49:30.397Z"
   },
   {
    "duration": 22,
    "start_time": "2021-08-23T17:49:31.898Z"
   },
   {
    "duration": 24,
    "start_time": "2021-08-23T17:49:31.924Z"
   },
   {
    "duration": 22,
    "start_time": "2021-08-23T17:49:31.951Z"
   },
   {
    "duration": 6,
    "start_time": "2021-08-23T17:49:31.985Z"
   },
   {
    "duration": 9,
    "start_time": "2021-08-23T17:49:31.993Z"
   },
   {
    "duration": 9,
    "start_time": "2021-08-23T17:49:32.005Z"
   },
   {
    "duration": 68,
    "start_time": "2021-08-23T17:49:32.020Z"
   },
   {
    "duration": 13,
    "start_time": "2021-08-23T17:49:32.092Z"
   },
   {
    "duration": 83,
    "start_time": "2021-08-23T17:49:32.109Z"
   },
   {
    "duration": 25,
    "start_time": "2021-08-23T17:49:32.195Z"
   },
   {
    "duration": 64,
    "start_time": "2021-08-23T17:49:32.222Z"
   },
   {
    "duration": 101,
    "start_time": "2021-08-23T17:49:32.291Z"
   },
   {
    "duration": 24,
    "start_time": "2021-08-23T17:49:32.395Z"
   },
   {
    "duration": 12,
    "start_time": "2021-08-23T17:49:32.422Z"
   },
   {
    "duration": 8,
    "start_time": "2021-08-23T17:49:32.437Z"
   },
   {
    "duration": 40,
    "start_time": "2021-08-23T17:49:32.448Z"
   },
   {
    "duration": 18,
    "start_time": "2021-08-23T17:49:32.492Z"
   },
   {
    "duration": 84,
    "start_time": "2021-08-23T17:49:32.513Z"
   },
   {
    "duration": 1373,
    "start_time": "2021-08-23T17:51:06.036Z"
   },
   {
    "duration": 21,
    "start_time": "2021-08-23T17:51:07.411Z"
   },
   {
    "duration": 22,
    "start_time": "2021-08-23T17:51:07.435Z"
   },
   {
    "duration": 15,
    "start_time": "2021-08-23T17:51:07.460Z"
   },
   {
    "duration": 10,
    "start_time": "2021-08-23T17:51:07.478Z"
   },
   {
    "duration": 9,
    "start_time": "2021-08-23T17:51:07.491Z"
   },
   {
    "duration": 9,
    "start_time": "2021-08-23T17:51:07.503Z"
   },
   {
    "duration": 7,
    "start_time": "2021-08-23T17:51:07.516Z"
   },
   {
    "duration": 74,
    "start_time": "2021-08-23T17:51:07.525Z"
   },
   {
    "duration": 5,
    "start_time": "2021-08-23T17:51:07.602Z"
   },
   {
    "duration": 1443,
    "start_time": "2021-08-23T17:51:26.866Z"
   },
   {
    "duration": 21,
    "start_time": "2021-08-23T17:51:28.312Z"
   },
   {
    "duration": 22,
    "start_time": "2021-08-23T17:51:28.339Z"
   },
   {
    "duration": 27,
    "start_time": "2021-08-23T17:51:28.364Z"
   },
   {
    "duration": 7,
    "start_time": "2021-08-23T17:51:28.393Z"
   },
   {
    "duration": 7,
    "start_time": "2021-08-23T17:51:28.403Z"
   },
   {
    "duration": 6,
    "start_time": "2021-08-23T17:51:28.416Z"
   },
   {
    "duration": 63,
    "start_time": "2021-08-23T17:51:28.425Z"
   },
   {
    "duration": 10,
    "start_time": "2021-08-23T17:51:28.492Z"
   },
   {
    "duration": 81,
    "start_time": "2021-08-23T17:51:28.505Z"
   },
   {
    "duration": 16,
    "start_time": "2021-08-23T17:51:28.589Z"
   },
   {
    "duration": 87,
    "start_time": "2021-08-23T17:51:28.608Z"
   },
   {
    "duration": 89,
    "start_time": "2021-08-23T17:51:28.699Z"
   },
   {
    "duration": 15,
    "start_time": "2021-08-23T17:51:28.791Z"
   },
   {
    "duration": 13,
    "start_time": "2021-08-23T17:51:28.810Z"
   },
   {
    "duration": 4,
    "start_time": "2021-08-23T17:51:28.826Z"
   },
   {
    "duration": 14,
    "start_time": "2021-08-23T17:51:28.832Z"
   },
   {
    "duration": 137,
    "start_time": "2021-08-23T17:51:28.848Z"
   },
   {
    "duration": 8,
    "start_time": "2021-08-23T17:51:28.988Z"
   },
   {
    "duration": 5,
    "start_time": "2021-08-23T17:51:47.646Z"
   },
   {
    "duration": 5,
    "start_time": "2021-08-23T17:51:48.437Z"
   },
   {
    "duration": 4,
    "start_time": "2021-08-23T17:51:49.862Z"
   },
   {
    "duration": 6,
    "start_time": "2021-08-23T17:51:51.158Z"
   },
   {
    "duration": 6,
    "start_time": "2021-08-23T17:51:51.878Z"
   },
   {
    "duration": 1395,
    "start_time": "2021-08-23T17:51:56.759Z"
   },
   {
    "duration": 21,
    "start_time": "2021-08-23T17:51:58.157Z"
   },
   {
    "duration": 28,
    "start_time": "2021-08-23T17:51:58.181Z"
   },
   {
    "duration": 8,
    "start_time": "2021-08-23T17:51:58.212Z"
   },
   {
    "duration": 5,
    "start_time": "2021-08-23T17:51:58.223Z"
   },
   {
    "duration": 8,
    "start_time": "2021-08-23T17:51:58.231Z"
   },
   {
    "duration": 45,
    "start_time": "2021-08-23T17:51:58.241Z"
   },
   {
    "duration": 11,
    "start_time": "2021-08-23T17:51:58.291Z"
   },
   {
    "duration": 82,
    "start_time": "2021-08-23T17:51:58.306Z"
   },
   {
    "duration": 3,
    "start_time": "2021-08-23T17:51:58.391Z"
   },
   {
    "duration": 18,
    "start_time": "2021-08-23T17:51:58.397Z"
   },
   {
    "duration": 67,
    "start_time": "2021-08-23T17:51:58.418Z"
   },
   {
    "duration": 17,
    "start_time": "2021-08-23T17:51:58.489Z"
   },
   {
    "duration": 16,
    "start_time": "2021-08-23T17:51:58.586Z"
   },
   {
    "duration": 16,
    "start_time": "2021-08-23T17:51:58.605Z"
   },
   {
    "duration": 9,
    "start_time": "2021-08-23T17:51:58.624Z"
   },
   {
    "duration": 15,
    "start_time": "2021-08-23T17:51:58.636Z"
   },
   {
    "duration": 51,
    "start_time": "2021-08-23T17:51:58.653Z"
   },
   {
    "duration": 95,
    "start_time": "2021-08-23T17:51:58.707Z"
   },
   {
    "duration": 1402,
    "start_time": "2021-08-23T17:52:36.078Z"
   },
   {
    "duration": 21,
    "start_time": "2021-08-23T17:52:37.483Z"
   },
   {
    "duration": 23,
    "start_time": "2021-08-23T17:52:37.507Z"
   },
   {
    "duration": 8,
    "start_time": "2021-08-23T17:52:37.533Z"
   },
   {
    "duration": 9,
    "start_time": "2021-08-23T17:52:37.544Z"
   },
   {
    "duration": 29,
    "start_time": "2021-08-23T17:52:37.556Z"
   },
   {
    "duration": 14,
    "start_time": "2021-08-23T17:52:37.588Z"
   },
   {
    "duration": 14,
    "start_time": "2021-08-23T17:52:37.606Z"
   },
   {
    "duration": 11,
    "start_time": "2021-08-23T17:52:37.686Z"
   },
   {
    "duration": 87,
    "start_time": "2021-08-23T17:52:37.700Z"
   },
   {
    "duration": 11,
    "start_time": "2021-08-23T17:52:37.790Z"
   },
   {
    "duration": 84,
    "start_time": "2021-08-23T17:52:37.805Z"
   },
   {
    "duration": 97,
    "start_time": "2021-08-23T17:52:37.892Z"
   },
   {
    "duration": 18,
    "start_time": "2021-08-23T17:52:37.992Z"
   },
   {
    "duration": 12,
    "start_time": "2021-08-23T17:52:38.012Z"
   },
   {
    "duration": 5,
    "start_time": "2021-08-23T17:52:38.026Z"
   },
   {
    "duration": 13,
    "start_time": "2021-08-23T17:52:38.033Z"
   },
   {
    "duration": 55,
    "start_time": "2021-08-23T17:52:38.049Z"
   },
   {
    "duration": 13,
    "start_time": "2021-08-23T17:52:38.188Z"
   }
  ],
  "kernelspec": {
   "display_name": "Python 3 (ipykernel)",
   "language": "python",
   "name": "python3"
  },
  "language_info": {
   "codemirror_mode": {
    "name": "ipython",
    "version": 3
   },
   "file_extension": ".py",
   "mimetype": "text/x-python",
   "name": "python",
   "nbconvert_exporter": "python",
   "pygments_lexer": "ipython3",
   "version": "3.9.6"
  },
  "toc": {
   "base_numbering": 1,
   "nav_menu": {
    "height": "108px",
    "width": "179px"
   },
   "number_sections": true,
   "sideBar": true,
   "skip_h1_title": true,
   "title_cell": "Содержание",
   "title_sidebar": "Contents",
   "toc_cell": true,
   "toc_position": {},
   "toc_section_display": true,
   "toc_window_display": true
  }
 },
 "nbformat": 4,
 "nbformat_minor": 2
}
