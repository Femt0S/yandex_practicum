{
 "cells": [
  {
   "cell_type": "markdown",
   "metadata": {},
   "source": [
    "# Рекомендация тарифов"
   ]
  },
  {
   "cell_type": "markdown",
   "metadata": {},
   "source": [
    "В вашем распоряжении данные о поведении клиентов, которые уже перешли на эти тарифы (из проекта курса «Статистический анализ данных»). Нужно построить модель для задачи классификации, которая выберет подходящий тариф. Предобработка данных не понадобится — вы её уже сделали.\n",
    "\n",
    "Постройте модель с максимально большим значением *accuracy*. Чтобы сдать проект успешно, нужно довести долю правильных ответов по крайней мере до 0.75. Проверьте *accuracy* на тестовой выборке самостоятельно."
   ]
  },
  {
   "cell_type": "markdown",
   "metadata": {},
   "source": [
    "## Откройте и изучите файл"
   ]
  },
  {
   "cell_type": "markdown",
   "metadata": {},
   "source": [
    "Импортируем `pandas` и читаем файл в переменную `data`."
   ]
  },
  {
   "cell_type": "code",
   "execution_count": 1,
   "metadata": {
    "scrolled": true
   },
   "outputs": [],
   "source": [
    "import pandas as pd\n",
    "\n",
    "data = pd.read_csv('./users_behavior.csv')"
   ]
  },
  {
   "cell_type": "markdown",
   "metadata": {},
   "source": [
    "Импортируем все модели, которые могут понадобиться для работы из библиотеки `sklearn`"
   ]
  },
  {
   "cell_type": "code",
   "execution_count": 2,
   "metadata": {},
   "outputs": [],
   "source": [
    "from sklearn.tree import DecisionTreeClassifier\n",
    "from sklearn.ensemble import RandomForestClassifier\n",
    "from sklearn.linear_model import LogisticRegression"
   ]
  },
  {
   "cell_type": "markdown",
   "metadata": {},
   "source": [
    "Импортируем из библиотеки `sklearn` вспомогательные функции для оценки точности модели и разделения датасета на обучающую и валидационную выборку."
   ]
  },
  {
   "cell_type": "code",
   "execution_count": 3,
   "metadata": {},
   "outputs": [],
   "source": [
    "from sklearn.metrics import accuracy_score \n",
    "from sklearn.model_selection import train_test_split"
   ]
  },
  {
   "cell_type": "markdown",
   "metadata": {},
   "source": [
    "Рассмотрим данные:"
   ]
  },
  {
   "cell_type": "code",
   "execution_count": 4,
   "metadata": {},
   "outputs": [
    {
     "data": {
      "text/html": [
       "<div>\n",
       "<style scoped>\n",
       "    .dataframe tbody tr th:only-of-type {\n",
       "        vertical-align: middle;\n",
       "    }\n",
       "\n",
       "    .dataframe tbody tr th {\n",
       "        vertical-align: top;\n",
       "    }\n",
       "\n",
       "    .dataframe thead th {\n",
       "        text-align: right;\n",
       "    }\n",
       "</style>\n",
       "<table border=\"1\" class=\"dataframe\">\n",
       "  <thead>\n",
       "    <tr style=\"text-align: right;\">\n",
       "      <th></th>\n",
       "      <th>calls</th>\n",
       "      <th>minutes</th>\n",
       "      <th>messages</th>\n",
       "      <th>mb_used</th>\n",
       "      <th>is_ultra</th>\n",
       "    </tr>\n",
       "  </thead>\n",
       "  <tbody>\n",
       "    <tr>\n",
       "      <th>0</th>\n",
       "      <td>40.0</td>\n",
       "      <td>311.90</td>\n",
       "      <td>83.0</td>\n",
       "      <td>19915.42</td>\n",
       "      <td>0</td>\n",
       "    </tr>\n",
       "    <tr>\n",
       "      <th>1</th>\n",
       "      <td>85.0</td>\n",
       "      <td>516.75</td>\n",
       "      <td>56.0</td>\n",
       "      <td>22696.96</td>\n",
       "      <td>0</td>\n",
       "    </tr>\n",
       "    <tr>\n",
       "      <th>2</th>\n",
       "      <td>77.0</td>\n",
       "      <td>467.66</td>\n",
       "      <td>86.0</td>\n",
       "      <td>21060.45</td>\n",
       "      <td>0</td>\n",
       "    </tr>\n",
       "    <tr>\n",
       "      <th>3</th>\n",
       "      <td>106.0</td>\n",
       "      <td>745.53</td>\n",
       "      <td>81.0</td>\n",
       "      <td>8437.39</td>\n",
       "      <td>1</td>\n",
       "    </tr>\n",
       "    <tr>\n",
       "      <th>4</th>\n",
       "      <td>66.0</td>\n",
       "      <td>418.74</td>\n",
       "      <td>1.0</td>\n",
       "      <td>14502.75</td>\n",
       "      <td>0</td>\n",
       "    </tr>\n",
       "  </tbody>\n",
       "</table>\n",
       "</div>"
      ],
      "text/plain": [
       "   calls  minutes  messages   mb_used  is_ultra\n",
       "0   40.0   311.90      83.0  19915.42         0\n",
       "1   85.0   516.75      56.0  22696.96         0\n",
       "2   77.0   467.66      86.0  21060.45         0\n",
       "3  106.0   745.53      81.0   8437.39         1\n",
       "4   66.0   418.74       1.0  14502.75         0"
      ]
     },
     "execution_count": 4,
     "metadata": {},
     "output_type": "execute_result"
    }
   ],
   "source": [
    "data.head()"
   ]
  },
  {
   "cell_type": "code",
   "execution_count": 5,
   "metadata": {},
   "outputs": [
    {
     "name": "stdout",
     "output_type": "stream",
     "text": [
      "<class 'pandas.core.frame.DataFrame'>\n",
      "RangeIndex: 3214 entries, 0 to 3213\n",
      "Data columns (total 5 columns):\n",
      " #   Column    Non-Null Count  Dtype  \n",
      "---  ------    --------------  -----  \n",
      " 0   calls     3214 non-null   float64\n",
      " 1   minutes   3214 non-null   float64\n",
      " 2   messages  3214 non-null   float64\n",
      " 3   mb_used   3214 non-null   float64\n",
      " 4   is_ultra  3214 non-null   int64  \n",
      "dtypes: float64(4), int64(1)\n",
      "memory usage: 125.7 KB\n"
     ]
    }
   ],
   "source": [
    "data.info()"
   ]
  },
  {
   "cell_type": "markdown",
   "metadata": {},
   "source": [
    "**Вывод**\n",
    "\n",
    "Данные выглядят вполне адекватными, не требующими дополнительной обработки. Пропуски отсутствуют, типы данных указаны верно.\n",
    "\n",
    "Следовательно, данные можно использовать для обучения моделей."
   ]
  },
  {
   "cell_type": "markdown",
   "metadata": {},
   "source": [
    "## Разбейте данные на выборки"
   ]
  },
  {
   "cell_type": "markdown",
   "metadata": {},
   "source": [
    "Выделим из общих данных две переменных для дальнешей работы, `X` содержащие все признаки (features) и `y` содержащий только целевой признак (target)"
   ]
  },
  {
   "cell_type": "code",
   "execution_count": 6,
   "metadata": {},
   "outputs": [],
   "source": [
    "X = data.copy()\n",
    "y = X.pop('is_ultra')"
   ]
  },
  {
   "cell_type": "markdown",
   "metadata": {},
   "source": [
    "Разделим полученные данные на обучающую, валидационную и тестовую выборки с использованием `train_test_split` из библиотеки `sklearn`.\n",
    "\n",
    "Первым этапом выделим 25% выборки как тестовые (если не указано другого, значение test_size=0.25)"
   ]
  },
  {
   "cell_type": "code",
   "execution_count": 7,
   "metadata": {},
   "outputs": [],
   "source": [
    "X_temp, X_test, y_temp, y_test = train_test_split(X, y, test_size=0.25, random_state=13)"
   ]
  },
  {
   "cell_type": "markdown",
   "metadata": {},
   "source": [
    "Далее выделим такие же 25% из оставшихся данных (18.75% от изначального) для валидации, всё оставшееся - для обучения:"
   ]
  },
  {
   "cell_type": "code",
   "execution_count": 8,
   "metadata": {},
   "outputs": [],
   "source": [
    "X_train, X_valid, y_train, y_valid = train_test_split(X_temp, y_temp, test_size=0.25, random_state=13)"
   ]
  },
  {
   "cell_type": "markdown",
   "metadata": {},
   "source": [
    "**Вывод**\n",
    "\n",
    "Данные подготовлены к моделированию, и разбиты в пропорциях:\n",
    "\n",
    "- **56.25%** - тренировочные данные\n",
    "- **25%** - тестовые данные\n",
    "- **18.75%** - валидационные данные."
   ]
  },
  {
   "cell_type": "markdown",
   "metadata": {},
   "source": [
    "## Исследуйте модели"
   ]
  },
  {
   "cell_type": "markdown",
   "metadata": {},
   "source": [
    "Напишем примитивные функции по проверке разных гиперпараметров моделей для выбора наилучшей.\n",
    "\n",
    "Для проверки модели **DecisionTreeClassifier**"
   ]
  },
  {
   "cell_type": "code",
   "execution_count": 9,
   "metadata": {},
   "outputs": [],
   "source": [
    "def check_tree(X, y, X_valid, y_valid, m_depth=10):\n",
    "#   'DecisionTreeClassifier'\n",
    "    best_model = None\n",
    "    best_result = 0\n",
    "    \n",
    "    for depth in range(1, (m_depth+1)):\n",
    "        model = DecisionTreeClassifier(max_depth=depth, random_state=13)\n",
    "        model.fit(X, y)\n",
    "        result = accuracy_score(y_valid, model.predict(X_valid))\n",
    "        if result > best_result:\n",
    "            best_model = model\n",
    "            best_result = result\n",
    "    print('Модель DecisionTreeClassifier,',\n",
    "          '(depth = ', str(best_model.get_params()['max_depth']), ')',\n",
    "          'accuracy составляет:', best_result)\n",
    "    return best_model"
   ]
  },
  {
   "cell_type": "markdown",
   "metadata": {},
   "source": [
    "Для проверки модели **RandomForestClassifier**"
   ]
  },
  {
   "cell_type": "code",
   "execution_count": 10,
   "metadata": {},
   "outputs": [],
   "source": [
    "def check_rand(X, y, X_valid, y_valid, m_depth=10, n_est=200):\n",
    "#   'RandomForestClassifier'\n",
    "    best_model = None\n",
    "    best_result = 0\n",
    "    \n",
    "    for depth in range(1, (m_depth+1)):\n",
    "        for est in range(10, (n_est+1), 10):\n",
    "            model = RandomForestClassifier(n_estimators=est, max_depth=depth, random_state=13)\n",
    "            model.fit(X, y)\n",
    "            result = accuracy_score(y_valid, model.predict(X_valid))\n",
    "        if result > best_result:\n",
    "            best_model = model\n",
    "            best_result = result\n",
    "        \n",
    "    print('Модель RandomForestClassifier,',\n",
    "          '(depth = ', best_model.get_params()['max_depth'], ')',\n",
    "          '(n_estimators = ', best_model.get_params()['n_estimators'], ')',\n",
    "          'accuracy составляет:', best_result)\n",
    "    \n",
    "    return best_model"
   ]
  },
  {
   "cell_type": "markdown",
   "metadata": {},
   "source": [
    "Для проверки модели **LogisticRegression**"
   ]
  },
  {
   "cell_type": "code",
   "execution_count": 11,
   "metadata": {},
   "outputs": [],
   "source": [
    "def check_logi(X, y, X_valid, y_valid):\n",
    "#   'LogisticRegression':  \n",
    "    model = LogisticRegression(solver = 'lbfgs', random_state=13)\n",
    "    model.fit(X, y)\n",
    "\n",
    "    print('Модель LogisticRegression, accuracy составляет:', accuracy_score(y_valid, model.predict(X_valid)))\n",
    "    \n",
    "    return model"
   ]
  },
  {
   "cell_type": "markdown",
   "metadata": {},
   "source": [
    "Воспользуемся нашими функциями `check_tree()`, `check_random()` и `check_logi()`"
   ]
  },
  {
   "cell_type": "code",
   "execution_count": 12,
   "metadata": {},
   "outputs": [
    {
     "name": "stdout",
     "output_type": "stream",
     "text": [
      "Модель DecisionTreeClassifier, (depth =  3 ) accuracy составляет: 0.7810945273631841\n"
     ]
    }
   ],
   "source": [
    "model_tree = check_tree(X_train, y_train, X_valid, y_valid)"
   ]
  },
  {
   "cell_type": "code",
   "execution_count": 13,
   "metadata": {},
   "outputs": [
    {
     "name": "stdout",
     "output_type": "stream",
     "text": [
      "Модель RandomForestClassifier, (depth =  9 ) (n_estimators =  200 ) accuracy составляет: 0.7943615257048093\n"
     ]
    }
   ],
   "source": [
    "model_rand = check_rand(X_train, y_train, X_valid, y_valid)"
   ]
  },
  {
   "cell_type": "code",
   "execution_count": 14,
   "metadata": {},
   "outputs": [
    {
     "name": "stdout",
     "output_type": "stream",
     "text": [
      "Модель LogisticRegression, accuracy составляет: 0.6948590381426202\n"
     ]
    }
   ],
   "source": [
    "model_logi = check_logi(X_train, y_train, X_valid, y_valid)"
   ]
  },
  {
   "cell_type": "markdown",
   "metadata": {},
   "source": [
    "**Вывод**\n",
    "\n",
    "- В результате работы функции мы определили наилучшую модель: RandomForestClassifier с гиперпараметрами глубины - 9 и количества деревьев - 200.\n",
    "- Модель логистической регрессии показала себя хуже всех в данных условиях, со значением точности в ~0.69\n",
    "- Модель одиночного дерева показала схожую точность, при более быстром выполненнии (0.78 против 0.79 у RandomForest)"
   ]
  },
  {
   "cell_type": "markdown",
   "metadata": {},
   "source": [
    "**Дополнительная проверка**\n",
    "\n",
    "Предположительно, значение колонки `calls` не имеет смысла в обучении модели, так как тариф этого не учитывает, и имеет значение только суммарное количество проговоренных минут, в связи с этим, проверим:"
   ]
  },
  {
   "cell_type": "code",
   "execution_count": 15,
   "metadata": {
    "scrolled": true
   },
   "outputs": [
    {
     "name": "stdout",
     "output_type": "stream",
     "text": [
      "Модель DecisionTreeClassifier, (depth =  3 ) accuracy составляет: 0.7810945273631841\n",
      "Модель RandomForestClassifier, (depth =  8 ) (n_estimators =  200 ) accuracy составляет: 0.7976782752902156\n",
      "Модель LogisticRegression, accuracy составляет: 0.736318407960199\n"
     ]
    }
   ],
   "source": [
    "features = ['minutes', 'messages', 'mb_used', 'is_ultra']\n",
    "X2 = data[features].copy()\n",
    "y2 = X2.pop('is_ultra')\n",
    "\n",
    "X2_temp, X2_test, y2_temp, y2_test = train_test_split(X2, y2, random_state=13)\n",
    "X2_train, X2_valid, y2_train, y2_valid = train_test_split(X2_temp, y2_temp, random_state=13)\n",
    "\n",
    "model_tree_strip = check_tree(X2_train, y2_train, X2_valid, y2_valid)\n",
    "model_rand_strip = check_rand(X2_train, y2_train, X2_valid, y2_valid)\n",
    "model_logi_strip = check_logi(X2_train, y2_train, X2_valid, y2_valid)"
   ]
  },
  {
   "cell_type": "markdown",
   "metadata": {},
   "source": [
    "**Дополнительный вывод**\n",
    "\n",
    "Исключение колонки `calls` из набора данных оказало незначительное влияние на результат (в пределах погрешности), при этом:\n",
    "\n",
    "- Модель **LogisticRegression** показала себя заметно лучше (0.73 против 0.69)\n",
    "- Модель **DecisionTreeClassifier** не показала никаких изменений вовсе.\n",
    "- В то время как модель **RandomForestClassifier** немного улучшило результат (0.798 против 0.794), но при меньшей глубине дерева (8 против 9), что должно при больших объёмах данных снизить затрачиваемое время."
   ]
  },
  {
   "cell_type": "markdown",
   "metadata": {},
   "source": [
    "## Проверьте модель на тестовой выборке"
   ]
  },
  {
   "cell_type": "markdown",
   "metadata": {},
   "source": [
    "Испытаем нашу модель (**RandomForestClassifier**) на тестовой выборке `X_test`"
   ]
  },
  {
   "cell_type": "code",
   "execution_count": 16,
   "metadata": {},
   "outputs": [
    {
     "data": {
      "text/plain": [
       "0.8109452736318408"
      ]
     },
     "execution_count": 16,
     "metadata": {},
     "output_type": "execute_result"
    }
   ],
   "source": [
    "prediction = model_rand.predict(X_test)\n",
    "accuracy_score(y_test, prediction)"
   ]
  },
  {
   "cell_type": "markdown",
   "metadata": {},
   "source": [
    "Точность (accuracy), проверенная на тестовой выборке моделью **RandomForestClassifier**, составляет 0,81. Т.е. 81% совпадений с реальностью из 100% возможных.\n",
    "\n",
    "19% ошибок - достаточно большое значение, и может быть как связано с неверным выбором признаков для моделирования, так и с малым количеством данных для тренировки.\n",
    "\n",
    "---"
   ]
  },
  {
   "cell_type": "markdown",
   "metadata": {},
   "source": [
    "Также проверим нашу модель, не включающую в себя колонку `calls`"
   ]
  },
  {
   "cell_type": "code",
   "execution_count": 17,
   "metadata": {},
   "outputs": [
    {
     "data": {
      "text/plain": [
       "0.8146766169154229"
      ]
     },
     "execution_count": 17,
     "metadata": {},
     "output_type": "execute_result"
    }
   ],
   "source": [
    "prediction_strip = model_rand_strip.predict(X_test.drop(columns='calls'))\n",
    "accuracy_score(y_test, prediction_strip)"
   ]
  },
  {
   "cell_type": "markdown",
   "metadata": {},
   "source": [
    "Точность по сравнению с полными данынми изменилась незначительно, и также находится в пределах погрешности.\n",
    "\n",
    "---"
   ]
  },
  {
   "cell_type": "markdown",
   "metadata": {},
   "source": [
    "Проверим модель, не выбранную как лучшую, но более быструю (**DecisionTreeClassifier**, с параметрами, определёнными как лучшие в рамках работы функции `check_tree()`):"
   ]
  },
  {
   "cell_type": "code",
   "execution_count": 18,
   "metadata": {},
   "outputs": [
    {
     "data": {
      "text/plain": [
       "0.7997512437810945"
      ]
     },
     "execution_count": 18,
     "metadata": {},
     "output_type": "execute_result"
    }
   ],
   "source": [
    "model_tree.fit(X_train, y_train)\n",
    "accuracy_score(y_test, model_tree.predict(X_test))"
   ]
  },
  {
   "cell_type": "markdown",
   "metadata": {},
   "source": [
    "Accuracy, определённая на тестовой выборке в данном случае составляет 0.7998, т.е. почти идентичный результат в 80% процентов, при меньшей нагрузке и времени расчёта.\n",
    "\n",
    "---"
   ]
  },
  {
   "cell_type": "markdown",
   "metadata": {},
   "source": [
    "**Вывод**\n",
    "\n",
    "Модель достигла целевой точности (*>0.75*), и выполняет свою работу с ошибкой в 19% случаев, что тем не менее составляет почти 1/5 всех случаев."
   ]
  },
  {
   "cell_type": "markdown",
   "metadata": {},
   "source": [
    "## (бонус) Проверьте модели на адекватность"
   ]
  },
  {
   "cell_type": "markdown",
   "metadata": {},
   "source": [
    "Для проверки модели на адекватность, сравним предсказанные значения со случайными. Для генерации случайных значений загрузим библиотеку `numpy` "
   ]
  },
  {
   "cell_type": "code",
   "execution_count": 19,
   "metadata": {},
   "outputs": [],
   "source": [
    "import numpy as np"
   ]
  },
  {
   "cell_type": "markdown",
   "metadata": {},
   "source": [
    "... и сгенерируем последовательность методом `np.random.randint()` из случайных значений `0` и `1`. Проверку точности проведём тем же методом, что оценивали результат работы моделей, через `accuracy_score()`.\n",
    "\n",
    "Для чистоты эксперимента, проведём такую генерацию случайных ответов несколько раз, и выберем наилучшее."
   ]
  },
  {
   "cell_type": "code",
   "execution_count": 20,
   "metadata": {
    "scrolled": false
   },
   "outputs": [
    {
     "name": "stdout",
     "output_type": "stream",
     "text": [
      "Accuracy случайных результатов составляет: 0.5174129353233831\n"
     ]
    }
   ],
   "source": [
    "score_random = 0\n",
    "for _ in range(10):\n",
    "    predictions_random = np.random.randint(0, 2, X_test.shape[0])\n",
    "    if score_random < accuracy_score(y_test, predictions_random):\n",
    "        score_random = accuracy_score(y_test, predictions_random)\n",
    "        \n",
    "print('Accuracy случайных результатов составляет:', score_random)"
   ]
  },
  {
   "cell_type": "markdown",
   "metadata": {},
   "source": [
    "**Промежуточный вывод**\n",
    "\n",
    "Принятую модель можно признать адекватной, так как её точность составляет **0.81**, что больше accuracy чисто случайной последовательности, равной **0.49-0.55**"
   ]
  },
  {
   "cell_type": "markdown",
   "metadata": {},
   "source": [
    "Проведём дополнительную проверку модели на адекватность с использованием **DummyClassifier**"
   ]
  },
  {
   "cell_type": "code",
   "execution_count": 21,
   "metadata": {},
   "outputs": [
    {
     "name": "stdout",
     "output_type": "stream",
     "text": [
      "DummyClassifier с параметром stratified, точность составляет: 0.5808457711442786\n",
      "DummyClassifier с параметром most_frequent, точность составляет: 0.6865671641791045\n"
     ]
    }
   ],
   "source": [
    "from sklearn.dummy import DummyClassifier\n",
    "\n",
    "dummy_strat = DummyClassifier(strategy = 'stratified')\n",
    "dummy_freq = DummyClassifier(strategy = 'most_frequent')\n",
    "\n",
    "dummy_strat.fit(X_train, y_train)\n",
    "dummy_freq.fit(X_train, y_train)\n",
    "\n",
    "\n",
    "print('DummyClassifier с параметром stratified, точность составляет:',\n",
    "      accuracy_score(y_test, dummy_strat.predict(X_test)))\n",
    "      \n",
    "print('DummyClassifier с параметром most_frequent, точность составляет:',\n",
    "      accuracy_score(y_test, dummy_freq.predict(X_test)))"
   ]
  },
  {
   "cell_type": "markdown",
   "metadata": {},
   "source": [
    "**Финальный вывод**\n",
    "\n",
    "При проверке с использованием **DummyClassifier** (*accuracy = 0.68*), адекватными можно считать только модели **DecisionTreeClassifier** и **RandomForestClassifier**, со значениями *accuracy* в районе **0.8**. \n",
    "\n",
    "Модель же **LogisticRegression** к адекватным отнести нельзя, так как точность данной модели совпадает с точностью **DummyClassifier**"
   ]
  },
  {
   "cell_type": "markdown",
   "metadata": {},
   "source": [
    "## Общий вывод"
   ]
  },
  {
   "cell_type": "markdown",
   "metadata": {},
   "source": [
    "При выборе и тренировки моделей на данном наборе данных можно заключить, что:\n",
    "\n",
    "- с использованием модели **RandomForestClassifier**, достигается наибольшая точность (accuracy) **0.81**, но требует больше времени на тренировку модели;\n",
    "- модель **DecisionTreeClassifier** показывает сопоставимый результат по точности (**0.8** на тестовой выборке), и требует меньше системных ресурсов, при этом, всё ещё удовлетворяя искомой точности ***>0.75***. При больших объёмах данных, и при той же искомой точности данная модель имеет больший практический смысл, и рекомендуется к применению;\n",
    "- модель **LogisticRegression** показала себя хуже всех, и находится за гранью допустимой точности, в данных условиях не применима."
   ]
  }
 ],
 "metadata": {
  "ExecuteTimeLog": [
   {
    "duration": 8144,
    "start_time": "2021-06-16T07:35:21.403Z"
   },
   {
    "duration": 36,
    "start_time": "2021-06-16T07:35:57.575Z"
   },
   {
    "duration": -65,
    "start_time": "2021-06-16T07:36:05.350Z"
   },
   {
    "duration": 32,
    "start_time": "2021-06-16T07:36:07.322Z"
   },
   {
    "duration": 31,
    "start_time": "2021-06-16T07:36:21.729Z"
   },
   {
    "duration": 588,
    "start_time": "2021-06-16T07:38:08.576Z"
   },
   {
    "duration": 3,
    "start_time": "2021-06-16T07:38:09.672Z"
   },
   {
    "duration": 22,
    "start_time": "2021-06-16T07:38:27.324Z"
   },
   {
    "duration": 15,
    "start_time": "2021-06-16T07:38:40.461Z"
   },
   {
    "duration": 10,
    "start_time": "2021-06-16T07:39:43.617Z"
   },
   {
    "duration": 8,
    "start_time": "2021-06-16T07:48:35.610Z"
   },
   {
    "duration": 17,
    "start_time": "2021-06-16T07:48:42.620Z"
   },
   {
    "duration": 17,
    "start_time": "2021-06-16T07:48:50.059Z"
   },
   {
    "duration": 324,
    "start_time": "2021-06-16T07:50:17.537Z"
   },
   {
    "duration": 7,
    "start_time": "2021-06-16T07:50:27.514Z"
   },
   {
    "duration": 16,
    "start_time": "2021-06-16T07:50:30.807Z"
   },
   {
    "duration": 7,
    "start_time": "2021-06-16T07:50:38.792Z"
   },
   {
    "duration": 16,
    "start_time": "2021-06-16T07:50:39.617Z"
   },
   {
    "duration": 17,
    "start_time": "2021-06-16T07:50:40.434Z"
   },
   {
    "duration": 7,
    "start_time": "2021-06-16T07:51:11.022Z"
   },
   {
    "duration": 18,
    "start_time": "2021-06-16T07:51:13.244Z"
   },
   {
    "duration": 734,
    "start_time": "2021-06-16T07:52:28.478Z"
   },
   {
    "duration": 623,
    "start_time": "2021-06-16T07:52:29.214Z"
   },
   {
    "duration": 3,
    "start_time": "2021-06-16T07:52:29.840Z"
   },
   {
    "duration": 23,
    "start_time": "2021-06-16T07:52:30.388Z"
   },
   {
    "duration": 10,
    "start_time": "2021-06-16T07:52:31.580Z"
   },
   {
    "duration": 4,
    "start_time": "2021-06-16T08:03:46.073Z"
   },
   {
    "duration": 5,
    "start_time": "2021-06-16T08:04:00.856Z"
   },
   {
    "duration": 16,
    "start_time": "2021-06-16T08:04:05.377Z"
   },
   {
    "duration": 6,
    "start_time": "2021-06-16T08:04:08.857Z"
   },
   {
    "duration": 7,
    "start_time": "2021-06-16T08:05:38.975Z"
   },
   {
    "duration": 8,
    "start_time": "2021-06-16T08:06:31.552Z"
   },
   {
    "duration": 15,
    "start_time": "2021-06-16T08:08:04.523Z"
   },
   {
    "duration": 15,
    "start_time": "2021-06-16T08:08:08.979Z"
   },
   {
    "duration": 15,
    "start_time": "2021-06-16T08:08:14.951Z"
   },
   {
    "duration": 15,
    "start_time": "2021-06-16T08:08:52.279Z"
   },
   {
    "duration": 32,
    "start_time": "2021-06-16T08:17:26.838Z"
   },
   {
    "duration": 4,
    "start_time": "2021-06-16T08:17:27.820Z"
   },
   {
    "duration": 62,
    "start_time": "2021-06-16T08:17:57.796Z"
   },
   {
    "duration": 5,
    "start_time": "2021-06-16T08:17:58.566Z"
   },
   {
    "duration": 228,
    "start_time": "2021-06-16T08:18:06.413Z"
   },
   {
    "duration": 4,
    "start_time": "2021-06-16T08:18:07.201Z"
   },
   {
    "duration": 26,
    "start_time": "2021-06-16T08:18:09.771Z"
   },
   {
    "duration": 5,
    "start_time": "2021-06-16T08:18:10.647Z"
   },
   {
    "duration": 31,
    "start_time": "2021-06-16T08:18:13.157Z"
   },
   {
    "duration": 4,
    "start_time": "2021-06-16T08:18:13.921Z"
   },
   {
    "duration": 39,
    "start_time": "2021-06-16T08:18:16.024Z"
   },
   {
    "duration": 5,
    "start_time": "2021-06-16T08:18:16.876Z"
   },
   {
    "duration": 34,
    "start_time": "2021-06-16T08:18:19.218Z"
   },
   {
    "duration": 5,
    "start_time": "2021-06-16T08:18:20.096Z"
   },
   {
    "duration": 36,
    "start_time": "2021-06-16T08:20:29.673Z"
   },
   {
    "duration": 11,
    "start_time": "2021-06-16T09:34:38.234Z"
   },
   {
    "duration": 74,
    "start_time": "2021-06-16T09:35:07.589Z"
   },
   {
    "duration": 37164,
    "start_time": "2021-06-16T09:35:23.866Z"
   },
   {
    "duration": 21,
    "start_time": "2021-06-16T09:36:16.719Z"
   },
   {
    "duration": 18,
    "start_time": "2021-06-16T09:37:12.738Z"
   },
   {
    "duration": 6,
    "start_time": "2021-06-16T09:37:18.286Z"
   },
   {
    "duration": 483,
    "start_time": "2021-06-16T09:37:27.405Z"
   },
   {
    "duration": 94,
    "start_time": "2021-06-16T09:37:32.127Z"
   },
   {
    "duration": 5,
    "start_time": "2021-06-16T09:37:35.396Z"
   },
   {
    "duration": 293,
    "start_time": "2021-06-16T09:38:32.417Z"
   },
   {
    "duration": 278,
    "start_time": "2021-06-16T09:38:36.854Z"
   },
   {
    "duration": 6,
    "start_time": "2021-06-16T09:38:39.729Z"
   },
   {
    "duration": 11,
    "start_time": "2021-06-16T09:54:40.708Z"
   },
   {
    "duration": 37325,
    "start_time": "2021-06-16T09:54:54.768Z"
   },
   {
    "duration": 11,
    "start_time": "2021-06-16T09:57:47.051Z"
   },
   {
    "duration": 649,
    "start_time": "2021-06-16T09:57:48.665Z"
   },
   {
    "duration": 10,
    "start_time": "2021-06-16T10:03:06.275Z"
   },
   {
    "duration": 37586,
    "start_time": "2021-06-16T10:03:17.713Z"
   },
   {
    "duration": 9,
    "start_time": "2021-06-16T10:04:26.968Z"
   },
   {
    "duration": 65107,
    "start_time": "2021-06-16T10:04:28.331Z"
   },
   {
    "duration": 309,
    "start_time": "2021-06-16T10:08:03.574Z"
   },
   {
    "duration": 65319,
    "start_time": "2021-06-16T10:08:10.895Z"
   },
   {
    "duration": 5,
    "start_time": "2021-06-16T10:09:29.579Z"
   },
   {
    "duration": 264,
    "start_time": "2021-06-16T10:09:34.463Z"
   },
   {
    "duration": 6,
    "start_time": "2021-06-16T10:09:37.196Z"
   },
   {
    "duration": 282,
    "start_time": "2021-06-16T10:10:09.591Z"
   },
   {
    "duration": 5,
    "start_time": "2021-06-16T10:10:12.411Z"
   },
   {
    "duration": 11,
    "start_time": "2021-06-16T10:10:35.075Z"
   },
   {
    "duration": 6,
    "start_time": "2021-06-16T10:11:00.026Z"
   },
   {
    "duration": 274,
    "start_time": "2021-06-16T10:11:06.135Z"
   },
   {
    "duration": 276,
    "start_time": "2021-06-16T10:11:14.249Z"
   },
   {
    "duration": 283,
    "start_time": "2021-06-16T10:11:21.317Z"
   },
   {
    "duration": 11,
    "start_time": "2021-06-16T10:11:56.873Z"
   },
   {
    "duration": 11,
    "start_time": "2021-06-16T10:12:29.020Z"
   },
   {
    "duration": 631,
    "start_time": "2021-06-16T10:12:32.856Z"
   },
   {
    "duration": 12,
    "start_time": "2021-06-16T10:12:55.380Z"
   },
   {
    "duration": 66100,
    "start_time": "2021-06-16T10:12:57.124Z"
   },
   {
    "duration": 13,
    "start_time": "2021-06-16T10:18:29.980Z"
   },
   {
    "duration": 66304,
    "start_time": "2021-06-16T10:18:36.196Z"
   },
   {
    "duration": 6,
    "start_time": "2021-06-16T10:20:14.664Z"
   },
   {
    "duration": 12,
    "start_time": "2021-06-16T10:23:54.996Z"
   },
   {
    "duration": 13,
    "start_time": "2021-06-16T10:24:10.511Z"
   },
   {
    "duration": 13,
    "start_time": "2021-06-16T10:26:09.189Z"
   },
   {
    "duration": 67272,
    "start_time": "2021-06-16T10:26:12.837Z"
   },
   {
    "duration": 48,
    "start_time": "2021-06-16T10:31:13.505Z"
   },
   {
    "duration": 7,
    "start_time": "2021-06-16T10:31:35.254Z"
   },
   {
    "duration": 49,
    "start_time": "2021-06-16T10:31:37.480Z"
   },
   {
    "duration": 6,
    "start_time": "2021-06-16T10:31:39.111Z"
   },
   {
    "duration": 52,
    "start_time": "2021-06-16T10:32:51.500Z"
   },
   {
    "duration": 7,
    "start_time": "2021-06-16T10:37:00.029Z"
   },
   {
    "duration": 933,
    "start_time": "2021-06-16T10:37:52.156Z"
   },
   {
    "duration": 925,
    "start_time": "2021-06-16T10:38:02.302Z"
   },
   {
    "duration": 926,
    "start_time": "2021-06-16T10:38:08.150Z"
   },
   {
    "duration": 1033,
    "start_time": "2021-06-16T10:40:10.271Z"
   },
   {
    "duration": 806,
    "start_time": "2021-06-16T10:40:20.097Z"
   },
   {
    "duration": 933,
    "start_time": "2021-06-16T10:40:23.807Z"
   },
   {
    "duration": 1346,
    "start_time": "2021-06-16T10:40:26.264Z"
   },
   {
    "duration": 931,
    "start_time": "2021-06-16T10:40:29.799Z"
   },
   {
    "duration": 1077,
    "start_time": "2021-06-16T10:43:22.933Z"
   },
   {
    "duration": 18,
    "start_time": "2021-06-16T10:49:53.350Z"
   },
   {
    "duration": 71175,
    "start_time": "2021-06-16T10:49:56.227Z"
   },
   {
    "duration": 53,
    "start_time": "2021-06-16T10:51:50.049Z"
   },
   {
    "duration": 985,
    "start_time": "2021-06-16T10:51:51.387Z"
   },
   {
    "duration": 13,
    "start_time": "2021-06-16T10:52:10.781Z"
   },
   {
    "duration": 23,
    "start_time": "2021-06-16T10:53:33.212Z"
   },
   {
    "duration": 992,
    "start_time": "2021-06-16T10:53:34.050Z"
   },
   {
    "duration": 10,
    "start_time": "2021-06-16T11:03:58.004Z"
   },
   {
    "duration": 7,
    "start_time": "2021-06-16T11:04:00.537Z"
   },
   {
    "duration": 6,
    "start_time": "2021-06-16T11:04:01.720Z"
   },
   {
    "duration": 14,
    "start_time": "2021-06-16T11:04:02.687Z"
   },
   {
    "duration": 58655,
    "start_time": "2021-06-16T11:04:04.073Z"
   },
   {
    "duration": 50,
    "start_time": "2021-06-16T11:05:19.987Z"
   },
   {
    "duration": 290,
    "start_time": "2021-06-16T11:05:22.199Z"
   },
   {
    "duration": 333,
    "start_time": "2021-06-16T11:05:51.924Z"
   },
   {
    "duration": 729,
    "start_time": "2021-06-16T11:05:57.002Z"
   },
   {
    "duration": 703,
    "start_time": "2021-06-16T11:06:14.961Z"
   },
   {
    "duration": 629,
    "start_time": "2021-06-16T11:06:15.667Z"
   },
   {
    "duration": 3,
    "start_time": "2021-06-16T11:06:16.299Z"
   },
   {
    "duration": 36,
    "start_time": "2021-06-16T11:06:16.305Z"
   },
   {
    "duration": 8,
    "start_time": "2021-06-16T11:06:16.343Z"
   },
   {
    "duration": 8,
    "start_time": "2021-06-16T11:06:16.353Z"
   },
   {
    "duration": 8,
    "start_time": "2021-06-16T11:06:16.364Z"
   },
   {
    "duration": 6,
    "start_time": "2021-06-16T11:06:16.375Z"
   },
   {
    "duration": 50,
    "start_time": "2021-06-16T11:06:16.384Z"
   },
   {
    "duration": 57036,
    "start_time": "2021-06-16T11:06:16.436Z"
   },
   {
    "duration": 70,
    "start_time": "2021-06-16T11:07:13.475Z"
   },
   {
    "duration": 419,
    "start_time": "2021-06-16T11:07:13.548Z"
   },
   {
    "duration": 12,
    "start_time": "2021-06-16T11:07:13.957Z"
   },
   {
    "duration": 779,
    "start_time": "2021-06-16T11:08:16.160Z"
   },
   {
    "duration": 57,
    "start_time": "2021-06-16T11:08:50.677Z"
   },
   {
    "duration": 12,
    "start_time": "2021-06-16T11:09:27.047Z"
   },
   {
    "duration": 14,
    "start_time": "2021-06-16T11:09:53.902Z"
   },
   {
    "duration": 718,
    "start_time": "2021-06-16T11:10:05.335Z"
   },
   {
    "duration": 688,
    "start_time": "2021-06-16T11:10:38.512Z"
   },
   {
    "duration": 64093,
    "start_time": "2021-06-16T11:14:52.553Z"
   },
   {
    "duration": 3,
    "start_time": "2021-06-16T11:19:02.090Z"
   },
   {
    "duration": 754,
    "start_time": "2021-06-16T11:20:25.940Z"
   },
   {
    "duration": 562,
    "start_time": "2021-06-16T11:20:26.696Z"
   },
   {
    "duration": 3,
    "start_time": "2021-06-16T11:20:27.260Z"
   },
   {
    "duration": 23,
    "start_time": "2021-06-16T11:20:27.266Z"
   },
   {
    "duration": 32,
    "start_time": "2021-06-16T11:20:27.292Z"
   },
   {
    "duration": 6,
    "start_time": "2021-06-16T11:20:27.327Z"
   },
   {
    "duration": 10,
    "start_time": "2021-06-16T11:20:27.336Z"
   },
   {
    "duration": 7,
    "start_time": "2021-06-16T11:20:27.351Z"
   },
   {
    "duration": 18,
    "start_time": "2021-06-16T11:20:27.361Z"
   },
   {
    "duration": 57555,
    "start_time": "2021-06-16T11:20:27.381Z"
   },
   {
    "duration": 68428,
    "start_time": "2021-06-16T11:21:24.938Z"
   },
   {
    "duration": 67,
    "start_time": "2021-06-16T11:22:33.368Z"
   },
   {
    "duration": 92,
    "start_time": "2021-06-16T11:22:33.438Z"
   },
   {
    "duration": 30,
    "start_time": "2021-06-16T11:22:33.502Z"
   },
   {
    "duration": 29,
    "start_time": "2021-06-16T11:22:33.505Z"
   },
   {
    "duration": 98,
    "start_time": "2021-06-16T11:23:41.988Z"
   },
   {
    "duration": 399,
    "start_time": "2021-06-16T11:23:50.191Z"
   },
   {
    "duration": 101,
    "start_time": "2021-06-16T11:24:03.488Z"
   },
   {
    "duration": 52,
    "start_time": "2021-06-16T11:24:07.034Z"
   },
   {
    "duration": 53,
    "start_time": "2021-06-16T11:24:36.233Z"
   },
   {
    "duration": 52,
    "start_time": "2021-06-16T11:24:40.265Z"
   },
   {
    "duration": 57676,
    "start_time": "2021-06-16T11:25:33.150Z"
   },
   {
    "duration": 51,
    "start_time": "2021-06-16T11:28:23.907Z"
   },
   {
    "duration": 727,
    "start_time": "2021-06-16T11:29:13.853Z"
   },
   {
    "duration": 581,
    "start_time": "2021-06-16T11:29:14.583Z"
   },
   {
    "duration": 3,
    "start_time": "2021-06-16T11:29:15.167Z"
   },
   {
    "duration": 28,
    "start_time": "2021-06-16T11:29:15.173Z"
   },
   {
    "duration": 27,
    "start_time": "2021-06-16T11:29:15.203Z"
   },
   {
    "duration": 4,
    "start_time": "2021-06-16T11:29:15.233Z"
   },
   {
    "duration": 29,
    "start_time": "2021-06-16T11:29:15.239Z"
   },
   {
    "duration": 8,
    "start_time": "2021-06-16T11:29:15.273Z"
   },
   {
    "duration": 17,
    "start_time": "2021-06-16T11:29:15.284Z"
   },
   {
    "duration": 67394,
    "start_time": "2021-06-16T11:29:15.303Z"
   },
   {
    "duration": 56390,
    "start_time": "2021-06-16T11:30:22.699Z"
   },
   {
    "duration": 64,
    "start_time": "2021-06-16T11:31:19.092Z"
   },
   {
    "duration": 423,
    "start_time": "2021-06-16T11:31:19.158Z"
   },
   {
    "duration": -203,
    "start_time": "2021-06-16T11:31:19.787Z"
   },
   {
    "duration": -205,
    "start_time": "2021-06-16T11:31:19.790Z"
   },
   {
    "duration": 55,
    "start_time": "2021-06-16T11:33:04.944Z"
   },
   {
    "duration": 51,
    "start_time": "2021-06-16T11:38:09.052Z"
   },
   {
    "duration": 12,
    "start_time": "2021-06-16T11:39:21.654Z"
   },
   {
    "duration": 3,
    "start_time": "2021-06-16T11:47:56.779Z"
   },
   {
    "duration": 8,
    "start_time": "2021-06-16T11:49:33.373Z"
   },
   {
    "duration": 7,
    "start_time": "2021-06-16T11:49:37.523Z"
   },
   {
    "duration": 8,
    "start_time": "2021-06-16T11:50:01.597Z"
   },
   {
    "duration": 5,
    "start_time": "2021-06-16T11:50:36.091Z"
   },
   {
    "duration": 6,
    "start_time": "2021-06-16T11:51:12.278Z"
   },
   {
    "duration": 4,
    "start_time": "2021-06-16T11:51:42.824Z"
   },
   {
    "duration": 7,
    "start_time": "2021-06-16T11:51:43.398Z"
   },
   {
    "duration": 4,
    "start_time": "2021-06-16T11:51:45.191Z"
   },
   {
    "duration": 7,
    "start_time": "2021-06-16T11:51:45.712Z"
   },
   {
    "duration": 3,
    "start_time": "2021-06-16T11:51:47.476Z"
   },
   {
    "duration": 8,
    "start_time": "2021-06-16T11:51:48.153Z"
   },
   {
    "duration": 4,
    "start_time": "2021-06-16T11:55:47.297Z"
   },
   {
    "duration": 12,
    "start_time": "2021-06-16T11:55:48.775Z"
   },
   {
    "duration": 13,
    "start_time": "2021-06-16T11:56:18.283Z"
   },
   {
    "duration": 51,
    "start_time": "2021-06-16T12:03:35.391Z"
   },
   {
    "duration": 915,
    "start_time": "2021-06-16T12:10:26.894Z"
   },
   {
    "duration": 756,
    "start_time": "2021-06-16T12:10:27.812Z"
   },
   {
    "duration": 3,
    "start_time": "2021-06-16T12:10:28.571Z"
   },
   {
    "duration": 25,
    "start_time": "2021-06-16T12:10:28.577Z"
   },
   {
    "duration": 21,
    "start_time": "2021-06-16T12:10:28.605Z"
   },
   {
    "duration": 22,
    "start_time": "2021-06-16T12:10:28.628Z"
   },
   {
    "duration": 19,
    "start_time": "2021-06-16T12:10:28.652Z"
   },
   {
    "duration": 14,
    "start_time": "2021-06-16T12:10:28.674Z"
   },
   {
    "duration": 15,
    "start_time": "2021-06-16T12:10:28.691Z"
   },
   {
    "duration": 70771,
    "start_time": "2021-06-16T12:10:28.708Z"
   },
   {
    "duration": 57528,
    "start_time": "2021-06-16T12:11:39.481Z"
   },
   {
    "duration": 61,
    "start_time": "2021-06-16T12:12:37.012Z"
   },
   {
    "duration": 76,
    "start_time": "2021-06-16T12:12:37.076Z"
   },
   {
    "duration": 15,
    "start_time": "2021-06-16T12:12:37.155Z"
   },
   {
    "duration": 4,
    "start_time": "2021-06-16T12:12:37.172Z"
   },
   {
    "duration": 49,
    "start_time": "2021-06-16T12:12:37.179Z"
   },
   {
    "duration": 747,
    "start_time": "2021-06-16T13:08:16.813Z"
   },
   {
    "duration": 602,
    "start_time": "2021-06-16T13:08:19.395Z"
   },
   {
    "duration": 3,
    "start_time": "2021-06-16T13:08:20.379Z"
   },
   {
    "duration": 35,
    "start_time": "2021-06-16T13:08:20.947Z"
   },
   {
    "duration": 14,
    "start_time": "2021-06-16T13:08:21.251Z"
   },
   {
    "duration": 6,
    "start_time": "2021-06-16T13:08:23.329Z"
   },
   {
    "duration": 9,
    "start_time": "2021-06-16T13:08:24.429Z"
   },
   {
    "duration": 9,
    "start_time": "2021-06-16T13:08:25.516Z"
   },
   {
    "duration": 7,
    "start_time": "2021-06-16T13:08:26.194Z"
   },
   {
    "duration": 552,
    "start_time": "2021-06-16T13:49:17.005Z"
   },
   {
    "duration": 445,
    "start_time": "2021-06-16T13:49:17.559Z"
   },
   {
    "duration": 2,
    "start_time": "2021-06-16T13:49:18.006Z"
   },
   {
    "duration": 21,
    "start_time": "2021-06-16T13:49:18.010Z"
   },
   {
    "duration": 10,
    "start_time": "2021-06-16T13:49:18.033Z"
   },
   {
    "duration": 11,
    "start_time": "2021-06-16T13:49:18.044Z"
   },
   {
    "duration": 8,
    "start_time": "2021-06-16T13:49:18.056Z"
   },
   {
    "duration": 8,
    "start_time": "2021-06-16T13:49:18.066Z"
   },
   {
    "duration": 13,
    "start_time": "2021-06-16T13:49:18.075Z"
   },
   {
    "duration": 41467,
    "start_time": "2021-06-16T13:49:18.090Z"
   },
   {
    "duration": 34863,
    "start_time": "2021-06-16T13:49:59.558Z"
   },
   {
    "duration": 32,
    "start_time": "2021-06-16T13:50:34.422Z"
   },
   {
    "duration": 60,
    "start_time": "2021-06-16T13:50:34.456Z"
   },
   {
    "duration": 10,
    "start_time": "2021-06-16T13:50:34.517Z"
   },
   {
    "duration": 16,
    "start_time": "2021-06-16T13:50:34.528Z"
   },
   {
    "duration": 15,
    "start_time": "2021-06-16T13:50:34.545Z"
   },
   {
    "duration": 890,
    "start_time": "2021-06-16T16:24:31.594Z"
   },
   {
    "duration": 640,
    "start_time": "2021-06-16T16:24:33.120Z"
   },
   {
    "duration": 4,
    "start_time": "2021-06-16T16:24:34.328Z"
   },
   {
    "duration": 23,
    "start_time": "2021-06-16T16:24:35.554Z"
   },
   {
    "duration": 9,
    "start_time": "2021-06-16T16:24:37.089Z"
   },
   {
    "duration": 5,
    "start_time": "2021-06-16T16:24:39.188Z"
   },
   {
    "duration": 7,
    "start_time": "2021-06-16T16:24:39.784Z"
   },
   {
    "duration": 7,
    "start_time": "2021-06-16T16:24:40.489Z"
   },
   {
    "duration": 14,
    "start_time": "2021-06-16T16:24:43.194Z"
   },
   {
    "duration": 68167,
    "start_time": "2021-06-16T16:25:24.008Z"
   },
   {
    "duration": 14,
    "start_time": "2021-06-16T16:27:42.919Z"
   },
   {
    "duration": 99648,
    "start_time": "2021-06-16T16:27:46.201Z"
   },
   {
    "duration": 7,
    "start_time": "2021-06-16T16:34:31.424Z"
   },
   {
    "duration": 6,
    "start_time": "2021-06-16T16:39:46.977Z"
   },
   {
    "duration": 7,
    "start_time": "2021-06-16T16:39:47.617Z"
   },
   {
    "duration": 7,
    "start_time": "2021-06-16T16:39:48.361Z"
   },
   {
    "duration": 76,
    "start_time": "2021-06-16T16:40:46.641Z"
   },
   {
    "duration": 68087,
    "start_time": "2021-06-16T16:40:49.081Z"
   },
   {
    "duration": 394,
    "start_time": "2021-06-16T16:41:57.171Z"
   },
   {
    "duration": 5,
    "start_time": "2021-06-16T16:43:34.792Z"
   },
   {
    "duration": 825,
    "start_time": "2021-06-16T16:43:38.864Z"
   },
   {
    "duration": 4,
    "start_time": "2021-06-16T16:43:49.393Z"
   },
   {
    "duration": 16,
    "start_time": "2021-06-16T16:43:51.897Z"
   },
   {
    "duration": 4,
    "start_time": "2021-06-16T16:44:00.987Z"
   },
   {
    "duration": 24,
    "start_time": "2021-06-16T16:44:05.603Z"
   },
   {
    "duration": 25,
    "start_time": "2021-06-16T16:44:06.795Z"
   },
   {
    "duration": 25,
    "start_time": "2021-06-16T16:44:07.659Z"
   },
   {
    "duration": 75,
    "start_time": "2021-06-16T16:46:21.228Z"
   },
   {
    "duration": 68255,
    "start_time": "2021-06-16T16:46:22.101Z"
   },
   {
    "duration": 59895,
    "start_time": "2021-06-16T16:47:30.384Z"
   },
   {
    "duration": 33,
    "start_time": "2021-06-16T16:48:30.282Z"
   },
   {
    "duration": 57570,
    "start_time": "2021-06-16T16:49:39.727Z"
   },
   {
    "duration": 54,
    "start_time": "2021-06-16T16:50:37.309Z"
   },
   {
    "duration": 7,
    "start_time": "2021-06-16T16:53:15.212Z"
   },
   {
    "duration": 77,
    "start_time": "2021-06-16T16:53:18.030Z"
   },
   {
    "duration": 761,
    "start_time": "2021-06-16T16:55:13.957Z"
   },
   {
    "duration": 629,
    "start_time": "2021-06-16T16:55:14.721Z"
   },
   {
    "duration": 3,
    "start_time": "2021-06-16T16:55:15.353Z"
   },
   {
    "duration": 29,
    "start_time": "2021-06-16T16:55:15.358Z"
   },
   {
    "duration": 25,
    "start_time": "2021-06-16T16:55:15.389Z"
   },
   {
    "duration": 6,
    "start_time": "2021-06-16T16:55:15.416Z"
   },
   {
    "duration": 13,
    "start_time": "2021-06-16T16:55:15.424Z"
   },
   {
    "duration": 7,
    "start_time": "2021-06-16T16:55:15.441Z"
   },
   {
    "duration": 7,
    "start_time": "2021-06-16T16:55:15.451Z"
   },
   {
    "duration": 9,
    "start_time": "2021-06-16T16:55:15.460Z"
   },
   {
    "duration": 37,
    "start_time": "2021-06-16T16:55:15.471Z"
   },
   {
    "duration": 73,
    "start_time": "2021-06-16T16:55:15.511Z"
   },
   {
    "duration": 68584,
    "start_time": "2021-06-16T16:55:15.586Z"
   },
   {
    "duration": 37,
    "start_time": "2021-06-16T16:56:24.172Z"
   },
   {
    "duration": 58141,
    "start_time": "2021-06-16T16:56:24.211Z"
   },
   {
    "duration": 70,
    "start_time": "2021-06-16T16:57:22.355Z"
   },
   {
    "duration": 53,
    "start_time": "2021-06-16T16:57:22.427Z"
   },
   {
    "duration": 27,
    "start_time": "2021-06-16T16:57:22.482Z"
   },
   {
    "duration": 4,
    "start_time": "2021-06-16T16:57:22.511Z"
   },
   {
    "duration": 14,
    "start_time": "2021-06-16T16:57:22.517Z"
   },
   {
    "duration": 4,
    "start_time": "2021-06-16T17:09:28.636Z"
   },
   {
    "duration": 7,
    "start_time": "2021-06-16T17:11:37.926Z"
   },
   {
    "duration": 8,
    "start_time": "2021-06-16T17:11:46.135Z"
   },
   {
    "duration": 8,
    "start_time": "2021-06-16T17:12:06.418Z"
   },
   {
    "duration": 7,
    "start_time": "2021-06-16T17:13:13.819Z"
   },
   {
    "duration": 9,
    "start_time": "2021-06-16T17:15:01.529Z"
   },
   {
    "duration": 10,
    "start_time": "2021-06-16T17:15:02.495Z"
   },
   {
    "duration": 7,
    "start_time": "2021-06-16T17:15:09.833Z"
   },
   {
    "duration": 7,
    "start_time": "2021-06-16T17:15:12.513Z"
   },
   {
    "duration": 7,
    "start_time": "2021-06-16T17:15:13.201Z"
   },
   {
    "duration": 8,
    "start_time": "2021-06-16T17:15:13.849Z"
   },
   {
    "duration": 9,
    "start_time": "2021-06-16T17:15:14.912Z"
   },
   {
    "duration": 10,
    "start_time": "2021-06-16T17:15:15.457Z"
   },
   {
    "duration": 9,
    "start_time": "2021-06-16T17:15:16.040Z"
   },
   {
    "duration": 8,
    "start_time": "2021-06-16T17:15:16.585Z"
   },
   {
    "duration": 9,
    "start_time": "2021-06-16T17:15:17.157Z"
   },
   {
    "duration": 9,
    "start_time": "2021-06-16T17:15:17.842Z"
   },
   {
    "duration": 7,
    "start_time": "2021-06-16T17:15:18.521Z"
   },
   {
    "duration": 8,
    "start_time": "2021-06-16T17:15:19.169Z"
   },
   {
    "duration": 8,
    "start_time": "2021-06-16T17:15:19.753Z"
   },
   {
    "duration": 8,
    "start_time": "2021-06-16T17:15:20.361Z"
   },
   {
    "duration": 8,
    "start_time": "2021-06-16T17:15:26.730Z"
   },
   {
    "duration": 7,
    "start_time": "2021-06-16T17:15:28.083Z"
   },
   {
    "duration": 7,
    "start_time": "2021-06-16T17:15:28.603Z"
   },
   {
    "duration": 8,
    "start_time": "2021-06-16T17:15:29.066Z"
   },
   {
    "duration": 8,
    "start_time": "2021-06-16T17:15:29.659Z"
   },
   {
    "duration": 9,
    "start_time": "2021-06-16T17:16:31.405Z"
   },
   {
    "duration": 120,
    "start_time": "2021-06-16T17:20:41.311Z"
   },
   {
    "duration": 12,
    "start_time": "2021-06-16T17:20:49.856Z"
   },
   {
    "duration": 9,
    "start_time": "2021-06-16T17:21:10.243Z"
   },
   {
    "duration": 9,
    "start_time": "2021-06-16T17:21:15.838Z"
   },
   {
    "duration": 10,
    "start_time": "2021-06-16T17:21:20.212Z"
   },
   {
    "duration": 10,
    "start_time": "2021-06-16T17:30:54.442Z"
   },
   {
    "duration": 12,
    "start_time": "2021-06-16T17:31:08.535Z"
   },
   {
    "duration": 12,
    "start_time": "2021-06-16T17:31:10.175Z"
   },
   {
    "duration": 805,
    "start_time": "2021-06-16T17:41:31.270Z"
   },
   {
    "duration": 591,
    "start_time": "2021-06-16T17:41:32.077Z"
   },
   {
    "duration": 5,
    "start_time": "2021-06-16T17:41:32.671Z"
   },
   {
    "duration": 39,
    "start_time": "2021-06-16T17:41:32.679Z"
   },
   {
    "duration": 12,
    "start_time": "2021-06-16T17:41:32.721Z"
   },
   {
    "duration": 26,
    "start_time": "2021-06-16T17:41:32.736Z"
   },
   {
    "duration": 14,
    "start_time": "2021-06-16T17:41:32.764Z"
   },
   {
    "duration": 16,
    "start_time": "2021-06-16T17:41:32.783Z"
   },
   {
    "duration": 11,
    "start_time": "2021-06-16T17:41:32.802Z"
   },
   {
    "duration": 8,
    "start_time": "2021-06-16T17:41:32.815Z"
   },
   {
    "duration": 9,
    "start_time": "2021-06-16T17:41:32.825Z"
   },
   {
    "duration": 101,
    "start_time": "2021-06-16T17:41:32.836Z"
   },
   {
    "duration": 70687,
    "start_time": "2021-06-16T17:41:32.939Z"
   },
   {
    "duration": 23,
    "start_time": "2021-06-16T17:42:43.629Z"
   },
   {
    "duration": 59306,
    "start_time": "2021-06-16T17:42:43.654Z"
   },
   {
    "duration": 66,
    "start_time": "2021-06-16T17:43:42.962Z"
   },
   {
    "duration": 54,
    "start_time": "2021-06-16T17:43:43.031Z"
   },
   {
    "duration": 30,
    "start_time": "2021-06-16T17:43:43.087Z"
   },
   {
    "duration": 7,
    "start_time": "2021-06-16T17:43:43.119Z"
   },
   {
    "duration": 19,
    "start_time": "2021-06-16T17:43:43.128Z"
   },
   {
    "duration": 594,
    "start_time": "2021-06-16T17:43:43.149Z"
   },
   {
    "duration": 9,
    "start_time": "2021-06-16T17:44:05.593Z"
   }
  ],
  "kernelspec": {
   "display_name": "Python 3",
   "language": "python",
   "name": "python3"
  },
  "language_info": {
   "codemirror_mode": {
    "name": "ipython",
    "version": 3
   },
   "file_extension": ".py",
   "mimetype": "text/x-python",
   "name": "python",
   "nbconvert_exporter": "python",
   "pygments_lexer": "ipython3",
   "version": "3.8.10"
  },
  "toc": {
   "base_numbering": 1,
   "nav_menu": {
    "height": "156px",
    "width": "311px"
   },
   "number_sections": true,
   "sideBar": true,
   "skip_h1_title": true,
   "title_cell": "Table of Contents",
   "title_sidebar": "Contents",
   "toc_cell": false,
   "toc_position": {},
   "toc_section_display": true,
   "toc_window_display": false
  }
 },
 "nbformat": 4,
 "nbformat_minor": 2
}
