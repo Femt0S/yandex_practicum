{
 "cells": [
  {
   "cell_type": "markdown",
   "metadata": {},
   "source": [
    "# Выбор локации для скважины"
   ]
  },
  {
   "cell_type": "markdown",
   "metadata": {},
   "source": [
    "Допустим, вы работаете в добывающей компании «ГлавРосГосНефть». Нужно решить, где бурить новую скважину.\n",
    "\n",
    "Вам предоставлены пробы нефти в трёх регионах: в каждом 10 000 месторождений, где измерили качество нефти и объём её запасов. Постройте модель машинного обучения, которая поможет определить регион, где добыча принесёт наибольшую прибыль. Проанализируйте возможную прибыль и риски техникой *Bootstrap.*\n",
    "\n",
    "Шаги для выбора локации:\n",
    "\n",
    "- В избранном регионе ищут месторождения, для каждого определяют значения признаков;\n",
    "- Строят модель и оценивают объём запасов;\n",
    "- Выбирают месторождения с самым высокими оценками значений. Количество месторождений зависит от бюджета компании и стоимости разработки одной скважины;\n",
    "- Прибыль равна суммарной прибыли отобранных месторождений."
   ]
  },
  {
   "cell_type": "markdown",
   "metadata": {},
   "source": [
    "## Загрузка и подготовка данных"
   ]
  },
  {
   "cell_type": "markdown",
   "metadata": {},
   "source": [
    "Импортируем необходимые библиотеки"
   ]
  },
  {
   "cell_type": "code",
   "execution_count": 1,
   "metadata": {},
   "outputs": [],
   "source": [
    "import pandas as pd\n",
    "\n",
    "import numpy as np\n",
    "from sklearn.linear_model import LinearRegression\n",
    "from sklearn.model_selection import train_test_split\n",
    "from sklearn.preprocessing import StandardScaler\n",
    "\n",
    "from sklearn.metrics import mean_squared_error\n",
    "\n",
    "import matplotlib.pyplot as plt\n",
    "import seaborn as sns\n",
    "\n",
    "pd.options.mode.chained_assignment = None\n",
    "pd.set_option('display.float_format', '{:,.2f}'.format)\n",
    "sns.set(rc={'figure.figsize':(17,5)})"
   ]
  },
  {
   "cell_type": "markdown",
   "metadata": {},
   "source": [
    "Считываем файл исходных данных в переменные `data_0`, `data_1` и `data_2`"
   ]
  },
  {
   "cell_type": "code",
   "execution_count": 2,
   "metadata": {},
   "outputs": [],
   "source": [
    "data_0 = pd.read_csv('.\\\\datasets\\\\geo_data_0.csv')\n",
    "data_1 = pd.read_csv('.\\\\datasets\\\\geo_data_1.csv')\n",
    "data_2 = pd.read_csv('.\\\\datasets\\\\geo_data_2.csv')"
   ]
  },
  {
   "cell_type": "code",
   "execution_count": 3,
   "metadata": {},
   "outputs": [
    {
     "data": {
      "text/html": [
       "<div>\n",
       "<style scoped>\n",
       "    .dataframe tbody tr th:only-of-type {\n",
       "        vertical-align: middle;\n",
       "    }\n",
       "\n",
       "    .dataframe tbody tr th {\n",
       "        vertical-align: top;\n",
       "    }\n",
       "\n",
       "    .dataframe thead th {\n",
       "        text-align: right;\n",
       "    }\n",
       "</style>\n",
       "<table border=\"1\" class=\"dataframe\">\n",
       "  <thead>\n",
       "    <tr style=\"text-align: right;\">\n",
       "      <th></th>\n",
       "      <th>id</th>\n",
       "      <th>f0</th>\n",
       "      <th>f1</th>\n",
       "      <th>f2</th>\n",
       "      <th>product</th>\n",
       "    </tr>\n",
       "  </thead>\n",
       "  <tbody>\n",
       "    <tr>\n",
       "      <th>0</th>\n",
       "      <td>txEyH</td>\n",
       "      <td>0.71</td>\n",
       "      <td>-0.50</td>\n",
       "      <td>1.22</td>\n",
       "      <td>105.28</td>\n",
       "    </tr>\n",
       "    <tr>\n",
       "      <th>1</th>\n",
       "      <td>2acmU</td>\n",
       "      <td>1.33</td>\n",
       "      <td>-0.34</td>\n",
       "      <td>4.37</td>\n",
       "      <td>73.04</td>\n",
       "    </tr>\n",
       "    <tr>\n",
       "      <th>2</th>\n",
       "      <td>409Wp</td>\n",
       "      <td>1.02</td>\n",
       "      <td>0.15</td>\n",
       "      <td>1.42</td>\n",
       "      <td>85.27</td>\n",
       "    </tr>\n",
       "    <tr>\n",
       "      <th>3</th>\n",
       "      <td>iJLyR</td>\n",
       "      <td>-0.03</td>\n",
       "      <td>0.14</td>\n",
       "      <td>2.98</td>\n",
       "      <td>168.62</td>\n",
       "    </tr>\n",
       "    <tr>\n",
       "      <th>4</th>\n",
       "      <td>Xdl7t</td>\n",
       "      <td>1.99</td>\n",
       "      <td>0.16</td>\n",
       "      <td>4.75</td>\n",
       "      <td>154.04</td>\n",
       "    </tr>\n",
       "  </tbody>\n",
       "</table>\n",
       "</div>"
      ],
      "text/plain": [
       "      id    f0    f1   f2  product\n",
       "0  txEyH  0.71 -0.50 1.22   105.28\n",
       "1  2acmU  1.33 -0.34 4.37    73.04\n",
       "2  409Wp  1.02  0.15 1.42    85.27\n",
       "3  iJLyR -0.03  0.14 2.98   168.62\n",
       "4  Xdl7t  1.99  0.16 4.75   154.04"
      ]
     },
     "execution_count": 3,
     "metadata": {},
     "output_type": "execute_result"
    }
   ],
   "source": [
    "data_0.head()"
   ]
  },
  {
   "cell_type": "code",
   "execution_count": 4,
   "metadata": {
    "scrolled": true
   },
   "outputs": [
    {
     "name": "stdout",
     "output_type": "stream",
     "text": [
      "<class 'pandas.core.frame.DataFrame'>\n",
      "RangeIndex: 100000 entries, 0 to 99999\n",
      "Data columns (total 5 columns):\n",
      " #   Column   Non-Null Count   Dtype  \n",
      "---  ------   --------------   -----  \n",
      " 0   id       100000 non-null  object \n",
      " 1   f0       100000 non-null  float64\n",
      " 2   f1       100000 non-null  float64\n",
      " 3   f2       100000 non-null  float64\n",
      " 4   product  100000 non-null  float64\n",
      "dtypes: float64(4), object(1)\n",
      "memory usage: 3.8+ MB\n"
     ]
    }
   ],
   "source": [
    "data_0.info()"
   ]
  },
  {
   "cell_type": "markdown",
   "metadata": {},
   "source": [
    "**Описание данных в соответствии с заданием (для сведения):**\n",
    "- **id** — уникальный идентификатор скважины;\n",
    "- **f0**, **f1**, **f2** — три признака точек (неважно, что они означают, но сами признаки значимы);\n",
    "- **product** — объём запасов в скважине (тыс. баррелей)."
   ]
  },
  {
   "cell_type": "markdown",
   "metadata": {},
   "source": [
    "Построим гистограммы для визуального осмотра данных"
   ]
  },
  {
   "cell_type": "code",
   "execution_count": 5,
   "metadata": {},
   "outputs": [
    {
     "data": {
      "image/png": "[encoded data removed]",
      "text/plain": [
       "<Figure size 1224x432 with 4 Axes>"
      ]
     },
     "metadata": {},
     "output_type": "display_data"
    }
   ],
   "source": [
    "data_0.hist(figsize=(17,6))\n",
    "plt.show()"
   ]
  },
  {
   "cell_type": "code",
   "execution_count": 6,
   "metadata": {},
   "outputs": [
    {
     "data": {
      "image/png": "[encoded data removed]",
      "text/plain": [
       "<Figure size 1224x432 with 4 Axes>"
      ]
     },
     "metadata": {},
     "output_type": "display_data"
    }
   ],
   "source": [
    "data_1.hist(figsize=(17,6))\n",
    "plt.show()"
   ]
  },
  {
   "cell_type": "code",
   "execution_count": 7,
   "metadata": {
    "scrolled": false
   },
   "outputs": [
    {
     "data": {
      "image/png": "[encoded data removed]",
      "text/plain": [
       "<Figure size 1224x432 with 4 Axes>"
      ]
     },
     "metadata": {},
     "output_type": "display_data"
    }
   ],
   "source": [
    "data_2.hist(figsize=(17,6))\n",
    "plt.show()"
   ]
  },
  {
   "cell_type": "markdown",
   "metadata": {},
   "source": [
    "В результатах осмотра выявлено нетипичное распределение значений признака `f2` в данных второго региона `data_1`, лля дополнительного уточнения построим матрицу корреляции."
   ]
  },
  {
   "cell_type": "code",
   "execution_count": 8,
   "metadata": {
    "scrolled": true
   },
   "outputs": [
    {
     "data": {
      "image/png": "[encoded data removed]",
      "text/plain": [
       "<Figure size 1224x360 with 2 Axes>"
      ]
     },
     "metadata": {},
     "output_type": "display_data"
    }
   ],
   "source": [
    "sns.heatmap(data_0.corr(), annot=True)\n",
    "plt.show()"
   ]
  },
  {
   "cell_type": "code",
   "execution_count": 9,
   "metadata": {
    "scrolled": true
   },
   "outputs": [
    {
     "data": {
      "image/png": "[encoded data removed]",
      "text/plain": [
       "<Figure size 1224x360 with 2 Axes>"
      ]
     },
     "metadata": {},
     "output_type": "display_data"
    }
   ],
   "source": [
    "sns.heatmap(data_1.corr(), annot=True)\n",
    "plt.show()"
   ]
  },
  {
   "cell_type": "code",
   "execution_count": 10,
   "metadata": {
    "scrolled": true
   },
   "outputs": [
    {
     "data": {
      "image/png": "[encoded data removed]",
      "text/plain": [
       "<Figure size 1224x360 with 2 Axes>"
      ]
     },
     "metadata": {},
     "output_type": "display_data"
    }
   ],
   "source": [
    "sns.heatmap(data_2.corr(), annot=True)\n",
    "plt.show()"
   ]
  },
  {
   "cell_type": "markdown",
   "metadata": {},
   "source": [
    "Дополнительно проверим на наличие дубликатов"
   ]
  },
  {
   "cell_type": "code",
   "execution_count": 11,
   "metadata": {},
   "outputs": [
    {
     "name": "stdout",
     "output_type": "stream",
     "text": [
      "Дубликатов в data_0: 0\n",
      "Дубликатов в data_1: 0\n",
      "Дубликатов в data_2: 0\n"
     ]
    }
   ],
   "source": [
    "print('Дубликатов в data_0:', data_0.duplicated().sum())\n",
    "print('Дубликатов в data_1:', data_1.duplicated().sum())\n",
    "print('Дубликатов в data_2:', data_2.duplicated().sum())"
   ]
  },
  {
   "cell_type": "markdown",
   "metadata": {},
   "source": [
    "Дубликаты отсутствуют"
   ]
  },
  {
   "cell_type": "markdown",
   "metadata": {},
   "source": [
    "### Вывод"
   ]
  },
  {
   "cell_type": "markdown",
   "metadata": {},
   "source": [
    "Данные представленные для работы являются полными, без пропусков и дубликатов, но набор данных второго региона (`data_1`) содержит признаки **data** **leakage** (утечки данных), так как есть прямая корелляция между признаком `f2` и искомым признаком `product`, в связи с чем, модель обученная на этих данных не будет верно работать."
   ]
  },
  {
   "cell_type": "markdown",
   "metadata": {},
   "source": [
    "## Обучение и проверка модели"
   ]
  },
  {
   "cell_type": "markdown",
   "metadata": {},
   "source": [
    "### Выделение обучающей и валидационной выборки.\n"
   ]
  },
  {
   "cell_type": "markdown",
   "metadata": {},
   "source": [
    "Разделим данные на таблицы с признаками `f0`, `f1`, `f2` и искомым признаком `product`"
   ]
  },
  {
   "cell_type": "code",
   "execution_count": 12,
   "metadata": {},
   "outputs": [],
   "source": [
    "X_0 = data_0[['f0', 'f1', 'f2']].copy()\n",
    "y_0 = data_0[['product']].copy()\n",
    "\n",
    "X_1 = data_1[['f0', 'f1', 'f2']].copy()\n",
    "y_1 = data_1[['product']].copy()\n",
    "\n",
    "X_2 = data_2[['f0', 'f1', 'f2']].copy()\n",
    "y_2 = data_2[['product']].copy()"
   ]
  },
  {
   "cell_type": "markdown",
   "metadata": {},
   "source": [
    "Выделим обучающую и валидационыне выборки в соотношении 75:25"
   ]
  },
  {
   "cell_type": "code",
   "execution_count": 13,
   "metadata": {},
   "outputs": [],
   "source": [
    "X_0_train, X_0_valid, y_0_train, y_0_valid = train_test_split(X_0, y_0, test_size=0.25, random_state=13)\n",
    "X_1_train, X_1_valid, y_1_train, y_1_valid = train_test_split(X_1, y_1, test_size=0.25, random_state=13)\n",
    "X_2_train, X_2_valid, y_2_train, y_2_valid = train_test_split(X_2, y_2, test_size=0.25, random_state=13)"
   ]
  },
  {
   "cell_type": "markdown",
   "metadata": {},
   "source": [
    "Проверим размер на паре из этих выборок:"
   ]
  },
  {
   "cell_type": "code",
   "execution_count": 14,
   "metadata": {
    "scrolled": true
   },
   "outputs": [
    {
     "name": "stdout",
     "output_type": "stream",
     "text": [
      "Обучающая выборка: 75000\n",
      "Валидационная выборка: 25000\n"
     ]
    }
   ],
   "source": [
    "print('Обучающая выборка:', X_0_train.shape[0])\n",
    "print('Валидационная выборка:', X_0_valid.shape[0])"
   ]
  },
  {
   "cell_type": "markdown",
   "metadata": {},
   "source": [
    "Отмасштабируем признаки с использованием `StandardScaler()`, для оценки результата сохраним одну из таблиц отдельно:"
   ]
  },
  {
   "cell_type": "code",
   "execution_count": 15,
   "metadata": {},
   "outputs": [],
   "source": [
    "X_0_unscaled = X_0_train.copy()"
   ]
  },
  {
   "cell_type": "markdown",
   "metadata": {},
   "source": [
    "И воспользуемся `StandardScaler()`:"
   ]
  },
  {
   "cell_type": "code",
   "execution_count": 16,
   "metadata": {},
   "outputs": [],
   "source": [
    "col_names = ['f0', 'f1', 'f2']\n",
    "\n",
    "scaler = StandardScaler().fit(X_0_train[col_names].values)\n",
    "\n",
    "X_0_train[col_names] = scaler.transform(X_0_train[col_names].values)\n",
    "X_0_valid[col_names] = scaler.transform(X_0_valid[col_names].values)\n",
    "\n",
    "scaler = StandardScaler().fit(X_1_train[col_names].values)\n",
    "\n",
    "X_1_train[col_names] = scaler.transform(X_1_train[col_names].values)\n",
    "X_1_valid[col_names] = scaler.transform(X_1_valid[col_names].values)\n",
    "\n",
    "scaler = StandardScaler().fit(X_2_train[col_names].values)\n",
    "\n",
    "X_2_train[col_names] = scaler.transform(X_2_train[col_names].values)\n",
    "X_2_valid[col_names] = scaler.transform(X_2_valid[col_names].values)"
   ]
  },
  {
   "cell_type": "markdown",
   "metadata": {},
   "source": [
    "Оценим полученный результат в графическом виде (в виде гистограмм)"
   ]
  },
  {
   "cell_type": "code",
   "execution_count": 17,
   "metadata": {
    "scrolled": true
   },
   "outputs": [
    {
     "data": {
      "image/png": "[encoded data removed]",
      "text/plain": [
       "<Figure size 1224x288 with 1 Axes>"
      ]
     },
     "metadata": {},
     "output_type": "display_data"
    }
   ],
   "source": [
    "ax = X_0_unscaled.plot(\n",
    "    kind='hist',\n",
    "    y='f0',\n",
    "    bins=50,\n",
    "    color=\"r\",\n",
    "    alpha=0.5,\n",
    "    title='Признак f0',\n",
    "    grid=True,\n",
    "    figsize=(17,4)\n",
    ")\n",
    "\n",
    "bx = X_0_train.plot(\n",
    "    kind='hist',\n",
    "    y='f0',\n",
    "    bins=50,\n",
    "    color=\"g\",\n",
    "    alpha=0.75,\n",
    "    ax=ax,\n",
    "    figsize=(17,4)\n",
    ")\n",
    "ax.legend(['Unscaled', 'Scaled']) \n",
    "plt.show()"
   ]
  },
  {
   "cell_type": "code",
   "execution_count": 18,
   "metadata": {},
   "outputs": [
    {
     "data": {
      "image/png": "[encoded data removed]",
      "text/plain": [
       "<Figure size 1224x288 with 1 Axes>"
      ]
     },
     "metadata": {},
     "output_type": "display_data"
    }
   ],
   "source": [
    "ax = X_0_unscaled.plot(\n",
    "    kind='hist',\n",
    "    y='f1',\n",
    "    bins=50,\n",
    "    color=\"r\",\n",
    "    alpha=0.5,\n",
    "    title='Признак f1',\n",
    "    grid=True,\n",
    "    figsize=(17,4)\n",
    ")\n",
    "\n",
    "bx = X_0_train.plot(\n",
    "    kind='hist',\n",
    "    y='f1',\n",
    "    bins=50,\n",
    "    color=\"g\",\n",
    "    alpha=0.75,\n",
    "    ax=ax,\n",
    "    figsize=(17,4)\n",
    ")\n",
    "ax.legend(['Unscaled', 'Scaled']) \n",
    "plt.show()"
   ]
  },
  {
   "cell_type": "code",
   "execution_count": 19,
   "metadata": {},
   "outputs": [
    {
     "data": {
      "image/png": "[encoded data removed]",
      "text/plain": [
       "<Figure size 1224x288 with 1 Axes>"
      ]
     },
     "metadata": {},
     "output_type": "display_data"
    }
   ],
   "source": [
    "ax = X_0_unscaled.plot(\n",
    "    kind='hist',\n",
    "    y='f2',\n",
    "    bins=50,\n",
    "    color=\"r\",\n",
    "    alpha=0.5,\n",
    "    title='Признак f2',\n",
    "    grid=True,\n",
    "    figsize=(17,4)\n",
    ")\n",
    "\n",
    "bx = X_0_train.plot(\n",
    "    kind='hist',\n",
    "    y='f2',\n",
    "    bins=50,\n",
    "    color=\"g\",\n",
    "    alpha=0.75,\n",
    "    ax=ax,\n",
    "    figsize=(17,4)\n",
    ")\n",
    "ax.legend(['Unscaled', 'Scaled']) \n",
    "plt.show()"
   ]
  },
  {
   "cell_type": "markdown",
   "metadata": {},
   "source": [
    "Масштабирование признаков прошло успешно"
   ]
  },
  {
   "cell_type": "markdown",
   "metadata": {},
   "source": [
    "### Обучение модели и предсказание на валидационной выборке.\n",
    "\n",
    "Воспользуемся моделью `LinearRegression`, для чего сначала обучим её на тренировочной выборке:"
   ]
  },
  {
   "cell_type": "code",
   "execution_count": 20,
   "metadata": {},
   "outputs": [],
   "source": [
    "model_0 = LinearRegression().fit(X_0_train, y_0_train)\n",
    "model_1 = LinearRegression().fit(X_1_train, y_1_train)\n",
    "model_2 = LinearRegression().fit(X_2_train, y_2_train)"
   ]
  },
  {
   "cell_type": "markdown",
   "metadata": {},
   "source": [
    "Затем получим предсказания, и сохраним их в отдельных переменных. Для дальнейшей работы будет удобнее, если предсказания будут храниться в формате `pandas.Series`, а не numpy array, являющейся результатом работы модели:"
   ]
  },
  {
   "cell_type": "code",
   "execution_count": 21,
   "metadata": {},
   "outputs": [],
   "source": [
    "predicted_0 = pd.Series(model_0.predict(X_0_valid)[:,0], index=X_0_valid.index)\n",
    "\n",
    "predicted_1 = pd.Series(model_1.predict(X_1_valid)[:,0], index=X_1_valid.index)\n",
    "\n",
    "predicted_2 = pd.Series(model_2.predict(X_2_valid)[:,0], index=X_2_valid.index)"
   ]
  },
  {
   "cell_type": "markdown",
   "metadata": {},
   "source": [
    "Правильные же ответы хранятся в переменных `y_0_valid`, `y_1_valid` и `y_2_valid`, для единообразия создаим переменные в виде `pandas.Series` вместо `pandas.DataFrame`"
   ]
  },
  {
   "cell_type": "code",
   "execution_count": 22,
   "metadata": {},
   "outputs": [],
   "source": [
    "target_0 = y_0_valid['product']\n",
    "\n",
    "target_1 = y_1_valid['product']\n",
    "\n",
    "target_2 = y_2_valid['product']"
   ]
  },
  {
   "cell_type": "markdown",
   "metadata": {},
   "source": [
    "### Напечатайте на экране средний запас предсказанного сырья и RMSE модели."
   ]
  },
  {
   "cell_type": "markdown",
   "metadata": {},
   "source": [
    "Полученные данные, такие как средний запас по регионам, RMSE модели по этим регионам, сохраним в отдельную таблицу:"
   ]
  },
  {
   "cell_type": "code",
   "execution_count": 23,
   "metadata": {},
   "outputs": [],
   "source": [
    "result_df = pd.DataFrame(index=['FIRST', 'SECOND', 'THIRD'],\n",
    "                         columns=['RMSE', 'mean_predict', 'mean_true'])"
   ]
  },
  {
   "cell_type": "markdown",
   "metadata": {},
   "source": [
    "В которую поместим нужным нам данные о среднепредсказанном количестве сырья:"
   ]
  },
  {
   "cell_type": "code",
   "execution_count": 24,
   "metadata": {},
   "outputs": [],
   "source": [
    "result_df['mean_predict']['FIRST'] = predicted_0.mean()\n",
    "result_df['mean_predict']['SECOND'] = predicted_1.mean()\n",
    "result_df['mean_predict']['THIRD'] = predicted_2.mean()"
   ]
  },
  {
   "cell_type": "markdown",
   "metadata": {},
   "source": [
    "И о качестве нашей модели в виде метрики `RMSE`"
   ]
  },
  {
   "cell_type": "code",
   "execution_count": 25,
   "metadata": {},
   "outputs": [],
   "source": [
    "result_df['RMSE']['FIRST'] = mean_squared_error(y_0_valid, predicted_0)**0.5\n",
    "result_df['RMSE']['SECOND'] = mean_squared_error(y_1_valid, predicted_1)**0.5\n",
    "result_df['RMSE']['THIRD'] = mean_squared_error(y_2_valid, predicted_2)**0.5"
   ]
  },
  {
   "cell_type": "markdown",
   "metadata": {},
   "source": [
    "Для сравнения поместим данные о реальном среднем количестве сырья в ту же таблицу:"
   ]
  },
  {
   "cell_type": "code",
   "execution_count": 26,
   "metadata": {},
   "outputs": [],
   "source": [
    "result_df['mean_true']['FIRST'] = data_0['product'].mean()\n",
    "result_df['mean_true']['SECOND'] = data_1['product'].mean()\n",
    "result_df['mean_true']['THIRD'] = data_2['product'].mean()"
   ]
  },
  {
   "cell_type": "code",
   "execution_count": 27,
   "metadata": {},
   "outputs": [
    {
     "data": {
      "text/html": [
       "<div>\n",
       "<style scoped>\n",
       "    .dataframe tbody tr th:only-of-type {\n",
       "        vertical-align: middle;\n",
       "    }\n",
       "\n",
       "    .dataframe tbody tr th {\n",
       "        vertical-align: top;\n",
       "    }\n",
       "\n",
       "    .dataframe thead th {\n",
       "        text-align: right;\n",
       "    }\n",
       "</style>\n",
       "<table border=\"1\" class=\"dataframe\">\n",
       "  <thead>\n",
       "    <tr style=\"text-align: right;\">\n",
       "      <th></th>\n",
       "      <th>RMSE</th>\n",
       "      <th>mean_predict</th>\n",
       "      <th>mean_true</th>\n",
       "    </tr>\n",
       "  </thead>\n",
       "  <tbody>\n",
       "    <tr>\n",
       "      <th>FIRST</th>\n",
       "      <td>37.69</td>\n",
       "      <td>92.59</td>\n",
       "      <td>92.50</td>\n",
       "    </tr>\n",
       "    <tr>\n",
       "      <th>SECOND</th>\n",
       "      <td>0.89</td>\n",
       "      <td>69.03</td>\n",
       "      <td>68.83</td>\n",
       "    </tr>\n",
       "    <tr>\n",
       "      <th>THIRD</th>\n",
       "      <td>40.02</td>\n",
       "      <td>94.96</td>\n",
       "      <td>95.00</td>\n",
       "    </tr>\n",
       "  </tbody>\n",
       "</table>\n",
       "</div>"
      ],
      "text/plain": [
       "        RMSE mean_predict mean_true\n",
       "FIRST  37.69        92.59     92.50\n",
       "SECOND  0.89        69.03     68.83\n",
       "THIRD  40.02        94.96     95.00"
      ]
     },
     "execution_count": 27,
     "metadata": {},
     "output_type": "execute_result"
    }
   ],
   "source": [
    "result_df"
   ]
  },
  {
   "cell_type": "markdown",
   "metadata": {},
   "source": [
    "### Выводы по моделированию."
   ]
  },
  {
   "cell_type": "markdown",
   "metadata": {},
   "source": [
    "Моделирование было выполнено с использованием модели `LinearRegression()`:\n",
    "\n",
    "- Первый и третий регион имеют схожие значения метрики **RMSE** (~40), и схожее среднее значение запаса.\n",
    "- Второй регион, как и ожидалось, проявил признаки \"*утечки* *данных*\", и модель работающая с ним показала нереалистично хороший результат со значением метрики **RMSE** близким к нулю."
   ]
  },
  {
   "cell_type": "markdown",
   "metadata": {},
   "source": [
    "## Подготовка к расчёту прибыли"
   ]
  },
  {
   "cell_type": "markdown",
   "metadata": {},
   "source": [
    "В соответствии с условиями поставленной задачи:\n",
    "\n",
    "- при разведке региона исследуют 500 точек, из которых с помощью машинного обучения выбирают 200 лучших для разработки;\n",
    "- бюджет на разработку скважин в регионе — 10 млрд рублей;\n",
    "- доход с каждой единицы продукта (1000 баррелей) составляет 450 тыс. рублей;\n",
    "- требуемая вероятность убытков - меньше 2.5%. Среди них выбирают регион с наибольшей средней прибылью."
   ]
  },
  {
   "cell_type": "markdown",
   "metadata": {},
   "source": [
    "### Ключевые значения для расчётов"
   ]
  },
  {
   "cell_type": "markdown",
   "metadata": {},
   "source": [
    "Все расчёты будут производится в тысячах рублей, следовательно бюджет разработки региона составит 10 миллионов тысяч рублей (10 млрд):"
   ]
  },
  {
   "cell_type": "code",
   "execution_count": 28,
   "metadata": {},
   "outputs": [],
   "source": [
    "BUDGET = 10e6"
   ]
  },
  {
   "cell_type": "markdown",
   "metadata": {},
   "source": [
    "Доход с одной тысячи баррелей сырья (одной единицы продукта) составляет 450 тыс. рублей, т.е.:"
   ]
  },
  {
   "cell_type": "code",
   "execution_count": 29,
   "metadata": {},
   "outputs": [],
   "source": [
    "PRODUCT_INCOME = 450"
   ]
  },
  {
   "cell_type": "markdown",
   "metadata": {},
   "source": [
    "Также укажем в виде переменных такие значения как порог вероятности убытков, равный 2.5%, и количество разрабатываемых скважин:"
   ]
  },
  {
   "cell_type": "code",
   "execution_count": 30,
   "metadata": {},
   "outputs": [],
   "source": [
    "THRESHOLD = 2.5/100\n",
    "SELECTED_HOLES = 200\n",
    "PROBED_HOLES = 500"
   ]
  },
  {
   "cell_type": "markdown",
   "metadata": {},
   "source": [
    "### Определение достаточного объёма сырья для безубыточной разработки новой скважины."
   ]
  },
  {
   "cell_type": "markdown",
   "metadata": {},
   "source": [
    "Достаточный объём сырья для безубыточной разработки новой скважины составляет:"
   ]
  },
  {
   "cell_type": "code",
   "execution_count": 31,
   "metadata": {},
   "outputs": [
    {
     "name": "stdout",
     "output_type": "stream",
     "text": [
      "Объём сырья для безубыточности разработки скважины: 111.111\n"
     ]
    }
   ],
   "source": [
    "product_needed = BUDGET / (PRODUCT_INCOME * SELECTED_HOLES)\n",
    "print('Объём сырья для безубыточности разработки скважины: {:.3f}'.format(product_needed))"
   ]
  },
  {
   "cell_type": "markdown",
   "metadata": {},
   "source": [
    "Сравним это значение со средним значение по регионам и добавим в таблицу `result_df`"
   ]
  },
  {
   "cell_type": "code",
   "execution_count": 32,
   "metadata": {
    "scrolled": false
   },
   "outputs": [
    {
     "data": {
      "text/html": [
       "<div>\n",
       "<style scoped>\n",
       "    .dataframe tbody tr th:only-of-type {\n",
       "        vertical-align: middle;\n",
       "    }\n",
       "\n",
       "    .dataframe tbody tr th {\n",
       "        vertical-align: top;\n",
       "    }\n",
       "\n",
       "    .dataframe thead th {\n",
       "        text-align: right;\n",
       "    }\n",
       "</style>\n",
       "<table border=\"1\" class=\"dataframe\">\n",
       "  <thead>\n",
       "    <tr style=\"text-align: right;\">\n",
       "      <th></th>\n",
       "      <th>RMSE</th>\n",
       "      <th>mean_predict</th>\n",
       "      <th>mean_true</th>\n",
       "      <th>product_short</th>\n",
       "    </tr>\n",
       "  </thead>\n",
       "  <tbody>\n",
       "    <tr>\n",
       "      <th>FIRST</th>\n",
       "      <td>37.69</td>\n",
       "      <td>92.59</td>\n",
       "      <td>92.50</td>\n",
       "      <td>18.52</td>\n",
       "    </tr>\n",
       "    <tr>\n",
       "      <th>SECOND</th>\n",
       "      <td>0.89</td>\n",
       "      <td>69.03</td>\n",
       "      <td>68.83</td>\n",
       "      <td>42.08</td>\n",
       "    </tr>\n",
       "    <tr>\n",
       "      <th>THIRD</th>\n",
       "      <td>40.02</td>\n",
       "      <td>94.96</td>\n",
       "      <td>95.00</td>\n",
       "      <td>16.15</td>\n",
       "    </tr>\n",
       "  </tbody>\n",
       "</table>\n",
       "</div>"
      ],
      "text/plain": [
       "        RMSE mean_predict mean_true product_short\n",
       "FIRST  37.69        92.59     92.50         18.52\n",
       "SECOND  0.89        69.03     68.83         42.08\n",
       "THIRD  40.02        94.96     95.00         16.15"
      ]
     },
     "execution_count": 32,
     "metadata": {},
     "output_type": "execute_result"
    }
   ],
   "source": [
    "result_df['product_short'] = product_needed-result_df['mean_predict']\n",
    "result_df"
   ]
  },
  {
   "cell_type": "markdown",
   "metadata": {},
   "source": [
    "**Промежуточный вывод**:\n",
    "\n",
    "С точки зрения перспективности разработки на данном этапе исследования, наилучший результат показывает **регион №3**, как имеющий наименьшую нехватку объёма сырья для выхода на безубыточность, составляющий ***17%***, в отличие от **региона №1** с недостачей в ***20%*** и **региона №2** с нехваткой в ***60%***, т.е. при неверном выборе скважины в третьем регионе, недостача составит более трети от необходимого, что приведёт к повышенным убыткам."
   ]
  },
  {
   "cell_type": "markdown",
   "metadata": {},
   "source": [
    "### Функция для расчёта прибыли по выбранным скважинам и предсказаниям модели:"
   ]
  },
  {
   "cell_type": "markdown",
   "metadata": {},
   "source": [
    "Напишем функцию `profit`, где:\n",
    "\n",
    "- принимается на вход:\n",
    "  - **target** - истинные значения целевого признака;\n",
    "  - **preds** - предсказания целевого признака;\n",
    "  - **count** - количество выбираемых скважин, равно переменной `SELECTED_HOLES`\n",
    "- известные переменные:\n",
    "  - **SELECTED_HOLES** - 200 лучших скважин, определена ранее в соответствии с исходными данными;\n",
    "  - **PRODUCT_INCOME** - доход с одной единицы продукта (450 тыс. руб), также по исходным данным;\n",
    "  - **BUDGET** - бюджет на разработку, по исходным данным.\n",
    "- результат работы функции - прибыль, в тыс. рублей."
   ]
  },
  {
   "cell_type": "code",
   "execution_count": 33,
   "metadata": {},
   "outputs": [],
   "source": [
    "def profit(target, preds, count=SELECTED_HOLES):\n",
    "    holes_sorted = preds.sort_values(ascending = False).head(count)\n",
    "    choosen = target[holes_sorted.index]\n",
    "    return (choosen.sum() * PRODUCT_INCOME) - BUDGET"
   ]
  },
  {
   "cell_type": "markdown",
   "metadata": {},
   "source": [
    "Протестируем работоспособность функции:"
   ]
  },
  {
   "cell_type": "code",
   "execution_count": 34,
   "metadata": {},
   "outputs": [
    {
     "data": {
      "text/plain": [
       "3237556.9605991095"
      ]
     },
     "execution_count": 34,
     "metadata": {},
     "output_type": "execute_result"
    }
   ],
   "source": [
    "profit(target_0, predicted_0)"
   ]
  },
  {
   "cell_type": "markdown",
   "metadata": {},
   "source": [
    "### Выводы по этапу."
   ]
  },
  {
   "cell_type": "markdown",
   "metadata": {},
   "source": [
    "Также, как и в моделировании, первый и третий регион показали схожие результаты, второй же, при учете только средних значений, выглядит наименее коммерчески выгодным, как имеющий самую большую разницу между требуемым значением и предсказанным средним."
   ]
  },
  {
   "cell_type": "markdown",
   "metadata": {},
   "source": [
    "## Расчёт прибыли и рисков "
   ]
  },
  {
   "cell_type": "markdown",
   "metadata": {},
   "source": [
    "### Bootstrap для определения распределение прибыли."
   ]
  },
  {
   "cell_type": "markdown",
   "metadata": {},
   "source": [
    "Для более удобного применения техники **bootstrap** напишем одноименную функцию, где:\n",
    "\n",
    "- принимается на вход:\n",
    "  - **target** - истинные значения целевого признака;\n",
    "  - **preds** - предсказания целевого признака;\n",
    "  - **how_much** - количество выборок, равное 1000.\n",
    "- известные переменные:\n",
    "  - **PROBED_HOLES** - 500 скважин, подвергающиеся исследованию, в соответствии с исходными данными;\n",
    "  - **profit** - ранее написанная функция для вычисления прибыли.\n",
    "- результат работы функции - список средних значений прибыли, в тыс. рублей."
   ]
  },
  {
   "cell_type": "code",
   "execution_count": 35,
   "metadata": {},
   "outputs": [],
   "source": [
    "def bootstrap(target, preds, how_much=1000):\n",
    "    state = np.random.RandomState(13)\n",
    "    values = []\n",
    "    for i in range(how_much):\n",
    "        target_subsample = target.sample(n=PROBED_HOLES, random_state=state, replace=True)\n",
    "        preds_subsample = preds[target_subsample.index]\n",
    "        values.append(profit(target_subsample, preds_subsample))\n",
    "   \n",
    "    return pd.Series(values)"
   ]
  },
  {
   "cell_type": "markdown",
   "metadata": {},
   "source": [
    "И применим её для получения результата по регионам:"
   ]
  },
  {
   "cell_type": "code",
   "execution_count": 36,
   "metadata": {},
   "outputs": [],
   "source": [
    "bs_result_0 = bootstrap(target_0, predicted_0)\n",
    "\n",
    "bs_result_1 = bootstrap(target_1, predicted_1)\n",
    "\n",
    "bs_result_2 = bootstrap(target_2, predicted_2)"
   ]
  },
  {
   "cell_type": "markdown",
   "metadata": {},
   "source": [
    "### Cредняя прибыль, 95%-й доверительный интервал и риск убытков."
   ]
  },
  {
   "cell_type": "markdown",
   "metadata": {},
   "source": [
    "Результаты bootstrap, а точнее - среднее значение (среднюю прибыль) поместим в таблицу `result_df`"
   ]
  },
  {
   "cell_type": "code",
   "execution_count": 37,
   "metadata": {},
   "outputs": [],
   "source": [
    "result_df.loc['FIRST', 'mean_profit'] = bs_result_0.mean()\n",
    "result_df.loc['SECOND', 'mean_profit'] = bs_result_1.mean()\n",
    "result_df.loc['THIRD', 'mean_profit']= bs_result_2.mean()"
   ]
  },
  {
   "cell_type": "markdown",
   "metadata": {},
   "source": [
    "Найдём 95% доверительный интервал для полученных результатов, от 0.025 квантиля (2.5%) снизу до 0.975 квантиля (97.5%) сверху, и занесём эти значения в таблицу:"
   ]
  },
  {
   "cell_type": "code",
   "execution_count": 38,
   "metadata": {},
   "outputs": [],
   "source": [
    "result_df.loc['FIRST', 'interval_95_low'] = bs_result_0.quantile(0.025)\n",
    "result_df.loc['FIRST', 'interval_95_high'] = bs_result_0.quantile(0.975)\n",
    "\n",
    "result_df.loc['SECOND', 'interval_95_low'] = bs_result_1.quantile(0.025)\n",
    "result_df.loc['SECOND', 'interval_95_high'] = bs_result_1.quantile(0.975)\n",
    "\n",
    "result_df.loc['THIRD', 'interval_95_low'] = bs_result_2.quantile(0.025)\n",
    "result_df.loc['THIRD', 'interval_95_high'] = bs_result_2.quantile(0.975)"
   ]
  },
  {
   "cell_type": "markdown",
   "metadata": {},
   "source": [
    "Определим убытки, как долю отрицательных значений дохода к общему количеству этих значений с добавлением результата в таблицу"
   ]
  },
  {
   "cell_type": "code",
   "execution_count": 39,
   "metadata": {},
   "outputs": [],
   "source": [
    "result_df.loc['FIRST', 'perc_loss'] = bs_result_0[bs_result_0 < 0].count() / bs_result_0.count()\n",
    "\n",
    "result_df.loc['SECOND', 'perc_loss'] = bs_result_1[bs_result_1 < 0].count() / bs_result_1.count()\n",
    "\n",
    "result_df.loc['THIRD', 'perc_loss'] = bs_result_2[bs_result_2 < 0].count() / bs_result_2.count()"
   ]
  },
  {
   "cell_type": "markdown",
   "metadata": {},
   "source": [
    "И наконец, выведем эту таблицу `result_df` в отформатированном виде:"
   ]
  },
  {
   "cell_type": "code",
   "execution_count": 40,
   "metadata": {},
   "outputs": [
    {
     "data": {
      "text/html": [
       "<style type=\"text/css\">\n",
       "</style>\n",
       "<table id=\"T_248b9_\">\n",
       "  <thead>\n",
       "    <tr>\n",
       "      <th class=\"blank level0\" >&nbsp;</th>\n",
       "      <th class=\"col_heading level0 col0\" >RMSE</th>\n",
       "      <th class=\"col_heading level0 col1\" >mean_predict</th>\n",
       "      <th class=\"col_heading level0 col2\" >mean_true</th>\n",
       "      <th class=\"col_heading level0 col3\" >product_short</th>\n",
       "      <th class=\"col_heading level0 col4\" >mean_profit</th>\n",
       "      <th class=\"col_heading level0 col5\" >interval_95_low</th>\n",
       "      <th class=\"col_heading level0 col6\" >interval_95_high</th>\n",
       "      <th class=\"col_heading level0 col7\" >perc_loss</th>\n",
       "    </tr>\n",
       "  </thead>\n",
       "  <tbody>\n",
       "    <tr>\n",
       "      <th id=\"T_248b9_level0_row0\" class=\"row_heading level0 row0\" >FIRST</th>\n",
       "      <td id=\"T_248b9_row0_col0\" class=\"data row0 col0\" >37.69</td>\n",
       "      <td id=\"T_248b9_row0_col1\" class=\"data row0 col1\" >92.59</td>\n",
       "      <td id=\"T_248b9_row0_col2\" class=\"data row0 col2\" >92.50</td>\n",
       "      <td id=\"T_248b9_row0_col3\" class=\"data row0 col3\" >18.52</td>\n",
       "      <td id=\"T_248b9_row0_col4\" class=\"data row0 col4\" >655,051 ₽</td>\n",
       "      <td id=\"T_248b9_row0_col5\" class=\"data row0 col5\" >59,448 ₽</td>\n",
       "      <td id=\"T_248b9_row0_col6\" class=\"data row0 col6\" >₽1,272,493 ₽</td>\n",
       "      <td id=\"T_248b9_row0_col7\" class=\"data row0 col7\" >1.8%</td>\n",
       "    </tr>\n",
       "    <tr>\n",
       "      <th id=\"T_248b9_level0_row1\" class=\"row_heading level0 row1\" >SECOND</th>\n",
       "      <td id=\"T_248b9_row1_col0\" class=\"data row1 col0\" >0.89</td>\n",
       "      <td id=\"T_248b9_row1_col1\" class=\"data row1 col1\" >69.03</td>\n",
       "      <td id=\"T_248b9_row1_col2\" class=\"data row1 col2\" >68.83</td>\n",
       "      <td id=\"T_248b9_row1_col3\" class=\"data row1 col3\" >42.08</td>\n",
       "      <td id=\"T_248b9_row1_col4\" class=\"data row1 col4\" >692,598 ₽</td>\n",
       "      <td id=\"T_248b9_row1_col5\" class=\"data row1 col5\" >219,361 ₽</td>\n",
       "      <td id=\"T_248b9_row1_col6\" class=\"data row1 col6\" >₽1,222,602 ₽</td>\n",
       "      <td id=\"T_248b9_row1_col7\" class=\"data row1 col7\" >0.2%</td>\n",
       "    </tr>\n",
       "    <tr>\n",
       "      <th id=\"T_248b9_level0_row2\" class=\"row_heading level0 row2\" >THIRD</th>\n",
       "      <td id=\"T_248b9_row2_col0\" class=\"data row2 col0\" >40.02</td>\n",
       "      <td id=\"T_248b9_row2_col1\" class=\"data row2 col1\" >94.96</td>\n",
       "      <td id=\"T_248b9_row2_col2\" class=\"data row2 col2\" >95.00</td>\n",
       "      <td id=\"T_248b9_row2_col3\" class=\"data row2 col3\" >16.15</td>\n",
       "      <td id=\"T_248b9_row2_col4\" class=\"data row2 col4\" >581,193 ₽</td>\n",
       "      <td id=\"T_248b9_row2_col5\" class=\"data row2 col5\" >-60,452 ₽</td>\n",
       "      <td id=\"T_248b9_row2_col6\" class=\"data row2 col6\" >₽1,225,011 ₽</td>\n",
       "      <td id=\"T_248b9_row2_col7\" class=\"data row2 col7\" >3.9%</td>\n",
       "    </tr>\n",
       "  </tbody>\n",
       "</table>\n"
      ],
      "text/plain": [
       "<pandas.io.formats.style.Styler at 0x2333c5e8340>"
      ]
     },
     "execution_count": 40,
     "metadata": {},
     "output_type": "execute_result"
    }
   ],
   "source": [
    "format_dict = {'RMSE':'{0:.2f}',\n",
    "               'mean_predict':'{0:.2f}',\n",
    "               'mean_true':'{0:.2f}',\n",
    "               'product_short':'{0:.2f}',\n",
    "               'mean_profit':'{0:,.0f} ₽',\n",
    "               'interval_95_low':'{0:,.0f} ₽',\n",
    "               'interval_95_high':'₽{0:,.0f} ₽',\n",
    "               'perc_loss': '{:.1%}'}\n",
    "result_df.style.format(format_dict)"
   ]
  },
  {
   "cell_type": "markdown",
   "metadata": {},
   "source": [
    "### Выводы"
   ]
  },
  {
   "cell_type": "markdown",
   "metadata": {},
   "source": [
    "Из полученного результата следует (с **наихудшего**):\n",
    "\n",
    "- **Регион** **№2** - имеет наименьший процент возможных убытков (**0.2%**), что является лишь следствием утечки данных (*data* *leakage*), в случае, если бы данная утечка не имела влияния, и результаты были независимыми, то данный регион имеет наименьшие средние запасы, что приводит к наименьшим реальным прибылям;\n",
    "\n",
    "- **Регион** **№3** - имеет самый худший процент возможных убытков (**3.9%**), превышающий пороговое значение в 2.5%, следовательно, при этом являясь регионом с самым большим средним значением запасов, но с точик зрения рисков не соответствует целям; \n",
    "\n",
    "- **Регион** **№1** - **наилучший** вариант из предложенных, процент возможных убытков в пределах допустимого (**1.8%**), при этом среднее значение запасов сопоставимы с регионом №3, следовательно, именно этот регион рекомендуется к проведению разведки, и дальнешей разработке."
   ]
  }
 ],
 "metadata": {
  "ExecuteTimeLog": [
   {
    "duration": 755,
    "start_time": "2021-07-20T08:56:10.106Z"
   },
   {
    "duration": 839,
    "start_time": "2021-07-20T08:56:19.696Z"
   },
   {
    "duration": 1443,
    "start_time": "2021-07-20T08:57:44.681Z"
   },
   {
    "duration": 19,
    "start_time": "2021-07-20T08:57:55.122Z"
   },
   {
    "duration": 12,
    "start_time": "2021-07-20T08:58:10.272Z"
   },
   {
    "duration": 13,
    "start_time": "2021-07-20T08:58:11.390Z"
   },
   {
    "duration": 16,
    "start_time": "2021-07-20T08:58:18.971Z"
   },
   {
    "duration": 15,
    "start_time": "2021-07-20T08:58:23.686Z"
   },
   {
    "duration": 14,
    "start_time": "2021-07-20T08:58:26.413Z"
   },
   {
    "duration": 91,
    "start_time": "2021-07-20T09:01:48.230Z"
   },
   {
    "duration": 13,
    "start_time": "2021-07-20T09:05:57.870Z"
   },
   {
    "duration": 1575,
    "start_time": "2021-07-23T11:48:12.063Z"
   },
   {
    "duration": 450,
    "start_time": "2021-07-23T11:48:13.640Z"
   },
   {
    "duration": 18,
    "start_time": "2021-07-23T11:48:14.905Z"
   },
   {
    "duration": 547,
    "start_time": "2021-07-23T11:48:23.724Z"
   },
   {
    "duration": 565,
    "start_time": "2021-07-23T11:48:27.630Z"
   },
   {
    "duration": 17,
    "start_time": "2021-07-23T11:48:28.908Z"
   },
   {
    "duration": 794,
    "start_time": "2021-07-23T11:48:30.760Z"
   },
   {
    "duration": 820,
    "start_time": "2021-07-23T11:48:44.881Z"
   },
   {
    "duration": 857,
    "start_time": "2021-07-23T11:48:53.776Z"
   },
   {
    "duration": 8,
    "start_time": "2021-07-23T11:51:44.119Z"
   },
   {
    "duration": 194,
    "start_time": "2021-07-23T11:52:18.433Z"
   },
   {
    "duration": 11233,
    "start_time": "2021-07-23T11:52:21.543Z"
   },
   {
    "duration": 1573,
    "start_time": "2021-07-23T11:53:02.577Z"
   },
   {
    "duration": 489,
    "start_time": "2021-07-23T11:53:04.153Z"
   },
   {
    "duration": 16,
    "start_time": "2021-07-23T11:53:04.645Z"
   },
   {
    "duration": 789,
    "start_time": "2021-07-23T11:53:04.664Z"
   },
   {
    "duration": 822,
    "start_time": "2021-07-23T11:53:05.456Z"
   },
   {
    "duration": 887,
    "start_time": "2021-07-23T11:53:06.281Z"
   },
   {
    "duration": 34,
    "start_time": "2021-07-23T11:53:07.170Z"
   },
   {
    "duration": 66,
    "start_time": "2021-07-23T11:54:50.588Z"
   },
   {
    "duration": 1481,
    "start_time": "2021-07-24T09:48:21.328Z"
   },
   {
    "duration": 439,
    "start_time": "2021-07-24T09:48:25.086Z"
   },
   {
    "duration": 19,
    "start_time": "2021-07-24T09:48:25.701Z"
   },
   {
    "duration": 778,
    "start_time": "2021-07-24T09:48:27.263Z"
   },
   {
    "duration": 790,
    "start_time": "2021-07-24T09:48:28.451Z"
   },
   {
    "duration": 851,
    "start_time": "2021-07-24T09:48:29.254Z"
   },
   {
    "duration": 27,
    "start_time": "2021-07-24T09:48:33.116Z"
   },
   {
    "duration": 74,
    "start_time": "2021-07-24T09:48:40.048Z"
   },
   {
    "duration": 516,
    "start_time": "2021-07-24T09:50:24.813Z"
   },
   {
    "duration": 8942,
    "start_time": "2021-07-24T09:52:34.412Z"
   },
   {
    "duration": 10020,
    "start_time": "2021-07-24T09:53:58.829Z"
   },
   {
    "duration": 31,
    "start_time": "2021-07-24T09:54:08.821Z"
   },
   {
    "duration": 66,
    "start_time": "2021-07-24T09:54:21.285Z"
   },
   {
    "duration": 389,
    "start_time": "2021-07-24T09:54:23.649Z"
   },
   {
    "duration": 428,
    "start_time": "2021-07-24T09:54:31.138Z"
   },
   {
    "duration": 386,
    "start_time": "2021-07-24T09:55:26.497Z"
   },
   {
    "duration": 468,
    "start_time": "2021-07-24T09:55:49.139Z"
   },
   {
    "duration": 18,
    "start_time": "2021-07-24T09:55:50.594Z"
   },
   {
    "duration": 1203,
    "start_time": "2021-07-24T09:55:51.152Z"
   },
   {
    "duration": 972,
    "start_time": "2021-07-24T09:55:52.358Z"
   },
   {
    "duration": 850,
    "start_time": "2021-07-24T09:55:53.373Z"
   },
   {
    "duration": 24,
    "start_time": "2021-07-24T09:55:57.671Z"
   },
   {
    "duration": 58,
    "start_time": "2021-07-24T09:56:06.190Z"
   },
   {
    "duration": 30,
    "start_time": "2021-07-24T09:56:07.962Z"
   },
   {
    "duration": 373,
    "start_time": "2021-07-24T09:56:10.212Z"
   },
   {
    "duration": 409,
    "start_time": "2021-07-24T09:56:22.529Z"
   },
   {
    "duration": 72,
    "start_time": "2021-07-24T09:57:05.142Z"
   },
   {
    "duration": 102,
    "start_time": "2021-07-24T09:57:08.303Z"
   },
   {
    "duration": 53,
    "start_time": "2021-07-24T09:58:21.049Z"
   },
   {
    "duration": 89,
    "start_time": "2021-07-24T09:59:43.617Z"
   },
   {
    "duration": 33,
    "start_time": "2021-07-24T10:00:30.279Z"
   },
   {
    "duration": 141,
    "start_time": "2021-07-24T10:00:34.565Z"
   },
   {
    "duration": 166,
    "start_time": "2021-07-24T10:00:40.936Z"
   },
   {
    "duration": 26,
    "start_time": "2021-07-24T10:00:50.684Z"
   },
   {
    "duration": 209,
    "start_time": "2021-07-24T10:02:22.397Z"
   },
   {
    "duration": 128,
    "start_time": "2021-07-24T10:02:51.030Z"
   },
   {
    "duration": 361,
    "start_time": "2021-07-24T10:04:51.840Z"
   },
   {
    "duration": 117,
    "start_time": "2021-07-24T10:05:02.885Z"
   },
   {
    "duration": 92,
    "start_time": "2021-07-24T10:05:18.321Z"
   },
   {
    "duration": 297,
    "start_time": "2021-07-24T10:05:36.102Z"
   },
   {
    "duration": 54,
    "start_time": "2021-07-24T10:06:10.357Z"
   },
   {
    "duration": 88,
    "start_time": "2021-07-24T10:06:22.022Z"
   },
   {
    "duration": 31,
    "start_time": "2021-07-24T10:06:52.782Z"
   },
   {
    "duration": 140,
    "start_time": "2021-07-24T10:07:09.769Z"
   },
   {
    "duration": 187,
    "start_time": "2021-07-24T10:07:16.925Z"
   },
   {
    "duration": 120,
    "start_time": "2021-07-24T10:07:20.980Z"
   },
   {
    "duration": 145,
    "start_time": "2021-07-24T10:07:25.597Z"
   },
   {
    "duration": 59,
    "start_time": "2021-07-24T10:07:28.856Z"
   },
   {
    "duration": 30,
    "start_time": "2021-07-24T10:07:50.588Z"
   },
   {
    "duration": 45,
    "start_time": "2021-07-24T10:08:03.464Z"
   },
   {
    "duration": 181,
    "start_time": "2021-07-24T10:08:12.128Z"
   },
   {
    "duration": 184,
    "start_time": "2021-07-24T10:08:51.918Z"
   },
   {
    "duration": 38,
    "start_time": "2021-07-24T10:09:45.466Z"
   },
   {
    "duration": 16,
    "start_time": "2021-07-24T10:11:13.789Z"
   },
   {
    "duration": 29,
    "start_time": "2021-07-24T10:12:01.971Z"
   },
   {
    "duration": 16,
    "start_time": "2021-07-24T10:12:04.299Z"
   },
   {
    "duration": 17,
    "start_time": "2021-07-24T10:15:20.813Z"
   },
   {
    "duration": 16,
    "start_time": "2021-07-24T10:15:24.017Z"
   },
   {
    "duration": 27,
    "start_time": "2021-07-24T10:15:30.305Z"
   },
   {
    "duration": 15,
    "start_time": "2021-07-24T10:15:32.692Z"
   },
   {
    "duration": 16,
    "start_time": "2021-07-24T10:15:36.399Z"
   },
   {
    "duration": 16,
    "start_time": "2021-07-24T10:15:39.741Z"
   },
   {
    "duration": 773,
    "start_time": "2021-07-24T10:15:52.309Z"
   },
   {
    "duration": 26,
    "start_time": "2021-07-24T10:16:25.867Z"
   },
   {
    "duration": 47,
    "start_time": "2021-07-24T10:16:27.955Z"
   },
   {
    "duration": 17,
    "start_time": "2021-07-24T10:16:36.493Z"
   },
   {
    "duration": 45,
    "start_time": "2021-07-24T10:16:45.295Z"
   },
   {
    "duration": 26,
    "start_time": "2021-07-24T10:16:51.059Z"
   },
   {
    "duration": 15,
    "start_time": "2021-07-24T10:16:53.327Z"
   },
   {
    "duration": 16,
    "start_time": "2021-07-24T10:16:57.937Z"
   },
   {
    "duration": 3,
    "start_time": "2021-07-24T10:40:02.310Z"
   },
   {
    "duration": 5,
    "start_time": "2021-07-24T10:40:09.604Z"
   },
   {
    "duration": 3,
    "start_time": "2021-07-24T10:40:36.350Z"
   },
   {
    "duration": 6,
    "start_time": "2021-07-24T10:40:38.822Z"
   },
   {
    "duration": 3,
    "start_time": "2021-07-24T10:40:42.646Z"
   },
   {
    "duration": 5,
    "start_time": "2021-07-24T10:40:45.024Z"
   },
   {
    "duration": 5,
    "start_time": "2021-07-24T10:41:41.846Z"
   },
   {
    "duration": 4,
    "start_time": "2021-07-24T10:41:43.640Z"
   },
   {
    "duration": 5,
    "start_time": "2021-07-24T10:41:45.242Z"
   },
   {
    "duration": 4,
    "start_time": "2021-07-24T10:41:47.239Z"
   },
   {
    "duration": 3,
    "start_time": "2021-07-24T10:41:58.950Z"
   },
   {
    "duration": 5,
    "start_time": "2021-07-24T10:42:01.277Z"
   },
   {
    "duration": 4,
    "start_time": "2021-07-24T10:42:17.622Z"
   },
   {
    "duration": 4,
    "start_time": "2021-07-24T10:45:09.536Z"
   },
   {
    "duration": 4,
    "start_time": "2021-07-24T10:45:11.442Z"
   },
   {
    "duration": 4,
    "start_time": "2021-07-24T10:46:04.570Z"
   },
   {
    "duration": 4,
    "start_time": "2021-07-24T10:47:43.552Z"
   },
   {
    "duration": 5,
    "start_time": "2021-07-24T10:47:48.588Z"
   },
   {
    "duration": 6,
    "start_time": "2021-07-24T10:49:28.830Z"
   },
   {
    "duration": 4,
    "start_time": "2021-07-24T10:50:42.778Z"
   },
   {
    "duration": 4,
    "start_time": "2021-07-24T10:50:54.124Z"
   },
   {
    "duration": 3,
    "start_time": "2021-07-24T10:52:03.234Z"
   },
   {
    "duration": 4,
    "start_time": "2021-07-24T10:52:43.254Z"
   },
   {
    "duration": 5,
    "start_time": "2021-07-24T10:53:18.130Z"
   },
   {
    "duration": 5,
    "start_time": "2021-07-24T10:55:08.186Z"
   },
   {
    "duration": 4,
    "start_time": "2021-07-24T10:55:24.054Z"
   },
   {
    "duration": 4,
    "start_time": "2021-07-24T10:55:38.569Z"
   },
   {
    "duration": 6,
    "start_time": "2021-07-24T10:56:00.130Z"
   },
   {
    "duration": 1557,
    "start_time": "2021-07-25T12:53:07.390Z"
   },
   {
    "duration": 467,
    "start_time": "2021-07-25T12:53:08.950Z"
   },
   {
    "duration": 17,
    "start_time": "2021-07-25T12:53:09.423Z"
   },
   {
    "duration": 832,
    "start_time": "2021-07-25T12:53:09.442Z"
   },
   {
    "duration": 857,
    "start_time": "2021-07-25T12:53:10.277Z"
   },
   {
    "duration": 929,
    "start_time": "2021-07-25T12:53:11.137Z"
   },
   {
    "duration": 44,
    "start_time": "2021-07-25T12:53:12.069Z"
   },
   {
    "duration": 52,
    "start_time": "2021-07-25T12:53:12.116Z"
   },
   {
    "duration": 55,
    "start_time": "2021-07-25T12:53:12.171Z"
   },
   {
    "duration": 86,
    "start_time": "2021-07-25T12:53:12.229Z"
   },
   {
    "duration": 103,
    "start_time": "2021-07-25T12:53:12.401Z"
   },
   {
    "duration": 4,
    "start_time": "2021-07-25T12:53:12.507Z"
   },
   {
    "duration": 5,
    "start_time": "2021-07-25T12:53:12.514Z"
   },
   {
    "duration": 8,
    "start_time": "2021-07-25T12:53:12.521Z"
   },
   {
    "duration": 7,
    "start_time": "2021-07-25T12:53:12.531Z"
   },
   {
    "duration": 7,
    "start_time": "2021-07-25T12:53:12.541Z"
   },
   {
    "duration": 896,
    "start_time": "2021-07-25T12:54:20.233Z"
   },
   {
    "duration": 953,
    "start_time": "2021-07-25T12:54:27.441Z"
   },
   {
    "duration": 1084,
    "start_time": "2021-07-25T12:54:31.850Z"
   },
   {
    "duration": 1080,
    "start_time": "2021-07-25T12:55:03.229Z"
   },
   {
    "duration": 1194,
    "start_time": "2021-07-25T12:55:10.542Z"
   },
   {
    "duration": 1121,
    "start_time": "2021-07-25T12:55:15.511Z"
   },
   {
    "duration": 546,
    "start_time": "2021-07-25T12:58:21.216Z"
   },
   {
    "duration": 7,
    "start_time": "2021-07-25T12:58:41.348Z"
   },
   {
    "duration": 15,
    "start_time": "2021-07-25T12:58:46.387Z"
   },
   {
    "duration": 377,
    "start_time": "2021-07-25T12:59:19.512Z"
   },
   {
    "duration": 350,
    "start_time": "2021-07-25T12:59:28.194Z"
   },
   {
    "duration": 11,
    "start_time": "2021-07-25T12:59:31.657Z"
   },
   {
    "duration": 393,
    "start_time": "2021-07-25T13:00:04.182Z"
   },
   {
    "duration": 14,
    "start_time": "2021-07-25T13:00:07.102Z"
   },
   {
    "duration": 442,
    "start_time": "2021-07-25T13:00:27.024Z"
   },
   {
    "duration": 10,
    "start_time": "2021-07-25T13:00:28.961Z"
   },
   {
    "duration": 390,
    "start_time": "2021-07-25T13:00:30.929Z"
   },
   {
    "duration": 13,
    "start_time": "2021-07-25T13:00:32.506Z"
   },
   {
    "duration": 8,
    "start_time": "2021-07-25T13:00:37.223Z"
   },
   {
    "duration": 9,
    "start_time": "2021-07-25T13:00:38.082Z"
   },
   {
    "duration": 10,
    "start_time": "2021-07-25T13:02:31.394Z"
   },
   {
    "duration": 10,
    "start_time": "2021-07-25T13:02:32.561Z"
   },
   {
    "duration": 9,
    "start_time": "2021-07-25T13:02:45.266Z"
   },
   {
    "duration": 12,
    "start_time": "2021-07-25T13:02:46.458Z"
   },
   {
    "duration": 9,
    "start_time": "2021-07-25T13:02:54.212Z"
   },
   {
    "duration": 12,
    "start_time": "2021-07-25T13:02:55.660Z"
   },
   {
    "duration": 11,
    "start_time": "2021-07-25T13:02:56.388Z"
   },
   {
    "duration": 12,
    "start_time": "2021-07-25T13:02:57.076Z"
   },
   {
    "duration": 9,
    "start_time": "2021-07-25T13:03:12.807Z"
   },
   {
    "duration": 12,
    "start_time": "2021-07-25T13:03:13.614Z"
   },
   {
    "duration": 8,
    "start_time": "2021-07-25T13:03:27.328Z"
   },
   {
    "duration": 11,
    "start_time": "2021-07-25T13:03:28.720Z"
   },
   {
    "duration": 7,
    "start_time": "2021-07-25T13:03:49.772Z"
   },
   {
    "duration": 356,
    "start_time": "2021-07-25T13:04:17.103Z"
   },
   {
    "duration": 7,
    "start_time": "2021-07-25T13:04:23.047Z"
   },
   {
    "duration": 9792,
    "start_time": "2021-07-25T13:04:23.512Z"
   },
   {
    "duration": 5,
    "start_time": "2021-07-25T13:04:41.234Z"
   },
   {
    "duration": 25,
    "start_time": "2021-07-25T13:04:45.587Z"
   },
   {
    "duration": 6,
    "start_time": "2021-07-25T13:05:03.293Z"
   },
   {
    "duration": 118,
    "start_time": "2021-07-25T13:05:55.636Z"
   },
   {
    "duration": 10,
    "start_time": "2021-07-25T13:06:00.148Z"
   },
   {
    "duration": 17,
    "start_time": "2021-07-25T13:06:06.693Z"
   },
   {
    "duration": 9,
    "start_time": "2021-07-25T13:06:18.863Z"
   },
   {
    "duration": 11,
    "start_time": "2021-07-25T13:06:19.831Z"
   },
   {
    "duration": 6,
    "start_time": "2021-07-25T13:06:52.845Z"
   },
   {
    "duration": 6,
    "start_time": "2021-07-25T13:06:53.587Z"
   },
   {
    "duration": 10,
    "start_time": "2021-07-25T13:06:54.132Z"
   },
   {
    "duration": 9,
    "start_time": "2021-07-25T13:06:54.820Z"
   },
   {
    "duration": 16,
    "start_time": "2021-07-25T13:07:02.213Z"
   },
   {
    "duration": 6,
    "start_time": "2021-07-25T13:08:29.192Z"
   },
   {
    "duration": 10,
    "start_time": "2021-07-25T13:08:34.073Z"
   },
   {
    "duration": 9767,
    "start_time": "2021-07-25T13:10:45.457Z"
   },
   {
    "duration": 8544,
    "start_time": "2021-07-25T13:11:06.853Z"
   },
   {
    "duration": 11,
    "start_time": "2021-07-25T13:11:21.014Z"
   },
   {
    "duration": 12,
    "start_time": "2021-07-25T13:11:22.206Z"
   },
   {
    "duration": 6,
    "start_time": "2021-07-25T13:11:24.558Z"
   },
   {
    "duration": 6,
    "start_time": "2021-07-25T13:12:24.432Z"
   },
   {
    "duration": 6,
    "start_time": "2021-07-25T13:12:24.935Z"
   },
   {
    "duration": 10,
    "start_time": "2021-07-25T13:12:25.375Z"
   },
   {
    "duration": 10,
    "start_time": "2021-07-25T13:12:26.543Z"
   },
   {
    "duration": 6,
    "start_time": "2021-07-25T13:12:30.777Z"
   },
   {
    "duration": 10,
    "start_time": "2021-07-25T13:12:32.048Z"
   },
   {
    "duration": 4,
    "start_time": "2021-07-25T13:52:38.153Z"
   },
   {
    "duration": 690,
    "start_time": "2021-07-25T13:52:50.601Z"
   },
   {
    "duration": 4,
    "start_time": "2021-07-25T13:53:05.611Z"
   },
   {
    "duration": 760,
    "start_time": "2021-07-25T13:53:07.378Z"
   },
   {
    "duration": 5,
    "start_time": "2021-07-25T13:53:28.511Z"
   },
   {
    "duration": 375,
    "start_time": "2021-07-25T13:53:39.391Z"
   },
   {
    "duration": 8,
    "start_time": "2021-07-25T13:54:09.078Z"
   },
   {
    "duration": 6,
    "start_time": "2021-07-25T14:00:48.673Z"
   },
   {
    "duration": 6,
    "start_time": "2021-07-25T14:00:55.354Z"
   },
   {
    "duration": 7,
    "start_time": "2021-07-25T14:01:06.995Z"
   },
   {
    "duration": 4,
    "start_time": "2021-07-25T14:01:16.660Z"
   },
   {
    "duration": 12,
    "start_time": "2021-07-25T14:01:23.713Z"
   },
   {
    "duration": 4,
    "start_time": "2021-07-25T14:01:44.279Z"
   },
   {
    "duration": 11,
    "start_time": "2021-07-25T14:01:46.312Z"
   },
   {
    "duration": 5,
    "start_time": "2021-07-25T14:01:53.728Z"
   },
   {
    "duration": 9,
    "start_time": "2021-07-25T14:01:55.337Z"
   },
   {
    "duration": 4,
    "start_time": "2021-07-25T14:02:21.212Z"
   },
   {
    "duration": 17,
    "start_time": "2021-07-25T14:02:21.796Z"
   },
   {
    "duration": 5,
    "start_time": "2021-07-25T14:02:57.449Z"
   },
   {
    "duration": 21,
    "start_time": "2021-07-25T14:02:58.554Z"
   },
   {
    "duration": 11,
    "start_time": "2021-07-25T14:02:59.441Z"
   },
   {
    "duration": 9,
    "start_time": "2021-07-25T14:03:14.412Z"
   },
   {
    "duration": 5,
    "start_time": "2021-07-25T14:03:29.693Z"
   },
   {
    "duration": 9,
    "start_time": "2021-07-25T14:03:31.166Z"
   },
   {
    "duration": 9,
    "start_time": "2021-07-25T14:03:35.159Z"
   },
   {
    "duration": 5,
    "start_time": "2021-07-25T14:05:42.103Z"
   },
   {
    "duration": 11,
    "start_time": "2021-07-25T14:05:45.870Z"
   },
   {
    "duration": 12,
    "start_time": "2021-07-25T14:05:47.039Z"
   },
   {
    "duration": 10,
    "start_time": "2021-07-25T14:06:02.769Z"
   },
   {
    "duration": 10,
    "start_time": "2021-07-25T14:06:09.842Z"
   },
   {
    "duration": 12,
    "start_time": "2021-07-25T14:06:25.604Z"
   },
   {
    "duration": 12,
    "start_time": "2021-07-25T14:06:29.309Z"
   },
   {
    "duration": 5,
    "start_time": "2021-07-25T14:08:35.565Z"
   },
   {
    "duration": 387,
    "start_time": "2021-07-25T14:08:46.263Z"
   },
   {
    "duration": 17,
    "start_time": "2021-07-25T14:08:59.193Z"
   },
   {
    "duration": 11,
    "start_time": "2021-07-25T14:09:04.553Z"
   },
   {
    "duration": 10,
    "start_time": "2021-07-25T14:09:08.577Z"
   },
   {
    "duration": 4,
    "start_time": "2021-07-25T14:11:26.176Z"
   },
   {
    "duration": 432,
    "start_time": "2021-07-25T14:11:34.917Z"
   },
   {
    "duration": 11,
    "start_time": "2021-07-25T14:11:39.549Z"
   },
   {
    "duration": 5,
    "start_time": "2021-07-25T14:11:57.432Z"
   },
   {
    "duration": 11,
    "start_time": "2021-07-25T14:11:59.569Z"
   },
   {
    "duration": 5,
    "start_time": "2021-07-25T14:15:00.505Z"
   },
   {
    "duration": 3,
    "start_time": "2021-07-25T14:15:12.538Z"
   },
   {
    "duration": 4,
    "start_time": "2021-07-25T14:15:21.058Z"
   },
   {
    "duration": 372,
    "start_time": "2021-07-25T14:16:54.360Z"
   },
   {
    "duration": 5,
    "start_time": "2021-07-25T14:17:17.155Z"
   },
   {
    "duration": 680,
    "start_time": "2021-07-25T14:17:21.267Z"
   },
   {
    "duration": 454,
    "start_time": "2021-07-25T14:17:39.677Z"
   },
   {
    "duration": 9,
    "start_time": "2021-07-25T14:53:13.450Z"
   },
   {
    "duration": 7,
    "start_time": "2021-07-25T14:53:21.184Z"
   },
   {
    "duration": 7,
    "start_time": "2021-07-25T14:53:29.947Z"
   },
   {
    "duration": 9,
    "start_time": "2021-07-25T14:53:35.067Z"
   },
   {
    "duration": 101,
    "start_time": "2021-07-25T14:54:17.921Z"
   },
   {
    "duration": 17,
    "start_time": "2021-07-25T14:55:07.527Z"
   },
   {
    "duration": 10,
    "start_time": "2021-07-25T14:55:14.417Z"
   },
   {
    "duration": 9,
    "start_time": "2021-07-25T14:55:22.009Z"
   },
   {
    "duration": 71,
    "start_time": "2021-07-25T14:56:32.351Z"
   },
   {
    "duration": 80,
    "start_time": "2021-07-25T14:57:13.760Z"
   },
   {
    "duration": 88,
    "start_time": "2021-07-25T14:57:26.459Z"
   },
   {
    "duration": 70,
    "start_time": "2021-07-25T14:57:50.796Z"
   },
   {
    "duration": 240,
    "start_time": "2021-07-25T14:58:08.108Z"
   },
   {
    "duration": 1522,
    "start_time": "2021-07-25T14:58:19.100Z"
   },
   {
    "duration": 484,
    "start_time": "2021-07-25T14:58:22.724Z"
   },
   {
    "duration": 521,
    "start_time": "2021-07-25T14:58:23.972Z"
   },
   {
    "duration": 45,
    "start_time": "2021-07-25T14:59:00.084Z"
   },
   {
    "duration": 24,
    "start_time": "2021-07-25T14:59:03.810Z"
   },
   {
    "duration": 24,
    "start_time": "2021-07-25T14:59:06.171Z"
   },
   {
    "duration": 22,
    "start_time": "2021-07-25T14:59:08.948Z"
   },
   {
    "duration": 24,
    "start_time": "2021-07-25T14:59:13.322Z"
   },
   {
    "duration": 13,
    "start_time": "2021-07-25T14:59:18.075Z"
   },
   {
    "duration": 23,
    "start_time": "2021-07-25T14:59:20.612Z"
   },
   {
    "duration": 12,
    "start_time": "2021-07-25T14:59:23.036Z"
   },
   {
    "duration": 72,
    "start_time": "2021-07-25T14:59:30.150Z"
   },
   {
    "duration": 87,
    "start_time": "2021-07-25T14:59:31.333Z"
   },
   {
    "duration": 13,
    "start_time": "2021-07-25T14:59:38.750Z"
   },
   {
    "duration": 13,
    "start_time": "2021-07-25T15:00:37.366Z"
   },
   {
    "duration": 1121,
    "start_time": "2021-07-25T15:00:38.933Z"
   },
   {
    "duration": 1311,
    "start_time": "2021-07-25T15:00:40.057Z"
   },
   {
    "duration": 1166,
    "start_time": "2021-07-25T15:00:41.371Z"
   },
   {
    "duration": 14,
    "start_time": "2021-07-25T15:02:55.978Z"
   },
   {
    "duration": 27,
    "start_time": "2021-07-25T15:03:10.691Z"
   },
   {
    "duration": 49,
    "start_time": "2021-07-25T15:03:12.323Z"
   },
   {
    "duration": 6,
    "start_time": "2021-07-25T15:03:39.926Z"
   },
   {
    "duration": 6,
    "start_time": "2021-07-25T15:04:13.212Z"
   },
   {
    "duration": 28,
    "start_time": "2021-07-25T15:05:15.676Z"
   },
   {
    "duration": 104,
    "start_time": "2021-07-25T15:06:22.797Z"
   },
   {
    "duration": 6,
    "start_time": "2021-07-25T15:08:10.940Z"
   },
   {
    "duration": 6,
    "start_time": "2021-07-25T15:08:43.945Z"
   },
   {
    "duration": 10,
    "start_time": "2021-07-25T15:09:23.036Z"
   },
   {
    "duration": 10,
    "start_time": "2021-07-25T15:09:23.884Z"
   },
   {
    "duration": 4,
    "start_time": "2021-07-25T15:11:59.122Z"
   },
   {
    "duration": 4,
    "start_time": "2021-07-25T15:12:00.025Z"
   },
   {
    "duration": 3,
    "start_time": "2021-07-25T15:12:01.497Z"
   },
   {
    "duration": 351,
    "start_time": "2021-07-25T15:12:32.869Z"
   },
   {
    "duration": 5,
    "start_time": "2021-07-25T15:12:39.238Z"
   },
   {
    "duration": 11,
    "start_time": "2021-07-25T15:12:44.927Z"
   },
   {
    "duration": 10,
    "start_time": "2021-07-25T15:12:46.816Z"
   },
   {
    "duration": 12,
    "start_time": "2021-07-25T15:13:11.762Z"
   },
   {
    "duration": 6,
    "start_time": "2021-07-25T15:22:59.561Z"
   },
   {
    "duration": 4,
    "start_time": "2021-07-25T15:24:06.569Z"
   },
   {
    "duration": 750,
    "start_time": "2021-07-25T15:24:30.332Z"
   },
   {
    "duration": 11,
    "start_time": "2021-07-25T15:24:45.230Z"
   },
   {
    "duration": 7,
    "start_time": "2021-07-25T15:24:53.775Z"
   },
   {
    "duration": 370,
    "start_time": "2021-07-25T15:25:25.956Z"
   },
   {
    "duration": 11,
    "start_time": "2021-07-25T15:26:07.249Z"
   },
   {
    "duration": 7,
    "start_time": "2021-07-25T15:26:13.395Z"
   },
   {
    "duration": 4,
    "start_time": "2021-07-25T15:27:02.066Z"
   },
   {
    "duration": 7,
    "start_time": "2021-07-25T15:27:06.658Z"
   },
   {
    "duration": 8,
    "start_time": "2021-07-25T15:27:11.633Z"
   },
   {
    "duration": 367,
    "start_time": "2021-07-25T15:27:22.355Z"
   },
   {
    "duration": 4,
    "start_time": "2021-07-25T15:27:39.789Z"
   },
   {
    "duration": 13,
    "start_time": "2021-07-25T15:27:45.166Z"
   },
   {
    "duration": 13,
    "start_time": "2021-07-25T15:28:08.258Z"
   },
   {
    "duration": 13,
    "start_time": "2021-07-25T15:28:14.362Z"
   },
   {
    "duration": 12,
    "start_time": "2021-07-25T15:28:19.738Z"
   },
   {
    "duration": 6,
    "start_time": "2021-07-25T15:28:36.190Z"
   },
   {
    "duration": 8,
    "start_time": "2021-07-25T15:28:42.134Z"
   },
   {
    "duration": 8,
    "start_time": "2021-07-25T15:28:56.800Z"
   },
   {
    "duration": 11,
    "start_time": "2021-07-25T15:29:12.587Z"
   },
   {
    "duration": 11,
    "start_time": "2021-07-25T15:29:15.427Z"
   },
   {
    "duration": 13,
    "start_time": "2021-07-25T15:29:40.093Z"
   },
   {
    "duration": 4286,
    "start_time": "2021-07-25T15:31:56.072Z"
   },
   {
    "duration": 4380,
    "start_time": "2021-07-25T15:32:09.314Z"
   },
   {
    "duration": 1539,
    "start_time": "2021-07-25T15:32:38.276Z"
   },
   {
    "duration": 1046,
    "start_time": "2021-07-25T15:32:44.567Z"
   },
   {
    "duration": 4276,
    "start_time": "2021-07-25T15:32:56.817Z"
   },
   {
    "duration": 4410,
    "start_time": "2021-07-25T15:34:15.522Z"
   },
   {
    "duration": 4580,
    "start_time": "2021-07-25T15:34:19.935Z"
   },
   {
    "duration": 4757,
    "start_time": "2021-07-25T15:34:24.519Z"
   },
   {
    "duration": 6295,
    "start_time": "2021-07-25T15:34:58.223Z"
   },
   {
    "duration": 4338,
    "start_time": "2021-07-25T15:35:48.782Z"
   },
   {
    "duration": 4528,
    "start_time": "2021-07-25T15:36:01.906Z"
   },
   {
    "duration": 4388,
    "start_time": "2021-07-25T15:36:06.437Z"
   },
   {
    "duration": 4362,
    "start_time": "2021-07-25T15:36:10.828Z"
   },
   {
    "duration": 586,
    "start_time": "2021-07-25T15:40:10.041Z"
   },
   {
    "duration": 6,
    "start_time": "2021-07-25T15:40:17.746Z"
   },
   {
    "duration": 4779,
    "start_time": "2021-07-25T15:40:42.629Z"
   },
   {
    "duration": 13153,
    "start_time": "2021-07-25T15:41:24.891Z"
   },
   {
    "duration": 5,
    "start_time": "2021-07-25T15:42:10.866Z"
   },
   {
    "duration": 8,
    "start_time": "2021-07-25T15:42:14.370Z"
   },
   {
    "duration": 11,
    "start_time": "2021-07-25T15:43:51.807Z"
   },
   {
    "duration": 9,
    "start_time": "2021-07-25T15:44:06.426Z"
   },
   {
    "duration": 19,
    "start_time": "2021-07-25T15:44:14.099Z"
   },
   {
    "duration": 10,
    "start_time": "2021-07-25T15:44:39.558Z"
   },
   {
    "duration": 8,
    "start_time": "2021-07-25T15:44:44.254Z"
   },
   {
    "duration": 8,
    "start_time": "2021-07-25T15:44:52.983Z"
   },
   {
    "duration": 9,
    "start_time": "2021-07-25T15:44:55.640Z"
   },
   {
    "duration": 7,
    "start_time": "2021-07-25T15:45:06.136Z"
   },
   {
    "duration": 7,
    "start_time": "2021-07-25T15:45:17.147Z"
   },
   {
    "duration": 8,
    "start_time": "2021-07-25T15:45:18.450Z"
   },
   {
    "duration": 9,
    "start_time": "2021-07-25T15:45:55.270Z"
   },
   {
    "duration": 8,
    "start_time": "2021-07-25T15:46:15.850Z"
   },
   {
    "duration": 9,
    "start_time": "2021-07-25T15:46:16.617Z"
   },
   {
    "duration": 11,
    "start_time": "2021-07-25T15:46:17.746Z"
   },
   {
    "duration": 9,
    "start_time": "2021-07-25T15:47:12.865Z"
   },
   {
    "duration": 8,
    "start_time": "2021-07-25T15:47:14.841Z"
   },
   {
    "duration": 12,
    "start_time": "2021-07-25T15:47:38.101Z"
   },
   {
    "duration": 9,
    "start_time": "2021-07-25T15:47:48.094Z"
   },
   {
    "duration": 10,
    "start_time": "2021-07-25T15:47:50.190Z"
   },
   {
    "duration": 12,
    "start_time": "2021-07-25T15:47:54.142Z"
   },
   {
    "duration": 17,
    "start_time": "2021-07-25T15:49:48.334Z"
   },
   {
    "duration": 683,
    "start_time": "2021-07-25T15:50:28.364Z"
   },
   {
    "duration": 35,
    "start_time": "2021-07-25T15:50:38.740Z"
   },
   {
    "duration": 28,
    "start_time": "2021-07-25T15:50:44.748Z"
   },
   {
    "duration": 31,
    "start_time": "2021-07-25T15:50:48.689Z"
   },
   {
    "duration": 29,
    "start_time": "2021-07-25T15:50:53.613Z"
   },
   {
    "duration": 35,
    "start_time": "2021-07-25T15:51:18.601Z"
   },
   {
    "duration": 6,
    "start_time": "2021-07-25T15:51:22.786Z"
   },
   {
    "duration": 31,
    "start_time": "2021-07-25T15:51:26.658Z"
   },
   {
    "duration": 34,
    "start_time": "2021-07-25T15:51:31.884Z"
   },
   {
    "duration": 481,
    "start_time": "2021-07-25T15:54:01.463Z"
   },
   {
    "duration": 9,
    "start_time": "2021-07-25T15:54:35.403Z"
   },
   {
    "duration": 7,
    "start_time": "2021-07-25T15:55:33.418Z"
   },
   {
    "duration": 550,
    "start_time": "2021-07-25T15:55:35.634Z"
   },
   {
    "duration": 657,
    "start_time": "2021-07-25T15:55:59.358Z"
   },
   {
    "duration": 533,
    "start_time": "2021-07-25T15:56:08.526Z"
   },
   {
    "duration": 383,
    "start_time": "2021-07-25T15:59:19.072Z"
   },
   {
    "duration": 7,
    "start_time": "2021-07-25T15:59:33.642Z"
   },
   {
    "duration": 349,
    "start_time": "2021-07-25T15:59:37.490Z"
   },
   {
    "duration": 8,
    "start_time": "2021-07-25T15:59:46.484Z"
   },
   {
    "duration": 557,
    "start_time": "2021-07-25T15:59:50.436Z"
   },
   {
    "duration": 413,
    "start_time": "2021-07-25T15:59:52.509Z"
   },
   {
    "duration": 9,
    "start_time": "2021-07-25T16:00:10.671Z"
   },
   {
    "duration": 7,
    "start_time": "2021-07-25T16:00:15.366Z"
   },
   {
    "duration": 359,
    "start_time": "2021-07-25T16:01:41.339Z"
   },
   {
    "duration": 356,
    "start_time": "2021-07-25T16:01:47.668Z"
   },
   {
    "duration": 113,
    "start_time": "2021-07-25T16:01:59.236Z"
   },
   {
    "duration": 6,
    "start_time": "2021-07-25T16:02:08.854Z"
   },
   {
    "duration": 6,
    "start_time": "2021-07-25T16:02:12.622Z"
   },
   {
    "duration": 6,
    "start_time": "2021-07-25T16:07:42.475Z"
   },
   {
    "duration": 9068,
    "start_time": "2021-07-25T16:07:50.701Z"
   },
   {
    "duration": 13883,
    "start_time": "2021-07-25T16:09:20.856Z"
   },
   {
    "duration": 11,
    "start_time": "2021-07-25T16:10:13.831Z"
   },
   {
    "duration": 4392,
    "start_time": "2021-07-25T16:11:54.422Z"
   },
   {
    "duration": 12,
    "start_time": "2021-07-25T16:12:00.381Z"
   },
   {
    "duration": 4222,
    "start_time": "2021-07-25T16:12:52.416Z"
   },
   {
    "duration": 12,
    "start_time": "2021-07-25T16:12:58.625Z"
   },
   {
    "duration": 14,
    "start_time": "2021-07-25T16:13:00.902Z"
   },
   {
    "duration": 12,
    "start_time": "2021-07-25T16:13:01.685Z"
   },
   {
    "duration": 14092,
    "start_time": "2021-07-25T16:13:30.248Z"
   },
   {
    "duration": 17,
    "start_time": "2021-07-25T16:13:45.126Z"
   },
   {
    "duration": 12806,
    "start_time": "2021-07-25T16:13:52.196Z"
   },
   {
    "duration": 4233,
    "start_time": "2021-07-25T16:14:15.519Z"
   },
   {
    "duration": 4472,
    "start_time": "2021-07-25T16:14:41.067Z"
   },
   {
    "duration": 4254,
    "start_time": "2021-07-25T16:14:53.668Z"
   },
   {
    "duration": 7,
    "start_time": "2021-07-25T16:15:42.377Z"
   },
   {
    "duration": 8,
    "start_time": "2021-07-25T16:15:43.106Z"
   },
   {
    "duration": 11,
    "start_time": "2021-07-25T16:15:43.769Z"
   },
   {
    "duration": 9,
    "start_time": "2021-07-25T16:15:44.434Z"
   },
   {
    "duration": 13,
    "start_time": "2021-07-25T16:15:47.138Z"
   },
   {
    "duration": 12818,
    "start_time": "2021-07-25T16:15:50.100Z"
   },
   {
    "duration": 35463,
    "start_time": "2021-07-25T16:20:11.558Z"
   },
   {
    "duration": 19,
    "start_time": "2021-07-25T16:21:13.702Z"
   },
   {
    "duration": 9169,
    "start_time": "2021-07-25T16:21:52.667Z"
   },
   {
    "duration": 374,
    "start_time": "2021-07-25T16:23:56.165Z"
   },
   {
    "duration": 7,
    "start_time": "2021-07-25T16:24:08.702Z"
   },
   {
    "duration": 6,
    "start_time": "2021-07-25T16:24:12.632Z"
   },
   {
    "duration": 7,
    "start_time": "2021-07-25T16:24:28.433Z"
   },
   {
    "duration": 7,
    "start_time": "2021-07-25T16:24:30.954Z"
   },
   {
    "duration": 120,
    "start_time": "2021-07-25T16:25:00.837Z"
   },
   {
    "duration": 7,
    "start_time": "2021-07-25T16:25:02.549Z"
   },
   {
    "duration": 5,
    "start_time": "2021-07-25T16:25:03.477Z"
   },
   {
    "duration": 5,
    "start_time": "2021-07-25T16:25:04.061Z"
   },
   {
    "duration": 6,
    "start_time": "2021-07-25T16:25:05.214Z"
   },
   {
    "duration": 5,
    "start_time": "2021-07-25T16:25:05.958Z"
   },
   {
    "duration": 6,
    "start_time": "2021-07-25T16:25:06.989Z"
   },
   {
    "duration": 8,
    "start_time": "2021-07-25T16:25:07.629Z"
   },
   {
    "duration": 7,
    "start_time": "2021-07-25T16:25:20.895Z"
   },
   {
    "duration": 6,
    "start_time": "2021-07-25T16:25:22.383Z"
   },
   {
    "duration": 456,
    "start_time": "2021-07-25T16:25:39.794Z"
   },
   {
    "duration": 6,
    "start_time": "2021-07-25T16:26:02.917Z"
   },
   {
    "duration": 6,
    "start_time": "2021-07-25T16:26:03.357Z"
   },
   {
    "duration": 6,
    "start_time": "2021-07-25T16:26:25.183Z"
   },
   {
    "duration": 5,
    "start_time": "2021-07-25T16:26:25.872Z"
   },
   {
    "duration": 5,
    "start_time": "2021-07-25T16:26:26.656Z"
   },
   {
    "duration": 8,
    "start_time": "2021-07-25T16:26:30.786Z"
   },
   {
    "duration": 8,
    "start_time": "2021-07-25T16:26:31.328Z"
   },
   {
    "duration": 9,
    "start_time": "2021-07-25T16:26:31.832Z"
   },
   {
    "duration": 7,
    "start_time": "2021-07-25T16:26:59.084Z"
   },
   {
    "duration": 7,
    "start_time": "2021-07-25T16:27:01.909Z"
   },
   {
    "duration": 5,
    "start_time": "2021-07-25T16:27:04.190Z"
   },
   {
    "duration": 6,
    "start_time": "2021-07-25T16:27:22.464Z"
   },
   {
    "duration": 6,
    "start_time": "2021-07-25T16:27:24.320Z"
   },
   {
    "duration": 357,
    "start_time": "2021-07-25T16:27:36.938Z"
   },
   {
    "duration": 6,
    "start_time": "2021-07-25T16:27:44.339Z"
   },
   {
    "duration": 8,
    "start_time": "2021-07-25T16:27:45.443Z"
   },
   {
    "duration": 7,
    "start_time": "2021-07-25T16:27:51.587Z"
   },
   {
    "duration": 7,
    "start_time": "2021-07-25T16:27:57.621Z"
   },
   {
    "duration": 7,
    "start_time": "2021-07-25T16:27:58.844Z"
   },
   {
    "duration": 7,
    "start_time": "2021-07-25T16:28:18.663Z"
   },
   {
    "duration": 8,
    "start_time": "2021-07-25T16:28:19.263Z"
   },
   {
    "duration": 7,
    "start_time": "2021-07-25T16:28:24.184Z"
   },
   {
    "duration": 8,
    "start_time": "2021-07-25T16:28:24.912Z"
   },
   {
    "duration": 8,
    "start_time": "2021-07-25T16:28:26.200Z"
   },
   {
    "duration": 14,
    "start_time": "2021-07-25T16:28:26.840Z"
   },
   {
    "duration": 13,
    "start_time": "2021-07-25T16:28:35.793Z"
   },
   {
    "duration": 8,
    "start_time": "2021-07-25T16:29:32.736Z"
   },
   {
    "duration": 8,
    "start_time": "2021-07-25T16:29:34.209Z"
   },
   {
    "duration": 7,
    "start_time": "2021-07-25T16:29:34.752Z"
   },
   {
    "duration": 8,
    "start_time": "2021-07-25T16:29:35.738Z"
   },
   {
    "duration": 371,
    "start_time": "2021-07-25T16:29:41.362Z"
   },
   {
    "duration": 379,
    "start_time": "2021-07-25T16:30:18.776Z"
   },
   {
    "duration": 12,
    "start_time": "2021-07-25T16:30:23.152Z"
   },
   {
    "duration": 17,
    "start_time": "2021-07-25T16:31:07.719Z"
   },
   {
    "duration": 1410,
    "start_time": "2021-07-25T16:31:34.577Z"
   },
   {
    "duration": 16,
    "start_time": "2021-07-25T16:31:39.475Z"
   },
   {
    "duration": 12,
    "start_time": "2021-07-25T16:32:35.410Z"
   },
   {
    "duration": 4704,
    "start_time": "2021-07-25T16:33:50.502Z"
   },
   {
    "duration": 4395,
    "start_time": "2021-07-25T16:34:02.813Z"
   },
   {
    "duration": 12,
    "start_time": "2021-07-25T16:34:09.446Z"
   },
   {
    "duration": 26852,
    "start_time": "2021-07-25T16:34:58.709Z"
   },
   {
    "duration": 13,
    "start_time": "2021-07-25T16:35:52.788Z"
   },
   {
    "duration": 4524,
    "start_time": "2021-07-25T16:38:39.506Z"
   },
   {
    "duration": 4537,
    "start_time": "2021-07-25T16:39:08.933Z"
   },
   {
    "duration": 27,
    "start_time": "2021-07-25T16:40:21.831Z"
   },
   {
    "duration": 364,
    "start_time": "2021-07-25T16:40:27.512Z"
   },
   {
    "duration": 422,
    "start_time": "2021-07-25T16:40:33.628Z"
   },
   {
    "duration": 10,
    "start_time": "2021-07-25T16:42:52.450Z"
   },
   {
    "duration": 10,
    "start_time": "2021-07-25T16:43:00.043Z"
   },
   {
    "duration": 16,
    "start_time": "2021-07-25T16:43:11.093Z"
   },
   {
    "duration": 11,
    "start_time": "2021-07-25T16:43:16.173Z"
   },
   {
    "duration": 4612,
    "start_time": "2021-07-25T16:46:00.947Z"
   },
   {
    "duration": 5,
    "start_time": "2021-07-25T16:46:20.622Z"
   },
   {
    "duration": 12897,
    "start_time": "2021-07-25T16:46:22.253Z"
   },
   {
    "duration": 13,
    "start_time": "2021-07-25T16:46:37.031Z"
   },
   {
    "duration": 12724,
    "start_time": "2021-07-25T16:48:29.855Z"
   },
   {
    "duration": 12842,
    "start_time": "2021-07-25T16:48:55.858Z"
   },
   {
    "duration": 9,
    "start_time": "2021-07-25T16:49:24.286Z"
   },
   {
    "duration": 17,
    "start_time": "2021-07-25T16:49:26.199Z"
   },
   {
    "duration": 6,
    "start_time": "2021-07-25T16:49:30.047Z"
   },
   {
    "duration": 15,
    "start_time": "2021-07-25T16:50:07.692Z"
   },
   {
    "duration": 11,
    "start_time": "2021-07-25T16:50:19.485Z"
   },
   {
    "duration": 5,
    "start_time": "2021-07-25T16:50:23.414Z"
   },
   {
    "duration": 10,
    "start_time": "2021-07-25T16:50:58.027Z"
   },
   {
    "duration": 12,
    "start_time": "2021-07-25T16:50:59.435Z"
   },
   {
    "duration": 18,
    "start_time": "2021-07-25T16:53:46.640Z"
   },
   {
    "duration": 13,
    "start_time": "2021-07-25T16:53:53.537Z"
   },
   {
    "duration": 11,
    "start_time": "2021-07-25T16:59:13.860Z"
   },
   {
    "duration": 10,
    "start_time": "2021-07-25T16:59:19.981Z"
   },
   {
    "duration": 10,
    "start_time": "2021-07-25T16:59:34.175Z"
   },
   {
    "duration": 9,
    "start_time": "2021-07-25T16:59:40.279Z"
   },
   {
    "duration": 10,
    "start_time": "2021-07-25T16:59:47.057Z"
   },
   {
    "duration": 17,
    "start_time": "2021-07-25T16:59:55.120Z"
   },
   {
    "duration": 10,
    "start_time": "2021-07-25T16:59:56.009Z"
   },
   {
    "duration": 10,
    "start_time": "2021-07-25T17:00:03.323Z"
   },
   {
    "duration": 1544,
    "start_time": "2021-07-25T17:01:33.509Z"
   },
   {
    "duration": 482,
    "start_time": "2021-07-25T17:01:35.055Z"
   },
   {
    "duration": 16,
    "start_time": "2021-07-25T17:01:35.540Z"
   },
   {
    "duration": 13,
    "start_time": "2021-07-25T17:01:35.559Z"
   },
   {
    "duration": 1672,
    "start_time": "2021-07-25T17:01:35.575Z"
   },
   {
    "duration": 586,
    "start_time": "2021-07-25T17:01:37.249Z"
   },
   {
    "duration": 1712,
    "start_time": "2021-07-25T17:01:37.837Z"
   },
   {
    "duration": 576,
    "start_time": "2021-07-25T17:01:39.553Z"
   },
   {
    "duration": 1923,
    "start_time": "2021-07-25T17:01:40.132Z"
   },
   {
    "duration": 584,
    "start_time": "2021-07-25T17:01:42.057Z"
   },
   {
    "duration": 27,
    "start_time": "2021-07-25T17:01:42.643Z"
   },
   {
    "duration": 75,
    "start_time": "2021-07-25T17:01:42.673Z"
   },
   {
    "duration": 6,
    "start_time": "2021-07-25T17:01:42.750Z"
   },
   {
    "duration": 49,
    "start_time": "2021-07-25T17:01:42.759Z"
   },
   {
    "duration": 12,
    "start_time": "2021-07-25T17:01:42.811Z"
   },
   {
    "duration": 86,
    "start_time": "2021-07-25T17:01:42.827Z"
   },
   {
    "duration": 97,
    "start_time": "2021-07-25T17:01:42.920Z"
   },
   {
    "duration": 11,
    "start_time": "2021-07-25T17:01:43.020Z"
   },
   {
    "duration": 17,
    "start_time": "2021-07-25T17:01:43.033Z"
   },
   {
    "duration": 10,
    "start_time": "2021-07-25T17:01:43.053Z"
   },
   {
    "duration": 7,
    "start_time": "2021-07-25T17:01:43.065Z"
   },
   {
    "duration": 12,
    "start_time": "2021-07-25T17:01:43.074Z"
   },
   {
    "duration": 5,
    "start_time": "2021-07-25T17:01:43.103Z"
   },
   {
    "duration": 6,
    "start_time": "2021-07-25T17:01:43.115Z"
   },
   {
    "duration": 14,
    "start_time": "2021-07-25T17:01:43.124Z"
   },
   {
    "duration": 6,
    "start_time": "2021-07-25T17:01:43.140Z"
   },
   {
    "duration": 65,
    "start_time": "2021-07-25T17:01:43.149Z"
   },
   {
    "duration": 6,
    "start_time": "2021-07-25T17:01:43.217Z"
   },
   {
    "duration": 13152,
    "start_time": "2021-07-25T17:01:43.227Z"
   },
   {
    "duration": 19,
    "start_time": "2021-07-25T17:01:56.383Z"
   },
   {
    "duration": 18,
    "start_time": "2021-07-25T17:01:56.405Z"
   },
   {
    "duration": 14,
    "start_time": "2021-07-25T17:01:56.426Z"
   },
   {
    "duration": 17,
    "start_time": "2021-07-25T17:01:56.444Z"
   },
   {
    "duration": 55,
    "start_time": "2021-07-25T17:01:56.464Z"
   },
   {
    "duration": 724,
    "start_time": "2021-07-25T17:01:56.523Z"
   },
   {
    "duration": 56,
    "start_time": "2021-07-25T17:04:20.809Z"
   },
   {
    "duration": 1525,
    "start_time": "2021-07-25T17:04:31.697Z"
   },
   {
    "duration": 466,
    "start_time": "2021-07-25T17:04:33.225Z"
   },
   {
    "duration": 19,
    "start_time": "2021-07-25T17:04:33.694Z"
   },
   {
    "duration": 15,
    "start_time": "2021-07-25T17:04:33.716Z"
   },
   {
    "duration": 1696,
    "start_time": "2021-07-25T17:04:33.733Z"
   },
   {
    "duration": 558,
    "start_time": "2021-07-25T17:04:35.431Z"
   },
   {
    "duration": 1748,
    "start_time": "2021-07-25T17:04:35.991Z"
   },
   {
    "duration": 578,
    "start_time": "2021-07-25T17:04:37.743Z"
   },
   {
    "duration": 1705,
    "start_time": "2021-07-25T17:04:38.325Z"
   },
   {
    "duration": 609,
    "start_time": "2021-07-25T17:04:40.033Z"
   },
   {
    "duration": 26,
    "start_time": "2021-07-25T17:04:40.644Z"
   },
   {
    "duration": 69,
    "start_time": "2021-07-25T17:04:40.672Z"
   },
   {
    "duration": 58,
    "start_time": "2021-07-25T17:04:40.743Z"
   },
   {
    "duration": 13,
    "start_time": "2021-07-25T17:04:40.804Z"
   },
   {
    "duration": 25,
    "start_time": "2021-07-25T17:04:40.819Z"
   },
   {
    "duration": 66,
    "start_time": "2021-07-25T17:04:40.846Z"
   },
   {
    "duration": 85,
    "start_time": "2021-07-25T17:04:40.915Z"
   },
   {
    "duration": 18,
    "start_time": "2021-07-25T17:04:41.004Z"
   },
   {
    "duration": 7,
    "start_time": "2021-07-25T17:04:41.104Z"
   },
   {
    "duration": 13,
    "start_time": "2021-07-25T17:04:41.114Z"
   },
   {
    "duration": 13,
    "start_time": "2021-07-25T17:04:41.129Z"
   },
   {
    "duration": 7,
    "start_time": "2021-07-25T17:04:41.144Z"
   },
   {
    "duration": 6,
    "start_time": "2021-07-25T17:04:41.155Z"
   },
   {
    "duration": 49,
    "start_time": "2021-07-25T17:04:41.164Z"
   },
   {
    "duration": 8,
    "start_time": "2021-07-25T17:04:41.216Z"
   },
   {
    "duration": 15,
    "start_time": "2021-07-25T17:04:41.227Z"
   },
   {
    "duration": 6,
    "start_time": "2021-07-25T17:04:41.245Z"
   },
   {
    "duration": 17,
    "start_time": "2021-07-25T17:04:41.254Z"
   },
   {
    "duration": 6,
    "start_time": "2021-07-25T17:04:41.302Z"
   },
   {
    "duration": 13418,
    "start_time": "2021-07-25T17:04:41.311Z"
   },
   {
    "duration": 10,
    "start_time": "2021-07-25T17:04:54.732Z"
   },
   {
    "duration": 16,
    "start_time": "2021-07-25T17:04:54.744Z"
   },
   {
    "duration": 12,
    "start_time": "2021-07-25T17:04:54.762Z"
   },
   {
    "duration": 45,
    "start_time": "2021-07-25T17:04:54.777Z"
   },
   {
    "duration": 764,
    "start_time": "2021-07-25T17:04:54.825Z"
   },
   {
    "duration": 1463,
    "start_time": "2021-07-25T17:05:58.469Z"
   },
   {
    "duration": 494,
    "start_time": "2021-07-25T17:05:59.935Z"
   },
   {
    "duration": 17,
    "start_time": "2021-07-25T17:06:00.432Z"
   },
   {
    "duration": 20,
    "start_time": "2021-07-25T17:06:00.453Z"
   },
   {
    "duration": 1683,
    "start_time": "2021-07-25T17:06:00.476Z"
   },
   {
    "duration": 581,
    "start_time": "2021-07-25T17:06:02.162Z"
   },
   {
    "duration": 1658,
    "start_time": "2021-07-25T17:06:02.746Z"
   },
   {
    "duration": 527,
    "start_time": "2021-07-25T17:06:04.408Z"
   },
   {
    "duration": 1649,
    "start_time": "2021-07-25T17:06:04.939Z"
   },
   {
    "duration": 537,
    "start_time": "2021-07-25T17:06:06.591Z"
   },
   {
    "duration": 25,
    "start_time": "2021-07-25T17:06:07.131Z"
   },
   {
    "duration": 76,
    "start_time": "2021-07-25T17:06:07.158Z"
   },
   {
    "duration": 47,
    "start_time": "2021-07-25T17:06:07.236Z"
   },
   {
    "duration": 17,
    "start_time": "2021-07-25T17:06:07.286Z"
   },
   {
    "duration": 27,
    "start_time": "2021-07-25T17:06:07.308Z"
   },
   {
    "duration": 79,
    "start_time": "2021-07-25T17:06:07.338Z"
   },
   {
    "duration": 100,
    "start_time": "2021-07-25T17:06:07.419Z"
   },
   {
    "duration": 92,
    "start_time": "2021-07-25T17:06:07.525Z"
   },
   {
    "duration": 7,
    "start_time": "2021-07-25T17:06:07.620Z"
   },
   {
    "duration": 11,
    "start_time": "2021-07-25T17:06:07.629Z"
   },
   {
    "duration": 10,
    "start_time": "2021-07-25T17:06:07.643Z"
   },
   {
    "duration": 4,
    "start_time": "2021-07-25T17:06:07.656Z"
   },
   {
    "duration": 4,
    "start_time": "2021-07-25T17:06:07.710Z"
   },
   {
    "duration": 8,
    "start_time": "2021-07-25T17:06:07.716Z"
   },
   {
    "duration": 8,
    "start_time": "2021-07-25T17:06:07.726Z"
   },
   {
    "duration": 14,
    "start_time": "2021-07-25T17:06:07.736Z"
   },
   {
    "duration": 5,
    "start_time": "2021-07-25T17:06:07.752Z"
   },
   {
    "duration": 43,
    "start_time": "2021-07-25T17:06:07.761Z"
   },
   {
    "duration": 7,
    "start_time": "2021-07-25T17:06:07.806Z"
   },
   {
    "duration": 13044,
    "start_time": "2021-07-25T17:06:07.816Z"
   },
   {
    "duration": 10,
    "start_time": "2021-07-25T17:06:20.862Z"
   },
   {
    "duration": 28,
    "start_time": "2021-07-25T17:06:20.875Z"
   },
   {
    "duration": 18,
    "start_time": "2021-07-25T17:06:20.906Z"
   },
   {
    "duration": 18,
    "start_time": "2021-07-25T17:06:20.927Z"
   },
   {
    "duration": 690,
    "start_time": "2021-07-25T17:06:20.947Z"
   },
   {
    "duration": 1511,
    "start_time": "2021-07-25T17:08:31.037Z"
   },
   {
    "duration": 476,
    "start_time": "2021-07-25T17:08:32.551Z"
   },
   {
    "duration": 14,
    "start_time": "2021-07-25T17:08:33.033Z"
   },
   {
    "duration": 17,
    "start_time": "2021-07-25T17:08:33.050Z"
   },
   {
    "duration": 1654,
    "start_time": "2021-07-25T17:08:33.070Z"
   },
   {
    "duration": 580,
    "start_time": "2021-07-25T17:08:34.727Z"
   },
   {
    "duration": 1665,
    "start_time": "2021-07-25T17:08:35.312Z"
   },
   {
    "duration": 549,
    "start_time": "2021-07-25T17:08:36.980Z"
   },
   {
    "duration": 1665,
    "start_time": "2021-07-25T17:08:37.532Z"
   },
   {
    "duration": 557,
    "start_time": "2021-07-25T17:08:39.202Z"
   },
   {
    "duration": 38,
    "start_time": "2021-07-25T17:08:39.762Z"
   },
   {
    "duration": 52,
    "start_time": "2021-07-25T17:08:39.803Z"
   },
   {
    "duration": 62,
    "start_time": "2021-07-25T17:08:39.857Z"
   },
   {
    "duration": 5,
    "start_time": "2021-07-25T17:08:39.921Z"
   },
   {
    "duration": 25,
    "start_time": "2021-07-25T17:08:39.929Z"
   },
   {
    "duration": 147,
    "start_time": "2021-07-25T17:08:39.957Z"
   },
   {
    "duration": 7,
    "start_time": "2021-07-25T17:08:40.107Z"
   },
   {
    "duration": 92,
    "start_time": "2021-07-25T17:08:40.118Z"
   },
   {
    "duration": 9,
    "start_time": "2021-07-25T17:08:40.213Z"
   },
   {
    "duration": 11,
    "start_time": "2021-07-25T17:08:40.224Z"
   },
   {
    "duration": 70,
    "start_time": "2021-07-25T17:08:40.237Z"
   },
   {
    "duration": 4,
    "start_time": "2021-07-25T17:08:40.313Z"
   },
   {
    "duration": 5,
    "start_time": "2021-07-25T17:08:40.320Z"
   },
   {
    "duration": 7,
    "start_time": "2021-07-25T17:08:40.327Z"
   },
   {
    "duration": 8,
    "start_time": "2021-07-25T17:08:40.336Z"
   },
   {
    "duration": 17,
    "start_time": "2021-07-25T17:08:40.346Z"
   },
   {
    "duration": 42,
    "start_time": "2021-07-25T17:08:40.365Z"
   },
   {
    "duration": 14,
    "start_time": "2021-07-25T17:08:40.410Z"
   },
   {
    "duration": 5,
    "start_time": "2021-07-25T17:08:40.427Z"
   },
   {
    "duration": 13010,
    "start_time": "2021-07-25T17:08:40.434Z"
   },
   {
    "duration": 9,
    "start_time": "2021-07-25T17:08:53.446Z"
   },
   {
    "duration": 13,
    "start_time": "2021-07-25T17:08:53.457Z"
   },
   {
    "duration": 45,
    "start_time": "2021-07-25T17:08:53.472Z"
   },
   {
    "duration": 18,
    "start_time": "2021-07-25T17:08:53.520Z"
   },
   {
    "duration": 646,
    "start_time": "2021-07-25T17:08:53.541Z"
   },
   {
    "duration": 11,
    "start_time": "2021-07-25T17:11:55.665Z"
   },
   {
    "duration": 1647,
    "start_time": "2021-07-25T17:12:19.531Z"
   },
   {
    "duration": 1525,
    "start_time": "2021-07-25T17:12:25.725Z"
   },
   {
    "duration": 1604,
    "start_time": "2021-07-25T17:12:30.276Z"
   },
   {
    "duration": 1333,
    "start_time": "2021-07-25T17:13:04.850Z"
   },
   {
    "duration": 1576,
    "start_time": "2021-07-25T17:13:07.595Z"
   },
   {
    "duration": 1402,
    "start_time": "2021-07-25T17:13:12.475Z"
   },
   {
    "duration": 49,
    "start_time": "2021-07-25T17:13:24.124Z"
   },
   {
    "duration": 1256,
    "start_time": "2021-07-25T17:13:24.947Z"
   },
   {
    "duration": 1436,
    "start_time": "2021-07-25T17:13:27.308Z"
   },
   {
    "duration": 1623,
    "start_time": "2021-07-25T17:13:29.988Z"
   },
   {
    "duration": 140,
    "start_time": "2021-07-25T17:13:44.567Z"
   },
   {
    "duration": 17,
    "start_time": "2021-07-25T17:13:45.696Z"
   },
   {
    "duration": 5,
    "start_time": "2021-07-25T17:13:46.679Z"
   },
   {
    "duration": 7,
    "start_time": "2021-07-25T17:13:47.767Z"
   },
   {
    "duration": 7,
    "start_time": "2021-07-25T17:13:48.671Z"
   },
   {
    "duration": 10,
    "start_time": "2021-07-25T17:13:49.343Z"
   },
   {
    "duration": 10,
    "start_time": "2021-07-25T17:13:50.791Z"
   },
   {
    "duration": 11,
    "start_time": "2021-07-25T17:13:51.576Z"
   },
   {
    "duration": 9,
    "start_time": "2021-07-25T17:13:52.664Z"
   },
   {
    "duration": 7,
    "start_time": "2021-07-25T17:15:02.193Z"
   },
   {
    "duration": 125,
    "start_time": "2021-07-25T17:19:37.828Z"
   },
   {
    "duration": 76,
    "start_time": "2021-07-25T17:19:40.302Z"
   },
   {
    "duration": 181,
    "start_time": "2021-07-25T17:19:53.583Z"
   },
   {
    "duration": 178,
    "start_time": "2021-07-25T17:19:55.643Z"
   },
   {
    "duration": 1604,
    "start_time": "2021-07-25T17:23:36.842Z"
   },
   {
    "duration": 517,
    "start_time": "2021-07-25T17:23:38.449Z"
   },
   {
    "duration": 16,
    "start_time": "2021-07-25T17:23:38.969Z"
   },
   {
    "duration": 22,
    "start_time": "2021-07-25T17:23:39.000Z"
   },
   {
    "duration": 1707,
    "start_time": "2021-07-25T17:23:39.025Z"
   },
   {
    "duration": 1747,
    "start_time": "2021-07-25T17:23:40.734Z"
   },
   {
    "duration": 1721,
    "start_time": "2021-07-25T17:23:42.484Z"
   },
   {
    "duration": 600,
    "start_time": "2021-07-25T17:23:44.216Z"
   },
   {
    "duration": 541,
    "start_time": "2021-07-25T17:23:44.819Z"
   },
   {
    "duration": 566,
    "start_time": "2021-07-25T17:23:45.363Z"
   },
   {
    "duration": 213,
    "start_time": "2021-07-25T17:23:45.932Z"
   },
   {
    "duration": 25,
    "start_time": "2021-07-25T17:23:46.148Z"
   },
   {
    "duration": 80,
    "start_time": "2021-07-25T17:23:46.176Z"
   },
   {
    "duration": 11,
    "start_time": "2021-07-25T17:23:46.259Z"
   },
   {
    "duration": 60,
    "start_time": "2021-07-25T17:23:46.273Z"
   },
   {
    "duration": 78,
    "start_time": "2021-07-25T17:23:46.337Z"
   },
   {
    "duration": 12,
    "start_time": "2021-07-25T17:23:46.418Z"
   },
   {
    "duration": 68,
    "start_time": "2021-07-25T17:23:46.444Z"
   },
   {
    "duration": 12,
    "start_time": "2021-07-25T17:23:46.514Z"
   },
   {
    "duration": 15,
    "start_time": "2021-07-25T17:23:46.529Z"
   },
   {
    "duration": 9,
    "start_time": "2021-07-25T17:23:46.547Z"
   },
   {
    "duration": 8,
    "start_time": "2021-07-25T17:23:46.558Z"
   },
   {
    "duration": 43,
    "start_time": "2021-07-25T17:23:46.571Z"
   },
   {
    "duration": 4,
    "start_time": "2021-07-25T17:23:46.626Z"
   },
   {
    "duration": 34,
    "start_time": "2021-07-25T17:23:46.633Z"
   },
   {
    "duration": 20,
    "start_time": "2021-07-25T17:23:46.671Z"
   },
   {
    "duration": 10,
    "start_time": "2021-07-25T17:23:46.694Z"
   },
   {
    "duration": 48,
    "start_time": "2021-07-25T17:23:46.707Z"
   },
   {
    "duration": 1513,
    "start_time": "2021-07-25T17:23:57.874Z"
   },
   {
    "duration": 496,
    "start_time": "2021-07-25T17:23:59.389Z"
   },
   {
    "duration": 23,
    "start_time": "2021-07-25T17:23:59.889Z"
   },
   {
    "duration": 23,
    "start_time": "2021-07-25T17:23:59.915Z"
   },
   {
    "duration": 1741,
    "start_time": "2021-07-25T17:23:59.941Z"
   },
   {
    "duration": 1809,
    "start_time": "2021-07-25T17:24:01.685Z"
   },
   {
    "duration": 1832,
    "start_time": "2021-07-25T17:24:03.497Z"
   },
   {
    "duration": 606,
    "start_time": "2021-07-25T17:24:05.333Z"
   },
   {
    "duration": 597,
    "start_time": "2021-07-25T17:24:05.942Z"
   },
   {
    "duration": 621,
    "start_time": "2021-07-25T17:24:06.542Z"
   },
   {
    "duration": 211,
    "start_time": "2021-07-25T17:24:07.166Z"
   },
   {
    "duration": 39,
    "start_time": "2021-07-25T17:24:07.380Z"
   },
   {
    "duration": 52,
    "start_time": "2021-07-25T17:24:07.424Z"
   },
   {
    "duration": 5,
    "start_time": "2021-07-25T17:24:07.478Z"
   },
   {
    "duration": 32,
    "start_time": "2021-07-25T17:24:07.504Z"
   },
   {
    "duration": 12,
    "start_time": "2021-07-25T17:24:07.538Z"
   },
   {
    "duration": 18,
    "start_time": "2021-07-25T17:24:07.604Z"
   },
   {
    "duration": 97,
    "start_time": "2021-07-25T17:24:07.627Z"
   },
   {
    "duration": 9,
    "start_time": "2021-07-25T17:24:07.727Z"
   },
   {
    "duration": 12,
    "start_time": "2021-07-25T17:24:07.738Z"
   },
   {
    "duration": 9,
    "start_time": "2021-07-25T17:24:07.752Z"
   },
   {
    "duration": 9835,
    "start_time": "2021-07-25T17:30:09.805Z"
   },
   {
    "duration": 389,
    "start_time": "2021-07-25T17:30:19.254Z"
   },
   {
    "duration": 8,
    "start_time": "2021-07-25T17:32:26.328Z"
   },
   {
    "duration": 9,
    "start_time": "2021-07-25T17:32:28.519Z"
   },
   {
    "duration": 17,
    "start_time": "2021-07-25T17:32:29.111Z"
   },
   {
    "duration": 6,
    "start_time": "2021-07-25T17:32:29.832Z"
   },
   {
    "duration": 11,
    "start_time": "2021-07-25T17:32:30.783Z"
   },
   {
    "duration": 8,
    "start_time": "2021-07-25T17:33:32.448Z"
   },
   {
    "duration": 15,
    "start_time": "2021-07-25T17:33:33.256Z"
   },
   {
    "duration": 8,
    "start_time": "2021-07-25T17:33:40.144Z"
   },
   {
    "duration": 14,
    "start_time": "2021-07-25T17:33:40.673Z"
   },
   {
    "duration": 9,
    "start_time": "2021-07-25T17:34:00.227Z"
   },
   {
    "duration": 13,
    "start_time": "2021-07-25T17:34:01.276Z"
   },
   {
    "duration": 16,
    "start_time": "2021-07-25T17:34:03.388Z"
   },
   {
    "duration": 135,
    "start_time": "2021-07-25T17:34:10.020Z"
   },
   {
    "duration": 6,
    "start_time": "2021-07-25T17:34:12.982Z"
   },
   {
    "duration": 14,
    "start_time": "2021-07-25T17:34:13.733Z"
   },
   {
    "duration": 404,
    "start_time": "2021-07-25T17:35:08.789Z"
   },
   {
    "duration": 401,
    "start_time": "2021-07-25T17:35:08.794Z"
   },
   {
    "duration": 705,
    "start_time": "2021-07-25T17:35:19.503Z"
   },
   {
    "duration": 423,
    "start_time": "2021-07-25T17:35:29.905Z"
   },
   {
    "duration": 18,
    "start_time": "2021-07-25T17:35:45.889Z"
   },
   {
    "duration": 404,
    "start_time": "2021-07-25T17:35:55.398Z"
   },
   {
    "duration": 399,
    "start_time": "2021-07-25T17:35:55.405Z"
   },
   {
    "duration": 392,
    "start_time": "2021-07-25T17:35:55.413Z"
   },
   {
    "duration": 388,
    "start_time": "2021-07-25T17:35:55.418Z"
   },
   {
    "duration": 13,
    "start_time": "2021-07-25T17:35:56.291Z"
   },
   {
    "duration": 2236,
    "start_time": "2021-07-25T17:36:16.553Z"
   },
   {
    "duration": 697,
    "start_time": "2021-07-25T17:36:18.793Z"
   },
   {
    "duration": 26,
    "start_time": "2021-07-25T17:36:19.494Z"
   },
   {
    "duration": 16,
    "start_time": "2021-07-25T17:36:19.523Z"
   },
   {
    "duration": 1638,
    "start_time": "2021-07-25T17:36:19.542Z"
   },
   {
    "duration": 1773,
    "start_time": "2021-07-25T17:36:21.183Z"
   },
   {
    "duration": 1626,
    "start_time": "2021-07-25T17:36:22.959Z"
   },
   {
    "duration": 541,
    "start_time": "2021-07-25T17:36:24.589Z"
   },
   {
    "duration": 561,
    "start_time": "2021-07-25T17:36:25.133Z"
   },
   {
    "duration": 528,
    "start_time": "2021-07-25T17:36:25.701Z"
   },
   {
    "duration": 209,
    "start_time": "2021-07-25T17:36:26.232Z"
   },
   {
    "duration": 27,
    "start_time": "2021-07-25T17:36:26.443Z"
   },
   {
    "duration": 66,
    "start_time": "2021-07-25T17:36:26.473Z"
   },
   {
    "duration": 6,
    "start_time": "2021-07-25T17:36:26.542Z"
   },
   {
    "duration": 50,
    "start_time": "2021-07-25T17:36:26.550Z"
   },
   {
    "duration": 97,
    "start_time": "2021-07-25T17:36:26.603Z"
   },
   {
    "duration": 6,
    "start_time": "2021-07-25T17:36:26.704Z"
   },
   {
    "duration": 96,
    "start_time": "2021-07-25T17:36:26.713Z"
   },
   {
    "duration": 7,
    "start_time": "2021-07-25T17:36:26.812Z"
   },
   {
    "duration": 11,
    "start_time": "2021-07-25T17:36:26.821Z"
   },
   {
    "duration": 6,
    "start_time": "2021-07-25T17:36:26.834Z"
   },
   {
    "duration": 15,
    "start_time": "2021-07-25T17:36:26.843Z"
   },
   {
    "duration": 9,
    "start_time": "2021-07-25T17:37:17.898Z"
   },
   {
    "duration": 11,
    "start_time": "2021-07-25T17:37:21.162Z"
   },
   {
    "duration": 6,
    "start_time": "2021-07-25T17:37:35.053Z"
   },
   {
    "duration": 8,
    "start_time": "2021-07-25T17:37:49.669Z"
   },
   {
    "duration": 18,
    "start_time": "2021-07-25T17:37:50.409Z"
   },
   {
    "duration": 4,
    "start_time": "2021-07-25T17:39:17.350Z"
   },
   {
    "duration": 4,
    "start_time": "2021-07-25T17:39:18.489Z"
   },
   {
    "duration": 4,
    "start_time": "2021-07-25T17:39:19.337Z"
   },
   {
    "duration": 5,
    "start_time": "2021-07-25T17:39:20.651Z"
   },
   {
    "duration": 14,
    "start_time": "2021-07-25T17:39:21.673Z"
   },
   {
    "duration": 12,
    "start_time": "2021-07-25T17:40:19.329Z"
   },
   {
    "duration": 5,
    "start_time": "2021-07-25T17:40:25.234Z"
   },
   {
    "duration": 13,
    "start_time": "2021-07-25T17:40:26.826Z"
   },
   {
    "duration": 6,
    "start_time": "2021-07-25T17:45:22.274Z"
   },
   {
    "duration": 13622,
    "start_time": "2021-07-25T17:45:24.555Z"
   },
   {
    "duration": 10,
    "start_time": "2021-07-25T17:45:55.462Z"
   },
   {
    "duration": 12,
    "start_time": "2021-07-25T17:46:01.063Z"
   },
   {
    "duration": 12,
    "start_time": "2021-07-25T17:47:19.969Z"
   },
   {
    "duration": 13,
    "start_time": "2021-07-25T17:47:39.244Z"
   },
   {
    "duration": 12,
    "start_time": "2021-07-25T17:48:07.688Z"
   },
   {
    "duration": 18,
    "start_time": "2021-07-25T17:48:45.773Z"
   },
   {
    "duration": 715,
    "start_time": "2021-07-25T17:49:27.778Z"
   },
   {
    "duration": 11,
    "start_time": "2021-07-25T17:49:38.021Z"
   },
   {
    "duration": 1585,
    "start_time": "2021-07-25T17:49:47.844Z"
   },
   {
    "duration": 509,
    "start_time": "2021-07-25T17:49:49.433Z"
   },
   {
    "duration": 16,
    "start_time": "2021-07-25T17:49:49.948Z"
   },
   {
    "duration": 43,
    "start_time": "2021-07-25T17:49:49.967Z"
   },
   {
    "duration": 1765,
    "start_time": "2021-07-25T17:49:50.014Z"
   },
   {
    "duration": 2097,
    "start_time": "2021-07-25T17:49:51.782Z"
   },
   {
    "duration": 1737,
    "start_time": "2021-07-25T17:49:53.883Z"
   },
   {
    "duration": 578,
    "start_time": "2021-07-25T17:49:55.625Z"
   },
   {
    "duration": 566,
    "start_time": "2021-07-25T17:49:56.206Z"
   },
   {
    "duration": 608,
    "start_time": "2021-07-25T17:49:56.775Z"
   },
   {
    "duration": 241,
    "start_time": "2021-07-25T17:49:57.386Z"
   },
   {
    "duration": 27,
    "start_time": "2021-07-25T17:49:57.630Z"
   },
   {
    "duration": 83,
    "start_time": "2021-07-25T17:49:57.659Z"
   },
   {
    "duration": 5,
    "start_time": "2021-07-25T17:49:57.744Z"
   },
   {
    "duration": 27,
    "start_time": "2021-07-25T17:49:57.752Z"
   },
   {
    "duration": 120,
    "start_time": "2021-07-25T17:49:57.782Z"
   },
   {
    "duration": 6,
    "start_time": "2021-07-25T17:49:57.909Z"
   },
   {
    "duration": 101,
    "start_time": "2021-07-25T17:49:57.918Z"
   },
   {
    "duration": 11,
    "start_time": "2021-07-25T17:49:58.022Z"
   },
   {
    "duration": 12,
    "start_time": "2021-07-25T17:49:58.036Z"
   },
   {
    "duration": 7,
    "start_time": "2021-07-25T17:49:58.051Z"
   },
   {
    "duration": 46,
    "start_time": "2021-07-25T17:49:58.062Z"
   },
   {
    "duration": 18,
    "start_time": "2021-07-25T17:49:58.115Z"
   },
   {
    "duration": 11,
    "start_time": "2021-07-25T17:49:58.136Z"
   },
   {
    "duration": 6,
    "start_time": "2021-07-25T17:49:58.149Z"
   },
   {
    "duration": 6,
    "start_time": "2021-07-25T17:49:58.158Z"
   },
   {
    "duration": 15,
    "start_time": "2021-07-25T17:49:58.166Z"
   },
   {
    "duration": 23,
    "start_time": "2021-07-25T17:49:58.184Z"
   },
   {
    "duration": 31,
    "start_time": "2021-07-25T17:49:58.210Z"
   },
   {
    "duration": 5,
    "start_time": "2021-07-25T17:49:58.244Z"
   },
   {
    "duration": 14057,
    "start_time": "2021-07-25T17:49:58.252Z"
   },
   {
    "duration": 17,
    "start_time": "2021-07-25T17:50:12.312Z"
   },
   {
    "duration": 22,
    "start_time": "2021-07-25T17:50:12.332Z"
   },
   {
    "duration": 43,
    "start_time": "2021-07-25T17:50:12.357Z"
   },
   {
    "duration": 23,
    "start_time": "2021-07-25T17:50:12.403Z"
   },
   {
    "duration": 995,
    "start_time": "2021-07-25T17:50:12.429Z"
   },
   {
    "duration": 10,
    "start_time": "2021-07-25T17:51:03.237Z"
   },
   {
    "duration": 11,
    "start_time": "2021-07-25T17:51:43.634Z"
   },
   {
    "duration": 1890,
    "start_time": "2021-07-25T18:02:59.689Z"
   },
   {
    "duration": 572,
    "start_time": "2021-07-25T18:03:01.582Z"
   },
   {
    "duration": 15,
    "start_time": "2021-07-25T18:03:02.160Z"
   },
   {
    "duration": 54,
    "start_time": "2021-07-25T18:03:02.178Z"
   },
   {
    "duration": 2023,
    "start_time": "2021-07-25T18:03:02.237Z"
   },
   {
    "duration": 1870,
    "start_time": "2021-07-25T18:03:04.262Z"
   },
   {
    "duration": 1802,
    "start_time": "2021-07-25T18:03:06.138Z"
   },
   {
    "duration": 620,
    "start_time": "2021-07-25T18:03:07.944Z"
   },
   {
    "duration": 570,
    "start_time": "2021-07-25T18:03:08.566Z"
   },
   {
    "duration": 607,
    "start_time": "2021-07-25T18:03:09.139Z"
   },
   {
    "duration": 228,
    "start_time": "2021-07-25T18:03:09.749Z"
   },
   {
    "duration": 50,
    "start_time": "2021-07-25T18:03:09.979Z"
   },
   {
    "duration": 53,
    "start_time": "2021-07-25T18:03:10.033Z"
   },
   {
    "duration": 8,
    "start_time": "2021-07-25T18:03:10.102Z"
   },
   {
    "duration": 41,
    "start_time": "2021-07-25T18:03:10.113Z"
   },
   {
    "duration": 63,
    "start_time": "2021-07-25T18:03:10.156Z"
   },
   {
    "duration": 84,
    "start_time": "2021-07-25T18:03:10.223Z"
   },
   {
    "duration": 102,
    "start_time": "2021-07-25T18:03:10.311Z"
   },
   {
    "duration": 18,
    "start_time": "2021-07-25T18:03:10.416Z"
   },
   {
    "duration": 21,
    "start_time": "2021-07-25T18:03:10.437Z"
   },
   {
    "duration": 8,
    "start_time": "2021-07-25T18:03:10.460Z"
   },
   {
    "duration": 19,
    "start_time": "2021-07-25T18:03:10.473Z"
   },
   {
    "duration": 16,
    "start_time": "2021-07-25T18:03:10.495Z"
   },
   {
    "duration": 22,
    "start_time": "2021-07-25T18:03:10.520Z"
   },
   {
    "duration": 17,
    "start_time": "2021-07-25T18:03:10.544Z"
   },
   {
    "duration": 11,
    "start_time": "2021-07-25T18:03:10.564Z"
   },
   {
    "duration": 34,
    "start_time": "2021-07-25T18:03:10.578Z"
   },
   {
    "duration": 16,
    "start_time": "2021-07-25T18:03:10.616Z"
   },
   {
    "duration": 26,
    "start_time": "2021-07-25T18:03:10.635Z"
   },
   {
    "duration": 16,
    "start_time": "2021-07-25T18:03:10.664Z"
   },
   {
    "duration": 14325,
    "start_time": "2021-07-25T18:03:10.682Z"
   },
   {
    "duration": 17,
    "start_time": "2021-07-25T18:03:25.010Z"
   },
   {
    "duration": 14,
    "start_time": "2021-07-25T18:03:25.031Z"
   },
   {
    "duration": 14,
    "start_time": "2021-07-25T18:03:25.047Z"
   },
   {
    "duration": 58,
    "start_time": "2021-07-25T18:03:25.064Z"
   },
   {
    "duration": 726,
    "start_time": "2021-07-25T18:03:25.124Z"
   },
   {
    "duration": 1128,
    "start_time": "2021-07-26T05:15:45.837Z"
   },
   {
    "duration": 799,
    "start_time": "2021-07-26T05:15:46.967Z"
   },
   {
    "duration": 12,
    "start_time": "2021-07-26T05:15:47.768Z"
   },
   {
    "duration": 11,
    "start_time": "2021-07-26T05:15:47.782Z"
   },
   {
    "duration": 885,
    "start_time": "2021-07-26T05:15:47.794Z"
   },
   {
    "duration": 950,
    "start_time": "2021-07-26T05:15:48.681Z"
   },
   {
    "duration": 892,
    "start_time": "2021-07-26T05:15:49.640Z"
   },
   {
    "duration": 390,
    "start_time": "2021-07-26T05:15:50.534Z"
   },
   {
    "duration": 390,
    "start_time": "2021-07-26T05:15:50.927Z"
   },
   {
    "duration": 391,
    "start_time": "2021-07-26T05:15:51.320Z"
   },
   {
    "duration": 117,
    "start_time": "2021-07-26T05:15:51.713Z"
   },
   {
    "duration": 20,
    "start_time": "2021-07-26T05:15:51.832Z"
   },
   {
    "duration": 37,
    "start_time": "2021-07-26T05:15:51.854Z"
   },
   {
    "duration": 4,
    "start_time": "2021-07-26T05:15:51.893Z"
   },
   {
    "duration": 51,
    "start_time": "2021-07-26T05:15:51.899Z"
   },
   {
    "duration": 93,
    "start_time": "2021-07-26T05:15:51.952Z"
   },
   {
    "duration": 94,
    "start_time": "2021-07-26T05:15:52.048Z"
   },
   {
    "duration": 96,
    "start_time": "2021-07-26T05:15:52.145Z"
   },
   {
    "duration": 8,
    "start_time": "2021-07-26T05:15:52.243Z"
   },
   {
    "duration": 8,
    "start_time": "2021-07-26T05:15:52.253Z"
   },
   {
    "duration": 5,
    "start_time": "2021-07-26T05:15:52.263Z"
   },
   {
    "duration": 7,
    "start_time": "2021-07-26T05:15:52.270Z"
   },
   {
    "duration": 4,
    "start_time": "2021-07-26T05:15:52.278Z"
   },
   {
    "duration": 5,
    "start_time": "2021-07-26T05:15:52.284Z"
   },
   {
    "duration": 11,
    "start_time": "2021-07-26T05:15:52.290Z"
   },
   {
    "duration": 6,
    "start_time": "2021-07-26T05:15:52.302Z"
   },
   {
    "duration": 37,
    "start_time": "2021-07-26T05:15:52.311Z"
   },
   {
    "duration": 4,
    "start_time": "2021-07-26T05:15:52.350Z"
   },
   {
    "duration": 11,
    "start_time": "2021-07-26T05:15:52.355Z"
   },
   {
    "duration": 3,
    "start_time": "2021-07-26T05:15:52.368Z"
   },
   {
    "duration": 7220,
    "start_time": "2021-07-26T05:15:52.373Z"
   },
   {
    "duration": 6,
    "start_time": "2021-07-26T05:15:59.595Z"
   },
   {
    "duration": 7,
    "start_time": "2021-07-26T05:16:24.966Z"
   },
   {
    "duration": 4,
    "start_time": "2021-07-26T05:16:31.854Z"
   },
   {
    "duration": 5,
    "start_time": "2021-07-26T05:21:46.150Z"
   },
   {
    "duration": 5,
    "start_time": "2021-07-26T05:21:53.727Z"
   },
   {
    "duration": 6,
    "start_time": "2021-07-26T05:22:12.117Z"
   },
   {
    "duration": 5,
    "start_time": "2021-07-26T05:22:13.102Z"
   },
   {
    "duration": 12,
    "start_time": "2021-07-26T05:28:33.867Z"
   },
   {
    "duration": 12,
    "start_time": "2021-07-26T05:28:35.662Z"
   },
   {
    "duration": 541,
    "start_time": "2021-07-26T05:28:36.993Z"
   },
   {
    "duration": 6,
    "start_time": "2021-07-26T05:33:17.509Z"
   },
   {
    "duration": 287,
    "start_time": "2021-07-26T05:33:33.214Z"
   },
   {
    "duration": 500,
    "start_time": "2021-07-26T05:33:40.108Z"
   },
   {
    "duration": 564,
    "start_time": "2021-07-26T05:37:48.361Z"
   },
   {
    "duration": 576,
    "start_time": "2021-07-26T05:38:12.947Z"
   },
   {
    "duration": 5,
    "start_time": "2021-07-26T05:38:29.175Z"
   },
   {
    "duration": 5,
    "start_time": "2021-07-26T05:38:32.104Z"
   },
   {
    "duration": 5,
    "start_time": "2021-07-26T05:38:36.202Z"
   },
   {
    "duration": 5,
    "start_time": "2021-07-26T05:38:40.484Z"
   },
   {
    "duration": 11,
    "start_time": "2021-07-26T05:38:45.556Z"
   },
   {
    "duration": 10,
    "start_time": "2021-07-26T05:38:48.073Z"
   },
   {
    "duration": 7,
    "start_time": "2021-07-26T05:38:48.725Z"
   },
   {
    "duration": 2,
    "start_time": "2021-07-26T05:57:48.545Z"
   },
   {
    "duration": 3,
    "start_time": "2021-07-26T05:57:49.366Z"
   },
   {
    "duration": 2,
    "start_time": "2021-07-26T05:57:50.046Z"
   },
   {
    "duration": 1085,
    "start_time": "2021-07-26T05:58:20.790Z"
   },
   {
    "duration": 372,
    "start_time": "2021-07-26T05:58:21.877Z"
   },
   {
    "duration": 10,
    "start_time": "2021-07-26T05:58:22.252Z"
   },
   {
    "duration": 10,
    "start_time": "2021-07-26T05:58:22.264Z"
   },
   {
    "duration": 905,
    "start_time": "2021-07-26T05:58:22.275Z"
   },
   {
    "duration": 927,
    "start_time": "2021-07-26T05:58:23.182Z"
   },
   {
    "duration": 891,
    "start_time": "2021-07-26T05:58:24.111Z"
   },
   {
    "duration": 383,
    "start_time": "2021-07-26T05:58:25.004Z"
   },
   {
    "duration": 372,
    "start_time": "2021-07-26T05:58:25.390Z"
   },
   {
    "duration": 363,
    "start_time": "2021-07-26T05:58:25.764Z"
   },
   {
    "duration": 121,
    "start_time": "2021-07-26T05:58:26.129Z"
   },
   {
    "duration": 20,
    "start_time": "2021-07-26T05:58:26.252Z"
   },
   {
    "duration": 38,
    "start_time": "2021-07-26T05:58:26.273Z"
   },
   {
    "duration": 4,
    "start_time": "2021-07-26T05:58:26.313Z"
   },
   {
    "duration": 21,
    "start_time": "2021-07-26T05:58:26.341Z"
   },
   {
    "duration": 80,
    "start_time": "2021-07-26T05:58:26.364Z"
   },
   {
    "duration": 97,
    "start_time": "2021-07-26T05:58:26.446Z"
   },
   {
    "duration": 96,
    "start_time": "2021-07-26T05:58:26.545Z"
   },
   {
    "duration": 5,
    "start_time": "2021-07-26T05:58:26.643Z"
   },
   {
    "duration": 8,
    "start_time": "2021-07-26T05:58:26.649Z"
   },
   {
    "duration": 5,
    "start_time": "2021-07-26T05:58:26.659Z"
   },
   {
    "duration": 6,
    "start_time": "2021-07-26T05:58:26.666Z"
   },
   {
    "duration": 3,
    "start_time": "2021-07-26T05:58:26.674Z"
   },
   {
    "duration": 5,
    "start_time": "2021-07-26T05:58:26.679Z"
   },
   {
    "duration": 9,
    "start_time": "2021-07-26T05:58:26.685Z"
   },
   {
    "duration": 5,
    "start_time": "2021-07-26T05:58:26.696Z"
   },
   {
    "duration": 43,
    "start_time": "2021-07-26T05:58:26.703Z"
   },
   {
    "duration": 4,
    "start_time": "2021-07-26T05:58:26.748Z"
   },
   {
    "duration": 11,
    "start_time": "2021-07-26T05:58:26.753Z"
   },
   {
    "duration": 3,
    "start_time": "2021-07-26T05:58:26.766Z"
   },
   {
    "duration": 7271,
    "start_time": "2021-07-26T05:58:26.770Z"
   },
   {
    "duration": 6,
    "start_time": "2021-07-26T05:58:34.042Z"
   },
   {
    "duration": 14,
    "start_time": "2021-07-26T05:58:34.049Z"
   },
   {
    "duration": 10,
    "start_time": "2021-07-26T05:58:34.064Z"
   },
   {
    "duration": 1096,
    "start_time": "2021-07-26T05:58:34.076Z"
   },
   {
    "duration": 5,
    "start_time": "2021-07-26T06:00:04.645Z"
   },
   {
    "duration": 40,
    "start_time": "2021-07-26T06:01:10.134Z"
   },
   {
    "duration": 1581,
    "start_time": "2021-07-26T06:01:31.239Z"
   },
   {
    "duration": 1644,
    "start_time": "2021-07-26T06:01:42.468Z"
   },
   {
    "duration": 1503,
    "start_time": "2021-07-26T06:01:51.774Z"
   },
   {
    "duration": 1825,
    "start_time": "2021-07-26T06:01:58.250Z"
   },
   {
    "duration": 1220,
    "start_time": "2021-07-26T06:02:05.930Z"
   },
   {
    "duration": 356,
    "start_time": "2021-07-26T06:02:07.152Z"
   },
   {
    "duration": 11,
    "start_time": "2021-07-26T06:02:07.510Z"
   },
   {
    "duration": 18,
    "start_time": "2021-07-26T06:02:07.523Z"
   },
   {
    "duration": 891,
    "start_time": "2021-07-26T06:02:07.542Z"
   },
   {
    "duration": 963,
    "start_time": "2021-07-26T06:02:08.434Z"
   },
   {
    "duration": 906,
    "start_time": "2021-07-26T06:02:09.399Z"
   },
   {
    "duration": 378,
    "start_time": "2021-07-26T06:02:10.308Z"
   },
   {
    "duration": 345,
    "start_time": "2021-07-26T06:02:10.688Z"
   },
   {
    "duration": 363,
    "start_time": "2021-07-26T06:02:11.035Z"
   },
   {
    "duration": 115,
    "start_time": "2021-07-26T06:02:11.400Z"
   },
   {
    "duration": 29,
    "start_time": "2021-07-26T06:02:11.517Z"
   },
   {
    "duration": 38,
    "start_time": "2021-07-26T06:02:11.548Z"
   },
   {
    "duration": 4,
    "start_time": "2021-07-26T06:02:11.588Z"
   },
   {
    "duration": 1624,
    "start_time": "2021-07-26T06:02:11.593Z"
   },
   {
    "duration": 1599,
    "start_time": "2021-07-26T06:02:13.219Z"
   },
   {
    "duration": 41,
    "start_time": "2021-07-26T06:02:14.820Z"
   },
   {
    "duration": 1526,
    "start_time": "2021-07-26T06:02:14.863Z"
   },
   {
    "duration": 1639,
    "start_time": "2021-07-26T06:02:16.390Z"
   },
   {
    "duration": 27,
    "start_time": "2021-07-26T06:02:18.031Z"
   },
   {
    "duration": 84,
    "start_time": "2021-07-26T06:02:18.060Z"
   },
   {
    "duration": 94,
    "start_time": "2021-07-26T06:02:18.147Z"
   },
   {
    "duration": 94,
    "start_time": "2021-07-26T06:02:18.247Z"
   },
   {
    "duration": 14,
    "start_time": "2021-07-26T06:02:18.343Z"
   },
   {
    "duration": 13,
    "start_time": "2021-07-26T06:02:18.358Z"
   },
   {
    "duration": 11,
    "start_time": "2021-07-26T06:02:18.373Z"
   },
   {
    "duration": 13,
    "start_time": "2021-07-26T06:02:18.386Z"
   },
   {
    "duration": 15,
    "start_time": "2021-07-26T06:02:18.400Z"
   },
   {
    "duration": 15,
    "start_time": "2021-07-26T06:02:18.416Z"
   },
   {
    "duration": 20,
    "start_time": "2021-07-26T06:02:18.433Z"
   },
   {
    "duration": 21,
    "start_time": "2021-07-26T06:02:18.455Z"
   },
   {
    "duration": 15,
    "start_time": "2021-07-26T06:02:18.478Z"
   },
   {
    "duration": 11,
    "start_time": "2021-07-26T06:02:18.495Z"
   },
   {
    "duration": 24,
    "start_time": "2021-07-26T06:02:18.507Z"
   },
   {
    "duration": 7,
    "start_time": "2021-07-26T06:02:18.533Z"
   },
   {
    "duration": 7130,
    "start_time": "2021-07-26T06:02:18.541Z"
   },
   {
    "duration": 6,
    "start_time": "2021-07-26T06:02:25.672Z"
   },
   {
    "duration": 17,
    "start_time": "2021-07-26T06:02:25.680Z"
   },
   {
    "duration": 10,
    "start_time": "2021-07-26T06:02:25.699Z"
   },
   {
    "duration": 550,
    "start_time": "2021-07-26T06:02:25.711Z"
   },
   {
    "duration": 1637,
    "start_time": "2021-07-26T06:03:25.290Z"
   },
   {
    "duration": 1660,
    "start_time": "2021-07-26T06:05:29.092Z"
   },
   {
    "duration": 3254,
    "start_time": "2021-07-26T06:05:41.289Z"
   },
   {
    "duration": 3565,
    "start_time": "2021-07-26T06:06:57.461Z"
   },
   {
    "duration": 3503,
    "start_time": "2021-07-26T06:07:20.319Z"
   },
   {
    "duration": 3252,
    "start_time": "2021-07-26T06:08:13.576Z"
   },
   {
    "duration": 3,
    "start_time": "2021-07-26T06:08:35.401Z"
   },
   {
    "duration": 1092,
    "start_time": "2021-07-26T06:08:37.375Z"
   },
   {
    "duration": 883,
    "start_time": "2021-07-26T06:08:47.722Z"
   },
   {
    "duration": 20,
    "start_time": "2021-07-26T06:09:01.615Z"
   },
   {
    "duration": 34,
    "start_time": "2021-07-26T06:09:02.499Z"
   },
   {
    "duration": 4,
    "start_time": "2021-07-26T06:09:03.331Z"
   },
   {
    "duration": 3,
    "start_time": "2021-07-26T06:09:05.127Z"
   },
   {
    "duration": 902,
    "start_time": "2021-07-26T06:09:24.116Z"
   },
   {
    "duration": 10,
    "start_time": "2021-07-26T06:09:51.333Z"
   },
   {
    "duration": 1181,
    "start_time": "2021-07-26T06:09:52.560Z"
   },
   {
    "duration": 4,
    "start_time": "2021-07-26T06:10:02.850Z"
   },
   {
    "duration": 325,
    "start_time": "2021-07-26T06:10:15.346Z"
   },
   {
    "duration": 15,
    "start_time": "2021-07-26T06:10:20.159Z"
   },
   {
    "duration": 30,
    "start_time": "2021-07-26T06:10:20.851Z"
   },
   {
    "duration": 4,
    "start_time": "2021-07-26T06:10:21.539Z"
   },
   {
    "duration": 3,
    "start_time": "2021-07-26T06:10:23.867Z"
   },
   {
    "duration": 31,
    "start_time": "2021-07-26T06:10:26.765Z"
   },
   {
    "duration": 897,
    "start_time": "2021-07-26T06:10:28.506Z"
   },
   {
    "duration": 1732,
    "start_time": "2021-07-26T06:10:46.132Z"
   },
   {
    "duration": 981,
    "start_time": "2021-07-26T06:11:09.495Z"
   },
   {
    "duration": 1139,
    "start_time": "2021-07-26T06:11:10.478Z"
   },
   {
    "duration": 895,
    "start_time": "2021-07-26T06:11:13.050Z"
   },
   {
    "duration": 884,
    "start_time": "2021-07-26T06:12:03.849Z"
   },
   {
    "duration": 1141,
    "start_time": "2021-07-26T06:12:12.494Z"
   },
   {
    "duration": 1024,
    "start_time": "2021-07-26T06:12:19.742Z"
   },
   {
    "duration": 1117,
    "start_time": "2021-07-26T06:12:27.473Z"
   },
   {
    "duration": 904,
    "start_time": "2021-07-26T06:12:53.600Z"
   },
   {
    "duration": 1124,
    "start_time": "2021-07-26T06:13:04.569Z"
   },
   {
    "duration": 887,
    "start_time": "2021-07-26T06:13:09.619Z"
   },
   {
    "duration": 879,
    "start_time": "2021-07-26T06:13:15.620Z"
   },
   {
    "duration": 1262,
    "start_time": "2021-07-26T06:13:22.431Z"
   },
   {
    "duration": 871,
    "start_time": "2021-07-26T06:13:28.819Z"
   },
   {
    "duration": 1113,
    "start_time": "2021-07-26T06:13:39.302Z"
   },
   {
    "duration": 897,
    "start_time": "2021-07-26T06:13:42.119Z"
   },
   {
    "duration": 870,
    "start_time": "2021-07-26T06:13:54.120Z"
   },
   {
    "duration": 1179,
    "start_time": "2021-07-26T06:13:58.799Z"
   },
   {
    "duration": 350,
    "start_time": "2021-07-26T06:14:02.794Z"
   },
   {
    "duration": 549,
    "start_time": "2021-07-26T06:14:10.562Z"
   },
   {
    "duration": 423,
    "start_time": "2021-07-26T06:14:12.700Z"
   },
   {
    "duration": 429,
    "start_time": "2021-07-26T06:14:16.979Z"
   },
   {
    "duration": 646,
    "start_time": "2021-07-26T06:14:35.425Z"
   },
   {
    "duration": 428,
    "start_time": "2021-07-26T06:15:12.137Z"
   },
   {
    "duration": 1074,
    "start_time": "2021-07-26T06:18:21.284Z"
   },
   {
    "duration": 351,
    "start_time": "2021-07-26T06:18:22.360Z"
   },
   {
    "duration": 10,
    "start_time": "2021-07-26T06:18:22.713Z"
   },
   {
    "duration": 23,
    "start_time": "2021-07-26T06:18:22.724Z"
   },
   {
    "duration": 884,
    "start_time": "2021-07-26T06:18:22.749Z"
   },
   {
    "duration": 979,
    "start_time": "2021-07-26T06:18:23.635Z"
   },
   {
    "duration": 882,
    "start_time": "2021-07-26T06:18:24.616Z"
   },
   {
    "duration": 413,
    "start_time": "2021-07-26T06:18:25.500Z"
   },
   {
    "duration": 397,
    "start_time": "2021-07-26T06:18:25.916Z"
   },
   {
    "duration": 396,
    "start_time": "2021-07-26T06:18:26.315Z"
   },
   {
    "duration": 120,
    "start_time": "2021-07-26T06:18:26.712Z"
   },
   {
    "duration": 24,
    "start_time": "2021-07-26T06:18:26.833Z"
   },
   {
    "duration": 36,
    "start_time": "2021-07-26T06:18:26.859Z"
   },
   {
    "duration": 3,
    "start_time": "2021-07-26T06:18:26.897Z"
   },
   {
    "duration": 14,
    "start_time": "2021-07-26T06:18:26.902Z"
   },
   {
    "duration": 51,
    "start_time": "2021-07-26T06:18:26.917Z"
   },
   {
    "duration": 438,
    "start_time": "2021-07-26T06:18:26.969Z"
   },
   {
    "duration": 448,
    "start_time": "2021-07-26T06:18:27.409Z"
   },
   {
    "duration": 523,
    "start_time": "2021-07-26T06:18:27.859Z"
   },
   {
    "duration": 21,
    "start_time": "2021-07-26T06:18:28.384Z"
   },
   {
    "duration": 135,
    "start_time": "2021-07-26T06:18:28.407Z"
   },
   {
    "duration": 96,
    "start_time": "2021-07-26T06:18:28.545Z"
   },
   {
    "duration": 5,
    "start_time": "2021-07-26T06:18:28.644Z"
   },
   {
    "duration": 21,
    "start_time": "2021-07-26T06:18:28.652Z"
   },
   {
    "duration": 22,
    "start_time": "2021-07-26T06:18:28.675Z"
   },
   {
    "duration": 17,
    "start_time": "2021-07-26T06:18:28.698Z"
   },
   {
    "duration": 26,
    "start_time": "2021-07-26T06:18:28.716Z"
   },
   {
    "duration": 8,
    "start_time": "2021-07-26T06:18:28.745Z"
   },
   {
    "duration": 15,
    "start_time": "2021-07-26T06:18:28.754Z"
   },
   {
    "duration": 16,
    "start_time": "2021-07-26T06:18:28.770Z"
   },
   {
    "duration": 16,
    "start_time": "2021-07-26T06:18:28.788Z"
   },
   {
    "duration": 23,
    "start_time": "2021-07-26T06:18:28.805Z"
   },
   {
    "duration": 8,
    "start_time": "2021-07-26T06:18:28.830Z"
   },
   {
    "duration": 20,
    "start_time": "2021-07-26T06:18:28.840Z"
   },
   {
    "duration": 19,
    "start_time": "2021-07-26T06:18:28.861Z"
   },
   {
    "duration": 7234,
    "start_time": "2021-07-26T06:18:28.882Z"
   },
   {
    "duration": 6,
    "start_time": "2021-07-26T06:18:36.118Z"
   },
   {
    "duration": 18,
    "start_time": "2021-07-26T06:18:36.125Z"
   },
   {
    "duration": 12,
    "start_time": "2021-07-26T06:18:36.144Z"
   },
   {
    "duration": 510,
    "start_time": "2021-07-26T06:18:36.157Z"
   },
   {
    "duration": 681,
    "start_time": "2021-07-26T06:21:50.160Z"
   },
   {
    "duration": 315,
    "start_time": "2021-07-26T06:22:01.446Z"
   },
   {
    "duration": 298,
    "start_time": "2021-07-26T06:22:15.790Z"
   },
   {
    "duration": 298,
    "start_time": "2021-07-26T06:22:54.512Z"
   },
   {
    "duration": 321,
    "start_time": "2021-07-26T06:22:56.082Z"
   },
   {
    "duration": 1104,
    "start_time": "2021-07-26T06:23:35.593Z"
   },
   {
    "duration": 353,
    "start_time": "2021-07-26T06:23:36.699Z"
   },
   {
    "duration": 11,
    "start_time": "2021-07-26T06:23:37.054Z"
   },
   {
    "duration": 18,
    "start_time": "2021-07-26T06:23:37.067Z"
   },
   {
    "duration": 877,
    "start_time": "2021-07-26T06:23:37.087Z"
   },
   {
    "duration": 922,
    "start_time": "2021-07-26T06:23:37.966Z"
   },
   {
    "duration": 886,
    "start_time": "2021-07-26T06:23:38.890Z"
   },
   {
    "duration": 352,
    "start_time": "2021-07-26T06:23:39.779Z"
   },
   {
    "duration": 350,
    "start_time": "2021-07-26T06:23:40.140Z"
   },
   {
    "duration": 355,
    "start_time": "2021-07-26T06:23:40.492Z"
   },
   {
    "duration": 118,
    "start_time": "2021-07-26T06:23:40.850Z"
   },
   {
    "duration": 19,
    "start_time": "2021-07-26T06:23:40.970Z"
   },
   {
    "duration": 55,
    "start_time": "2021-07-26T06:23:40.990Z"
   },
   {
    "duration": 4,
    "start_time": "2021-07-26T06:23:41.047Z"
   },
   {
    "duration": 5,
    "start_time": "2021-07-26T06:23:41.053Z"
   },
   {
    "duration": 38,
    "start_time": "2021-07-26T06:23:41.060Z"
   },
   {
    "duration": 325,
    "start_time": "2021-07-26T06:23:41.099Z"
   },
   {
    "duration": 309,
    "start_time": "2021-07-26T06:23:41.426Z"
   },
   {
    "duration": 306,
    "start_time": "2021-07-26T06:23:41.740Z"
   },
   {
    "duration": 21,
    "start_time": "2021-07-26T06:23:42.048Z"
   },
   {
    "duration": 74,
    "start_time": "2021-07-26T06:23:42.071Z"
   },
   {
    "duration": 98,
    "start_time": "2021-07-26T06:23:42.147Z"
   },
   {
    "duration": 93,
    "start_time": "2021-07-26T06:23:42.250Z"
   },
   {
    "duration": 7,
    "start_time": "2021-07-26T06:23:42.345Z"
   },
   {
    "duration": 8,
    "start_time": "2021-07-26T06:23:42.353Z"
   },
   {
    "duration": 5,
    "start_time": "2021-07-26T06:23:42.362Z"
   },
   {
    "duration": 7,
    "start_time": "2021-07-26T06:23:42.369Z"
   },
   {
    "duration": 4,
    "start_time": "2021-07-26T06:23:42.378Z"
   },
   {
    "duration": 5,
    "start_time": "2021-07-26T06:23:42.383Z"
   },
   {
    "duration": 5,
    "start_time": "2021-07-26T06:23:42.389Z"
   },
   {
    "duration": 5,
    "start_time": "2021-07-26T06:23:42.395Z"
   },
   {
    "duration": 45,
    "start_time": "2021-07-26T06:23:42.401Z"
   },
   {
    "duration": 3,
    "start_time": "2021-07-26T06:23:42.448Z"
   },
   {
    "duration": 10,
    "start_time": "2021-07-26T06:23:42.453Z"
   },
   {
    "duration": 4,
    "start_time": "2021-07-26T06:23:42.465Z"
   },
   {
    "duration": 7301,
    "start_time": "2021-07-26T06:23:42.470Z"
   },
   {
    "duration": 6,
    "start_time": "2021-07-26T06:23:49.773Z"
   },
   {
    "duration": 27,
    "start_time": "2021-07-26T06:23:49.780Z"
   },
   {
    "duration": 20,
    "start_time": "2021-07-26T06:23:49.809Z"
   },
   {
    "duration": 640,
    "start_time": "2021-07-26T06:23:49.831Z"
   },
   {
    "duration": 546,
    "start_time": "2021-07-26T06:24:34.040Z"
   },
   {
    "duration": 495,
    "start_time": "2021-07-26T06:25:10.466Z"
   },
   {
    "duration": 639,
    "start_time": "2021-07-26T06:25:11.985Z"
   },
   {
    "duration": 1119,
    "start_time": "2021-07-26T06:25:35.749Z"
   },
   {
    "duration": 351,
    "start_time": "2021-07-26T06:25:36.870Z"
   },
   {
    "duration": 14,
    "start_time": "2021-07-26T06:25:37.226Z"
   },
   {
    "duration": 22,
    "start_time": "2021-07-26T06:25:37.242Z"
   },
   {
    "duration": 955,
    "start_time": "2021-07-26T06:25:37.266Z"
   },
   {
    "duration": 1024,
    "start_time": "2021-07-26T06:25:38.223Z"
   },
   {
    "duration": 913,
    "start_time": "2021-07-26T06:25:39.249Z"
   },
   {
    "duration": 351,
    "start_time": "2021-07-26T06:25:40.164Z"
   },
   {
    "duration": 398,
    "start_time": "2021-07-26T06:25:40.517Z"
   },
   {
    "duration": 393,
    "start_time": "2021-07-26T06:25:40.917Z"
   },
   {
    "duration": 117,
    "start_time": "2021-07-26T06:25:41.313Z"
   },
   {
    "duration": 23,
    "start_time": "2021-07-26T06:25:41.432Z"
   },
   {
    "duration": 55,
    "start_time": "2021-07-26T06:25:41.456Z"
   },
   {
    "duration": 4,
    "start_time": "2021-07-26T06:25:41.513Z"
   },
   {
    "duration": 31,
    "start_time": "2021-07-26T06:25:41.518Z"
   },
   {
    "duration": 65,
    "start_time": "2021-07-26T06:25:41.550Z"
   },
   {
    "duration": 515,
    "start_time": "2021-07-26T06:25:41.616Z"
   },
   {
    "duration": 507,
    "start_time": "2021-07-26T06:25:42.133Z"
   },
   {
    "duration": 585,
    "start_time": "2021-07-26T06:25:42.642Z"
   },
   {
    "duration": 26,
    "start_time": "2021-07-26T06:25:43.229Z"
   },
   {
    "duration": 35,
    "start_time": "2021-07-26T06:25:43.256Z"
   },
   {
    "duration": 148,
    "start_time": "2021-07-26T06:25:43.294Z"
   },
   {
    "duration": 24,
    "start_time": "2021-07-26T06:25:43.444Z"
   },
   {
    "duration": 21,
    "start_time": "2021-07-26T06:25:43.470Z"
   },
   {
    "duration": 34,
    "start_time": "2021-07-26T06:25:43.493Z"
   },
   {
    "duration": 32,
    "start_time": "2021-07-26T06:25:43.529Z"
   },
   {
    "duration": 18,
    "start_time": "2021-07-26T06:25:43.562Z"
   },
   {
    "duration": 23,
    "start_time": "2021-07-26T06:25:43.581Z"
   },
   {
    "duration": 22,
    "start_time": "2021-07-26T06:25:43.606Z"
   },
   {
    "duration": 21,
    "start_time": "2021-07-26T06:25:43.630Z"
   },
   {
    "duration": 27,
    "start_time": "2021-07-26T06:25:43.652Z"
   },
   {
    "duration": 29,
    "start_time": "2021-07-26T06:25:43.681Z"
   },
   {
    "duration": 25,
    "start_time": "2021-07-26T06:25:43.712Z"
   },
   {
    "duration": 30,
    "start_time": "2021-07-26T06:25:43.738Z"
   },
   {
    "duration": 21,
    "start_time": "2021-07-26T06:25:43.769Z"
   },
   {
    "duration": 7198,
    "start_time": "2021-07-26T06:25:43.791Z"
   },
   {
    "duration": 6,
    "start_time": "2021-07-26T06:25:50.990Z"
   },
   {
    "duration": 18,
    "start_time": "2021-07-26T06:25:50.998Z"
   },
   {
    "duration": 22,
    "start_time": "2021-07-26T06:25:51.018Z"
   },
   {
    "duration": 997,
    "start_time": "2021-07-26T06:25:51.042Z"
   },
   {
    "duration": 1235,
    "start_time": "2021-07-26T06:27:13.721Z"
   },
   {
    "duration": 354,
    "start_time": "2021-07-26T06:27:14.957Z"
   },
   {
    "duration": 9,
    "start_time": "2021-07-26T06:27:15.313Z"
   },
   {
    "duration": 18,
    "start_time": "2021-07-26T06:27:15.324Z"
   },
   {
    "duration": 891,
    "start_time": "2021-07-26T06:27:15.343Z"
   },
   {
    "duration": 960,
    "start_time": "2021-07-26T06:27:16.240Z"
   },
   {
    "duration": 890,
    "start_time": "2021-07-26T06:27:17.201Z"
   },
   {
    "duration": 394,
    "start_time": "2021-07-26T06:27:18.094Z"
   },
   {
    "duration": 356,
    "start_time": "2021-07-26T06:27:18.490Z"
   },
   {
    "duration": 368,
    "start_time": "2021-07-26T06:27:18.848Z"
   },
   {
    "duration": 124,
    "start_time": "2021-07-26T06:27:19.217Z"
   },
   {
    "duration": 19,
    "start_time": "2021-07-26T06:27:19.342Z"
   },
   {
    "duration": 35,
    "start_time": "2021-07-26T06:27:19.363Z"
   },
   {
    "duration": 4,
    "start_time": "2021-07-26T06:27:19.400Z"
   },
   {
    "duration": 13,
    "start_time": "2021-07-26T06:27:19.405Z"
   },
   {
    "duration": 48,
    "start_time": "2021-07-26T06:27:19.420Z"
   },
   {
    "duration": 493,
    "start_time": "2021-07-26T06:27:19.469Z"
   },
   {
    "duration": 510,
    "start_time": "2021-07-26T06:27:19.964Z"
   },
   {
    "duration": 578,
    "start_time": "2021-07-26T06:27:20.476Z"
   },
   {
    "duration": 19,
    "start_time": "2021-07-26T06:27:21.056Z"
   },
   {
    "duration": 67,
    "start_time": "2021-07-26T06:27:21.077Z"
   },
   {
    "duration": 3,
    "start_time": "2021-07-26T06:27:21.146Z"
   },
   {
    "duration": 100,
    "start_time": "2021-07-26T06:27:21.154Z"
   },
   {
    "duration": 91,
    "start_time": "2021-07-26T06:27:21.256Z"
   },
   {
    "duration": 7,
    "start_time": "2021-07-26T06:27:21.349Z"
   },
   {
    "duration": 5,
    "start_time": "2021-07-26T06:27:21.358Z"
   },
   {
    "duration": 6,
    "start_time": "2021-07-26T06:27:21.365Z"
   },
   {
    "duration": 3,
    "start_time": "2021-07-26T06:27:21.373Z"
   },
   {
    "duration": 5,
    "start_time": "2021-07-26T06:27:21.377Z"
   },
   {
    "duration": 4,
    "start_time": "2021-07-26T06:27:21.384Z"
   },
   {
    "duration": 7,
    "start_time": "2021-07-26T06:27:21.389Z"
   },
   {
    "duration": 11,
    "start_time": "2021-07-26T06:27:21.398Z"
   },
   {
    "duration": 31,
    "start_time": "2021-07-26T06:27:21.411Z"
   },
   {
    "duration": 11,
    "start_time": "2021-07-26T06:27:21.444Z"
   },
   {
    "duration": 4,
    "start_time": "2021-07-26T06:27:21.456Z"
   },
   {
    "duration": 7415,
    "start_time": "2021-07-26T06:27:21.461Z"
   },
   {
    "duration": 7,
    "start_time": "2021-07-26T06:27:28.878Z"
   },
   {
    "duration": 13,
    "start_time": "2021-07-26T06:27:28.887Z"
   },
   {
    "duration": 12,
    "start_time": "2021-07-26T06:27:28.902Z"
   },
   {
    "duration": 652,
    "start_time": "2021-07-26T06:27:28.916Z"
   },
   {
    "duration": 1172,
    "start_time": "2021-07-26T06:29:47.103Z"
   },
   {
    "duration": 370,
    "start_time": "2021-07-26T06:29:48.277Z"
   },
   {
    "duration": 10,
    "start_time": "2021-07-26T06:29:48.649Z"
   },
   {
    "duration": 12,
    "start_time": "2021-07-26T06:29:48.661Z"
   },
   {
    "duration": 927,
    "start_time": "2021-07-26T06:29:48.675Z"
   },
   {
    "duration": 963,
    "start_time": "2021-07-26T06:29:49.603Z"
   },
   {
    "duration": 946,
    "start_time": "2021-07-26T06:29:50.568Z"
   },
   {
    "duration": 404,
    "start_time": "2021-07-26T06:29:51.516Z"
   },
   {
    "duration": 369,
    "start_time": "2021-07-26T06:29:51.923Z"
   },
   {
    "duration": 355,
    "start_time": "2021-07-26T06:29:52.294Z"
   },
   {
    "duration": 119,
    "start_time": "2021-07-26T06:29:52.650Z"
   },
   {
    "duration": 20,
    "start_time": "2021-07-26T06:29:52.771Z"
   },
   {
    "duration": 50,
    "start_time": "2021-07-26T06:29:52.792Z"
   },
   {
    "duration": 4,
    "start_time": "2021-07-26T06:29:52.843Z"
   },
   {
    "duration": 6,
    "start_time": "2021-07-26T06:29:52.848Z"
   },
   {
    "duration": 38,
    "start_time": "2021-07-26T06:29:52.856Z"
   },
   {
    "duration": 503,
    "start_time": "2021-07-26T06:29:52.896Z"
   },
   {
    "duration": 497,
    "start_time": "2021-07-26T06:29:53.400Z"
   },
   {
    "duration": 585,
    "start_time": "2021-07-26T06:29:53.899Z"
   },
   {
    "duration": 19,
    "start_time": "2021-07-26T06:29:54.485Z"
   },
   {
    "duration": 38,
    "start_time": "2021-07-26T06:29:54.506Z"
   },
   {
    "duration": 96,
    "start_time": "2021-07-26T06:29:54.546Z"
   },
   {
    "duration": 96,
    "start_time": "2021-07-26T06:29:54.645Z"
   },
   {
    "duration": 8,
    "start_time": "2021-07-26T06:29:54.743Z"
   },
   {
    "duration": 8,
    "start_time": "2021-07-26T06:29:54.752Z"
   },
   {
    "duration": 5,
    "start_time": "2021-07-26T06:29:54.761Z"
   },
   {
    "duration": 8,
    "start_time": "2021-07-26T06:29:54.769Z"
   },
   {
    "duration": 4,
    "start_time": "2021-07-26T06:29:54.779Z"
   },
   {
    "duration": 10,
    "start_time": "2021-07-26T06:29:54.785Z"
   },
   {
    "duration": 6,
    "start_time": "2021-07-26T06:29:54.797Z"
   },
   {
    "duration": 7,
    "start_time": "2021-07-26T06:29:54.804Z"
   },
   {
    "duration": 37,
    "start_time": "2021-07-26T06:29:54.813Z"
   },
   {
    "duration": 10,
    "start_time": "2021-07-26T06:29:54.852Z"
   },
   {
    "duration": 12,
    "start_time": "2021-07-26T06:29:54.863Z"
   },
   {
    "duration": 3,
    "start_time": "2021-07-26T06:29:54.876Z"
   },
   {
    "duration": 7232,
    "start_time": "2021-07-26T06:29:54.881Z"
   },
   {
    "duration": 6,
    "start_time": "2021-07-26T06:30:02.115Z"
   },
   {
    "duration": 25,
    "start_time": "2021-07-26T06:30:02.122Z"
   },
   {
    "duration": 13,
    "start_time": "2021-07-26T06:30:02.148Z"
   },
   {
    "duration": 741,
    "start_time": "2021-07-26T06:30:02.163Z"
   }
  ],
  "kernelspec": {
   "display_name": "Python 3 (ipykernel)",
   "language": "python",
   "name": "python3"
  },
  "language_info": {
   "codemirror_mode": {
    "name": "ipython",
    "version": 3
   },
   "file_extension": ".py",
   "mimetype": "text/x-python",
   "name": "python",
   "nbconvert_exporter": "python",
   "pygments_lexer": "ipython3",
   "version": "3.9.6"
  },
  "toc": {
   "base_numbering": 1,
   "nav_menu": {},
   "number_sections": true,
   "sideBar": true,
   "skip_h1_title": true,
   "title_cell": "Table of Contents",
   "title_sidebar": "Contents",
   "toc_cell": false,
   "toc_position": {},
   "toc_section_display": true,
   "toc_window_display": true
  }
 },
 "nbformat": 4,
 "nbformat_minor": 2
}
