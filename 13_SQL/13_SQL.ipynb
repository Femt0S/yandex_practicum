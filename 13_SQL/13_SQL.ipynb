{
 "cells": [
  {
   "cell_type": "markdown",
   "metadata": {
    "toc": true
   },
   "source": [
    "<h1>Содержание<span class=\"tocSkip\"></span></h1>\n",
    "<div class=\"toc\"><ul class=\"toc-item\"><li><span><a href=\"#Введение\" data-toc-modified-id=\"Введение-1\"><span class=\"toc-item-num\">1&nbsp;&nbsp;</span>Введение</a></span></li><li><span><a href=\"#Аналитика\" data-toc-modified-id=\"Аналитика-2\"><span class=\"toc-item-num\">2&nbsp;&nbsp;</span>Аналитика</a></span><ul class=\"toc-item\"><li><span><a href=\"#Количество-рейсов-по-городам\" data-toc-modified-id=\"Количество-рейсов-по-городам-2.1\"><span class=\"toc-item-num\">2.1&nbsp;&nbsp;</span>Количество рейсов по городам</a></span></li><li><span><a href=\"#Рейсы-по-моделям-самолётов\" data-toc-modified-id=\"Рейсы-по-моделям-самолётов-2.2\"><span class=\"toc-item-num\">2.2&nbsp;&nbsp;</span>Рейсы по моделям самолётов</a></span></li></ul></li><li><span><a href=\"#Вывод\" data-toc-modified-id=\"Вывод-3\"><span class=\"toc-item-num\">3&nbsp;&nbsp;</span>Вывод</a></span></li></ul></div>"
   ]
  },
  {
   "cell_type": "markdown",
   "metadata": {},
   "source": [
    "# Спрос на рейсы авиакомпании"
   ]
  },
  {
   "cell_type": "markdown",
   "metadata": {},
   "source": [
    "Вы аналитик российской авиакомпании F9, выполняющей внутренние пассажирские перевозки. Важно понять предпочтения пользователей, покупающих билеты на разные направления.\n",
    "\n",
    "Вам предстоит изучить базу данных и проанализировать спрос пассажиров на рейсы в города, где проходят крупнейшие культурные фестивали."
   ]
  },
  {
   "cell_type": "markdown",
   "metadata": {},
   "source": [
    "У вас есть файлы с результатами запросов из предыдущих заданий.\n",
    "\n",
    "**query_1.csv** — результат первого запроса. В нём содержится такая информация:\n",
    "\n",
    "- *model* — **модель самолета;\n",
    "- *flights_amount* — количество рейсов для каждой модели самолетов *model* в сентябре 2018 года.\n",
    "\n",
    "**query_3.csv** — результат третьего запроса. В нём содержится такая информация:\n",
    "\n",
    "- *city* — город;\n",
    "- *average_flights* — среднее количество рейсов, прибывающих в город (*city*) за день в сентябре 2018 года.\n",
    "\n",
    " Для этих двух наборов данных нужно:\n",
    "\n",
    "- импортировать файлы;\n",
    "- изучить данные в них;\n",
    "- проверить типы данных на корректность;\n",
    "- выбрать топ-10 городов по количеству рейсов;\n",
    "- построить графики: модели самолётов и количество рейсов, города и количество рейсов, топ-10 городов и количество рейсов;\n",
    "- сделать выводы по каждому из графиков, пояснить результат.\n"
   ]
  },
  {
   "cell_type": "markdown",
   "metadata": {},
   "source": [
    "## Введение\n",
    "\n",
    "Загрузим требуемые библиотеки:"
   ]
  },
  {
   "cell_type": "code",
   "execution_count": 1,
   "metadata": {},
   "outputs": [],
   "source": [
    "import pandas as pd\n",
    "import matplotlib.pyplot as plt"
   ]
  },
  {
   "cell_type": "markdown",
   "metadata": {},
   "source": [
    "В рамках предварительной работы с данными было выполнено несколько запросов, с сохранением выдачи в файлы формата `*.csv`\n",
    "\n",
    "---\n",
    "Первый запрос из базы данных с формулировкой \"***количество рейсов на каждой модели самолёта с вылетом в сентябре 2018 года***\", сохранённый в файл `query_1.csv`\n",
    "\n",
    "``` mysql\n",
    "SELECT\n",
    "    aircrafts.model,\n",
    "    COUNT(flights.flight_id) AS flights_amount\n",
    "FROM aircrafts\n",
    "    INNER JOIN flights ON flights.aircraft_code = aircrafts.aircraft_code\n",
    "WHERE\n",
    "    flights.departure_time::date >= '2018-09-01'\n",
    "    AND flights.departure_time::date <= '2018-09-30'\n",
    "GROUP BY\n",
    "    aircrafts.model\n",
    "```\n",
    "---\n",
    "Прочитаем данный файл с сохранением его в переменную типа DataFrame"
   ]
  },
  {
   "cell_type": "code",
   "execution_count": 2,
   "metadata": {
    "scrolled": true
   },
   "outputs": [
    {
     "data": {
      "text/html": [
       "<div>\n",
       "<style scoped>\n",
       "    .dataframe tbody tr th:only-of-type {\n",
       "        vertical-align: middle;\n",
       "    }\n",
       "\n",
       "    .dataframe tbody tr th {\n",
       "        vertical-align: top;\n",
       "    }\n",
       "\n",
       "    .dataframe thead th {\n",
       "        text-align: right;\n",
       "    }\n",
       "</style>\n",
       "<table border=\"1\" class=\"dataframe\">\n",
       "  <thead>\n",
       "    <tr style=\"text-align: right;\">\n",
       "      <th></th>\n",
       "      <th>model</th>\n",
       "      <th>flights_amount</th>\n",
       "    </tr>\n",
       "  </thead>\n",
       "  <tbody>\n",
       "    <tr>\n",
       "      <td>0</td>\n",
       "      <td>Airbus A319-100</td>\n",
       "      <td>607</td>\n",
       "    </tr>\n",
       "    <tr>\n",
       "      <td>1</td>\n",
       "      <td>Airbus A321-200</td>\n",
       "      <td>960</td>\n",
       "    </tr>\n",
       "    <tr>\n",
       "      <td>2</td>\n",
       "      <td>Boeing 737-300</td>\n",
       "      <td>630</td>\n",
       "    </tr>\n",
       "    <tr>\n",
       "      <td>3</td>\n",
       "      <td>Boeing 767-300</td>\n",
       "      <td>600</td>\n",
       "    </tr>\n",
       "    <tr>\n",
       "      <td>4</td>\n",
       "      <td>Boeing 777-300</td>\n",
       "      <td>300</td>\n",
       "    </tr>\n",
       "    <tr>\n",
       "      <td>5</td>\n",
       "      <td>Bombardier CRJ-200</td>\n",
       "      <td>4446</td>\n",
       "    </tr>\n",
       "    <tr>\n",
       "      <td>6</td>\n",
       "      <td>Cessna 208 Caravan</td>\n",
       "      <td>4557</td>\n",
       "    </tr>\n",
       "    <tr>\n",
       "      <td>7</td>\n",
       "      <td>Sukhoi SuperJet-100</td>\n",
       "      <td>4185</td>\n",
       "    </tr>\n",
       "  </tbody>\n",
       "</table>\n",
       "</div>"
      ],
      "text/plain": [
       "                 model  flights_amount\n",
       "0      Airbus A319-100             607\n",
       "1      Airbus A321-200             960\n",
       "2       Boeing 737-300             630\n",
       "3       Boeing 767-300             600\n",
       "4       Boeing 777-300             300\n",
       "5   Bombardier CRJ-200            4446\n",
       "6   Cessna 208 Caravan            4557\n",
       "7  Sukhoi SuperJet-100            4185"
      ]
     },
     "execution_count": 2,
     "metadata": {},
     "output_type": "execute_result"
    }
   ],
   "source": [
    "df_model = pd.read_csv('/datasets/query_1.csv')\n",
    "df_model"
   ]
  },
  {
   "cell_type": "markdown",
   "metadata": {},
   "source": [
    "\n",
    "---\n",
    "Запрос из базы данных с формулировкой \"***среднее количество прибывающих рейсов в день для каждого города за август 2018 года***\", сохранённый в файл `query_3.csv`\n",
    "\n",
    "``` mysql\n",
    "SELECT\n",
    "    airports.city,\n",
    "    COUNT(flights.flight_id)::real/31 AS average_flights\n",
    "FROM airports\n",
    "    INNER JOIN flights ON flights.arrival_airport = airports.airport_code \n",
    "WHERE\n",
    "    flights.departure_time::date >= '2018-08-01'\n",
    "    AND flights.departure_time::date <= '2018-08-31'\n",
    "GROUP BY\n",
    "    airports.city\n",
    "```\n",
    "---\n",
    "Аналогично прочитаем данный файл с сохранением его в переменную типа DataFrame"
   ]
  },
  {
   "cell_type": "code",
   "execution_count": 3,
   "metadata": {},
   "outputs": [
    {
     "data": {
      "text/html": [
       "<div>\n",
       "<style scoped>\n",
       "    .dataframe tbody tr th:only-of-type {\n",
       "        vertical-align: middle;\n",
       "    }\n",
       "\n",
       "    .dataframe tbody tr th {\n",
       "        vertical-align: top;\n",
       "    }\n",
       "\n",
       "    .dataframe thead th {\n",
       "        text-align: right;\n",
       "    }\n",
       "</style>\n",
       "<table border=\"1\" class=\"dataframe\">\n",
       "  <thead>\n",
       "    <tr style=\"text-align: right;\">\n",
       "      <th></th>\n",
       "      <th>city</th>\n",
       "      <th>average_flights</th>\n",
       "    </tr>\n",
       "  </thead>\n",
       "  <tbody>\n",
       "    <tr>\n",
       "      <td>0</td>\n",
       "      <td>Абакан</td>\n",
       "      <td>3.870968</td>\n",
       "    </tr>\n",
       "    <tr>\n",
       "      <td>1</td>\n",
       "      <td>Анадырь</td>\n",
       "      <td>1.000000</td>\n",
       "    </tr>\n",
       "    <tr>\n",
       "      <td>2</td>\n",
       "      <td>Анапа</td>\n",
       "      <td>2.161290</td>\n",
       "    </tr>\n",
       "    <tr>\n",
       "      <td>3</td>\n",
       "      <td>Архангельск</td>\n",
       "      <td>5.354839</td>\n",
       "    </tr>\n",
       "    <tr>\n",
       "      <td>4</td>\n",
       "      <td>Астрахань</td>\n",
       "      <td>2.451613</td>\n",
       "    </tr>\n",
       "    <tr>\n",
       "      <td>...</td>\n",
       "      <td>...</td>\n",
       "      <td>...</td>\n",
       "    </tr>\n",
       "    <tr>\n",
       "      <td>96</td>\n",
       "      <td>Чита</td>\n",
       "      <td>1.580645</td>\n",
       "    </tr>\n",
       "    <tr>\n",
       "      <td>97</td>\n",
       "      <td>Элиста</td>\n",
       "      <td>4.870968</td>\n",
       "    </tr>\n",
       "    <tr>\n",
       "      <td>98</td>\n",
       "      <td>Южно-Сахалинск</td>\n",
       "      <td>4.290323</td>\n",
       "    </tr>\n",
       "    <tr>\n",
       "      <td>99</td>\n",
       "      <td>Якутск</td>\n",
       "      <td>2.741935</td>\n",
       "    </tr>\n",
       "    <tr>\n",
       "      <td>100</td>\n",
       "      <td>Ярославль</td>\n",
       "      <td>1.322581</td>\n",
       "    </tr>\n",
       "  </tbody>\n",
       "</table>\n",
       "<p>101 rows × 2 columns</p>\n",
       "</div>"
      ],
      "text/plain": [
       "               city  average_flights\n",
       "0            Абакан         3.870968\n",
       "1           Анадырь         1.000000\n",
       "2             Анапа         2.161290\n",
       "3       Архангельск         5.354839\n",
       "4         Астрахань         2.451613\n",
       "..              ...              ...\n",
       "96             Чита         1.580645\n",
       "97           Элиста         4.870968\n",
       "98   Южно-Сахалинск         4.290323\n",
       "99           Якутск         2.741935\n",
       "100       Ярославль         1.322581\n",
       "\n",
       "[101 rows x 2 columns]"
      ]
     },
     "execution_count": 3,
     "metadata": {},
     "output_type": "execute_result"
    }
   ],
   "source": [
    "df_city = pd.read_csv('/datasets/query_3.csv')\n",
    "df_city"
   ]
  },
  {
   "cell_type": "markdown",
   "metadata": {},
   "source": [
    "**ВЫВОД**: данные загружены и готовы к анализу.\n",
    "\n",
    "---"
   ]
  },
  {
   "cell_type": "markdown",
   "metadata": {},
   "source": [
    "## Аналитика"
   ]
  },
  {
   "cell_type": "markdown",
   "metadata": {},
   "source": [
    "Первым этапом проверим сведения о типах данных и пропусках:"
   ]
  },
  {
   "cell_type": "code",
   "execution_count": 4,
   "metadata": {
    "scrolled": false
   },
   "outputs": [
    {
     "name": "stdout",
     "output_type": "stream",
     "text": [
      "<class 'pandas.core.frame.DataFrame'>\n",
      "RangeIndex: 8 entries, 0 to 7\n",
      "Data columns (total 2 columns):\n",
      "model             8 non-null object\n",
      "flights_amount    8 non-null int64\n",
      "dtypes: int64(1), object(1)\n",
      "memory usage: 256.0+ bytes\n"
     ]
    }
   ],
   "source": [
    "df_model.info()"
   ]
  },
  {
   "cell_type": "code",
   "execution_count": 5,
   "metadata": {
    "scrolled": false
   },
   "outputs": [
    {
     "name": "stdout",
     "output_type": "stream",
     "text": [
      "<class 'pandas.core.frame.DataFrame'>\n",
      "RangeIndex: 101 entries, 0 to 100\n",
      "Data columns (total 2 columns):\n",
      "city               101 non-null object\n",
      "average_flights    101 non-null float64\n",
      "dtypes: float64(1), object(1)\n",
      "memory usage: 1.7+ KB\n"
     ]
    }
   ],
   "source": [
    "df_city.info()"
   ]
  },
  {
   "cell_type": "markdown",
   "metadata": {},
   "source": [
    "**Промежуточный вывод**: Пропуски отсутствуют, типы данных соответсвуют.\n",
    "\n",
    "---\n",
    "\n",
    "### Количество рейсов по городам\n",
    "\n",
    "Построим график количества рейсов по городам на основе загруженных данных:"
   ]
  },
  {
   "cell_type": "code",
   "execution_count": 6,
   "metadata": {},
   "outputs": [
    {
     "data": {
      "image/png": "[encoded data removed]",
      "text/plain": [
       "<Figure size 1224x1224 with 1 Axes>"
      ]
     },
     "metadata": {
      "needs_background": "light"
     },
     "output_type": "display_data"
    }
   ],
   "source": [
    "df_city.plot(\n",
    "    kind='barh',\n",
    "    x='city',\n",
    "    figsize=(17,17),\n",
    "    grid=True,\n",
    "    title='Города и количество рейсов',\n",
    "    legend=False)\n",
    "\n",
    "plt.xlabel('Количество рейсов')\n",
    "plt.ylabel('Города')\n",
    "plt.tight_layout()"
   ]
  },
  {
   "cell_type": "markdown",
   "metadata": {},
   "source": [
    "**Наблюдаются** два основных резких пика, со значениями **>120** рейсов в день (Москва) и **>20** рейсов в день (Санкт-Петербург).\n",
    "\n",
    "Для уточнения этих показателей выберем \"Топ 10\" городов с самым большим средним количеством рейсов в день:"
   ]
  },
  {
   "cell_type": "code",
   "execution_count": 7,
   "metadata": {},
   "outputs": [
    {
     "data": {
      "text/html": [
       "<style  type=\"text/css\" >\n",
       "    #T_3d68e19c_2ab4_11ec_946c_02420a3965f4row0_col1 {\n",
       "            background-color:  #084081;\n",
       "            color:  #f1f1f1;\n",
       "        }    #T_3d68e19c_2ab4_11ec_946c_02420a3965f4row1_col1 {\n",
       "            background-color:  #d8f0d2;\n",
       "            color:  #000000;\n",
       "        }    #T_3d68e19c_2ab4_11ec_946c_02420a3965f4row2_col1 {\n",
       "            background-color:  #ebf7e5;\n",
       "            color:  #000000;\n",
       "        }    #T_3d68e19c_2ab4_11ec_946c_02420a3965f4row3_col1 {\n",
       "            background-color:  #f4fbed;\n",
       "            color:  #000000;\n",
       "        }    #T_3d68e19c_2ab4_11ec_946c_02420a3965f4row4_col1 {\n",
       "            background-color:  #f5fbee;\n",
       "            color:  #000000;\n",
       "        }    #T_3d68e19c_2ab4_11ec_946c_02420a3965f4row5_col1 {\n",
       "            background-color:  #f6fcef;\n",
       "            color:  #000000;\n",
       "        }    #T_3d68e19c_2ab4_11ec_946c_02420a3965f4row6_col1 {\n",
       "            background-color:  #f6fcef;\n",
       "            color:  #000000;\n",
       "        }    #T_3d68e19c_2ab4_11ec_946c_02420a3965f4row7_col1 {\n",
       "            background-color:  #f7fcf0;\n",
       "            color:  #000000;\n",
       "        }    #T_3d68e19c_2ab4_11ec_946c_02420a3965f4row8_col1 {\n",
       "            background-color:  #f7fcf0;\n",
       "            color:  #000000;\n",
       "        }    #T_3d68e19c_2ab4_11ec_946c_02420a3965f4row9_col1 {\n",
       "            background-color:  #f7fcf0;\n",
       "            color:  #000000;\n",
       "        }</style><table id=\"T_3d68e19c_2ab4_11ec_946c_02420a3965f4\" ><thead>    <tr>        <th class=\"blank level0\" ></th>        <th class=\"col_heading level0 col0\" >city</th>        <th class=\"col_heading level0 col1\" >average_flights</th>    </tr></thead><tbody>\n",
       "                <tr>\n",
       "                        <th id=\"T_3d68e19c_2ab4_11ec_946c_02420a3965f4level0_row0\" class=\"row_heading level0 row0\" >43</th>\n",
       "                        <td id=\"T_3d68e19c_2ab4_11ec_946c_02420a3965f4row0_col0\" class=\"data row0 col0\" >Москва</td>\n",
       "                        <td id=\"T_3d68e19c_2ab4_11ec_946c_02420a3965f4row0_col1\" class=\"data row0 col1\" >129.774</td>\n",
       "            </tr>\n",
       "            <tr>\n",
       "                        <th id=\"T_3d68e19c_2ab4_11ec_946c_02420a3965f4level0_row1\" class=\"row_heading level0 row1\" >70</th>\n",
       "                        <td id=\"T_3d68e19c_2ab4_11ec_946c_02420a3965f4row1_col0\" class=\"data row1 col0\" >Санкт-Петербург</td>\n",
       "                        <td id=\"T_3d68e19c_2ab4_11ec_946c_02420a3965f4row1_col1\" class=\"data row1 col1\" >31.1613</td>\n",
       "            </tr>\n",
       "            <tr>\n",
       "                        <th id=\"T_3d68e19c_2ab4_11ec_946c_02420a3965f4level0_row2\" class=\"row_heading level0 row2\" >54</th>\n",
       "                        <td id=\"T_3d68e19c_2ab4_11ec_946c_02420a3965f4row2_col0\" class=\"data row2 col0\" >Новосибирск</td>\n",
       "                        <td id=\"T_3d68e19c_2ab4_11ec_946c_02420a3965f4row2_col1\" class=\"data row2 col1\" >17.3226</td>\n",
       "            </tr>\n",
       "            <tr>\n",
       "                        <th id=\"T_3d68e19c_2ab4_11ec_946c_02420a3965f4level0_row3\" class=\"row_heading level0 row3\" >33</th>\n",
       "                        <td id=\"T_3d68e19c_2ab4_11ec_946c_02420a3965f4row3_col0\" class=\"data row3 col0\" >Красноярск</td>\n",
       "                        <td id=\"T_3d68e19c_2ab4_11ec_946c_02420a3965f4row3_col1\" class=\"data row3 col1\" >11.5806</td>\n",
       "            </tr>\n",
       "            <tr>\n",
       "                        <th id=\"T_3d68e19c_2ab4_11ec_946c_02420a3965f4level0_row4\" class=\"row_heading level0 row4\" >20</th>\n",
       "                        <td id=\"T_3d68e19c_2ab4_11ec_946c_02420a3965f4row4_col0\" class=\"data row4 col0\" >Екатеринбург</td>\n",
       "                        <td id=\"T_3d68e19c_2ab4_11ec_946c_02420a3965f4row4_col1\" class=\"data row4 col1\" >11.3226</td>\n",
       "            </tr>\n",
       "            <tr>\n",
       "                        <th id=\"T_3d68e19c_2ab4_11ec_946c_02420a3965f4level0_row5\" class=\"row_heading level0 row5\" >67</th>\n",
       "                        <td id=\"T_3d68e19c_2ab4_11ec_946c_02420a3965f4row5_col0\" class=\"data row5 col0\" >Ростов-на-Дону</td>\n",
       "                        <td id=\"T_3d68e19c_2ab4_11ec_946c_02420a3965f4row5_col1\" class=\"data row5 col1\" >10.1935</td>\n",
       "            </tr>\n",
       "            <tr>\n",
       "                        <th id=\"T_3d68e19c_2ab4_11ec_946c_02420a3965f4level0_row6\" class=\"row_heading level0 row6\" >63</th>\n",
       "                        <td id=\"T_3d68e19c_2ab4_11ec_946c_02420a3965f4row6_col0\" class=\"data row6 col0\" >Пермь</td>\n",
       "                        <td id=\"T_3d68e19c_2ab4_11ec_946c_02420a3965f4row6_col1\" class=\"data row6 col1\" >10.129</td>\n",
       "            </tr>\n",
       "            <tr>\n",
       "                        <th id=\"T_3d68e19c_2ab4_11ec_946c_02420a3965f4level0_row7\" class=\"row_heading level0 row7\" >10</th>\n",
       "                        <td id=\"T_3d68e19c_2ab4_11ec_946c_02420a3965f4row7_col0\" class=\"data row7 col0\" >Брянск</td>\n",
       "                        <td id=\"T_3d68e19c_2ab4_11ec_946c_02420a3965f4row7_col1\" class=\"data row7 col1\" >10</td>\n",
       "            </tr>\n",
       "            <tr>\n",
       "                        <th id=\"T_3d68e19c_2ab4_11ec_946c_02420a3965f4level0_row8\" class=\"row_heading level0 row8\" >74</th>\n",
       "                        <td id=\"T_3d68e19c_2ab4_11ec_946c_02420a3965f4row8_col0\" class=\"data row8 col0\" >Сочи</td>\n",
       "                        <td id=\"T_3d68e19c_2ab4_11ec_946c_02420a3965f4row8_col1\" class=\"data row8 col1\" >9.6129</td>\n",
       "            </tr>\n",
       "            <tr>\n",
       "                        <th id=\"T_3d68e19c_2ab4_11ec_946c_02420a3965f4level0_row9\" class=\"row_heading level0 row9\" >84</th>\n",
       "                        <td id=\"T_3d68e19c_2ab4_11ec_946c_02420a3965f4row9_col0\" class=\"data row9 col0\" >Ульяновск</td>\n",
       "                        <td id=\"T_3d68e19c_2ab4_11ec_946c_02420a3965f4row9_col1\" class=\"data row9 col1\" >9.58065</td>\n",
       "            </tr>\n",
       "    </tbody></table>"
      ],
      "text/plain": [
       "<pandas.io.formats.style.Styler at 0x7f8d28a77610>"
      ]
     },
     "execution_count": 7,
     "metadata": {},
     "output_type": "execute_result"
    }
   ],
   "source": [
    "df_top10 = df_city.sort_values('average_flights', ascending=False).head(10)\n",
    "df_top10.style.background_gradient(cmap='GnBu')"
   ]
  },
  {
   "cell_type": "markdown",
   "metadata": {},
   "source": [
    "Результат подтверждает предыдущий график. Присутствуют два города с сильно отличающимися от остальных показателями, а именно **Москва** со значением **~130** рейсов в день и **Санкт-Петербург** со значениемм в **31** рейс в день, что соответствует \"пикам\" с прошлого графика.\n",
    "\n",
    "Нижняя граница топа находится на значении в районе **10 рейсов в день**, что тем не менее - больше среднего значения почти в 2 раза:"
   ]
  },
  {
   "cell_type": "code",
   "execution_count": 8,
   "metadata": {},
   "outputs": [
    {
     "data": {
      "text/plain": [
       "1.743777828299752"
      ]
     },
     "execution_count": 8,
     "metadata": {},
     "output_type": "execute_result"
    }
   ],
   "source": [
    "df_top10.iloc[-1]['average_flights'] / df_city['average_flights'].mean()"
   ]
  },
  {
   "cell_type": "markdown",
   "metadata": {},
   "source": [
    "Также получим и остальные значения в результате вывода метода `describe()`"
   ]
  },
  {
   "cell_type": "code",
   "execution_count": 9,
   "metadata": {
    "scrolled": false
   },
   "outputs": [
    {
     "data": {
      "text/plain": [
       "count    101.000000\n",
       "mean       5.494189\n",
       "std       13.119790\n",
       "min        1.000000\n",
       "25%        2.000000\n",
       "50%        3.000000\n",
       "75%        5.870968\n",
       "max      129.774194\n",
       "Name: average_flights, dtype: float64"
      ]
     },
     "execution_count": 9,
     "metadata": {},
     "output_type": "execute_result"
    }
   ],
   "source": [
    "df_city['average_flights'].describe()"
   ]
  },
  {
   "cell_type": "markdown",
   "metadata": {},
   "source": [
    "Минмальное количество рейсов в день составляет **1**, для следующих городов:"
   ]
  },
  {
   "cell_type": "code",
   "execution_count": 10,
   "metadata": {},
   "outputs": [
    {
     "data": {
      "text/html": [
       "<div>\n",
       "<style scoped>\n",
       "    .dataframe tbody tr th:only-of-type {\n",
       "        vertical-align: middle;\n",
       "    }\n",
       "\n",
       "    .dataframe tbody tr th {\n",
       "        vertical-align: top;\n",
       "    }\n",
       "\n",
       "    .dataframe thead th {\n",
       "        text-align: right;\n",
       "    }\n",
       "</style>\n",
       "<table border=\"1\" class=\"dataframe\">\n",
       "  <thead>\n",
       "    <tr style=\"text-align: right;\">\n",
       "      <th></th>\n",
       "      <th>city</th>\n",
       "      <th>average_flights</th>\n",
       "    </tr>\n",
       "  </thead>\n",
       "  <tbody>\n",
       "    <tr>\n",
       "      <td>1</td>\n",
       "      <td>Анадырь</td>\n",
       "      <td>1.0</td>\n",
       "    </tr>\n",
       "    <tr>\n",
       "      <td>8</td>\n",
       "      <td>Благовещенск</td>\n",
       "      <td>1.0</td>\n",
       "    </tr>\n",
       "    <tr>\n",
       "      <td>9</td>\n",
       "      <td>Братск</td>\n",
       "      <td>1.0</td>\n",
       "    </tr>\n",
       "    <tr>\n",
       "      <td>21</td>\n",
       "      <td>Иваново</td>\n",
       "      <td>1.0</td>\n",
       "    </tr>\n",
       "    <tr>\n",
       "      <td>22</td>\n",
       "      <td>Ижевск</td>\n",
       "      <td>1.0</td>\n",
       "    </tr>\n",
       "    <tr>\n",
       "      <td>31</td>\n",
       "      <td>Комсомольск-на-Амуре</td>\n",
       "      <td>1.0</td>\n",
       "    </tr>\n",
       "    <tr>\n",
       "      <td>49</td>\n",
       "      <td>Нефтеюганск</td>\n",
       "      <td>1.0</td>\n",
       "    </tr>\n",
       "    <tr>\n",
       "      <td>58</td>\n",
       "      <td>Нягань</td>\n",
       "      <td>1.0</td>\n",
       "    </tr>\n",
       "    <tr>\n",
       "      <td>65</td>\n",
       "      <td>Петропавловск-Камчатский</td>\n",
       "      <td>1.0</td>\n",
       "    </tr>\n",
       "    <tr>\n",
       "      <td>76</td>\n",
       "      <td>Стрежевой</td>\n",
       "      <td>1.0</td>\n",
       "    </tr>\n",
       "    <tr>\n",
       "      <td>86</td>\n",
       "      <td>Усинск</td>\n",
       "      <td>1.0</td>\n",
       "    </tr>\n",
       "    <tr>\n",
       "      <td>88</td>\n",
       "      <td>Усть-Кут</td>\n",
       "      <td>1.0</td>\n",
       "    </tr>\n",
       "  </tbody>\n",
       "</table>\n",
       "</div>"
      ],
      "text/plain": [
       "                        city  average_flights\n",
       "1                    Анадырь              1.0\n",
       "8               Благовещенск              1.0\n",
       "9                     Братск              1.0\n",
       "21                   Иваново              1.0\n",
       "22                    Ижевск              1.0\n",
       "31      Комсомольск-на-Амуре              1.0\n",
       "49               Нефтеюганск              1.0\n",
       "58                    Нягань              1.0\n",
       "65  Петропавловск-Камчатский              1.0\n",
       "76                 Стрежевой              1.0\n",
       "86                    Усинск              1.0\n",
       "88                  Усть-Кут              1.0"
      ]
     },
     "execution_count": 10,
     "metadata": {},
     "output_type": "execute_result"
    }
   ],
   "source": [
    "df_city[df_city['average_flights'] == 1]"
   ]
  },
  {
   "cell_type": "markdown",
   "metadata": {},
   "source": [
    "Построим также график \"топ-10\""
   ]
  },
  {
   "cell_type": "code",
   "execution_count": 11,
   "metadata": {},
   "outputs": [
    {
     "data": {
      "image/png": "[encoded data removed]",
      "text/plain": [
       "<Figure size 1224x432 with 1 Axes>"
      ]
     },
     "metadata": {
      "needs_background": "light"
     },
     "output_type": "display_data"
    }
   ],
   "source": [
    "df_top10.plot(\n",
    "    kind='barh',\n",
    "    x='city',\n",
    "    figsize=(17,6),\n",
    "    grid=True,\n",
    "    title='Топ-10 городов и количество рейсов',\n",
    "    legend=False)\n",
    "\n",
    "plt.xlabel('Среднее количество рейсов')\n",
    "plt.ylabel('Города')\n",
    "plt.tight_layout()"
   ]
  },
  {
   "cell_type": "markdown",
   "metadata": {},
   "source": [
    "**ВЫВОД**:\n",
    "\n",
    "- Присутствуют два города с сильно отличающимися от остальных показателями, а именно **Москва** со значением **~130 рейсов в день** и **Санкт-Петербург** со значениемм в **31 рейс в день**;\n",
    "- Нижняя граница \"топ-10\" находится на отметке **~10 рейсов в день**, что больше среднего значения почти в 2 раза;\n",
    "- Минимальное количество рейсов составялет - **1 рейс в день**.\n",
    "\n",
    "---\n",
    "\n",
    "### Рейсы по моделям самолётов\n",
    "\n",
    "Построим график типа barplot, показывающий количество рейсов, приходящиеся на каждую модель самолёта."
   ]
  },
  {
   "cell_type": "code",
   "execution_count": 12,
   "metadata": {},
   "outputs": [
    {
     "data": {
      "image/png": "[encoded data removed]",
      "text/plain": [
       "<Figure size 1224x288 with 1 Axes>"
      ]
     },
     "metadata": {
      "needs_background": "light"
     },
     "output_type": "display_data"
    }
   ],
   "source": [
    "df_model.plot(\n",
    "    kind='barh',\n",
    "    figsize=(17,4),\n",
    "    grid=True,\n",
    "    x='model',\n",
    "    legend=False,\n",
    "    title='Модели самолётов и количество рейсов')\n",
    "\n",
    "plt.xlabel('Количество рейсов')\n",
    "plt.ylabel('Модель самолёта')\n",
    "plt.tight_layout()"
   ]
  },
  {
   "cell_type": "markdown",
   "metadata": {},
   "source": [
    "Наблюдается значительный отрыв в количестве перевозок у трёх моделей самолётов ***Bombardier CRJ-200***, ***Cessna 208 Caravan*** и ***Sukhoi SuperJet-100***, отличающихся малой пассажировместимостью, от 13 у Cessna, до 98 у СуперДжета, что предполагает их использование для региональных перелётов (на меньшие расстояния).\n",
    "\n",
    "Оценим количество людей, которые могли быть перевезены при максимальной загрузке, для этого добавим справочное значение количества посадочных мест по моделям, и максимальное теоретическое количество пассажиров."
   ]
  },
  {
   "cell_type": "code",
   "execution_count": 13,
   "metadata": {},
   "outputs": [
    {
     "data": {
      "text/html": [
       "<div>\n",
       "<style scoped>\n",
       "    .dataframe tbody tr th:only-of-type {\n",
       "        vertical-align: middle;\n",
       "    }\n",
       "\n",
       "    .dataframe tbody tr th {\n",
       "        vertical-align: top;\n",
       "    }\n",
       "\n",
       "    .dataframe thead th {\n",
       "        text-align: right;\n",
       "    }\n",
       "</style>\n",
       "<table border=\"1\" class=\"dataframe\">\n",
       "  <thead>\n",
       "    <tr style=\"text-align: right;\">\n",
       "      <th></th>\n",
       "      <th>model</th>\n",
       "      <th>flights_amount</th>\n",
       "      <th>seats</th>\n",
       "      <th>passengers</th>\n",
       "    </tr>\n",
       "  </thead>\n",
       "  <tbody>\n",
       "    <tr>\n",
       "      <td>0</td>\n",
       "      <td>Airbus A319-100</td>\n",
       "      <td>607</td>\n",
       "      <td>134</td>\n",
       "      <td>81338</td>\n",
       "    </tr>\n",
       "    <tr>\n",
       "      <td>1</td>\n",
       "      <td>Airbus A321-200</td>\n",
       "      <td>960</td>\n",
       "      <td>185</td>\n",
       "      <td>177600</td>\n",
       "    </tr>\n",
       "    <tr>\n",
       "      <td>2</td>\n",
       "      <td>Boeing 737-300</td>\n",
       "      <td>630</td>\n",
       "      <td>147</td>\n",
       "      <td>92610</td>\n",
       "    </tr>\n",
       "    <tr>\n",
       "      <td>3</td>\n",
       "      <td>Boeing 767-300</td>\n",
       "      <td>600</td>\n",
       "      <td>261</td>\n",
       "      <td>156600</td>\n",
       "    </tr>\n",
       "    <tr>\n",
       "      <td>4</td>\n",
       "      <td>Boeing 777-300</td>\n",
       "      <td>300</td>\n",
       "      <td>451</td>\n",
       "      <td>135300</td>\n",
       "    </tr>\n",
       "    <tr>\n",
       "      <td>5</td>\n",
       "      <td>Bombardier CRJ-200</td>\n",
       "      <td>4446</td>\n",
       "      <td>50</td>\n",
       "      <td>222300</td>\n",
       "    </tr>\n",
       "    <tr>\n",
       "      <td>6</td>\n",
       "      <td>Cessna 208 Caravan</td>\n",
       "      <td>4557</td>\n",
       "      <td>13</td>\n",
       "      <td>59241</td>\n",
       "    </tr>\n",
       "    <tr>\n",
       "      <td>7</td>\n",
       "      <td>Sukhoi SuperJet-100</td>\n",
       "      <td>4185</td>\n",
       "      <td>98</td>\n",
       "      <td>410130</td>\n",
       "    </tr>\n",
       "  </tbody>\n",
       "</table>\n",
       "</div>"
      ],
      "text/plain": [
       "                 model  flights_amount  seats  passengers\n",
       "0      Airbus A319-100             607    134       81338\n",
       "1      Airbus A321-200             960    185      177600\n",
       "2       Boeing 737-300             630    147       92610\n",
       "3       Boeing 767-300             600    261      156600\n",
       "4       Boeing 777-300             300    451      135300\n",
       "5   Bombardier CRJ-200            4446     50      222300\n",
       "6   Cessna 208 Caravan            4557     13       59241\n",
       "7  Sukhoi SuperJet-100            4185     98      410130"
      ]
     },
     "execution_count": 13,
     "metadata": {},
     "output_type": "execute_result"
    }
   ],
   "source": [
    "df_model['seats'] = pd.Series([134,185,147,261,451,50,13,98])\n",
    "df_model['passengers'] = df_model['seats'] * df_model['flights_amount']\n",
    "df_model"
   ]
  },
  {
   "cell_type": "code",
   "execution_count": 14,
   "metadata": {},
   "outputs": [
    {
     "data": {
      "image/png": "[encoded data removed]",
      "text/plain": [
       "<Figure size 1224x288 with 1 Axes>"
      ]
     },
     "metadata": {
      "needs_background": "light"
     },
     "output_type": "display_data"
    }
   ],
   "source": [
    "df_model.sort_values('passengers').plot(\n",
    "    kind='barh',\n",
    "    figsize=(17,4),\n",
    "    grid=True,\n",
    "    x='model',\n",
    "    y='passengers',\n",
    "    legend=False,\n",
    "    title='Модели самолётов и количество перевозимых людей')\n",
    "\n",
    "plt.xlabel('Максимальное теоретическое количество пассажиров')\n",
    "plt.ylabel('Модель самолёта')\n",
    "plt.tight_layout()"
   ]
  },
  {
   "cell_type": "markdown",
   "metadata": {},
   "source": [
    "В этом случае ***Cessna 208 Caravan*** из-за своей малой вместимости отходит на последнее место, но лидерство региональных перевозок на ***Bombardier CRJ-200*** и ***Sukhoi SuperJet-100*** остаётся несомненным."
   ]
  },
  {
   "cell_type": "markdown",
   "metadata": {},
   "source": [
    "**ВЫВОД**:\n",
    "- основные совершаемые перевозки - региональные, т.е. внутри страны на небольшие расстояния;\n",
    "- при намного меньшем количестве дальних рейсов (\"больших\" самолётов), теоретическое количество перевозимых таких образом пассажиров сопоставимо с региональными перевозками. "
   ]
  },
  {
   "cell_type": "markdown",
   "metadata": {},
   "source": [
    "## Вывод\n",
    "\n",
    "Данные проанализированы, со следующими результатам:\n",
    "\n",
    "- Рейсы по **городам**:\n",
    "  - Присутствуют два города с сильно отличающимися от остальных показателями, а именно **Москва** со значением **~130 рейсов в день** и **Санкт-Петербург** со значением в **~30 рейс в день**;\n",
    "  - Нижняя граница \"топ-10\" городов по рейсам находится на отметке **~10 рейсов в день**, что больше среднего значения в 1.7 раза;\n",
    "  - Минимальное количество рейсов составялет - **1 рейс в день**;\n",
    "  \n",
    "  \n",
    "- Перевозки по **моделям самолётов**:\n",
    "  - Наблюдается значительный отрыв в количестве перевозок у моделей самолётов, расчитанные на региональные перелёты (*Bombardier CRJ-200, Cessna 208 Caravan и Sukhoi SuperJet-100*), отличающихся малой пассажировместимостью;\n",
    "  - При намного меньшем количестве дальних рейсов (\"больших\" самолётов), общее теоретическое количество перевозимых таких образом пассажиров сопоставимо с региональными перевозками;\n",
    "  \n",
    "  \n",
    "- С точки зрения поставленной задачи (анализ спрос пассажиров в города с фестивалями):\n",
    "  - Точную взаимосвязь трафика с фестивалями установить невозможно, в связи с отсутсвием доступа ко всем данным;\n",
    "  - Основываясь на существующих сведениях можно установить:\n",
    "    - что большая часть всех перемещений связано традиционно со столицами (Москва и СПб);\n",
    "    - большое количество региональных перелётов показывает, что возможные посетители фестивалей с большей вероятностью полетят в соседий город, а не на другой конец страны;\n",
    "  - При сопоставлении двух вышеуказанных фактов - наиболее выгодный с точки зрения авиаперевозчика (условной авиакомпании ***F9***) сценарий развития событий - фестивали в городах из \"топ 10\"."
   ]
  }
 ],
 "metadata": {
  "ExecuteTimeLog": [
   {
    "duration": 522,
    "start_time": "2021-10-11T05:14:02.416Z"
   },
   {
    "duration": 762,
    "start_time": "2021-10-11T05:14:04.128Z"
   },
   {
    "duration": 2764,
    "start_time": "2021-10-11T05:14:05.739Z"
   },
   {
    "duration": 311,
    "start_time": "2021-10-11T05:14:17.384Z"
   },
   {
    "duration": 2061,
    "start_time": "2021-10-11T05:14:22.768Z"
   },
   {
    "duration": 2081,
    "start_time": "2021-10-11T05:14:34.813Z"
   },
   {
    "duration": 2515,
    "start_time": "2021-10-11T05:14:38.439Z"
   },
   {
    "duration": 2068,
    "start_time": "2021-10-11T05:14:43.341Z"
   },
   {
    "duration": 2242,
    "start_time": "2021-10-11T05:15:49.332Z"
   },
   {
    "duration": 277,
    "start_time": "2021-10-11T05:15:58.069Z"
   },
   {
    "duration": 2116,
    "start_time": "2021-10-11T05:16:04.135Z"
   },
   {
    "duration": 3,
    "start_time": "2021-10-11T05:16:14.343Z"
   },
   {
    "duration": 372,
    "start_time": "2021-10-11T05:16:36.455Z"
   },
   {
    "duration": 55,
    "start_time": "2021-10-11T05:16:41.995Z"
   },
   {
    "duration": 83,
    "start_time": "2021-10-11T05:16:58.642Z"
   },
   {
    "duration": 108,
    "start_time": "2021-10-11T05:17:00.717Z"
   },
   {
    "duration": 52,
    "start_time": "2021-10-11T05:17:05.289Z"
   },
   {
    "duration": 56,
    "start_time": "2021-10-11T05:17:07.602Z"
   },
   {
    "duration": 5,
    "start_time": "2021-10-11T05:17:25.556Z"
   },
   {
    "duration": 102,
    "start_time": "2021-10-11T05:17:36.321Z"
   },
   {
    "duration": 24,
    "start_time": "2021-10-11T05:18:08.672Z"
   },
   {
    "duration": 26,
    "start_time": "2021-10-11T05:18:44.966Z"
   },
   {
    "duration": 16,
    "start_time": "2021-10-11T05:18:53.454Z"
   },
   {
    "duration": 16,
    "start_time": "2021-10-11T05:18:54.826Z"
   },
   {
    "duration": 22,
    "start_time": "2021-10-11T05:18:58.986Z"
   },
   {
    "duration": 26,
    "start_time": "2021-10-11T05:19:03.184Z"
   },
   {
    "duration": 22,
    "start_time": "2021-10-11T05:19:09.341Z"
   },
   {
    "duration": 727,
    "start_time": "2021-10-11T05:19:16.905Z"
   },
   {
    "duration": 35,
    "start_time": "2021-10-11T05:19:17.635Z"
   },
   {
    "duration": 23,
    "start_time": "2021-10-11T05:19:17.673Z"
   },
   {
    "duration": 92,
    "start_time": "2021-10-11T05:23:00.774Z"
   },
   {
    "duration": 9,
    "start_time": "2021-10-11T05:23:50.258Z"
   },
   {
    "duration": 26,
    "start_time": "2021-10-11T05:24:35.586Z"
   },
   {
    "duration": 9,
    "start_time": "2021-10-11T05:24:51.539Z"
   },
   {
    "duration": 8,
    "start_time": "2021-10-11T05:25:07.370Z"
   },
   {
    "duration": 9,
    "start_time": "2021-10-11T05:25:27.357Z"
   },
   {
    "duration": 8,
    "start_time": "2021-10-11T05:26:26.250Z"
   },
   {
    "duration": 8,
    "start_time": "2021-10-11T05:26:32.664Z"
   },
   {
    "duration": 7,
    "start_time": "2021-10-11T05:30:22.496Z"
   },
   {
    "duration": 7,
    "start_time": "2021-10-11T05:30:25.456Z"
   },
   {
    "duration": 398,
    "start_time": "2021-10-11T05:30:27.832Z"
   },
   {
    "duration": 5,
    "start_time": "2021-10-11T05:30:29.886Z"
   },
   {
    "duration": 386,
    "start_time": "2021-10-11T05:48:24.862Z"
   },
   {
    "duration": 282,
    "start_time": "2021-10-11T05:48:34.073Z"
   },
   {
    "duration": 16,
    "start_time": "2021-10-11T05:49:35.544Z"
   },
   {
    "duration": 12,
    "start_time": "2021-10-11T05:49:46.736Z"
   },
   {
    "duration": 7,
    "start_time": "2021-10-11T05:50:38.357Z"
   },
   {
    "duration": 11,
    "start_time": "2021-10-11T05:50:44.975Z"
   },
   {
    "duration": 9,
    "start_time": "2021-10-11T05:51:11.512Z"
   },
   {
    "duration": 19,
    "start_time": "2021-10-11T05:51:13.412Z"
   },
   {
    "duration": 304,
    "start_time": "2021-10-11T05:52:00.003Z"
   },
   {
    "duration": 259,
    "start_time": "2021-10-11T05:52:07.088Z"
   },
   {
    "duration": 686,
    "start_time": "2021-10-11T05:52:11.896Z"
   },
   {
    "duration": 268,
    "start_time": "2021-10-11T05:52:15.179Z"
   },
   {
    "duration": 15,
    "start_time": "2021-10-11T05:52:32.756Z"
   },
   {
    "duration": 14,
    "start_time": "2021-10-11T05:52:40.005Z"
   },
   {
    "duration": 14,
    "start_time": "2021-10-11T05:52:42.936Z"
   },
   {
    "duration": 13,
    "start_time": "2021-10-11T05:52:47.389Z"
   },
   {
    "duration": 319,
    "start_time": "2021-10-11T05:53:32.754Z"
   },
   {
    "duration": 339,
    "start_time": "2021-10-11T05:53:40.497Z"
   },
   {
    "duration": 285,
    "start_time": "2021-10-11T05:53:51.246Z"
   },
   {
    "duration": 295,
    "start_time": "2021-10-11T05:53:57.662Z"
   },
   {
    "duration": 310,
    "start_time": "2021-10-11T05:54:36.880Z"
   },
   {
    "duration": 381,
    "start_time": "2021-10-11T05:55:00.232Z"
   },
   {
    "duration": 461,
    "start_time": "2021-10-11T05:55:04.156Z"
   },
   {
    "duration": 457,
    "start_time": "2021-10-11T05:55:16.860Z"
   },
   {
    "duration": 467,
    "start_time": "2021-10-11T05:55:20.863Z"
   },
   {
    "duration": 586,
    "start_time": "2021-10-11T05:55:47.369Z"
   },
   {
    "duration": 4,
    "start_time": "2021-10-11T05:56:00.449Z"
   },
   {
    "duration": 446,
    "start_time": "2021-10-11T05:56:05.565Z"
   },
   {
    "duration": 454,
    "start_time": "2021-10-11T05:56:24.631Z"
   },
   {
    "duration": 680,
    "start_time": "2021-10-11T05:57:05.587Z"
   },
   {
    "duration": 555,
    "start_time": "2021-10-11T05:57:56.844Z"
   },
   {
    "duration": 480,
    "start_time": "2021-10-11T05:58:12.085Z"
   },
   {
    "duration": 463,
    "start_time": "2021-10-11T05:58:56.678Z"
   },
   {
    "duration": 82,
    "start_time": "2021-10-11T05:59:04.857Z"
   },
   {
    "duration": 475,
    "start_time": "2021-10-11T05:59:07.987Z"
   },
   {
    "duration": 466,
    "start_time": "2021-10-11T05:59:24.698Z"
   },
   {
    "duration": 481,
    "start_time": "2021-10-11T05:59:42.752Z"
   },
   {
    "duration": 481,
    "start_time": "2021-10-11T05:59:55.123Z"
   },
   {
    "duration": 518,
    "start_time": "2021-10-11T06:00:03.191Z"
   },
   {
    "duration": 465,
    "start_time": "2021-10-11T06:00:08.635Z"
   },
   {
    "duration": 482,
    "start_time": "2021-10-11T06:00:17.428Z"
   },
   {
    "duration": 475,
    "start_time": "2021-10-11T06:00:34.577Z"
   },
   {
    "duration": 548,
    "start_time": "2021-10-11T06:00:37.492Z"
   },
   {
    "duration": 446,
    "start_time": "2021-10-11T06:00:45.417Z"
   },
   {
    "duration": 447,
    "start_time": "2021-10-11T06:01:15.872Z"
   },
   {
    "duration": 413,
    "start_time": "2021-10-11T06:01:41.484Z"
   },
   {
    "duration": 400,
    "start_time": "2021-10-11T06:01:43.348Z"
   },
   {
    "duration": 344,
    "start_time": "2021-10-11T06:01:47.540Z"
   },
   {
    "duration": 340,
    "start_time": "2021-10-11T06:01:48.912Z"
   },
   {
    "duration": 356,
    "start_time": "2021-10-11T06:01:54.066Z"
   },
   {
    "duration": 353,
    "start_time": "2021-10-11T06:01:58.544Z"
   },
   {
    "duration": 359,
    "start_time": "2021-10-11T06:02:07.593Z"
   },
   {
    "duration": 352,
    "start_time": "2021-10-11T06:02:14.379Z"
   },
   {
    "duration": 371,
    "start_time": "2021-10-11T06:02:15.573Z"
   },
   {
    "duration": 674,
    "start_time": "2021-10-11T06:02:40.486Z"
   },
   {
    "duration": 359,
    "start_time": "2021-10-11T06:02:47.601Z"
   },
   {
    "duration": 362,
    "start_time": "2021-10-11T06:02:54.835Z"
   },
   {
    "duration": 371,
    "start_time": "2021-10-11T06:03:00.960Z"
   },
   {
    "duration": 357,
    "start_time": "2021-10-11T06:04:02.727Z"
   },
   {
    "duration": 309,
    "start_time": "2021-10-11T06:04:11.884Z"
   },
   {
    "duration": 336,
    "start_time": "2021-10-11T06:04:28.263Z"
   },
   {
    "duration": 390,
    "start_time": "2021-10-11T06:04:37.566Z"
   },
   {
    "duration": 363,
    "start_time": "2021-10-11T06:04:44.915Z"
   },
   {
    "duration": 387,
    "start_time": "2021-10-11T06:05:14.234Z"
   },
   {
    "duration": 348,
    "start_time": "2021-10-11T06:05:25.643Z"
   },
   {
    "duration": 500,
    "start_time": "2021-10-11T06:05:59.918Z"
   },
   {
    "duration": 341,
    "start_time": "2021-10-11T06:06:07.233Z"
   },
   {
    "duration": 643,
    "start_time": "2021-10-11T06:06:21.255Z"
   },
   {
    "duration": 554,
    "start_time": "2021-10-11T06:10:18.004Z"
   },
   {
    "duration": 263,
    "start_time": "2021-10-11T06:10:21.785Z"
   },
   {
    "duration": 274,
    "start_time": "2021-10-11T06:10:24.589Z"
   },
   {
    "duration": 298,
    "start_time": "2021-10-11T06:10:34.922Z"
   },
   {
    "duration": 414,
    "start_time": "2021-10-11T06:10:49.194Z"
   },
   {
    "duration": 1345,
    "start_time": "2021-10-11T06:10:51.541Z"
   },
   {
    "duration": 1086,
    "start_time": "2021-10-11T06:10:58.527Z"
   },
   {
    "duration": 468,
    "start_time": "2021-10-11T06:11:08.159Z"
   },
   {
    "duration": 1751,
    "start_time": "2021-10-11T07:16:59.793Z"
   },
   {
    "duration": 489,
    "start_time": "2021-10-11T07:17:23.529Z"
   },
   {
    "duration": 1748,
    "start_time": "2021-10-11T07:17:25.936Z"
   },
   {
    "duration": 1861,
    "start_time": "2021-10-11T07:17:32.974Z"
   },
   {
    "duration": 82,
    "start_time": "2021-10-11T07:17:46.229Z"
   },
   {
    "duration": 286,
    "start_time": "2021-10-11T07:17:49.108Z"
   },
   {
    "duration": 334,
    "start_time": "2021-10-11T07:17:53.826Z"
   },
   {
    "duration": 365,
    "start_time": "2021-10-11T07:19:10.681Z"
   },
   {
    "duration": 742,
    "start_time": "2021-10-11T07:19:23.581Z"
   },
   {
    "duration": 625,
    "start_time": "2021-10-11T07:19:32.899Z"
   },
   {
    "duration": 647,
    "start_time": "2021-10-11T07:19:35.224Z"
   },
   {
    "duration": 627,
    "start_time": "2021-10-11T07:19:45.073Z"
   },
   {
    "duration": 580,
    "start_time": "2021-10-11T07:19:47.309Z"
   },
   {
    "duration": 589,
    "start_time": "2021-10-11T07:19:50.123Z"
   },
   {
    "duration": 7,
    "start_time": "2021-10-11T07:20:02.446Z"
   },
   {
    "duration": 8,
    "start_time": "2021-10-11T07:20:05.038Z"
   },
   {
    "duration": 510,
    "start_time": "2021-10-11T07:20:12.225Z"
   },
   {
    "duration": 647,
    "start_time": "2021-10-11T07:20:14.051Z"
   },
   {
    "duration": 632,
    "start_time": "2021-10-11T07:20:25.175Z"
   },
   {
    "duration": 632,
    "start_time": "2021-10-11T07:20:28.696Z"
   },
   {
    "duration": 331,
    "start_time": "2021-10-11T07:20:35.036Z"
   },
   {
    "duration": 358,
    "start_time": "2021-10-11T07:20:52.762Z"
   },
   {
    "duration": 475,
    "start_time": "2021-10-11T07:21:07.618Z"
   },
   {
    "duration": 350,
    "start_time": "2021-10-11T07:21:31.526Z"
   },
   {
    "duration": 334,
    "start_time": "2021-10-11T07:21:39.244Z"
   },
   {
    "duration": 6,
    "start_time": "2021-10-11T07:44:21.132Z"
   },
   {
    "duration": 13,
    "start_time": "2021-10-11T07:44:24.186Z"
   },
   {
    "duration": 14,
    "start_time": "2021-10-11T07:45:37.707Z"
   },
   {
    "duration": 7,
    "start_time": "2021-10-11T07:55:36.510Z"
   },
   {
    "duration": 6,
    "start_time": "2021-10-11T07:55:41.474Z"
   },
   {
    "duration": 7,
    "start_time": "2021-10-11T07:55:44.107Z"
   },
   {
    "duration": 7573,
    "start_time": "2021-10-11T07:56:26.418Z"
   },
   {
    "duration": 6844,
    "start_time": "2021-10-11T07:56:34.321Z"
   },
   {
    "duration": 7,
    "start_time": "2021-10-11T07:56:47.482Z"
   },
   {
    "duration": 6,
    "start_time": "2021-10-11T07:56:51.603Z"
   },
   {
    "duration": 7,
    "start_time": "2021-10-11T07:56:54.861Z"
   },
   {
    "duration": 7,
    "start_time": "2021-10-11T07:56:57.159Z"
   },
   {
    "duration": 7,
    "start_time": "2021-10-11T07:57:00.617Z"
   },
   {
    "duration": 6,
    "start_time": "2021-10-11T08:10:10.272Z"
   },
   {
    "duration": 6,
    "start_time": "2021-10-11T08:10:19.819Z"
   },
   {
    "duration": 615,
    "start_time": "2021-10-11T08:37:28.246Z"
   },
   {
    "duration": 330,
    "start_time": "2021-10-11T08:37:40.014Z"
   },
   {
    "duration": 945,
    "start_time": "2021-10-11T08:39:14.580Z"
   },
   {
    "duration": 27,
    "start_time": "2021-10-11T08:39:15.527Z"
   },
   {
    "duration": 32,
    "start_time": "2021-10-11T08:39:15.560Z"
   },
   {
    "duration": 9,
    "start_time": "2021-10-11T08:39:15.594Z"
   },
   {
    "duration": 9,
    "start_time": "2021-10-11T08:39:15.605Z"
   },
   {
    "duration": 387,
    "start_time": "2021-10-11T08:39:15.617Z"
   },
   {
    "duration": 12,
    "start_time": "2021-10-11T08:39:16.006Z"
   },
   {
    "duration": 7,
    "start_time": "2021-10-11T08:39:16.022Z"
   },
   {
    "duration": 702,
    "start_time": "2021-10-11T08:39:16.032Z"
   },
   {
    "duration": 562,
    "start_time": "2021-10-11T08:39:16.736Z"
   },
   {
    "duration": 11,
    "start_time": "2021-10-11T08:42:05.566Z"
   },
   {
    "duration": 13,
    "start_time": "2021-10-11T08:44:45.150Z"
   },
   {
    "duration": 12,
    "start_time": "2021-10-11T08:45:23.708Z"
   },
   {
    "duration": 9,
    "start_time": "2021-10-11T08:49:53.667Z"
   },
   {
    "duration": 7,
    "start_time": "2021-10-11T08:56:25.078Z"
   },
   {
    "duration": 12,
    "start_time": "2021-10-11T08:56:39.823Z"
   },
   {
    "duration": 7,
    "start_time": "2021-10-11T08:57:35.376Z"
   },
   {
    "duration": 13,
    "start_time": "2021-10-11T08:59:32.792Z"
   },
   {
    "duration": 606,
    "start_time": "2021-10-11T08:59:43.482Z"
   },
   {
    "duration": 601,
    "start_time": "2021-10-11T09:00:00.796Z"
   },
   {
    "duration": 544,
    "start_time": "2021-10-11T09:00:17.803Z"
   },
   {
    "duration": 557,
    "start_time": "2021-10-11T09:00:39.989Z"
   },
   {
    "duration": 19,
    "start_time": "2021-10-11T09:02:07.966Z"
   },
   {
    "duration": 572,
    "start_time": "2021-10-11T09:02:08.880Z"
   },
   {
    "duration": 579,
    "start_time": "2021-10-11T09:04:51.477Z"
   },
   {
    "duration": 852,
    "start_time": "2021-10-11T09:14:41.688Z"
   },
   {
    "duration": 27,
    "start_time": "2021-10-11T09:14:42.543Z"
   },
   {
    "duration": 26,
    "start_time": "2021-10-11T09:14:42.574Z"
   },
   {
    "duration": 8,
    "start_time": "2021-10-11T09:14:42.603Z"
   },
   {
    "duration": 11,
    "start_time": "2021-10-11T09:14:42.613Z"
   },
   {
    "duration": 378,
    "start_time": "2021-10-11T09:14:42.626Z"
   },
   {
    "duration": 12,
    "start_time": "2021-10-11T09:14:43.007Z"
   },
   {
    "duration": 7,
    "start_time": "2021-10-11T09:14:43.021Z"
   },
   {
    "duration": 44,
    "start_time": "2021-10-11T09:14:43.031Z"
   },
   {
    "duration": 13,
    "start_time": "2021-10-11T09:14:43.078Z"
   },
   {
    "duration": 622,
    "start_time": "2021-10-11T09:14:43.093Z"
   },
   {
    "duration": 517,
    "start_time": "2021-10-11T09:14:43.718Z"
   },
   {
    "duration": 30,
    "start_time": "2021-10-11T09:14:44.237Z"
   },
   {
    "duration": 608,
    "start_time": "2021-10-11T09:14:44.269Z"
   },
   {
    "duration": 926,
    "start_time": "2021-10-11T16:08:09.429Z"
   },
   {
    "duration": 27,
    "start_time": "2021-10-11T16:08:10.358Z"
   },
   {
    "duration": 26,
    "start_time": "2021-10-11T16:08:10.389Z"
   },
   {
    "duration": 14,
    "start_time": "2021-10-11T16:08:10.418Z"
   },
   {
    "duration": 9,
    "start_time": "2021-10-11T16:08:10.435Z"
   },
   {
    "duration": 364,
    "start_time": "2021-10-11T16:08:10.447Z"
   },
   {
    "duration": 2893,
    "start_time": "2021-10-11T16:08:10.813Z"
   },
   {
    "duration": 12,
    "start_time": "2021-10-11T16:08:13.710Z"
   },
   {
    "duration": 6,
    "start_time": "2021-10-11T16:08:13.725Z"
   },
   {
    "duration": 38,
    "start_time": "2021-10-11T16:08:13.734Z"
   },
   {
    "duration": 15,
    "start_time": "2021-10-11T16:08:13.774Z"
   },
   {
    "duration": 719,
    "start_time": "2021-10-11T16:08:13.791Z"
   },
   {
    "duration": 514,
    "start_time": "2021-10-11T16:08:14.512Z"
   },
   {
    "duration": 18,
    "start_time": "2021-10-11T16:08:15.029Z"
   },
   {
    "duration": 605,
    "start_time": "2021-10-11T16:08:15.049Z"
   },
   {
    "duration": 3314,
    "start_time": "2021-10-11T16:11:47.002Z"
   },
   {
    "duration": 2588,
    "start_time": "2021-10-11T16:11:57.283Z"
   },
   {
    "duration": 3340,
    "start_time": "2021-10-11T16:12:09.812Z"
   },
   {
    "duration": 3241,
    "start_time": "2021-10-11T16:13:05.627Z"
   },
   {
    "duration": 3251,
    "start_time": "2021-10-11T16:13:16.829Z"
   },
   {
    "duration": 879,
    "start_time": "2021-10-11T16:55:44.727Z"
   },
   {
    "duration": 27,
    "start_time": "2021-10-11T16:55:45.609Z"
   },
   {
    "duration": 35,
    "start_time": "2021-10-11T16:55:45.640Z"
   },
   {
    "duration": 12,
    "start_time": "2021-10-11T16:55:45.678Z"
   },
   {
    "duration": 15,
    "start_time": "2021-10-11T16:55:45.692Z"
   },
   {
    "duration": 3415,
    "start_time": "2021-10-11T16:55:45.710Z"
   },
   {
    "duration": 11,
    "start_time": "2021-10-11T16:55:49.128Z"
   },
   {
    "duration": 35,
    "start_time": "2021-10-11T16:55:49.144Z"
   },
   {
    "duration": 10,
    "start_time": "2021-10-11T16:55:49.182Z"
   },
   {
    "duration": 12,
    "start_time": "2021-10-11T16:55:49.195Z"
   },
   {
    "duration": 723,
    "start_time": "2021-10-11T16:55:49.209Z"
   },
   {
    "duration": 543,
    "start_time": "2021-10-11T16:55:49.934Z"
   },
   {
    "duration": 23,
    "start_time": "2021-10-11T16:55:50.480Z"
   },
   {
    "duration": 633,
    "start_time": "2021-10-11T16:55:50.505Z"
   },
   {
    "duration": 697,
    "start_time": "2021-10-11T16:56:32.358Z"
   },
   {
    "duration": 903,
    "start_time": "2021-10-11T16:56:50.282Z"
   },
   {
    "duration": 28,
    "start_time": "2021-10-11T16:56:51.188Z"
   },
   {
    "duration": 28,
    "start_time": "2021-10-11T16:56:51.219Z"
   },
   {
    "duration": 18,
    "start_time": "2021-10-11T16:56:51.249Z"
   },
   {
    "duration": 17,
    "start_time": "2021-10-11T16:56:51.270Z"
   },
   {
    "duration": 3420,
    "start_time": "2021-10-11T16:56:51.289Z"
   },
   {
    "duration": 737,
    "start_time": "2021-10-11T16:56:54.712Z"
   },
   {
    "duration": 7,
    "start_time": "2021-10-11T16:56:55.454Z"
   },
   {
    "duration": 21,
    "start_time": "2021-10-11T16:56:55.469Z"
   },
   {
    "duration": 13,
    "start_time": "2021-10-11T16:56:55.493Z"
   },
   {
    "duration": 748,
    "start_time": "2021-10-11T16:56:55.509Z"
   },
   {
    "duration": 548,
    "start_time": "2021-10-11T16:56:56.267Z"
   },
   {
    "duration": 18,
    "start_time": "2021-10-11T16:56:56.818Z"
   },
   {
    "duration": 656,
    "start_time": "2021-10-11T16:56:56.839Z"
   }
  ],
  "kernelspec": {
   "display_name": "Python 3 (ipykernel)",
   "language": "python",
   "name": "python3"
  },
  "language_info": {
   "codemirror_mode": {
    "name": "ipython",
    "version": 3
   },
   "file_extension": ".py",
   "mimetype": "text/x-python",
   "name": "python",
   "nbconvert_exporter": "python",
   "pygments_lexer": "ipython3",
   "version": "3.9.6"
  },
  "toc": {
   "base_numbering": 1,
   "nav_menu": {},
   "number_sections": true,
   "sideBar": true,
   "skip_h1_title": true,
   "title_cell": "Содержание",
   "title_sidebar": "Contents",
   "toc_cell": true,
   "toc_position": {},
   "toc_section_display": true,
   "toc_window_display": false
  },
  "varInspector": {
   "cols": {
    "lenName": 16,
    "lenType": 16,
    "lenVar": 40
   },
   "kernels_config": {
    "python": {
     "delete_cmd_postfix": "",
     "delete_cmd_prefix": "del ",
     "library": "var_list.py",
     "varRefreshCmd": "print(var_dic_list())"
    },
    "r": {
     "delete_cmd_postfix": ") ",
     "delete_cmd_prefix": "rm(",
     "library": "var_list.r",
     "varRefreshCmd": "cat(var_dic_list()) "
    }
   },
   "types_to_exclude": [
    "module",
    "function",
    "builtin_function_or_method",
    "instance",
    "_Feature"
   ],
   "window_display": false
  }
 },
 "nbformat": 4,
 "nbformat_minor": 2
}
