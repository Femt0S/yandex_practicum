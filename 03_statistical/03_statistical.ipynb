{
 "cells": [
  {
   "cell_type": "markdown",
   "metadata": {},
   "source": [
    "## Введение"
   ]
  },
  {
   "cell_type": "markdown",
   "metadata": {},
   "source": [
    "### Формулировка задачи\n",
    "\n",
    "``Вы аналитик компании «Мегалайн» — федерального оператора сотовой связи. Клиентам предлагают два тарифных плана: «Смарт» и «Ультра». Чтобы скорректировать рекламный бюджет, коммерческий департамент хочет понять, какой тариф приносит больше денег.\n",
    "Вам предстоит сделать предварительный анализ тарифов на небольшой выборке клиентов. В вашем распоряжении данные 500 пользователей «Мегалайна»: кто они, откуда, каким тарифом пользуются, сколько звонков и сообщений каждый отправил за 2018 год. Нужно проанализировать поведение клиентов и сделать вывод — какой тариф лучше.``\n"
   ]
  },
  {
   "cell_type": "markdown",
   "metadata": {},
   "source": [
    "**Предварительный план проекта**\n",
    "\n",
    "- рассмотреть исходные данные, определиться со стратегией их обработки\n",
    "- создать сводные таблицы с нужными значениями, в том числе вычисленными.\n",
    "- произвести анализ результатов\n",
    "- проверить гипотезы"
   ]
  },
  {
   "cell_type": "markdown",
   "metadata": {},
   "source": [
    "### Загрузка стандартных бибилотек и чтение файлов"
   ]
  },
  {
   "cell_type": "markdown",
   "metadata": {},
   "source": [
    "Загружаем стандартные библиотеки, которые планируются к использованию"
   ]
  },
  {
   "cell_type": "code",
   "execution_count": 1,
   "metadata": {},
   "outputs": [],
   "source": [
    "import pandas as pd\n",
    "import matplotlib.pyplot as plt\n",
    "import seaborn as sns\n",
    "import numpy as np\n",
    "from scipy import stats as st\n",
    "from functools import reduce"
   ]
  },
  {
   "cell_type": "markdown",
   "metadata": {},
   "source": [
    "Для форматирования вывода применяем опцию Pandas"
   ]
  },
  {
   "cell_type": "code",
   "execution_count": 2,
   "metadata": {},
   "outputs": [],
   "source": [
    "pd.set_option('display.float_format', '{:,.2f}'.format) "
   ]
  },
  {
   "cell_type": "markdown",
   "metadata": {},
   "source": [
    "Читаем файлы и сохраняем их в DataFrame"
   ]
  },
  {
   "cell_type": "code",
   "execution_count": 3,
   "metadata": {},
   "outputs": [],
   "source": [
    "calls_df = pd.read_csv('./datasets/calls.csv',  sep=',')\n",
    "internet_df = pd.read_csv('./datasets/internet.csv',  sep=',')\n",
    "messages_df = pd.read_csv('./datasets/messages.csv',  sep=',')\n",
    "tariffs_df = pd.read_csv('./datasets/tariffs.csv',  sep=',')\n",
    "users_df = pd.read_csv('./datasets/users.csv',  sep=',')"
   ]
  },
  {
   "cell_type": "markdown",
   "metadata": {},
   "source": [
    "Проверяем информацию по каждому фрейму:"
   ]
  },
  {
   "cell_type": "code",
   "execution_count": 4,
   "metadata": {},
   "outputs": [
    {
     "name": "stdout",
     "output_type": "stream",
     "text": [
      "<class 'pandas.core.frame.DataFrame'>\n",
      "RangeIndex: 202607 entries, 0 to 202606\n",
      "Data columns (total 4 columns):\n",
      " #   Column     Non-Null Count   Dtype  \n",
      "---  ------     --------------   -----  \n",
      " 0   id         202607 non-null  object \n",
      " 1   call_date  202607 non-null  object \n",
      " 2   duration   202607 non-null  float64\n",
      " 3   user_id    202607 non-null  int64  \n",
      "dtypes: float64(1), int64(1), object(2)\n",
      "memory usage: 6.2+ MB\n"
     ]
    }
   ],
   "source": [
    "calls_df.info()"
   ]
  },
  {
   "cell_type": "code",
   "execution_count": 5,
   "metadata": {},
   "outputs": [
    {
     "data": {
      "text/html": [
       "<div>\n",
       "<style scoped>\n",
       "    .dataframe tbody tr th:only-of-type {\n",
       "        vertical-align: middle;\n",
       "    }\n",
       "\n",
       "    .dataframe tbody tr th {\n",
       "        vertical-align: top;\n",
       "    }\n",
       "\n",
       "    .dataframe thead th {\n",
       "        text-align: right;\n",
       "    }\n",
       "</style>\n",
       "<table border=\"1\" class=\"dataframe\">\n",
       "  <thead>\n",
       "    <tr style=\"text-align: right;\">\n",
       "      <th></th>\n",
       "      <th>id</th>\n",
       "      <th>call_date</th>\n",
       "      <th>duration</th>\n",
       "      <th>user_id</th>\n",
       "    </tr>\n",
       "  </thead>\n",
       "  <tbody>\n",
       "    <tr>\n",
       "      <th>0</th>\n",
       "      <td>1000_0</td>\n",
       "      <td>2018-07-25</td>\n",
       "      <td>0.00</td>\n",
       "      <td>1000</td>\n",
       "    </tr>\n",
       "    <tr>\n",
       "      <th>1</th>\n",
       "      <td>1000_1</td>\n",
       "      <td>2018-08-17</td>\n",
       "      <td>0.00</td>\n",
       "      <td>1000</td>\n",
       "    </tr>\n",
       "    <tr>\n",
       "      <th>2</th>\n",
       "      <td>1000_2</td>\n",
       "      <td>2018-06-11</td>\n",
       "      <td>2.85</td>\n",
       "      <td>1000</td>\n",
       "    </tr>\n",
       "    <tr>\n",
       "      <th>3</th>\n",
       "      <td>1000_3</td>\n",
       "      <td>2018-09-21</td>\n",
       "      <td>13.80</td>\n",
       "      <td>1000</td>\n",
       "    </tr>\n",
       "    <tr>\n",
       "      <th>4</th>\n",
       "      <td>1000_4</td>\n",
       "      <td>2018-12-15</td>\n",
       "      <td>5.18</td>\n",
       "      <td>1000</td>\n",
       "    </tr>\n",
       "  </tbody>\n",
       "</table>\n",
       "</div>"
      ],
      "text/plain": [
       "       id   call_date  duration  user_id\n",
       "0  1000_0  2018-07-25      0.00     1000\n",
       "1  1000_1  2018-08-17      0.00     1000\n",
       "2  1000_2  2018-06-11      2.85     1000\n",
       "3  1000_3  2018-09-21     13.80     1000\n",
       "4  1000_4  2018-12-15      5.18     1000"
      ]
     },
     "execution_count": 5,
     "metadata": {},
     "output_type": "execute_result"
    }
   ],
   "source": [
    "calls_df.head()"
   ]
  },
  {
   "cell_type": "markdown",
   "metadata": {},
   "source": [
    "По результатам осмотра датафрейма `calls_df`:\n",
    "\n",
    "- Дата ***call_date*** представлена строковым объектом, вместо datetime.\n",
    "---"
   ]
  },
  {
   "cell_type": "code",
   "execution_count": 6,
   "metadata": {},
   "outputs": [
    {
     "name": "stdout",
     "output_type": "stream",
     "text": [
      "<class 'pandas.core.frame.DataFrame'>\n",
      "RangeIndex: 149396 entries, 0 to 149395\n",
      "Data columns (total 5 columns):\n",
      " #   Column        Non-Null Count   Dtype  \n",
      "---  ------        --------------   -----  \n",
      " 0   Unnamed: 0    149396 non-null  int64  \n",
      " 1   id            149396 non-null  object \n",
      " 2   mb_used       149396 non-null  float64\n",
      " 3   session_date  149396 non-null  object \n",
      " 4   user_id       149396 non-null  int64  \n",
      "dtypes: float64(1), int64(2), object(2)\n",
      "memory usage: 5.7+ MB\n"
     ]
    }
   ],
   "source": [
    "internet_df.info()"
   ]
  },
  {
   "cell_type": "code",
   "execution_count": 7,
   "metadata": {},
   "outputs": [
    {
     "data": {
      "text/html": [
       "<div>\n",
       "<style scoped>\n",
       "    .dataframe tbody tr th:only-of-type {\n",
       "        vertical-align: middle;\n",
       "    }\n",
       "\n",
       "    .dataframe tbody tr th {\n",
       "        vertical-align: top;\n",
       "    }\n",
       "\n",
       "    .dataframe thead th {\n",
       "        text-align: right;\n",
       "    }\n",
       "</style>\n",
       "<table border=\"1\" class=\"dataframe\">\n",
       "  <thead>\n",
       "    <tr style=\"text-align: right;\">\n",
       "      <th></th>\n",
       "      <th>Unnamed: 0</th>\n",
       "      <th>id</th>\n",
       "      <th>mb_used</th>\n",
       "      <th>session_date</th>\n",
       "      <th>user_id</th>\n",
       "    </tr>\n",
       "  </thead>\n",
       "  <tbody>\n",
       "    <tr>\n",
       "      <th>0</th>\n",
       "      <td>0</td>\n",
       "      <td>1000_0</td>\n",
       "      <td>112.95</td>\n",
       "      <td>2018-11-25</td>\n",
       "      <td>1000</td>\n",
       "    </tr>\n",
       "    <tr>\n",
       "      <th>1</th>\n",
       "      <td>1</td>\n",
       "      <td>1000_1</td>\n",
       "      <td>1,052.81</td>\n",
       "      <td>2018-09-07</td>\n",
       "      <td>1000</td>\n",
       "    </tr>\n",
       "    <tr>\n",
       "      <th>2</th>\n",
       "      <td>2</td>\n",
       "      <td>1000_2</td>\n",
       "      <td>1,197.26</td>\n",
       "      <td>2018-06-25</td>\n",
       "      <td>1000</td>\n",
       "    </tr>\n",
       "    <tr>\n",
       "      <th>3</th>\n",
       "      <td>3</td>\n",
       "      <td>1000_3</td>\n",
       "      <td>550.27</td>\n",
       "      <td>2018-08-22</td>\n",
       "      <td>1000</td>\n",
       "    </tr>\n",
       "    <tr>\n",
       "      <th>4</th>\n",
       "      <td>4</td>\n",
       "      <td>1000_4</td>\n",
       "      <td>302.56</td>\n",
       "      <td>2018-09-24</td>\n",
       "      <td>1000</td>\n",
       "    </tr>\n",
       "  </tbody>\n",
       "</table>\n",
       "</div>"
      ],
      "text/plain": [
       "   Unnamed: 0      id  mb_used session_date  user_id\n",
       "0           0  1000_0   112.95   2018-11-25     1000\n",
       "1           1  1000_1 1,052.81   2018-09-07     1000\n",
       "2           2  1000_2 1,197.26   2018-06-25     1000\n",
       "3           3  1000_3   550.27   2018-08-22     1000\n",
       "4           4  1000_4   302.56   2018-09-24     1000"
      ]
     },
     "execution_count": 7,
     "metadata": {},
     "output_type": "execute_result"
    }
   ],
   "source": [
    "internet_df.head()"
   ]
  },
  {
   "cell_type": "markdown",
   "metadata": {},
   "source": [
    "По результатам осмотра датафрейма `internet_df`:\n",
    "\n",
    "- Дата ***session_date*** представлена строковым объектом, вместо datetime64.\n",
    "- Колонка ***Unnamed: 0*** очевидно ошибочна, и предположительно является старым индексом, преобразовавшимся в колонку, подлежит удалению.\n",
    "---"
   ]
  },
  {
   "cell_type": "code",
   "execution_count": 8,
   "metadata": {},
   "outputs": [
    {
     "name": "stdout",
     "output_type": "stream",
     "text": [
      "<class 'pandas.core.frame.DataFrame'>\n",
      "RangeIndex: 123036 entries, 0 to 123035\n",
      "Data columns (total 3 columns):\n",
      " #   Column        Non-Null Count   Dtype \n",
      "---  ------        --------------   ----- \n",
      " 0   id            123036 non-null  object\n",
      " 1   message_date  123036 non-null  object\n",
      " 2   user_id       123036 non-null  int64 \n",
      "dtypes: int64(1), object(2)\n",
      "memory usage: 2.8+ MB\n"
     ]
    }
   ],
   "source": [
    "messages_df.info()"
   ]
  },
  {
   "cell_type": "code",
   "execution_count": 9,
   "metadata": {},
   "outputs": [
    {
     "data": {
      "text/html": [
       "<div>\n",
       "<style scoped>\n",
       "    .dataframe tbody tr th:only-of-type {\n",
       "        vertical-align: middle;\n",
       "    }\n",
       "\n",
       "    .dataframe tbody tr th {\n",
       "        vertical-align: top;\n",
       "    }\n",
       "\n",
       "    .dataframe thead th {\n",
       "        text-align: right;\n",
       "    }\n",
       "</style>\n",
       "<table border=\"1\" class=\"dataframe\">\n",
       "  <thead>\n",
       "    <tr style=\"text-align: right;\">\n",
       "      <th></th>\n",
       "      <th>id</th>\n",
       "      <th>message_date</th>\n",
       "      <th>user_id</th>\n",
       "    </tr>\n",
       "  </thead>\n",
       "  <tbody>\n",
       "    <tr>\n",
       "      <th>0</th>\n",
       "      <td>1000_0</td>\n",
       "      <td>2018-06-27</td>\n",
       "      <td>1000</td>\n",
       "    </tr>\n",
       "    <tr>\n",
       "      <th>1</th>\n",
       "      <td>1000_1</td>\n",
       "      <td>2018-10-08</td>\n",
       "      <td>1000</td>\n",
       "    </tr>\n",
       "    <tr>\n",
       "      <th>2</th>\n",
       "      <td>1000_2</td>\n",
       "      <td>2018-08-04</td>\n",
       "      <td>1000</td>\n",
       "    </tr>\n",
       "    <tr>\n",
       "      <th>3</th>\n",
       "      <td>1000_3</td>\n",
       "      <td>2018-06-16</td>\n",
       "      <td>1000</td>\n",
       "    </tr>\n",
       "    <tr>\n",
       "      <th>4</th>\n",
       "      <td>1000_4</td>\n",
       "      <td>2018-12-05</td>\n",
       "      <td>1000</td>\n",
       "    </tr>\n",
       "  </tbody>\n",
       "</table>\n",
       "</div>"
      ],
      "text/plain": [
       "       id message_date  user_id\n",
       "0  1000_0   2018-06-27     1000\n",
       "1  1000_1   2018-10-08     1000\n",
       "2  1000_2   2018-08-04     1000\n",
       "3  1000_3   2018-06-16     1000\n",
       "4  1000_4   2018-12-05     1000"
      ]
     },
     "execution_count": 9,
     "metadata": {},
     "output_type": "execute_result"
    }
   ],
   "source": [
    "messages_df.head()"
   ]
  },
  {
   "cell_type": "markdown",
   "metadata": {},
   "source": [
    "По результатам осмотра датафрейма `messages_df`:\n",
    "\n",
    "- Дата ***message_date*** представлена строковым объектом, вместо datetime64.\n",
    "---"
   ]
  },
  {
   "cell_type": "code",
   "execution_count": 10,
   "metadata": {},
   "outputs": [
    {
     "name": "stdout",
     "output_type": "stream",
     "text": [
      "<class 'pandas.core.frame.DataFrame'>\n",
      "RangeIndex: 2 entries, 0 to 1\n",
      "Data columns (total 8 columns):\n",
      " #   Column                 Non-Null Count  Dtype \n",
      "---  ------                 --------------  ----- \n",
      " 0   messages_included      2 non-null      int64 \n",
      " 1   mb_per_month_included  2 non-null      int64 \n",
      " 2   minutes_included       2 non-null      int64 \n",
      " 3   rub_monthly_fee        2 non-null      int64 \n",
      " 4   rub_per_gb             2 non-null      int64 \n",
      " 5   rub_per_message        2 non-null      int64 \n",
      " 6   rub_per_minute         2 non-null      int64 \n",
      " 7   tariff_name            2 non-null      object\n",
      "dtypes: int64(7), object(1)\n",
      "memory usage: 256.0+ bytes\n"
     ]
    }
   ],
   "source": [
    "tariffs_df.info()"
   ]
  },
  {
   "cell_type": "code",
   "execution_count": 11,
   "metadata": {},
   "outputs": [
    {
     "data": {
      "text/html": [
       "<div>\n",
       "<style scoped>\n",
       "    .dataframe tbody tr th:only-of-type {\n",
       "        vertical-align: middle;\n",
       "    }\n",
       "\n",
       "    .dataframe tbody tr th {\n",
       "        vertical-align: top;\n",
       "    }\n",
       "\n",
       "    .dataframe thead th {\n",
       "        text-align: right;\n",
       "    }\n",
       "</style>\n",
       "<table border=\"1\" class=\"dataframe\">\n",
       "  <thead>\n",
       "    <tr style=\"text-align: right;\">\n",
       "      <th></th>\n",
       "      <th>messages_included</th>\n",
       "      <th>mb_per_month_included</th>\n",
       "      <th>minutes_included</th>\n",
       "      <th>rub_monthly_fee</th>\n",
       "      <th>rub_per_gb</th>\n",
       "      <th>rub_per_message</th>\n",
       "      <th>rub_per_minute</th>\n",
       "      <th>tariff_name</th>\n",
       "    </tr>\n",
       "  </thead>\n",
       "  <tbody>\n",
       "    <tr>\n",
       "      <th>0</th>\n",
       "      <td>50</td>\n",
       "      <td>15360</td>\n",
       "      <td>500</td>\n",
       "      <td>550</td>\n",
       "      <td>200</td>\n",
       "      <td>3</td>\n",
       "      <td>3</td>\n",
       "      <td>smart</td>\n",
       "    </tr>\n",
       "    <tr>\n",
       "      <th>1</th>\n",
       "      <td>1000</td>\n",
       "      <td>30720</td>\n",
       "      <td>3000</td>\n",
       "      <td>1950</td>\n",
       "      <td>150</td>\n",
       "      <td>1</td>\n",
       "      <td>1</td>\n",
       "      <td>ultra</td>\n",
       "    </tr>\n",
       "  </tbody>\n",
       "</table>\n",
       "</div>"
      ],
      "text/plain": [
       "   messages_included  mb_per_month_included  minutes_included  \\\n",
       "0                 50                  15360               500   \n",
       "1               1000                  30720              3000   \n",
       "\n",
       "   rub_monthly_fee  rub_per_gb  rub_per_message  rub_per_minute tariff_name  \n",
       "0              550         200                3               3       smart  \n",
       "1             1950         150                1               1       ultra  "
      ]
     },
     "execution_count": 11,
     "metadata": {},
     "output_type": "execute_result"
    }
   ],
   "source": [
    "tariffs_df"
   ]
  },
  {
   "cell_type": "markdown",
   "metadata": {},
   "source": [
    "По результатам осмотра датафрейма `tariffs_df`:\n",
    "\n",
    "- Проблем не наблюдается.\n",
    "---"
   ]
  },
  {
   "cell_type": "code",
   "execution_count": 12,
   "metadata": {},
   "outputs": [
    {
     "name": "stdout",
     "output_type": "stream",
     "text": [
      "<class 'pandas.core.frame.DataFrame'>\n",
      "RangeIndex: 500 entries, 0 to 499\n",
      "Data columns (total 8 columns):\n",
      " #   Column      Non-Null Count  Dtype \n",
      "---  ------      --------------  ----- \n",
      " 0   user_id     500 non-null    int64 \n",
      " 1   age         500 non-null    int64 \n",
      " 2   churn_date  38 non-null     object\n",
      " 3   city        500 non-null    object\n",
      " 4   first_name  500 non-null    object\n",
      " 5   last_name   500 non-null    object\n",
      " 6   reg_date    500 non-null    object\n",
      " 7   tariff      500 non-null    object\n",
      "dtypes: int64(2), object(6)\n",
      "memory usage: 31.4+ KB\n"
     ]
    }
   ],
   "source": [
    "users_df.info()"
   ]
  },
  {
   "cell_type": "code",
   "execution_count": 13,
   "metadata": {},
   "outputs": [
    {
     "data": {
      "text/html": [
       "<div>\n",
       "<style scoped>\n",
       "    .dataframe tbody tr th:only-of-type {\n",
       "        vertical-align: middle;\n",
       "    }\n",
       "\n",
       "    .dataframe tbody tr th {\n",
       "        vertical-align: top;\n",
       "    }\n",
       "\n",
       "    .dataframe thead th {\n",
       "        text-align: right;\n",
       "    }\n",
       "</style>\n",
       "<table border=\"1\" class=\"dataframe\">\n",
       "  <thead>\n",
       "    <tr style=\"text-align: right;\">\n",
       "      <th></th>\n",
       "      <th>user_id</th>\n",
       "      <th>age</th>\n",
       "      <th>churn_date</th>\n",
       "      <th>city</th>\n",
       "      <th>first_name</th>\n",
       "      <th>last_name</th>\n",
       "      <th>reg_date</th>\n",
       "      <th>tariff</th>\n",
       "    </tr>\n",
       "  </thead>\n",
       "  <tbody>\n",
       "    <tr>\n",
       "      <th>0</th>\n",
       "      <td>1000</td>\n",
       "      <td>52</td>\n",
       "      <td>NaN</td>\n",
       "      <td>Краснодар</td>\n",
       "      <td>Рафаил</td>\n",
       "      <td>Верещагин</td>\n",
       "      <td>2018-05-25</td>\n",
       "      <td>ultra</td>\n",
       "    </tr>\n",
       "    <tr>\n",
       "      <th>1</th>\n",
       "      <td>1001</td>\n",
       "      <td>41</td>\n",
       "      <td>NaN</td>\n",
       "      <td>Москва</td>\n",
       "      <td>Иван</td>\n",
       "      <td>Ежов</td>\n",
       "      <td>2018-11-01</td>\n",
       "      <td>smart</td>\n",
       "    </tr>\n",
       "    <tr>\n",
       "      <th>2</th>\n",
       "      <td>1002</td>\n",
       "      <td>59</td>\n",
       "      <td>NaN</td>\n",
       "      <td>Стерлитамак</td>\n",
       "      <td>Евгений</td>\n",
       "      <td>Абрамович</td>\n",
       "      <td>2018-06-17</td>\n",
       "      <td>smart</td>\n",
       "    </tr>\n",
       "    <tr>\n",
       "      <th>3</th>\n",
       "      <td>1003</td>\n",
       "      <td>23</td>\n",
       "      <td>NaN</td>\n",
       "      <td>Москва</td>\n",
       "      <td>Белла</td>\n",
       "      <td>Белякова</td>\n",
       "      <td>2018-08-17</td>\n",
       "      <td>ultra</td>\n",
       "    </tr>\n",
       "    <tr>\n",
       "      <th>4</th>\n",
       "      <td>1004</td>\n",
       "      <td>68</td>\n",
       "      <td>NaN</td>\n",
       "      <td>Новокузнецк</td>\n",
       "      <td>Татьяна</td>\n",
       "      <td>Авдеенко</td>\n",
       "      <td>2018-05-14</td>\n",
       "      <td>ultra</td>\n",
       "    </tr>\n",
       "  </tbody>\n",
       "</table>\n",
       "</div>"
      ],
      "text/plain": [
       "   user_id  age churn_date         city first_name  last_name    reg_date  \\\n",
       "0     1000   52        NaN    Краснодар     Рафаил  Верещагин  2018-05-25   \n",
       "1     1001   41        NaN       Москва       Иван       Ежов  2018-11-01   \n",
       "2     1002   59        NaN  Стерлитамак    Евгений  Абрамович  2018-06-17   \n",
       "3     1003   23        NaN       Москва      Белла   Белякова  2018-08-17   \n",
       "4     1004   68        NaN  Новокузнецк    Татьяна   Авдеенко  2018-05-14   \n",
       "\n",
       "  tariff  \n",
       "0  ultra  \n",
       "1  smart  \n",
       "2  smart  \n",
       "3  ultra  \n",
       "4  ultra  "
      ]
     },
     "execution_count": 13,
     "metadata": {},
     "output_type": "execute_result"
    }
   ],
   "source": [
    "users_df.head()"
   ]
  },
  {
   "cell_type": "markdown",
   "metadata": {},
   "source": [
    "По результатам осмотра датафрейма `users_df`:\n",
    "\n",
    "- Дата ***reg_date*** представлена строковым объектом, вместо datetime64.\n",
    "- Пропуски в ***churn_date*** ожидаемы, и обозначают активных клиентов, в соответствии с описанием данных.\n",
    "---"
   ]
  },
  {
   "cell_type": "markdown",
   "metadata": {},
   "source": [
    "**Описание данных в соответствии с заданием (для сведения):**\n",
    "\n",
    "Таблица **users** (информация о пользователях):\n",
    "\n",
    "    user_id — уникальный идентификатор пользователя\n",
    "    first_name — имя пользователя\n",
    "    last_name — фамилия пользователя\n",
    "    age — возраст пользователя (годы)\n",
    "    reg_date — дата подключения тарифа (день, месяц, год)\n",
    "    churn_date — дата прекращения пользования тарифом (если значение пропущено, то тариф ещё действовал на момент выгрузки данных)\n",
    "    city — город проживания пользователя\n",
    "    tariff — название тарифного плана\n",
    "\n",
    "Таблица **calls** (информация о звонках):\n",
    "\n",
    "    id — уникальный номер звонка\n",
    "    call_date — дата звонка\n",
    "    duration — длительность звонка в минутах\n",
    "    user_id — идентификатор пользователя, сделавшего звонок\n",
    "\n",
    "Таблица **messages** (информация о сообщениях):\n",
    "\n",
    "    id — уникальный номер сообщения\n",
    "    message_date — дата сообщения\n",
    "    user_id — идентификатор пользователя, отправившего сообщение\n",
    "\n",
    "Таблица **internet** (информация об интернет-сессиях):\n",
    "\n",
    "    id — уникальный номер сессии\n",
    "    mb_used — объём потраченного за сессию интернет-трафика (в мегабайтах)\n",
    "    session_date — дата интернет-сессии\n",
    "    user_id — идентификатор пользователя\n",
    "\n",
    "Таблица **tariffs** (информация о тарифах):\n",
    "\n",
    "    tariff_name — название тарифа\n",
    "    rub_monthly_fee — ежемесячная абонентская плата в рублях\n",
    "    minutes_included — количество минут разговора в месяц, включённых в абонентскую плату\n",
    "    messages_included — количество сообщений в месяц, включённых в абонентскую плату\n",
    "    mb_per_month_included — объём интернет-трафика, включённого в абонентскую плату (в мегабайтах)\n",
    "    rub_per_minute — стоимость минуты разговора сверх тарифного пакета (например, если в тарифе 100 минут разговора в месяц, то со 101 минуты будет взиматься плата)\n",
    "    rub_per_message — стоимость отправки сообщения сверх тарифного пакета\n",
    "    rub_per_gb — стоимость дополнительного гигабайта интернет-трафика сверх тарифного пакета (1 гигабайт = 1024 мегабайта)"
   ]
  },
  {
   "cell_type": "markdown",
   "metadata": {},
   "source": [
    "## Подготовка данных"
   ]
  },
  {
   "cell_type": "markdown",
   "metadata": {},
   "source": [
    "### Предобработка данных"
   ]
  },
  {
   "cell_type": "markdown",
   "metadata": {},
   "source": [
    "Конвертируем все стоблцы с датами в тип datetime64 методом `pd.to_datetime`"
   ]
  },
  {
   "cell_type": "code",
   "execution_count": 14,
   "metadata": {},
   "outputs": [],
   "source": [
    "calls_df['call_date'] = pd.to_datetime(calls_df['call_date'], format='%Y-%m-%d')\n",
    "internet_df['session_date'] = pd.to_datetime(internet_df['session_date'], format='%Y-%m-%d')\n",
    "messages_df['message_date'] = pd.to_datetime(messages_df['message_date'], format='%Y-%m-%d')\n",
    "users_df['churn_date'] = pd.to_datetime(users_df['churn_date'], format='%Y-%m-%d')\n",
    "users_df['reg_date'] = pd.to_datetime(users_df['reg_date'], format='%Y-%m-%d')"
   ]
  },
  {
   "cell_type": "markdown",
   "metadata": {},
   "source": [
    "Определим количество звонков нулевой длины:"
   ]
  },
  {
   "cell_type": "code",
   "execution_count": 15,
   "metadata": {},
   "outputs": [
    {
     "name": "stdout",
     "output_type": "stream",
     "text": [
      "19.55 %\n"
     ]
    }
   ],
   "source": [
    "print(\n",
    "    round(\n",
    "        (len(calls_df.query('duration == 0')) / len(calls_df) * 100),\n",
    "        2), '%')"
   ]
  },
  {
   "cell_type": "markdown",
   "metadata": {},
   "source": [
    "Получившееся значение является слишком большим, чтобы его обработать заменой на медиану или среднее, в тоже время это не обязательно является ошибкой, так как звонок мог быть зарегистрирован (\"гудки пошли\"), но не обязательно состоялся, в связи с чем, оставляем без изменения."
   ]
  },
  {
   "cell_type": "markdown",
   "metadata": {},
   "source": [
    "C учётом условия об округлении\n",
    "\n",
    "`«Мегалайн» всегда округляет вверх значения минут и мегабайтов. Если пользователь проговорил всего 1 секунду, в тарифе засчитывается целая минута.`\n",
    "\n",
    "Округлим вверх значения `duration` и `mb_used` с использованем np.ceil"
   ]
  },
  {
   "cell_type": "code",
   "execution_count": 16,
   "metadata": {},
   "outputs": [],
   "source": [
    "calls_df['duration'] = calls_df['duration'].apply(np.ceil).astype(int)\n",
    "internet_df['mb_used'] = internet_df['mb_used'].apply(np.ceil).astype(int)"
   ]
  },
  {
   "cell_type": "markdown",
   "metadata": {},
   "source": [
    "Удалим заведомо ошибочную колонку с именем `Unnamed: 0`"
   ]
  },
  {
   "cell_type": "code",
   "execution_count": 17,
   "metadata": {},
   "outputs": [],
   "source": [
    "internet_df.drop(columns=['Unnamed: 0'], inplace=True)"
   ]
  },
  {
   "cell_type": "markdown",
   "metadata": {},
   "source": [
    "Проверим информацию по датафреймам, в том числе количество дубликатов."
   ]
  },
  {
   "cell_type": "code",
   "execution_count": 18,
   "metadata": {},
   "outputs": [
    {
     "name": "stdout",
     "output_type": "stream",
     "text": [
      "<class 'pandas.core.frame.DataFrame'>\n",
      "RangeIndex: 202607 entries, 0 to 202606\n",
      "Data columns (total 4 columns):\n",
      " #   Column     Non-Null Count   Dtype         \n",
      "---  ------     --------------   -----         \n",
      " 0   id         202607 non-null  object        \n",
      " 1   call_date  202607 non-null  datetime64[ns]\n",
      " 2   duration   202607 non-null  int64         \n",
      " 3   user_id    202607 non-null  int64         \n",
      "dtypes: datetime64[ns](1), int64(2), object(1)\n",
      "memory usage: 6.2+ MB\n"
     ]
    }
   ],
   "source": [
    "calls_df.info()"
   ]
  },
  {
   "cell_type": "code",
   "execution_count": 19,
   "metadata": {},
   "outputs": [
    {
     "name": "stdout",
     "output_type": "stream",
     "text": [
      "Количество уникальных пользователей в calls_df: 492\n",
      "Количество дубликатов в calls_df: 0\n"
     ]
    }
   ],
   "source": [
    "print('Количество уникальных пользователей в calls_df:', len(calls_df.user_id.unique()))\n",
    "\n",
    "print('Количество дубликатов в calls_df:', calls_df.duplicated().sum())"
   ]
  },
  {
   "cell_type": "code",
   "execution_count": 20,
   "metadata": {},
   "outputs": [
    {
     "name": "stdout",
     "output_type": "stream",
     "text": [
      "<class 'pandas.core.frame.DataFrame'>\n",
      "RangeIndex: 149396 entries, 0 to 149395\n",
      "Data columns (total 4 columns):\n",
      " #   Column        Non-Null Count   Dtype         \n",
      "---  ------        --------------   -----         \n",
      " 0   id            149396 non-null  object        \n",
      " 1   mb_used       149396 non-null  int64         \n",
      " 2   session_date  149396 non-null  datetime64[ns]\n",
      " 3   user_id       149396 non-null  int64         \n",
      "dtypes: datetime64[ns](1), int64(2), object(1)\n",
      "memory usage: 4.6+ MB\n"
     ]
    }
   ],
   "source": [
    "internet_df.info()"
   ]
  },
  {
   "cell_type": "code",
   "execution_count": 21,
   "metadata": {},
   "outputs": [
    {
     "name": "stdout",
     "output_type": "stream",
     "text": [
      "Количество уникальных пользователей в internet_df: 497\n",
      "Количество дубликатов в internet_df: 0\n"
     ]
    }
   ],
   "source": [
    "print('Количество уникальных пользователей в internet_df:', len(internet_df.user_id.unique()))\n",
    "\n",
    "print('Количество дубликатов в internet_df:', internet_df.duplicated().sum())"
   ]
  },
  {
   "cell_type": "code",
   "execution_count": 22,
   "metadata": {},
   "outputs": [
    {
     "name": "stdout",
     "output_type": "stream",
     "text": [
      "<class 'pandas.core.frame.DataFrame'>\n",
      "RangeIndex: 123036 entries, 0 to 123035\n",
      "Data columns (total 3 columns):\n",
      " #   Column        Non-Null Count   Dtype         \n",
      "---  ------        --------------   -----         \n",
      " 0   id            123036 non-null  object        \n",
      " 1   message_date  123036 non-null  datetime64[ns]\n",
      " 2   user_id       123036 non-null  int64         \n",
      "dtypes: datetime64[ns](1), int64(1), object(1)\n",
      "memory usage: 2.8+ MB\n"
     ]
    }
   ],
   "source": [
    "messages_df.info()"
   ]
  },
  {
   "cell_type": "code",
   "execution_count": 23,
   "metadata": {},
   "outputs": [
    {
     "name": "stdout",
     "output_type": "stream",
     "text": [
      "Количество уникальных пользователей в messages_df: 426\n",
      "Количество дубликатов в messages_df: 0\n"
     ]
    }
   ],
   "source": [
    "print('Количество уникальных пользователей в messages_df:', len(messages_df.user_id.unique()))\n",
    "\n",
    "print('Количество дубликатов в messages_df:', messages_df.duplicated().sum())"
   ]
  },
  {
   "cell_type": "code",
   "execution_count": 24,
   "metadata": {
    "scrolled": false
   },
   "outputs": [
    {
     "name": "stdout",
     "output_type": "stream",
     "text": [
      "<class 'pandas.core.frame.DataFrame'>\n",
      "RangeIndex: 500 entries, 0 to 499\n",
      "Data columns (total 8 columns):\n",
      " #   Column      Non-Null Count  Dtype         \n",
      "---  ------      --------------  -----         \n",
      " 0   user_id     500 non-null    int64         \n",
      " 1   age         500 non-null    int64         \n",
      " 2   churn_date  38 non-null     datetime64[ns]\n",
      " 3   city        500 non-null    object        \n",
      " 4   first_name  500 non-null    object        \n",
      " 5   last_name   500 non-null    object        \n",
      " 6   reg_date    500 non-null    datetime64[ns]\n",
      " 7   tariff      500 non-null    object        \n",
      "dtypes: datetime64[ns](2), int64(2), object(4)\n",
      "memory usage: 31.4+ KB\n"
     ]
    }
   ],
   "source": [
    "users_df.info()"
   ]
  },
  {
   "cell_type": "code",
   "execution_count": 25,
   "metadata": {},
   "outputs": [
    {
     "name": "stdout",
     "output_type": "stream",
     "text": [
      "Количество уникальных пользователей в users_df: 500\n",
      "Количество дубликатов в users_df: 0\n"
     ]
    }
   ],
   "source": [
    "print('Количество уникальных пользователей в users_df:', len(users_df.user_id.unique()))\n",
    "\n",
    "print('Количество дубликатов в users_df:', users_df.duplicated().sum())"
   ]
  },
  {
   "cell_type": "markdown",
   "metadata": {},
   "source": [
    "**Промежуточные выводы**\n",
    "\n",
    "1. Дубликаты в датафреймах после всех преобразований не обнаружены.\n",
    "2. Количество уникальных пользователей в таблицах с звонками, сообщениями и интернет-трафиком различно и составляет от 426 до 497 пользователей из 500 возможных. Предположительно это означает, что некоторые из пользователей могли не пользоваться некоторыми из видов связи за отчётный период.\n"
   ]
  },
  {
   "cell_type": "markdown",
   "metadata": {},
   "source": [
    "### Подготовка данных к работе"
   ]
  },
  {
   "cell_type": "markdown",
   "metadata": {},
   "source": [
    "Для каждого пользователя получим интересующие нас в дальнейшем данные."
   ]
  },
  {
   "cell_type": "markdown",
   "metadata": {},
   "source": [
    "Для расчётов по месяцам, выделим название месяца в отдельные колонки в интересующих датафреймах методом Pandas `dt.month_name()`, также для сортировки добавим их численное представление методом `dt.month`.\n",
    "\n",
    "Для большей компактности на графиках, урежем название месяцев до 3х букв методом `str.slice`"
   ]
  },
  {
   "cell_type": "code",
   "execution_count": 26,
   "metadata": {},
   "outputs": [],
   "source": [
    "calls_df['month'] = calls_df['call_date'].dt.month_name().str.slice(stop=3)\n",
    "internet_df['month'] = internet_df['session_date'].dt.month_name().str.slice(stop=3)\n",
    "messages_df['month'] = messages_df['message_date'].dt.month_name().str.slice(stop=3)\n",
    "\n",
    "calls_df['nmonth'] = calls_df['call_date'].dt.month\n",
    "internet_df['nmonth'] = internet_df['session_date'].dt.month\n",
    "messages_df['nmonth'] = messages_df['message_date'].dt.month"
   ]
  },
  {
   "cell_type": "markdown",
   "metadata": {},
   "source": [
    "Для определение количества сделанных звонков и израсходованных минут разговора по месяцам возмользуемся сводной таблицей с функциями `sum` и `count`."
   ]
  },
  {
   "cell_type": "code",
   "execution_count": 27,
   "metadata": {},
   "outputs": [],
   "source": [
    "call_pivot = calls_df.pivot_table(\n",
    "    index=['user_id', 'month', 'nmonth'], values='duration', aggfunc=['sum', 'count']\n",
    ")\n",
    "call_pivot.columns = ['calls_duration', 'calls_count']"
   ]
  },
  {
   "cell_type": "markdown",
   "metadata": {},
   "source": [
    "Количество отправленных сообщений по месяцам также определим с использованием сводной таблицы с группировкой по новосозданной колонке `month`"
   ]
  },
  {
   "cell_type": "code",
   "execution_count": 28,
   "metadata": {},
   "outputs": [],
   "source": [
    "message_pivot = messages_df.pivot_table(\n",
    "    index=['user_id', 'month', 'nmonth'], values='id', aggfunc=['count']\n",
    ")\n",
    "message_pivot.columns = ['message_count']"
   ]
  },
  {
   "cell_type": "markdown",
   "metadata": {},
   "source": [
    "Объем израсходованного интернет-трафика по месяцам аналогично"
   ]
  },
  {
   "cell_type": "code",
   "execution_count": 29,
   "metadata": {},
   "outputs": [],
   "source": [
    "internet_pivot = internet_df.pivot_table(\n",
    "    index=['user_id','month', 'nmonth'], values='mb_used', aggfunc=['sum']\n",
    ")\n",
    "internet_pivot.columns = ['mb_used_total']"
   ]
  },
  {
   "cell_type": "markdown",
   "metadata": {},
   "source": [
    "Объёдиним полученные сводные таблицы в одну общую методом `merge` с использованием функции `reduce` из модуля `functools`."
   ]
  },
  {
   "cell_type": "code",
   "execution_count": 30,
   "metadata": {},
   "outputs": [],
   "source": [
    "data_to_merge = [internet_pivot, call_pivot, message_pivot]\n",
    "\n",
    "df_merged = reduce(lambda left,right: pd.merge(\n",
    "    left,\n",
    "    right,\n",
    "    how=\"outer\",\n",
    "    on=['user_id', 'month', 'nmonth']\n",
    "), data_to_merge)"
   ]
  },
  {
   "cell_type": "code",
   "execution_count": 31,
   "metadata": {},
   "outputs": [
    {
     "data": {
      "text/html": [
       "<div>\n",
       "<style scoped>\n",
       "    .dataframe tbody tr th:only-of-type {\n",
       "        vertical-align: middle;\n",
       "    }\n",
       "\n",
       "    .dataframe tbody tr th {\n",
       "        vertical-align: top;\n",
       "    }\n",
       "\n",
       "    .dataframe thead th {\n",
       "        text-align: right;\n",
       "    }\n",
       "</style>\n",
       "<table border=\"1\" class=\"dataframe\">\n",
       "  <thead>\n",
       "    <tr style=\"text-align: right;\">\n",
       "      <th></th>\n",
       "      <th></th>\n",
       "      <th></th>\n",
       "      <th>mb_used_total</th>\n",
       "      <th>calls_duration</th>\n",
       "      <th>calls_count</th>\n",
       "      <th>message_count</th>\n",
       "    </tr>\n",
       "    <tr>\n",
       "      <th>user_id</th>\n",
       "      <th>month</th>\n",
       "      <th>nmonth</th>\n",
       "      <th></th>\n",
       "      <th></th>\n",
       "      <th></th>\n",
       "      <th></th>\n",
       "    </tr>\n",
       "  </thead>\n",
       "  <tbody>\n",
       "    <tr>\n",
       "      <th rowspan=\"5\" valign=\"top\">1000</th>\n",
       "      <th>Aug</th>\n",
       "      <th>8</th>\n",
       "      <td>14,070.00</td>\n",
       "      <td>408.00</td>\n",
       "      <td>52.00</td>\n",
       "      <td>81.00</td>\n",
       "    </tr>\n",
       "    <tr>\n",
       "      <th>Dec</th>\n",
       "      <th>12</th>\n",
       "      <td>9,827.00</td>\n",
       "      <td>333.00</td>\n",
       "      <td>46.00</td>\n",
       "      <td>70.00</td>\n",
       "    </tr>\n",
       "    <tr>\n",
       "      <th>Jul</th>\n",
       "      <th>7</th>\n",
       "      <td>14,016.00</td>\n",
       "      <td>340.00</td>\n",
       "      <td>47.00</td>\n",
       "      <td>75.00</td>\n",
       "    </tr>\n",
       "    <tr>\n",
       "      <th>Jun</th>\n",
       "      <th>6</th>\n",
       "      <td>23,257.00</td>\n",
       "      <td>172.00</td>\n",
       "      <td>43.00</td>\n",
       "      <td>60.00</td>\n",
       "    </tr>\n",
       "    <tr>\n",
       "      <th>May</th>\n",
       "      <th>5</th>\n",
       "      <td>2,256.00</td>\n",
       "      <td>159.00</td>\n",
       "      <td>22.00</td>\n",
       "      <td>22.00</td>\n",
       "    </tr>\n",
       "    <tr>\n",
       "      <th>...</th>\n",
       "      <th>...</th>\n",
       "      <th>...</th>\n",
       "      <td>...</td>\n",
       "      <td>...</td>\n",
       "      <td>...</td>\n",
       "      <td>...</td>\n",
       "    </tr>\n",
       "    <tr>\n",
       "      <th rowspan=\"2\" valign=\"top\">1273</th>\n",
       "      <th>Oct</th>\n",
       "      <th>10</th>\n",
       "      <td>NaN</td>\n",
       "      <td>315.00</td>\n",
       "      <td>40.00</td>\n",
       "      <td>35.00</td>\n",
       "    </tr>\n",
       "    <tr>\n",
       "      <th>Sep</th>\n",
       "      <th>9</th>\n",
       "      <td>NaN</td>\n",
       "      <td>223.00</td>\n",
       "      <td>33.00</td>\n",
       "      <td>32.00</td>\n",
       "    </tr>\n",
       "    <tr>\n",
       "      <th>1377</th>\n",
       "      <th>Feb</th>\n",
       "      <th>2</th>\n",
       "      <td>NaN</td>\n",
       "      <td>179.00</td>\n",
       "      <td>23.00</td>\n",
       "      <td>2.00</td>\n",
       "    </tr>\n",
       "    <tr>\n",
       "      <th>1392</th>\n",
       "      <th>Feb</th>\n",
       "      <th>2</th>\n",
       "      <td>NaN</td>\n",
       "      <td>13.00</td>\n",
       "      <td>2.00</td>\n",
       "      <td>3.00</td>\n",
       "    </tr>\n",
       "    <tr>\n",
       "      <th>1446</th>\n",
       "      <th>Aug</th>\n",
       "      <th>8</th>\n",
       "      <td>NaN</td>\n",
       "      <td>50.00</td>\n",
       "      <td>4.00</td>\n",
       "      <td>1.00</td>\n",
       "    </tr>\n",
       "  </tbody>\n",
       "</table>\n",
       "<p>3214 rows × 4 columns</p>\n",
       "</div>"
      ],
      "text/plain": [
       "                      mb_used_total  calls_duration  calls_count  \\\n",
       "user_id month nmonth                                               \n",
       "1000    Aug   8           14,070.00          408.00        52.00   \n",
       "        Dec   12           9,827.00          333.00        46.00   \n",
       "        Jul   7           14,016.00          340.00        47.00   \n",
       "        Jun   6           23,257.00          172.00        43.00   \n",
       "        May   5            2,256.00          159.00        22.00   \n",
       "...                             ...             ...          ...   \n",
       "1273    Oct   10                NaN          315.00        40.00   \n",
       "        Sep   9                 NaN          223.00        33.00   \n",
       "1377    Feb   2                 NaN          179.00        23.00   \n",
       "1392    Feb   2                 NaN           13.00         2.00   \n",
       "1446    Aug   8                 NaN           50.00         4.00   \n",
       "\n",
       "                      message_count  \n",
       "user_id month nmonth                 \n",
       "1000    Aug   8               81.00  \n",
       "        Dec   12              70.00  \n",
       "        Jul   7               75.00  \n",
       "        Jun   6               60.00  \n",
       "        May   5               22.00  \n",
       "...                             ...  \n",
       "1273    Oct   10              35.00  \n",
       "        Sep   9               32.00  \n",
       "1377    Feb   2                2.00  \n",
       "1392    Feb   2                3.00  \n",
       "1446    Aug   8                1.00  \n",
       "\n",
       "[3214 rows x 4 columns]"
      ]
     },
     "execution_count": 31,
     "metadata": {},
     "output_type": "execute_result"
    }
   ],
   "source": [
    "df_merged"
   ]
  },
  {
   "cell_type": "markdown",
   "metadata": {},
   "source": [
    "Добавим к полученной таблице названия тарифов соотвествующие каждому из `user_id`, с заполнением NaN значений нулями (отсутствие данных предположительно означает, что клиент не использовал данный метод связи в течение месяца)"
   ]
  },
  {
   "cell_type": "code",
   "execution_count": 32,
   "metadata": {},
   "outputs": [],
   "source": [
    "data = pd.merge(\n",
    "    df_merged.reset_index(), #left\n",
    "    users_df[['user_id', 'city', 'tariff']], #right\n",
    "    how=\"right\",\n",
    "    on=['user_id']\n",
    ").fillna(0).rename(columns={'tariff': 'tariff_name'})"
   ]
  },
  {
   "cell_type": "code",
   "execution_count": 33,
   "metadata": {},
   "outputs": [
    {
     "data": {
      "text/plain": [
       "3216"
      ]
     },
     "execution_count": 33,
     "metadata": {},
     "output_type": "execute_result"
    }
   ],
   "source": [
    "data.shape[0]"
   ]
  },
  {
   "cell_type": "markdown",
   "metadata": {},
   "source": [
    "Проверяем, не появилось ли пользователей без всяких данных, в особенности, без дат. Так как в предыдущем шаге мы провели `fillna(0)`, то проверяем колонку `month` сравнивая её с 0, которое заменило NaN."
   ]
  },
  {
   "cell_type": "code",
   "execution_count": 34,
   "metadata": {},
   "outputs": [
    {
     "data": {
      "text/html": [
       "<div>\n",
       "<style scoped>\n",
       "    .dataframe tbody tr th:only-of-type {\n",
       "        vertical-align: middle;\n",
       "    }\n",
       "\n",
       "    .dataframe tbody tr th {\n",
       "        vertical-align: top;\n",
       "    }\n",
       "\n",
       "    .dataframe thead th {\n",
       "        text-align: right;\n",
       "    }\n",
       "</style>\n",
       "<table border=\"1\" class=\"dataframe\">\n",
       "  <thead>\n",
       "    <tr style=\"text-align: right;\">\n",
       "      <th></th>\n",
       "      <th>user_id</th>\n",
       "      <th>month</th>\n",
       "      <th>nmonth</th>\n",
       "      <th>mb_used_total</th>\n",
       "      <th>calls_duration</th>\n",
       "      <th>calls_count</th>\n",
       "      <th>message_count</th>\n",
       "      <th>city</th>\n",
       "      <th>tariff_name</th>\n",
       "    </tr>\n",
       "  </thead>\n",
       "  <tbody>\n",
       "    <tr>\n",
       "      <th>827</th>\n",
       "      <td>1128</td>\n",
       "      <td>0</td>\n",
       "      <td>0.00</td>\n",
       "      <td>0.00</td>\n",
       "      <td>0.00</td>\n",
       "      <td>0.00</td>\n",
       "      <td>0.00</td>\n",
       "      <td>Волжский</td>\n",
       "      <td>ultra</td>\n",
       "    </tr>\n",
       "    <tr>\n",
       "      <th>2335</th>\n",
       "      <td>1371</td>\n",
       "      <td>0</td>\n",
       "      <td>0.00</td>\n",
       "      <td>0.00</td>\n",
       "      <td>0.00</td>\n",
       "      <td>0.00</td>\n",
       "      <td>0.00</td>\n",
       "      <td>Омск</td>\n",
       "      <td>smart</td>\n",
       "    </tr>\n",
       "  </tbody>\n",
       "</table>\n",
       "</div>"
      ],
      "text/plain": [
       "      user_id month  nmonth  mb_used_total  calls_duration  calls_count  \\\n",
       "827      1128     0    0.00           0.00            0.00         0.00   \n",
       "2335     1371     0    0.00           0.00            0.00         0.00   \n",
       "\n",
       "      message_count      city tariff_name  \n",
       "827            0.00  Волжский       ultra  \n",
       "2335           0.00      Омск       smart  "
      ]
     },
     "execution_count": 34,
     "metadata": {},
     "output_type": "execute_result"
    }
   ],
   "source": [
    "data.query('month == 0')"
   ]
  },
  {
   "cell_type": "code",
   "execution_count": 35,
   "metadata": {},
   "outputs": [
    {
     "name": "stdout",
     "output_type": "stream",
     "text": [
      "<class 'pandas.core.frame.DataFrame'>\n",
      "Int64Index: 3214 entries, 0 to 3215\n",
      "Data columns (total 9 columns):\n",
      " #   Column          Non-Null Count  Dtype  \n",
      "---  ------          --------------  -----  \n",
      " 0   user_id         3214 non-null   int64  \n",
      " 1   month           3214 non-null   object \n",
      " 2   nmonth          3214 non-null   float64\n",
      " 3   mb_used_total   3214 non-null   float64\n",
      " 4   calls_duration  3214 non-null   float64\n",
      " 5   calls_count     3214 non-null   float64\n",
      " 6   message_count   3214 non-null   float64\n",
      " 7   city            3214 non-null   object \n",
      " 8   tariff_name     3214 non-null   object \n",
      "dtypes: float64(5), int64(1), object(3)\n",
      "memory usage: 251.1+ KB\n"
     ]
    }
   ],
   "source": [
    "data = data.query('month != 0').copy()\n",
    "data.info()"
   ]
  },
  {
   "cell_type": "markdown",
   "metadata": {},
   "source": [
    "Производим сортирвку по колонке \"временной\" колонке `nmonth`"
   ]
  },
  {
   "cell_type": "code",
   "execution_count": 36,
   "metadata": {},
   "outputs": [],
   "source": [
    "data = data.sort_values(['user_id', 'nmonth'], ascending=[1,1]).set_index(['user_id', 'month'])"
   ]
  },
  {
   "cell_type": "markdown",
   "metadata": {},
   "source": [
    "Возвращаем типы данных к нормальным, целочисленным."
   ]
  },
  {
   "cell_type": "code",
   "execution_count": 37,
   "metadata": {},
   "outputs": [
    {
     "name": "stdout",
     "output_type": "stream",
     "text": [
      "<class 'pandas.core.frame.DataFrame'>\n",
      "MultiIndex: 3214 entries, (1000, 'May') to (1499, 'Dec')\n",
      "Data columns (total 7 columns):\n",
      " #   Column          Non-Null Count  Dtype \n",
      "---  ------          --------------  ----- \n",
      " 0   nmonth          3214 non-null   int64 \n",
      " 1   mb_used_total   3214 non-null   int64 \n",
      " 2   calls_duration  3214 non-null   int64 \n",
      " 3   calls_count     3214 non-null   int64 \n",
      " 4   message_count   3214 non-null   int64 \n",
      " 5   city            3214 non-null   object\n",
      " 6   tariff_name     3214 non-null   object\n",
      "dtypes: int64(5), object(2)\n",
      "memory usage: 205.7+ KB\n"
     ]
    }
   ],
   "source": [
    "data['message_count'] = data['message_count'].astype(int)\n",
    "data['calls_count'] = data['calls_count'].astype(int)\n",
    "data['mb_used_total'] = data['mb_used_total'].astype(int)\n",
    "data['calls_duration'] = data['calls_duration'].astype(int)\n",
    "data['nmonth'] = data['nmonth'].astype(int)\n",
    "\n",
    "data.info()"
   ]
  },
  {
   "cell_type": "code",
   "execution_count": 38,
   "metadata": {},
   "outputs": [
    {
     "data": {
      "text/html": [
       "<div>\n",
       "<style scoped>\n",
       "    .dataframe tbody tr th:only-of-type {\n",
       "        vertical-align: middle;\n",
       "    }\n",
       "\n",
       "    .dataframe tbody tr th {\n",
       "        vertical-align: top;\n",
       "    }\n",
       "\n",
       "    .dataframe thead th {\n",
       "        text-align: right;\n",
       "    }\n",
       "</style>\n",
       "<table border=\"1\" class=\"dataframe\">\n",
       "  <thead>\n",
       "    <tr style=\"text-align: right;\">\n",
       "      <th></th>\n",
       "      <th></th>\n",
       "      <th>nmonth</th>\n",
       "      <th>mb_used_total</th>\n",
       "      <th>calls_duration</th>\n",
       "      <th>calls_count</th>\n",
       "      <th>message_count</th>\n",
       "      <th>city</th>\n",
       "      <th>tariff_name</th>\n",
       "    </tr>\n",
       "    <tr>\n",
       "      <th>user_id</th>\n",
       "      <th>month</th>\n",
       "      <th></th>\n",
       "      <th></th>\n",
       "      <th></th>\n",
       "      <th></th>\n",
       "      <th></th>\n",
       "      <th></th>\n",
       "      <th></th>\n",
       "    </tr>\n",
       "  </thead>\n",
       "  <tbody>\n",
       "    <tr>\n",
       "      <th rowspan=\"5\" valign=\"top\">1000</th>\n",
       "      <th>May</th>\n",
       "      <td>5</td>\n",
       "      <td>2256</td>\n",
       "      <td>159</td>\n",
       "      <td>22</td>\n",
       "      <td>22</td>\n",
       "      <td>Краснодар</td>\n",
       "      <td>ultra</td>\n",
       "    </tr>\n",
       "    <tr>\n",
       "      <th>Jun</th>\n",
       "      <td>6</td>\n",
       "      <td>23257</td>\n",
       "      <td>172</td>\n",
       "      <td>43</td>\n",
       "      <td>60</td>\n",
       "      <td>Краснодар</td>\n",
       "      <td>ultra</td>\n",
       "    </tr>\n",
       "    <tr>\n",
       "      <th>Jul</th>\n",
       "      <td>7</td>\n",
       "      <td>14016</td>\n",
       "      <td>340</td>\n",
       "      <td>47</td>\n",
       "      <td>75</td>\n",
       "      <td>Краснодар</td>\n",
       "      <td>ultra</td>\n",
       "    </tr>\n",
       "    <tr>\n",
       "      <th>Aug</th>\n",
       "      <td>8</td>\n",
       "      <td>14070</td>\n",
       "      <td>408</td>\n",
       "      <td>52</td>\n",
       "      <td>81</td>\n",
       "      <td>Краснодар</td>\n",
       "      <td>ultra</td>\n",
       "    </tr>\n",
       "    <tr>\n",
       "      <th>Sep</th>\n",
       "      <td>9</td>\n",
       "      <td>14581</td>\n",
       "      <td>466</td>\n",
       "      <td>58</td>\n",
       "      <td>57</td>\n",
       "      <td>Краснодар</td>\n",
       "      <td>ultra</td>\n",
       "    </tr>\n",
       "  </tbody>\n",
       "</table>\n",
       "</div>"
      ],
      "text/plain": [
       "               nmonth  mb_used_total  calls_duration  calls_count  \\\n",
       "user_id month                                                       \n",
       "1000    May         5           2256             159           22   \n",
       "        Jun         6          23257             172           43   \n",
       "        Jul         7          14016             340           47   \n",
       "        Aug         8          14070             408           52   \n",
       "        Sep         9          14581             466           58   \n",
       "\n",
       "               message_count       city tariff_name  \n",
       "user_id month                                        \n",
       "1000    May               22  Краснодар       ultra  \n",
       "        Jun               60  Краснодар       ultra  \n",
       "        Jul               75  Краснодар       ultra  \n",
       "        Aug               81  Краснодар       ultra  \n",
       "        Sep               57  Краснодар       ultra  "
      ]
     },
     "execution_count": 38,
     "metadata": {},
     "output_type": "execute_result"
    }
   ],
   "source": [
    "data.head()"
   ]
  },
  {
   "cell_type": "markdown",
   "metadata": {},
   "source": [
    "Для упрощения расчётов без использования сторонних функций - добавим данные по тарифам в таблицу:"
   ]
  },
  {
   "cell_type": "code",
   "execution_count": 39,
   "metadata": {},
   "outputs": [],
   "source": [
    "data = pd.merge(\n",
    "    data.reset_index(), #left\n",
    "    tariffs_df, #right\n",
    "    how=\"left\",\n",
    "    on=['tariff_name']\n",
    ").set_index(['user_id', 'month'])"
   ]
  },
  {
   "cell_type": "code",
   "execution_count": 40,
   "metadata": {
    "scrolled": true
   },
   "outputs": [
    {
     "data": {
      "text/html": [
       "<div>\n",
       "<style scoped>\n",
       "    .dataframe tbody tr th:only-of-type {\n",
       "        vertical-align: middle;\n",
       "    }\n",
       "\n",
       "    .dataframe tbody tr th {\n",
       "        vertical-align: top;\n",
       "    }\n",
       "\n",
       "    .dataframe thead th {\n",
       "        text-align: right;\n",
       "    }\n",
       "</style>\n",
       "<table border=\"1\" class=\"dataframe\">\n",
       "  <thead>\n",
       "    <tr style=\"text-align: right;\">\n",
       "      <th></th>\n",
       "      <th></th>\n",
       "      <th>nmonth</th>\n",
       "      <th>mb_used_total</th>\n",
       "      <th>calls_duration</th>\n",
       "      <th>calls_count</th>\n",
       "      <th>message_count</th>\n",
       "      <th>city</th>\n",
       "      <th>tariff_name</th>\n",
       "      <th>messages_included</th>\n",
       "      <th>mb_per_month_included</th>\n",
       "      <th>minutes_included</th>\n",
       "      <th>rub_monthly_fee</th>\n",
       "      <th>rub_per_gb</th>\n",
       "      <th>rub_per_message</th>\n",
       "      <th>rub_per_minute</th>\n",
       "    </tr>\n",
       "    <tr>\n",
       "      <th>user_id</th>\n",
       "      <th>month</th>\n",
       "      <th></th>\n",
       "      <th></th>\n",
       "      <th></th>\n",
       "      <th></th>\n",
       "      <th></th>\n",
       "      <th></th>\n",
       "      <th></th>\n",
       "      <th></th>\n",
       "      <th></th>\n",
       "      <th></th>\n",
       "      <th></th>\n",
       "      <th></th>\n",
       "      <th></th>\n",
       "      <th></th>\n",
       "    </tr>\n",
       "  </thead>\n",
       "  <tbody>\n",
       "    <tr>\n",
       "      <th rowspan=\"5\" valign=\"top\">1000</th>\n",
       "      <th>May</th>\n",
       "      <td>5</td>\n",
       "      <td>2256</td>\n",
       "      <td>159</td>\n",
       "      <td>22</td>\n",
       "      <td>22</td>\n",
       "      <td>Краснодар</td>\n",
       "      <td>ultra</td>\n",
       "      <td>1000</td>\n",
       "      <td>30720</td>\n",
       "      <td>3000</td>\n",
       "      <td>1950</td>\n",
       "      <td>150</td>\n",
       "      <td>1</td>\n",
       "      <td>1</td>\n",
       "    </tr>\n",
       "    <tr>\n",
       "      <th>Jun</th>\n",
       "      <td>6</td>\n",
       "      <td>23257</td>\n",
       "      <td>172</td>\n",
       "      <td>43</td>\n",
       "      <td>60</td>\n",
       "      <td>Краснодар</td>\n",
       "      <td>ultra</td>\n",
       "      <td>1000</td>\n",
       "      <td>30720</td>\n",
       "      <td>3000</td>\n",
       "      <td>1950</td>\n",
       "      <td>150</td>\n",
       "      <td>1</td>\n",
       "      <td>1</td>\n",
       "    </tr>\n",
       "    <tr>\n",
       "      <th>Jul</th>\n",
       "      <td>7</td>\n",
       "      <td>14016</td>\n",
       "      <td>340</td>\n",
       "      <td>47</td>\n",
       "      <td>75</td>\n",
       "      <td>Краснодар</td>\n",
       "      <td>ultra</td>\n",
       "      <td>1000</td>\n",
       "      <td>30720</td>\n",
       "      <td>3000</td>\n",
       "      <td>1950</td>\n",
       "      <td>150</td>\n",
       "      <td>1</td>\n",
       "      <td>1</td>\n",
       "    </tr>\n",
       "    <tr>\n",
       "      <th>Aug</th>\n",
       "      <td>8</td>\n",
       "      <td>14070</td>\n",
       "      <td>408</td>\n",
       "      <td>52</td>\n",
       "      <td>81</td>\n",
       "      <td>Краснодар</td>\n",
       "      <td>ultra</td>\n",
       "      <td>1000</td>\n",
       "      <td>30720</td>\n",
       "      <td>3000</td>\n",
       "      <td>1950</td>\n",
       "      <td>150</td>\n",
       "      <td>1</td>\n",
       "      <td>1</td>\n",
       "    </tr>\n",
       "    <tr>\n",
       "      <th>Sep</th>\n",
       "      <td>9</td>\n",
       "      <td>14581</td>\n",
       "      <td>466</td>\n",
       "      <td>58</td>\n",
       "      <td>57</td>\n",
       "      <td>Краснодар</td>\n",
       "      <td>ultra</td>\n",
       "      <td>1000</td>\n",
       "      <td>30720</td>\n",
       "      <td>3000</td>\n",
       "      <td>1950</td>\n",
       "      <td>150</td>\n",
       "      <td>1</td>\n",
       "      <td>1</td>\n",
       "    </tr>\n",
       "  </tbody>\n",
       "</table>\n",
       "</div>"
      ],
      "text/plain": [
       "               nmonth  mb_used_total  calls_duration  calls_count  \\\n",
       "user_id month                                                       \n",
       "1000    May         5           2256             159           22   \n",
       "        Jun         6          23257             172           43   \n",
       "        Jul         7          14016             340           47   \n",
       "        Aug         8          14070             408           52   \n",
       "        Sep         9          14581             466           58   \n",
       "\n",
       "               message_count       city tariff_name  messages_included  \\\n",
       "user_id month                                                            \n",
       "1000    May               22  Краснодар       ultra               1000   \n",
       "        Jun               60  Краснодар       ultra               1000   \n",
       "        Jul               75  Краснодар       ultra               1000   \n",
       "        Aug               81  Краснодар       ultra               1000   \n",
       "        Sep               57  Краснодар       ultra               1000   \n",
       "\n",
       "               mb_per_month_included  minutes_included  rub_monthly_fee  \\\n",
       "user_id month                                                             \n",
       "1000    May                    30720              3000             1950   \n",
       "        Jun                    30720              3000             1950   \n",
       "        Jul                    30720              3000             1950   \n",
       "        Aug                    30720              3000             1950   \n",
       "        Sep                    30720              3000             1950   \n",
       "\n",
       "               rub_per_gb  rub_per_message  rub_per_minute  \n",
       "user_id month                                               \n",
       "1000    May           150                1               1  \n",
       "        Jun           150                1               1  \n",
       "        Jul           150                1               1  \n",
       "        Aug           150                1               1  \n",
       "        Sep           150                1               1  "
      ]
     },
     "execution_count": 40,
     "metadata": {},
     "output_type": "execute_result"
    }
   ],
   "source": [
    "data.head()"
   ]
  },
  {
   "cell_type": "markdown",
   "metadata": {},
   "source": [
    "### Помесячная выручка\n",
    "\n",
    "Для получения помесячной выручки первым шагом определим превышение тарифного пакета: "
   ]
  },
  {
   "cell_type": "code",
   "execution_count": 41,
   "metadata": {},
   "outputs": [],
   "source": [
    "data['calls_cost'] = (data['calls_duration'] - data['minutes_included']) * data['rub_per_minute']\n",
    "data['message_cost'] = (data['message_count'] - data['messages_included']) * data['rub_per_message']\n",
    "data['internet_cost'] = (data['mb_used_total'] - data['mb_per_month_included'])/1024 * data['rub_per_gb']"
   ]
  },
  {
   "cell_type": "markdown",
   "metadata": {},
   "source": [
    "Данные способ вполне ожидаем генерирует отрицательные значения, которые означают, что потреблено было меньше, чем включено в пакет, в связи с этим, переплата за них отсуствует, и равна нулю"
   ]
  },
  {
   "cell_type": "code",
   "execution_count": 42,
   "metadata": {},
   "outputs": [],
   "source": [
    "data.loc[data['calls_cost'] < 0, 'calls_cost'] = 0\n",
    "data.loc[data['message_cost'] < 0, 'message_cost'] = 0\n",
    "data.loc[data['internet_cost'] < 0, 'internet_cost'] = 0"
   ]
  },
  {
   "cell_type": "markdown",
   "metadata": {},
   "source": [
    "Создаём колонку с заработком `gain`:"
   ]
  },
  {
   "cell_type": "code",
   "execution_count": 43,
   "metadata": {},
   "outputs": [],
   "source": [
    "data['gain'] = data['calls_cost'] + data['message_cost'] + data['internet_cost'] + data['rub_monthly_fee']"
   ]
  },
  {
   "cell_type": "markdown",
   "metadata": {},
   "source": [
    "Создаём DataFrame c без лишних сведений, для дальнешей работы"
   ]
  },
  {
   "cell_type": "code",
   "execution_count": 44,
   "metadata": {},
   "outputs": [],
   "source": [
    "result = data[['message_count', 'mb_used_total', 'calls_duration', 'calls_count', 'tariff_name', 'city', 'gain']].copy()"
   ]
  },
  {
   "cell_type": "code",
   "execution_count": 45,
   "metadata": {
    "scrolled": false
   },
   "outputs": [
    {
     "name": "stdout",
     "output_type": "stream",
     "text": [
      "<class 'pandas.core.frame.DataFrame'>\n",
      "MultiIndex: 3214 entries, (1000, 'May') to (1499, 'Dec')\n",
      "Data columns (total 7 columns):\n",
      " #   Column          Non-Null Count  Dtype  \n",
      "---  ------          --------------  -----  \n",
      " 0   message_count   3214 non-null   int64  \n",
      " 1   mb_used_total   3214 non-null   int64  \n",
      " 2   calls_duration  3214 non-null   int64  \n",
      " 3   calls_count     3214 non-null   int64  \n",
      " 4   tariff_name     3214 non-null   object \n",
      " 5   city            3214 non-null   object \n",
      " 6   gain            3214 non-null   float64\n",
      "dtypes: float64(1), int64(4), object(2)\n",
      "memory usage: 205.7+ KB\n"
     ]
    }
   ],
   "source": [
    "result.info()"
   ]
  },
  {
   "cell_type": "markdown",
   "metadata": {},
   "source": [
    "**Вывод**\n",
    "Данные подготовлены и готовы к анализу. Добавлена колонка с заработком на каждом клиенте по месяцам."
   ]
  },
  {
   "cell_type": "markdown",
   "metadata": {},
   "source": [
    "## Проанализируйте данные"
   ]
  },
  {
   "cell_type": "markdown",
   "metadata": {},
   "source": [
    "Опишите поведение клиентов оператора, исходя из выборки. Сколько минут разговора, сколько сообщений и какой объём интернет-трафика требуется пользователям каждого тарифа в месяц? Посчитайте среднее количество, дисперсию и стандартное отклонение. Постройте гистограммы. Опишите распределения."
   ]
  },
  {
   "cell_type": "markdown",
   "metadata": {},
   "source": [
    "Для определение средних значений и стандартных отклонений продолжительности разговора, количества сообщений и объёма трафика каждого из тарифов воспользуемся функцией `describe()` библиотеки Pandas. Нам нужны только строки 1 и 2 из вывода этой функции."
   ]
  },
  {
   "cell_type": "code",
   "execution_count": 46,
   "metadata": {
    "scrolled": true
   },
   "outputs": [],
   "source": [
    "mean_ultra = result.query(\"tariff_name == 'ultra'\").describe().iloc[[1,2]]"
   ]
  },
  {
   "cell_type": "code",
   "execution_count": 47,
   "metadata": {
    "scrolled": true
   },
   "outputs": [],
   "source": [
    "mean_smart = result.query(\"tariff_name == 'smart'\").describe().iloc[[1,2]]"
   ]
  },
  {
   "cell_type": "markdown",
   "metadata": {},
   "source": [
    "Дисперсия, следовательно, представляет собой квадрат от стандартного отклонения"
   ]
  },
  {
   "cell_type": "code",
   "execution_count": 48,
   "metadata": {},
   "outputs": [],
   "source": [
    "mean_ultra = mean_ultra.append((mean_ultra.loc['std']**2))\n",
    "mean_smart = mean_smart.append((mean_smart.loc['std']**2))\n",
    "mean_ultra.index = ['mean', 'std', 'var']\n",
    "mean_smart.index = ['mean', 'std', 'var']"
   ]
  },
  {
   "cell_type": "code",
   "execution_count": 49,
   "metadata": {},
   "outputs": [
    {
     "data": {
      "text/html": [
       "<div>\n",
       "<style scoped>\n",
       "    .dataframe tbody tr th:only-of-type {\n",
       "        vertical-align: middle;\n",
       "    }\n",
       "\n",
       "    .dataframe tbody tr th {\n",
       "        vertical-align: top;\n",
       "    }\n",
       "\n",
       "    .dataframe thead th {\n",
       "        text-align: right;\n",
       "    }\n",
       "</style>\n",
       "<table border=\"1\" class=\"dataframe\">\n",
       "  <thead>\n",
       "    <tr style=\"text-align: right;\">\n",
       "      <th></th>\n",
       "      <th>message_count</th>\n",
       "      <th>mb_used_total</th>\n",
       "      <th>calls_duration</th>\n",
       "      <th>calls_count</th>\n",
       "      <th>gain</th>\n",
       "    </tr>\n",
       "  </thead>\n",
       "  <tbody>\n",
       "    <tr>\n",
       "      <th>mean</th>\n",
       "      <td>49.36</td>\n",
       "      <td>19,486.90</td>\n",
       "      <td>526.62</td>\n",
       "      <td>73.39</td>\n",
       "      <td>2,060.53</td>\n",
       "    </tr>\n",
       "    <tr>\n",
       "      <th>std</th>\n",
       "      <td>47.80</td>\n",
       "      <td>10,096.32</td>\n",
       "      <td>317.61</td>\n",
       "      <td>43.92</td>\n",
       "      <td>356.31</td>\n",
       "    </tr>\n",
       "    <tr>\n",
       "      <th>var</th>\n",
       "      <td>2,285.27</td>\n",
       "      <td>101,935,621.05</td>\n",
       "      <td>100,873.63</td>\n",
       "      <td>1,928.69</td>\n",
       "      <td>126,953.29</td>\n",
       "    </tr>\n",
       "  </tbody>\n",
       "</table>\n",
       "</div>"
      ],
      "text/plain": [
       "      message_count  mb_used_total  calls_duration  calls_count       gain\n",
       "mean          49.36      19,486.90          526.62        73.39   2,060.53\n",
       "std           47.80      10,096.32          317.61        43.92     356.31\n",
       "var        2,285.27 101,935,621.05      100,873.63     1,928.69 126,953.29"
      ]
     },
     "execution_count": 49,
     "metadata": {},
     "output_type": "execute_result"
    }
   ],
   "source": [
    "mean_ultra"
   ]
  },
  {
   "cell_type": "code",
   "execution_count": 50,
   "metadata": {},
   "outputs": [
    {
     "data": {
      "text/html": [
       "<div>\n",
       "<style scoped>\n",
       "    .dataframe tbody tr th:only-of-type {\n",
       "        vertical-align: middle;\n",
       "    }\n",
       "\n",
       "    .dataframe tbody tr th {\n",
       "        vertical-align: top;\n",
       "    }\n",
       "\n",
       "    .dataframe thead th {\n",
       "        text-align: right;\n",
       "    }\n",
       "</style>\n",
       "<table border=\"1\" class=\"dataframe\">\n",
       "  <thead>\n",
       "    <tr style=\"text-align: right;\">\n",
       "      <th></th>\n",
       "      <th>message_count</th>\n",
       "      <th>mb_used_total</th>\n",
       "      <th>calls_duration</th>\n",
       "      <th>calls_count</th>\n",
       "      <th>gain</th>\n",
       "    </tr>\n",
       "  </thead>\n",
       "  <tbody>\n",
       "    <tr>\n",
       "      <th>mean</th>\n",
       "      <td>33.38</td>\n",
       "      <td>16,229.19</td>\n",
       "      <td>417.93</td>\n",
       "      <td>58.46</td>\n",
       "      <td>1,233.35</td>\n",
       "    </tr>\n",
       "    <tr>\n",
       "      <th>std</th>\n",
       "      <td>28.23</td>\n",
       "      <td>5,877.58</td>\n",
       "      <td>190.31</td>\n",
       "      <td>25.94</td>\n",
       "      <td>787.69</td>\n",
       "    </tr>\n",
       "    <tr>\n",
       "      <th>var</th>\n",
       "      <td>796.81</td>\n",
       "      <td>34,545,911.13</td>\n",
       "      <td>36,219.32</td>\n",
       "      <td>672.88</td>\n",
       "      <td>620,452.61</td>\n",
       "    </tr>\n",
       "  </tbody>\n",
       "</table>\n",
       "</div>"
      ],
      "text/plain": [
       "      message_count  mb_used_total  calls_duration  calls_count       gain\n",
       "mean          33.38      16,229.19          417.93        58.46   1,233.35\n",
       "std           28.23       5,877.58          190.31        25.94     787.69\n",
       "var          796.81  34,545,911.13       36,219.32       672.88 620,452.61"
      ]
     },
     "execution_count": 50,
     "metadata": {},
     "output_type": "execute_result"
    }
   ],
   "source": [
    "mean_smart"
   ]
  },
  {
   "cell_type": "markdown",
   "metadata": {},
   "source": [
    "Построим наглядный график заработка на клиентах по месяцам, на котором графически видны как средние значения (в районе 2000 для тарифа ***Ultra***, и в районе 1200 для тарифа ***Smart***), так и в два раза большее стандартное отклонение тарифа ***Smart***"
   ]
  },
  {
   "cell_type": "code",
   "execution_count": 51,
   "metadata": {
    "scrolled": false
   },
   "outputs": [
    {
     "data": {
      "image/png": "[encoded data removed]",
      "text/plain": [
       "<Figure size 1224x288 with 1 Axes>"
      ]
     },
     "metadata": {},
     "output_type": "display_data"
    }
   ],
   "source": [
    "sns.set(rc={'figure.figsize':(17,4)})\n",
    "months_order = ['Jan', 'Feb', 'Mar', 'Apr', 'May', 'Jun', \n",
    "             'Jul', 'Aug', 'Sep', 'Oct', 'Nov', 'Dec']\n",
    "\n",
    "ax = sns.barplot(\n",
    "    x=\"month\",\n",
    "    y=\"gain\",\n",
    "    hue=\"tariff_name\",\n",
    "    data=result.reset_index(),\n",
    "    order=months_order,\n",
    "    ci=\"sd\",  #отображение стандартного отклонения\n",
    "    alpha=0.5,\n",
    "    capsize=.1\n",
    ")\n",
    "\n",
    "ax.set_title('График среднего заработка на клиентах по месяцам')\n",
    "ax.set_xlabel(\"Месяц\")\n",
    "ax.set_ylabel(\"Средний доход, рублей\")\n",
    "plt.show()"
   ]
  },
  {
   "cell_type": "markdown",
   "metadata": {},
   "source": [
    "На графике **среднего заработка** видна разница между стоимостью тарифа ***Ultra*** и ***Smart***, которая соответсвует рассчитаным средним значениям.\n",
    "\n",
    "Основные сезонные колебания среднего дохода от клиента можно отследить по тарифу ***Smart***, как имеющего наименьшие тарифные пакеты, которые легче превысить:\n",
    "\n",
    "- Первые два месяца года люди довольно неохотно пользуются связью, и почти не выходят за границы пакетов, из чего можно предположить, что основные пользователи данных видов связи используют их по рабочим нуждам (начало года традиционно насыщенно нерабочими днями, которые не должны были повлиять на связь личную)\n",
    "- В ещё одно подтверждение теории об рабочем использованиии связи гласит и то, что больше всего трат (т.е. выходов за границы тарифного пакета) наблюдается в декабре.\n",
    "- Также наблюдается странное падение потребления в апреле, что довольно нелогично, так как апрель не имеет каких-либо характерных особенностей.\n",
    "\n",
    "---"
   ]
  },
  {
   "cell_type": "markdown",
   "metadata": {},
   "source": [
    "Также построим сравнительные графики потребления клиентами различных способов связи"
   ]
  },
  {
   "cell_type": "code",
   "execution_count": 52,
   "metadata": {},
   "outputs": [
    {
     "data": {
      "image/png": "[encoded data removed]",
      "text/plain": [
       "<Figure size 1224x288 with 1 Axes>"
      ]
     },
     "metadata": {},
     "output_type": "display_data"
    }
   ],
   "source": [
    "bx = sns.barplot(\n",
    "    x=\"month\",\n",
    "    y=\"message_count\",\n",
    "    hue=\"tariff_name\",\n",
    "    data=result.reset_index(),\n",
    "    order=months_order,\n",
    "    alpha=0.5,\n",
    ")\n",
    "\n",
    "bx.set_title('Сравнительный график потребления СМС на клиента в месяц')\n",
    "bx.set_xlabel(\"Месяц\")\n",
    "bx.set_ylabel(\"Среднее количество СМС, шт\")\n",
    "plt.show()"
   ]
  },
  {
   "cell_type": "markdown",
   "metadata": {},
   "source": [
    "**Потребление СМС** довольно разнообразно, и в среднем потребляется больше пользователями тарифа ***Ultra***.\n",
    "\n",
    "Основные сезонные колебания количества СМС:\n",
    "\n",
    "- Первый вывод аналогичен выводу по среднему заработку - первые два месяца года люди менее охотно пользуются связью, единственое отклонение - поведение пользователей тарифа ***Ultra***, с падением в феврале.\n",
    "- В среднем, всем пользователям достаточно было бы пакета СМС из тарифа ***Smart*** (50 штук), за исключением конца года.\n",
    "\n",
    "---"
   ]
  },
  {
   "cell_type": "code",
   "execution_count": 53,
   "metadata": {
    "scrolled": true
   },
   "outputs": [
    {
     "data": {
      "image/png": "[encoded data removed]",
      "text/plain": [
       "<Figure size 1224x288 with 1 Axes>"
      ]
     },
     "metadata": {},
     "output_type": "display_data"
    }
   ],
   "source": [
    "cx = sns.barplot(\n",
    "    x=\"month\",\n",
    "    y=\"mb_used_total\",\n",
    "    hue=\"tariff_name\",\n",
    "    data=result.reset_index(),\n",
    "    order=months_order,\n",
    "    alpha=0.5,\n",
    ")\n",
    "\n",
    "cx.set_title('Сравнительный график потребления трафика на клиента в месяц')\n",
    "cx.set_xlabel(\"Месяц\")\n",
    "cx.set_ylabel(\"Средний трафик, мегабайт\")\n",
    "plt.show()"
   ]
  },
  {
   "cell_type": "markdown",
   "metadata": {},
   "source": [
    "**Потребление трафика** довольно близко, несмотря на разницу в тарифах в два раза.\n",
    "\n",
    "В среднем, все пользователи стремятса к значению в 20 ГБайт трафика, что сильно меньше размера пакета тарифа ***Ultra*** (30 Гбайт) ,но больше пакета тарифа ***Smart*** (15 Гбайт).\n",
    "\n",
    "Основные сезонные колебания количества трафика:\n",
    "\n",
    "- В продолжение теории о рабочем назначении пользователей тарифа ***Smart*** напрашивается вывод о большем количестве использователей в личных целей со стороны пользователей тарифа ***Ultra*** (\"новогодние звонки и СМС\")\n",
    "\n",
    "---"
   ]
  },
  {
   "cell_type": "code",
   "execution_count": 54,
   "metadata": {
    "scrolled": true
   },
   "outputs": [
    {
     "data": {
      "image/png": "[encoded data removed]",
      "text/plain": [
       "<Figure size 1224x288 with 1 Axes>"
      ]
     },
     "metadata": {},
     "output_type": "display_data"
    }
   ],
   "source": [
    "dx = sns.barplot(\n",
    "    x=\"month\",\n",
    "    y=\"calls_duration\",\n",
    "    hue=\"tariff_name\",\n",
    "    data=result.reset_index(),\n",
    "    order=months_order,\n",
    "    alpha=0.5,\n",
    ")\n",
    "\n",
    "dx.set_title('Сравнительный график продолжительности звонков на клиента в месяц')\n",
    "dx.set_xlabel(\"Месяц\")\n",
    "dx.set_ylabel(\"Продолжительность звонка, минут\")\n",
    "plt.show()"
   ]
  },
  {
   "cell_type": "markdown",
   "metadata": {},
   "source": [
    "**Потребление звонков** также довольно близко, несмотря на разницу в тарифах в **шесть** раз.\n",
    "\n",
    "В среднем, все пользователи стремятса к значению в 550 минут звонков, что сильно меньше размера пакета тарифа ***Ultra*** (3000 минут),и почти совпадает с размерами пакета тарифа ***Smart*** (500 минут).\n",
    "\n",
    "В связи с этим необходимо оценить целесообразность уменьшения размеров включённых пакетов тарифа ***Smart*** в сторону уменьшения, к примеру до 350-400 минут.\n",
    "\n",
    "Выводы по потреблению звонков в зависимости от времени года, в общем, аналогичны выводам про потребление трафика. \n",
    "\n",
    "---"
   ]
  },
  {
   "cell_type": "markdown",
   "metadata": {},
   "source": [
    "Построим гистограммы дохода тарифов ***Ultra*** и ***Smart***."
   ]
  },
  {
   "cell_type": "code",
   "execution_count": 55,
   "metadata": {
    "scrolled": true
   },
   "outputs": [
    {
     "data": {
      "image/png": "[encoded data removed]",
      "text/plain": [
       "<Figure size 1224x288 with 1 Axes>"
      ]
     },
     "metadata": {},
     "output_type": "display_data"
    }
   ],
   "source": [
    "ultra_ax = result.query(\"tariff_name == 'ultra'\").plot(\n",
    "    kind='hist',\n",
    "    y='gain',\n",
    "    histtype='step',\n",
    "    bins=50,\n",
    "    linewidth=5,\n",
    "    color=\"g\",\n",
    "    alpha=0.7,\n",
    "    title='Гистограмма доходности',\n",
    "    grid=True,\n",
    "    figsize=(17,4)\n",
    ")\n",
    "smart_ax = result.query(\"tariff_name == 'smart'\").plot(\n",
    "    kind='hist',\n",
    "    y='gain',\n",
    "    histtype='step',\n",
    "    bins=50,\n",
    "    linewidth=5,\n",
    "    color=\"r\",\n",
    "    alpha=0.5,\n",
    "    ax=ultra_ax,\n",
    "    figsize=(17,4)\n",
    ")\n",
    "\n",
    "ultra_ax.set_xlabel(\"Средний доход с клиента, рублей.\") \n",
    "ultra_ax.set_ylabel(\"Частота значений\")\n",
    "ultra_ax.legend(['Тариф \"Ultra\"', 'Тариф \"Smart\"']) \n",
    "plt.show()"
   ]
  },
  {
   "cell_type": "markdown",
   "metadata": {},
   "source": [
    "Данные гистограммы подтверждают, чтоб чаще всего клиенты держаться в рамках стоимости тарифного плана, и не выходят за него, но пользователям тарифа ***Smart*** включенных в пакет способов связи недостаточно, в связи с чем они чаще выходят за его границы."
   ]
  },
  {
   "cell_type": "markdown",
   "metadata": {},
   "source": [
    "Проверим, насколько переплачивают пользователи тарифа ***Ultra***"
   ]
  },
  {
   "cell_type": "code",
   "execution_count": 56,
   "metadata": {},
   "outputs": [
    {
     "name": "stdout",
     "output_type": "stream",
     "text": [
      "5.67 %\n"
     ]
    }
   ],
   "source": [
    "print(\n",
    "    round(\n",
    "        (result.query(\"tariff_name == 'ultra'\")['gain'].mean() / tariffs_df.iloc[1]['rub_monthly_fee'] - 1)*100,\n",
    "        2), '%')"
   ]
  },
  {
   "cell_type": "markdown",
   "metadata": {},
   "source": [
    "... и тарифа ***Smart***"
   ]
  },
  {
   "cell_type": "code",
   "execution_count": 57,
   "metadata": {},
   "outputs": [
    {
     "name": "stdout",
     "output_type": "stream",
     "text": [
      "74.53 %\n"
     ]
    }
   ],
   "source": [
    "print(\n",
    "    round(\n",
    "        (result.query(\"tariff_name == 'smart'\")['gain'].median() / (tariffs_df.iloc[0]['rub_monthly_fee'])-1)*100,\n",
    "        2), '%')"
   ]
  },
  {
   "cell_type": "markdown",
   "metadata": {},
   "source": [
    "**Вывод**\n",
    "\n",
    "Выводы вполне однозначны, люди примущественно пользуются довольно сходным количеством трафика и минут звонков, что приводит к необходимости доплат со стороны пользователей тарифа ***Smart*** за превышения пакета."
   ]
  },
  {
   "cell_type": "markdown",
   "metadata": {},
   "source": [
    "## Проверьте гипотезы"
   ]
  },
  {
   "cell_type": "markdown",
   "metadata": {},
   "source": [
    "Произведём проверку двух гипотез о равенстве средних двух совокупностей:\n",
    "1. средняя выручка пользователей тарифов «Ультра» и «Смарт» различается;\n",
    "2. средняя выручка пользователей из Москвы отличается от выручки пользователей из других регионов;"
   ]
  },
  {
   "cell_type": "markdown",
   "metadata": {},
   "source": [
    "Установим значение критического уровня статистической значимости равное 5%"
   ]
  },
  {
   "cell_type": "code",
   "execution_count": 58,
   "metadata": {},
   "outputs": [],
   "source": [
    "alpha = 0.05"
   ]
  },
  {
   "cell_type": "markdown",
   "metadata": {},
   "source": [
    "Проверим гипотезы о средней выручке пользователей двух тарифов с использованием возможностей метода `scipy.stats.ttest_ind`. Значение `equal_var` установим как *False*, так как выборки отличаются.\n",
    "\n",
    "Нулевой гипотезой в данном случае станет \"Средняя выручка пользователей тарифов - одинакова\"\n",
    "\n",
    "Альтернативной же гипотезой будет \"Средняя выручка пользователей тарифов «Ультра» и «Смарт» различается\""
   ]
  },
  {
   "cell_type": "code",
   "execution_count": 59,
   "metadata": {
    "scrolled": true
   },
   "outputs": [
    {
     "name": "stdout",
     "output_type": "stream",
     "text": [
      "p-значение: 8.931402711366754e-296\n",
      "Отвергаем нулевую гипотезу, принимаем альтернативную.\n"
     ]
    }
   ],
   "source": [
    "profit_hypo = st.ttest_ind(\n",
    "    result.query(\"tariff_name == 'ultra'\")['gain'],\n",
    "    result.query(\"tariff_name == 'smart'\")['gain'],\n",
    "    equal_var = False)\n",
    " \n",
    "print('p-значение:', profit_hypo.pvalue)\n",
    " \n",
    "if profit_hypo.pvalue < alpha:\n",
    "    print('Отвергаем нулевую гипотезу, принимаем альтернативную.')\n",
    "else:\n",
    "    print('Не получилось отвергнуть нулевую гипотезу')"
   ]
  },
  {
   "cell_type": "markdown",
   "metadata": {},
   "source": [
    "Следовательно, принимаем альтернативную гипотезу, и предполагаем, что средняя выручка пользователей тарифов «Ультра» и «Смарт» различается."
   ]
  },
  {
   "cell_type": "markdown",
   "metadata": {},
   "source": [
    "___"
   ]
  },
  {
   "cell_type": "markdown",
   "metadata": {},
   "source": [
    "Проверим гипотезы о средней выручке пользователей различных населённых пунктов с использованием возможностей метода `scipy.stats.ttest_ind`. Значение `equal_var` установим как *True*, так как по сути пользуемся одной общей выборкой.\n",
    "\n",
    "Нулевой гипотезой в данном случае станет \"Средняя выручка пользователей из Москвы совпадает с средней выручкой от пользователей из других регионов\"\n",
    "\n",
    "Альтернативной же гипотезой будет \"Средняя выручка пользователей из Москвы отличается от выручки пользователей из других регионов\""
   ]
  },
  {
   "cell_type": "code",
   "execution_count": 60,
   "metadata": {
    "scrolled": true
   },
   "outputs": [
    {
     "name": "stdout",
     "output_type": "stream",
     "text": [
      "p-значение: 0.47443187631524797\n",
      "Не получилось отвергнуть нулевую гипотезу\n"
     ]
    }
   ],
   "source": [
    "city_hypo = st.ttest_ind(\n",
    "    result.query(\"city == 'Москва'\")['gain'],\n",
    "    result.query(\"city != 'Москва'\")['gain'],\n",
    "    equal_var = True)\n",
    " \n",
    "print('p-значение:', city_hypo.pvalue)\n",
    " \n",
    "if city_hypo.pvalue < alpha:\n",
    "    print('Отвергаем нулевую гипотезу')\n",
    "else:\n",
    "    print('Не получилось отвергнуть нулевую гипотезу')"
   ]
  },
  {
   "cell_type": "markdown",
   "metadata": {},
   "source": [
    "Следовательно, принимаем нулевую гипотезу, как основную, и делаем вывод, что средняя выручка пользователей из Москвы и других регионов - не отличается, а разное значение можно получить с вероятностью в 47% случайно."
   ]
  },
  {
   "cell_type": "markdown",
   "metadata": {},
   "source": [
    "## Общий вывод:"
   ]
  },
  {
   "cell_type": "markdown",
   "metadata": {},
   "source": [
    "Люди примущественно пользуются сходным количеством трафика и минут звонков, что приводит к необходимости доплат со стороны пользователей тарифа ***Smart*** за превышения пакета. Если выразить переплату в процентах, то она составляет 75% от базовой стоимости пакета.\n",
    "\n",
    "Хоть в асболютных значениях средняя плата за тариф ***Ultra*** и больше, но с точки зрения компании \"Мегалайн\" выгоднее является тариф ***Smart***, в связи с его *изначально* более низкой ценой,а следовательно, большей востребованности на рынке. (Людям свойственно покупать более дешёвые вещи, даже если их экспуалатция обойдётся дороже на дистанции).\n",
    "\n",
    "Проверка же гипотез показывает: \n",
    "- средняя выручка клиентов разных тарифов различается, что ожидаемо\n",
    "- выручка не зависит от места проживания клиента (Москва или другие регионы). "
   ]
  }
 ],
 "metadata": {
  "kernelspec": {
   "display_name": "Python 3",
   "language": "python",
   "name": "python3"
  },
  "language_info": {
   "codemirror_mode": {
    "name": "ipython",
    "version": 3
   },
   "file_extension": ".py",
   "mimetype": "text/x-python",
   "name": "python",
   "nbconvert_exporter": "python",
   "pygments_lexer": "ipython3",
   "version": "3.8.10"
  },
  "toc": {
   "base_numbering": 1,
   "nav_menu": {
    "height": "203px",
    "width": "463px"
   },
   "number_sections": true,
   "sideBar": true,
   "skip_h1_title": true,
   "title_cell": "Table of Contents",
   "title_sidebar": "Contents",
   "toc_cell": false,
   "toc_position": {},
   "toc_section_display": true,
   "toc_window_display": false
  }
 },
 "nbformat": 4,
 "nbformat_minor": 2
}
